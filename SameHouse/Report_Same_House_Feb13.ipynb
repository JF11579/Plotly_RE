{
  "nbformat": 4,
  "nbformat_minor": 0,
  "metadata": {
    "colab": {
      "provenance": [],
      "authorship_tag": "ABX9TyPkv421P4wKP12JPxCwEWqs",
      "include_colab_link": true
    },
    "kernelspec": {
      "name": "python3",
      "display_name": "Python 3"
    },
    "language_info": {
      "name": "python"
    }
  },
  "cells": [
    {
      "cell_type": "markdown",
      "metadata": {
        "id": "view-in-github",
        "colab_type": "text"
      },
      "source": [
        "<a href=\"https://colab.research.google.com/github/JF11579/Plotly_RE/blob/main/SameHouse/Report_Same_House_Feb13.ipynb\" target=\"_parent\"><img src=\"https://colab.research.google.com/assets/colab-badge.svg\" alt=\"Open In Colab\"/></a>"
      ]
    },
    {
      "cell_type": "markdown",
      "source": [
        "## first slope grpah\n",
        "\n",
        "## then towns slop graph\n",
        "\n",
        "## the styles within towns\n",
        "\n"
      ],
      "metadata": {
        "id": "4Vl7criND6fT"
      }
    },
    {
      "cell_type": "code",
      "execution_count": null,
      "metadata": {
        "id": "NWDhbtu4fWDx"
      },
      "outputs": [],
      "source": []
    }
  ]
}