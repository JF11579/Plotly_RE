{
  "nbformat": 4,
  "nbformat_minor": 0,
  "metadata": {
    "colab": {
      "provenance": [],
      "authorship_tag": "ABX9TyPfi26LxIWY5jiPRsqH8pHj",
      "include_colab_link": true
    },
    "kernelspec": {
      "name": "python3",
      "display_name": "Python 3"
    },
    "language_info": {
      "name": "python"
    }
  },
  "cells": [
    {
      "cell_type": "markdown",
      "metadata": {
        "id": "view-in-github",
        "colab_type": "text"
      },
      "source": [
        "<a href=\"https://colab.research.google.com/github/JF11579/Plotly_RE/blob/main/HomePrices_and_Home_Ins.ipynb\" target=\"_parent\"><img src=\"https://colab.research.google.com/assets/colab-badge.svg\" alt=\"Open In Colab\"/></a>"
      ]
    },
    {
      "cell_type": "markdown",
      "source": [
        "Treat this like a HW assignment.\n",
        "\n",
        "Home ins prices have gone up a lot.  Is that effecting the price of homes."
      ],
      "metadata": {
        "id": "rSRZ60DGLXtk"
      }
    },
    {
      "cell_type": "markdown",
      "source": [
        "Start with multi line chart showing:\n",
        "\n",
        "** household median incom, avg\n",
        "    Units:  2021 CPI-U-RS Adjusted Dollars, Not Seasonally Adjusted\n",
        "\n",
        "    https://fred.stlouisfed.org/series/MEHOINUSA672N\n",
        "\n",
        "    Title:  Real Median Household Income in the United States (MEHOINUSA672N)\n",
        "\n",
        "\n",
        "** avg homeowners ins.\n",
        "    PPI industry data for Direct property and casualty insurers-Homeowner's insurance, not seasonally adjusted\n",
        "\n",
        "    Base data 1998\n",
        "\n",
        "    https://data.bls.gov/pdq/SurveyOutputServlet\n",
        "\n",
        "\n",
        "** median home price\n",
        "  https://fred.stlouisfed.org/series/MSPUS\n",
        "  no price adjustment.  Nominal prices instead, current at that time.  do we apply CPI?\n",
        "\n",
        " **  HomeOwnership Rate\n",
        "\n",
        "    Title: Homeownership Rate for the United States (USHOWN)\n",
        "\n",
        "    https://fred.stlouisfed.org/series/USHOWN"
      ],
      "metadata": {
        "id": "8EZm5cC4UfFY"
      }
    },
    {
      "cell_type": "markdown",
      "source": [
        "Adjust data to common base year"
      ],
      "metadata": {
        "id": "ZyJ0QJzeffUH"
      }
    },
    {
      "cell_type": "markdown",
      "source": [
        "The WSJ article [Americans Are Bailing on Their Home Insurance](https://www.wsj.com/personal-finance/americans-are-bailing-on-their-home-insurance-e3395515?page=1) discusses the trend of Americans giving up on their homeowner's insurance as the cost prices steeply."
      ],
      "metadata": {
        "id": "e9yVn5CnmuWk"
      }
    },
    {
      "cell_type": "markdown",
      "source": [
        "# Notes"
      ],
      "metadata": {
        "id": "DO3RfiwQnlJb"
      }
    },
    {
      "cell_type": "markdown",
      "source": [
        "# Libraries"
      ],
      "metadata": {
        "id": "tZReGxLVnpFC"
      }
    },
    {
      "cell_type": "code",
      "source": [
        " pip install dash plotly\n"
      ],
      "metadata": {
        "id": "yPovUD01rZ-M",
        "colab": {
          "base_uri": "https://localhost:8080/"
        },
        "outputId": "6f8abd15-ff2b-4410-814f-e4745c457435"
      },
      "execution_count": 3,
      "outputs": [
        {
          "output_type": "stream",
          "name": "stdout",
          "text": [
            "Collecting dash\n",
            "  Downloading dash-2.13.0-py3-none-any.whl (10.4 MB)\n",
            "\u001b[2K     \u001b[90m━━━━━━━━━━━━━━━━━━━━━━━━━━━━━━━━━━━━━━━━\u001b[0m \u001b[32m10.4/10.4 MB\u001b[0m \u001b[31m24.5 MB/s\u001b[0m eta \u001b[36m0:00:00\u001b[0m\n",
            "\u001b[?25hRequirement already satisfied: plotly in /usr/local/lib/python3.10/dist-packages (5.15.0)\n",
            "Requirement already satisfied: Flask<2.3.0,>=1.0.4 in /usr/local/lib/python3.10/dist-packages (from dash) (2.2.5)\n",
            "Collecting Werkzeug<2.3.0 (from dash)\n",
            "  Downloading Werkzeug-2.2.3-py3-none-any.whl (233 kB)\n",
            "\u001b[2K     \u001b[90m━━━━━━━━━━━━━━━━━━━━━━━━━━━━━━━━━━━━━━\u001b[0m \u001b[32m233.6/233.6 kB\u001b[0m \u001b[31m26.6 MB/s\u001b[0m eta \u001b[36m0:00:00\u001b[0m\n",
            "\u001b[?25hCollecting dash-html-components==2.0.0 (from dash)\n",
            "  Downloading dash_html_components-2.0.0-py3-none-any.whl (4.1 kB)\n",
            "Collecting dash-core-components==2.0.0 (from dash)\n",
            "  Downloading dash_core_components-2.0.0-py3-none-any.whl (3.8 kB)\n",
            "Collecting dash-table==5.0.0 (from dash)\n",
            "  Downloading dash_table-5.0.0-py3-none-any.whl (3.9 kB)\n",
            "Requirement already satisfied: typing-extensions>=4.1.1 in /usr/local/lib/python3.10/dist-packages (from dash) (4.7.1)\n",
            "Requirement already satisfied: requests in /usr/local/lib/python3.10/dist-packages (from dash) (2.31.0)\n",
            "Collecting retrying (from dash)\n",
            "  Downloading retrying-1.3.4-py3-none-any.whl (11 kB)\n",
            "Collecting ansi2html (from dash)\n",
            "  Downloading ansi2html-1.8.0-py3-none-any.whl (16 kB)\n",
            "Requirement already satisfied: nest-asyncio in /usr/local/lib/python3.10/dist-packages (from dash) (1.5.7)\n",
            "Requirement already satisfied: setuptools in /usr/local/lib/python3.10/dist-packages (from dash) (67.7.2)\n",
            "Requirement already satisfied: tenacity>=6.2.0 in /usr/local/lib/python3.10/dist-packages (from plotly) (8.2.3)\n",
            "Requirement already satisfied: packaging in /usr/local/lib/python3.10/dist-packages (from plotly) (23.1)\n",
            "Requirement already satisfied: Jinja2>=3.0 in /usr/local/lib/python3.10/dist-packages (from Flask<2.3.0,>=1.0.4->dash) (3.1.2)\n",
            "Requirement already satisfied: itsdangerous>=2.0 in /usr/local/lib/python3.10/dist-packages (from Flask<2.3.0,>=1.0.4->dash) (2.1.2)\n",
            "Requirement already satisfied: click>=8.0 in /usr/local/lib/python3.10/dist-packages (from Flask<2.3.0,>=1.0.4->dash) (8.1.7)\n",
            "Requirement already satisfied: MarkupSafe>=2.1.1 in /usr/local/lib/python3.10/dist-packages (from Werkzeug<2.3.0->dash) (2.1.3)\n",
            "Requirement already satisfied: charset-normalizer<4,>=2 in /usr/local/lib/python3.10/dist-packages (from requests->dash) (3.2.0)\n",
            "Requirement already satisfied: idna<4,>=2.5 in /usr/local/lib/python3.10/dist-packages (from requests->dash) (3.4)\n",
            "Requirement already satisfied: urllib3<3,>=1.21.1 in /usr/local/lib/python3.10/dist-packages (from requests->dash) (2.0.4)\n",
            "Requirement already satisfied: certifi>=2017.4.17 in /usr/local/lib/python3.10/dist-packages (from requests->dash) (2023.7.22)\n",
            "Requirement already satisfied: six>=1.7.0 in /usr/local/lib/python3.10/dist-packages (from retrying->dash) (1.16.0)\n",
            "Installing collected packages: dash-table, dash-html-components, dash-core-components, Werkzeug, retrying, ansi2html, dash\n",
            "  Attempting uninstall: Werkzeug\n",
            "    Found existing installation: Werkzeug 2.3.7\n",
            "    Uninstalling Werkzeug-2.3.7:\n",
            "      Successfully uninstalled Werkzeug-2.3.7\n",
            "Successfully installed Werkzeug-2.2.3 ansi2html-1.8.0 dash-2.13.0 dash-core-components-2.0.0 dash-html-components-2.0.0 dash-table-5.0.0 retrying-1.3.4\n"
          ]
        }
      ]
    },
    {
      "cell_type": "code",
      "source": [
        "pip install matplotlib"
      ],
      "metadata": {
        "colab": {
          "base_uri": "https://localhost:8080/"
        },
        "id": "XPpy6GxyoWdv",
        "outputId": "03935193-a305-4eaf-c460-5dfe2febd42f"
      },
      "execution_count": 26,
      "outputs": [
        {
          "output_type": "stream",
          "name": "stdout",
          "text": [
            "Requirement already satisfied: matplotlib in /usr/local/lib/python3.10/dist-packages (3.7.1)\n",
            "Requirement already satisfied: contourpy>=1.0.1 in /usr/local/lib/python3.10/dist-packages (from matplotlib) (1.1.0)\n",
            "Requirement already satisfied: cycler>=0.10 in /usr/local/lib/python3.10/dist-packages (from matplotlib) (0.11.0)\n",
            "Requirement already satisfied: fonttools>=4.22.0 in /usr/local/lib/python3.10/dist-packages (from matplotlib) (4.42.1)\n",
            "Requirement already satisfied: kiwisolver>=1.0.1 in /usr/local/lib/python3.10/dist-packages (from matplotlib) (1.4.4)\n",
            "Requirement already satisfied: numpy>=1.20 in /usr/local/lib/python3.10/dist-packages (from matplotlib) (1.23.5)\n",
            "Requirement already satisfied: packaging>=20.0 in /usr/local/lib/python3.10/dist-packages (from matplotlib) (23.1)\n",
            "Requirement already satisfied: pillow>=6.2.0 in /usr/local/lib/python3.10/dist-packages (from matplotlib) (9.4.0)\n",
            "Requirement already satisfied: pyparsing>=2.3.1 in /usr/local/lib/python3.10/dist-packages (from matplotlib) (3.1.1)\n",
            "Requirement already satisfied: python-dateutil>=2.7 in /usr/local/lib/python3.10/dist-packages (from matplotlib) (2.8.2)\n",
            "Requirement already satisfied: six>=1.5 in /usr/local/lib/python3.10/dist-packages (from python-dateutil>=2.7->matplotlib) (1.16.0)\n"
          ]
        }
      ]
    },
    {
      "cell_type": "code",
      "source": [
        "import matplotlib.pyplot as plt\n",
        "import pandas as pd\n",
        "from google.colab import drive\n",
        "import dash\n",
        "import dash_core_components as dcc\n",
        "import dash_html_components as html\n",
        "from dash.dependencies import Input, Output\n",
        "import plotly.graph_objs as go"
      ],
      "metadata": {
        "id": "VVmK-35erZyq"
      },
      "execution_count": 27,
      "outputs": []
    },
    {
      "cell_type": "markdown",
      "source": [
        "# Data"
      ],
      "metadata": {
        "id": "7iHd7Fp4nuM5"
      }
    },
    {
      "cell_type": "code",
      "source": [
        "\n",
        "\n",
        "drive.mount('/content/drive')\n",
        "# Change to the directory containing your CSV\n",
        "%cd /content/drive/MyDrive/DATA/HomeOwnershipData\n",
        "file_path = 'Home_Ins_Cost.txt'\n",
        "Home_Insurance_Cost= pd.read_csv(file_path ,delimiter=',')\n",
        "Home_Insurance_Cost.head()"
      ],
      "metadata": {
        "id": "Pn6OV4Bkx4r3",
        "colab": {
          "base_uri": "https://localhost:8080/",
          "height": 242
        },
        "outputId": "39ce290e-f41a-4c61-a1ea-d4098f49cd8a"
      },
      "execution_count": 28,
      "outputs": [
        {
          "output_type": "stream",
          "name": "stdout",
          "text": [
            "Drive already mounted at /content/drive; to attempt to forcibly remount, call drive.mount(\"/content/drive\", force_remount=True).\n",
            "/content/drive/MyDrive/DATA/HomeOwnershipData\n"
          ]
        },
        {
          "output_type": "execute_result",
          "data": {
            "text/plain": [
              "   Year    Jan    Feb    Mar    Apr    May    Jun    Jul    Aug    Sep    Oct  \\\n",
              "0  1998                                     100.0  100.1  100.4  100.6  101.1   \n",
              "1  1999  101.9  101.9  102.2  102.3  102.7  102.9  103.3  103.5  103.7  104.1   \n",
              "2  2000  104.6  104.9  105.0  105.5  106.0  106.7  107.1  107.4  108.0  108.1   \n",
              "3  2001  109.4  110.4  110.7  110.7  111.3  111.5  112.0  112.3  112.6  113.3   \n",
              "4  2002  114.5  114.8  115.5  116.0  116.1  117.1  118.4  118.9  119.9  122.0   \n",
              "\n",
              "     Nov    Dec Annual  \n",
              "0  101.2  101.5         \n",
              "1  104.2  104.3  103.1  \n",
              "2  108.2  108.5  106.7  \n",
              "3  113.8  114.0  111.8  \n",
              "4  123.6  124.0  118.4  "
            ],
            "text/html": [
              "\n",
              "  <div id=\"df-33c2c522-9277-477b-9e70-6a5351ee4e85\" class=\"colab-df-container\">\n",
              "    <div>\n",
              "<style scoped>\n",
              "    .dataframe tbody tr th:only-of-type {\n",
              "        vertical-align: middle;\n",
              "    }\n",
              "\n",
              "    .dataframe tbody tr th {\n",
              "        vertical-align: top;\n",
              "    }\n",
              "\n",
              "    .dataframe thead th {\n",
              "        text-align: right;\n",
              "    }\n",
              "</style>\n",
              "<table border=\"1\" class=\"dataframe\">\n",
              "  <thead>\n",
              "    <tr style=\"text-align: right;\">\n",
              "      <th></th>\n",
              "      <th>Year</th>\n",
              "      <th>Jan</th>\n",
              "      <th>Feb</th>\n",
              "      <th>Mar</th>\n",
              "      <th>Apr</th>\n",
              "      <th>May</th>\n",
              "      <th>Jun</th>\n",
              "      <th>Jul</th>\n",
              "      <th>Aug</th>\n",
              "      <th>Sep</th>\n",
              "      <th>Oct</th>\n",
              "      <th>Nov</th>\n",
              "      <th>Dec</th>\n",
              "      <th>Annual</th>\n",
              "    </tr>\n",
              "  </thead>\n",
              "  <tbody>\n",
              "    <tr>\n",
              "      <th>0</th>\n",
              "      <td>1998</td>\n",
              "      <td></td>\n",
              "      <td></td>\n",
              "      <td></td>\n",
              "      <td></td>\n",
              "      <td></td>\n",
              "      <td>100.0</td>\n",
              "      <td>100.1</td>\n",
              "      <td>100.4</td>\n",
              "      <td>100.6</td>\n",
              "      <td>101.1</td>\n",
              "      <td>101.2</td>\n",
              "      <td>101.5</td>\n",
              "      <td></td>\n",
              "    </tr>\n",
              "    <tr>\n",
              "      <th>1</th>\n",
              "      <td>1999</td>\n",
              "      <td>101.9</td>\n",
              "      <td>101.9</td>\n",
              "      <td>102.2</td>\n",
              "      <td>102.3</td>\n",
              "      <td>102.7</td>\n",
              "      <td>102.9</td>\n",
              "      <td>103.3</td>\n",
              "      <td>103.5</td>\n",
              "      <td>103.7</td>\n",
              "      <td>104.1</td>\n",
              "      <td>104.2</td>\n",
              "      <td>104.3</td>\n",
              "      <td>103.1</td>\n",
              "    </tr>\n",
              "    <tr>\n",
              "      <th>2</th>\n",
              "      <td>2000</td>\n",
              "      <td>104.6</td>\n",
              "      <td>104.9</td>\n",
              "      <td>105.0</td>\n",
              "      <td>105.5</td>\n",
              "      <td>106.0</td>\n",
              "      <td>106.7</td>\n",
              "      <td>107.1</td>\n",
              "      <td>107.4</td>\n",
              "      <td>108.0</td>\n",
              "      <td>108.1</td>\n",
              "      <td>108.2</td>\n",
              "      <td>108.5</td>\n",
              "      <td>106.7</td>\n",
              "    </tr>\n",
              "    <tr>\n",
              "      <th>3</th>\n",
              "      <td>2001</td>\n",
              "      <td>109.4</td>\n",
              "      <td>110.4</td>\n",
              "      <td>110.7</td>\n",
              "      <td>110.7</td>\n",
              "      <td>111.3</td>\n",
              "      <td>111.5</td>\n",
              "      <td>112.0</td>\n",
              "      <td>112.3</td>\n",
              "      <td>112.6</td>\n",
              "      <td>113.3</td>\n",
              "      <td>113.8</td>\n",
              "      <td>114.0</td>\n",
              "      <td>111.8</td>\n",
              "    </tr>\n",
              "    <tr>\n",
              "      <th>4</th>\n",
              "      <td>2002</td>\n",
              "      <td>114.5</td>\n",
              "      <td>114.8</td>\n",
              "      <td>115.5</td>\n",
              "      <td>116.0</td>\n",
              "      <td>116.1</td>\n",
              "      <td>117.1</td>\n",
              "      <td>118.4</td>\n",
              "      <td>118.9</td>\n",
              "      <td>119.9</td>\n",
              "      <td>122.0</td>\n",
              "      <td>123.6</td>\n",
              "      <td>124.0</td>\n",
              "      <td>118.4</td>\n",
              "    </tr>\n",
              "  </tbody>\n",
              "</table>\n",
              "</div>\n",
              "    <div class=\"colab-df-buttons\">\n",
              "\n",
              "  <div class=\"colab-df-container\">\n",
              "    <button class=\"colab-df-convert\" onclick=\"convertToInteractive('df-33c2c522-9277-477b-9e70-6a5351ee4e85')\"\n",
              "            title=\"Convert this dataframe to an interactive table.\"\n",
              "            style=\"display:none;\">\n",
              "\n",
              "  <svg xmlns=\"http://www.w3.org/2000/svg\" height=\"24px\" viewBox=\"0 -960 960 960\">\n",
              "    <path d=\"M120-120v-720h720v720H120Zm60-500h600v-160H180v160Zm220 220h160v-160H400v160Zm0 220h160v-160H400v160ZM180-400h160v-160H180v160Zm440 0h160v-160H620v160ZM180-180h160v-160H180v160Zm440 0h160v-160H620v160Z\"/>\n",
              "  </svg>\n",
              "    </button>\n",
              "\n",
              "  <style>\n",
              "    .colab-df-container {\n",
              "      display:flex;\n",
              "      gap: 12px;\n",
              "    }\n",
              "\n",
              "    .colab-df-convert {\n",
              "      background-color: #E8F0FE;\n",
              "      border: none;\n",
              "      border-radius: 50%;\n",
              "      cursor: pointer;\n",
              "      display: none;\n",
              "      fill: #1967D2;\n",
              "      height: 32px;\n",
              "      padding: 0 0 0 0;\n",
              "      width: 32px;\n",
              "    }\n",
              "\n",
              "    .colab-df-convert:hover {\n",
              "      background-color: #E2EBFA;\n",
              "      box-shadow: 0px 1px 2px rgba(60, 64, 67, 0.3), 0px 1px 3px 1px rgba(60, 64, 67, 0.15);\n",
              "      fill: #174EA6;\n",
              "    }\n",
              "\n",
              "    .colab-df-buttons div {\n",
              "      margin-bottom: 4px;\n",
              "    }\n",
              "\n",
              "    [theme=dark] .colab-df-convert {\n",
              "      background-color: #3B4455;\n",
              "      fill: #D2E3FC;\n",
              "    }\n",
              "\n",
              "    [theme=dark] .colab-df-convert:hover {\n",
              "      background-color: #434B5C;\n",
              "      box-shadow: 0px 1px 3px 1px rgba(0, 0, 0, 0.15);\n",
              "      filter: drop-shadow(0px 1px 2px rgba(0, 0, 0, 0.3));\n",
              "      fill: #FFFFFF;\n",
              "    }\n",
              "  </style>\n",
              "\n",
              "    <script>\n",
              "      const buttonEl =\n",
              "        document.querySelector('#df-33c2c522-9277-477b-9e70-6a5351ee4e85 button.colab-df-convert');\n",
              "      buttonEl.style.display =\n",
              "        google.colab.kernel.accessAllowed ? 'block' : 'none';\n",
              "\n",
              "      async function convertToInteractive(key) {\n",
              "        const element = document.querySelector('#df-33c2c522-9277-477b-9e70-6a5351ee4e85');\n",
              "        const dataTable =\n",
              "          await google.colab.kernel.invokeFunction('convertToInteractive',\n",
              "                                                    [key], {});\n",
              "        if (!dataTable) return;\n",
              "\n",
              "        const docLinkHtml = 'Like what you see? Visit the ' +\n",
              "          '<a target=\"_blank\" href=https://colab.research.google.com/notebooks/data_table.ipynb>data table notebook</a>'\n",
              "          + ' to learn more about interactive tables.';\n",
              "        element.innerHTML = '';\n",
              "        dataTable['output_type'] = 'display_data';\n",
              "        await google.colab.output.renderOutput(dataTable, element);\n",
              "        const docLink = document.createElement('div');\n",
              "        docLink.innerHTML = docLinkHtml;\n",
              "        element.appendChild(docLink);\n",
              "      }\n",
              "    </script>\n",
              "  </div>\n",
              "\n",
              "\n",
              "<div id=\"df-af21706c-0b91-439b-82e8-382cb7553457\">\n",
              "  <button class=\"colab-df-quickchart\" onclick=\"quickchart('df-af21706c-0b91-439b-82e8-382cb7553457')\"\n",
              "            title=\"Suggest charts.\"\n",
              "            style=\"display:none;\">\n",
              "\n",
              "<svg xmlns=\"http://www.w3.org/2000/svg\" height=\"24px\"viewBox=\"0 0 24 24\"\n",
              "     width=\"24px\">\n",
              "    <g>\n",
              "        <path d=\"M19 3H5c-1.1 0-2 .9-2 2v14c0 1.1.9 2 2 2h14c1.1 0 2-.9 2-2V5c0-1.1-.9-2-2-2zM9 17H7v-7h2v7zm4 0h-2V7h2v10zm4 0h-2v-4h2v4z\"/>\n",
              "    </g>\n",
              "</svg>\n",
              "  </button>\n",
              "\n",
              "<style>\n",
              "  .colab-df-quickchart {\n",
              "    background-color: #E8F0FE;\n",
              "    border: none;\n",
              "    border-radius: 50%;\n",
              "    cursor: pointer;\n",
              "    display: none;\n",
              "    fill: #1967D2;\n",
              "    height: 32px;\n",
              "    padding: 0 0 0 0;\n",
              "    width: 32px;\n",
              "  }\n",
              "\n",
              "  .colab-df-quickchart:hover {\n",
              "    background-color: #E2EBFA;\n",
              "    box-shadow: 0px 1px 2px rgba(60, 64, 67, 0.3), 0px 1px 3px 1px rgba(60, 64, 67, 0.15);\n",
              "    fill: #174EA6;\n",
              "  }\n",
              "\n",
              "  [theme=dark] .colab-df-quickchart {\n",
              "    background-color: #3B4455;\n",
              "    fill: #D2E3FC;\n",
              "  }\n",
              "\n",
              "  [theme=dark] .colab-df-quickchart:hover {\n",
              "    background-color: #434B5C;\n",
              "    box-shadow: 0px 1px 3px 1px rgba(0, 0, 0, 0.15);\n",
              "    filter: drop-shadow(0px 1px 2px rgba(0, 0, 0, 0.3));\n",
              "    fill: #FFFFFF;\n",
              "  }\n",
              "</style>\n",
              "\n",
              "  <script>\n",
              "    async function quickchart(key) {\n",
              "      const charts = await google.colab.kernel.invokeFunction(\n",
              "          'suggestCharts', [key], {});\n",
              "    }\n",
              "    (() => {\n",
              "      let quickchartButtonEl =\n",
              "        document.querySelector('#df-af21706c-0b91-439b-82e8-382cb7553457 button');\n",
              "      quickchartButtonEl.style.display =\n",
              "        google.colab.kernel.accessAllowed ? 'block' : 'none';\n",
              "    })();\n",
              "  </script>\n",
              "</div>\n",
              "\n",
              "    </div>\n",
              "  </div>\n"
            ]
          },
          "metadata": {},
          "execution_count": 28
        }
      ]
    },
    {
      "cell_type": "code",
      "source": [
        "Home_Insurance_Cost.info()"
      ],
      "metadata": {
        "id": "ftFyuFgqEYqj",
        "colab": {
          "base_uri": "https://localhost:8080/"
        },
        "outputId": "3bcd7e19-5eb6-4de0-bc81-e04d08299e5e"
      },
      "execution_count": 29,
      "outputs": [
        {
          "output_type": "stream",
          "name": "stdout",
          "text": [
            "<class 'pandas.core.frame.DataFrame'>\n",
            "RangeIndex: 25 entries, 0 to 24\n",
            "Data columns (total 14 columns):\n",
            " #   Column  Non-Null Count  Dtype  \n",
            "---  ------  --------------  -----  \n",
            " 0   Year    25 non-null     int64  \n",
            " 1   Jan     25 non-null     object \n",
            " 2   Feb     25 non-null     object \n",
            " 3   Mar     25 non-null     object \n",
            " 4   Apr     25 non-null     object \n",
            " 5   May     25 non-null     object \n",
            " 6   Jun     25 non-null     float64\n",
            " 7   Jul     25 non-null     float64\n",
            " 8   Aug     25 non-null     float64\n",
            " 9   Sep     25 non-null     float64\n",
            " 10  Oct     25 non-null     float64\n",
            " 11  Nov     25 non-null     float64\n",
            " 12  Dec     25 non-null     float64\n",
            " 13  Annual  25 non-null     object \n",
            "dtypes: float64(7), int64(1), object(6)\n",
            "memory usage: 2.9+ KB\n"
          ]
        }
      ]
    },
    {
      "cell_type": "code",
      "source": [
        "HomeOwnershipRates = pd.read_csv('HomeownershipRates.csv')\n",
        "HomeOwnershipRates.head(3)"
      ],
      "metadata": {
        "id": "Q3BNgZJHsZR9",
        "colab": {
          "base_uri": "https://localhost:8080/",
          "height": 143
        },
        "outputId": "93b2b5a2-c46e-4d2b-99d7-883b7d2019e3"
      },
      "execution_count": 30,
      "outputs": [
        {
          "output_type": "execute_result",
          "data": {
            "text/plain": [
              "         DATE  USHOWN\n",
              "0  1984-01-01    64.5\n",
              "1  1985-01-01    63.9\n",
              "2  1986-01-01    63.8"
            ],
            "text/html": [
              "\n",
              "  <div id=\"df-cb1b6445-9e54-4f64-af5e-1be96ed8becc\" class=\"colab-df-container\">\n",
              "    <div>\n",
              "<style scoped>\n",
              "    .dataframe tbody tr th:only-of-type {\n",
              "        vertical-align: middle;\n",
              "    }\n",
              "\n",
              "    .dataframe tbody tr th {\n",
              "        vertical-align: top;\n",
              "    }\n",
              "\n",
              "    .dataframe thead th {\n",
              "        text-align: right;\n",
              "    }\n",
              "</style>\n",
              "<table border=\"1\" class=\"dataframe\">\n",
              "  <thead>\n",
              "    <tr style=\"text-align: right;\">\n",
              "      <th></th>\n",
              "      <th>DATE</th>\n",
              "      <th>USHOWN</th>\n",
              "    </tr>\n",
              "  </thead>\n",
              "  <tbody>\n",
              "    <tr>\n",
              "      <th>0</th>\n",
              "      <td>1984-01-01</td>\n",
              "      <td>64.5</td>\n",
              "    </tr>\n",
              "    <tr>\n",
              "      <th>1</th>\n",
              "      <td>1985-01-01</td>\n",
              "      <td>63.9</td>\n",
              "    </tr>\n",
              "    <tr>\n",
              "      <th>2</th>\n",
              "      <td>1986-01-01</td>\n",
              "      <td>63.8</td>\n",
              "    </tr>\n",
              "  </tbody>\n",
              "</table>\n",
              "</div>\n",
              "    <div class=\"colab-df-buttons\">\n",
              "\n",
              "  <div class=\"colab-df-container\">\n",
              "    <button class=\"colab-df-convert\" onclick=\"convertToInteractive('df-cb1b6445-9e54-4f64-af5e-1be96ed8becc')\"\n",
              "            title=\"Convert this dataframe to an interactive table.\"\n",
              "            style=\"display:none;\">\n",
              "\n",
              "  <svg xmlns=\"http://www.w3.org/2000/svg\" height=\"24px\" viewBox=\"0 -960 960 960\">\n",
              "    <path d=\"M120-120v-720h720v720H120Zm60-500h600v-160H180v160Zm220 220h160v-160H400v160Zm0 220h160v-160H400v160ZM180-400h160v-160H180v160Zm440 0h160v-160H620v160ZM180-180h160v-160H180v160Zm440 0h160v-160H620v160Z\"/>\n",
              "  </svg>\n",
              "    </button>\n",
              "\n",
              "  <style>\n",
              "    .colab-df-container {\n",
              "      display:flex;\n",
              "      gap: 12px;\n",
              "    }\n",
              "\n",
              "    .colab-df-convert {\n",
              "      background-color: #E8F0FE;\n",
              "      border: none;\n",
              "      border-radius: 50%;\n",
              "      cursor: pointer;\n",
              "      display: none;\n",
              "      fill: #1967D2;\n",
              "      height: 32px;\n",
              "      padding: 0 0 0 0;\n",
              "      width: 32px;\n",
              "    }\n",
              "\n",
              "    .colab-df-convert:hover {\n",
              "      background-color: #E2EBFA;\n",
              "      box-shadow: 0px 1px 2px rgba(60, 64, 67, 0.3), 0px 1px 3px 1px rgba(60, 64, 67, 0.15);\n",
              "      fill: #174EA6;\n",
              "    }\n",
              "\n",
              "    .colab-df-buttons div {\n",
              "      margin-bottom: 4px;\n",
              "    }\n",
              "\n",
              "    [theme=dark] .colab-df-convert {\n",
              "      background-color: #3B4455;\n",
              "      fill: #D2E3FC;\n",
              "    }\n",
              "\n",
              "    [theme=dark] .colab-df-convert:hover {\n",
              "      background-color: #434B5C;\n",
              "      box-shadow: 0px 1px 3px 1px rgba(0, 0, 0, 0.15);\n",
              "      filter: drop-shadow(0px 1px 2px rgba(0, 0, 0, 0.3));\n",
              "      fill: #FFFFFF;\n",
              "    }\n",
              "  </style>\n",
              "\n",
              "    <script>\n",
              "      const buttonEl =\n",
              "        document.querySelector('#df-cb1b6445-9e54-4f64-af5e-1be96ed8becc button.colab-df-convert');\n",
              "      buttonEl.style.display =\n",
              "        google.colab.kernel.accessAllowed ? 'block' : 'none';\n",
              "\n",
              "      async function convertToInteractive(key) {\n",
              "        const element = document.querySelector('#df-cb1b6445-9e54-4f64-af5e-1be96ed8becc');\n",
              "        const dataTable =\n",
              "          await google.colab.kernel.invokeFunction('convertToInteractive',\n",
              "                                                    [key], {});\n",
              "        if (!dataTable) return;\n",
              "\n",
              "        const docLinkHtml = 'Like what you see? Visit the ' +\n",
              "          '<a target=\"_blank\" href=https://colab.research.google.com/notebooks/data_table.ipynb>data table notebook</a>'\n",
              "          + ' to learn more about interactive tables.';\n",
              "        element.innerHTML = '';\n",
              "        dataTable['output_type'] = 'display_data';\n",
              "        await google.colab.output.renderOutput(dataTable, element);\n",
              "        const docLink = document.createElement('div');\n",
              "        docLink.innerHTML = docLinkHtml;\n",
              "        element.appendChild(docLink);\n",
              "      }\n",
              "    </script>\n",
              "  </div>\n",
              "\n",
              "\n",
              "    </div>\n",
              "  </div>\n"
            ]
          },
          "metadata": {},
          "execution_count": 30
        }
      ]
    },
    {
      "cell_type": "code",
      "source": [
        "HouseholdMedianIncome = pd.read_csv('HouseholdMedianIncome.csv')\n",
        "HouseholdMedianIncome.head(3)"
      ],
      "metadata": {
        "id": "ZWOv-t6GvbJF",
        "colab": {
          "base_uri": "https://localhost:8080/",
          "height": 143
        },
        "outputId": "0bc7adc3-2ae4-4b75-8d7d-d27e3438a142"
      },
      "execution_count": 31,
      "outputs": [
        {
          "output_type": "execute_result",
          "data": {
            "text/plain": [
              "         DATE  MEHOINUSA672N\n",
              "0  2008-01-01          63455\n",
              "1  2009-01-01          63011\n",
              "2  2010-01-01          61364"
            ],
            "text/html": [
              "\n",
              "  <div id=\"df-15757901-c3a7-4719-a056-779c0087be6a\" class=\"colab-df-container\">\n",
              "    <div>\n",
              "<style scoped>\n",
              "    .dataframe tbody tr th:only-of-type {\n",
              "        vertical-align: middle;\n",
              "    }\n",
              "\n",
              "    .dataframe tbody tr th {\n",
              "        vertical-align: top;\n",
              "    }\n",
              "\n",
              "    .dataframe thead th {\n",
              "        text-align: right;\n",
              "    }\n",
              "</style>\n",
              "<table border=\"1\" class=\"dataframe\">\n",
              "  <thead>\n",
              "    <tr style=\"text-align: right;\">\n",
              "      <th></th>\n",
              "      <th>DATE</th>\n",
              "      <th>MEHOINUSA672N</th>\n",
              "    </tr>\n",
              "  </thead>\n",
              "  <tbody>\n",
              "    <tr>\n",
              "      <th>0</th>\n",
              "      <td>2008-01-01</td>\n",
              "      <td>63455</td>\n",
              "    </tr>\n",
              "    <tr>\n",
              "      <th>1</th>\n",
              "      <td>2009-01-01</td>\n",
              "      <td>63011</td>\n",
              "    </tr>\n",
              "    <tr>\n",
              "      <th>2</th>\n",
              "      <td>2010-01-01</td>\n",
              "      <td>61364</td>\n",
              "    </tr>\n",
              "  </tbody>\n",
              "</table>\n",
              "</div>\n",
              "    <div class=\"colab-df-buttons\">\n",
              "\n",
              "  <div class=\"colab-df-container\">\n",
              "    <button class=\"colab-df-convert\" onclick=\"convertToInteractive('df-15757901-c3a7-4719-a056-779c0087be6a')\"\n",
              "            title=\"Convert this dataframe to an interactive table.\"\n",
              "            style=\"display:none;\">\n",
              "\n",
              "  <svg xmlns=\"http://www.w3.org/2000/svg\" height=\"24px\" viewBox=\"0 -960 960 960\">\n",
              "    <path d=\"M120-120v-720h720v720H120Zm60-500h600v-160H180v160Zm220 220h160v-160H400v160Zm0 220h160v-160H400v160ZM180-400h160v-160H180v160Zm440 0h160v-160H620v160ZM180-180h160v-160H180v160Zm440 0h160v-160H620v160Z\"/>\n",
              "  </svg>\n",
              "    </button>\n",
              "\n",
              "  <style>\n",
              "    .colab-df-container {\n",
              "      display:flex;\n",
              "      gap: 12px;\n",
              "    }\n",
              "\n",
              "    .colab-df-convert {\n",
              "      background-color: #E8F0FE;\n",
              "      border: none;\n",
              "      border-radius: 50%;\n",
              "      cursor: pointer;\n",
              "      display: none;\n",
              "      fill: #1967D2;\n",
              "      height: 32px;\n",
              "      padding: 0 0 0 0;\n",
              "      width: 32px;\n",
              "    }\n",
              "\n",
              "    .colab-df-convert:hover {\n",
              "      background-color: #E2EBFA;\n",
              "      box-shadow: 0px 1px 2px rgba(60, 64, 67, 0.3), 0px 1px 3px 1px rgba(60, 64, 67, 0.15);\n",
              "      fill: #174EA6;\n",
              "    }\n",
              "\n",
              "    .colab-df-buttons div {\n",
              "      margin-bottom: 4px;\n",
              "    }\n",
              "\n",
              "    [theme=dark] .colab-df-convert {\n",
              "      background-color: #3B4455;\n",
              "      fill: #D2E3FC;\n",
              "    }\n",
              "\n",
              "    [theme=dark] .colab-df-convert:hover {\n",
              "      background-color: #434B5C;\n",
              "      box-shadow: 0px 1px 3px 1px rgba(0, 0, 0, 0.15);\n",
              "      filter: drop-shadow(0px 1px 2px rgba(0, 0, 0, 0.3));\n",
              "      fill: #FFFFFF;\n",
              "    }\n",
              "  </style>\n",
              "\n",
              "    <script>\n",
              "      const buttonEl =\n",
              "        document.querySelector('#df-15757901-c3a7-4719-a056-779c0087be6a button.colab-df-convert');\n",
              "      buttonEl.style.display =\n",
              "        google.colab.kernel.accessAllowed ? 'block' : 'none';\n",
              "\n",
              "      async function convertToInteractive(key) {\n",
              "        const element = document.querySelector('#df-15757901-c3a7-4719-a056-779c0087be6a');\n",
              "        const dataTable =\n",
              "          await google.colab.kernel.invokeFunction('convertToInteractive',\n",
              "                                                    [key], {});\n",
              "        if (!dataTable) return;\n",
              "\n",
              "        const docLinkHtml = 'Like what you see? Visit the ' +\n",
              "          '<a target=\"_blank\" href=https://colab.research.google.com/notebooks/data_table.ipynb>data table notebook</a>'\n",
              "          + ' to learn more about interactive tables.';\n",
              "        element.innerHTML = '';\n",
              "        dataTable['output_type'] = 'display_data';\n",
              "        await google.colab.output.renderOutput(dataTable, element);\n",
              "        const docLink = document.createElement('div');\n",
              "        docLink.innerHTML = docLinkHtml;\n",
              "        element.appendChild(docLink);\n",
              "      }\n",
              "    </script>\n",
              "  </div>\n",
              "\n",
              "\n",
              "    </div>\n",
              "  </div>\n"
            ]
          },
          "metadata": {},
          "execution_count": 31
        }
      ]
    },
    {
      "cell_type": "code",
      "source": [
        "US_MedianHomePrice = pd.read_csv('US_MedianHomePrice.csv')\n",
        "US_MedianHomePrice.head(3)"
      ],
      "metadata": {
        "id": "K9I7DjGCvvaR",
        "colab": {
          "base_uri": "https://localhost:8080/",
          "height": 143
        },
        "outputId": "8935cf88-7d2f-4a1c-b104-4e25d9249f8a"
      },
      "execution_count": 32,
      "outputs": [
        {
          "output_type": "execute_result",
          "data": {
            "text/plain": [
              "         DATE  MSPUS\n",
              "0  1963-01-01  17800\n",
              "1  1963-04-01  18000\n",
              "2  1963-07-01  17900"
            ],
            "text/html": [
              "\n",
              "  <div id=\"df-a710bdc6-9329-4c45-9527-a52694ed3ec1\" class=\"colab-df-container\">\n",
              "    <div>\n",
              "<style scoped>\n",
              "    .dataframe tbody tr th:only-of-type {\n",
              "        vertical-align: middle;\n",
              "    }\n",
              "\n",
              "    .dataframe tbody tr th {\n",
              "        vertical-align: top;\n",
              "    }\n",
              "\n",
              "    .dataframe thead th {\n",
              "        text-align: right;\n",
              "    }\n",
              "</style>\n",
              "<table border=\"1\" class=\"dataframe\">\n",
              "  <thead>\n",
              "    <tr style=\"text-align: right;\">\n",
              "      <th></th>\n",
              "      <th>DATE</th>\n",
              "      <th>MSPUS</th>\n",
              "    </tr>\n",
              "  </thead>\n",
              "  <tbody>\n",
              "    <tr>\n",
              "      <th>0</th>\n",
              "      <td>1963-01-01</td>\n",
              "      <td>17800</td>\n",
              "    </tr>\n",
              "    <tr>\n",
              "      <th>1</th>\n",
              "      <td>1963-04-01</td>\n",
              "      <td>18000</td>\n",
              "    </tr>\n",
              "    <tr>\n",
              "      <th>2</th>\n",
              "      <td>1963-07-01</td>\n",
              "      <td>17900</td>\n",
              "    </tr>\n",
              "  </tbody>\n",
              "</table>\n",
              "</div>\n",
              "    <div class=\"colab-df-buttons\">\n",
              "\n",
              "  <div class=\"colab-df-container\">\n",
              "    <button class=\"colab-df-convert\" onclick=\"convertToInteractive('df-a710bdc6-9329-4c45-9527-a52694ed3ec1')\"\n",
              "            title=\"Convert this dataframe to an interactive table.\"\n",
              "            style=\"display:none;\">\n",
              "\n",
              "  <svg xmlns=\"http://www.w3.org/2000/svg\" height=\"24px\" viewBox=\"0 -960 960 960\">\n",
              "    <path d=\"M120-120v-720h720v720H120Zm60-500h600v-160H180v160Zm220 220h160v-160H400v160Zm0 220h160v-160H400v160ZM180-400h160v-160H180v160Zm440 0h160v-160H620v160ZM180-180h160v-160H180v160Zm440 0h160v-160H620v160Z\"/>\n",
              "  </svg>\n",
              "    </button>\n",
              "\n",
              "  <style>\n",
              "    .colab-df-container {\n",
              "      display:flex;\n",
              "      gap: 12px;\n",
              "    }\n",
              "\n",
              "    .colab-df-convert {\n",
              "      background-color: #E8F0FE;\n",
              "      border: none;\n",
              "      border-radius: 50%;\n",
              "      cursor: pointer;\n",
              "      display: none;\n",
              "      fill: #1967D2;\n",
              "      height: 32px;\n",
              "      padding: 0 0 0 0;\n",
              "      width: 32px;\n",
              "    }\n",
              "\n",
              "    .colab-df-convert:hover {\n",
              "      background-color: #E2EBFA;\n",
              "      box-shadow: 0px 1px 2px rgba(60, 64, 67, 0.3), 0px 1px 3px 1px rgba(60, 64, 67, 0.15);\n",
              "      fill: #174EA6;\n",
              "    }\n",
              "\n",
              "    .colab-df-buttons div {\n",
              "      margin-bottom: 4px;\n",
              "    }\n",
              "\n",
              "    [theme=dark] .colab-df-convert {\n",
              "      background-color: #3B4455;\n",
              "      fill: #D2E3FC;\n",
              "    }\n",
              "\n",
              "    [theme=dark] .colab-df-convert:hover {\n",
              "      background-color: #434B5C;\n",
              "      box-shadow: 0px 1px 3px 1px rgba(0, 0, 0, 0.15);\n",
              "      filter: drop-shadow(0px 1px 2px rgba(0, 0, 0, 0.3));\n",
              "      fill: #FFFFFF;\n",
              "    }\n",
              "  </style>\n",
              "\n",
              "    <script>\n",
              "      const buttonEl =\n",
              "        document.querySelector('#df-a710bdc6-9329-4c45-9527-a52694ed3ec1 button.colab-df-convert');\n",
              "      buttonEl.style.display =\n",
              "        google.colab.kernel.accessAllowed ? 'block' : 'none';\n",
              "\n",
              "      async function convertToInteractive(key) {\n",
              "        const element = document.querySelector('#df-a710bdc6-9329-4c45-9527-a52694ed3ec1');\n",
              "        const dataTable =\n",
              "          await google.colab.kernel.invokeFunction('convertToInteractive',\n",
              "                                                    [key], {});\n",
              "        if (!dataTable) return;\n",
              "\n",
              "        const docLinkHtml = 'Like what you see? Visit the ' +\n",
              "          '<a target=\"_blank\" href=https://colab.research.google.com/notebooks/data_table.ipynb>data table notebook</a>'\n",
              "          + ' to learn more about interactive tables.';\n",
              "        element.innerHTML = '';\n",
              "        dataTable['output_type'] = 'display_data';\n",
              "        await google.colab.output.renderOutput(dataTable, element);\n",
              "        const docLink = document.createElement('div');\n",
              "        docLink.innerHTML = docLinkHtml;\n",
              "        element.appendChild(docLink);\n",
              "      }\n",
              "    </script>\n",
              "  </div>\n",
              "\n",
              "\n",
              "    </div>\n",
              "  </div>\n"
            ]
          },
          "metadata": {},
          "execution_count": 32
        }
      ]
    },
    {
      "cell_type": "markdown",
      "source": [
        "## Data Clean-Up\n",
        "\n",
        "* Drop the month and date\n",
        "\n",
        "* get all in same data range\n",
        "\n",
        "* figure out the different scales\n",
        "\n"
      ],
      "metadata": {
        "id": "YBBGwL81wI6p"
      }
    },
    {
      "cell_type": "code",
      "source": [
        "#HomeOwnershipRates\n",
        "#HomeOwnershipRates.head(3)"
      ],
      "metadata": {
        "id": "ch07LrTK9uVu"
      },
      "execution_count": 33,
      "outputs": []
    },
    {
      "cell_type": "code",
      "source": [
        "# prompt: I ahve a dolumn called Date with data like this 1984-01-01 and am only intersted in the year.  How do I drop the month and day from the column?\n",
        "\n",
        "HomeOwnershipRates['DATE'] = HomeOwnershipRates['DATE'].map(lambda x: x[:4])\n",
        "# HouseholdMedianIncome\n",
        "HouseholdMedianIncome['DATE'] = HouseholdMedianIncome['DATE'].map(lambda x: x[:4])\n",
        "US_MedianHomePrice['DATE'] = US_MedianHomePrice['DATE'].map(lambda x: x[:4])"
      ],
      "metadata": {
        "id": "FnNoL_r-01u7"
      },
      "execution_count": 34,
      "outputs": []
    },
    {
      "cell_type": "code",
      "source": [
        "#HomeownershipRates.head(3)\n"
      ],
      "metadata": {
        "id": "iGeCsQUV1X4E"
      },
      "execution_count": 35,
      "outputs": []
    },
    {
      "cell_type": "code",
      "source": [
        "# HouseholdMedianIncome\n",
        "#HouseholdMedianIncome['DATE'] = HouseholdMedianIncome['DATE'].map(lambda x: x[:4])"
      ],
      "metadata": {
        "id": "Sxc7gPSu1dkB"
      },
      "execution_count": 36,
      "outputs": []
    },
    {
      "cell_type": "code",
      "source": [
        "#HouseholdMedianIncome.head()"
      ],
      "metadata": {
        "id": "yl3YJb5i1dbH"
      },
      "execution_count": 37,
      "outputs": []
    },
    {
      "cell_type": "code",
      "source": [
        "# US_MedianHomePrice\n",
        "#US_MedianHomePrice['DATE'] = US_MedianHomePrice['DATE'].map(lambda x: x[:4])"
      ],
      "metadata": {
        "id": "0seKGh7f1dRM"
      },
      "execution_count": 38,
      "outputs": []
    },
    {
      "cell_type": "code",
      "source": [
        "#US_MedianHomePrice.head(3)"
      ],
      "metadata": {
        "id": "wQIUBEop2tBc"
      },
      "execution_count": 39,
      "outputs": []
    },
    {
      "cell_type": "markdown",
      "source": [
        "## Lets rename all of the DATE cols to YEAR"
      ],
      "metadata": {
        "id": "k1xskIbL20L6"
      }
    },
    {
      "cell_type": "code",
      "source": [
        "# prompt: how do i rename the DATE column in HomeownershipRates to year? Home_Insurance_Cost\n",
        "Home_Insurance_Cost.rename(columns={'Year': 'YEAR'}, inplace=True)\n",
        "HomeOwnershipRates.rename(columns={'DATE': 'YEAR'}, inplace=True)\n",
        "HouseholdMedianIncome.rename(columns={'DATE': 'YEAR'}, inplace=True)\n",
        "US_MedianHomePrice.rename(columns={'DATE': 'YEAR'}, inplace=True)\n"
      ],
      "metadata": {
        "id": "hpflMZsO25UB"
      },
      "execution_count": 40,
      "outputs": []
    },
    {
      "cell_type": "markdown",
      "source": [
        "## Our  household Medain Income Dataset starts only in 2008 so we willl limit the other datasets to this as well"
      ],
      "metadata": {
        "id": "5n1MC2wI0ijr"
      }
    },
    {
      "cell_type": "markdown",
      "source": [
        "## First convert all YEAR columns to integers"
      ],
      "metadata": {
        "id": "4yt2jqH27Ayk"
      }
    },
    {
      "cell_type": "code",
      "source": [
        "# prompt: in the HomeownershipRates dataframe how do I convert the YEAR column to integer\n",
        "\n",
        "Home_Insurance_Cost['YEAR'] = Home_Insurance_Cost['YEAR'].astype(int)\n",
        "HomeOwnershipRates['YEAR'] = HomeOwnershipRates['YEAR'].astype(int)\n",
        "HouseholdMedianIncome['YEAR'] = HouseholdMedianIncome['YEAR'].astype(int)\n",
        "US_MedianHomePrice['YEAR'] = US_MedianHomePrice['YEAR'].astype(int)"
      ],
      "metadata": {
        "id": "q8z4kr6Q7Gr6"
      },
      "execution_count": 41,
      "outputs": []
    },
    {
      "cell_type": "code",
      "source": [
        "# prompt: how do i limit date for HomeownershipRates starting in the Year 2008?\n",
        "\n",
        "Home_Insurance_Cost = Home_Insurance_Cost[Home_Insurance_Cost['YEAR'] >= 2008]\n",
        "HomeOwnershipRates = HomeOwnershipRates[HomeOwnershipRates['YEAR'] >= 2008]\n",
        "US_MedianHomePrice = US_MedianHomePrice[US_MedianHomePrice['YEAR'] >= 2008]\n",
        "\n",
        "# HomeownershipRates.head(3)"
      ],
      "metadata": {
        "id": "0D6pATjN0q0z"
      },
      "execution_count": 42,
      "outputs": []
    },
    {
      "cell_type": "code",
      "source": [
        "###"
      ],
      "metadata": {
        "id": "Ae54raK-gNhv"
      },
      "execution_count": 43,
      "outputs": []
    },
    {
      "cell_type": "code",
      "source": [
        "import dash\n",
        "import dash_core_components as dcc\n",
        "import dash_html_components as html\n",
        "from dash.dependencies import Input, Output\n",
        "import plotly.graph_objs as go\n",
        "\n",
        "app = dash.Dash(__name__)\n",
        "\n",
        "# Assuming you have four DataFrames: Home_Insurance_Cost, HomeOwnershipRates, HouseholdMedianIncome, US_MedianHomePrice\n",
        "# Replace these with your actual DataFrames and column names\n",
        "# Home_Insurance_Cost = ...\n",
        "# HomeOwnershipRates = ...\n",
        "# HouseholdMedianIncome = ...\n",
        "# US_MedianHomePrice = ...\n",
        "\n",
        "app.layout = html.Div([\n",
        "    dcc.Graph(id='multi-line-graph'),\n",
        "])\n",
        "\n",
        "@app.callback(\n",
        "    Output('multi-line-graph', 'figure'),\n",
        "    Input('multi-line-graph', 'hoverData')  # Add hoverData as an Input\n",
        ")\n",
        "def update_graph(hoverData):\n",
        "    traces = []\n",
        "\n",
        "    # Add traces for each DataFrame\n",
        "    y_values = Home_Insurance_Cost['Annual'].to_list()\n",
        "    traces.append(go.Scatter(x=Home_Insurance_Cost['YEAR'], y=y_values, mode='lines', name='Data Set 1'))\n",
        "\n",
        "    y_values = HomeOwnershipRates['USHOWN'].to_list()\n",
        "    traces.append(go.Scatter(x=HomeOwnershipRates['YEAR'], y=y_values, mode='lines', name='Data Set 2'))\n",
        "\n",
        "    y_values = HouseholdMedianIncome['MEHOINUSA672N'].to_list()\n",
        "    traces.append(go.Scatter(x=HouseholdMedianIncome['YEAR'], y=y_values, mode='lines', name='Data Set 3'))\n",
        "\n",
        "    y_values = US_MedianHomePrice['MSPUS'].to_list()\n",
        "    traces.append(go.Scatter(x=US_MedianHomePrice['YEAR'], y=y_values, mode='lines', name='Data Set 4'))\n",
        "\n",
        "    layout = go.Layout(\n",
        "        title='Multi-Line Graph',\n",
        "        xaxis={'title': 'Years'},\n",
        "        yaxis={'title': 'Price'},\n",
        "        hovermode='closest'\n",
        "    )\n",
        "\n",
        "    return {'data': traces, 'layout': layout}\n",
        "\n",
        "if __name__ == '__main__':\n",
        "    app.run_server(debug=True)\n"
      ],
      "metadata": {
        "colab": {
          "base_uri": "https://localhost:8080/",
          "height": 671
        },
        "id": "YtniGEY4r7n-",
        "outputId": "a0d004bb-7be1-42d4-ee91-0e38edbac041"
      },
      "execution_count": 54,
      "outputs": [
        {
          "output_type": "display_data",
          "data": {
            "text/plain": [
              "<IPython.core.display.Javascript object>"
            ],
            "application/javascript": [
              "(async (port, path, width, height, cache, element) => {\n",
              "    if (!google.colab.kernel.accessAllowed && !cache) {\n",
              "      return;\n",
              "    }\n",
              "    element.appendChild(document.createTextNode(''));\n",
              "    const url = await google.colab.kernel.proxyPort(port, {cache});\n",
              "    const iframe = document.createElement('iframe');\n",
              "    iframe.src = new URL(path, url).toString();\n",
              "    iframe.height = height;\n",
              "    iframe.width = width;\n",
              "    iframe.style.border = 0;\n",
              "    iframe.allow = [\n",
              "        'accelerometer',\n",
              "        'autoplay',\n",
              "        'camera',\n",
              "        'clipboard-read',\n",
              "        'clipboard-write',\n",
              "        'gyroscope',\n",
              "        'magnetometer',\n",
              "        'microphone',\n",
              "        'serial',\n",
              "        'usb',\n",
              "        'xr-spatial-tracking',\n",
              "    ].join('; ');\n",
              "    element.appendChild(iframe);\n",
              "  })(8050, \"/\", \"100%\", 650, false, window.element)"
            ]
          },
          "metadata": {}
        }
      ]
    },
    {
      "cell_type": "code",
      "source": [],
      "metadata": {
        "id": "w21BvZRor7lU"
      },
      "execution_count": null,
      "outputs": []
    },
    {
      "cell_type": "code",
      "source": [],
      "metadata": {
        "id": "YMQ2VPsVr7iB"
      },
      "execution_count": null,
      "outputs": []
    },
    {
      "cell_type": "code",
      "source": [],
      "metadata": {
        "id": "v4Y3Vamer7fA"
      },
      "execution_count": null,
      "outputs": []
    },
    {
      "cell_type": "code",
      "source": [
        "import dash\n",
        "import dash_core_components as dcc\n",
        "import dash_html_components as html\n",
        "from dash.dependencies import Output\n",
        "import plotly.graph_objs as go\n",
        "\n",
        "app = dash.Dash(__name__)\n",
        "\n",
        "# Assuming you have four DataFrames: Home_Insurance_Cost, HomeOwnershipRates, HouseholdMedianIncome, US_MedianHomePrice\n",
        "# Replace these with your actual DataFrames and column names\n",
        "# Home_Insurance_Cost = ...\n",
        "# HomeOwnershipRates = ...\n",
        "# HouseholdMedianIncome = ...\n",
        "# US_MedianHomePrice = ...\n",
        "\n",
        "app.layout = html.Div([\n",
        "    dcc.Graph(id='multi-line-graph'),\n",
        "])\n",
        "\n",
        "@app.callback(\n",
        "    Output('multi-line-graph', 'figure'),\n",
        ")\n",
        "def update_graph():\n",
        "    traces = []\n",
        "\n",
        "    # Add traces for each DataFrame\n",
        "    y_values = Home_Insurance_Cost['Annual'].to_list()\n",
        "    traces.append(go.Scatter(x=Home_Insurance_Cost['YEAR'], y=y_values, mode='lines', name='Data Set 1'))\n",
        "\n",
        "    y_values = HomeOwnershipRates['USHOWN'].to_list()\n",
        "    traces.append(go.Scatter(x=HomeOwnershipRates['YEAR'], y=y_values, mode='lines', name='Data Set 2'))\n",
        "\n",
        "    y_values = HouseholdMedianIncome['MEHOINUSA672N'].to_list()\n",
        "    traces.append(go.Scatter(x=HouseholdMedianIncome['YEAR'], y=y_values, mode='lines', name='Data Set 3'))\n",
        "\n",
        "    y_values = US_MedianHomePrice['MSPUS'].to_list()\n",
        "    traces.append(go.Scatter(x=US_MedianHomePrice['YEAR'], y=y_values, mode='lines', name='Data Set 4'))\n",
        "\n",
        "    layout = go.Layout(\n",
        "        title='Multi-Line Graph',\n",
        "        xaxis={'title': 'Years'},\n",
        "        yaxis={'title': 'Price'},\n",
        "        hovermode='closest'\n",
        "    )\n",
        "\n",
        "    return {'data': traces, 'layout': layout}\n",
        "\n",
        "if __name__ == '__main__':\n",
        "    app.run_server(debug=True)\n"
      ],
      "metadata": {
        "colab": {
          "base_uri": "https://localhost:8080/",
          "height": 671
        },
        "id": "oyzbBQlLrtEj",
        "outputId": "4c509ced-e605-4b14-9966-46c1e79d6910"
      },
      "execution_count": 53,
      "outputs": [
        {
          "output_type": "display_data",
          "data": {
            "text/plain": [
              "<IPython.core.display.Javascript object>"
            ],
            "application/javascript": [
              "(async (port, path, width, height, cache, element) => {\n",
              "    if (!google.colab.kernel.accessAllowed && !cache) {\n",
              "      return;\n",
              "    }\n",
              "    element.appendChild(document.createTextNode(''));\n",
              "    const url = await google.colab.kernel.proxyPort(port, {cache});\n",
              "    const iframe = document.createElement('iframe');\n",
              "    iframe.src = new URL(path, url).toString();\n",
              "    iframe.height = height;\n",
              "    iframe.width = width;\n",
              "    iframe.style.border = 0;\n",
              "    iframe.allow = [\n",
              "        'accelerometer',\n",
              "        'autoplay',\n",
              "        'camera',\n",
              "        'clipboard-read',\n",
              "        'clipboard-write',\n",
              "        'gyroscope',\n",
              "        'magnetometer',\n",
              "        'microphone',\n",
              "        'serial',\n",
              "        'usb',\n",
              "        'xr-spatial-tracking',\n",
              "    ].join('; ');\n",
              "    element.appendChild(iframe);\n",
              "  })(8050, \"/\", \"100%\", 650, false, window.element)"
            ]
          },
          "metadata": {}
        }
      ]
    },
    {
      "cell_type": "code",
      "source": [
        "import dash\n",
        "import dash_core_components as dcc\n",
        "import dash_html_components as html\n",
        "from dash.dependencies import Input, Output\n",
        "import plotly.graph_objs as go\n",
        "\n",
        "app = dash.Dash(__name__)\n",
        "\n",
        "# Assuming you have four DataFrames: Home_Insurance_Cost, HomeOwnershipRates, HouseholdMedianIncome, US_MedianHomePrice\n",
        "# Replace these with your actual DataFrames and column names\n",
        "# Home_Insurance_Cost = ...\n",
        "# HomeOwnershipRates = ...\n",
        "# HouseholdMedianIncome = ...\n",
        "# US_MedianHomePrice = ...\n",
        "\n",
        "app.layout = html.Div([\n",
        "    dcc.Graph(id='multi-line-graph'),\n",
        "    dcc.Input(id='dummy-input', value='dummy-value', style={'display': 'none'})  # Dummy input\n",
        "])\n",
        "\n",
        "@app.callback(\n",
        "    Output('multi-line-graph', 'figure'),\n",
        "    Input('dummy-input', 'value')  # Add the dummy input here\n",
        ")\n",
        "def update_graph(dummy_input):\n",
        "    traces = []\n",
        "\n",
        "    # Add traces for each DataFrame\n",
        "    y_values = Home_Insurance_Cost['Annual'].to_list()\n",
        "    traces.append(go.Scatter(x=Home_Insurance_Cost['YEAR'], y=y_values, mode='lines', name='Data Set 1'))\n",
        "\n",
        "    y_values = HomeOwnershipRates['USHOWN'].to_list()\n",
        "    traces.append(go.Scatter(x=HomeOwnershipRates['YEAR'], y=y_values, mode='lines', name='Data Set 2'))\n",
        "\n",
        "    y_values = HouseholdMedianIncome['MEHOINUSA672N'].to_list()\n",
        "    traces.append(go.Scatter(x=HouseholdMedianIncome['YEAR'], y=y_values, mode='lines', name='Data Set 3'))\n",
        "\n",
        "    y_values = US_MedianHomePrice['MSPUS'].to_list()\n",
        "    traces.append(go.Scatter(x=US_MedianHomePrice['YEAR'], y=y_values, mode='lines', name='Data Set 4'))\n",
        "\n",
        "    layout = go.Layout(\n",
        "        title='Multi-Line Graph',\n",
        "        xaxis={'title': 'Years'},\n",
        "        yaxis={'title': 'Price'},\n",
        "        hovermode='closest'\n",
        "    )\n",
        "\n",
        "    return {'data': traces, 'layout': layout}\n",
        "\n",
        "if __name__ == '__main__':\n",
        "    app.run_server(debug=True)\n"
      ],
      "metadata": {
        "colab": {
          "base_uri": "https://localhost:8080/",
          "height": 671
        },
        "id": "vPllVJHUq_6G",
        "outputId": "70a606f6-40d9-4668-bed4-8173cab72c00"
      },
      "execution_count": 52,
      "outputs": [
        {
          "output_type": "display_data",
          "data": {
            "text/plain": [
              "<IPython.core.display.Javascript object>"
            ],
            "application/javascript": [
              "(async (port, path, width, height, cache, element) => {\n",
              "    if (!google.colab.kernel.accessAllowed && !cache) {\n",
              "      return;\n",
              "    }\n",
              "    element.appendChild(document.createTextNode(''));\n",
              "    const url = await google.colab.kernel.proxyPort(port, {cache});\n",
              "    const iframe = document.createElement('iframe');\n",
              "    iframe.src = new URL(path, url).toString();\n",
              "    iframe.height = height;\n",
              "    iframe.width = width;\n",
              "    iframe.style.border = 0;\n",
              "    iframe.allow = [\n",
              "        'accelerometer',\n",
              "        'autoplay',\n",
              "        'camera',\n",
              "        'clipboard-read',\n",
              "        'clipboard-write',\n",
              "        'gyroscope',\n",
              "        'magnetometer',\n",
              "        'microphone',\n",
              "        'serial',\n",
              "        'usb',\n",
              "        'xr-spatial-tracking',\n",
              "    ].join('; ');\n",
              "    element.appendChild(iframe);\n",
              "  })(8050, \"/\", \"100%\", 650, false, window.element)"
            ]
          },
          "metadata": {}
        }
      ]
    },
    {
      "cell_type": "code",
      "source": [],
      "metadata": {
        "id": "8I9W1NCdq_1q"
      },
      "execution_count": null,
      "outputs": []
    },
    {
      "cell_type": "code",
      "source": [
        "\n",
        "# not\n",
        "import dash\n",
        "import dash_core_components as dcc\n",
        "import dash_html_components as html\n",
        "from dash.dependencies import Output\n",
        "import plotly.graph_objs as go\n",
        "\n",
        "app = dash.Dash(__name__)\n",
        "\n",
        "# Assuming you have four DataFrames: Home_Insurance_Cost, HomeOwnershipRates, HouseholdMedianIncome, US_MedianHomePrice\n",
        "# Replace these with your actual DataFrames and column names\n",
        "# Home_Insurance_Cost = ...\n",
        "# HomeOwnershipRates = ...\n",
        "# HouseholdMedianIncome = ...\n",
        "# US_MedianHomePrice = ...\n",
        "\n",
        "app.layout = html.Div([\n",
        "    dcc.Graph(id='multi-line-graph'),\n",
        "])\n",
        "\n",
        "@app.callback(\n",
        "    Output('multi-line-graph', 'figure'),\n",
        ")\n",
        "def update_graph():\n",
        "    traces = []\n",
        "\n",
        "    # Add traces for each DataFrame\n",
        "    y_values = Home_Insurance_Cost['Annual'].to_list()\n",
        "    traces.append(go.Scatter(x=Home_Insurance_Cost['YEAR'], y=y_values, mode='lines', name='Data Set 1'))\n",
        "\n",
        "    y_values = HomeOwnershipRates['USHOWN'].to_list()\n",
        "    traces.append(go.Scatter(x=HomeOwnershipRates['YEAR'], y=y_values, mode='lines', name='Data Set 2'))\n",
        "\n",
        "    y_values = HouseholdMedianIncome['MEHOINUSA672N'].to_list()\n",
        "    traces.append(go.Scatter(x=HouseholdMedianIncome['YEAR'], y=y_values, mode='lines', name='Data Set 3'))\n",
        "\n",
        "    y_values = US_MedianHomePrice['MSPUS'].to_list()\n",
        "    traces.append(go.Scatter(x=US_MedianHomePrice['YEAR'], y=y_values, mode='lines', name='Data Set 4'))\n",
        "\n",
        "    layout = go.Layout(\n",
        "        title='Multi-Line Graph',\n",
        "        xaxis={'title': 'Years'},\n",
        "        yaxis={'title': 'Price'},\n",
        "        hovermode='closest'\n",
        "    )\n",
        "\n",
        "    return {'data': traces, 'layout': layout}\n",
        "\n",
        "if __name__ == '__main__':\n",
        "    app.run_server(debug=True)\n"
      ],
      "metadata": {
        "colab": {
          "base_uri": "https://localhost:8080/",
          "height": 671
        },
        "id": "yWV3WrnnqmT7",
        "outputId": "3d59ae67-ac5d-4e31-f69c-7840a2ea10f0"
      },
      "execution_count": 51,
      "outputs": [
        {
          "output_type": "display_data",
          "data": {
            "text/plain": [
              "<IPython.core.display.Javascript object>"
            ],
            "application/javascript": [
              "(async (port, path, width, height, cache, element) => {\n",
              "    if (!google.colab.kernel.accessAllowed && !cache) {\n",
              "      return;\n",
              "    }\n",
              "    element.appendChild(document.createTextNode(''));\n",
              "    const url = await google.colab.kernel.proxyPort(port, {cache});\n",
              "    const iframe = document.createElement('iframe');\n",
              "    iframe.src = new URL(path, url).toString();\n",
              "    iframe.height = height;\n",
              "    iframe.width = width;\n",
              "    iframe.style.border = 0;\n",
              "    iframe.allow = [\n",
              "        'accelerometer',\n",
              "        'autoplay',\n",
              "        'camera',\n",
              "        'clipboard-read',\n",
              "        'clipboard-write',\n",
              "        'gyroscope',\n",
              "        'magnetometer',\n",
              "        'microphone',\n",
              "        'serial',\n",
              "        'usb',\n",
              "        'xr-spatial-tracking',\n",
              "    ].join('; ');\n",
              "    element.appendChild(iframe);\n",
              "  })(8050, \"/\", \"100%\", 650, false, window.element)"
            ]
          },
          "metadata": {}
        }
      ]
    },
    {
      "cell_type": "code",
      "source": [],
      "metadata": {
        "id": "CXGsKZhHqmQK"
      },
      "execution_count": null,
      "outputs": []
    },
    {
      "cell_type": "code",
      "source": [],
      "metadata": {
        "id": "Kx5-IPMqqmMy"
      },
      "execution_count": null,
      "outputs": []
    },
    {
      "cell_type": "code",
      "source": [
        "# not\n",
        "import dash\n",
        "import dash_core_components as dcc\n",
        "import dash_html_components as html\n",
        "from dash.dependencies import Input, Output\n",
        "import plotly.graph_objs as go\n",
        "\n",
        "app = dash.Dash(__name__)\n",
        "\n",
        "# Assuming you have four DataFrames: df1, df2, df3, df4\n",
        "# Replace these with your actual DataFrames and column names\n",
        "# df1 = ...\n",
        "# df2 = ...\n",
        "# df3 = ...\n",
        "# df4 = ...\n",
        "\n",
        "Home_Insurance_Cost = ...\n",
        "HomeOwnershipRates = ...\n",
        "HouseholdMedianIncome = ...\n",
        "US_MedianHomePrice = ...\n",
        "\n",
        "app.layout = html.Div([\n",
        "    dcc.Graph(id='multi-line-graph'),\n",
        "])\n",
        "\n",
        "@app.callback(\n",
        "    Output('multi-line-graph', 'figure'),\n",
        "    Input('multi-line-graph', 'hoverData')\n",
        ")\n",
        "def update_graph(hoverData):\n",
        "    traces = []\n",
        "\n",
        "    # Add traces for each DataFrame\n",
        "    y_values = Home_Insurance_Cost['Annual'].to_list()\n",
        "    traces.append(go.Scatter(x=Home_Insurance_Cost['YEAR'], y=y_values, mode='lines', name='Data Set 1'))\n",
        "\n",
        "    y_values = HomeOwnershipRates['USHOWN'].to_list()\n",
        "    traces.append(go.Scatter(x=HomeOwnershipRates['YEAR'], y=y_values, mode='lines', name='Data Set 2'))\n",
        "\n",
        "    # Add traces for each DataFrame MEHOINUSA672N\n",
        "    y_values = HouseholdMedianIncome['MEHOINUSA672N'].to_list()\n",
        "    traces.append(go.Scatter(x=HouseholdMedianIncome['YEAR'], y=y_values, mode='lines', name='Data Set 3'))\n",
        "\n",
        "    y_values = US_MedianHomePrice['MSPUS'].to_list()\n",
        "    traces.append(go.Scatter(x=US_MedianHomePrice['YEAR'], y=y_values, mode='lines', name='Data Set 4'))\n",
        "\n",
        "\n",
        "    layout = go.Layout(\n",
        "        title='Multi-Line Graph',\n",
        "        xaxis={'title': 'Years'},\n",
        "        yaxis={'title': 'Price'},\n",
        "        hovermode='closest'\n",
        "    )\n",
        "\n",
        "    return {'data': traces, 'layout': layout}\n",
        "\n",
        "\n",
        "if __name__ == '__main__':\n",
        "    app.run_server(debug=True)\n"
      ],
      "metadata": {
        "id": "lWfBl5uOayle",
        "colab": {
          "base_uri": "https://localhost:8080/",
          "height": 671
        },
        "outputId": "09e1f02d-a6a8-4840-da42-1dc616819feb"
      },
      "execution_count": 49,
      "outputs": [
        {
          "output_type": "display_data",
          "data": {
            "text/plain": [
              "<IPython.core.display.Javascript object>"
            ],
            "application/javascript": [
              "(async (port, path, width, height, cache, element) => {\n",
              "    if (!google.colab.kernel.accessAllowed && !cache) {\n",
              "      return;\n",
              "    }\n",
              "    element.appendChild(document.createTextNode(''));\n",
              "    const url = await google.colab.kernel.proxyPort(port, {cache});\n",
              "    const iframe = document.createElement('iframe');\n",
              "    iframe.src = new URL(path, url).toString();\n",
              "    iframe.height = height;\n",
              "    iframe.width = width;\n",
              "    iframe.style.border = 0;\n",
              "    iframe.allow = [\n",
              "        'accelerometer',\n",
              "        'autoplay',\n",
              "        'camera',\n",
              "        'clipboard-read',\n",
              "        'clipboard-write',\n",
              "        'gyroscope',\n",
              "        'magnetometer',\n",
              "        'microphone',\n",
              "        'serial',\n",
              "        'usb',\n",
              "        'xr-spatial-tracking',\n",
              "    ].join('; ');\n",
              "    element.appendChild(iframe);\n",
              "  })(8050, \"/\", \"100%\", 650, false, window.element)"
            ]
          },
          "metadata": {}
        }
      ]
    },
    {
      "cell_type": "code",
      "source": [],
      "metadata": {
        "id": "smxHwBuLayh8"
      },
      "execution_count": 44,
      "outputs": []
    },
    {
      "cell_type": "code",
      "source": [],
      "metadata": {
        "id": "2T7xKqAZayen"
      },
      "execution_count": 44,
      "outputs": []
    },
    {
      "cell_type": "code",
      "source": [
        "# import dash\n",
        "# import dash_core_components as dcc\n",
        "# import dash_html_components as html\n",
        "# from dash.dependencies import Input, Output\n",
        "# import plotly.graph_objs as go\n",
        "\n",
        "# app = dash.Dash(__name__)\n",
        "\n",
        "# # Assuming you have four DataFrames: df1, df2, df3, df4\n",
        "# # Replace these with your actual DataFrames and column names\n",
        "# # df1 = ...\n",
        "# # df2 = ...\n",
        "# # df3 = ...\n",
        "# # df4 = ...\n",
        "\n",
        "# Home_Insurance_Cost = ...\n",
        "# HomeOwnershipRates = ...\n",
        "# #HouseholdMedianIncome = ...\n",
        "# #US_MedianHomePrice = ...\n",
        "\n",
        "# app.layout = html.Div([\n",
        "#     dcc.Graph(id='multi-line-graph'),\n",
        "# ])\n",
        "\n",
        "# @app.callback(\n",
        "#     Output('multi-line-graph', 'figure'),\n",
        "#     Input('multi-line-graph', 'hoverData')\n",
        "# )\n",
        "# def update_graph(hoverData):\n",
        "#     traces = []\n",
        "\n",
        "#     # Add traces for each DataFrame\n",
        "#     traces.append(go.Scatter(x=Home_Insurance_Cost['YEAR'], y=Home_Insurance_Cost['Annual'], mode='lines', name='Data Set 1'))\n",
        "#     traces.append(go.Scatter(x=HomeOwnershipRates['YEAR'], y=HomeOwnershipRates['USHOWN'], mode='lines', name='Data Set 2'))\n",
        "\n",
        "\n",
        "#     layout = go.Layout(\n",
        "#         title='Multi-Line Graph',\n",
        "#         xaxis={'title': 'Years'},\n",
        "#         yaxis={'title': 'Price'},\n",
        "#         hovermode='closest'\n",
        "#     )\n",
        "\n",
        "#     return {'data': traces, 'layout': layout}\n",
        "\n",
        "# if __name__ == '__main__':\n",
        "#     app.run_server(debug=True)"
      ],
      "metadata": {
        "id": "RpfPOm0iD2yp",
        "colab": {
          "base_uri": "https://localhost:8080/",
          "height": 671
        },
        "outputId": "ba464e14-c3ef-4afe-c7e7-0fbef6dad9e0"
      },
      "execution_count": 45,
      "outputs": [
        {
          "output_type": "display_data",
          "data": {
            "text/plain": [
              "<IPython.core.display.Javascript object>"
            ],
            "application/javascript": [
              "(async (port, path, width, height, cache, element) => {\n",
              "    if (!google.colab.kernel.accessAllowed && !cache) {\n",
              "      return;\n",
              "    }\n",
              "    element.appendChild(document.createTextNode(''));\n",
              "    const url = await google.colab.kernel.proxyPort(port, {cache});\n",
              "    const iframe = document.createElement('iframe');\n",
              "    iframe.src = new URL(path, url).toString();\n",
              "    iframe.height = height;\n",
              "    iframe.width = width;\n",
              "    iframe.style.border = 0;\n",
              "    iframe.allow = [\n",
              "        'accelerometer',\n",
              "        'autoplay',\n",
              "        'camera',\n",
              "        'clipboard-read',\n",
              "        'clipboard-write',\n",
              "        'gyroscope',\n",
              "        'magnetometer',\n",
              "        'microphone',\n",
              "        'serial',\n",
              "        'usb',\n",
              "        'xr-spatial-tracking',\n",
              "    ].join('; ');\n",
              "    element.appendChild(iframe);\n",
              "  })(8050, \"/\", \"100%\", 650, false, window.element)"
            ]
          },
          "metadata": {}
        }
      ]
    },
    {
      "cell_type": "code",
      "source": [
        "import dash\n",
        "import dash_core_components as dcc\n",
        "import dash_html_components as html\n",
        "from dash.dependencies import Input, Output\n",
        "import plotly.graph_objs as go\n",
        "\n",
        "app = dash.Dash(__name__)\n",
        "\n",
        "# Assuming you have four DataFrames: df1, df2, df3, df4\n",
        "# Replace these with your actual DataFrames and column names\n",
        "# df1 = ...\n",
        "# df2 = ...\n",
        "# df3 = ...\n",
        "# df4 = ...\n",
        "\n",
        "Home_Insurance_Cost = ...\n",
        "HomeOwnershipRates = ...\n",
        "HouseholdMedianIncome = ...\n",
        "US_MedianHomePrice = ...\n",
        "\n",
        "app.layout = html.Div([\n",
        "    dcc.Graph(id='multi-line-graph'),\n",
        "])\n",
        "\n",
        "@app.callback(\n",
        "    Output('multi-line-graph', 'figure'),\n",
        "    Input('multi-line-graph', 'hoverData')\n",
        ")\n",
        "def update_graph(hoverData):\n",
        "    traces = []\n",
        "\n",
        "    # Add traces for each DataFrame\n",
        "    traces.append(go.Scatter(x=Home_Insurance_Cost['YEAR'], y=Home_Insurance_Cost['Annual'], mode='lines', name='Data Set 1'))\n",
        "    traces.append(go.Scatter(x=HomeOwnershipRates['YEAR'], y=HomeOwnershipRates['USHOWN'], mode='lines', name='Data Set 2'))\n",
        "    traces.append(go.Scatter(x=HouseholdMedianIncome['YEAR'], y=HouseholdMedianIncome['MEHOINUSA672N'], mode='lines', name='Data Set 3'))\n",
        "    traces.append(go.Scatter(x=US_MedianHomePrice['YEAR'], y=US_MedianHomePrice['MSPUS'], mode='lines', name='Data Set 4'))\n",
        "\n",
        "    layout = go.Layout(\n",
        "        title='Multi-Line Graph',\n",
        "        xaxis={'title': 'Years'},\n",
        "        yaxis={'title': 'Price'},\n",
        "        hovermode='closest'\n",
        "    )\n",
        "\n",
        "    return {'data': traces, 'layout': layout}\n",
        "\n",
        "if __name__ == '__main__':\n",
        "    app.run_server(debug=True)"
      ],
      "metadata": {
        "id": "-hwqrznH_O3p",
        "colab": {
          "base_uri": "https://localhost:8080/",
          "height": 671
        },
        "outputId": "42c0afcd-2bcd-4fb6-dac3-d59d90e71925"
      },
      "execution_count": 46,
      "outputs": [
        {
          "output_type": "display_data",
          "data": {
            "text/plain": [
              "<IPython.core.display.Javascript object>"
            ],
            "application/javascript": [
              "(async (port, path, width, height, cache, element) => {\n",
              "    if (!google.colab.kernel.accessAllowed && !cache) {\n",
              "      return;\n",
              "    }\n",
              "    element.appendChild(document.createTextNode(''));\n",
              "    const url = await google.colab.kernel.proxyPort(port, {cache});\n",
              "    const iframe = document.createElement('iframe');\n",
              "    iframe.src = new URL(path, url).toString();\n",
              "    iframe.height = height;\n",
              "    iframe.width = width;\n",
              "    iframe.style.border = 0;\n",
              "    iframe.allow = [\n",
              "        'accelerometer',\n",
              "        'autoplay',\n",
              "        'camera',\n",
              "        'clipboard-read',\n",
              "        'clipboard-write',\n",
              "        'gyroscope',\n",
              "        'magnetometer',\n",
              "        'microphone',\n",
              "        'serial',\n",
              "        'usb',\n",
              "        'xr-spatial-tracking',\n",
              "    ].join('; ');\n",
              "    element.appendChild(iframe);\n",
              "  })(8050, \"/\", \"100%\", 650, false, window.element)"
            ]
          },
          "metadata": {}
        }
      ]
    },
    {
      "cell_type": "code",
      "source": [],
      "metadata": {
        "id": "PM3JzwNNAr6H"
      },
      "execution_count": 46,
      "outputs": []
    },
    {
      "cell_type": "code",
      "source": [],
      "metadata": {
        "id": "0lz14c_jAr1y"
      },
      "execution_count": 46,
      "outputs": []
    },
    {
      "cell_type": "code",
      "source": [],
      "metadata": {
        "id": "OYw0Tp3lArwW"
      },
      "execution_count": 46,
      "outputs": []
    },
    {
      "cell_type": "code",
      "source": [
        "# Home_Insurance_Cost\n",
        "# HomeOwnershipRates\n",
        "# HouseholdMedianIncome\n",
        "# US_MedianHomePrice\n",
        "\n",
        "\n",
        "\n",
        "app = dash.Dash(__name__)\n",
        "\n",
        "# Sample data\n",
        "# years = [2010, 2011, 2012, 2013, 2014, 2015]\n",
        "# data_set1 = [100, 150, 200, 180, 250, 300]\n",
        "# data_set2 = [80, 120, 160, 140, 190, 220]\n",
        "# data_set3 = [120, 100, 150, 130, 180, 210]\n",
        "\n",
        "app.layout = html.Div([\n",
        "    dcc.Graph(id='multi-line-graph'),\n",
        "])\n",
        "\n",
        "@app.callback(\n",
        "    Output('multi-line-graph', 'figure'),\n",
        "    Input('multi-line-graph', 'hoverData')\n",
        ")\n",
        "def update_graph(hoverData):\n",
        "    Home_Insurance_Cost = go.Scatter(x= YEAR, y=data_set1, mode='lines', name='Data Set 1')\n",
        "    trace2 = go.Scatter(x=years, y=data_set2, mode='lines', name='Data Set 2')\n",
        "    trace3 = go.Scatter(x=years, y=data_set3, mode='lines', name='Data Set 3')\n",
        "\n",
        "    layout = go.Layout(\n",
        "        title='Multi-Line Graph',\n",
        "        xaxis={'title': 'Years'},\n",
        "        yaxis={'title': 'Price'},\n",
        "        hovermode='closest'\n",
        "    )\n",
        "\n",
        "    return {'data': [trace1, trace2, trace3], 'layout': layout}\n",
        "\n",
        "if __name__ == '__main__':\n",
        "    app.run_server(debug=True)"
      ],
      "metadata": {
        "id": "sfBUeX9N_OoG",
        "colab": {
          "base_uri": "https://localhost:8080/",
          "height": 671
        },
        "outputId": "bf982bca-f634-4382-d313-31dbedb48886"
      },
      "execution_count": 47,
      "outputs": [
        {
          "output_type": "display_data",
          "data": {
            "text/plain": [
              "<IPython.core.display.Javascript object>"
            ],
            "application/javascript": [
              "(async (port, path, width, height, cache, element) => {\n",
              "    if (!google.colab.kernel.accessAllowed && !cache) {\n",
              "      return;\n",
              "    }\n",
              "    element.appendChild(document.createTextNode(''));\n",
              "    const url = await google.colab.kernel.proxyPort(port, {cache});\n",
              "    const iframe = document.createElement('iframe');\n",
              "    iframe.src = new URL(path, url).toString();\n",
              "    iframe.height = height;\n",
              "    iframe.width = width;\n",
              "    iframe.style.border = 0;\n",
              "    iframe.allow = [\n",
              "        'accelerometer',\n",
              "        'autoplay',\n",
              "        'camera',\n",
              "        'clipboard-read',\n",
              "        'clipboard-write',\n",
              "        'gyroscope',\n",
              "        'magnetometer',\n",
              "        'microphone',\n",
              "        'serial',\n",
              "        'usb',\n",
              "        'xr-spatial-tracking',\n",
              "    ].join('; ');\n",
              "    element.appendChild(iframe);\n",
              "  })(8050, \"/\", \"100%\", 650, false, window.element)"
            ]
          },
          "metadata": {}
        }
      ]
    },
    {
      "cell_type": "markdown",
      "source": [
        "# Basement"
      ],
      "metadata": {
        "id": "fEZv4yTfnuCn"
      }
    },
    {
      "cell_type": "code",
      "execution_count": 55,
      "metadata": {
        "id": "zmx4uqMYLE2L",
        "colab": {
          "base_uri": "https://localhost:8080/",
          "height": 671
        },
        "outputId": "65a091a4-d5f3-4be9-a405-d7c445de4440"
      },
      "outputs": [
        {
          "output_type": "display_data",
          "data": {
            "text/plain": [
              "<IPython.core.display.Javascript object>"
            ],
            "application/javascript": [
              "(async (port, path, width, height, cache, element) => {\n",
              "    if (!google.colab.kernel.accessAllowed && !cache) {\n",
              "      return;\n",
              "    }\n",
              "    element.appendChild(document.createTextNode(''));\n",
              "    const url = await google.colab.kernel.proxyPort(port, {cache});\n",
              "    const iframe = document.createElement('iframe');\n",
              "    iframe.src = new URL(path, url).toString();\n",
              "    iframe.height = height;\n",
              "    iframe.width = width;\n",
              "    iframe.style.border = 0;\n",
              "    iframe.allow = [\n",
              "        'accelerometer',\n",
              "        'autoplay',\n",
              "        'camera',\n",
              "        'clipboard-read',\n",
              "        'clipboard-write',\n",
              "        'gyroscope',\n",
              "        'magnetometer',\n",
              "        'microphone',\n",
              "        'serial',\n",
              "        'usb',\n",
              "        'xr-spatial-tracking',\n",
              "    ].join('; ');\n",
              "    element.appendChild(iframe);\n",
              "  })(8050, \"/\", \"100%\", 650, false, window.element)"
            ]
          },
          "metadata": {}
        }
      ],
      "source": [
        "###################################\n",
        "# WOKING EXAMPLE\n",
        "\n",
        "#################################\n",
        "\n",
        "# #app = dash.Dash(__name__)\n",
        "\n",
        "# # Sample data\n",
        "# years = [2010, 2011, 2012, 2013, 2014, 2015]\n",
        "# data_set1 = [100, 150, 200, 180, 250, 300]\n",
        "# data_set2 = [80, 120, 160, 140, 190, 220]\n",
        "# data_set3 = [120, 100, 150, 130, 180, 210]\n",
        "\n",
        "# app.layout = html.Div([\n",
        "#     dcc.Graph(id='multi-line-graph'),\n",
        "# ])\n",
        "\n",
        "# @app.callback(\n",
        "#     Output('multi-line-graph', 'figure'),\n",
        "#     Input('multi-line-graph', 'hoverData')\n",
        "# )\n",
        "# def update_graph(hoverData):\n",
        "#     trace1 = go.Scatter(x=years, y=data_set1, mode='lines', name='Data Set 1')\n",
        "#     trace2 = go.Scatter(x=years, y=data_set2, mode='lines', name='Data Set 2')\n",
        "#     trace3 = go.Scatter(x=years, y=data_set3, mode='lines', name='Data Set 3')\n",
        "\n",
        "#     layout = go.Layout(\n",
        "#         title='Multi-Line Graph',\n",
        "#         xaxis={'title': 'Years'},\n",
        "#         yaxis={'title': 'Price'},\n",
        "#         hovermode='closest'\n",
        "#     )\n",
        "\n",
        "#     return {'data': [trace1, trace2, trace3], 'layout': layout}\n",
        "\n",
        "# if __name__ == '__main__':\n",
        "#     app.run_server(debug=True)"
      ]
    }
  ]
}