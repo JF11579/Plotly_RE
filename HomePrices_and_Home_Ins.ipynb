{
  "nbformat": 4,
  "nbformat_minor": 0,
  "metadata": {
    "colab": {
      "provenance": [],
      "authorship_tag": "ABX9TyNeexoSx6KFfy+2bGhg5Uum",
      "include_colab_link": true
    },
    "kernelspec": {
      "name": "python3",
      "display_name": "Python 3"
    },
    "language_info": {
      "name": "python"
    }
  },
  "cells": [
    {
      "cell_type": "markdown",
      "metadata": {
        "id": "view-in-github",
        "colab_type": "text"
      },
      "source": [
        "<a href=\"https://colab.research.google.com/github/JF11579/Plotly_RE/blob/main/HomePrices_and_Home_Ins.ipynb\" target=\"_parent\"><img src=\"https://colab.research.google.com/assets/colab-badge.svg\" alt=\"Open In Colab\"/></a>"
      ]
    },
    {
      "cell_type": "markdown",
      "source": [
        "Treat this like a HW assignment.\n",
        "\n",
        "Home ins prices have gone up a lot.  Is that effecting the price of homes."
      ],
      "metadata": {
        "id": "rSRZ60DGLXtk"
      }
    },
    {
      "cell_type": "markdown",
      "source": [
        "Start with multi line chart showing:\n",
        "\n",
        "** household median incom, avg\n",
        "    Units:  2021 CPI-U-RS Adjusted Dollars, Not Seasonally Adjusted\n",
        "\n",
        "    https://fred.stlouisfed.org/series/MEHOINUSA672N\n",
        "\n",
        "    Title:  Real Median Household Income in the United States (MEHOINUSA672N)\n",
        "\n",
        "\n",
        "** avg homeowners ins.\n",
        "    PPI industry data for Direct property and casualty insurers-Homeowner's insurance, not seasonally adjusted\n",
        "\n",
        "    Base data 1998\n",
        "\n",
        "    https://data.bls.gov/pdq/SurveyOutputServlet\n",
        "\n",
        "\n",
        "** median home price\n",
        "  https://fred.stlouisfed.org/series/MSPUS\n",
        "  no price adjustment.  Nominal prices instead, current at that time.  do we apply CPI?\n",
        "\n",
        " **  HomeOwnership Rate\n",
        "\n",
        "    Title: Homeownership Rate for the United States (USHOWN)\n",
        "\n",
        "    https://fred.stlouisfed.org/series/USHOWN"
      ],
      "metadata": {
        "id": "8EZm5cC4UfFY"
      }
    },
    {
      "cell_type": "markdown",
      "source": [
        "Adjust data to common base year"
      ],
      "metadata": {
        "id": "ZyJ0QJzeffUH"
      }
    },
    {
      "cell_type": "markdown",
      "source": [
        "The WSJ article [Americans Are Bailing on Their Home Insurance](https://www.wsj.com/personal-finance/americans-are-bailing-on-their-home-insurance-e3395515?page=1) discusses the trend of Americans giving up on their homeowner's insurance as the cost prices steeply."
      ],
      "metadata": {
        "id": "e9yVn5CnmuWk"
      }
    },
    {
      "cell_type": "markdown",
      "source": [
        "# Notes"
      ],
      "metadata": {
        "id": "DO3RfiwQnlJb"
      }
    },
    {
      "cell_type": "markdown",
      "source": [
        "# Libraries"
      ],
      "metadata": {
        "id": "tZReGxLVnpFC"
      }
    },
    {
      "cell_type": "code",
      "source": [
        "# pip install dash plotly\n"
      ],
      "metadata": {
        "id": "yPovUD01rZ-M"
      },
      "execution_count": null,
      "outputs": []
    },
    {
      "cell_type": "code",
      "source": [
        "import pandas as pd\n",
        "from google.colab import drive\n",
        "import dash\n",
        "import dash_core_components as dcc\n",
        "import dash_html_components as html\n",
        "from dash.dependencies import Input, Output\n",
        "import plotly.graph_objs as go"
      ],
      "metadata": {
        "id": "VVmK-35erZyq"
      },
      "execution_count": 8,
      "outputs": []
    },
    {
      "cell_type": "markdown",
      "source": [
        "# Data"
      ],
      "metadata": {
        "id": "7iHd7Fp4nuM5"
      }
    },
    {
      "cell_type": "code",
      "source": [
        "\n",
        "\n",
        "drive.mount('/content/drive')\n",
        "# Change to the directory containing your CSV\n",
        "%cd /content/drive/MyDrive/DATA/HomeOwnershipData\n",
        "file_path = 'Home_Ins_Cost.txt'\n",
        "Home_Insurance_Cost= pd.read_csv(file_path ,delimiter=',')\n",
        "Home_Insurance_Cost.head()"
      ],
      "metadata": {
        "colab": {
          "base_uri": "https://localhost:8080/",
          "height": 242
        },
        "id": "Pn6OV4Bkx4r3",
        "outputId": "e4ac64fc-543f-4b1f-ac5d-de3d84acf542"
      },
      "execution_count": 72,
      "outputs": [
        {
          "output_type": "stream",
          "name": "stdout",
          "text": [
            "Drive already mounted at /content/drive; to attempt to forcibly remount, call drive.mount(\"/content/drive\", force_remount=True).\n",
            "/content/drive/MyDrive/DATA/HomeOwnershipData\n"
          ]
        },
        {
          "output_type": "execute_result",
          "data": {
            "text/plain": [
              "   Year    Jan    Feb    Mar    Apr    May    Jun    Jul    Aug    Sep    Oct  \\\n",
              "0  1998                                     100.0  100.1  100.4  100.6  101.1   \n",
              "1  1999  101.9  101.9  102.2  102.3  102.7  102.9  103.3  103.5  103.7  104.1   \n",
              "2  2000  104.6  104.9  105.0  105.5  106.0  106.7  107.1  107.4  108.0  108.1   \n",
              "3  2001  109.4  110.4  110.7  110.7  111.3  111.5  112.0  112.3  112.6  113.3   \n",
              "4  2002  114.5  114.8  115.5  116.0  116.1  117.1  118.4  118.9  119.9  122.0   \n",
              "\n",
              "     Nov    Dec Annual  \n",
              "0  101.2  101.5         \n",
              "1  104.2  104.3  103.1  \n",
              "2  108.2  108.5  106.7  \n",
              "3  113.8  114.0  111.8  \n",
              "4  123.6  124.0  118.4  "
            ],
            "text/html": [
              "\n",
              "  <div id=\"df-44a02a94-f3f2-4b88-b2ae-21c905b3ad50\" class=\"colab-df-container\">\n",
              "    <div>\n",
              "<style scoped>\n",
              "    .dataframe tbody tr th:only-of-type {\n",
              "        vertical-align: middle;\n",
              "    }\n",
              "\n",
              "    .dataframe tbody tr th {\n",
              "        vertical-align: top;\n",
              "    }\n",
              "\n",
              "    .dataframe thead th {\n",
              "        text-align: right;\n",
              "    }\n",
              "</style>\n",
              "<table border=\"1\" class=\"dataframe\">\n",
              "  <thead>\n",
              "    <tr style=\"text-align: right;\">\n",
              "      <th></th>\n",
              "      <th>Year</th>\n",
              "      <th>Jan</th>\n",
              "      <th>Feb</th>\n",
              "      <th>Mar</th>\n",
              "      <th>Apr</th>\n",
              "      <th>May</th>\n",
              "      <th>Jun</th>\n",
              "      <th>Jul</th>\n",
              "      <th>Aug</th>\n",
              "      <th>Sep</th>\n",
              "      <th>Oct</th>\n",
              "      <th>Nov</th>\n",
              "      <th>Dec</th>\n",
              "      <th>Annual</th>\n",
              "    </tr>\n",
              "  </thead>\n",
              "  <tbody>\n",
              "    <tr>\n",
              "      <th>0</th>\n",
              "      <td>1998</td>\n",
              "      <td></td>\n",
              "      <td></td>\n",
              "      <td></td>\n",
              "      <td></td>\n",
              "      <td></td>\n",
              "      <td>100.0</td>\n",
              "      <td>100.1</td>\n",
              "      <td>100.4</td>\n",
              "      <td>100.6</td>\n",
              "      <td>101.1</td>\n",
              "      <td>101.2</td>\n",
              "      <td>101.5</td>\n",
              "      <td></td>\n",
              "    </tr>\n",
              "    <tr>\n",
              "      <th>1</th>\n",
              "      <td>1999</td>\n",
              "      <td>101.9</td>\n",
              "      <td>101.9</td>\n",
              "      <td>102.2</td>\n",
              "      <td>102.3</td>\n",
              "      <td>102.7</td>\n",
              "      <td>102.9</td>\n",
              "      <td>103.3</td>\n",
              "      <td>103.5</td>\n",
              "      <td>103.7</td>\n",
              "      <td>104.1</td>\n",
              "      <td>104.2</td>\n",
              "      <td>104.3</td>\n",
              "      <td>103.1</td>\n",
              "    </tr>\n",
              "    <tr>\n",
              "      <th>2</th>\n",
              "      <td>2000</td>\n",
              "      <td>104.6</td>\n",
              "      <td>104.9</td>\n",
              "      <td>105.0</td>\n",
              "      <td>105.5</td>\n",
              "      <td>106.0</td>\n",
              "      <td>106.7</td>\n",
              "      <td>107.1</td>\n",
              "      <td>107.4</td>\n",
              "      <td>108.0</td>\n",
              "      <td>108.1</td>\n",
              "      <td>108.2</td>\n",
              "      <td>108.5</td>\n",
              "      <td>106.7</td>\n",
              "    </tr>\n",
              "    <tr>\n",
              "      <th>3</th>\n",
              "      <td>2001</td>\n",
              "      <td>109.4</td>\n",
              "      <td>110.4</td>\n",
              "      <td>110.7</td>\n",
              "      <td>110.7</td>\n",
              "      <td>111.3</td>\n",
              "      <td>111.5</td>\n",
              "      <td>112.0</td>\n",
              "      <td>112.3</td>\n",
              "      <td>112.6</td>\n",
              "      <td>113.3</td>\n",
              "      <td>113.8</td>\n",
              "      <td>114.0</td>\n",
              "      <td>111.8</td>\n",
              "    </tr>\n",
              "    <tr>\n",
              "      <th>4</th>\n",
              "      <td>2002</td>\n",
              "      <td>114.5</td>\n",
              "      <td>114.8</td>\n",
              "      <td>115.5</td>\n",
              "      <td>116.0</td>\n",
              "      <td>116.1</td>\n",
              "      <td>117.1</td>\n",
              "      <td>118.4</td>\n",
              "      <td>118.9</td>\n",
              "      <td>119.9</td>\n",
              "      <td>122.0</td>\n",
              "      <td>123.6</td>\n",
              "      <td>124.0</td>\n",
              "      <td>118.4</td>\n",
              "    </tr>\n",
              "  </tbody>\n",
              "</table>\n",
              "</div>\n",
              "    <div class=\"colab-df-buttons\">\n",
              "\n",
              "  <div class=\"colab-df-container\">\n",
              "    <button class=\"colab-df-convert\" onclick=\"convertToInteractive('df-44a02a94-f3f2-4b88-b2ae-21c905b3ad50')\"\n",
              "            title=\"Convert this dataframe to an interactive table.\"\n",
              "            style=\"display:none;\">\n",
              "\n",
              "  <svg xmlns=\"http://www.w3.org/2000/svg\" height=\"24px\" viewBox=\"0 -960 960 960\">\n",
              "    <path d=\"M120-120v-720h720v720H120Zm60-500h600v-160H180v160Zm220 220h160v-160H400v160Zm0 220h160v-160H400v160ZM180-400h160v-160H180v160Zm440 0h160v-160H620v160ZM180-180h160v-160H180v160Zm440 0h160v-160H620v160Z\"/>\n",
              "  </svg>\n",
              "    </button>\n",
              "\n",
              "  <style>\n",
              "    .colab-df-container {\n",
              "      display:flex;\n",
              "      gap: 12px;\n",
              "    }\n",
              "\n",
              "    .colab-df-convert {\n",
              "      background-color: #E8F0FE;\n",
              "      border: none;\n",
              "      border-radius: 50%;\n",
              "      cursor: pointer;\n",
              "      display: none;\n",
              "      fill: #1967D2;\n",
              "      height: 32px;\n",
              "      padding: 0 0 0 0;\n",
              "      width: 32px;\n",
              "    }\n",
              "\n",
              "    .colab-df-convert:hover {\n",
              "      background-color: #E2EBFA;\n",
              "      box-shadow: 0px 1px 2px rgba(60, 64, 67, 0.3), 0px 1px 3px 1px rgba(60, 64, 67, 0.15);\n",
              "      fill: #174EA6;\n",
              "    }\n",
              "\n",
              "    .colab-df-buttons div {\n",
              "      margin-bottom: 4px;\n",
              "    }\n",
              "\n",
              "    [theme=dark] .colab-df-convert {\n",
              "      background-color: #3B4455;\n",
              "      fill: #D2E3FC;\n",
              "    }\n",
              "\n",
              "    [theme=dark] .colab-df-convert:hover {\n",
              "      background-color: #434B5C;\n",
              "      box-shadow: 0px 1px 3px 1px rgba(0, 0, 0, 0.15);\n",
              "      filter: drop-shadow(0px 1px 2px rgba(0, 0, 0, 0.3));\n",
              "      fill: #FFFFFF;\n",
              "    }\n",
              "  </style>\n",
              "\n",
              "    <script>\n",
              "      const buttonEl =\n",
              "        document.querySelector('#df-44a02a94-f3f2-4b88-b2ae-21c905b3ad50 button.colab-df-convert');\n",
              "      buttonEl.style.display =\n",
              "        google.colab.kernel.accessAllowed ? 'block' : 'none';\n",
              "\n",
              "      async function convertToInteractive(key) {\n",
              "        const element = document.querySelector('#df-44a02a94-f3f2-4b88-b2ae-21c905b3ad50');\n",
              "        const dataTable =\n",
              "          await google.colab.kernel.invokeFunction('convertToInteractive',\n",
              "                                                    [key], {});\n",
              "        if (!dataTable) return;\n",
              "\n",
              "        const docLinkHtml = 'Like what you see? Visit the ' +\n",
              "          '<a target=\"_blank\" href=https://colab.research.google.com/notebooks/data_table.ipynb>data table notebook</a>'\n",
              "          + ' to learn more about interactive tables.';\n",
              "        element.innerHTML = '';\n",
              "        dataTable['output_type'] = 'display_data';\n",
              "        await google.colab.output.renderOutput(dataTable, element);\n",
              "        const docLink = document.createElement('div');\n",
              "        docLink.innerHTML = docLinkHtml;\n",
              "        element.appendChild(docLink);\n",
              "      }\n",
              "    </script>\n",
              "  </div>\n",
              "\n",
              "\n",
              "<div id=\"df-38a54362-06df-48be-ad3e-0bda62a0364a\">\n",
              "  <button class=\"colab-df-quickchart\" onclick=\"quickchart('df-38a54362-06df-48be-ad3e-0bda62a0364a')\"\n",
              "            title=\"Suggest charts.\"\n",
              "            style=\"display:none;\">\n",
              "\n",
              "<svg xmlns=\"http://www.w3.org/2000/svg\" height=\"24px\"viewBox=\"0 0 24 24\"\n",
              "     width=\"24px\">\n",
              "    <g>\n",
              "        <path d=\"M19 3H5c-1.1 0-2 .9-2 2v14c0 1.1.9 2 2 2h14c1.1 0 2-.9 2-2V5c0-1.1-.9-2-2-2zM9 17H7v-7h2v7zm4 0h-2V7h2v10zm4 0h-2v-4h2v4z\"/>\n",
              "    </g>\n",
              "</svg>\n",
              "  </button>\n",
              "\n",
              "<style>\n",
              "  .colab-df-quickchart {\n",
              "    background-color: #E8F0FE;\n",
              "    border: none;\n",
              "    border-radius: 50%;\n",
              "    cursor: pointer;\n",
              "    display: none;\n",
              "    fill: #1967D2;\n",
              "    height: 32px;\n",
              "    padding: 0 0 0 0;\n",
              "    width: 32px;\n",
              "  }\n",
              "\n",
              "  .colab-df-quickchart:hover {\n",
              "    background-color: #E2EBFA;\n",
              "    box-shadow: 0px 1px 2px rgba(60, 64, 67, 0.3), 0px 1px 3px 1px rgba(60, 64, 67, 0.15);\n",
              "    fill: #174EA6;\n",
              "  }\n",
              "\n",
              "  [theme=dark] .colab-df-quickchart {\n",
              "    background-color: #3B4455;\n",
              "    fill: #D2E3FC;\n",
              "  }\n",
              "\n",
              "  [theme=dark] .colab-df-quickchart:hover {\n",
              "    background-color: #434B5C;\n",
              "    box-shadow: 0px 1px 3px 1px rgba(0, 0, 0, 0.15);\n",
              "    filter: drop-shadow(0px 1px 2px rgba(0, 0, 0, 0.3));\n",
              "    fill: #FFFFFF;\n",
              "  }\n",
              "</style>\n",
              "\n",
              "  <script>\n",
              "    async function quickchart(key) {\n",
              "      const charts = await google.colab.kernel.invokeFunction(\n",
              "          'suggestCharts', [key], {});\n",
              "    }\n",
              "    (() => {\n",
              "      let quickchartButtonEl =\n",
              "        document.querySelector('#df-38a54362-06df-48be-ad3e-0bda62a0364a button');\n",
              "      quickchartButtonEl.style.display =\n",
              "        google.colab.kernel.accessAllowed ? 'block' : 'none';\n",
              "    })();\n",
              "  </script>\n",
              "</div>\n",
              "\n",
              "    </div>\n",
              "  </div>\n"
            ]
          },
          "metadata": {},
          "execution_count": 72
        }
      ]
    },
    {
      "cell_type": "code",
      "source": [
        "HomeOwnershipRates = pd.read_csv('HomeownershipRates.csv')\n",
        "HomeOwnershipRates.head(3)"
      ],
      "metadata": {
        "colab": {
          "base_uri": "https://localhost:8080/",
          "height": 143
        },
        "id": "Q3BNgZJHsZR9",
        "outputId": "0f3bc5c3-4950-4789-f92a-c701ada609a5"
      },
      "execution_count": 73,
      "outputs": [
        {
          "output_type": "execute_result",
          "data": {
            "text/plain": [
              "         DATE  USHOWN\n",
              "0  1984-01-01    64.5\n",
              "1  1985-01-01    63.9\n",
              "2  1986-01-01    63.8"
            ],
            "text/html": [
              "\n",
              "  <div id=\"df-7b5f7c90-81b0-48c8-9d4d-3d74e98a5e75\" class=\"colab-df-container\">\n",
              "    <div>\n",
              "<style scoped>\n",
              "    .dataframe tbody tr th:only-of-type {\n",
              "        vertical-align: middle;\n",
              "    }\n",
              "\n",
              "    .dataframe tbody tr th {\n",
              "        vertical-align: top;\n",
              "    }\n",
              "\n",
              "    .dataframe thead th {\n",
              "        text-align: right;\n",
              "    }\n",
              "</style>\n",
              "<table border=\"1\" class=\"dataframe\">\n",
              "  <thead>\n",
              "    <tr style=\"text-align: right;\">\n",
              "      <th></th>\n",
              "      <th>DATE</th>\n",
              "      <th>USHOWN</th>\n",
              "    </tr>\n",
              "  </thead>\n",
              "  <tbody>\n",
              "    <tr>\n",
              "      <th>0</th>\n",
              "      <td>1984-01-01</td>\n",
              "      <td>64.5</td>\n",
              "    </tr>\n",
              "    <tr>\n",
              "      <th>1</th>\n",
              "      <td>1985-01-01</td>\n",
              "      <td>63.9</td>\n",
              "    </tr>\n",
              "    <tr>\n",
              "      <th>2</th>\n",
              "      <td>1986-01-01</td>\n",
              "      <td>63.8</td>\n",
              "    </tr>\n",
              "  </tbody>\n",
              "</table>\n",
              "</div>\n",
              "    <div class=\"colab-df-buttons\">\n",
              "\n",
              "  <div class=\"colab-df-container\">\n",
              "    <button class=\"colab-df-convert\" onclick=\"convertToInteractive('df-7b5f7c90-81b0-48c8-9d4d-3d74e98a5e75')\"\n",
              "            title=\"Convert this dataframe to an interactive table.\"\n",
              "            style=\"display:none;\">\n",
              "\n",
              "  <svg xmlns=\"http://www.w3.org/2000/svg\" height=\"24px\" viewBox=\"0 -960 960 960\">\n",
              "    <path d=\"M120-120v-720h720v720H120Zm60-500h600v-160H180v160Zm220 220h160v-160H400v160Zm0 220h160v-160H400v160ZM180-400h160v-160H180v160Zm440 0h160v-160H620v160ZM180-180h160v-160H180v160Zm440 0h160v-160H620v160Z\"/>\n",
              "  </svg>\n",
              "    </button>\n",
              "\n",
              "  <style>\n",
              "    .colab-df-container {\n",
              "      display:flex;\n",
              "      gap: 12px;\n",
              "    }\n",
              "\n",
              "    .colab-df-convert {\n",
              "      background-color: #E8F0FE;\n",
              "      border: none;\n",
              "      border-radius: 50%;\n",
              "      cursor: pointer;\n",
              "      display: none;\n",
              "      fill: #1967D2;\n",
              "      height: 32px;\n",
              "      padding: 0 0 0 0;\n",
              "      width: 32px;\n",
              "    }\n",
              "\n",
              "    .colab-df-convert:hover {\n",
              "      background-color: #E2EBFA;\n",
              "      box-shadow: 0px 1px 2px rgba(60, 64, 67, 0.3), 0px 1px 3px 1px rgba(60, 64, 67, 0.15);\n",
              "      fill: #174EA6;\n",
              "    }\n",
              "\n",
              "    .colab-df-buttons div {\n",
              "      margin-bottom: 4px;\n",
              "    }\n",
              "\n",
              "    [theme=dark] .colab-df-convert {\n",
              "      background-color: #3B4455;\n",
              "      fill: #D2E3FC;\n",
              "    }\n",
              "\n",
              "    [theme=dark] .colab-df-convert:hover {\n",
              "      background-color: #434B5C;\n",
              "      box-shadow: 0px 1px 3px 1px rgba(0, 0, 0, 0.15);\n",
              "      filter: drop-shadow(0px 1px 2px rgba(0, 0, 0, 0.3));\n",
              "      fill: #FFFFFF;\n",
              "    }\n",
              "  </style>\n",
              "\n",
              "    <script>\n",
              "      const buttonEl =\n",
              "        document.querySelector('#df-7b5f7c90-81b0-48c8-9d4d-3d74e98a5e75 button.colab-df-convert');\n",
              "      buttonEl.style.display =\n",
              "        google.colab.kernel.accessAllowed ? 'block' : 'none';\n",
              "\n",
              "      async function convertToInteractive(key) {\n",
              "        const element = document.querySelector('#df-7b5f7c90-81b0-48c8-9d4d-3d74e98a5e75');\n",
              "        const dataTable =\n",
              "          await google.colab.kernel.invokeFunction('convertToInteractive',\n",
              "                                                    [key], {});\n",
              "        if (!dataTable) return;\n",
              "\n",
              "        const docLinkHtml = 'Like what you see? Visit the ' +\n",
              "          '<a target=\"_blank\" href=https://colab.research.google.com/notebooks/data_table.ipynb>data table notebook</a>'\n",
              "          + ' to learn more about interactive tables.';\n",
              "        element.innerHTML = '';\n",
              "        dataTable['output_type'] = 'display_data';\n",
              "        await google.colab.output.renderOutput(dataTable, element);\n",
              "        const docLink = document.createElement('div');\n",
              "        docLink.innerHTML = docLinkHtml;\n",
              "        element.appendChild(docLink);\n",
              "      }\n",
              "    </script>\n",
              "  </div>\n",
              "\n",
              "\n",
              "    </div>\n",
              "  </div>\n"
            ]
          },
          "metadata": {},
          "execution_count": 73
        }
      ]
    },
    {
      "cell_type": "code",
      "source": [
        "HouseholdMedianIncome = pd.read_csv('HouseholdMedianIncome.csv')\n",
        "HouseholdMedianIncome.head(3)"
      ],
      "metadata": {
        "colab": {
          "base_uri": "https://localhost:8080/",
          "height": 143
        },
        "id": "ZWOv-t6GvbJF",
        "outputId": "f6459665-48be-4e80-a8ac-fef5afe02a7b"
      },
      "execution_count": 74,
      "outputs": [
        {
          "output_type": "execute_result",
          "data": {
            "text/plain": [
              "         DATE  MEHOINUSA672N\n",
              "0  2008-01-01          63455\n",
              "1  2009-01-01          63011\n",
              "2  2010-01-01          61364"
            ],
            "text/html": [
              "\n",
              "  <div id=\"df-cdec8bc1-1d69-424c-9e67-492e61c411dd\" class=\"colab-df-container\">\n",
              "    <div>\n",
              "<style scoped>\n",
              "    .dataframe tbody tr th:only-of-type {\n",
              "        vertical-align: middle;\n",
              "    }\n",
              "\n",
              "    .dataframe tbody tr th {\n",
              "        vertical-align: top;\n",
              "    }\n",
              "\n",
              "    .dataframe thead th {\n",
              "        text-align: right;\n",
              "    }\n",
              "</style>\n",
              "<table border=\"1\" class=\"dataframe\">\n",
              "  <thead>\n",
              "    <tr style=\"text-align: right;\">\n",
              "      <th></th>\n",
              "      <th>DATE</th>\n",
              "      <th>MEHOINUSA672N</th>\n",
              "    </tr>\n",
              "  </thead>\n",
              "  <tbody>\n",
              "    <tr>\n",
              "      <th>0</th>\n",
              "      <td>2008-01-01</td>\n",
              "      <td>63455</td>\n",
              "    </tr>\n",
              "    <tr>\n",
              "      <th>1</th>\n",
              "      <td>2009-01-01</td>\n",
              "      <td>63011</td>\n",
              "    </tr>\n",
              "    <tr>\n",
              "      <th>2</th>\n",
              "      <td>2010-01-01</td>\n",
              "      <td>61364</td>\n",
              "    </tr>\n",
              "  </tbody>\n",
              "</table>\n",
              "</div>\n",
              "    <div class=\"colab-df-buttons\">\n",
              "\n",
              "  <div class=\"colab-df-container\">\n",
              "    <button class=\"colab-df-convert\" onclick=\"convertToInteractive('df-cdec8bc1-1d69-424c-9e67-492e61c411dd')\"\n",
              "            title=\"Convert this dataframe to an interactive table.\"\n",
              "            style=\"display:none;\">\n",
              "\n",
              "  <svg xmlns=\"http://www.w3.org/2000/svg\" height=\"24px\" viewBox=\"0 -960 960 960\">\n",
              "    <path d=\"M120-120v-720h720v720H120Zm60-500h600v-160H180v160Zm220 220h160v-160H400v160Zm0 220h160v-160H400v160ZM180-400h160v-160H180v160Zm440 0h160v-160H620v160ZM180-180h160v-160H180v160Zm440 0h160v-160H620v160Z\"/>\n",
              "  </svg>\n",
              "    </button>\n",
              "\n",
              "  <style>\n",
              "    .colab-df-container {\n",
              "      display:flex;\n",
              "      gap: 12px;\n",
              "    }\n",
              "\n",
              "    .colab-df-convert {\n",
              "      background-color: #E8F0FE;\n",
              "      border: none;\n",
              "      border-radius: 50%;\n",
              "      cursor: pointer;\n",
              "      display: none;\n",
              "      fill: #1967D2;\n",
              "      height: 32px;\n",
              "      padding: 0 0 0 0;\n",
              "      width: 32px;\n",
              "    }\n",
              "\n",
              "    .colab-df-convert:hover {\n",
              "      background-color: #E2EBFA;\n",
              "      box-shadow: 0px 1px 2px rgba(60, 64, 67, 0.3), 0px 1px 3px 1px rgba(60, 64, 67, 0.15);\n",
              "      fill: #174EA6;\n",
              "    }\n",
              "\n",
              "    .colab-df-buttons div {\n",
              "      margin-bottom: 4px;\n",
              "    }\n",
              "\n",
              "    [theme=dark] .colab-df-convert {\n",
              "      background-color: #3B4455;\n",
              "      fill: #D2E3FC;\n",
              "    }\n",
              "\n",
              "    [theme=dark] .colab-df-convert:hover {\n",
              "      background-color: #434B5C;\n",
              "      box-shadow: 0px 1px 3px 1px rgba(0, 0, 0, 0.15);\n",
              "      filter: drop-shadow(0px 1px 2px rgba(0, 0, 0, 0.3));\n",
              "      fill: #FFFFFF;\n",
              "    }\n",
              "  </style>\n",
              "\n",
              "    <script>\n",
              "      const buttonEl =\n",
              "        document.querySelector('#df-cdec8bc1-1d69-424c-9e67-492e61c411dd button.colab-df-convert');\n",
              "      buttonEl.style.display =\n",
              "        google.colab.kernel.accessAllowed ? 'block' : 'none';\n",
              "\n",
              "      async function convertToInteractive(key) {\n",
              "        const element = document.querySelector('#df-cdec8bc1-1d69-424c-9e67-492e61c411dd');\n",
              "        const dataTable =\n",
              "          await google.colab.kernel.invokeFunction('convertToInteractive',\n",
              "                                                    [key], {});\n",
              "        if (!dataTable) return;\n",
              "\n",
              "        const docLinkHtml = 'Like what you see? Visit the ' +\n",
              "          '<a target=\"_blank\" href=https://colab.research.google.com/notebooks/data_table.ipynb>data table notebook</a>'\n",
              "          + ' to learn more about interactive tables.';\n",
              "        element.innerHTML = '';\n",
              "        dataTable['output_type'] = 'display_data';\n",
              "        await google.colab.output.renderOutput(dataTable, element);\n",
              "        const docLink = document.createElement('div');\n",
              "        docLink.innerHTML = docLinkHtml;\n",
              "        element.appendChild(docLink);\n",
              "      }\n",
              "    </script>\n",
              "  </div>\n",
              "\n",
              "\n",
              "    </div>\n",
              "  </div>\n"
            ]
          },
          "metadata": {},
          "execution_count": 74
        }
      ]
    },
    {
      "cell_type": "code",
      "source": [
        "US_MedianHomePrice = pd.read_csv('US_MedianHomePrice.csv')\n",
        "US_MedianHomePrice.head(3)"
      ],
      "metadata": {
        "colab": {
          "base_uri": "https://localhost:8080/",
          "height": 143
        },
        "id": "K9I7DjGCvvaR",
        "outputId": "6e23b571-deb2-496d-f68f-de13bfcc8205"
      },
      "execution_count": 75,
      "outputs": [
        {
          "output_type": "execute_result",
          "data": {
            "text/plain": [
              "         DATE  MSPUS\n",
              "0  1963-01-01  17800\n",
              "1  1963-04-01  18000\n",
              "2  1963-07-01  17900"
            ],
            "text/html": [
              "\n",
              "  <div id=\"df-f6b77be3-b6d0-43e3-b9a9-df1df0e2a85b\" class=\"colab-df-container\">\n",
              "    <div>\n",
              "<style scoped>\n",
              "    .dataframe tbody tr th:only-of-type {\n",
              "        vertical-align: middle;\n",
              "    }\n",
              "\n",
              "    .dataframe tbody tr th {\n",
              "        vertical-align: top;\n",
              "    }\n",
              "\n",
              "    .dataframe thead th {\n",
              "        text-align: right;\n",
              "    }\n",
              "</style>\n",
              "<table border=\"1\" class=\"dataframe\">\n",
              "  <thead>\n",
              "    <tr style=\"text-align: right;\">\n",
              "      <th></th>\n",
              "      <th>DATE</th>\n",
              "      <th>MSPUS</th>\n",
              "    </tr>\n",
              "  </thead>\n",
              "  <tbody>\n",
              "    <tr>\n",
              "      <th>0</th>\n",
              "      <td>1963-01-01</td>\n",
              "      <td>17800</td>\n",
              "    </tr>\n",
              "    <tr>\n",
              "      <th>1</th>\n",
              "      <td>1963-04-01</td>\n",
              "      <td>18000</td>\n",
              "    </tr>\n",
              "    <tr>\n",
              "      <th>2</th>\n",
              "      <td>1963-07-01</td>\n",
              "      <td>17900</td>\n",
              "    </tr>\n",
              "  </tbody>\n",
              "</table>\n",
              "</div>\n",
              "    <div class=\"colab-df-buttons\">\n",
              "\n",
              "  <div class=\"colab-df-container\">\n",
              "    <button class=\"colab-df-convert\" onclick=\"convertToInteractive('df-f6b77be3-b6d0-43e3-b9a9-df1df0e2a85b')\"\n",
              "            title=\"Convert this dataframe to an interactive table.\"\n",
              "            style=\"display:none;\">\n",
              "\n",
              "  <svg xmlns=\"http://www.w3.org/2000/svg\" height=\"24px\" viewBox=\"0 -960 960 960\">\n",
              "    <path d=\"M120-120v-720h720v720H120Zm60-500h600v-160H180v160Zm220 220h160v-160H400v160Zm0 220h160v-160H400v160ZM180-400h160v-160H180v160Zm440 0h160v-160H620v160ZM180-180h160v-160H180v160Zm440 0h160v-160H620v160Z\"/>\n",
              "  </svg>\n",
              "    </button>\n",
              "\n",
              "  <style>\n",
              "    .colab-df-container {\n",
              "      display:flex;\n",
              "      gap: 12px;\n",
              "    }\n",
              "\n",
              "    .colab-df-convert {\n",
              "      background-color: #E8F0FE;\n",
              "      border: none;\n",
              "      border-radius: 50%;\n",
              "      cursor: pointer;\n",
              "      display: none;\n",
              "      fill: #1967D2;\n",
              "      height: 32px;\n",
              "      padding: 0 0 0 0;\n",
              "      width: 32px;\n",
              "    }\n",
              "\n",
              "    .colab-df-convert:hover {\n",
              "      background-color: #E2EBFA;\n",
              "      box-shadow: 0px 1px 2px rgba(60, 64, 67, 0.3), 0px 1px 3px 1px rgba(60, 64, 67, 0.15);\n",
              "      fill: #174EA6;\n",
              "    }\n",
              "\n",
              "    .colab-df-buttons div {\n",
              "      margin-bottom: 4px;\n",
              "    }\n",
              "\n",
              "    [theme=dark] .colab-df-convert {\n",
              "      background-color: #3B4455;\n",
              "      fill: #D2E3FC;\n",
              "    }\n",
              "\n",
              "    [theme=dark] .colab-df-convert:hover {\n",
              "      background-color: #434B5C;\n",
              "      box-shadow: 0px 1px 3px 1px rgba(0, 0, 0, 0.15);\n",
              "      filter: drop-shadow(0px 1px 2px rgba(0, 0, 0, 0.3));\n",
              "      fill: #FFFFFF;\n",
              "    }\n",
              "  </style>\n",
              "\n",
              "    <script>\n",
              "      const buttonEl =\n",
              "        document.querySelector('#df-f6b77be3-b6d0-43e3-b9a9-df1df0e2a85b button.colab-df-convert');\n",
              "      buttonEl.style.display =\n",
              "        google.colab.kernel.accessAllowed ? 'block' : 'none';\n",
              "\n",
              "      async function convertToInteractive(key) {\n",
              "        const element = document.querySelector('#df-f6b77be3-b6d0-43e3-b9a9-df1df0e2a85b');\n",
              "        const dataTable =\n",
              "          await google.colab.kernel.invokeFunction('convertToInteractive',\n",
              "                                                    [key], {});\n",
              "        if (!dataTable) return;\n",
              "\n",
              "        const docLinkHtml = 'Like what you see? Visit the ' +\n",
              "          '<a target=\"_blank\" href=https://colab.research.google.com/notebooks/data_table.ipynb>data table notebook</a>'\n",
              "          + ' to learn more about interactive tables.';\n",
              "        element.innerHTML = '';\n",
              "        dataTable['output_type'] = 'display_data';\n",
              "        await google.colab.output.renderOutput(dataTable, element);\n",
              "        const docLink = document.createElement('div');\n",
              "        docLink.innerHTML = docLinkHtml;\n",
              "        element.appendChild(docLink);\n",
              "      }\n",
              "    </script>\n",
              "  </div>\n",
              "\n",
              "\n",
              "    </div>\n",
              "  </div>\n"
            ]
          },
          "metadata": {},
          "execution_count": 75
        }
      ]
    },
    {
      "cell_type": "markdown",
      "source": [
        "## Data Clean-Up\n",
        "\n",
        "* Drop the month and date\n",
        "\n",
        "* get all in same data range\n",
        "\n",
        "* figure out the different scales\n",
        "\n"
      ],
      "metadata": {
        "id": "YBBGwL81wI6p"
      }
    },
    {
      "cell_type": "code",
      "source": [
        "#HomeOwnershipRates\n",
        "#HomeOwnershipRates.head(3)"
      ],
      "metadata": {
        "id": "ch07LrTK9uVu"
      },
      "execution_count": null,
      "outputs": []
    },
    {
      "cell_type": "code",
      "source": [
        "# prompt: I ahve a dolumn called Date with data like this 1984-01-01 and am only intersted in the year.  How do I drop the month and day from the column?\n",
        "\n",
        "HomeOwnershipRates['DATE'] = HomeOwnershipRates['DATE'].map(lambda x: x[:4])\n",
        "# HouseholdMedianIncome\n",
        "HouseholdMedianIncome['DATE'] = HouseholdMedianIncome['DATE'].map(lambda x: x[:4])\n",
        "US_MedianHomePrice['DATE'] = US_MedianHomePrice['DATE'].map(lambda x: x[:4])"
      ],
      "metadata": {
        "id": "FnNoL_r-01u7"
      },
      "execution_count": 76,
      "outputs": []
    },
    {
      "cell_type": "code",
      "source": [
        "#HomeownershipRates.head(3)\n"
      ],
      "metadata": {
        "id": "iGeCsQUV1X4E"
      },
      "execution_count": null,
      "outputs": []
    },
    {
      "cell_type": "code",
      "source": [
        "# HouseholdMedianIncome\n",
        "#HouseholdMedianIncome['DATE'] = HouseholdMedianIncome['DATE'].map(lambda x: x[:4])"
      ],
      "metadata": {
        "id": "Sxc7gPSu1dkB"
      },
      "execution_count": 54,
      "outputs": []
    },
    {
      "cell_type": "code",
      "source": [
        "#HouseholdMedianIncome.head()"
      ],
      "metadata": {
        "id": "yl3YJb5i1dbH"
      },
      "execution_count": null,
      "outputs": []
    },
    {
      "cell_type": "code",
      "source": [
        "# US_MedianHomePrice\n",
        "#US_MedianHomePrice['DATE'] = US_MedianHomePrice['DATE'].map(lambda x: x[:4])"
      ],
      "metadata": {
        "id": "0seKGh7f1dRM"
      },
      "execution_count": 55,
      "outputs": []
    },
    {
      "cell_type": "code",
      "source": [
        "#US_MedianHomePrice.head(3)"
      ],
      "metadata": {
        "id": "wQIUBEop2tBc"
      },
      "execution_count": null,
      "outputs": []
    },
    {
      "cell_type": "markdown",
      "source": [
        "## Lets rename all of the DATE cols to YEAR"
      ],
      "metadata": {
        "id": "k1xskIbL20L6"
      }
    },
    {
      "cell_type": "code",
      "source": [
        "# prompt: how do i rename the DATE column in HomeownershipRates to year? Home_Insurance_Cost\n",
        "Home_Insurance_Cost.rename(columns={'Year': 'YEAR'}, inplace=True)\n",
        "HomeOwnershipRates.rename(columns={'DATE': 'YEAR'}, inplace=True)\n",
        "HouseholdMedianIncome.rename(columns={'DATE': 'YEAR'}, inplace=True)\n",
        "US_MedianHomePrice.rename(columns={'DATE': 'YEAR'}, inplace=True)\n"
      ],
      "metadata": {
        "id": "hpflMZsO25UB"
      },
      "execution_count": 77,
      "outputs": []
    },
    {
      "cell_type": "markdown",
      "source": [
        "## Our  household Medain Income Dataset starts only in 2008 so we willl limit the other datasets to this as well"
      ],
      "metadata": {
        "id": "5n1MC2wI0ijr"
      }
    },
    {
      "cell_type": "markdown",
      "source": [
        "## First convert all YEAR columns to integers"
      ],
      "metadata": {
        "id": "4yt2jqH27Ayk"
      }
    },
    {
      "cell_type": "code",
      "source": [
        "# prompt: in the HomeownershipRates dataframe how do I convert the YEAR column to integer\n",
        "\n",
        "Home_Insurance_Cost['YEAR'] = Home_Insurance_Cost['YEAR'].astype(int)\n",
        "HomeOwnershipRates['YEAR'] = HomeOwnershipRates['YEAR'].astype(int)\n",
        "HouseholdMedianIncome['YEAR'] = HouseholdMedianIncome['YEAR'].astype(int)\n",
        "US_MedianHomePrice['YEAR'] = US_MedianHomePrice['YEAR'].astype(int)"
      ],
      "metadata": {
        "id": "q8z4kr6Q7Gr6"
      },
      "execution_count": 78,
      "outputs": []
    },
    {
      "cell_type": "code",
      "source": [
        "# prompt: how do i limit date for HomeownershipRates starting in the Year 2008?\n",
        "\n",
        "Home_Insurance_Cost = Home_Insurance_Cost[Home_Insurance_Cost['YEAR'] >= 2008]\n",
        "#HomeOwnershipRates = HomeOwnershipRates[HomeOwnershipRates['YEAR'] >= 2008]\n",
        "US_MedianHomePrice = US_MedianHomePrice[US_MedianHomePrice['YEAR'] >= 2008]\n",
        "\n",
        "# HomeownershipRates.head(3)"
      ],
      "metadata": {
        "id": "0D6pATjN0q0z"
      },
      "execution_count": 79,
      "outputs": []
    },
    {
      "cell_type": "markdown",
      "source": [
        "# Basement"
      ],
      "metadata": {
        "id": "fEZv4yTfnuCn"
      }
    },
    {
      "cell_type": "code",
      "execution_count": 3,
      "metadata": {
        "colab": {
          "base_uri": "https://localhost:8080/",
          "height": 671
        },
        "id": "zmx4uqMYLE2L",
        "outputId": "ee664306-ad70-4c41-f118-1c8902166561"
      },
      "outputs": [
        {
          "output_type": "display_data",
          "data": {
            "text/plain": [
              "<IPython.core.display.Javascript object>"
            ],
            "application/javascript": [
              "(async (port, path, width, height, cache, element) => {\n",
              "    if (!google.colab.kernel.accessAllowed && !cache) {\n",
              "      return;\n",
              "    }\n",
              "    element.appendChild(document.createTextNode(''));\n",
              "    const url = await google.colab.kernel.proxyPort(port, {cache});\n",
              "    const iframe = document.createElement('iframe');\n",
              "    iframe.src = new URL(path, url).toString();\n",
              "    iframe.height = height;\n",
              "    iframe.width = width;\n",
              "    iframe.style.border = 0;\n",
              "    iframe.allow = [\n",
              "        'accelerometer',\n",
              "        'autoplay',\n",
              "        'camera',\n",
              "        'clipboard-read',\n",
              "        'clipboard-write',\n",
              "        'gyroscope',\n",
              "        'magnetometer',\n",
              "        'microphone',\n",
              "        'serial',\n",
              "        'usb',\n",
              "        'xr-spatial-tracking',\n",
              "    ].join('; ');\n",
              "    element.appendChild(iframe);\n",
              "  })(8050, \"/\", \"100%\", 650, false, window.element)"
            ]
          },
          "metadata": {}
        }
      ],
      "source": [
        "app = dash.Dash(__name__)\n",
        "\n",
        "# Sample data\n",
        "years = [2010, 2011, 2012, 2013, 2014, 2015]\n",
        "data_set1 = [100, 150, 200, 180, 250, 300]\n",
        "data_set2 = [80, 120, 160, 140, 190, 220]\n",
        "data_set3 = [120, 100, 150, 130, 180, 210]\n",
        "\n",
        "app.layout = html.Div([\n",
        "    dcc.Graph(id='multi-line-graph'),\n",
        "])\n",
        "\n",
        "@app.callback(\n",
        "    Output('multi-line-graph', 'figure'),\n",
        "    Input('multi-line-graph', 'hoverData')\n",
        ")\n",
        "def update_graph(hoverData):\n",
        "    trace1 = go.Scatter(x=years, y=data_set1, mode='lines', name='Data Set 1')\n",
        "    trace2 = go.Scatter(x=years, y=data_set2, mode='lines', name='Data Set 2')\n",
        "    trace3 = go.Scatter(x=years, y=data_set3, mode='lines', name='Data Set 3')\n",
        "\n",
        "    layout = go.Layout(\n",
        "        title='Multi-Line Graph',\n",
        "        xaxis={'title': 'Years'},\n",
        "        yaxis={'title': 'Price'},\n",
        "        hovermode='closest'\n",
        "    )\n",
        "\n",
        "    return {'data': [trace1, trace2, trace3], 'layout': layout}\n",
        "\n",
        "if __name__ == '__main__':\n",
        "    app.run_server(debug=True)"
      ]
    }
  ]
}