{
  "cells": [
    {
      "cell_type": "markdown",
      "metadata": {
        "id": "view-in-github",
        "colab_type": "text"
      },
      "source": [
        "<a href=\"https://colab.research.google.com/github/JF11579/Plotly_RE/blob/main/condo_generic_2.ipynb\" target=\"_parent\"><img src=\"https://colab.research.google.com/assets/colab-badge.svg\" alt=\"Open In Colab\"/></a>"
      ]
    },
    {
      "cell_type": "markdown",
      "metadata": {
        "id": "drHJqZrXexmq"
      },
      "source": [
        "# Library"
      ]
    },
    {
      "cell_type": "code",
      "execution_count": null,
      "metadata": {
        "id": "BDX6ZtH7erOd"
      },
      "outputs": [],
      "source": [
        "# !pip install geopandas\n",
        "# !pip install geopy"
      ]
    },
    {
      "cell_type": "code",
      "execution_count": 1,
      "metadata": {
        "id": "m-NgAKIEfCUs"
      },
      "outputs": [],
      "source": [
        "import pandas as pd\n",
        "from google.colab import drive\n",
        "import plotly.express as px\n",
        "import numpy as np\n",
        "import csv"
      ]
    },
    {
      "cell_type": "markdown",
      "metadata": {
        "id": "aTm9uG0Ce0vB"
      },
      "source": []
    },
    {
      "cell_type": "markdown",
      "metadata": {
        "id": "QfBy555Ee1uQ"
      },
      "source": [
        "# Options"
      ]
    },
    {
      "cell_type": "code",
      "execution_count": 2,
      "metadata": {
        "id": "WhCXQJo9e4dj"
      },
      "outputs": [],
      "source": [
        "# Set pandas display options to show more rows and columns\n",
        "pd.set_option('display.max_rows', None)\n",
        "pd.set_option('display.max_columns', None)"
      ]
    },
    {
      "cell_type": "markdown",
      "metadata": {
        "id": "BXOAdeeSe5BL"
      },
      "source": [
        "# Data"
      ]
    },
    {
      "cell_type": "code",
      "execution_count": 6,
      "metadata": {
        "colab": {
          "base_uri": "https://localhost:8080/"
        },
        "id": "qK9XqWuIe7-S",
        "outputId": "da7ba748-63b2-41b9-da00-852e25115f06"
      },
      "outputs": [
        {
          "output_type": "stream",
          "name": "stdout",
          "text": [
            "Drive already mounted at /content/drive; to attempt to forcibly remount, call drive.mount(\"/content/drive\", force_remount=True).\n",
            "/content/drive/MyDrive/DATA/Real_Estate_Data\n"
          ]
        }
      ],
      "source": [
        "# Mount Google Drive\n",
        "from google.colab import drive\n",
        "drive.mount('/content/drive')\n",
        "\n",
        "# Change to the directory containing your CSV\n",
        "%cd /content/drive/MyDrive/DATA/Real_Estate_Data"
      ]
    },
    {
      "cell_type": "code",
      "execution_count": 9,
      "metadata": {
        "id": "jPV3YgQjfPFH"
      },
      "outputs": [],
      "source": [
        "# Coram_2= pd.read_csv('Coram_Oct12_2.csv')\n",
        "# Coram_1 = pd.read_csv('Coram_Oct12_1.csv')\n",
        "# Islip = pd.read_csv('Islips_Oct12.csv')\n",
        "# Manorville = pd.read_csv('Manorville_Oct12.csv')\n",
        "# rocky_Pt= pd.read_csv('RockyPt_Oct12.csv')\n",
        "#condo_Oct_14_random_2.csv\n",
        "condo = pd.read_csv('condo_Oct_14_random_2.csv')\n",
        "#condo = pd.read_csv('Bay_Shore_Oct12.csv')\n"
      ]
    },
    {
      "cell_type": "code",
      "execution_count": null,
      "metadata": {
        "colab": {
          "base_uri": "https://localhost:8080/",
          "height": 313
        },
        "id": "YyDfFb47XVVj",
        "outputId": "6d231c1d-5a21-4fd2-a316-13fb1fb2b586"
      },
      "outputs": [
        {
          "data": {
            "text/html": [
              "\n",
              "  <div id=\"df-2d67f397-c111-4902-bd22-3871c0f7a8ed\" class=\"colab-df-container\">\n",
              "    <div>\n",
              "<style scoped>\n",
              "    .dataframe tbody tr th:only-of-type {\n",
              "        vertical-align: middle;\n",
              "    }\n",
              "\n",
              "    .dataframe tbody tr th {\n",
              "        vertical-align: top;\n",
              "    }\n",
              "\n",
              "    .dataframe thead th {\n",
              "        text-align: right;\n",
              "    }\n",
              "</style>\n",
              "<table border=\"1\" class=\"dataframe\">\n",
              "  <thead>\n",
              "    <tr style=\"text-align: right;\">\n",
              "      <th></th>\n",
              "      <th>ML#</th>\n",
              "      <th>Style</th>\n",
              "      <th>Development</th>\n",
              "      <th>Sold_Price</th>\n",
              "      <th>Baths_Half</th>\n",
              "      <th>Bath</th>\n",
              "      <th>Bedrooms</th>\n",
              "      <th>Appearance</th>\n",
              "      <th>Unit_on_Floor_#</th>\n",
              "      <th>Days_On_Market</th>\n",
              "      <th>Contract_Date</th>\n",
              "      <th>Listing_Price</th>\n",
              "      <th>Town</th>\n",
              "      <th>Appearance_Ordinal</th>\n",
              "      <th>Appearance_categorical</th>\n",
              "      <th>Year</th>\n",
              "      <th>Month_Year</th>\n",
              "      <th>Month</th>\n",
              "    </tr>\n",
              "  </thead>\n",
              "  <tbody>\n",
              "    <tr>\n",
              "      <th>0</th>\n",
              "      <td>2</td>\n",
              "      <td>Other</td>\n",
              "      <td>123 Main St</td>\n",
              "      <td>239000</td>\n",
              "      <td>1</td>\n",
              "      <td>0</td>\n",
              "      <td>1</td>\n",
              "      <td>NaN</td>\n",
              "      <td>2</td>\n",
              "      <td>26</td>\n",
              "      <td>2020-06-27</td>\n",
              "      <td>239000</td>\n",
              "      <td>Eastern</td>\n",
              "      <td>0.0</td>\n",
              "      <td>unknown</td>\n",
              "      <td>1970-01-01 00:00:00.000002020</td>\n",
              "      <td>2020-06-01</td>\n",
              "      <td>06</td>\n",
              "    </tr>\n",
              "    <tr>\n",
              "      <th>1</th>\n",
              "      <td>1</td>\n",
              "      <td>Co-Op</td>\n",
              "      <td>123 Main St</td>\n",
              "      <td>224000</td>\n",
              "      <td>1</td>\n",
              "      <td>1</td>\n",
              "      <td>1</td>\n",
              "      <td>Mint</td>\n",
              "      <td>1</td>\n",
              "      <td>130</td>\n",
              "      <td>2020-03-06</td>\n",
              "      <td>229000</td>\n",
              "      <td>Eastern</td>\n",
              "      <td>4.0</td>\n",
              "      <td>Mint</td>\n",
              "      <td>1970-01-01 00:00:00.000002020</td>\n",
              "      <td>2020-03-01</td>\n",
              "      <td>03</td>\n",
              "    </tr>\n",
              "    <tr>\n",
              "      <th>2</th>\n",
              "      <td>5</td>\n",
              "      <td>Other</td>\n",
              "      <td>123 Main St</td>\n",
              "      <td>210000</td>\n",
              "      <td>1</td>\n",
              "      <td>0</td>\n",
              "      <td>1</td>\n",
              "      <td>NaN</td>\n",
              "      <td>1</td>\n",
              "      <td>142</td>\n",
              "      <td>2020-12-11</td>\n",
              "      <td>235000</td>\n",
              "      <td>Eastern</td>\n",
              "      <td>0.0</td>\n",
              "      <td>unknown</td>\n",
              "      <td>1970-01-01 00:00:00.000002020</td>\n",
              "      <td>2020-12-01</td>\n",
              "      <td>12</td>\n",
              "    </tr>\n",
              "    <tr>\n",
              "      <th>3</th>\n",
              "      <td>4</td>\n",
              "      <td>Other</td>\n",
              "      <td>123 Main St</td>\n",
              "      <td>230000</td>\n",
              "      <td>1</td>\n",
              "      <td>0</td>\n",
              "      <td>1</td>\n",
              "      <td>NaN</td>\n",
              "      <td>2</td>\n",
              "      <td>12</td>\n",
              "      <td>2020-11-11</td>\n",
              "      <td>235000</td>\n",
              "      <td>Eastern</td>\n",
              "      <td>0.0</td>\n",
              "      <td>unknown</td>\n",
              "      <td>1970-01-01 00:00:00.000002020</td>\n",
              "      <td>2020-11-01</td>\n",
              "      <td>11</td>\n",
              "    </tr>\n",
              "    <tr>\n",
              "      <th>4</th>\n",
              "      <td>6</td>\n",
              "      <td>Garden Apartment</td>\n",
              "      <td>123 Main St</td>\n",
              "      <td>265000</td>\n",
              "      <td>1</td>\n",
              "      <td>0</td>\n",
              "      <td>1</td>\n",
              "      <td>Mint</td>\n",
              "      <td>2</td>\n",
              "      <td>21</td>\n",
              "      <td>2022-09-09</td>\n",
              "      <td>269000</td>\n",
              "      <td>Eastern</td>\n",
              "      <td>4.0</td>\n",
              "      <td>Mint</td>\n",
              "      <td>1970-01-01 00:00:00.000002022</td>\n",
              "      <td>2022-09-01</td>\n",
              "      <td>09</td>\n",
              "    </tr>\n",
              "  </tbody>\n",
              "</table>\n",
              "</div>\n",
              "    <div class=\"colab-df-buttons\">\n",
              "\n",
              "  <div class=\"colab-df-container\">\n",
              "    <button class=\"colab-df-convert\" onclick=\"convertToInteractive('df-2d67f397-c111-4902-bd22-3871c0f7a8ed')\"\n",
              "            title=\"Convert this dataframe to an interactive table.\"\n",
              "            style=\"display:none;\">\n",
              "\n",
              "  <svg xmlns=\"http://www.w3.org/2000/svg\" height=\"24px\" viewBox=\"0 -960 960 960\">\n",
              "    <path d=\"M120-120v-720h720v720H120Zm60-500h600v-160H180v160Zm220 220h160v-160H400v160Zm0 220h160v-160H400v160ZM180-400h160v-160H180v160Zm440 0h160v-160H620v160ZM180-180h160v-160H180v160Zm440 0h160v-160H620v160Z\"/>\n",
              "  </svg>\n",
              "    </button>\n",
              "\n",
              "  <style>\n",
              "    .colab-df-container {\n",
              "      display:flex;\n",
              "      gap: 12px;\n",
              "    }\n",
              "\n",
              "    .colab-df-convert {\n",
              "      background-color: #E8F0FE;\n",
              "      border: none;\n",
              "      border-radius: 50%;\n",
              "      cursor: pointer;\n",
              "      display: none;\n",
              "      fill: #1967D2;\n",
              "      height: 32px;\n",
              "      padding: 0 0 0 0;\n",
              "      width: 32px;\n",
              "    }\n",
              "\n",
              "    .colab-df-convert:hover {\n",
              "      background-color: #E2EBFA;\n",
              "      box-shadow: 0px 1px 2px rgba(60, 64, 67, 0.3), 0px 1px 3px 1px rgba(60, 64, 67, 0.15);\n",
              "      fill: #174EA6;\n",
              "    }\n",
              "\n",
              "    .colab-df-buttons div {\n",
              "      margin-bottom: 4px;\n",
              "    }\n",
              "\n",
              "    [theme=dark] .colab-df-convert {\n",
              "      background-color: #3B4455;\n",
              "      fill: #D2E3FC;\n",
              "    }\n",
              "\n",
              "    [theme=dark] .colab-df-convert:hover {\n",
              "      background-color: #434B5C;\n",
              "      box-shadow: 0px 1px 3px 1px rgba(0, 0, 0, 0.15);\n",
              "      filter: drop-shadow(0px 1px 2px rgba(0, 0, 0, 0.3));\n",
              "      fill: #FFFFFF;\n",
              "    }\n",
              "  </style>\n",
              "\n",
              "    <script>\n",
              "      const buttonEl =\n",
              "        document.querySelector('#df-2d67f397-c111-4902-bd22-3871c0f7a8ed button.colab-df-convert');\n",
              "      buttonEl.style.display =\n",
              "        google.colab.kernel.accessAllowed ? 'block' : 'none';\n",
              "\n",
              "      async function convertToInteractive(key) {\n",
              "        const element = document.querySelector('#df-2d67f397-c111-4902-bd22-3871c0f7a8ed');\n",
              "        const dataTable =\n",
              "          await google.colab.kernel.invokeFunction('convertToInteractive',\n",
              "                                                    [key], {});\n",
              "        if (!dataTable) return;\n",
              "\n",
              "        const docLinkHtml = 'Like what you see? Visit the ' +\n",
              "          '<a target=\"_blank\" href=https://colab.research.google.com/notebooks/data_table.ipynb>data table notebook</a>'\n",
              "          + ' to learn more about interactive tables.';\n",
              "        element.innerHTML = '';\n",
              "        dataTable['output_type'] = 'display_data';\n",
              "        await google.colab.output.renderOutput(dataTable, element);\n",
              "        const docLink = document.createElement('div');\n",
              "        docLink.innerHTML = docLinkHtml;\n",
              "        element.appendChild(docLink);\n",
              "      }\n",
              "    </script>\n",
              "  </div>\n",
              "\n",
              "\n",
              "<div id=\"df-4cda3c96-c671-4a50-be11-c0e5ee0fcfa5\">\n",
              "  <button class=\"colab-df-quickchart\" onclick=\"quickchart('df-4cda3c96-c671-4a50-be11-c0e5ee0fcfa5')\"\n",
              "            title=\"Suggest charts.\"\n",
              "            style=\"display:none;\">\n",
              "\n",
              "<svg xmlns=\"http://www.w3.org/2000/svg\" height=\"24px\"viewBox=\"0 0 24 24\"\n",
              "     width=\"24px\">\n",
              "    <g>\n",
              "        <path d=\"M19 3H5c-1.1 0-2 .9-2 2v14c0 1.1.9 2 2 2h14c1.1 0 2-.9 2-2V5c0-1.1-.9-2-2-2zM9 17H7v-7h2v7zm4 0h-2V7h2v10zm4 0h-2v-4h2v4z\"/>\n",
              "    </g>\n",
              "</svg>\n",
              "  </button>\n",
              "\n",
              "<style>\n",
              "  .colab-df-quickchart {\n",
              "      --bg-color: #E8F0FE;\n",
              "      --fill-color: #1967D2;\n",
              "      --hover-bg-color: #E2EBFA;\n",
              "      --hover-fill-color: #174EA6;\n",
              "      --disabled-fill-color: #AAA;\n",
              "      --disabled-bg-color: #DDD;\n",
              "  }\n",
              "\n",
              "  [theme=dark] .colab-df-quickchart {\n",
              "      --bg-color: #3B4455;\n",
              "      --fill-color: #D2E3FC;\n",
              "      --hover-bg-color: #434B5C;\n",
              "      --hover-fill-color: #FFFFFF;\n",
              "      --disabled-bg-color: #3B4455;\n",
              "      --disabled-fill-color: #666;\n",
              "  }\n",
              "\n",
              "  .colab-df-quickchart {\n",
              "    background-color: var(--bg-color);\n",
              "    border: none;\n",
              "    border-radius: 50%;\n",
              "    cursor: pointer;\n",
              "    display: none;\n",
              "    fill: var(--fill-color);\n",
              "    height: 32px;\n",
              "    padding: 0;\n",
              "    width: 32px;\n",
              "  }\n",
              "\n",
              "  .colab-df-quickchart:hover {\n",
              "    background-color: var(--hover-bg-color);\n",
              "    box-shadow: 0 1px 2px rgba(60, 64, 67, 0.3), 0 1px 3px 1px rgba(60, 64, 67, 0.15);\n",
              "    fill: var(--button-hover-fill-color);\n",
              "  }\n",
              "\n",
              "  .colab-df-quickchart-complete:disabled,\n",
              "  .colab-df-quickchart-complete:disabled:hover {\n",
              "    background-color: var(--disabled-bg-color);\n",
              "    fill: var(--disabled-fill-color);\n",
              "    box-shadow: none;\n",
              "  }\n",
              "\n",
              "  .colab-df-spinner {\n",
              "    border: 2px solid var(--fill-color);\n",
              "    border-color: transparent;\n",
              "    border-bottom-color: var(--fill-color);\n",
              "    animation:\n",
              "      spin 1s steps(1) infinite;\n",
              "  }\n",
              "\n",
              "  @keyframes spin {\n",
              "    0% {\n",
              "      border-color: transparent;\n",
              "      border-bottom-color: var(--fill-color);\n",
              "      border-left-color: var(--fill-color);\n",
              "    }\n",
              "    20% {\n",
              "      border-color: transparent;\n",
              "      border-left-color: var(--fill-color);\n",
              "      border-top-color: var(--fill-color);\n",
              "    }\n",
              "    30% {\n",
              "      border-color: transparent;\n",
              "      border-left-color: var(--fill-color);\n",
              "      border-top-color: var(--fill-color);\n",
              "      border-right-color: var(--fill-color);\n",
              "    }\n",
              "    40% {\n",
              "      border-color: transparent;\n",
              "      border-right-color: var(--fill-color);\n",
              "      border-top-color: var(--fill-color);\n",
              "    }\n",
              "    60% {\n",
              "      border-color: transparent;\n",
              "      border-right-color: var(--fill-color);\n",
              "    }\n",
              "    80% {\n",
              "      border-color: transparent;\n",
              "      border-right-color: var(--fill-color);\n",
              "      border-bottom-color: var(--fill-color);\n",
              "    }\n",
              "    90% {\n",
              "      border-color: transparent;\n",
              "      border-bottom-color: var(--fill-color);\n",
              "    }\n",
              "  }\n",
              "</style>\n",
              "\n",
              "  <script>\n",
              "    async function quickchart(key) {\n",
              "      const quickchartButtonEl =\n",
              "        document.querySelector('#' + key + ' button');\n",
              "      quickchartButtonEl.disabled = true;  // To prevent multiple clicks.\n",
              "      quickchartButtonEl.classList.add('colab-df-spinner');\n",
              "      try {\n",
              "        const charts = await google.colab.kernel.invokeFunction(\n",
              "            'suggestCharts', [key], {});\n",
              "      } catch (error) {\n",
              "        console.error('Error during call to suggestCharts:', error);\n",
              "      }\n",
              "      quickchartButtonEl.classList.remove('colab-df-spinner');\n",
              "      quickchartButtonEl.classList.add('colab-df-quickchart-complete');\n",
              "    }\n",
              "    (() => {\n",
              "      let quickchartButtonEl =\n",
              "        document.querySelector('#df-4cda3c96-c671-4a50-be11-c0e5ee0fcfa5 button');\n",
              "      quickchartButtonEl.style.display =\n",
              "        google.colab.kernel.accessAllowed ? 'block' : 'none';\n",
              "    })();\n",
              "  </script>\n",
              "</div>\n",
              "\n",
              "    </div>\n",
              "  </div>\n"
            ],
            "text/plain": [
              "   ML#             Style  Development  Sold_Price  Baths_Half  Bath Bedrooms  \\\n",
              "0    2             Other  123 Main St      239000           1     0        1   \n",
              "1    1             Co-Op  123 Main St      224000           1     1        1   \n",
              "2    5             Other  123 Main St      210000           1     0        1   \n",
              "3    4             Other  123 Main St      230000           1     0        1   \n",
              "4    6  Garden Apartment  123 Main St      265000           1     0        1   \n",
              "\n",
              "  Appearance  Unit_on_Floor_#  Days_On_Market Contract_Date  Listing_Price  \\\n",
              "0        NaN                2              26    2020-06-27         239000   \n",
              "1       Mint                1             130    2020-03-06         229000   \n",
              "2        NaN                1             142    2020-12-11         235000   \n",
              "3        NaN                2              12    2020-11-11         235000   \n",
              "4       Mint                2              21    2022-09-09         269000   \n",
              "\n",
              "      Town Appearance_Ordinal Appearance_categorical  \\\n",
              "0  Eastern                0.0                unknown   \n",
              "1  Eastern                4.0                   Mint   \n",
              "2  Eastern                0.0                unknown   \n",
              "3  Eastern                0.0                unknown   \n",
              "4  Eastern                4.0                   Mint   \n",
              "\n",
              "                           Year Month_Year Month  \n",
              "0 1970-01-01 00:00:00.000002020 2020-06-01    06  \n",
              "1 1970-01-01 00:00:00.000002020 2020-03-01    03  \n",
              "2 1970-01-01 00:00:00.000002020 2020-12-01    12  \n",
              "3 1970-01-01 00:00:00.000002020 2020-11-01    11  \n",
              "4 1970-01-01 00:00:00.000002022 2022-09-01    09  "
            ]
          },
          "execution_count": 445,
          "metadata": {},
          "output_type": "execute_result"
        }
      ],
      "source": [
        "condo.head()\n"
      ]
    },
    {
      "cell_type": "markdown",
      "metadata": {
        "id": "hDu-Piaqe8V2"
      },
      "source": [
        "Preporcessing"
      ]
    },
    {
      "cell_type": "code",
      "execution_count": null,
      "metadata": {
        "id": "MVeEZFrefgCS"
      },
      "outputs": [],
      "source": [
        " #from geopy.geocoders import Nominatim\n",
        "\n",
        "# # Create a Nominatim geocoder object with a user agent\n",
        "# geolocator = Nominatim(user_agent=\"myGeocoder\")\n",
        "\n",
        "# # # geolocator = geocoders.Nominatim(user_agent=\"my_app\")\n",
        "# #\n",
        "# from geopy.geocoders import Nominatim\n",
        "\n",
        "\n",
        "# # Create a GeoPy geocoder\n",
        "# geolocator = Nominatim(user_agent=\"my_app\")"
      ]
    },
    {
      "cell_type": "code",
      "execution_count": null,
      "metadata": {
        "id": "Tl2eBL7nfhCg"
      },
      "outputs": [],
      "source": [
        "#condo = pd.concat([LeisureVillage  ,Waters_Edge ,RockyPt,Fair_Harbor , Picasso_Way, Les_Jardins ])\n",
        "#condo = pd.concat([Coram_2  ,Coram_1,  Islip , Manorville, rocky_Pt ])"
      ]
    },
    {
      "cell_type": "markdown",
      "metadata": {
        "id": "JJ4HeQtCu_YB"
      },
      "source": [
        "## Export as cav"
      ]
    },
    {
      "cell_type": "code",
      "execution_count": null,
      "metadata": {
        "id": "iRLozAZTulPF"
      },
      "outputs": [],
      "source": [
        "#df.to_csv(filename, index=False)\n",
        "#condo.to_csv('condo_Oct_14.csv', index=False)\n",
        "#condo_Oct_14_random.csv\n",
        "#condo.to_csv('condo_Oct_14_random.csv', index=False)"
      ]
    },
    {
      "cell_type": "code",
      "execution_count": null,
      "metadata": {
        "id": "zaA8PNELfm34"
      },
      "outputs": [],
      "source": [
        "condo.rename(columns=lambda x: x.replace(' ', '_'), inplace=True)\n",
        "condo = condo.drop_duplicates(subset=['ML#'], keep='first')"
      ]
    },
    {
      "cell_type": "code",
      "execution_count": null,
      "metadata": {
        "id": "qOYWHmZgYpyp"
      },
      "outputs": [],
      "source": [
        " condo[['ML#', 'Style','Development','Sold_Price', 'Baths_Half',\n",
        "                   'Bath','Bedrooms','Appearance',\n",
        "                'Unit_on_Floor_#','Contract_Date','Town']]"
      ]
    },
    {
      "cell_type": "code",
      "execution_count": null,
      "metadata": {
        "id": "qj5gKe9Rfr2W"
      },
      "outputs": [],
      "source": [
        "#condo = condo[['ML#', 'Style','Development','Sold_Price','Baths_Full', 'Baths_Half',\n",
        " #                  'Bath','Bedrooms','REO','Appearance','Approx_Int_Square_Footage',\n",
        "#               'Unit_on_Floor_#','Contract_Date','Days_On_Market','Listing_Date','Title_Date','Listing_Price','Town']]"
      ]
    },
    {
      "cell_type": "code",
      "execution_count": null,
      "metadata": {
        "id": "aO9vqGlVfuEf"
      },
      "outputs": [],
      "source": [
        "#condo['Baths_Full'].fillna(1, inplace=True)\n",
        "# Then, convert the column to integers\n",
        "#condo['Baths_Full'] = condo['Baths_Full'].astype(int)\n",
        "# I ti spossible tha the unit not have any\n",
        "#half baths but only full units\n",
        "\n",
        "#condo['Baths_Half'].fillna(0, inplace=True)\n",
        "\n",
        "# Then, convert the column to integers\n",
        "#condo['Baths_Half'] = condo['Baths_Half'].astype(int)\n",
        "#condo['Bath'].fillna(1, inplace=True)\n",
        "\n",
        "# Then, convert the column to integers\n",
        "#condo['Bath'] = condo['Bath'].astype(int)"
      ]
    },
    {
      "cell_type": "code",
      "execution_count": null,
      "metadata": {
        "id": "WFFRNLMllDt3"
      },
      "outputs": [],
      "source": [
        "# change the text description of the condo to a ordinal number:\n",
        "appearance_data = condo\n",
        "\n",
        "def map_existing_values(value):\n",
        "    if pd.isna(value):  # Handle NaN values explicitly\n",
        "        return 0\n",
        "    if value == \"Appearance\":\n",
        "        return 0\n",
        "    elif value in [\"AS IS\"]:\n",
        "        return 1\n",
        "    elif value in [\"Fair\", \"good\", \"Good\", \"Very Good\", \"Very good\"]:\n",
        "        return 2\n",
        "    elif value in [\"Excellent\", \"EXCELLENT\"]:\n",
        "        return 3\n",
        "    elif value == \"Move in\":\n",
        "        return 3\n",
        "    elif value in [\"diamond\", \"Diamond\", \"Mint\", \"mint\", \"Mint+\", \"Mint++\", \"Mint+++\", \"Mint+++\"]:\n",
        "        return 4\n",
        "    elif value == \"unknown\":\n",
        "        return 0\n",
        "\n",
        "condo['Appearance_Ordinal'] = condo['Appearance'].apply(map_existing_values)"
      ]
    },
    {
      "cell_type": "code",
      "execution_count": null,
      "metadata": {
        "id": "pNJMARJGlG5x"
      },
      "outputs": [],
      "source": [
        "# change the text description of the condo to a ordinal number:\n",
        "appearance_data = condo\n",
        "\n",
        "def map_existing_values(value):\n",
        "    if pd.isna(value):  # Handle NaN values explicitly\n",
        "        return \"unknown\"\n",
        "    if value == \"Appearance\":\n",
        "        return \"unknown\"\n",
        "    elif value in [\"AS IS\"]:\n",
        "        return \"Poor\"\n",
        "    elif value in [\"Fair\", \"good\", \"Good\", \"Very Good\", \"Very good\"]:\n",
        "        return \"Fair\"\n",
        "    elif value in [\"Excellent\", \"EXCELLENT\"]:\n",
        "        return \"Excellent\"\n",
        "    elif value == \"Move in\":\n",
        "        return \"Mint\"\n",
        "    elif value in [\"diamond\", \"Diamond\", \"Mint\", \"mint\", \"Mint+\", \"Mint++\", \"Mint+++\", \"Mint+++\"]:\n",
        "        return \"Mint\"\n",
        "    elif value == \"unknown\":\n",
        "        return \"unknown\"\n",
        "\n",
        "condo['Appearance_categorical'] = condo['Appearance'].apply(map_existing_values)"
      ]
    },
    {
      "cell_type": "code",
      "execution_count": null,
      "metadata": {
        "id": "NLThbN_ulKBZ"
      },
      "outputs": [],
      "source": [
        "condo['Appearance_Ordinal'].fillna(0, inplace=True)\n",
        "\n",
        "#condo['REO_Ordinal'] = condo['REO'].apply(lambda x: 1 if x == 'Y' else 0)\n",
        "\n",
        "# prompt: convert Bedrooms to integers\n",
        "\n",
        "condo['Bedrooms'].fillna(1, inplace=True)\n",
        "\n",
        "# Then, convert the column to integers\n",
        "condo['Bedrooms'] = condo['Bedrooms'].astype(int)\n",
        "\n",
        "# Convert 'Bedrooms' to a categorical data type\n",
        "condo['Bedrooms'] = condo['Bedrooms'].astype('category')\n",
        "condo['Appearance_Ordinal'] = condo['Appearance_Ordinal'].astype('category')\n",
        "# Appearance_categorical\n",
        "condo['Appearance_categorical'] = condo['Appearance_categorical'].astype('category')"
      ]
    },
    {
      "cell_type": "code",
      "execution_count": null,
      "metadata": {
        "id": "p7DCVK6rlO1q"
      },
      "outputs": [],
      "source": [
        "condo['Contract_Date'] = pd.to_datetime(condo['Contract_Date'])\n",
        "condo['Year'] = condo['Contract_Date'].dt.year"
      ]
    },
    {
      "cell_type": "code",
      "execution_count": null,
      "metadata": {
        "id": "huPX5jI7lSUz"
      },
      "outputs": [],
      "source": [
        "condo['Month_Year'] = condo['Contract_Date'].dt.strftime('%m-%Y')"
      ]
    },
    {
      "cell_type": "code",
      "execution_count": null,
      "metadata": {
        "id": "4vBO14QZlUXL"
      },
      "outputs": [],
      "source": [
        "condo['Month'] = condo['Contract_Date'].dt.strftime('%m')"
      ]
    },
    {
      "cell_type": "code",
      "execution_count": null,
      "metadata": {
        "id": "qUNmGiw1lWv0"
      },
      "outputs": [],
      "source": [
        "condo['Year'] = condo['Year'].astype('datetime64[ns]')\n",
        "condo['Month_Year'] = condo['Month_Year'].astype('datetime64[ns]')"
      ]
    },
    {
      "cell_type": "code",
      "execution_count": null,
      "metadata": {
        "id": "yq2VCOcrlbob"
      },
      "outputs": [],
      "source": [
        "condo['Month_Year'] = pd.to_datetime(condo['Month_Year'], format='%m-%Y')"
      ]
    },
    {
      "cell_type": "code",
      "execution_count": null,
      "metadata": {
        "id": "QoemPHbFlfGE"
      },
      "outputs": [],
      "source": [
        "#condo['Unit_on_Floor_#'] = pd.Categorical(condo['Unit_on_Floor_#'])"
      ]
    },
    {
      "cell_type": "code",
      "execution_count": null,
      "metadata": {
        "id": "0yf_-VcTlhVj"
      },
      "outputs": [],
      "source": [
        "condo['Unit_on_Floor_#'].fillna(1, inplace=True)"
      ]
    },
    {
      "cell_type": "code",
      "execution_count": null,
      "metadata": {
        "id": "G0Dl-HJElkBV"
      },
      "outputs": [],
      "source": [
        "\n",
        "#condo['Unit_on_Floor_#'] = condo['Unit_on_Floor_#'].astype('category')"
      ]
    },
    {
      "cell_type": "code",
      "execution_count": null,
      "metadata": {
        "colab": {
          "base_uri": "https://localhost:8080/"
        },
        "id": "r9T26tAMg_MN",
        "outputId": "d3871cc1-507e-4cff-b3dd-8b85d95f255b"
      },
      "outputs": [
        {
          "data": {
            "text/plain": [
              "[0, 1, 2]"
            ]
          },
          "execution_count": 464,
          "metadata": {},
          "output_type": "execute_result"
        }
      ],
      "source": [
        "floor_number = sorted(condo['Unit_on_Floor_#'].unique())\n",
        "floor_number"
      ]
    },
    {
      "cell_type": "markdown",
      "metadata": {
        "id": "Z6ceRmwjhrG4"
      },
      "source": [
        "Let us see ever row where unit on floor level exceeds 2"
      ]
    },
    {
      "cell_type": "markdown",
      "metadata": {
        "id": "TgzSSKPJhlN1"
      },
      "source": [
        "clean it up with if else statement"
      ]
    },
    {
      "cell_type": "code",
      "execution_count": null,
      "metadata": {
        "colab": {
          "base_uri": "https://localhost:8080/"
        },
        "id": "BpzZcp3ghNgo",
        "outputId": "5141f64e-0308-4071-fbae-46cc5d63501a"
      },
      "outputs": [
        {
          "name": "stdout",
          "output_type": "stream",
          "text": [
            "<class 'pandas.core.frame.DataFrame'>\n",
            "Int64Index: 1367 entries, 0 to 1366\n",
            "Data columns (total 18 columns):\n",
            " #   Column                  Non-Null Count  Dtype         \n",
            "---  ------                  --------------  -----         \n",
            " 0   ML#                     1367 non-null   int64         \n",
            " 1   Style                   1361 non-null   object        \n",
            " 2   Development             1367 non-null   object        \n",
            " 3   Sold_Price              1367 non-null   int64         \n",
            " 4   Baths_Half              1367 non-null   int64         \n",
            " 5   Bath                    1367 non-null   int64         \n",
            " 6   Bedrooms                1367 non-null   category      \n",
            " 7   Appearance              974 non-null    object        \n",
            " 8   Unit_on_Floor_#         1367 non-null   int64         \n",
            " 9   Days_On_Market          1367 non-null   int64         \n",
            " 10  Contract_Date           1367 non-null   datetime64[ns]\n",
            " 11  Listing_Price           1367 non-null   int64         \n",
            " 12  Town                    1367 non-null   object        \n",
            " 13  Appearance_Ordinal      1367 non-null   category      \n",
            " 14  Appearance_categorical  1147 non-null   category      \n",
            " 15  Year                    1367 non-null   datetime64[ns]\n",
            " 16  Month_Year              1367 non-null   datetime64[ns]\n",
            " 17  Month                   1367 non-null   object        \n",
            "dtypes: category(3), datetime64[ns](3), int64(7), object(5)\n",
            "memory usage: 175.4+ KB\n"
          ]
        }
      ],
      "source": [
        "condo.info()"
      ]
    },
    {
      "cell_type": "markdown",
      "metadata": {
        "id": "F8BBty5Flr2K"
      },
      "source": [
        "# Initial Plot"
      ]
    },
    {
      "cell_type": "code",
      "execution_count": null,
      "metadata": {
        "colab": {
          "base_uri": "https://localhost:8080/",
          "height": 637
        },
        "id": "eRN7O1SalnuV",
        "outputId": "854790ca-8fb9-455b-99cc-209114547964"
      },
      "outputs": [
        {
          "data": {
            "text/html": [
              "<html>\n",
              "<head><meta charset=\"utf-8\" /></head>\n",
              "<body>\n",
              "    <div>            <script src=\"https://cdnjs.cloudflare.com/ajax/libs/mathjax/2.7.5/MathJax.js?config=TeX-AMS-MML_SVG\"></script><script type=\"text/javascript\">if (window.MathJax && window.MathJax.Hub && window.MathJax.Hub.Config) {window.MathJax.Hub.Config({SVG: {font: \"STIX-Web\"}});}</script>                <script type=\"text/javascript\">window.PlotlyConfig = {MathJaxConfig: 'local'};</script>\n",
              "        <script charset=\"utf-8\" src=\"https://cdn.plot.ly/plotly-2.24.1.min.js\"></script>                <div id=\"f2c382e2-c4c5-4daa-a888-a97ee8d6d424\" class=\"plotly-graph-div\" style=\"height:600px; width:1000px;\"></div>            <script type=\"text/javascript\">                                    window.PLOTLYENV=window.PLOTLYENV || {};                                    if (document.getElementById(\"f2c382e2-c4c5-4daa-a888-a97ee8d6d424\")) {                    Plotly.newPlot(                        \"f2c382e2-c4c5-4daa-a888-a97ee8d6d424\",                        [{\"hovertemplate\":\"Bedrooms=1\\u003cbr\\u003eDevelopment=%{x}\\u003cbr\\u003eSold Price=%{y}\\u003cextra\\u003e\\u003c\\u002fextra\\u003e\",\"legendgroup\":\"1\",\"marker\":{\"color\":\"#636efa\",\"symbol\":\"circle\"},\"mode\":\"markers\",\"name\":\"1\",\"showlegend\":true,\"x\":[\"123 Main St\",\"123 Main St\",\"123 Main St\",\"123 Main St\",\"123 Main St\",\"123 Main St\",\"Cambridge\",\"Cambridge\",\"Cambridge\",\"Cambridge\",\"Cambridge\",\"Cambridge\",\"Cambridge\",\"Cambridge\",\"Cambridge\",\"Cambridge\",\"Cambridge\",\"Cambridge\",\"Cambridge\",\"Cambridge\",\"Cambridge\",\"Cambridge\",\"Cambridge\",\"Cambridge\",\"Cambridge\",\"Cambridge\",\"Cambridge\",\"Cambridge\",\"Cambridge\",\"Cambridge\",\"Cambridge\",\"Cambridge\",\"Cambridge\",\"Cambridge\",\"Cambridge\",\"Cambridge\",\"Cambridge\",\"Cambridge\",\"Cambridge\",\"Cambridge\",\"Cambridge\",\"Cambridge\",\"Cambridge\",\"Cambridge\",\"Cambridge\",\"Cambridge\",\"Cambridge\",\"Cambridge\",\"Cambridge\",\"Cambridge\",\"Cambridge\",\"Cambridge\",\"Cambridge\",\"Cambridge\",\"Cambridge\",\"Cambridge\",\"Cambridge\",\"Cambridge\",\"Cambridge\",\"Cambridge\",\"Cambridge\",\"Cambridge\",\"Cambridge\",\"Cambridge\",\"Cambridge\",\"Cambridge\",\"Cambridge\",\"Cambridge\",\"Cambridge\",\"Cambridge\",\"Cambridge\",\"Cambridge\",\"Cambridge\",\"Cambridge\",\"Cambridge\",\"Cambridge\",\"Cambridge\",\"Cambridge\",\"Cambridge\",\"Cambridge\",\"Cambridge\",\"Cambridge\",\"Cambridge\",\"Cambridge\",\"Cambridge\",\"Cambridge\",\"Cambridge\",\"Cambridge\",\"Cambridge\",\"Cambridge\",\"Cambridge\",\"Cambridge\",\"Cambridge\",\"Clover\",\"Clover\",\"Clover\",\"Clover\",\"Clover\",\"Clover\",\"Clover\",\"Clover\",\"Clover\",\"Clover\",\"Clover\",\"Clover\",\"Clover\",\"Clover\",\"Clover\",\"Clover\",\"Clover\",\"Clover\",\"Clover\",\"Clover\",\"Clover\",\"Clover\",\"Clover\",\"Clover\",\"Clover\",\"Clover\",\"Clover\",\"Clover\",\"Clover\",\"Clover\",\"Clover\",\"Clover\",\"Clover\",\"Clover\",\"Clover\",\"Clover\",\"Clover\",\"Clover\",\"Clover\",\"Clover\",\"Clover\",\"Clover\",\"Clover\",\"Clover\",\"Clover\",\"Clover\",\"Clover\",\"Clover\",\"Clover\",\"Clover\",\"Clover\",\"Clover\",\"Clover\",\"Clover\",\"Clover\",\"Clover\",\"Clover\",\"Clover\",\"Clover\",\"Clover\",\"Clover\",\"Clover\",\"Clover\",\"Clover\",\"Clover\",\"Clover\",\"Clover\",\"Clover\",\"Clover\",\"Clover\",\"Clover\",\"Clover\",\"Clover\",\"Clover\",\"Clover\",\"Crewville\",\"Crewville\",\"Crewville\",\"Crewville\",\"Crewville\",\"Crewville\",\"Crewville\",\"Crewville\",\"Crewville\",\"Crewville\",\"Crewville\",\"Crewville\",\"Crewville\",\"Crewville\",\"Crewville\",\"Crewville\",\"Crewville\",\"Crewville\",\"Crewville\",\"Crewville\",\"Crewville\",\"Crewville\",\"Crewville\",\"Crewville\",\"Crewville\",\"Crewville\",\"Crewville\",\"Forestville\",\"Forestville\",\"Forestville\",\"Forestville\",\"Forestville\",\"Forestville\",\"Forestville\",\"Forestville\",\"Forestville\",\"Forestville\",\"Forestville\",\"Forestville\",\"Forestville\",\"Forestville\",\"Forestville\",\"Forestville\",\"Forestville\",\"Forestville\",\"Forestville\",\"Forestville\",\"Forestville\",\"Forestville\",\"Forestville\",\"Forestville\",\"Forestville\",\"Forestville\",\"Forestville\",\"Forestville\",\"Forestville\",\"Forestville\",\"Glentrees\",\"Glentrees\",\"Glentrees\",\"Glentrees\",\"Glentrees\",\"Glentrees\",\"Glentrees\",\"Glentrees\",\"Glentrees\",\"Glentrees\",\"Glentrees\",\"Glentrees\",\"Golddream\",\"Golddream\",\"Golddream\",\"Golddream\",\"Golddream\",\"Golddream\",\"Golddream\",\"Golddream\",\"Golddream\",\"Greentown\",\"Greentown\",\"Greentown\",\"Greentown\",\"Greentown\",\"Greentown\",\"Greentown\",\"Greentown\",\"Greentown\",\"Greentown\",\"Greentown\",\"Greentown\",\"Greentown\",\"Greentown\",\"Greentown\",\"Greentown\",\"Greentown\",\"Greentown\",\"Greentown\",\"Greentown\",\"Greentown\",\"Greentown\",\"Greentown\",\"Greentown\",\"Greentown\",\"Greentown\",\"Greentown\",\"Greentown\",\"Hershare\",\"Hershare\",\"Hershare\",\"Hershare\",\"Hershare\",\"Hershare\",\"Hershare\",\"Hershare\",\"Jaggedtown\",\"Jaggedtown\",\"Jaggedtown\",\"Jaggedtown\",\"Jaggedtown\",\"Jaggedtown\",\"Jaggedtown\",\"Jaggedtown\",\"Jaggedtown\",\"Jaggedtown\",\"Jaggedtown\",\"Jaggedtown\",\"Jaggedtown\",\"Jaggedtown\",\"Jaggedtown\",\"Jaggedtown\",\"Jaggedtown\",\"Jaggedtown\",\"Jaggedtown\",\"Jaggedtown\",\"Jaggedtown\",\"Jaggedtown\",\"Jaggedtown\",\"Jaggedtown\",\"Jaggedtown\",\"Jaggedtown\",\"Jaggedtown\",\"Jaggedtown\",\"Jaggedtown\",\"Jaggedtown\",\"Jaggedtown\",\"Jaggedtown\",\"Jaggedtown\",\"Jaggedtown\",\"Jaggedtown\",\"Jaggedtown\",\"Jaggedtown\",\"Jaggedtown\",\"Jaggedtown\",\"Landings\",\"Landings\",\"Landings\",\"Landings\",\"Landings\",\"Landings\",\"Landings\",\"Laurel Vista\",\"Laurel Vista\",\"Laurel Vista\",\"Laurel Vista\",\"Laurel Vista\",\"Laurell Vsta\",\"Makerstown\",\"Makerstown\",\"Makerstown\",\"Makerstown\",\"Makerstown\",\"Makerstown\",\"Makerstown\",\"Makerstown\",\"Makerstown\",\"Makerstown\",\"Makerstowne\",\"Makrstown\",\"Oxford\",\"Oxford\",\"Oxford\",\"Oxford\",\"Oxford\",\"Oxford\",\"Oxford\",\"Oxford\",\"Oxford\",\"Oxford\",\"Oxford\",\"Oxford\",\"Oxford\",\"Oxford\",\"Oxford\",\"Oxford\",\"Oxford\",\"Oxford\",\"Oxford\",\"Oxford\",\"Oxford\",\"Oxford\",\"Oxford\",\"Oxford\",\"Oxford\",\"Oxford\",\"Oxford\",\"Oxford\",\"Oxford\",\"Oxford\",\"Oxford\",\"Oxford\",\"Oxford\",\"Oxford\",\"Oxford\",\"Oxford\",\"Oxford\",\"Oxford\",\"Oxford\",\"Oxford\",\"Oxford\",\"Oxford\",\"Oxford\",\"Oxford\",\"Oxford\",\"Oxford\",\"Oxford\",\"Oxford\",\"Oxford\",\"Oxford\",\"Oxford\",\"Oxford\",\"Oxford\",\"Oxford\",\"Parliment\",\"Parliment\",\"Parliment\",\"Parliment\",\"Parliment\",\"Parliment\",\"Parliment\",\"Parliment\",\"Parliment\",\"Parliment\",\"Parliment\",\"Parliment\",\"Parliment\",\"Parliment\",\"Parliment\",\"Parliment\",\"Parliment\",\"Parliment\",\"Parliment\",\"Parliment\",\"Parliment\",\"Parliment\",\"Parliment\",\"Parliment\",\"Parliment\",\"Parliment\",\"Parliment\",\"Parliment\",\"Parliment\",\"Parliment\",\"Peninusula\",\"Peninusula\",\"Peninusula\",\"Peninusula\",\"Peninusula\",\"Peninusula\",\"Peninusula\",\"Peninusula\",\"Pilgramstate\",\"Pilgramstate\",\"Pilgramstate\",\"Pilgramstate\",\"Pilgramstate\",\"Pilgramstate\",\"Pilgramstate\",\"Pilgramstate\",\"Pilgramstate\",\"Pilgramstate\",\"Pilgramstate\",\"Pilgramstate\",\"Pilgramstate\",\"Pilgramstate\",\"Pilgramstate\",\"Pilgramstate\",\"Pilgramstate\",\"Pilgramstate\",\"Pilgramstate\",\"Pilgramstate\",\"Pilgramstate\",\"Pilgramstate\",\"Pilgramstate\",\"Pilgramstate\",\"Pilgramstate\",\"Pilgramstate\",\"Pilgramstate\",\"Pilgramstate\",\"Pilgramstate\",\"Pilgramstate\",\"Pilgramstate\",\"Pilgramstate\",\"Pilgramstate\",\"Pilgramstate\",\"Pilgramstate\",\"Pilgramstate\",\"Pilgramstate\",\"Provance\",\"Provance\",\"Provance\",\"Provance\",\"Provance\",\"Provance\",\"Provance\",\"Provance\",\"Provance\",\"Provance\",\"Provance\",\"Provance\",\"Provance\",\"Provance\",\"Provance\",\"Provance\",\"Provance\",\"Provance\",\"Provance\",\"Provance\",\"Provance\",\"Pursuit\",\"Pursuit\",\"Pursuit\",\"Pursuit\",\"Pursuit\",\"Pursuit\",\"Pursuit\",\"Pursuit\",\"Pursuit\",\"Pursuit\",\"Pursuit\",\"Southland\",\"Southland\",\"Southland\",\"Southland\",\"Southland\",\"Southland\",\"Southland\",\"Southland\",\"Southland\",\"Southland\",\"Southland\",\"Southland\",\"Southland\",\"Southland\",\"Southland\",\"Southland\",\"Southland\",\"Southland\",\"Southland\",\"Southland\",\"Southland\",\"Southland\",\"Southland\",\"Southland\",\"Southland\",\"Southland\",\"Southland\",\"Southland\",\"Southland\",\"Southland\",\"Southland\",\"Southland\",\"Southland\",\"Southland\",\"Southland\",\"Southland\",\"Southland\",\"Southland\",\"Southland\",\"Southland\",\"Southland\",\"Southland\",\"Southland\",\"Southland\",\"Southland\",\"Southland\",\"Southland\",\"Southland\",\"Southland\",\"Southland\",\"Southland\",\"Southland\",\"Southland\",\"Southland\",\"Southland\",\"Southland\",\"Southland\",\"Southland\",\"Southland\",\"Southland\",\"Southland\",\"Southland\",\"Southland\",\"Southland\",\"Southland\",\"Southland\",\"Southland\",\"Southland\",\"Southland\",\"Southland\",\"Southland\",\"Southland\",\"Southland\",\"Southland\",\"Southland\",\"Southland\",\"Southland\",\"Southland\",\"Southland\",\"Southland\",\"Southland\",\"Southland\",\"Southland\",\"Southland\",\"Southland\",\"Southland\",\"Southland\",\"Southland\",\"Southland\",\"Southland\",\"Southland\",\"Southland\",\"Southland\",\"Southland\",\"Southland\",\"Southland\",\"Southland\",\"Southland\",\"Southland\",\"Southland\",\"Southland\",\"Southland\",\"Southland\",\"Southland\",\"Southland\",\"Southland\",\"Southland\",\"Southland\",\"Southland\",\"Southland\",\"Southland\",\"Southland\",\"Southland\",\"Southland\",\"Southland\",\"Southland\",\"Southland\",\"Southland\",\"Southland\",\"Southland\",\"Southland\",\"Southland\",\"Southland\",\"Southland\",\"Southland\",\"Southland\",\"Southland\",\"Southland\",\"Southland\",\"Southland\",\"Southland\",\"Southland\",\"Southland\",\"Southland\",\"Southland\",\"Southland\",\"Southland\",\"Southland\",\"Southland\",\"Southland\",\"Southland\",\"Southland\",\"Southland\",\"Southland\",\"Southland\",\"Southland\",\"Southland\",\"Southland\",\"Southland\",\"Southland\",\"Southland\",\"Southland\",\"Southland\",\"Southland\",\"Southland\",\"Southland\",\"Southland\",\"Southland\",\"Southland\",\"Southland\",\"Southland\",\"Southland\",\"Southland\",\"Southland\",\"Southland\",\"Southland\",\"Southland\",\"Southland\",\"Southland\",\"Southland\",\"Southland\",\"Southland\",\"Southland\",\"Southland\",\"Southland\",\"Southland\",\"Southland\",\"Southland\",\"Southland\",\"Southland\",\"Southland\",\"Southland\",\"Southland\",\"Southland\",\"Southland\",\"Southland\",\"Southland\",\"Southland\",\"Southland\",\"Southland\",\"Streamville\",\"Streamville\",\"Streamville\",\"Streamville\",\"Streamville\",\"Streamville\",\"Streamville\",\"Streamville\",\"Streamville\",\"Streamville\",\"University Heights\",\"University Heights\",\"Windswept\",\"Windswept\",\"Windswept\",\"Windswept\",\"Windswept\",\"Windswept\",\"Windswept\",\"Windswept\",\"Windswept\",\"Windswept\",\"Windswept\",\"Windswept\",\"Windswept\",\"Windswept\",\"Windswept\",\"Windswept\",\"Windswept\",\"Windswept\",\"Windswept\",\"Windswept\",\"Windswept\",\"Windswept\",\"Windswept\",\"Windswept\",\"Windswept\",\"Windswept\",\"Windswept\",\"Windswept\",\"Windswept\",\"Windswept\",\"Windswept\",\"Windswept\",\"Windswept\",\"Windswept\",\"Windswept\",\"Windswept\",\"Windswept\",\"Windswept\",\"Windswept\",\"Windswept\",\"Windswept\",\"Windswept\",\"Windswept\",\"Windswept\",\"Windswept\",\"Windswept\",\"Windswept\",\"Windswept\",\"Windswept\",\"Windswept\",\"Windswept\"],\"xaxis\":\"x\",\"y\":[239000,224000,210000,230000,265000,220000,225000,360000,285000,310000,350000,265000,355000,291000,320000,370000,276000,330000,325000,316000,277000,360000,280000,329000,325000,242000,275000,350000,300000,370000,262000,285000,360000,347000,288000,360000,400000,389000,395000,355000,367500,292000,360000,325000,233700,305000,278950,281500,249000,315000,310000,265000,294000,315000,279000,312000,320000,297500,279000,288500,280000,297500,315000,320000,315000,305000,270000,300000,350000,270000,307961,325000,258700,288000,256750,300000,258000,305000,300000,375000,336000,230720,195000,270000,257000,270000,240000,285000,284250,284500,251000,325000,217000,170000,134000,180000,184000,182000,140000,160000,221000,180000,200000,185000,190000,190000,240000,170000,220000,195000,195000,220000,185000,200000,230000,275000,245000,235000,225000,210000,220000,180000,215000,235000,162500,145000,135000,155725,195000,168000,161000,162000,182000,144500,155000,144000,160000,155000,182000,190000,185000,190000,207500,185000,205000,220000,235000,200000,225000,200000,190000,220000,229900,245000,185000,226000,257500,235000,205000,225000,205000,205000,225000,250000,277500,118000,139900,225000,329000,335000,335000,324000,324500,350000,358000,360000,365000,369000,355000,375000,291000,387500,430000,404000,395000,410000,427500,414999,405000,420000,415000,325000,303000,390000,396000,275000,95000,265000,245000,265000,275000,115000,210000,225000,215000,225000,252000,292500,189000,187000,185000,205000,190000,199000,195000,210000,275000,215000,219000,245000,230000,130000,250000,243500,288000,255000,265000,90000,196000,240000,187000,175000,195000,196000,230000,215000,205000,350000,325000,340000,349000,335000,220000,355000,370500,355000,60000,84000,64900,90000,76000,49000,45000,126500,110000,118000,109000,130000,110000,60000,210000,145000,105000,114990,115000,80000,169000,111500,80750,150000,84900,90000,63000,61000,459999,335000,400000,400000,421000,467000,465000,455000,60000,68000,89000,85000,85000,118000,146000,117000,125000,118000,115000,135000,200000,175000,143000,125000,156000,166000,72000,75000,79000,92000,76000,84000,104900,130000,127700,140000,135000,145000,140000,135000,135000,122000,155000,127000,165000,117000,70000,329000,349000,340000,370000,380000,295000,349000,175000,240000,255000,250000,175000,190000,365000,286500,320000,335000,350000,359990,375000,389000,391000,320000,273000,345000,330000,219000,420000,239000,260000,319000,325000,300000,375000,389990,355000,415000,318000,250000,385000,352500,320000,422500,355000,305000,287000,274000,290000,315000,290000,160000,282000,270000,272000,289000,322500,285000,255000,317000,315000,299250,250000,290000,320000,300000,320000,330000,224900,365000,356000,235000,329000,264000,315000,390000,317000,315000,360000,370000,295000,305000,339000,350000,340000,334000,349000,364000,350000,385000,370000,380000,390000,369000,429000,415000,500000,446000,418000,400000,377000,590000,405000,415000,430000,329000,325000,309000,280000,318000,240000,250000,250000,280000,275000,255000,222500,240000,190000,140000,185000,182000,160000,150000,140000,235000,200000,189000,217500,160000,141000,170000,260000,190000,225000,220000,195000,267000,231000,309000,197000,220000,146000,235000,194000,220000,140000,195000,210000,220000,155000,200000,220000,295000,225000,185000,198000,180000,205000,192000,195000,105000,105000,187000,180000,163000,170000,121000,265000,205000,182500,199990,254000,117667,150000,171000,400000,415000,325000,375000,263000,287000,290000,250000,275000,280000,370000,225000,130000,170000,150000,199900,160000,110000,165000,145000,185000,225000,150000,139900,135000,163000,160000,172000,170000,185000,190000,178000,195000,165000,190000,175000,191000,163000,130000,205000,186500,212000,204000,160000,186000,194000,195000,235000,195000,95000,115000,115000,140000,70000,119000,95000,132200,101000,143000,110000,120000,130000,135000,116000,94000,107000,119300,115000,116500,136000,150000,121500,155000,125000,121000,140000,160000,130000,98000,114000,115000,135000,126000,125000,146000,145000,135000,149000,140000,115000,155000,175000,150000,140000,155000,152000,150000,140000,149000,135000,133000,135000,187900,190000,145000,135000,145000,170000,160000,168000,168000,135000,126990,122000,93000,134000,145000,183000,140000,189000,165000,130000,170000,165000,156000,176000,178429,165000,183000,140000,150000,141500,175000,155000,205000,189000,155000,220000,170000,193000,195000,190000,161000,196000,215000,230000,190000,240000,190000,215000,193000,205000,207000,190000,120000,115000,110000,115000,120000,110000,122000,132000,115000,109000,110000,106000,130000,117000,113000,140000,105000,112500,135000,105000,144000,150000,135000,148000,133000,130000,145000,125000,110000,135000,120000,150000,125000,150000,150000,120000,140000,125000,140000,175000,125000,165000,105000,113000,112500,135000,85000,220500,209000,215000,225000,196500,212000,220000,235000,225000,265000,385000,370000,190000,229000,230000,180000,194000,203500,200000,183000,237500,273000,235000,225000,205000,287000,250000,230000,250000,300500,335000,305000,310000,225000,221000,320000,267000,269000,225000,270000,270000,272950,365000,275000,270000,330000,310000,270000,330000,285000,355000,275000,267500,325000,254000,159000,270000,245000,189000,290000,255000,275000,335000],\"yaxis\":\"y\",\"type\":\"scattergl\"},{\"hovertemplate\":\"Bedrooms=2\\u003cbr\\u003eDevelopment=%{x}\\u003cbr\\u003eSold Price=%{y}\\u003cextra\\u003e\\u003c\\u002fextra\\u003e\",\"legendgroup\":\"2\",\"marker\":{\"color\":\"#EF553B\",\"symbol\":\"circle\"},\"mode\":\"markers\",\"name\":\"2\",\"showlegend\":true,\"x\":[\"Beach Manor\",\"Beach Manor\",\"Brookstown\",\"Bucolic\",\"Bucolic\",\"Bucolic\",\"Bucolic\",\"Bucolic\",\"Bucolic\",\"Bucolic\",\"Bucolic\",\"Bucolic\",\"Bucolic\",\"Bucolic\",\"Bucolic\",\"Bucolic\",\"Bucolic\",\"Bucolic\",\"Bucolic\",\"Bucolic\",\"Bucolic\",\"Bucolic\",\"Bucolic\",\"Bucolic\",\"Bucolic\",\"Bucolic\",\"Bucolic\",\"Bucolic\",\"Bucolic\",\"Bucolic\",\"Bucolic\",\"Bucolic\",\"Bucolic\",\"Bucolic\",\"Bucolic\",\"Bucolic\",\"Bucolic\",\"Bucolic\",\"Bucolic\",\"Bucolic\",\"Bucolic\",\"Bucolic\",\"Bucolic\",\"Bucolic\",\"Cambridge\",\"Cambridge\",\"Cambridge\",\"Cambridge\",\"Cambridge\",\"Cambridge\",\"Cambridge\",\"Cambridge\",\"Cambridge\",\"Cambridge\",\"Cambridge\",\"Cambridge\",\"Cambridge\",\"Cambridge\",\"Cambridge\",\"Cambridge\",\"Cambridge\",\"Cambridge\",\"Cambridge\",\"Cambridge\",\"Cambridge\",\"Cambridge\",\"Cambridge\",\"Cambridge\",\"Cambridge\",\"Cambridge\",\"Cambridge\",\"Cambridge\",\"Cambridge\",\"Cambridge\",\"Cambridge\",\"Cambridge\",\"Cambridge\",\"Cambridge\",\"Cambridge\",\"Cambridge\",\"Cambridge\",\"Cambridge\",\"Cambridge\",\"Cambridge\",\"Cambridge\",\"Cambridge\",\"Cambridge\",\"Cambridge\",\"Cambridge\",\"Cambridge\",\"Cambridge\",\"Cambridge\",\"Cambridge\",\"Cambridge\",\"Cambridge\",\"Cambridge\",\"Cambridge\",\"Cambridge\",\"Cambridge\",\"Cambridge\",\"Cambridge\",\"Cambridge\",\"Cambridge\",\"Cambridge\",\"Cambridge\",\"Cambridge\",\"Cambridge\",\"Cambridge\",\"Cambridge\",\"Cambridge\",\"Cambridge\",\"Cambridge\",\"Cambridge\",\"Cambridge\",\"Cambridge\",\"Cambridge\",\"Cambridge\",\"Cambridge\",\"Cambridge\",\"Cambridge\",\"Cambridge\",\"Cambridge\",\"Cambridge\",\"Cambridge\",\"Cambridge\",\"Cambridge\",\"Cambridge\",\"Cambridge\",\"Cambridge\",\"Cambridge\",\"Cambridge\",\"Cambridge\",\"Cambridge\",\"Cambridge\",\"Cambridge\",\"Cambridge\",\"Cambridge\",\"Cambridge\",\"Cambridge\",\"Cambridge\",\"Cambridge\",\"Cambridge\",\"Cambridge\",\"Cambridge\",\"Cambridge\",\"Cambridge\",\"Cambridge\",\"Cambridge\",\"Cambridge\",\"Cambridge\",\"Cambridge\",\"Cambridge\",\"Cambridge\",\"Cambridge\",\"Cambridge\",\"Cambridge\",\"Cambridge\",\"Cambridge\",\"Cambridge\",\"Cambridge\",\"Cambridge\",\"Cambridge\",\"Cambridge\",\"Cambridge\",\"Cambridge\",\"Cambridge\",\"Cambridge\",\"Capital Heights\",\"Capital Heights\",\"Capital Heights\",\"Capital Heights\",\"Capital Heights\",\"Capital Heights\",\"Capital Heights\",\"Capital Heights\",\"Capital Heights\",\"Cranberry\",\"Cranberry\",\"Cranberry\",\"Cranberry\",\"Cranberry\",\"Crewville\",\"Crewville\",\"Crewville\",\"Crewville\",\"Crewville\",\"Crewville\",\"Crewville\",\"Crewville\",\"Crewville\",\"Crewville\",\"Crewville\",\"Crewville\",\"Crewville\",\"Crewville\",\"Crewville\",\"Crewville\",\"Crewville\",\"Crewville\",\"Crewville\",\"Crewville\",\"Crewville\",\"Crewville\",\"Crewville\",\"Crewville\",\"Crewville\",\"Crewville\",\"Crewville\",\"Crewville\",\"Crewville\",\"Crewville\",\"Crewville\",\"Crewville\",\"Crewville\",\"Crewville\",\"Crewville\",\"Eastown\",\"Eastown\",\"Eastown\",\"Eastown\",\"Eastown\",\"Eastown\",\"Eastown\",\"Eastown\",\"Eastown\",\"Eastown\",\"Eastown\",\"Eastown\",\"Eastown\",\"Eastown\",\"Eastown\",\"Eastown\",\"Eastown\",\"Eastown\",\"Eastown\",\"Eastown\",\"Eastown\",\"Eastown\",\"Golddream\",\"Greentown\",\"Greentown\",\"Greentown\",\"Greentown\",\"Greentown\",\"Greentown\",\"Greentown\",\"Greentown\",\"Greentown\",\"Greentown\",\"Greentown\",\"Greentown\",\"Greentown\",\"Greentown\",\"Greentown\",\"Greentown\",\"Greentown\",\"Greentown\",\"Greentown\",\"Greentown\",\"Greentown\",\"Greentown\",\"Greentown\",\"Greentown\",\"Greentown\",\"Greentown\",\"Greentown\",\"Greentown\",\"Greentown\",\"Greentown\",\"Greentown\",\"Greentown\",\"Greentown\",\"Greentown\",\"Greentown\",\"Greentown\",\"Greentown\",\"Greentown\",\"Greentown\",\"Greentown\",\"Greentown\",\"Greentown\",\"Greentown\",\"Greentown\",\"Greentown\",\"Greentown\",\"Greentown\",\"Greentown\",\"Greentown\",\"Greentown\",\"Greentown\",\"Greentown\",\"Greentown\",\"Greentown\",\"Greentown\",\"Greentown\",\"Greentown\",\"Greentown\",\"Greentown\",\"Greentown\",\"Greentown\",\"Greentown\",\"Greentown\",\"Greentown\",\"Greentown\",\"Greentown\",\"Greentown\",\"Greentown\",\"Greentown\",\"Greentown\",\"Greentown\",\"Greentown\",\"Greentown\",\"Greentown\",\"Greentown\",\"Greentown\",\"Greentown\",\"Greentown\",\"Greentown\",\"Greentown\",\"Greentown\",\"Greentown\",\"Greentown\",\"Greentown\",\"Greentown\",\"Greentown\",\"Greentown\",\"Greentown\",\"Greentown\",\"Greentown\",\"Hamptown\",\"Hamptown\",\"Hamptown\",\"Hamptown\",\"Hamptown\",\"Hamptown\",\"Hamptown\",\"Hamptown\",\"Hamptown\",\"Hamptown\",\"Hamptown\",\"Hamptown\",\"Landings\",\"Landings\",\"Landings\",\"Landings\",\"Landings\",\"Landings\",\"Landings\",\"Landings\",\"Landings\",\"Landings\",\"Landings\",\"Landings\",\"Landings\",\"Landings\",\"Landings\",\"Landings\",\"Landings\",\"Landings\",\"Landings\",\"Landings\",\"Landings\",\"Landings\",\"Landings\",\"Landings\",\"Laurel Vista\",\"Laurel Vista\",\"Laurel Vista\",\"Laurel Vista\",\"Makerstsown\",\"Mapletown\",\"Mapletown\",\"Mapletown\",\"Mapletown\",\"Mapletown\",\"Mapletown\",\"Oxford\",\"Oxford\",\"Oxford\",\"Oxford\",\"Oxford\",\"Oxford\",\"Oxford\",\"Oxford\",\"Oxford\",\"Oxford\",\"Oxford\",\"Oxford\",\"Oxford\",\"Oxford\",\"Oxford\",\"Oxford\",\"Oxford\",\"Oxford\",\"Oxford\",\"Oxford\",\"Oxford\",\"Oxford\",\"Oxford\",\"Oxford\",\"Oxford\",\"Oxford\",\"Oxford\",\"Oxford\",\"Oxford\",\"Oxford\",\"Oxford\",\"Oxford\",\"Oxford\",\"Oxford\",\"Oxford\",\"Oxford\",\"Oxford\",\"Oxford\",\"Oxford\",\"Oxford\",\"Oxford\",\"Oxford\",\"Oxford\",\"Oxford\",\"Oxford\",\"Oxford\",\"Oxford\",\"Oxford\",\"Oxford\",\"Oxford\",\"Parliment\",\"Parliment\",\"Parliment\",\"Parliment\",\"Parliment\",\"Parliment\",\"Parliment\",\"Parliment\",\"Parliment\",\"Parliment\",\"Parliment\",\"Parliment\",\"Parliment\",\"Parliment\",\"Parliment\",\"Parliment\",\"Parliment\",\"Parliment\",\"Parliment\",\"Parliment\",\"Parliment\",\"Parliment\",\"Parliment\",\"Parliment\",\"Parliment\",\"Parliment\",\"Parliment\",\"Parliment\",\"Parliment\",\"Parliment\",\"Parliment\",\"Parliment\",\"Parliment\",\"Parliment\",\"Parliment\",\"Parliment\",\"Parliment\",\"Parliment\",\"Parliment\",\"Parliment\",\"Parliment\",\"Parliment\",\"Parliment\",\"Parliment\",\"Parliment\",\"Parliment\",\"Parliment\",\"Parliment\",\"Parliment\",\"Parliment\",\"Parliment\",\"Parliment\",\"Parliment\",\"Parliment\",\"Parliment\",\"Parliment\",\"Parliment\",\"Parliment\",\"Parliment\",\"Parliment\",\"Parliment\",\"Parliment\",\"Parliment\",\"Parliment\",\"Parliment\",\"Parliment\",\"Parliment\",\"Parliment\",\"Parliment\",\"Parliment\",\"Parliment\",\"Parliment\",\"Parliment\",\"Parliment\",\"Parliment\",\"Parliment\",\"Parliment\",\"Parliment\",\"Parliment\",\"Parliment\",\"Parliment\",\"Parliment\",\"Parliment\",\"Parliment\",\"Parliment\",\"Pilgramstate\",\"Pilgramstate\",\"Pilgramstate\",\"Pursuit\",\"Pursuit\",\"Pursuit\",\"Pursuit\",\"Pursuit\",\"Pursuit\",\"Pursuit\",\"Pursuit\",\"Pursuit\",\"Pursuit\",\"Pursuit\",\"Pursuit\",\"Pursuit\",\"Pursuit\",\"Pursuit\",\"Pursuit\",\"Pursuit\",\"Pursuit\",\"Pursuit\",\"Pursuit\",\"Pursuit\",\"Pursuit\",\"Pursuit\",\"Pursuit\",\"Pursuit\",\"Pursuit\",\"Pursuit\",\"Southland\",\"Southland\",\"Southland\",\"Southland\",\"University Heights\",\"Wolfville\",\"Wolfville\",\"Wolfville\",\"Wolfville\",\"Wolfville\",\"Wolfville\",\"Wolfville\",\"Wolfville\",\"Wolfville\",\"Wolfville\",\"Wolfville\",\"Wolfville\",\"Wolfville\",\"Wolfville\",\"Wolfville\",\"Wolfville\",\"Wolfville\",\"Wolfville\",\"Wolfville\",\"Wolfville\",\"Wolfville\",\"Wolfville\",\"Wolfville\",\"Wolfville\",\"Wolfville\",\"Wolfville\",\"Wolfville\",\"Wolfville\",\"Yellowstone\",\"Yellowstone\",\"Yellowstone\",\"Yellowstone\",\"Yellowstone\",\"Yellowstone\",\"Yellowstone\",\"Yellowstone\",\"Yellowstone\",\"Yellowstone\",\"Yellowstone\",\"Yellowstone\"],\"xaxis\":\"x\",\"y\":[450000,469000,394000,350000,400000,381000,398500,384990,350000,369000,372000,365000,356800,410000,389000,345000,320000,350000,390000,410000,370000,360000,419000,285000,328000,323999,298500,310000,360000,335000,329000,330000,330000,325000,349000,339000,350000,300000,350000,375000,360000,300000,300000,314000,277000,410000,380000,350000,300000,330000,360000,320000,371000,340000,369990,420000,220000,375000,407000,345000,365000,390000,380000,382500,375000,380000,370000,395000,317500,395000,345000,377500,344000,350000,349000,327000,373000,400000,255000,272000,240000,283000,260000,245000,255000,289900,290000,278000,322500,310000,269000,289900,280000,340000,280000,290000,315000,300000,320000,262000,285000,295000,300000,286000,255000,350000,349000,288000,275000,324900,335000,310000,315000,375000,395200,275000,275000,290000,357000,350000,315000,329000,345000,360000,305000,355000,310000,340000,275000,255000,267000,253800,385000,325000,337000,310000,365000,300000,310000,309000,285000,240000,295000,268000,284900,325000,365000,330000,325000,355000,360000,265000,389000,312000,339000,295000,370000,350000,265000,275000,285000,290000,275000,248000,340000,245000,312500,420000,415000,445000,340000,389000,380000,440000,385000,369000,415000,450000,489000,459000,275000,331000,385000,340000,401000,410000,337500,437000,405000,380000,405000,450000,450000,442000,450000,395000,425000,420000,400000,400000,475000,455000,435000,437000,480000,405000,441000,381000,420000,480000,435000,435000,470000,399000,400000,410000,463835,452900,459900,449900,452900,449900,457900,477900,449900,457900,457900,469900,457900,447900,485070,477900,441000,437900,453900,452900,469900,472900,347500,225000,55000,175000,165000,115500,155000,160000,174000,110000,100000,153000,147000,77500,169000,140000,119000,154000,160000,155000,172500,117500,90000,75000,95000,155000,157000,160000,164900,155000,130000,119000,169000,200000,155900,189000,91000,172000,196100,150000,172000,195000,180000,181000,175000,184550,115000,180000,175000,185000,195000,122500,190000,145000,197500,95000,189900,200000,200000,145000,230000,95000,193500,200000,183000,105000,218000,90000,218000,165000,175000,167500,90000,173000,190000,190000,210000,199000,235000,184500,185000,122500,190000,226000,85000,55000,80000,54000,172000,105000,225000,305000,325000,330500,331000,350000,315000,319000,327500,370000,350000,390000,396000,393000,310000,320000,400000,320000,415000,355000,455000,339000,465000,345000,355000,490000,370000,395000,393500,315000,355000,365000,375000,350000,395000,385000,355000,400000,363000,290000,315000,285000,479000,480000,439999,430000,415000,435000,445000,360000,417000,375000,410000,385000,390000,375000,352500,435000,367500,425000,385000,424300,380000,365000,395000,385000,370000,415000,440000,435000,377000,424000,310000,278000,329000,330000,324450,305000,280000,205000,402500,355000,338000,360000,412250,425000,289750,384000,369999,360000,335000,310000,365000,269000,255000,305114,357000,374999,535000,310000,335000,355000,364000,385000,400000,400000,425000,395000,315000,370000,335000,315000,454000,375000,320000,351500,479000,385000,485000,469000,415000,405000,475000,449000,445000,415000,384000,440000,475000,410000,545000,475000,488000,415000,450000,465000,429000,440000,300000,334990,367000,325000,320000,350000,310000,320000,303000,335000,329000,387500,355000,360000,389000,385000,390000,425000,420000,402500,406000,427500,320000,325000,399000,380000,370000,429000,370000,410000,380000,365000,380000,415000,420000,355000,305000,310000,345000,387000,350000,390000,412500,330000,351000,450000,470000,460000,436000,350000,395000,385000,475000,460000,472000,470000,442000,440000,405000,325000,329000,340000,345000,295000,330000,345000,350000,340000,370000,310000,339000,350000,304000,287000,265000,205000,141000,190000,189000,323500,350000,346000,318000,365000,395000,388000,385000,420000,426000,410000,435000,358000,330000,340000,360000,369990,385000,375000,401000,420000,430000,429000,365000,387000,380000,415000,410000,439000,354000,429000,393000,459000,405000,495000,410000,369000,362500,385000,355000,295500],\"yaxis\":\"y\",\"type\":\"scattergl\"},{\"hovertemplate\":\"Bedrooms=3\\u003cbr\\u003eDevelopment=%{x}\\u003cbr\\u003eSold Price=%{y}\\u003cextra\\u003e\\u003c\\u002fextra\\u003e\",\"legendgroup\":\"3\",\"marker\":{\"color\":\"#00cc96\",\"symbol\":\"circle\"},\"mode\":\"markers\",\"name\":\"3\",\"showlegend\":true,\"x\":[\"Crewville\",\"Crewville\",\"Landings\",\"Landings\",\"Landings\",\"Landings\",\"Landings\",\"Landings\",\"Landings\",\"Landings\",\"Mapletown\",\"Parliment\",\"Parliment\",\"University Heights\",\"Wolfville\",\"Yellowstone\",\"Yellowstone\",\"Yellowstone\",\"Yellowstone\",\"Yellowstone\",\"Yellowstone\"],\"xaxis\":\"x\",\"y\":[487000,350000,475000,488000,437000,415000,420000,430000,447000,470000,435000,470000,519000,399000,426000,399000,501000,545000,480000,495000,430000],\"yaxis\":\"y\",\"type\":\"scattergl\"}],                        {\"template\":{\"data\":{\"barpolar\":[{\"marker\":{\"line\":{\"color\":\"white\",\"width\":0.5},\"pattern\":{\"fillmode\":\"overlay\",\"size\":10,\"solidity\":0.2}},\"type\":\"barpolar\"}],\"bar\":[{\"error_x\":{\"color\":\"#2a3f5f\"},\"error_y\":{\"color\":\"#2a3f5f\"},\"marker\":{\"line\":{\"color\":\"white\",\"width\":0.5},\"pattern\":{\"fillmode\":\"overlay\",\"size\":10,\"solidity\":0.2}},\"type\":\"bar\"}],\"carpet\":[{\"aaxis\":{\"endlinecolor\":\"#2a3f5f\",\"gridcolor\":\"#C8D4E3\",\"linecolor\":\"#C8D4E3\",\"minorgridcolor\":\"#C8D4E3\",\"startlinecolor\":\"#2a3f5f\"},\"baxis\":{\"endlinecolor\":\"#2a3f5f\",\"gridcolor\":\"#C8D4E3\",\"linecolor\":\"#C8D4E3\",\"minorgridcolor\":\"#C8D4E3\",\"startlinecolor\":\"#2a3f5f\"},\"type\":\"carpet\"}],\"choropleth\":[{\"colorbar\":{\"outlinewidth\":0,\"ticks\":\"\"},\"type\":\"choropleth\"}],\"contourcarpet\":[{\"colorbar\":{\"outlinewidth\":0,\"ticks\":\"\"},\"type\":\"contourcarpet\"}],\"contour\":[{\"colorbar\":{\"outlinewidth\":0,\"ticks\":\"\"},\"colorscale\":[[0.0,\"#0d0887\"],[0.1111111111111111,\"#46039f\"],[0.2222222222222222,\"#7201a8\"],[0.3333333333333333,\"#9c179e\"],[0.4444444444444444,\"#bd3786\"],[0.5555555555555556,\"#d8576b\"],[0.6666666666666666,\"#ed7953\"],[0.7777777777777778,\"#fb9f3a\"],[0.8888888888888888,\"#fdca26\"],[1.0,\"#f0f921\"]],\"type\":\"contour\"}],\"heatmapgl\":[{\"colorbar\":{\"outlinewidth\":0,\"ticks\":\"\"},\"colorscale\":[[0.0,\"#0d0887\"],[0.1111111111111111,\"#46039f\"],[0.2222222222222222,\"#7201a8\"],[0.3333333333333333,\"#9c179e\"],[0.4444444444444444,\"#bd3786\"],[0.5555555555555556,\"#d8576b\"],[0.6666666666666666,\"#ed7953\"],[0.7777777777777778,\"#fb9f3a\"],[0.8888888888888888,\"#fdca26\"],[1.0,\"#f0f921\"]],\"type\":\"heatmapgl\"}],\"heatmap\":[{\"colorbar\":{\"outlinewidth\":0,\"ticks\":\"\"},\"colorscale\":[[0.0,\"#0d0887\"],[0.1111111111111111,\"#46039f\"],[0.2222222222222222,\"#7201a8\"],[0.3333333333333333,\"#9c179e\"],[0.4444444444444444,\"#bd3786\"],[0.5555555555555556,\"#d8576b\"],[0.6666666666666666,\"#ed7953\"],[0.7777777777777778,\"#fb9f3a\"],[0.8888888888888888,\"#fdca26\"],[1.0,\"#f0f921\"]],\"type\":\"heatmap\"}],\"histogram2dcontour\":[{\"colorbar\":{\"outlinewidth\":0,\"ticks\":\"\"},\"colorscale\":[[0.0,\"#0d0887\"],[0.1111111111111111,\"#46039f\"],[0.2222222222222222,\"#7201a8\"],[0.3333333333333333,\"#9c179e\"],[0.4444444444444444,\"#bd3786\"],[0.5555555555555556,\"#d8576b\"],[0.6666666666666666,\"#ed7953\"],[0.7777777777777778,\"#fb9f3a\"],[0.8888888888888888,\"#fdca26\"],[1.0,\"#f0f921\"]],\"type\":\"histogram2dcontour\"}],\"histogram2d\":[{\"colorbar\":{\"outlinewidth\":0,\"ticks\":\"\"},\"colorscale\":[[0.0,\"#0d0887\"],[0.1111111111111111,\"#46039f\"],[0.2222222222222222,\"#7201a8\"],[0.3333333333333333,\"#9c179e\"],[0.4444444444444444,\"#bd3786\"],[0.5555555555555556,\"#d8576b\"],[0.6666666666666666,\"#ed7953\"],[0.7777777777777778,\"#fb9f3a\"],[0.8888888888888888,\"#fdca26\"],[1.0,\"#f0f921\"]],\"type\":\"histogram2d\"}],\"histogram\":[{\"marker\":{\"pattern\":{\"fillmode\":\"overlay\",\"size\":10,\"solidity\":0.2}},\"type\":\"histogram\"}],\"mesh3d\":[{\"colorbar\":{\"outlinewidth\":0,\"ticks\":\"\"},\"type\":\"mesh3d\"}],\"parcoords\":[{\"line\":{\"colorbar\":{\"outlinewidth\":0,\"ticks\":\"\"}},\"type\":\"parcoords\"}],\"pie\":[{\"automargin\":true,\"type\":\"pie\"}],\"scatter3d\":[{\"line\":{\"colorbar\":{\"outlinewidth\":0,\"ticks\":\"\"}},\"marker\":{\"colorbar\":{\"outlinewidth\":0,\"ticks\":\"\"}},\"type\":\"scatter3d\"}],\"scattercarpet\":[{\"marker\":{\"colorbar\":{\"outlinewidth\":0,\"ticks\":\"\"}},\"type\":\"scattercarpet\"}],\"scattergeo\":[{\"marker\":{\"colorbar\":{\"outlinewidth\":0,\"ticks\":\"\"}},\"type\":\"scattergeo\"}],\"scattergl\":[{\"marker\":{\"colorbar\":{\"outlinewidth\":0,\"ticks\":\"\"}},\"type\":\"scattergl\"}],\"scattermapbox\":[{\"marker\":{\"colorbar\":{\"outlinewidth\":0,\"ticks\":\"\"}},\"type\":\"scattermapbox\"}],\"scatterpolargl\":[{\"marker\":{\"colorbar\":{\"outlinewidth\":0,\"ticks\":\"\"}},\"type\":\"scatterpolargl\"}],\"scatterpolar\":[{\"marker\":{\"colorbar\":{\"outlinewidth\":0,\"ticks\":\"\"}},\"type\":\"scatterpolar\"}],\"scatter\":[{\"fillpattern\":{\"fillmode\":\"overlay\",\"size\":10,\"solidity\":0.2},\"type\":\"scatter\"}],\"scatterternary\":[{\"marker\":{\"colorbar\":{\"outlinewidth\":0,\"ticks\":\"\"}},\"type\":\"scatterternary\"}],\"surface\":[{\"colorbar\":{\"outlinewidth\":0,\"ticks\":\"\"},\"colorscale\":[[0.0,\"#0d0887\"],[0.1111111111111111,\"#46039f\"],[0.2222222222222222,\"#7201a8\"],[0.3333333333333333,\"#9c179e\"],[0.4444444444444444,\"#bd3786\"],[0.5555555555555556,\"#d8576b\"],[0.6666666666666666,\"#ed7953\"],[0.7777777777777778,\"#fb9f3a\"],[0.8888888888888888,\"#fdca26\"],[1.0,\"#f0f921\"]],\"type\":\"surface\"}],\"table\":[{\"cells\":{\"fill\":{\"color\":\"#EBF0F8\"},\"line\":{\"color\":\"white\"}},\"header\":{\"fill\":{\"color\":\"#C8D4E3\"},\"line\":{\"color\":\"white\"}},\"type\":\"table\"}]},\"layout\":{\"annotationdefaults\":{\"arrowcolor\":\"#2a3f5f\",\"arrowhead\":0,\"arrowwidth\":1},\"autotypenumbers\":\"strict\",\"coloraxis\":{\"colorbar\":{\"outlinewidth\":0,\"ticks\":\"\"}},\"colorscale\":{\"diverging\":[[0,\"#8e0152\"],[0.1,\"#c51b7d\"],[0.2,\"#de77ae\"],[0.3,\"#f1b6da\"],[0.4,\"#fde0ef\"],[0.5,\"#f7f7f7\"],[0.6,\"#e6f5d0\"],[0.7,\"#b8e186\"],[0.8,\"#7fbc41\"],[0.9,\"#4d9221\"],[1,\"#276419\"]],\"sequential\":[[0.0,\"#0d0887\"],[0.1111111111111111,\"#46039f\"],[0.2222222222222222,\"#7201a8\"],[0.3333333333333333,\"#9c179e\"],[0.4444444444444444,\"#bd3786\"],[0.5555555555555556,\"#d8576b\"],[0.6666666666666666,\"#ed7953\"],[0.7777777777777778,\"#fb9f3a\"],[0.8888888888888888,\"#fdca26\"],[1.0,\"#f0f921\"]],\"sequentialminus\":[[0.0,\"#0d0887\"],[0.1111111111111111,\"#46039f\"],[0.2222222222222222,\"#7201a8\"],[0.3333333333333333,\"#9c179e\"],[0.4444444444444444,\"#bd3786\"],[0.5555555555555556,\"#d8576b\"],[0.6666666666666666,\"#ed7953\"],[0.7777777777777778,\"#fb9f3a\"],[0.8888888888888888,\"#fdca26\"],[1.0,\"#f0f921\"]]},\"colorway\":[\"#636efa\",\"#EF553B\",\"#00cc96\",\"#ab63fa\",\"#FFA15A\",\"#19d3f3\",\"#FF6692\",\"#B6E880\",\"#FF97FF\",\"#FECB52\"],\"font\":{\"color\":\"#2a3f5f\"},\"geo\":{\"bgcolor\":\"white\",\"lakecolor\":\"white\",\"landcolor\":\"white\",\"showlakes\":true,\"showland\":true,\"subunitcolor\":\"#C8D4E3\"},\"hoverlabel\":{\"align\":\"left\"},\"hovermode\":\"closest\",\"mapbox\":{\"style\":\"light\"},\"paper_bgcolor\":\"white\",\"plot_bgcolor\":\"white\",\"polar\":{\"angularaxis\":{\"gridcolor\":\"#EBF0F8\",\"linecolor\":\"#EBF0F8\",\"ticks\":\"\"},\"bgcolor\":\"white\",\"radialaxis\":{\"gridcolor\":\"#EBF0F8\",\"linecolor\":\"#EBF0F8\",\"ticks\":\"\"}},\"scene\":{\"xaxis\":{\"backgroundcolor\":\"white\",\"gridcolor\":\"#DFE8F3\",\"gridwidth\":2,\"linecolor\":\"#EBF0F8\",\"showbackground\":true,\"ticks\":\"\",\"zerolinecolor\":\"#EBF0F8\"},\"yaxis\":{\"backgroundcolor\":\"white\",\"gridcolor\":\"#DFE8F3\",\"gridwidth\":2,\"linecolor\":\"#EBF0F8\",\"showbackground\":true,\"ticks\":\"\",\"zerolinecolor\":\"#EBF0F8\"},\"zaxis\":{\"backgroundcolor\":\"white\",\"gridcolor\":\"#DFE8F3\",\"gridwidth\":2,\"linecolor\":\"#EBF0F8\",\"showbackground\":true,\"ticks\":\"\",\"zerolinecolor\":\"#EBF0F8\"}},\"shapedefaults\":{\"line\":{\"color\":\"#2a3f5f\"}},\"ternary\":{\"aaxis\":{\"gridcolor\":\"#DFE8F3\",\"linecolor\":\"#A2B1C6\",\"ticks\":\"\"},\"baxis\":{\"gridcolor\":\"#DFE8F3\",\"linecolor\":\"#A2B1C6\",\"ticks\":\"\"},\"bgcolor\":\"white\",\"caxis\":{\"gridcolor\":\"#DFE8F3\",\"linecolor\":\"#A2B1C6\",\"ticks\":\"\"}},\"title\":{\"x\":0.05},\"xaxis\":{\"automargin\":true,\"gridcolor\":\"#EBF0F8\",\"linecolor\":\"#EBF0F8\",\"ticks\":\"\",\"title\":{\"standoff\":15},\"zerolinecolor\":\"#EBF0F8\",\"zerolinewidth\":2},\"yaxis\":{\"automargin\":true,\"gridcolor\":\"#EBF0F8\",\"linecolor\":\"#EBF0F8\",\"ticks\":\"\",\"title\":{\"standoff\":15},\"zerolinecolor\":\"#EBF0F8\",\"zerolinewidth\":2}}},\"xaxis\":{\"anchor\":\"y\",\"domain\":[0.0,1.0],\"title\":{\"text\":\"Development\"},\"tickangle\":45},\"yaxis\":{\"anchor\":\"x\",\"domain\":[0.0,1.0],\"title\":{\"text\":\"Sold Price\"}},\"legend\":{\"title\":{\"text\":\"Bedrooms\"},\"tracegroupgap\":0},\"title\":{\"text\":\"Condo Sold Price vs. Development\"},\"width\":1000,\"height\":600,\"plot_bgcolor\":\"lightblue\"},                        {\"responsive\": true}                    ).then(function(){\n",
              "                            \n",
              "var gd = document.getElementById('f2c382e2-c4c5-4daa-a888-a97ee8d6d424');\n",
              "var x = new MutationObserver(function (mutations, observer) {{\n",
              "        var display = window.getComputedStyle(gd).display;\n",
              "        if (!display || display === 'none') {{\n",
              "            console.log([gd, 'removed!']);\n",
              "            Plotly.purge(gd);\n",
              "            observer.disconnect();\n",
              "        }}\n",
              "}});\n",
              "\n",
              "// Listen for the removal of the full notebook cells\n",
              "var notebookContainer = gd.closest('#notebook-container');\n",
              "if (notebookContainer) {{\n",
              "    x.observe(notebookContainer, {childList: true});\n",
              "}}\n",
              "\n",
              "// Listen for the clearing of the current output cell\n",
              "var outputEl = gd.closest('.output');\n",
              "if (outputEl) {{\n",
              "    x.observe(outputEl, {childList: true});\n",
              "}}\n",
              "\n",
              "                        })                };                            </script>        </div>\n",
              "</body>\n",
              "</html>"
            ]
          },
          "metadata": {},
          "output_type": "display_data"
        }
      ],
      "source": [
        "# Create the scatter plot\n",
        "fig = px.scatter(data_frame=condo, x='Development', y='Sold_Price', color='Bedrooms',\n",
        "                 title='Condo Sold Price vs. Development',\n",
        "                 labels={'Development': 'Development', 'Sold_Price': 'Sold Price', 'Town': 'Town'},\n",
        "                 hover_data=['Development'])\n",
        "\n",
        "# Show the legend\n",
        "fig.update_traces(showlegend=True)\n",
        "\n",
        "# Update the x-axis labels to be rotated 180 degrees\n",
        "fig.update_layout(xaxis=dict(tickangle=45))\n",
        "\n",
        "# Show the figure\n",
        "#fig.show()\n",
        "\n",
        "\n",
        "\n",
        "\n",
        "fig.update_layout(template='plotly_white')\n",
        "fig.update_layout(width=1000)\n",
        "fig.update_layout(height= 600)\n",
        "\n",
        "\n",
        "# Change the background color to black\n",
        "fig.update_layout(plot_bgcolor='lightblue')\n",
        "\n",
        "fig.show()\n",
        "#pio.write_image(fig, 'all_bedrooms.png')"
      ]
    },
    {
      "cell_type": "markdown",
      "metadata": {
        "id": "z5VzX7YjlylN"
      },
      "source": [
        "There are many muispeled Devlopments .  Lets fix that"
      ]
    },
    {
      "cell_type": "code",
      "execution_count": null,
      "metadata": {
        "colab": {
          "base_uri": "https://localhost:8080/"
        },
        "id": "JZnP6HDJl8Vn",
        "outputId": "c1aca16a-3a37-479f-bb5d-f41355c882ea"
      },
      "outputs": [
        {
          "data": {
            "text/plain": [
              "array(['123 Main St', 'Beach Manor', 'Brookstown', 'Bucolic', 'Cambridge',\n",
              "       'Capital Heights', 'Clover', 'Cranberry', 'Crewville', 'Eastown',\n",
              "       'Forestville', 'Glentrees', 'Golddream', 'Greentown', 'Hamptown',\n",
              "       'Hershare', 'Jaggedtown', 'Landings', 'Laurel Vista',\n",
              "       'Laurell Vsta', 'Makerstown', 'Makerstowne', 'Makerstsown',\n",
              "       'Makrstown', 'Mapletown', 'Oxford', 'Parliment', 'Peninusula',\n",
              "       'Pilgramstate', 'Provance', 'Pursuit', 'Southland', 'Streamville',\n",
              "       'University Heights', 'Windswept', 'Wolfville', 'Yellowstone'],\n",
              "      dtype=object)"
            ]
          },
          "execution_count": 467,
          "metadata": {},
          "output_type": "execute_result"
        }
      ],
      "source": [
        "condo['Development'].unique()"
      ]
    },
    {
      "cell_type": "code",
      "execution_count": null,
      "metadata": {
        "id": "anMhhVW7fQIX"
      },
      "outputs": [],
      "source": [
        "# unique_developments = sorted(condo['Development'].unique())\n",
        "# unique_developments"
      ]
    },
    {
      "cell_type": "code",
      "execution_count": null,
      "metadata": {
        "id": "K2PWl_qGfhwj"
      },
      "outputs": [],
      "source": [
        "#  'The Hunt Club','Hunt Club'\n",
        "# condo['Development'] = condo['Development'].replace(['Leisure Glen','Leisure Glenn','Leisure Glen - The Glen'], 'Leisure Glenn')\n",
        "condo['Development'] = condo['Development'].replace(['123    Main St', '123 Main St', '123 Maine St'], '123 Main St')"
      ]
    },
    {
      "cell_type": "code",
      "execution_count": null,
      "metadata": {
        "id": "_B2LjlK5mT4m"
      },
      "outputs": [],
      "source": [
        "# Leisure Knolls\n",
        "#condo['Development'] = condo['Development'].replace(['Leisure Knoll','Leisure Knoll Community','Leisure Knoll Assoc.', 'Leisue Knolls', 'Leisue Knolls'], 'Leisure Knolls')\n",
        "\n",
        "condo['Development'] = condo['Development'].replace(['Cam Bridge', 'Cambridg', 'Cambridge',\n",
        "       'Cambridged', 'Cambrige', 'Camebridge'], 'Cambridge')"
      ]
    },
    {
      "cell_type": "code",
      "execution_count": null,
      "metadata": {
        "id": "kdWizQ_1mcYW"
      },
      "outputs": [],
      "source": [
        "#Rocky Pt\n",
        "#condo['Development'] = condo['Development'].replace(['Rocky Point Homeowners A','Rocky Point Co-Ops', 'Rocky Pt','Rocky Point Owners Assoc' ,'Rocky Point Owners','Rocky Point Homeowners','Rocky Pt Owners Inc.','Rocky Point Owners, Inc.','Rocky Point Owners Corp', 'Rocky Point Homeowner', 'Rocky Point Cooperative' ,'Rocky Point Co-Op Owners','Rocky Point Coop Owners'], 'Rocky Pt')\n",
        "\n",
        "condo['Development'] = condo['Development'].replace([ 'Capital Height',\n",
        "       'Capital Heights', 'Capitalheights'], 'Capital Heights')"
      ]
    },
    {
      "cell_type": "code",
      "execution_count": null,
      "metadata": {
        "id": "GAUhwe9bmgrO"
      },
      "outputs": [],
      "source": [
        "#condo['Development'] = condo['Development'].replace(['Leisure Glen','Leisure Glenn','Leisure Glen - The Glen'], 'Leisure Glenn')\n",
        "\n",
        "condo['Development'] = condo['Development'].replace(['Cran Berrie',\n",
        "       'Cranberry', 'Crane Berry' ], 'Cranberry')"
      ]
    },
    {
      "cell_type": "code",
      "execution_count": null,
      "metadata": {
        "id": "3KoyzGlvmlGO"
      },
      "outputs": [],
      "source": [
        "#condo['Development'] = condo['Development'].replace(['Picasso Way Owners','Picasso Wayowners' ,'Picasso Way / Lake Point', 'Picasso Way'], 'Picasso Way')"
      ]
    },
    {
      "cell_type": "code",
      "execution_count": null,
      "metadata": {
        "id": "RUCaK7_2monl"
      },
      "outputs": [],
      "source": [
        "#condo['Development'] = condo['Development'].replace(['Waters Edge Habitat Inc.','Waters Edge'], \"Water's Edge\")"
      ]
    },
    {
      "cell_type": "code",
      "execution_count": null,
      "metadata": {
        "id": "04GvF5Tkmtz1"
      },
      "outputs": [],
      "source": [
        "## prompt: here is my code. the apostrophe is causing an error: condo['Development'] = condo['Development'].replace(['Waters Edge Habitat Inc.','Waters Edge'], 'Water's Edge')\n",
        "\n",
        "#condo['Development'] = condo['Development'].replace([\"Water's Edge Habitat\",'Watersedge Community', \"Water's Edge Community\",'Waters Edge Habitat Inc.','Waters Edge'], \"Water's Edge\")\n"
      ]
    },
    {
      "cell_type": "code",
      "execution_count": null,
      "metadata": {
        "id": "liUzy7USmzok"
      },
      "outputs": [],
      "source": [
        "#condo['Development'] = condo['Development'].replace(['Les Jardins', 'Les Jardin', 'Les Jardins', 'Less Jardins'], \"Les Jardins\")"
      ]
    },
    {
      "cell_type": "code",
      "execution_count": null,
      "metadata": {
        "colab": {
          "base_uri": "https://localhost:8080/"
        },
        "id": "94pD_SNZm9xL",
        "outputId": "63b6acd2-6ab5-42f4-814e-804ae3d8da89"
      },
      "outputs": [
        {
          "name": "stdout",
          "output_type": "stream",
          "text": [
            "['123 Main St', 'Beach Manor', 'Brookstown', 'Bucolic', 'Cambridge', 'Capital Heights', 'Clover', 'Cranberry', 'Crewville', 'Eastown', 'Forestville', 'Glentrees', 'Golddream', 'Greentown', 'Hamptown', 'Hershare', 'Jaggedtown', 'Landings', 'Laurel Vista', 'Laurell Vsta', 'Makerstown', 'Makerstowne', 'Makerstsown', 'Makrstown', 'Mapletown', 'Oxford', 'Parliment', 'Peninusula', 'Pilgramstate', 'Provance', 'Pursuit', 'Southland', 'Streamville', 'University Heights', 'Windswept', 'Wolfville', 'Yellowstone']\n"
          ]
        }
      ],
      "source": [
        "unique_developments = sorted(condo['Development'].unique())\n",
        "print(unique_developments)\n"
      ]
    },
    {
      "cell_type": "code",
      "execution_count": null,
      "metadata": {
        "id": "2F8EvoMdVkch"
      },
      "outputs": [],
      "source": [
        "## Heckscher Estates\n",
        "#condo['Development'] = condo['Development'].replace([], \"Heckscher Estates\")\n",
        "#condo['Development'] = condo['Development'].replace([], \"Heckscher Estates\")"
      ]
    },
    {
      "cell_type": "code",
      "execution_count": null,
      "metadata": {
        "id": "Zw88stk8VkX_"
      },
      "outputs": [],
      "source": []
    },
    {
      "cell_type": "code",
      "execution_count": null,
      "metadata": {
        "id": "jfsVn4GunFH_"
      },
      "outputs": [],
      "source": [
        "#condo['Development'] = condo['Development'].replace(['Brettonwoods', 'Bretton Wood','Brenton Woods', 'Brettenwoods', 'Bretton Woods', 'Bretton Woods Condo', 'Bretton Woods Country Cl'], \"Bretton Woods\")"
      ]
    },
    {
      "cell_type": "code",
      "execution_count": null,
      "metadata": {
        "id": "x4_8gyNennaI"
      },
      "outputs": [],
      "source": [
        "#condo['Development'] = condo['Development'].replace(['Park  Row', 'Park Row','Park Row Homeowners Asso',\n",
        "#                                                     'Park Row Town Homes', 'Park Row Townhouses','Park Row Twnhms',\n",
        " #                                                    'Park Rox' ,'Park Rox' ,'Parkrow','Park Row', 'Park Row Homeowners Asso', 'Park Row Town Homes', 'Park Row Townhouses', 'Park Row Twnhms', 'Park Row Twnhs', 'Park Rox', 'Parkrow', \"Park Row\"], 'Park  Row', )"
      ]
    },
    {
      "cell_type": "code",
      "execution_count": null,
      "metadata": {
        "id": "iBRMip6TqVSG"
      },
      "outputs": [],
      "source": [
        "# Country Village\n",
        "#condo['Development'] = condo['Development'].replace(['Country Village', 'Country Village Estates', 'Country Village', 'County Village' ,'Country Village Hoa'], \"Country Village\")"
      ]
    },
    {
      "cell_type": "code",
      "execution_count": null,
      "metadata": {
        "id": "eAeRlipKq2tl"
      },
      "outputs": [],
      "source": [
        "## Heckscher Estates\n",
        "#condo['Development'] = condo['Development'].replace([], \"Heckscher Estates\")"
      ]
    },
    {
      "cell_type": "code",
      "execution_count": null,
      "metadata": {
        "id": "NIY1YJfuq2pd"
      },
      "outputs": [],
      "source": [
        "# North Isle\n",
        "#condo['Development'] = condo['Development'].replace([ 'N Isle Village', 'North Isle', 'North Isle  Village', 'North Isle Co-Op', 'North Isle Vil', 'North Isle Villa', 'North Isle Village', 'North Isle Villiage', 'North Isle Vllg', 'North Isles'], \"North Isle\")"
      ]
    },
    {
      "cell_type": "code",
      "execution_count": null,
      "metadata": {
        "id": "AIGJtjr1rpLF"
      },
      "outputs": [],
      "source": [
        "# Windbrook Homes\n",
        "#condo['Development'] = condo['Development'].replace(['Winbrooke Homes', 'Windbooke Homes', 'Windbroke Home', 'Windbrook', 'Windbrook Home Condomini', 'Windbrook Homes', 'Windbrooke', 'Windbrooke Condos', 'Windbrooke Homes', 'Windbrooke Homes Condo', 'Windebrooke', 'Windrooke Homes'], \"Windbooke Homes\")"
      ]
    },
    {
      "cell_type": "code",
      "execution_count": null,
      "metadata": {
        "id": "DaLl5Mf3rpG7"
      },
      "outputs": [],
      "source": [
        "# 'Heckscher Estate', 'Heckscher Estates', 'Hecksher Estates'\n",
        "#condo['Development'] = condo['Development'].replace([ 'Heckscher Estate', 'Heckscher Estates', 'Hecksher Estates'], \"Hecksher Estates\")"
      ]
    },
    {
      "cell_type": "code",
      "execution_count": null,
      "metadata": {
        "id": "HADIuVeKrpDR"
      },
      "outputs": [],
      "source": [
        "# Court House Commons\n",
        "#condo['Development'] = condo['Development'].replace(['Court House Commons','Court House Commons','Court House Commons Iii', 'Court House Condos', 'Courthouse Comm', 'Courthouse Commmons', 'Courthouse Common', 'Courthouse Commons', 'Courthouse Commons Iii', 'Couthouse Commons'], \"Court House Commons\")"
      ]
    },
    {
      "cell_type": "code",
      "execution_count": null,
      "metadata": {
        "id": "vYkKGab0vDyZ"
      },
      "outputs": [],
      "source": [
        "# Silver Pond\n",
        "# Court House Commons\n",
        "#condo['Development'] = condo['Development'].replace(['Silver Pond', 'Silver Ponds', 'Silver Ponds Townhomes', 'Silverponds', 'Silverponds Townhomes'], \"Court House Commons\")"
      ]
    },
    {
      "cell_type": "code",
      "execution_count": null,
      "metadata": {
        "id": "eTL1eswzvDue"
      },
      "outputs": [],
      "source": [
        "# '215 E Main Street', '215 East Main', '215 East Main Street'\n",
        "#condo['Development'] = condo['Development'].replace(['215 E Main Street', '215 East Main','East Main St' ,'215 East Main Street'], \"215 E Main Street\")\n",
        "\n",
        "\n"
      ]
    },
    {
      "cell_type": "code",
      "execution_count": null,
      "metadata": {
        "id": "qHhxnRzAvDrT"
      },
      "outputs": [],
      "source": [
        "#  'Bay Berry', 'Bay Berry Club', 'Bayberry Club',\n",
        "#condo['Development'] = condo['Development'].replace(['Bay Berry','The Bayberry Club', 'Bay Berry Club', 'Bayberry Club'], \"Bay Berry\")"
      ]
    },
    {
      "cell_type": "code",
      "execution_count": null,
      "metadata": {
        "id": "L156j-OixAzH"
      },
      "outputs": [],
      "source": [
        "#  'Cobberidge', 'Cobbleridge', 'Cobbleridge Condominium',\n",
        "#condo['Development'] = condo['Development'].replace(['Cobberidge', 'Cobbleridge', 'Cobbleridge Condominium'], \"Cobberidge\")"
      ]
    },
    {
      "cell_type": "code",
      "execution_count": null,
      "metadata": {
        "id": "3Wz5cUv8xAvT"
      },
      "outputs": [],
      "source": [
        "# 'Country Point', 'Country Point Woods', 'Country Pointe', 'Country Pointe Woods'\n",
        "#condo['Development'] = condo['Development'].replace(['Country Point', 'Country Point Woods', 'Country Wood Point','Country Pointe', 'Country Pointe Woods'], \"Country Point\")\n"
      ]
    },
    {
      "cell_type": "code",
      "execution_count": null,
      "metadata": {
        "id": "K7OS6j99xAr0"
      },
      "outputs": [],
      "source": [
        "# 'Forest  Green', 'Forest Green', 'Forest Green Apartments', 'Forest Greens', 'Forrest Green',\n",
        "# condo['Development'] = condo['Development'].replace(['Cobberidge', 'Cobbleridge', 'Cobbleridge Condominium'], \"Cobberidge\")\n",
        "#condo['Development'] = condo['Development'].replace([ 'Forest  Green', 'Forest Green', 'Forest Green Apartments', 'Forest Greens', 'Forrest Green'], \"Forrest Green\")"
      ]
    },
    {
      "cell_type": "code",
      "execution_count": null,
      "metadata": {
        "id": "qGG4aWPNzKZH"
      },
      "outputs": [],
      "source": [
        "# 'Villas At Westbrook', 'Westbrook', 'Westbrook 55 & Over', 'Westbrook Village Villas'\n",
        "#condo['Development'] = condo['Development'].replace(['Villas At Westbrook', 'Westbrook', 'Westbrook 55 & Over', 'Westbrook Village Villas'], \"Westbrook\")"
      ]
    },
    {
      "cell_type": "code",
      "execution_count": null,
      "metadata": {
        "id": "LMSL6rUGzKU0"
      },
      "outputs": [],
      "source": [
        "# 'The Woodlands', 'The Woodlands  At Islip', 'The Woodlands At Islip', 'The Woodlands Of Islip'\n",
        "#condo['Development'] = condo['Development'].replace(['The Woodlands', 'The Woodlands  At Islip', 'The Woodlands At Islip', 'The Woodlands Of Islip'], \"The Woodlands\")"
      ]
    },
    {
      "cell_type": "code",
      "execution_count": null,
      "metadata": {
        "id": "RyHA_NX6zKQz"
      },
      "outputs": [],
      "source": [
        "# 'The Oaks @ Hawkins Path', 'The Oaks At Hawkins Path',\n",
        "## condo['Development'] = condo['Development'].replace(['Cobberidge', 'Cobbleridge', 'Cobbleridge Condominium'], \"Cobberidge\")\n",
        "# condo['Development'] = condo['Development'].replace([\"The Oaks @ Hawkins Path\", \"The Oaks At Hawkins Path\"], \"The Oaks\")"
      ]
    },
    {
      "cell_type": "code",
      "execution_count": null,
      "metadata": {
        "id": "atT5jA_fzxd-"
      },
      "outputs": [],
      "source": [
        "# 'Foxgate', 'Foxgate At Islip', 'Foxgate Condos At Islip', 'Foxgate Islip',\n",
        "#condo['Development'] = condo['Development'].replace([ 'Foxgate', 'Foxgate At Islip', 'Foxgate Condos At Islip', 'Foxgate Islip'], \"Foxgate\")"
      ]
    },
    {
      "cell_type": "code",
      "execution_count": null,
      "metadata": {
        "id": "Lx_YIowg1BJc"
      },
      "outputs": [],
      "source": [
        "# \"Great River Owner's Inc\", 'Great River Owners', 'Great Rivers Owners'\n",
        "#condo['Development'] = condo['Development'].replace([\"Great River Owner's Inc\", 'Great River Owners', 'Great Rivers Owners'], \"Great River\")"
      ]
    },
    {
      "cell_type": "code",
      "execution_count": null,
      "metadata": {
        "id": "U-wmAUOczyi9"
      },
      "outputs": [],
      "source": [
        "# 'Green Village', 'Greenwood', 'Greenwood Villag', 'Greenwood Village',\n",
        "#condo['Development'] = condo['Development'].replace(['Green Village', 'Greenwood', 'Greenwood Villag', 'Greenwood Village'], \"Greenwood Village\")"
      ]
    },
    {
      "cell_type": "code",
      "execution_count": null,
      "metadata": {
        "id": "YiQHDuNl1BFf"
      },
      "outputs": [],
      "source": [
        "# 'Hampton Vista', 'Hampton Vista Condos', 'Hampton Vistas'\n",
        "#condo['Development'] = condo['Development'].replace(['Hampton Vista', 'Hampton Vista Condos', 'Hampton Vistas'], \"Hampton Vista\")"
      ]
    },
    {
      "cell_type": "code",
      "execution_count": null,
      "metadata": {
        "id": "-xMI6Kz00uIE"
      },
      "outputs": [],
      "source": [
        "#'Islip Landing', 'Islip Landing Condo Ii', 'Islip Landings',\n",
        "#condo['Development'] = condo['Development'].replace(['Islip Landing', 'Islip Landing Condo Ii', 'Islip Landings'], \"Islip Landings\")"
      ]
    },
    {
      "cell_type": "code",
      "execution_count": null,
      "metadata": {
        "id": "LJQkqtRk3-SI"
      },
      "outputs": [],
      "source": [
        "#'Hunt', 'Hunt Club'\n",
        "#condo['Development'] = condo['Development'].replace(['Hunt', 'Hunt Club'], \"Hunt Club\")"
      ]
    },
    {
      "cell_type": "code",
      "execution_count": null,
      "metadata": {
        "id": "RCMSAHbU4JDI"
      },
      "outputs": [],
      "source": [
        "#  'Plymouth Village', 'Plymouth Village Condo', 'Plymouth Village Condos', 'Plymuth Village'\n",
        "#condo['Development'] = condo['Development'].replace([ 'Plymouth Village', 'Plymouth Village Condo', 'Pymouth Village','Plymouth Village Condos', 'Plymuth Village'], \"Plymouth Village\")"
      ]
    },
    {
      "cell_type": "code",
      "execution_count": null,
      "metadata": {
        "id": "b4c0DfZl4dIG"
      },
      "outputs": [],
      "source": [
        "# 'Spur Cove', 'Spur Cove Estates'\n",
        "#condo['Development'] = condo['Development'].replace(['Spur Cove', 'Spur Cove Estates'], \"Spur Cove\")"
      ]
    },
    {
      "cell_type": "code",
      "execution_count": null,
      "metadata": {
        "id": "abj4-ZSB5ZCe"
      },
      "outputs": [],
      "source": [
        "# 'Strathmore', 'Strathmore Court', 'Strathmore Courts', 'Strathmore Ct', 'Strathmore Ct.', 'Strathmore East', 'Strathmore Gate', 'Strathmore Gate East', 'Strathmore Gates East', 'Strathmore Ridge', 'Strathmore Village', 'Strathmore Villages'\n",
        "#condo['Development'] = condo['Development'].replace(['Strathmore', 'Strathmore Court', 'Strathmore Courts', 'Strathmore Ct', 'Strathmore Ct.', 'Strathmore East', 'Strathmore Gate', 'Strathmore Gate East', 'Strathmore Gates East', 'Strathmore Ridge', 'Strathmore Village', 'Strathmore Villages'], \"Strathmore Court\")"
      ]
    },
    {
      "cell_type": "code",
      "execution_count": null,
      "metadata": {
        "id": "AKp8XbpQ5Y8_"
      },
      "outputs": [],
      "source": [
        "#  'Silver Chase', 'Silver Chase Condo', 'Silver Chase Condos',\n",
        "#condo['Development'] = condo['Development'].replace(['Silver Chase', 'Silver Chase Condo', 'Silver Chase Condos'], \"Silver Chase\")"
      ]
    },
    {
      "cell_type": "code",
      "execution_count": null,
      "metadata": {
        "id": "olq1UCn26U4F"
      },
      "outputs": [],
      "source": [
        "#'Sunrise  Gardens', 'Sunrise Gardens'\n",
        "#condo['Development'] = condo['Development'].replace(['Sunrise  Gardens', 'Sunrise Gardens'], \"Sunrise  Gardens\")"
      ]
    },
    {
      "cell_type": "code",
      "execution_count": null,
      "metadata": {
        "id": "VjhnnAE06vkl"
      },
      "outputs": [],
      "source": [
        "#'Providence On The Park', 'Providence Park'\n",
        "#condo['Development'] = condo['Development'].replace(['Providence On The Park', 'Providence Park'], \"Providence Park\")\n"
      ]
    },
    {
      "cell_type": "code",
      "execution_count": null,
      "metadata": {
        "id": "DQowi6QS3tPN"
      },
      "outputs": [],
      "source": [
        "#'The Greens@Hampton Vista','The Greens',\n",
        "#condo['Development'] = condo['Development'].replace(['The Greens@Hampton Vista','The Greens'], \"The Greens\")"
      ]
    },
    {
      "cell_type": "code",
      "execution_count": null,
      "metadata": {
        "id": "EKiCerxq9WGN"
      },
      "outputs": [],
      "source": [
        "# 'The Glen', 'The Glens'\n",
        "#condo['Development'] = condo['Development'].replace(['The Glen', 'The Glens'], \"The Glen\")"
      ]
    },
    {
      "cell_type": "code",
      "execution_count": null,
      "metadata": {
        "id": "xxvJpgfa9llB"
      },
      "outputs": [],
      "source": []
    },
    {
      "cell_type": "code",
      "execution_count": null,
      "metadata": {
        "colab": {
          "base_uri": "https://localhost:8080/"
        },
        "id": "_GIo3a_mzxaG",
        "outputId": "6d518448-2d6f-43a7-b454-47303c1be570"
      },
      "outputs": [
        {
          "name": "stdout",
          "output_type": "stream",
          "text": [
            "['123 Main St', 'Beach Manor', 'Brookstown', 'Bucolic', 'Cambridge', 'Capital Heights', 'Clover', 'Cranberry', 'Crewville', 'Eastown', 'Forestville', 'Glentrees', 'Golddream', 'Greentown', 'Hamptown', 'Hershare', 'Jaggedtown', 'Landings', 'Laurel Vista', 'Laurell Vsta', 'Makerstown', 'Makerstowne', 'Makerstsown', 'Makrstown', 'Mapletown', 'Oxford', 'Parliment', 'Peninusula', 'Pilgramstate', 'Provance', 'Pursuit', 'Southland', 'Streamville', 'University Heights', 'Windswept', 'Wolfville', 'Yellowstone']\n"
          ]
        }
      ],
      "source": [
        "unique_developments = sorted(condo['Development'].unique())\n",
        "print(unique_developments)"
      ]
    },
    {
      "cell_type": "code",
      "execution_count": null,
      "metadata": {
        "colab": {
          "base_uri": "https://localhost:8080/",
          "height": 637
        },
        "id": "EaHpdOTim2c2",
        "outputId": "4732a1be-c2f8-4841-aaf1-49b859ebeb8c"
      },
      "outputs": [
        {
          "data": {
            "text/html": [
              "<html>\n",
              "<head><meta charset=\"utf-8\" /></head>\n",
              "<body>\n",
              "    <div>            <script src=\"https://cdnjs.cloudflare.com/ajax/libs/mathjax/2.7.5/MathJax.js?config=TeX-AMS-MML_SVG\"></script><script type=\"text/javascript\">if (window.MathJax && window.MathJax.Hub && window.MathJax.Hub.Config) {window.MathJax.Hub.Config({SVG: {font: \"STIX-Web\"}});}</script>                <script type=\"text/javascript\">window.PlotlyConfig = {MathJaxConfig: 'local'};</script>\n",
              "        <script charset=\"utf-8\" src=\"https://cdn.plot.ly/plotly-2.24.1.min.js\"></script>                <div id=\"8b1ddf57-de82-4a8f-a37a-ef353ee7f5f7\" class=\"plotly-graph-div\" style=\"height:600px; width:1000px;\"></div>            <script type=\"text/javascript\">                                    window.PLOTLYENV=window.PLOTLYENV || {};                                    if (document.getElementById(\"8b1ddf57-de82-4a8f-a37a-ef353ee7f5f7\")) {                    Plotly.newPlot(                        \"8b1ddf57-de82-4a8f-a37a-ef353ee7f5f7\",                        [{\"hovertemplate\":\"Bedrooms=1\\u003cbr\\u003eDevelopment=%{x}\\u003cbr\\u003eSold Price=%{y}\\u003cextra\\u003e\\u003c\\u002fextra\\u003e\",\"legendgroup\":\"1\",\"marker\":{\"color\":\"#636efa\",\"symbol\":\"circle\"},\"mode\":\"markers\",\"name\":\"1\",\"showlegend\":true,\"x\":[\"123 Main St\",\"123 Main St\",\"123 Main St\",\"123 Main St\",\"123 Main St\",\"123 Main St\",\"Cambridge\",\"Cambridge\",\"Cambridge\",\"Cambridge\",\"Cambridge\",\"Cambridge\",\"Cambridge\",\"Cambridge\",\"Cambridge\",\"Cambridge\",\"Cambridge\",\"Cambridge\",\"Cambridge\",\"Cambridge\",\"Cambridge\",\"Cambridge\",\"Cambridge\",\"Cambridge\",\"Cambridge\",\"Cambridge\",\"Cambridge\",\"Cambridge\",\"Cambridge\",\"Cambridge\",\"Cambridge\",\"Cambridge\",\"Cambridge\",\"Cambridge\",\"Cambridge\",\"Cambridge\",\"Cambridge\",\"Cambridge\",\"Cambridge\",\"Cambridge\",\"Cambridge\",\"Cambridge\",\"Cambridge\",\"Cambridge\",\"Cambridge\",\"Cambridge\",\"Cambridge\",\"Cambridge\",\"Cambridge\",\"Cambridge\",\"Cambridge\",\"Cambridge\",\"Cambridge\",\"Cambridge\",\"Cambridge\",\"Cambridge\",\"Cambridge\",\"Cambridge\",\"Cambridge\",\"Cambridge\",\"Cambridge\",\"Cambridge\",\"Cambridge\",\"Cambridge\",\"Cambridge\",\"Cambridge\",\"Cambridge\",\"Cambridge\",\"Cambridge\",\"Cambridge\",\"Cambridge\",\"Cambridge\",\"Cambridge\",\"Cambridge\",\"Cambridge\",\"Cambridge\",\"Cambridge\",\"Cambridge\",\"Cambridge\",\"Cambridge\",\"Cambridge\",\"Cambridge\",\"Cambridge\",\"Cambridge\",\"Cambridge\",\"Cambridge\",\"Cambridge\",\"Cambridge\",\"Cambridge\",\"Cambridge\",\"Cambridge\",\"Cambridge\",\"Cambridge\",\"Clover\",\"Clover\",\"Clover\",\"Clover\",\"Clover\",\"Clover\",\"Clover\",\"Clover\",\"Clover\",\"Clover\",\"Clover\",\"Clover\",\"Clover\",\"Clover\",\"Clover\",\"Clover\",\"Clover\",\"Clover\",\"Clover\",\"Clover\",\"Clover\",\"Clover\",\"Clover\",\"Clover\",\"Clover\",\"Clover\",\"Clover\",\"Clover\",\"Clover\",\"Clover\",\"Clover\",\"Clover\",\"Clover\",\"Clover\",\"Clover\",\"Clover\",\"Clover\",\"Clover\",\"Clover\",\"Clover\",\"Clover\",\"Clover\",\"Clover\",\"Clover\",\"Clover\",\"Clover\",\"Clover\",\"Clover\",\"Clover\",\"Clover\",\"Clover\",\"Clover\",\"Clover\",\"Clover\",\"Clover\",\"Clover\",\"Clover\",\"Clover\",\"Clover\",\"Clover\",\"Clover\",\"Clover\",\"Clover\",\"Clover\",\"Clover\",\"Clover\",\"Clover\",\"Clover\",\"Clover\",\"Clover\",\"Clover\",\"Clover\",\"Clover\",\"Clover\",\"Clover\",\"Crewville\",\"Crewville\",\"Crewville\",\"Crewville\",\"Crewville\",\"Crewville\",\"Crewville\",\"Crewville\",\"Crewville\",\"Crewville\",\"Crewville\",\"Crewville\",\"Crewville\",\"Crewville\",\"Crewville\",\"Crewville\",\"Crewville\",\"Crewville\",\"Crewville\",\"Crewville\",\"Crewville\",\"Crewville\",\"Crewville\",\"Crewville\",\"Crewville\",\"Crewville\",\"Crewville\",\"Forestville\",\"Forestville\",\"Forestville\",\"Forestville\",\"Forestville\",\"Forestville\",\"Forestville\",\"Forestville\",\"Forestville\",\"Forestville\",\"Forestville\",\"Forestville\",\"Forestville\",\"Forestville\",\"Forestville\",\"Forestville\",\"Forestville\",\"Forestville\",\"Forestville\",\"Forestville\",\"Forestville\",\"Forestville\",\"Forestville\",\"Forestville\",\"Forestville\",\"Forestville\",\"Forestville\",\"Forestville\",\"Forestville\",\"Forestville\",\"Glentrees\",\"Glentrees\",\"Glentrees\",\"Glentrees\",\"Glentrees\",\"Glentrees\",\"Glentrees\",\"Glentrees\",\"Glentrees\",\"Glentrees\",\"Glentrees\",\"Glentrees\",\"Golddream\",\"Golddream\",\"Golddream\",\"Golddream\",\"Golddream\",\"Golddream\",\"Golddream\",\"Golddream\",\"Golddream\",\"Greentown\",\"Greentown\",\"Greentown\",\"Greentown\",\"Greentown\",\"Greentown\",\"Greentown\",\"Greentown\",\"Greentown\",\"Greentown\",\"Greentown\",\"Greentown\",\"Greentown\",\"Greentown\",\"Greentown\",\"Greentown\",\"Greentown\",\"Greentown\",\"Greentown\",\"Greentown\",\"Greentown\",\"Greentown\",\"Greentown\",\"Greentown\",\"Greentown\",\"Greentown\",\"Greentown\",\"Greentown\",\"Hershare\",\"Hershare\",\"Hershare\",\"Hershare\",\"Hershare\",\"Hershare\",\"Hershare\",\"Hershare\",\"Jaggedtown\",\"Jaggedtown\",\"Jaggedtown\",\"Jaggedtown\",\"Jaggedtown\",\"Jaggedtown\",\"Jaggedtown\",\"Jaggedtown\",\"Jaggedtown\",\"Jaggedtown\",\"Jaggedtown\",\"Jaggedtown\",\"Jaggedtown\",\"Jaggedtown\",\"Jaggedtown\",\"Jaggedtown\",\"Jaggedtown\",\"Jaggedtown\",\"Jaggedtown\",\"Jaggedtown\",\"Jaggedtown\",\"Jaggedtown\",\"Jaggedtown\",\"Jaggedtown\",\"Jaggedtown\",\"Jaggedtown\",\"Jaggedtown\",\"Jaggedtown\",\"Jaggedtown\",\"Jaggedtown\",\"Jaggedtown\",\"Jaggedtown\",\"Jaggedtown\",\"Jaggedtown\",\"Jaggedtown\",\"Jaggedtown\",\"Jaggedtown\",\"Jaggedtown\",\"Jaggedtown\",\"Landings\",\"Landings\",\"Landings\",\"Landings\",\"Landings\",\"Landings\",\"Landings\",\"Laurel Vista\",\"Laurel Vista\",\"Laurel Vista\",\"Laurel Vista\",\"Laurel Vista\",\"Laurell Vsta\",\"Makerstown\",\"Makerstown\",\"Makerstown\",\"Makerstown\",\"Makerstown\",\"Makerstown\",\"Makerstown\",\"Makerstown\",\"Makerstown\",\"Makerstown\",\"Makerstowne\",\"Makrstown\",\"Oxford\",\"Oxford\",\"Oxford\",\"Oxford\",\"Oxford\",\"Oxford\",\"Oxford\",\"Oxford\",\"Oxford\",\"Oxford\",\"Oxford\",\"Oxford\",\"Oxford\",\"Oxford\",\"Oxford\",\"Oxford\",\"Oxford\",\"Oxford\",\"Oxford\",\"Oxford\",\"Oxford\",\"Oxford\",\"Oxford\",\"Oxford\",\"Oxford\",\"Oxford\",\"Oxford\",\"Oxford\",\"Oxford\",\"Oxford\",\"Oxford\",\"Oxford\",\"Oxford\",\"Oxford\",\"Oxford\",\"Oxford\",\"Oxford\",\"Oxford\",\"Oxford\",\"Oxford\",\"Oxford\",\"Oxford\",\"Oxford\",\"Oxford\",\"Oxford\",\"Oxford\",\"Oxford\",\"Oxford\",\"Oxford\",\"Oxford\",\"Oxford\",\"Oxford\",\"Oxford\",\"Oxford\",\"Parliment\",\"Parliment\",\"Parliment\",\"Parliment\",\"Parliment\",\"Parliment\",\"Parliment\",\"Parliment\",\"Parliment\",\"Parliment\",\"Parliment\",\"Parliment\",\"Parliment\",\"Parliment\",\"Parliment\",\"Parliment\",\"Parliment\",\"Parliment\",\"Parliment\",\"Parliment\",\"Parliment\",\"Parliment\",\"Parliment\",\"Parliment\",\"Parliment\",\"Parliment\",\"Parliment\",\"Parliment\",\"Parliment\",\"Parliment\",\"Peninusula\",\"Peninusula\",\"Peninusula\",\"Peninusula\",\"Peninusula\",\"Peninusula\",\"Peninusula\",\"Peninusula\",\"Pilgramstate\",\"Pilgramstate\",\"Pilgramstate\",\"Pilgramstate\",\"Pilgramstate\",\"Pilgramstate\",\"Pilgramstate\",\"Pilgramstate\",\"Pilgramstate\",\"Pilgramstate\",\"Pilgramstate\",\"Pilgramstate\",\"Pilgramstate\",\"Pilgramstate\",\"Pilgramstate\",\"Pilgramstate\",\"Pilgramstate\",\"Pilgramstate\",\"Pilgramstate\",\"Pilgramstate\",\"Pilgramstate\",\"Pilgramstate\",\"Pilgramstate\",\"Pilgramstate\",\"Pilgramstate\",\"Pilgramstate\",\"Pilgramstate\",\"Pilgramstate\",\"Pilgramstate\",\"Pilgramstate\",\"Pilgramstate\",\"Pilgramstate\",\"Pilgramstate\",\"Pilgramstate\",\"Pilgramstate\",\"Pilgramstate\",\"Pilgramstate\",\"Provance\",\"Provance\",\"Provance\",\"Provance\",\"Provance\",\"Provance\",\"Provance\",\"Provance\",\"Provance\",\"Provance\",\"Provance\",\"Provance\",\"Provance\",\"Provance\",\"Provance\",\"Provance\",\"Provance\",\"Provance\",\"Provance\",\"Provance\",\"Provance\",\"Pursuit\",\"Pursuit\",\"Pursuit\",\"Pursuit\",\"Pursuit\",\"Pursuit\",\"Pursuit\",\"Pursuit\",\"Pursuit\",\"Pursuit\",\"Pursuit\",\"Southland\",\"Southland\",\"Southland\",\"Southland\",\"Southland\",\"Southland\",\"Southland\",\"Southland\",\"Southland\",\"Southland\",\"Southland\",\"Southland\",\"Southland\",\"Southland\",\"Southland\",\"Southland\",\"Southland\",\"Southland\",\"Southland\",\"Southland\",\"Southland\",\"Southland\",\"Southland\",\"Southland\",\"Southland\",\"Southland\",\"Southland\",\"Southland\",\"Southland\",\"Southland\",\"Southland\",\"Southland\",\"Southland\",\"Southland\",\"Southland\",\"Southland\",\"Southland\",\"Southland\",\"Southland\",\"Southland\",\"Southland\",\"Southland\",\"Southland\",\"Southland\",\"Southland\",\"Southland\",\"Southland\",\"Southland\",\"Southland\",\"Southland\",\"Southland\",\"Southland\",\"Southland\",\"Southland\",\"Southland\",\"Southland\",\"Southland\",\"Southland\",\"Southland\",\"Southland\",\"Southland\",\"Southland\",\"Southland\",\"Southland\",\"Southland\",\"Southland\",\"Southland\",\"Southland\",\"Southland\",\"Southland\",\"Southland\",\"Southland\",\"Southland\",\"Southland\",\"Southland\",\"Southland\",\"Southland\",\"Southland\",\"Southland\",\"Southland\",\"Southland\",\"Southland\",\"Southland\",\"Southland\",\"Southland\",\"Southland\",\"Southland\",\"Southland\",\"Southland\",\"Southland\",\"Southland\",\"Southland\",\"Southland\",\"Southland\",\"Southland\",\"Southland\",\"Southland\",\"Southland\",\"Southland\",\"Southland\",\"Southland\",\"Southland\",\"Southland\",\"Southland\",\"Southland\",\"Southland\",\"Southland\",\"Southland\",\"Southland\",\"Southland\",\"Southland\",\"Southland\",\"Southland\",\"Southland\",\"Southland\",\"Southland\",\"Southland\",\"Southland\",\"Southland\",\"Southland\",\"Southland\",\"Southland\",\"Southland\",\"Southland\",\"Southland\",\"Southland\",\"Southland\",\"Southland\",\"Southland\",\"Southland\",\"Southland\",\"Southland\",\"Southland\",\"Southland\",\"Southland\",\"Southland\",\"Southland\",\"Southland\",\"Southland\",\"Southland\",\"Southland\",\"Southland\",\"Southland\",\"Southland\",\"Southland\",\"Southland\",\"Southland\",\"Southland\",\"Southland\",\"Southland\",\"Southland\",\"Southland\",\"Southland\",\"Southland\",\"Southland\",\"Southland\",\"Southland\",\"Southland\",\"Southland\",\"Southland\",\"Southland\",\"Southland\",\"Southland\",\"Southland\",\"Southland\",\"Southland\",\"Southland\",\"Southland\",\"Southland\",\"Southland\",\"Southland\",\"Southland\",\"Southland\",\"Southland\",\"Southland\",\"Southland\",\"Southland\",\"Southland\",\"Southland\",\"Southland\",\"Southland\",\"Southland\",\"Southland\",\"Southland\",\"Southland\",\"Southland\",\"Southland\",\"Southland\",\"Southland\",\"Southland\",\"Streamville\",\"Streamville\",\"Streamville\",\"Streamville\",\"Streamville\",\"Streamville\",\"Streamville\",\"Streamville\",\"Streamville\",\"Streamville\",\"University Heights\",\"University Heights\",\"Windswept\",\"Windswept\",\"Windswept\",\"Windswept\",\"Windswept\",\"Windswept\",\"Windswept\",\"Windswept\",\"Windswept\",\"Windswept\",\"Windswept\",\"Windswept\",\"Windswept\",\"Windswept\",\"Windswept\",\"Windswept\",\"Windswept\",\"Windswept\",\"Windswept\",\"Windswept\",\"Windswept\",\"Windswept\",\"Windswept\",\"Windswept\",\"Windswept\",\"Windswept\",\"Windswept\",\"Windswept\",\"Windswept\",\"Windswept\",\"Windswept\",\"Windswept\",\"Windswept\",\"Windswept\",\"Windswept\",\"Windswept\",\"Windswept\",\"Windswept\",\"Windswept\",\"Windswept\",\"Windswept\",\"Windswept\",\"Windswept\",\"Windswept\",\"Windswept\",\"Windswept\",\"Windswept\",\"Windswept\",\"Windswept\",\"Windswept\",\"Windswept\"],\"xaxis\":\"x\",\"y\":[239000,224000,210000,230000,265000,220000,225000,360000,285000,310000,350000,265000,355000,291000,320000,370000,276000,330000,325000,316000,277000,360000,280000,329000,325000,242000,275000,350000,300000,370000,262000,285000,360000,347000,288000,360000,400000,389000,395000,355000,367500,292000,360000,325000,233700,305000,278950,281500,249000,315000,310000,265000,294000,315000,279000,312000,320000,297500,279000,288500,280000,297500,315000,320000,315000,305000,270000,300000,350000,270000,307961,325000,258700,288000,256750,300000,258000,305000,300000,375000,336000,230720,195000,270000,257000,270000,240000,285000,284250,284500,251000,325000,217000,170000,134000,180000,184000,182000,140000,160000,221000,180000,200000,185000,190000,190000,240000,170000,220000,195000,195000,220000,185000,200000,230000,275000,245000,235000,225000,210000,220000,180000,215000,235000,162500,145000,135000,155725,195000,168000,161000,162000,182000,144500,155000,144000,160000,155000,182000,190000,185000,190000,207500,185000,205000,220000,235000,200000,225000,200000,190000,220000,229900,245000,185000,226000,257500,235000,205000,225000,205000,205000,225000,250000,277500,118000,139900,225000,329000,335000,335000,324000,324500,350000,358000,360000,365000,369000,355000,375000,291000,387500,430000,404000,395000,410000,427500,414999,405000,420000,415000,325000,303000,390000,396000,275000,95000,265000,245000,265000,275000,115000,210000,225000,215000,225000,252000,292500,189000,187000,185000,205000,190000,199000,195000,210000,275000,215000,219000,245000,230000,130000,250000,243500,288000,255000,265000,90000,196000,240000,187000,175000,195000,196000,230000,215000,205000,350000,325000,340000,349000,335000,220000,355000,370500,355000,60000,84000,64900,90000,76000,49000,45000,126500,110000,118000,109000,130000,110000,60000,210000,145000,105000,114990,115000,80000,169000,111500,80750,150000,84900,90000,63000,61000,459999,335000,400000,400000,421000,467000,465000,455000,60000,68000,89000,85000,85000,118000,146000,117000,125000,118000,115000,135000,200000,175000,143000,125000,156000,166000,72000,75000,79000,92000,76000,84000,104900,130000,127700,140000,135000,145000,140000,135000,135000,122000,155000,127000,165000,117000,70000,329000,349000,340000,370000,380000,295000,349000,175000,240000,255000,250000,175000,190000,365000,286500,320000,335000,350000,359990,375000,389000,391000,320000,273000,345000,330000,219000,420000,239000,260000,319000,325000,300000,375000,389990,355000,415000,318000,250000,385000,352500,320000,422500,355000,305000,287000,274000,290000,315000,290000,160000,282000,270000,272000,289000,322500,285000,255000,317000,315000,299250,250000,290000,320000,300000,320000,330000,224900,365000,356000,235000,329000,264000,315000,390000,317000,315000,360000,370000,295000,305000,339000,350000,340000,334000,349000,364000,350000,385000,370000,380000,390000,369000,429000,415000,500000,446000,418000,400000,377000,590000,405000,415000,430000,329000,325000,309000,280000,318000,240000,250000,250000,280000,275000,255000,222500,240000,190000,140000,185000,182000,160000,150000,140000,235000,200000,189000,217500,160000,141000,170000,260000,190000,225000,220000,195000,267000,231000,309000,197000,220000,146000,235000,194000,220000,140000,195000,210000,220000,155000,200000,220000,295000,225000,185000,198000,180000,205000,192000,195000,105000,105000,187000,180000,163000,170000,121000,265000,205000,182500,199990,254000,117667,150000,171000,400000,415000,325000,375000,263000,287000,290000,250000,275000,280000,370000,225000,130000,170000,150000,199900,160000,110000,165000,145000,185000,225000,150000,139900,135000,163000,160000,172000,170000,185000,190000,178000,195000,165000,190000,175000,191000,163000,130000,205000,186500,212000,204000,160000,186000,194000,195000,235000,195000,95000,115000,115000,140000,70000,119000,95000,132200,101000,143000,110000,120000,130000,135000,116000,94000,107000,119300,115000,116500,136000,150000,121500,155000,125000,121000,140000,160000,130000,98000,114000,115000,135000,126000,125000,146000,145000,135000,149000,140000,115000,155000,175000,150000,140000,155000,152000,150000,140000,149000,135000,133000,135000,187900,190000,145000,135000,145000,170000,160000,168000,168000,135000,126990,122000,93000,134000,145000,183000,140000,189000,165000,130000,170000,165000,156000,176000,178429,165000,183000,140000,150000,141500,175000,155000,205000,189000,155000,220000,170000,193000,195000,190000,161000,196000,215000,230000,190000,240000,190000,215000,193000,205000,207000,190000,120000,115000,110000,115000,120000,110000,122000,132000,115000,109000,110000,106000,130000,117000,113000,140000,105000,112500,135000,105000,144000,150000,135000,148000,133000,130000,145000,125000,110000,135000,120000,150000,125000,150000,150000,120000,140000,125000,140000,175000,125000,165000,105000,113000,112500,135000,85000,220500,209000,215000,225000,196500,212000,220000,235000,225000,265000,385000,370000,190000,229000,230000,180000,194000,203500,200000,183000,237500,273000,235000,225000,205000,287000,250000,230000,250000,300500,335000,305000,310000,225000,221000,320000,267000,269000,225000,270000,270000,272950,365000,275000,270000,330000,310000,270000,330000,285000,355000,275000,267500,325000,254000,159000,270000,245000,189000,290000,255000,275000,335000],\"yaxis\":\"y\",\"type\":\"scattergl\"},{\"hovertemplate\":\"Bedrooms=2\\u003cbr\\u003eDevelopment=%{x}\\u003cbr\\u003eSold Price=%{y}\\u003cextra\\u003e\\u003c\\u002fextra\\u003e\",\"legendgroup\":\"2\",\"marker\":{\"color\":\"#EF553B\",\"symbol\":\"circle\"},\"mode\":\"markers\",\"name\":\"2\",\"showlegend\":true,\"x\":[\"Beach Manor\",\"Beach Manor\",\"Brookstown\",\"Bucolic\",\"Bucolic\",\"Bucolic\",\"Bucolic\",\"Bucolic\",\"Bucolic\",\"Bucolic\",\"Bucolic\",\"Bucolic\",\"Bucolic\",\"Bucolic\",\"Bucolic\",\"Bucolic\",\"Bucolic\",\"Bucolic\",\"Bucolic\",\"Bucolic\",\"Bucolic\",\"Bucolic\",\"Bucolic\",\"Bucolic\",\"Bucolic\",\"Bucolic\",\"Bucolic\",\"Bucolic\",\"Bucolic\",\"Bucolic\",\"Bucolic\",\"Bucolic\",\"Bucolic\",\"Bucolic\",\"Bucolic\",\"Bucolic\",\"Bucolic\",\"Bucolic\",\"Bucolic\",\"Bucolic\",\"Bucolic\",\"Bucolic\",\"Bucolic\",\"Bucolic\",\"Cambridge\",\"Cambridge\",\"Cambridge\",\"Cambridge\",\"Cambridge\",\"Cambridge\",\"Cambridge\",\"Cambridge\",\"Cambridge\",\"Cambridge\",\"Cambridge\",\"Cambridge\",\"Cambridge\",\"Cambridge\",\"Cambridge\",\"Cambridge\",\"Cambridge\",\"Cambridge\",\"Cambridge\",\"Cambridge\",\"Cambridge\",\"Cambridge\",\"Cambridge\",\"Cambridge\",\"Cambridge\",\"Cambridge\",\"Cambridge\",\"Cambridge\",\"Cambridge\",\"Cambridge\",\"Cambridge\",\"Cambridge\",\"Cambridge\",\"Cambridge\",\"Cambridge\",\"Cambridge\",\"Cambridge\",\"Cambridge\",\"Cambridge\",\"Cambridge\",\"Cambridge\",\"Cambridge\",\"Cambridge\",\"Cambridge\",\"Cambridge\",\"Cambridge\",\"Cambridge\",\"Cambridge\",\"Cambridge\",\"Cambridge\",\"Cambridge\",\"Cambridge\",\"Cambridge\",\"Cambridge\",\"Cambridge\",\"Cambridge\",\"Cambridge\",\"Cambridge\",\"Cambridge\",\"Cambridge\",\"Cambridge\",\"Cambridge\",\"Cambridge\",\"Cambridge\",\"Cambridge\",\"Cambridge\",\"Cambridge\",\"Cambridge\",\"Cambridge\",\"Cambridge\",\"Cambridge\",\"Cambridge\",\"Cambridge\",\"Cambridge\",\"Cambridge\",\"Cambridge\",\"Cambridge\",\"Cambridge\",\"Cambridge\",\"Cambridge\",\"Cambridge\",\"Cambridge\",\"Cambridge\",\"Cambridge\",\"Cambridge\",\"Cambridge\",\"Cambridge\",\"Cambridge\",\"Cambridge\",\"Cambridge\",\"Cambridge\",\"Cambridge\",\"Cambridge\",\"Cambridge\",\"Cambridge\",\"Cambridge\",\"Cambridge\",\"Cambridge\",\"Cambridge\",\"Cambridge\",\"Cambridge\",\"Cambridge\",\"Cambridge\",\"Cambridge\",\"Cambridge\",\"Cambridge\",\"Cambridge\",\"Cambridge\",\"Cambridge\",\"Cambridge\",\"Cambridge\",\"Cambridge\",\"Cambridge\",\"Cambridge\",\"Cambridge\",\"Cambridge\",\"Cambridge\",\"Cambridge\",\"Cambridge\",\"Cambridge\",\"Cambridge\",\"Cambridge\",\"Cambridge\",\"Capital Heights\",\"Capital Heights\",\"Capital Heights\",\"Capital Heights\",\"Capital Heights\",\"Capital Heights\",\"Capital Heights\",\"Capital Heights\",\"Capital Heights\",\"Cranberry\",\"Cranberry\",\"Cranberry\",\"Cranberry\",\"Cranberry\",\"Crewville\",\"Crewville\",\"Crewville\",\"Crewville\",\"Crewville\",\"Crewville\",\"Crewville\",\"Crewville\",\"Crewville\",\"Crewville\",\"Crewville\",\"Crewville\",\"Crewville\",\"Crewville\",\"Crewville\",\"Crewville\",\"Crewville\",\"Crewville\",\"Crewville\",\"Crewville\",\"Crewville\",\"Crewville\",\"Crewville\",\"Crewville\",\"Crewville\",\"Crewville\",\"Crewville\",\"Crewville\",\"Crewville\",\"Crewville\",\"Crewville\",\"Crewville\",\"Crewville\",\"Crewville\",\"Crewville\",\"Eastown\",\"Eastown\",\"Eastown\",\"Eastown\",\"Eastown\",\"Eastown\",\"Eastown\",\"Eastown\",\"Eastown\",\"Eastown\",\"Eastown\",\"Eastown\",\"Eastown\",\"Eastown\",\"Eastown\",\"Eastown\",\"Eastown\",\"Eastown\",\"Eastown\",\"Eastown\",\"Eastown\",\"Eastown\",\"Golddream\",\"Greentown\",\"Greentown\",\"Greentown\",\"Greentown\",\"Greentown\",\"Greentown\",\"Greentown\",\"Greentown\",\"Greentown\",\"Greentown\",\"Greentown\",\"Greentown\",\"Greentown\",\"Greentown\",\"Greentown\",\"Greentown\",\"Greentown\",\"Greentown\",\"Greentown\",\"Greentown\",\"Greentown\",\"Greentown\",\"Greentown\",\"Greentown\",\"Greentown\",\"Greentown\",\"Greentown\",\"Greentown\",\"Greentown\",\"Greentown\",\"Greentown\",\"Greentown\",\"Greentown\",\"Greentown\",\"Greentown\",\"Greentown\",\"Greentown\",\"Greentown\",\"Greentown\",\"Greentown\",\"Greentown\",\"Greentown\",\"Greentown\",\"Greentown\",\"Greentown\",\"Greentown\",\"Greentown\",\"Greentown\",\"Greentown\",\"Greentown\",\"Greentown\",\"Greentown\",\"Greentown\",\"Greentown\",\"Greentown\",\"Greentown\",\"Greentown\",\"Greentown\",\"Greentown\",\"Greentown\",\"Greentown\",\"Greentown\",\"Greentown\",\"Greentown\",\"Greentown\",\"Greentown\",\"Greentown\",\"Greentown\",\"Greentown\",\"Greentown\",\"Greentown\",\"Greentown\",\"Greentown\",\"Greentown\",\"Greentown\",\"Greentown\",\"Greentown\",\"Greentown\",\"Greentown\",\"Greentown\",\"Greentown\",\"Greentown\",\"Greentown\",\"Greentown\",\"Greentown\",\"Greentown\",\"Greentown\",\"Greentown\",\"Greentown\",\"Greentown\",\"Hamptown\",\"Hamptown\",\"Hamptown\",\"Hamptown\",\"Hamptown\",\"Hamptown\",\"Hamptown\",\"Hamptown\",\"Hamptown\",\"Hamptown\",\"Hamptown\",\"Hamptown\",\"Landings\",\"Landings\",\"Landings\",\"Landings\",\"Landings\",\"Landings\",\"Landings\",\"Landings\",\"Landings\",\"Landings\",\"Landings\",\"Landings\",\"Landings\",\"Landings\",\"Landings\",\"Landings\",\"Landings\",\"Landings\",\"Landings\",\"Landings\",\"Landings\",\"Landings\",\"Landings\",\"Landings\",\"Laurel Vista\",\"Laurel Vista\",\"Laurel Vista\",\"Laurel Vista\",\"Makerstsown\",\"Mapletown\",\"Mapletown\",\"Mapletown\",\"Mapletown\",\"Mapletown\",\"Mapletown\",\"Oxford\",\"Oxford\",\"Oxford\",\"Oxford\",\"Oxford\",\"Oxford\",\"Oxford\",\"Oxford\",\"Oxford\",\"Oxford\",\"Oxford\",\"Oxford\",\"Oxford\",\"Oxford\",\"Oxford\",\"Oxford\",\"Oxford\",\"Oxford\",\"Oxford\",\"Oxford\",\"Oxford\",\"Oxford\",\"Oxford\",\"Oxford\",\"Oxford\",\"Oxford\",\"Oxford\",\"Oxford\",\"Oxford\",\"Oxford\",\"Oxford\",\"Oxford\",\"Oxford\",\"Oxford\",\"Oxford\",\"Oxford\",\"Oxford\",\"Oxford\",\"Oxford\",\"Oxford\",\"Oxford\",\"Oxford\",\"Oxford\",\"Oxford\",\"Oxford\",\"Oxford\",\"Oxford\",\"Oxford\",\"Oxford\",\"Oxford\",\"Parliment\",\"Parliment\",\"Parliment\",\"Parliment\",\"Parliment\",\"Parliment\",\"Parliment\",\"Parliment\",\"Parliment\",\"Parliment\",\"Parliment\",\"Parliment\",\"Parliment\",\"Parliment\",\"Parliment\",\"Parliment\",\"Parliment\",\"Parliment\",\"Parliment\",\"Parliment\",\"Parliment\",\"Parliment\",\"Parliment\",\"Parliment\",\"Parliment\",\"Parliment\",\"Parliment\",\"Parliment\",\"Parliment\",\"Parliment\",\"Parliment\",\"Parliment\",\"Parliment\",\"Parliment\",\"Parliment\",\"Parliment\",\"Parliment\",\"Parliment\",\"Parliment\",\"Parliment\",\"Parliment\",\"Parliment\",\"Parliment\",\"Parliment\",\"Parliment\",\"Parliment\",\"Parliment\",\"Parliment\",\"Parliment\",\"Parliment\",\"Parliment\",\"Parliment\",\"Parliment\",\"Parliment\",\"Parliment\",\"Parliment\",\"Parliment\",\"Parliment\",\"Parliment\",\"Parliment\",\"Parliment\",\"Parliment\",\"Parliment\",\"Parliment\",\"Parliment\",\"Parliment\",\"Parliment\",\"Parliment\",\"Parliment\",\"Parliment\",\"Parliment\",\"Parliment\",\"Parliment\",\"Parliment\",\"Parliment\",\"Parliment\",\"Parliment\",\"Parliment\",\"Parliment\",\"Parliment\",\"Parliment\",\"Parliment\",\"Parliment\",\"Parliment\",\"Parliment\",\"Pilgramstate\",\"Pilgramstate\",\"Pilgramstate\",\"Pursuit\",\"Pursuit\",\"Pursuit\",\"Pursuit\",\"Pursuit\",\"Pursuit\",\"Pursuit\",\"Pursuit\",\"Pursuit\",\"Pursuit\",\"Pursuit\",\"Pursuit\",\"Pursuit\",\"Pursuit\",\"Pursuit\",\"Pursuit\",\"Pursuit\",\"Pursuit\",\"Pursuit\",\"Pursuit\",\"Pursuit\",\"Pursuit\",\"Pursuit\",\"Pursuit\",\"Pursuit\",\"Pursuit\",\"Pursuit\",\"Southland\",\"Southland\",\"Southland\",\"Southland\",\"University Heights\",\"Wolfville\",\"Wolfville\",\"Wolfville\",\"Wolfville\",\"Wolfville\",\"Wolfville\",\"Wolfville\",\"Wolfville\",\"Wolfville\",\"Wolfville\",\"Wolfville\",\"Wolfville\",\"Wolfville\",\"Wolfville\",\"Wolfville\",\"Wolfville\",\"Wolfville\",\"Wolfville\",\"Wolfville\",\"Wolfville\",\"Wolfville\",\"Wolfville\",\"Wolfville\",\"Wolfville\",\"Wolfville\",\"Wolfville\",\"Wolfville\",\"Wolfville\",\"Yellowstone\",\"Yellowstone\",\"Yellowstone\",\"Yellowstone\",\"Yellowstone\",\"Yellowstone\",\"Yellowstone\",\"Yellowstone\",\"Yellowstone\",\"Yellowstone\",\"Yellowstone\",\"Yellowstone\"],\"xaxis\":\"x\",\"y\":[450000,469000,394000,350000,400000,381000,398500,384990,350000,369000,372000,365000,356800,410000,389000,345000,320000,350000,390000,410000,370000,360000,419000,285000,328000,323999,298500,310000,360000,335000,329000,330000,330000,325000,349000,339000,350000,300000,350000,375000,360000,300000,300000,314000,277000,410000,380000,350000,300000,330000,360000,320000,371000,340000,369990,420000,220000,375000,407000,345000,365000,390000,380000,382500,375000,380000,370000,395000,317500,395000,345000,377500,344000,350000,349000,327000,373000,400000,255000,272000,240000,283000,260000,245000,255000,289900,290000,278000,322500,310000,269000,289900,280000,340000,280000,290000,315000,300000,320000,262000,285000,295000,300000,286000,255000,350000,349000,288000,275000,324900,335000,310000,315000,375000,395200,275000,275000,290000,357000,350000,315000,329000,345000,360000,305000,355000,310000,340000,275000,255000,267000,253800,385000,325000,337000,310000,365000,300000,310000,309000,285000,240000,295000,268000,284900,325000,365000,330000,325000,355000,360000,265000,389000,312000,339000,295000,370000,350000,265000,275000,285000,290000,275000,248000,340000,245000,312500,420000,415000,445000,340000,389000,380000,440000,385000,369000,415000,450000,489000,459000,275000,331000,385000,340000,401000,410000,337500,437000,405000,380000,405000,450000,450000,442000,450000,395000,425000,420000,400000,400000,475000,455000,435000,437000,480000,405000,441000,381000,420000,480000,435000,435000,470000,399000,400000,410000,463835,452900,459900,449900,452900,449900,457900,477900,449900,457900,457900,469900,457900,447900,485070,477900,441000,437900,453900,452900,469900,472900,347500,225000,55000,175000,165000,115500,155000,160000,174000,110000,100000,153000,147000,77500,169000,140000,119000,154000,160000,155000,172500,117500,90000,75000,95000,155000,157000,160000,164900,155000,130000,119000,169000,200000,155900,189000,91000,172000,196100,150000,172000,195000,180000,181000,175000,184550,115000,180000,175000,185000,195000,122500,190000,145000,197500,95000,189900,200000,200000,145000,230000,95000,193500,200000,183000,105000,218000,90000,218000,165000,175000,167500,90000,173000,190000,190000,210000,199000,235000,184500,185000,122500,190000,226000,85000,55000,80000,54000,172000,105000,225000,305000,325000,330500,331000,350000,315000,319000,327500,370000,350000,390000,396000,393000,310000,320000,400000,320000,415000,355000,455000,339000,465000,345000,355000,490000,370000,395000,393500,315000,355000,365000,375000,350000,395000,385000,355000,400000,363000,290000,315000,285000,479000,480000,439999,430000,415000,435000,445000,360000,417000,375000,410000,385000,390000,375000,352500,435000,367500,425000,385000,424300,380000,365000,395000,385000,370000,415000,440000,435000,377000,424000,310000,278000,329000,330000,324450,305000,280000,205000,402500,355000,338000,360000,412250,425000,289750,384000,369999,360000,335000,310000,365000,269000,255000,305114,357000,374999,535000,310000,335000,355000,364000,385000,400000,400000,425000,395000,315000,370000,335000,315000,454000,375000,320000,351500,479000,385000,485000,469000,415000,405000,475000,449000,445000,415000,384000,440000,475000,410000,545000,475000,488000,415000,450000,465000,429000,440000,300000,334990,367000,325000,320000,350000,310000,320000,303000,335000,329000,387500,355000,360000,389000,385000,390000,425000,420000,402500,406000,427500,320000,325000,399000,380000,370000,429000,370000,410000,380000,365000,380000,415000,420000,355000,305000,310000,345000,387000,350000,390000,412500,330000,351000,450000,470000,460000,436000,350000,395000,385000,475000,460000,472000,470000,442000,440000,405000,325000,329000,340000,345000,295000,330000,345000,350000,340000,370000,310000,339000,350000,304000,287000,265000,205000,141000,190000,189000,323500,350000,346000,318000,365000,395000,388000,385000,420000,426000,410000,435000,358000,330000,340000,360000,369990,385000,375000,401000,420000,430000,429000,365000,387000,380000,415000,410000,439000,354000,429000,393000,459000,405000,495000,410000,369000,362500,385000,355000,295500],\"yaxis\":\"y\",\"type\":\"scattergl\"},{\"hovertemplate\":\"Bedrooms=3\\u003cbr\\u003eDevelopment=%{x}\\u003cbr\\u003eSold Price=%{y}\\u003cextra\\u003e\\u003c\\u002fextra\\u003e\",\"legendgroup\":\"3\",\"marker\":{\"color\":\"#00cc96\",\"symbol\":\"circle\"},\"mode\":\"markers\",\"name\":\"3\",\"showlegend\":true,\"x\":[\"Crewville\",\"Crewville\",\"Landings\",\"Landings\",\"Landings\",\"Landings\",\"Landings\",\"Landings\",\"Landings\",\"Landings\",\"Mapletown\",\"Parliment\",\"Parliment\",\"University Heights\",\"Wolfville\",\"Yellowstone\",\"Yellowstone\",\"Yellowstone\",\"Yellowstone\",\"Yellowstone\",\"Yellowstone\"],\"xaxis\":\"x\",\"y\":[487000,350000,475000,488000,437000,415000,420000,430000,447000,470000,435000,470000,519000,399000,426000,399000,501000,545000,480000,495000,430000],\"yaxis\":\"y\",\"type\":\"scattergl\"}],                        {\"template\":{\"data\":{\"barpolar\":[{\"marker\":{\"line\":{\"color\":\"white\",\"width\":0.5},\"pattern\":{\"fillmode\":\"overlay\",\"size\":10,\"solidity\":0.2}},\"type\":\"barpolar\"}],\"bar\":[{\"error_x\":{\"color\":\"#2a3f5f\"},\"error_y\":{\"color\":\"#2a3f5f\"},\"marker\":{\"line\":{\"color\":\"white\",\"width\":0.5},\"pattern\":{\"fillmode\":\"overlay\",\"size\":10,\"solidity\":0.2}},\"type\":\"bar\"}],\"carpet\":[{\"aaxis\":{\"endlinecolor\":\"#2a3f5f\",\"gridcolor\":\"#C8D4E3\",\"linecolor\":\"#C8D4E3\",\"minorgridcolor\":\"#C8D4E3\",\"startlinecolor\":\"#2a3f5f\"},\"baxis\":{\"endlinecolor\":\"#2a3f5f\",\"gridcolor\":\"#C8D4E3\",\"linecolor\":\"#C8D4E3\",\"minorgridcolor\":\"#C8D4E3\",\"startlinecolor\":\"#2a3f5f\"},\"type\":\"carpet\"}],\"choropleth\":[{\"colorbar\":{\"outlinewidth\":0,\"ticks\":\"\"},\"type\":\"choropleth\"}],\"contourcarpet\":[{\"colorbar\":{\"outlinewidth\":0,\"ticks\":\"\"},\"type\":\"contourcarpet\"}],\"contour\":[{\"colorbar\":{\"outlinewidth\":0,\"ticks\":\"\"},\"colorscale\":[[0.0,\"#0d0887\"],[0.1111111111111111,\"#46039f\"],[0.2222222222222222,\"#7201a8\"],[0.3333333333333333,\"#9c179e\"],[0.4444444444444444,\"#bd3786\"],[0.5555555555555556,\"#d8576b\"],[0.6666666666666666,\"#ed7953\"],[0.7777777777777778,\"#fb9f3a\"],[0.8888888888888888,\"#fdca26\"],[1.0,\"#f0f921\"]],\"type\":\"contour\"}],\"heatmapgl\":[{\"colorbar\":{\"outlinewidth\":0,\"ticks\":\"\"},\"colorscale\":[[0.0,\"#0d0887\"],[0.1111111111111111,\"#46039f\"],[0.2222222222222222,\"#7201a8\"],[0.3333333333333333,\"#9c179e\"],[0.4444444444444444,\"#bd3786\"],[0.5555555555555556,\"#d8576b\"],[0.6666666666666666,\"#ed7953\"],[0.7777777777777778,\"#fb9f3a\"],[0.8888888888888888,\"#fdca26\"],[1.0,\"#f0f921\"]],\"type\":\"heatmapgl\"}],\"heatmap\":[{\"colorbar\":{\"outlinewidth\":0,\"ticks\":\"\"},\"colorscale\":[[0.0,\"#0d0887\"],[0.1111111111111111,\"#46039f\"],[0.2222222222222222,\"#7201a8\"],[0.3333333333333333,\"#9c179e\"],[0.4444444444444444,\"#bd3786\"],[0.5555555555555556,\"#d8576b\"],[0.6666666666666666,\"#ed7953\"],[0.7777777777777778,\"#fb9f3a\"],[0.8888888888888888,\"#fdca26\"],[1.0,\"#f0f921\"]],\"type\":\"heatmap\"}],\"histogram2dcontour\":[{\"colorbar\":{\"outlinewidth\":0,\"ticks\":\"\"},\"colorscale\":[[0.0,\"#0d0887\"],[0.1111111111111111,\"#46039f\"],[0.2222222222222222,\"#7201a8\"],[0.3333333333333333,\"#9c179e\"],[0.4444444444444444,\"#bd3786\"],[0.5555555555555556,\"#d8576b\"],[0.6666666666666666,\"#ed7953\"],[0.7777777777777778,\"#fb9f3a\"],[0.8888888888888888,\"#fdca26\"],[1.0,\"#f0f921\"]],\"type\":\"histogram2dcontour\"}],\"histogram2d\":[{\"colorbar\":{\"outlinewidth\":0,\"ticks\":\"\"},\"colorscale\":[[0.0,\"#0d0887\"],[0.1111111111111111,\"#46039f\"],[0.2222222222222222,\"#7201a8\"],[0.3333333333333333,\"#9c179e\"],[0.4444444444444444,\"#bd3786\"],[0.5555555555555556,\"#d8576b\"],[0.6666666666666666,\"#ed7953\"],[0.7777777777777778,\"#fb9f3a\"],[0.8888888888888888,\"#fdca26\"],[1.0,\"#f0f921\"]],\"type\":\"histogram2d\"}],\"histogram\":[{\"marker\":{\"pattern\":{\"fillmode\":\"overlay\",\"size\":10,\"solidity\":0.2}},\"type\":\"histogram\"}],\"mesh3d\":[{\"colorbar\":{\"outlinewidth\":0,\"ticks\":\"\"},\"type\":\"mesh3d\"}],\"parcoords\":[{\"line\":{\"colorbar\":{\"outlinewidth\":0,\"ticks\":\"\"}},\"type\":\"parcoords\"}],\"pie\":[{\"automargin\":true,\"type\":\"pie\"}],\"scatter3d\":[{\"line\":{\"colorbar\":{\"outlinewidth\":0,\"ticks\":\"\"}},\"marker\":{\"colorbar\":{\"outlinewidth\":0,\"ticks\":\"\"}},\"type\":\"scatter3d\"}],\"scattercarpet\":[{\"marker\":{\"colorbar\":{\"outlinewidth\":0,\"ticks\":\"\"}},\"type\":\"scattercarpet\"}],\"scattergeo\":[{\"marker\":{\"colorbar\":{\"outlinewidth\":0,\"ticks\":\"\"}},\"type\":\"scattergeo\"}],\"scattergl\":[{\"marker\":{\"colorbar\":{\"outlinewidth\":0,\"ticks\":\"\"}},\"type\":\"scattergl\"}],\"scattermapbox\":[{\"marker\":{\"colorbar\":{\"outlinewidth\":0,\"ticks\":\"\"}},\"type\":\"scattermapbox\"}],\"scatterpolargl\":[{\"marker\":{\"colorbar\":{\"outlinewidth\":0,\"ticks\":\"\"}},\"type\":\"scatterpolargl\"}],\"scatterpolar\":[{\"marker\":{\"colorbar\":{\"outlinewidth\":0,\"ticks\":\"\"}},\"type\":\"scatterpolar\"}],\"scatter\":[{\"fillpattern\":{\"fillmode\":\"overlay\",\"size\":10,\"solidity\":0.2},\"type\":\"scatter\"}],\"scatterternary\":[{\"marker\":{\"colorbar\":{\"outlinewidth\":0,\"ticks\":\"\"}},\"type\":\"scatterternary\"}],\"surface\":[{\"colorbar\":{\"outlinewidth\":0,\"ticks\":\"\"},\"colorscale\":[[0.0,\"#0d0887\"],[0.1111111111111111,\"#46039f\"],[0.2222222222222222,\"#7201a8\"],[0.3333333333333333,\"#9c179e\"],[0.4444444444444444,\"#bd3786\"],[0.5555555555555556,\"#d8576b\"],[0.6666666666666666,\"#ed7953\"],[0.7777777777777778,\"#fb9f3a\"],[0.8888888888888888,\"#fdca26\"],[1.0,\"#f0f921\"]],\"type\":\"surface\"}],\"table\":[{\"cells\":{\"fill\":{\"color\":\"#EBF0F8\"},\"line\":{\"color\":\"white\"}},\"header\":{\"fill\":{\"color\":\"#C8D4E3\"},\"line\":{\"color\":\"white\"}},\"type\":\"table\"}]},\"layout\":{\"annotationdefaults\":{\"arrowcolor\":\"#2a3f5f\",\"arrowhead\":0,\"arrowwidth\":1},\"autotypenumbers\":\"strict\",\"coloraxis\":{\"colorbar\":{\"outlinewidth\":0,\"ticks\":\"\"}},\"colorscale\":{\"diverging\":[[0,\"#8e0152\"],[0.1,\"#c51b7d\"],[0.2,\"#de77ae\"],[0.3,\"#f1b6da\"],[0.4,\"#fde0ef\"],[0.5,\"#f7f7f7\"],[0.6,\"#e6f5d0\"],[0.7,\"#b8e186\"],[0.8,\"#7fbc41\"],[0.9,\"#4d9221\"],[1,\"#276419\"]],\"sequential\":[[0.0,\"#0d0887\"],[0.1111111111111111,\"#46039f\"],[0.2222222222222222,\"#7201a8\"],[0.3333333333333333,\"#9c179e\"],[0.4444444444444444,\"#bd3786\"],[0.5555555555555556,\"#d8576b\"],[0.6666666666666666,\"#ed7953\"],[0.7777777777777778,\"#fb9f3a\"],[0.8888888888888888,\"#fdca26\"],[1.0,\"#f0f921\"]],\"sequentialminus\":[[0.0,\"#0d0887\"],[0.1111111111111111,\"#46039f\"],[0.2222222222222222,\"#7201a8\"],[0.3333333333333333,\"#9c179e\"],[0.4444444444444444,\"#bd3786\"],[0.5555555555555556,\"#d8576b\"],[0.6666666666666666,\"#ed7953\"],[0.7777777777777778,\"#fb9f3a\"],[0.8888888888888888,\"#fdca26\"],[1.0,\"#f0f921\"]]},\"colorway\":[\"#636efa\",\"#EF553B\",\"#00cc96\",\"#ab63fa\",\"#FFA15A\",\"#19d3f3\",\"#FF6692\",\"#B6E880\",\"#FF97FF\",\"#FECB52\"],\"font\":{\"color\":\"#2a3f5f\"},\"geo\":{\"bgcolor\":\"white\",\"lakecolor\":\"white\",\"landcolor\":\"white\",\"showlakes\":true,\"showland\":true,\"subunitcolor\":\"#C8D4E3\"},\"hoverlabel\":{\"align\":\"left\"},\"hovermode\":\"closest\",\"mapbox\":{\"style\":\"light\"},\"paper_bgcolor\":\"white\",\"plot_bgcolor\":\"white\",\"polar\":{\"angularaxis\":{\"gridcolor\":\"#EBF0F8\",\"linecolor\":\"#EBF0F8\",\"ticks\":\"\"},\"bgcolor\":\"white\",\"radialaxis\":{\"gridcolor\":\"#EBF0F8\",\"linecolor\":\"#EBF0F8\",\"ticks\":\"\"}},\"scene\":{\"xaxis\":{\"backgroundcolor\":\"white\",\"gridcolor\":\"#DFE8F3\",\"gridwidth\":2,\"linecolor\":\"#EBF0F8\",\"showbackground\":true,\"ticks\":\"\",\"zerolinecolor\":\"#EBF0F8\"},\"yaxis\":{\"backgroundcolor\":\"white\",\"gridcolor\":\"#DFE8F3\",\"gridwidth\":2,\"linecolor\":\"#EBF0F8\",\"showbackground\":true,\"ticks\":\"\",\"zerolinecolor\":\"#EBF0F8\"},\"zaxis\":{\"backgroundcolor\":\"white\",\"gridcolor\":\"#DFE8F3\",\"gridwidth\":2,\"linecolor\":\"#EBF0F8\",\"showbackground\":true,\"ticks\":\"\",\"zerolinecolor\":\"#EBF0F8\"}},\"shapedefaults\":{\"line\":{\"color\":\"#2a3f5f\"}},\"ternary\":{\"aaxis\":{\"gridcolor\":\"#DFE8F3\",\"linecolor\":\"#A2B1C6\",\"ticks\":\"\"},\"baxis\":{\"gridcolor\":\"#DFE8F3\",\"linecolor\":\"#A2B1C6\",\"ticks\":\"\"},\"bgcolor\":\"white\",\"caxis\":{\"gridcolor\":\"#DFE8F3\",\"linecolor\":\"#A2B1C6\",\"ticks\":\"\"}},\"title\":{\"x\":0.05},\"xaxis\":{\"automargin\":true,\"gridcolor\":\"#EBF0F8\",\"linecolor\":\"#EBF0F8\",\"ticks\":\"\",\"title\":{\"standoff\":15},\"zerolinecolor\":\"#EBF0F8\",\"zerolinewidth\":2},\"yaxis\":{\"automargin\":true,\"gridcolor\":\"#EBF0F8\",\"linecolor\":\"#EBF0F8\",\"ticks\":\"\",\"title\":{\"standoff\":15},\"zerolinecolor\":\"#EBF0F8\",\"zerolinewidth\":2}}},\"xaxis\":{\"anchor\":\"y\",\"domain\":[0.0,1.0],\"title\":{\"text\":\"Development\"},\"tickangle\":45},\"yaxis\":{\"anchor\":\"x\",\"domain\":[0.0,1.0],\"title\":{\"text\":\"Sold Price\"}},\"legend\":{\"title\":{\"text\":\"Bedrooms\"},\"tracegroupgap\":0},\"title\":{\"text\":\"Condo Sold Price vs. Development\"},\"width\":1000,\"height\":600,\"plot_bgcolor\":\"lightblue\"},                        {\"responsive\": true}                    ).then(function(){\n",
              "                            \n",
              "var gd = document.getElementById('8b1ddf57-de82-4a8f-a37a-ef353ee7f5f7');\n",
              "var x = new MutationObserver(function (mutations, observer) {{\n",
              "        var display = window.getComputedStyle(gd).display;\n",
              "        if (!display || display === 'none') {{\n",
              "            console.log([gd, 'removed!']);\n",
              "            Plotly.purge(gd);\n",
              "            observer.disconnect();\n",
              "        }}\n",
              "}});\n",
              "\n",
              "// Listen for the removal of the full notebook cells\n",
              "var notebookContainer = gd.closest('#notebook-container');\n",
              "if (notebookContainer) {{\n",
              "    x.observe(notebookContainer, {childList: true});\n",
              "}}\n",
              "\n",
              "// Listen for the clearing of the current output cell\n",
              "var outputEl = gd.closest('.output');\n",
              "if (outputEl) {{\n",
              "    x.observe(outputEl, {childList: true});\n",
              "}}\n",
              "\n",
              "                        })                };                            </script>        </div>\n",
              "</body>\n",
              "</html>"
            ]
          },
          "metadata": {},
          "output_type": "display_data"
        }
      ],
      "source": [
        "# Create the scatter plot\n",
        "fig = px.scatter(data_frame=condo, x='Development', y='Sold_Price', color='Bedrooms',\n",
        "                 title='Condo Sold Price vs. Development',\n",
        "                 labels={'Development': 'Development', 'Sold_Price': 'Sold Price', 'Town': 'Town'},\n",
        "                 hover_data=['Development'])\n",
        "\n",
        "# Show the legend\n",
        "fig.update_traces(showlegend=True)\n",
        "\n",
        "# Update the x-axis labels to be rotated 180 degrees\n",
        "fig.update_layout(xaxis=dict(tickangle=45))\n",
        "\n",
        "# Show the figure\n",
        "#fig.show()\n",
        "\n",
        "\n",
        "\n",
        "\n",
        "fig.update_layout(template='plotly_white')\n",
        "fig.update_layout(width=1000)\n",
        "fig.update_layout(height= 600)\n",
        "\n",
        "\n",
        "# Change the background color to black\n",
        "fig.update_layout(plot_bgcolor='lightblue')\n",
        "\n",
        "fig.show()"
      ]
    },
    {
      "cell_type": "code",
      "execution_count": null,
      "metadata": {
        "id": "ikQDa3wD9lZA"
      },
      "outputs": [],
      "source": []
    },
    {
      "cell_type": "code",
      "execution_count": null,
      "metadata": {
        "colab": {
          "base_uri": "https://localhost:8080/",
          "height": 1000
        },
        "id": "BfOmiXP58BX_",
        "outputId": "0834a579-9f17-4aa9-eee5-3fbaf48747f2"
      },
      "outputs": [
        {
          "data": {
            "text/html": [
              "<html>\n",
              "<head><meta charset=\"utf-8\" /></head>\n",
              "<body>\n",
              "    <div>            <script src=\"https://cdnjs.cloudflare.com/ajax/libs/mathjax/2.7.5/MathJax.js?config=TeX-AMS-MML_SVG\"></script><script type=\"text/javascript\">if (window.MathJax && window.MathJax.Hub && window.MathJax.Hub.Config) {window.MathJax.Hub.Config({SVG: {font: \"STIX-Web\"}});}</script>                <script type=\"text/javascript\">window.PlotlyConfig = {MathJaxConfig: 'local'};</script>\n",
              "        <script charset=\"utf-8\" src=\"https://cdn.plot.ly/plotly-2.24.1.min.js\"></script>                <div id=\"4494988b-317a-4f35-84a1-b8d132e4476d\" class=\"plotly-graph-div\" style=\"height:1400px; width:1000px;\"></div>            <script type=\"text/javascript\">                                    window.PLOTLYENV=window.PLOTLYENV || {};                                    if (document.getElementById(\"4494988b-317a-4f35-84a1-b8d132e4476d\")) {                    Plotly.newPlot(                        \"4494988b-317a-4f35-84a1-b8d132e4476d\",                        [{\"hovertemplate\":\"Bedrooms=1\\u003cbr\\u003eSold Price=%{x}\\u003cbr\\u003eDevelopment=%{y}\\u003cextra\\u003e\\u003c\\u002fextra\\u003e\",\"legendgroup\":\"1\",\"marker\":{\"color\":\"#636efa\",\"symbol\":\"circle\"},\"mode\":\"markers\",\"name\":\"1\",\"showlegend\":true,\"x\":[239000,224000,210000,230000,265000,220000,225000,360000,285000,310000,350000,265000,355000,291000,320000,370000,276000,330000,325000,316000,277000,360000,280000,329000,325000,242000,275000,350000,300000,370000,262000,285000,360000,347000,288000,360000,400000,389000,395000,355000,367500,292000,360000,325000,233700,305000,278950,281500,249000,315000,310000,265000,294000,315000,279000,312000,320000,297500,279000,288500,280000,297500,315000,320000,315000,305000,270000,300000,350000,270000,307961,325000,258700,288000,256750,300000,258000,305000,300000,375000,336000,230720,195000,270000,257000,270000,240000,285000,284250,284500,251000,325000,217000,170000,134000,180000,184000,182000,140000,160000,221000,180000,200000,185000,190000,190000,240000,170000,220000,195000,195000,220000,185000,200000,230000,275000,245000,235000,225000,210000,220000,180000,215000,235000,162500,145000,135000,155725,195000,168000,161000,162000,182000,144500,155000,144000,160000,155000,182000,190000,185000,190000,207500,185000,205000,220000,235000,200000,225000,200000,190000,220000,229900,245000,185000,226000,257500,235000,205000,225000,205000,205000,225000,250000,277500,118000,139900,225000,329000,335000,335000,324000,324500,350000,358000,360000,365000,369000,355000,375000,291000,387500,430000,404000,395000,410000,427500,414999,405000,420000,415000,325000,303000,390000,396000,275000,95000,265000,245000,265000,275000,115000,210000,225000,215000,225000,252000,292500,189000,187000,185000,205000,190000,199000,195000,210000,275000,215000,219000,245000,230000,130000,250000,243500,288000,255000,265000,90000,196000,240000,187000,175000,195000,196000,230000,215000,205000,350000,325000,340000,349000,335000,220000,355000,370500,355000,60000,84000,64900,90000,76000,49000,45000,126500,110000,118000,109000,130000,110000,60000,210000,145000,105000,114990,115000,80000,169000,111500,80750,150000,84900,90000,63000,61000,459999,335000,400000,400000,421000,467000,465000,455000,60000,68000,89000,85000,85000,118000,146000,117000,125000,118000,115000,135000,200000,175000,143000,125000,156000,166000,72000,75000,79000,92000,76000,84000,104900,130000,127700,140000,135000,145000,140000,135000,135000,122000,155000,127000,165000,117000,70000,329000,349000,340000,370000,380000,295000,349000,175000,240000,255000,250000,175000,190000,365000,286500,320000,335000,350000,359990,375000,389000,391000,320000,273000,345000,330000,219000,420000,239000,260000,319000,325000,300000,375000,389990,355000,415000,318000,250000,385000,352500,320000,422500,355000,305000,287000,274000,290000,315000,290000,160000,282000,270000,272000,289000,322500,285000,255000,317000,315000,299250,250000,290000,320000,300000,320000,330000,224900,365000,356000,235000,329000,264000,315000,390000,317000,315000,360000,370000,295000,305000,339000,350000,340000,334000,349000,364000,350000,385000,370000,380000,390000,369000,429000,415000,500000,446000,418000,400000,377000,590000,405000,415000,430000,329000,325000,309000,280000,318000,240000,250000,250000,280000,275000,255000,222500,240000,190000,140000,185000,182000,160000,150000,140000,235000,200000,189000,217500,160000,141000,170000,260000,190000,225000,220000,195000,267000,231000,309000,197000,220000,146000,235000,194000,220000,140000,195000,210000,220000,155000,200000,220000,295000,225000,185000,198000,180000,205000,192000,195000,105000,105000,187000,180000,163000,170000,121000,265000,205000,182500,199990,254000,117667,150000,171000,400000,415000,325000,375000,263000,287000,290000,250000,275000,280000,370000,225000,130000,170000,150000,199900,160000,110000,165000,145000,185000,225000,150000,139900,135000,163000,160000,172000,170000,185000,190000,178000,195000,165000,190000,175000,191000,163000,130000,205000,186500,212000,204000,160000,186000,194000,195000,235000,195000,95000,115000,115000,140000,70000,119000,95000,132200,101000,143000,110000,120000,130000,135000,116000,94000,107000,119300,115000,116500,136000,150000,121500,155000,125000,121000,140000,160000,130000,98000,114000,115000,135000,126000,125000,146000,145000,135000,149000,140000,115000,155000,175000,150000,140000,155000,152000,150000,140000,149000,135000,133000,135000,187900,190000,145000,135000,145000,170000,160000,168000,168000,135000,126990,122000,93000,134000,145000,183000,140000,189000,165000,130000,170000,165000,156000,176000,178429,165000,183000,140000,150000,141500,175000,155000,205000,189000,155000,220000,170000,193000,195000,190000,161000,196000,215000,230000,190000,240000,190000,215000,193000,205000,207000,190000,120000,115000,110000,115000,120000,110000,122000,132000,115000,109000,110000,106000,130000,117000,113000,140000,105000,112500,135000,105000,144000,150000,135000,148000,133000,130000,145000,125000,110000,135000,120000,150000,125000,150000,150000,120000,140000,125000,140000,175000,125000,165000,105000,113000,112500,135000,85000,220500,209000,215000,225000,196500,212000,220000,235000,225000,265000,385000,370000,190000,229000,230000,180000,194000,203500,200000,183000,237500,273000,235000,225000,205000,287000,250000,230000,250000,300500,335000,305000,310000,225000,221000,320000,267000,269000,225000,270000,270000,272950,365000,275000,270000,330000,310000,270000,330000,285000,355000,275000,267500,325000,254000,159000,270000,245000,189000,290000,255000,275000,335000],\"xaxis\":\"x\",\"y\":[\"123 Main St\",\"123 Main St\",\"123 Main St\",\"123 Main St\",\"123 Main St\",\"123 Main St\",\"Cambridge\",\"Cambridge\",\"Cambridge\",\"Cambridge\",\"Cambridge\",\"Cambridge\",\"Cambridge\",\"Cambridge\",\"Cambridge\",\"Cambridge\",\"Cambridge\",\"Cambridge\",\"Cambridge\",\"Cambridge\",\"Cambridge\",\"Cambridge\",\"Cambridge\",\"Cambridge\",\"Cambridge\",\"Cambridge\",\"Cambridge\",\"Cambridge\",\"Cambridge\",\"Cambridge\",\"Cambridge\",\"Cambridge\",\"Cambridge\",\"Cambridge\",\"Cambridge\",\"Cambridge\",\"Cambridge\",\"Cambridge\",\"Cambridge\",\"Cambridge\",\"Cambridge\",\"Cambridge\",\"Cambridge\",\"Cambridge\",\"Cambridge\",\"Cambridge\",\"Cambridge\",\"Cambridge\",\"Cambridge\",\"Cambridge\",\"Cambridge\",\"Cambridge\",\"Cambridge\",\"Cambridge\",\"Cambridge\",\"Cambridge\",\"Cambridge\",\"Cambridge\",\"Cambridge\",\"Cambridge\",\"Cambridge\",\"Cambridge\",\"Cambridge\",\"Cambridge\",\"Cambridge\",\"Cambridge\",\"Cambridge\",\"Cambridge\",\"Cambridge\",\"Cambridge\",\"Cambridge\",\"Cambridge\",\"Cambridge\",\"Cambridge\",\"Cambridge\",\"Cambridge\",\"Cambridge\",\"Cambridge\",\"Cambridge\",\"Cambridge\",\"Cambridge\",\"Cambridge\",\"Cambridge\",\"Cambridge\",\"Cambridge\",\"Cambridge\",\"Cambridge\",\"Cambridge\",\"Cambridge\",\"Cambridge\",\"Cambridge\",\"Cambridge\",\"Cambridge\",\"Clover\",\"Clover\",\"Clover\",\"Clover\",\"Clover\",\"Clover\",\"Clover\",\"Clover\",\"Clover\",\"Clover\",\"Clover\",\"Clover\",\"Clover\",\"Clover\",\"Clover\",\"Clover\",\"Clover\",\"Clover\",\"Clover\",\"Clover\",\"Clover\",\"Clover\",\"Clover\",\"Clover\",\"Clover\",\"Clover\",\"Clover\",\"Clover\",\"Clover\",\"Clover\",\"Clover\",\"Clover\",\"Clover\",\"Clover\",\"Clover\",\"Clover\",\"Clover\",\"Clover\",\"Clover\",\"Clover\",\"Clover\",\"Clover\",\"Clover\",\"Clover\",\"Clover\",\"Clover\",\"Clover\",\"Clover\",\"Clover\",\"Clover\",\"Clover\",\"Clover\",\"Clover\",\"Clover\",\"Clover\",\"Clover\",\"Clover\",\"Clover\",\"Clover\",\"Clover\",\"Clover\",\"Clover\",\"Clover\",\"Clover\",\"Clover\",\"Clover\",\"Clover\",\"Clover\",\"Clover\",\"Clover\",\"Clover\",\"Clover\",\"Clover\",\"Clover\",\"Clover\",\"Crewville\",\"Crewville\",\"Crewville\",\"Crewville\",\"Crewville\",\"Crewville\",\"Crewville\",\"Crewville\",\"Crewville\",\"Crewville\",\"Crewville\",\"Crewville\",\"Crewville\",\"Crewville\",\"Crewville\",\"Crewville\",\"Crewville\",\"Crewville\",\"Crewville\",\"Crewville\",\"Crewville\",\"Crewville\",\"Crewville\",\"Crewville\",\"Crewville\",\"Crewville\",\"Crewville\",\"Forestville\",\"Forestville\",\"Forestville\",\"Forestville\",\"Forestville\",\"Forestville\",\"Forestville\",\"Forestville\",\"Forestville\",\"Forestville\",\"Forestville\",\"Forestville\",\"Forestville\",\"Forestville\",\"Forestville\",\"Forestville\",\"Forestville\",\"Forestville\",\"Forestville\",\"Forestville\",\"Forestville\",\"Forestville\",\"Forestville\",\"Forestville\",\"Forestville\",\"Forestville\",\"Forestville\",\"Forestville\",\"Forestville\",\"Forestville\",\"Glentrees\",\"Glentrees\",\"Glentrees\",\"Glentrees\",\"Glentrees\",\"Glentrees\",\"Glentrees\",\"Glentrees\",\"Glentrees\",\"Glentrees\",\"Glentrees\",\"Glentrees\",\"Golddream\",\"Golddream\",\"Golddream\",\"Golddream\",\"Golddream\",\"Golddream\",\"Golddream\",\"Golddream\",\"Golddream\",\"Greentown\",\"Greentown\",\"Greentown\",\"Greentown\",\"Greentown\",\"Greentown\",\"Greentown\",\"Greentown\",\"Greentown\",\"Greentown\",\"Greentown\",\"Greentown\",\"Greentown\",\"Greentown\",\"Greentown\",\"Greentown\",\"Greentown\",\"Greentown\",\"Greentown\",\"Greentown\",\"Greentown\",\"Greentown\",\"Greentown\",\"Greentown\",\"Greentown\",\"Greentown\",\"Greentown\",\"Greentown\",\"Hershare\",\"Hershare\",\"Hershare\",\"Hershare\",\"Hershare\",\"Hershare\",\"Hershare\",\"Hershare\",\"Jaggedtown\",\"Jaggedtown\",\"Jaggedtown\",\"Jaggedtown\",\"Jaggedtown\",\"Jaggedtown\",\"Jaggedtown\",\"Jaggedtown\",\"Jaggedtown\",\"Jaggedtown\",\"Jaggedtown\",\"Jaggedtown\",\"Jaggedtown\",\"Jaggedtown\",\"Jaggedtown\",\"Jaggedtown\",\"Jaggedtown\",\"Jaggedtown\",\"Jaggedtown\",\"Jaggedtown\",\"Jaggedtown\",\"Jaggedtown\",\"Jaggedtown\",\"Jaggedtown\",\"Jaggedtown\",\"Jaggedtown\",\"Jaggedtown\",\"Jaggedtown\",\"Jaggedtown\",\"Jaggedtown\",\"Jaggedtown\",\"Jaggedtown\",\"Jaggedtown\",\"Jaggedtown\",\"Jaggedtown\",\"Jaggedtown\",\"Jaggedtown\",\"Jaggedtown\",\"Jaggedtown\",\"Landings\",\"Landings\",\"Landings\",\"Landings\",\"Landings\",\"Landings\",\"Landings\",\"Laurel Vista\",\"Laurel Vista\",\"Laurel Vista\",\"Laurel Vista\",\"Laurel Vista\",\"Laurell Vsta\",\"Makerstown\",\"Makerstown\",\"Makerstown\",\"Makerstown\",\"Makerstown\",\"Makerstown\",\"Makerstown\",\"Makerstown\",\"Makerstown\",\"Makerstown\",\"Makerstowne\",\"Makrstown\",\"Oxford\",\"Oxford\",\"Oxford\",\"Oxford\",\"Oxford\",\"Oxford\",\"Oxford\",\"Oxford\",\"Oxford\",\"Oxford\",\"Oxford\",\"Oxford\",\"Oxford\",\"Oxford\",\"Oxford\",\"Oxford\",\"Oxford\",\"Oxford\",\"Oxford\",\"Oxford\",\"Oxford\",\"Oxford\",\"Oxford\",\"Oxford\",\"Oxford\",\"Oxford\",\"Oxford\",\"Oxford\",\"Oxford\",\"Oxford\",\"Oxford\",\"Oxford\",\"Oxford\",\"Oxford\",\"Oxford\",\"Oxford\",\"Oxford\",\"Oxford\",\"Oxford\",\"Oxford\",\"Oxford\",\"Oxford\",\"Oxford\",\"Oxford\",\"Oxford\",\"Oxford\",\"Oxford\",\"Oxford\",\"Oxford\",\"Oxford\",\"Oxford\",\"Oxford\",\"Oxford\",\"Oxford\",\"Parliment\",\"Parliment\",\"Parliment\",\"Parliment\",\"Parliment\",\"Parliment\",\"Parliment\",\"Parliment\",\"Parliment\",\"Parliment\",\"Parliment\",\"Parliment\",\"Parliment\",\"Parliment\",\"Parliment\",\"Parliment\",\"Parliment\",\"Parliment\",\"Parliment\",\"Parliment\",\"Parliment\",\"Parliment\",\"Parliment\",\"Parliment\",\"Parliment\",\"Parliment\",\"Parliment\",\"Parliment\",\"Parliment\",\"Parliment\",\"Peninusula\",\"Peninusula\",\"Peninusula\",\"Peninusula\",\"Peninusula\",\"Peninusula\",\"Peninusula\",\"Peninusula\",\"Pilgramstate\",\"Pilgramstate\",\"Pilgramstate\",\"Pilgramstate\",\"Pilgramstate\",\"Pilgramstate\",\"Pilgramstate\",\"Pilgramstate\",\"Pilgramstate\",\"Pilgramstate\",\"Pilgramstate\",\"Pilgramstate\",\"Pilgramstate\",\"Pilgramstate\",\"Pilgramstate\",\"Pilgramstate\",\"Pilgramstate\",\"Pilgramstate\",\"Pilgramstate\",\"Pilgramstate\",\"Pilgramstate\",\"Pilgramstate\",\"Pilgramstate\",\"Pilgramstate\",\"Pilgramstate\",\"Pilgramstate\",\"Pilgramstate\",\"Pilgramstate\",\"Pilgramstate\",\"Pilgramstate\",\"Pilgramstate\",\"Pilgramstate\",\"Pilgramstate\",\"Pilgramstate\",\"Pilgramstate\",\"Pilgramstate\",\"Pilgramstate\",\"Provance\",\"Provance\",\"Provance\",\"Provance\",\"Provance\",\"Provance\",\"Provance\",\"Provance\",\"Provance\",\"Provance\",\"Provance\",\"Provance\",\"Provance\",\"Provance\",\"Provance\",\"Provance\",\"Provance\",\"Provance\",\"Provance\",\"Provance\",\"Provance\",\"Pursuit\",\"Pursuit\",\"Pursuit\",\"Pursuit\",\"Pursuit\",\"Pursuit\",\"Pursuit\",\"Pursuit\",\"Pursuit\",\"Pursuit\",\"Pursuit\",\"Southland\",\"Southland\",\"Southland\",\"Southland\",\"Southland\",\"Southland\",\"Southland\",\"Southland\",\"Southland\",\"Southland\",\"Southland\",\"Southland\",\"Southland\",\"Southland\",\"Southland\",\"Southland\",\"Southland\",\"Southland\",\"Southland\",\"Southland\",\"Southland\",\"Southland\",\"Southland\",\"Southland\",\"Southland\",\"Southland\",\"Southland\",\"Southland\",\"Southland\",\"Southland\",\"Southland\",\"Southland\",\"Southland\",\"Southland\",\"Southland\",\"Southland\",\"Southland\",\"Southland\",\"Southland\",\"Southland\",\"Southland\",\"Southland\",\"Southland\",\"Southland\",\"Southland\",\"Southland\",\"Southland\",\"Southland\",\"Southland\",\"Southland\",\"Southland\",\"Southland\",\"Southland\",\"Southland\",\"Southland\",\"Southland\",\"Southland\",\"Southland\",\"Southland\",\"Southland\",\"Southland\",\"Southland\",\"Southland\",\"Southland\",\"Southland\",\"Southland\",\"Southland\",\"Southland\",\"Southland\",\"Southland\",\"Southland\",\"Southland\",\"Southland\",\"Southland\",\"Southland\",\"Southland\",\"Southland\",\"Southland\",\"Southland\",\"Southland\",\"Southland\",\"Southland\",\"Southland\",\"Southland\",\"Southland\",\"Southland\",\"Southland\",\"Southland\",\"Southland\",\"Southland\",\"Southland\",\"Southland\",\"Southland\",\"Southland\",\"Southland\",\"Southland\",\"Southland\",\"Southland\",\"Southland\",\"Southland\",\"Southland\",\"Southland\",\"Southland\",\"Southland\",\"Southland\",\"Southland\",\"Southland\",\"Southland\",\"Southland\",\"Southland\",\"Southland\",\"Southland\",\"Southland\",\"Southland\",\"Southland\",\"Southland\",\"Southland\",\"Southland\",\"Southland\",\"Southland\",\"Southland\",\"Southland\",\"Southland\",\"Southland\",\"Southland\",\"Southland\",\"Southland\",\"Southland\",\"Southland\",\"Southland\",\"Southland\",\"Southland\",\"Southland\",\"Southland\",\"Southland\",\"Southland\",\"Southland\",\"Southland\",\"Southland\",\"Southland\",\"Southland\",\"Southland\",\"Southland\",\"Southland\",\"Southland\",\"Southland\",\"Southland\",\"Southland\",\"Southland\",\"Southland\",\"Southland\",\"Southland\",\"Southland\",\"Southland\",\"Southland\",\"Southland\",\"Southland\",\"Southland\",\"Southland\",\"Southland\",\"Southland\",\"Southland\",\"Southland\",\"Southland\",\"Southland\",\"Southland\",\"Southland\",\"Southland\",\"Southland\",\"Southland\",\"Southland\",\"Southland\",\"Southland\",\"Southland\",\"Southland\",\"Southland\",\"Southland\",\"Southland\",\"Southland\",\"Southland\",\"Southland\",\"Southland\",\"Southland\",\"Southland\",\"Southland\",\"Southland\",\"Southland\",\"Southland\",\"Southland\",\"Southland\",\"Streamville\",\"Streamville\",\"Streamville\",\"Streamville\",\"Streamville\",\"Streamville\",\"Streamville\",\"Streamville\",\"Streamville\",\"Streamville\",\"University Heights\",\"University Heights\",\"Windswept\",\"Windswept\",\"Windswept\",\"Windswept\",\"Windswept\",\"Windswept\",\"Windswept\",\"Windswept\",\"Windswept\",\"Windswept\",\"Windswept\",\"Windswept\",\"Windswept\",\"Windswept\",\"Windswept\",\"Windswept\",\"Windswept\",\"Windswept\",\"Windswept\",\"Windswept\",\"Windswept\",\"Windswept\",\"Windswept\",\"Windswept\",\"Windswept\",\"Windswept\",\"Windswept\",\"Windswept\",\"Windswept\",\"Windswept\",\"Windswept\",\"Windswept\",\"Windswept\",\"Windswept\",\"Windswept\",\"Windswept\",\"Windswept\",\"Windswept\",\"Windswept\",\"Windswept\",\"Windswept\",\"Windswept\",\"Windswept\",\"Windswept\",\"Windswept\",\"Windswept\",\"Windswept\",\"Windswept\",\"Windswept\",\"Windswept\",\"Windswept\"],\"yaxis\":\"y\",\"type\":\"scattergl\"},{\"hovertemplate\":\"Bedrooms=2\\u003cbr\\u003eSold Price=%{x}\\u003cbr\\u003eDevelopment=%{y}\\u003cextra\\u003e\\u003c\\u002fextra\\u003e\",\"legendgroup\":\"2\",\"marker\":{\"color\":\"#EF553B\",\"symbol\":\"circle\"},\"mode\":\"markers\",\"name\":\"2\",\"showlegend\":true,\"x\":[450000,469000,394000,350000,400000,381000,398500,384990,350000,369000,372000,365000,356800,410000,389000,345000,320000,350000,390000,410000,370000,360000,419000,285000,328000,323999,298500,310000,360000,335000,329000,330000,330000,325000,349000,339000,350000,300000,350000,375000,360000,300000,300000,314000,277000,410000,380000,350000,300000,330000,360000,320000,371000,340000,369990,420000,220000,375000,407000,345000,365000,390000,380000,382500,375000,380000,370000,395000,317500,395000,345000,377500,344000,350000,349000,327000,373000,400000,255000,272000,240000,283000,260000,245000,255000,289900,290000,278000,322500,310000,269000,289900,280000,340000,280000,290000,315000,300000,320000,262000,285000,295000,300000,286000,255000,350000,349000,288000,275000,324900,335000,310000,315000,375000,395200,275000,275000,290000,357000,350000,315000,329000,345000,360000,305000,355000,310000,340000,275000,255000,267000,253800,385000,325000,337000,310000,365000,300000,310000,309000,285000,240000,295000,268000,284900,325000,365000,330000,325000,355000,360000,265000,389000,312000,339000,295000,370000,350000,265000,275000,285000,290000,275000,248000,340000,245000,312500,420000,415000,445000,340000,389000,380000,440000,385000,369000,415000,450000,489000,459000,275000,331000,385000,340000,401000,410000,337500,437000,405000,380000,405000,450000,450000,442000,450000,395000,425000,420000,400000,400000,475000,455000,435000,437000,480000,405000,441000,381000,420000,480000,435000,435000,470000,399000,400000,410000,463835,452900,459900,449900,452900,449900,457900,477900,449900,457900,457900,469900,457900,447900,485070,477900,441000,437900,453900,452900,469900,472900,347500,225000,55000,175000,165000,115500,155000,160000,174000,110000,100000,153000,147000,77500,169000,140000,119000,154000,160000,155000,172500,117500,90000,75000,95000,155000,157000,160000,164900,155000,130000,119000,169000,200000,155900,189000,91000,172000,196100,150000,172000,195000,180000,181000,175000,184550,115000,180000,175000,185000,195000,122500,190000,145000,197500,95000,189900,200000,200000,145000,230000,95000,193500,200000,183000,105000,218000,90000,218000,165000,175000,167500,90000,173000,190000,190000,210000,199000,235000,184500,185000,122500,190000,226000,85000,55000,80000,54000,172000,105000,225000,305000,325000,330500,331000,350000,315000,319000,327500,370000,350000,390000,396000,393000,310000,320000,400000,320000,415000,355000,455000,339000,465000,345000,355000,490000,370000,395000,393500,315000,355000,365000,375000,350000,395000,385000,355000,400000,363000,290000,315000,285000,479000,480000,439999,430000,415000,435000,445000,360000,417000,375000,410000,385000,390000,375000,352500,435000,367500,425000,385000,424300,380000,365000,395000,385000,370000,415000,440000,435000,377000,424000,310000,278000,329000,330000,324450,305000,280000,205000,402500,355000,338000,360000,412250,425000,289750,384000,369999,360000,335000,310000,365000,269000,255000,305114,357000,374999,535000,310000,335000,355000,364000,385000,400000,400000,425000,395000,315000,370000,335000,315000,454000,375000,320000,351500,479000,385000,485000,469000,415000,405000,475000,449000,445000,415000,384000,440000,475000,410000,545000,475000,488000,415000,450000,465000,429000,440000,300000,334990,367000,325000,320000,350000,310000,320000,303000,335000,329000,387500,355000,360000,389000,385000,390000,425000,420000,402500,406000,427500,320000,325000,399000,380000,370000,429000,370000,410000,380000,365000,380000,415000,420000,355000,305000,310000,345000,387000,350000,390000,412500,330000,351000,450000,470000,460000,436000,350000,395000,385000,475000,460000,472000,470000,442000,440000,405000,325000,329000,340000,345000,295000,330000,345000,350000,340000,370000,310000,339000,350000,304000,287000,265000,205000,141000,190000,189000,323500,350000,346000,318000,365000,395000,388000,385000,420000,426000,410000,435000,358000,330000,340000,360000,369990,385000,375000,401000,420000,430000,429000,365000,387000,380000,415000,410000,439000,354000,429000,393000,459000,405000,495000,410000,369000,362500,385000,355000,295500],\"xaxis\":\"x\",\"y\":[\"Beach Manor\",\"Beach Manor\",\"Brookstown\",\"Bucolic\",\"Bucolic\",\"Bucolic\",\"Bucolic\",\"Bucolic\",\"Bucolic\",\"Bucolic\",\"Bucolic\",\"Bucolic\",\"Bucolic\",\"Bucolic\",\"Bucolic\",\"Bucolic\",\"Bucolic\",\"Bucolic\",\"Bucolic\",\"Bucolic\",\"Bucolic\",\"Bucolic\",\"Bucolic\",\"Bucolic\",\"Bucolic\",\"Bucolic\",\"Bucolic\",\"Bucolic\",\"Bucolic\",\"Bucolic\",\"Bucolic\",\"Bucolic\",\"Bucolic\",\"Bucolic\",\"Bucolic\",\"Bucolic\",\"Bucolic\",\"Bucolic\",\"Bucolic\",\"Bucolic\",\"Bucolic\",\"Bucolic\",\"Bucolic\",\"Bucolic\",\"Cambridge\",\"Cambridge\",\"Cambridge\",\"Cambridge\",\"Cambridge\",\"Cambridge\",\"Cambridge\",\"Cambridge\",\"Cambridge\",\"Cambridge\",\"Cambridge\",\"Cambridge\",\"Cambridge\",\"Cambridge\",\"Cambridge\",\"Cambridge\",\"Cambridge\",\"Cambridge\",\"Cambridge\",\"Cambridge\",\"Cambridge\",\"Cambridge\",\"Cambridge\",\"Cambridge\",\"Cambridge\",\"Cambridge\",\"Cambridge\",\"Cambridge\",\"Cambridge\",\"Cambridge\",\"Cambridge\",\"Cambridge\",\"Cambridge\",\"Cambridge\",\"Cambridge\",\"Cambridge\",\"Cambridge\",\"Cambridge\",\"Cambridge\",\"Cambridge\",\"Cambridge\",\"Cambridge\",\"Cambridge\",\"Cambridge\",\"Cambridge\",\"Cambridge\",\"Cambridge\",\"Cambridge\",\"Cambridge\",\"Cambridge\",\"Cambridge\",\"Cambridge\",\"Cambridge\",\"Cambridge\",\"Cambridge\",\"Cambridge\",\"Cambridge\",\"Cambridge\",\"Cambridge\",\"Cambridge\",\"Cambridge\",\"Cambridge\",\"Cambridge\",\"Cambridge\",\"Cambridge\",\"Cambridge\",\"Cambridge\",\"Cambridge\",\"Cambridge\",\"Cambridge\",\"Cambridge\",\"Cambridge\",\"Cambridge\",\"Cambridge\",\"Cambridge\",\"Cambridge\",\"Cambridge\",\"Cambridge\",\"Cambridge\",\"Cambridge\",\"Cambridge\",\"Cambridge\",\"Cambridge\",\"Cambridge\",\"Cambridge\",\"Cambridge\",\"Cambridge\",\"Cambridge\",\"Cambridge\",\"Cambridge\",\"Cambridge\",\"Cambridge\",\"Cambridge\",\"Cambridge\",\"Cambridge\",\"Cambridge\",\"Cambridge\",\"Cambridge\",\"Cambridge\",\"Cambridge\",\"Cambridge\",\"Cambridge\",\"Cambridge\",\"Cambridge\",\"Cambridge\",\"Cambridge\",\"Cambridge\",\"Cambridge\",\"Cambridge\",\"Cambridge\",\"Cambridge\",\"Cambridge\",\"Cambridge\",\"Cambridge\",\"Cambridge\",\"Cambridge\",\"Cambridge\",\"Cambridge\",\"Cambridge\",\"Cambridge\",\"Cambridge\",\"Cambridge\",\"Cambridge\",\"Capital Heights\",\"Capital Heights\",\"Capital Heights\",\"Capital Heights\",\"Capital Heights\",\"Capital Heights\",\"Capital Heights\",\"Capital Heights\",\"Capital Heights\",\"Cranberry\",\"Cranberry\",\"Cranberry\",\"Cranberry\",\"Cranberry\",\"Crewville\",\"Crewville\",\"Crewville\",\"Crewville\",\"Crewville\",\"Crewville\",\"Crewville\",\"Crewville\",\"Crewville\",\"Crewville\",\"Crewville\",\"Crewville\",\"Crewville\",\"Crewville\",\"Crewville\",\"Crewville\",\"Crewville\",\"Crewville\",\"Crewville\",\"Crewville\",\"Crewville\",\"Crewville\",\"Crewville\",\"Crewville\",\"Crewville\",\"Crewville\",\"Crewville\",\"Crewville\",\"Crewville\",\"Crewville\",\"Crewville\",\"Crewville\",\"Crewville\",\"Crewville\",\"Crewville\",\"Eastown\",\"Eastown\",\"Eastown\",\"Eastown\",\"Eastown\",\"Eastown\",\"Eastown\",\"Eastown\",\"Eastown\",\"Eastown\",\"Eastown\",\"Eastown\",\"Eastown\",\"Eastown\",\"Eastown\",\"Eastown\",\"Eastown\",\"Eastown\",\"Eastown\",\"Eastown\",\"Eastown\",\"Eastown\",\"Golddream\",\"Greentown\",\"Greentown\",\"Greentown\",\"Greentown\",\"Greentown\",\"Greentown\",\"Greentown\",\"Greentown\",\"Greentown\",\"Greentown\",\"Greentown\",\"Greentown\",\"Greentown\",\"Greentown\",\"Greentown\",\"Greentown\",\"Greentown\",\"Greentown\",\"Greentown\",\"Greentown\",\"Greentown\",\"Greentown\",\"Greentown\",\"Greentown\",\"Greentown\",\"Greentown\",\"Greentown\",\"Greentown\",\"Greentown\",\"Greentown\",\"Greentown\",\"Greentown\",\"Greentown\",\"Greentown\",\"Greentown\",\"Greentown\",\"Greentown\",\"Greentown\",\"Greentown\",\"Greentown\",\"Greentown\",\"Greentown\",\"Greentown\",\"Greentown\",\"Greentown\",\"Greentown\",\"Greentown\",\"Greentown\",\"Greentown\",\"Greentown\",\"Greentown\",\"Greentown\",\"Greentown\",\"Greentown\",\"Greentown\",\"Greentown\",\"Greentown\",\"Greentown\",\"Greentown\",\"Greentown\",\"Greentown\",\"Greentown\",\"Greentown\",\"Greentown\",\"Greentown\",\"Greentown\",\"Greentown\",\"Greentown\",\"Greentown\",\"Greentown\",\"Greentown\",\"Greentown\",\"Greentown\",\"Greentown\",\"Greentown\",\"Greentown\",\"Greentown\",\"Greentown\",\"Greentown\",\"Greentown\",\"Greentown\",\"Greentown\",\"Greentown\",\"Greentown\",\"Greentown\",\"Greentown\",\"Greentown\",\"Greentown\",\"Greentown\",\"Greentown\",\"Hamptown\",\"Hamptown\",\"Hamptown\",\"Hamptown\",\"Hamptown\",\"Hamptown\",\"Hamptown\",\"Hamptown\",\"Hamptown\",\"Hamptown\",\"Hamptown\",\"Hamptown\",\"Landings\",\"Landings\",\"Landings\",\"Landings\",\"Landings\",\"Landings\",\"Landings\",\"Landings\",\"Landings\",\"Landings\",\"Landings\",\"Landings\",\"Landings\",\"Landings\",\"Landings\",\"Landings\",\"Landings\",\"Landings\",\"Landings\",\"Landings\",\"Landings\",\"Landings\",\"Landings\",\"Landings\",\"Laurel Vista\",\"Laurel Vista\",\"Laurel Vista\",\"Laurel Vista\",\"Makerstsown\",\"Mapletown\",\"Mapletown\",\"Mapletown\",\"Mapletown\",\"Mapletown\",\"Mapletown\",\"Oxford\",\"Oxford\",\"Oxford\",\"Oxford\",\"Oxford\",\"Oxford\",\"Oxford\",\"Oxford\",\"Oxford\",\"Oxford\",\"Oxford\",\"Oxford\",\"Oxford\",\"Oxford\",\"Oxford\",\"Oxford\",\"Oxford\",\"Oxford\",\"Oxford\",\"Oxford\",\"Oxford\",\"Oxford\",\"Oxford\",\"Oxford\",\"Oxford\",\"Oxford\",\"Oxford\",\"Oxford\",\"Oxford\",\"Oxford\",\"Oxford\",\"Oxford\",\"Oxford\",\"Oxford\",\"Oxford\",\"Oxford\",\"Oxford\",\"Oxford\",\"Oxford\",\"Oxford\",\"Oxford\",\"Oxford\",\"Oxford\",\"Oxford\",\"Oxford\",\"Oxford\",\"Oxford\",\"Oxford\",\"Oxford\",\"Oxford\",\"Parliment\",\"Parliment\",\"Parliment\",\"Parliment\",\"Parliment\",\"Parliment\",\"Parliment\",\"Parliment\",\"Parliment\",\"Parliment\",\"Parliment\",\"Parliment\",\"Parliment\",\"Parliment\",\"Parliment\",\"Parliment\",\"Parliment\",\"Parliment\",\"Parliment\",\"Parliment\",\"Parliment\",\"Parliment\",\"Parliment\",\"Parliment\",\"Parliment\",\"Parliment\",\"Parliment\",\"Parliment\",\"Parliment\",\"Parliment\",\"Parliment\",\"Parliment\",\"Parliment\",\"Parliment\",\"Parliment\",\"Parliment\",\"Parliment\",\"Parliment\",\"Parliment\",\"Parliment\",\"Parliment\",\"Parliment\",\"Parliment\",\"Parliment\",\"Parliment\",\"Parliment\",\"Parliment\",\"Parliment\",\"Parliment\",\"Parliment\",\"Parliment\",\"Parliment\",\"Parliment\",\"Parliment\",\"Parliment\",\"Parliment\",\"Parliment\",\"Parliment\",\"Parliment\",\"Parliment\",\"Parliment\",\"Parliment\",\"Parliment\",\"Parliment\",\"Parliment\",\"Parliment\",\"Parliment\",\"Parliment\",\"Parliment\",\"Parliment\",\"Parliment\",\"Parliment\",\"Parliment\",\"Parliment\",\"Parliment\",\"Parliment\",\"Parliment\",\"Parliment\",\"Parliment\",\"Parliment\",\"Parliment\",\"Parliment\",\"Parliment\",\"Parliment\",\"Parliment\",\"Pilgramstate\",\"Pilgramstate\",\"Pilgramstate\",\"Pursuit\",\"Pursuit\",\"Pursuit\",\"Pursuit\",\"Pursuit\",\"Pursuit\",\"Pursuit\",\"Pursuit\",\"Pursuit\",\"Pursuit\",\"Pursuit\",\"Pursuit\",\"Pursuit\",\"Pursuit\",\"Pursuit\",\"Pursuit\",\"Pursuit\",\"Pursuit\",\"Pursuit\",\"Pursuit\",\"Pursuit\",\"Pursuit\",\"Pursuit\",\"Pursuit\",\"Pursuit\",\"Pursuit\",\"Pursuit\",\"Southland\",\"Southland\",\"Southland\",\"Southland\",\"University Heights\",\"Wolfville\",\"Wolfville\",\"Wolfville\",\"Wolfville\",\"Wolfville\",\"Wolfville\",\"Wolfville\",\"Wolfville\",\"Wolfville\",\"Wolfville\",\"Wolfville\",\"Wolfville\",\"Wolfville\",\"Wolfville\",\"Wolfville\",\"Wolfville\",\"Wolfville\",\"Wolfville\",\"Wolfville\",\"Wolfville\",\"Wolfville\",\"Wolfville\",\"Wolfville\",\"Wolfville\",\"Wolfville\",\"Wolfville\",\"Wolfville\",\"Wolfville\",\"Yellowstone\",\"Yellowstone\",\"Yellowstone\",\"Yellowstone\",\"Yellowstone\",\"Yellowstone\",\"Yellowstone\",\"Yellowstone\",\"Yellowstone\",\"Yellowstone\",\"Yellowstone\",\"Yellowstone\"],\"yaxis\":\"y\",\"type\":\"scattergl\"},{\"hovertemplate\":\"Bedrooms=3\\u003cbr\\u003eSold Price=%{x}\\u003cbr\\u003eDevelopment=%{y}\\u003cextra\\u003e\\u003c\\u002fextra\\u003e\",\"legendgroup\":\"3\",\"marker\":{\"color\":\"#00cc96\",\"symbol\":\"circle\"},\"mode\":\"markers\",\"name\":\"3\",\"showlegend\":true,\"x\":[487000,350000,475000,488000,437000,415000,420000,430000,447000,470000,435000,470000,519000,399000,426000,399000,501000,545000,480000,495000,430000],\"xaxis\":\"x\",\"y\":[\"Crewville\",\"Crewville\",\"Landings\",\"Landings\",\"Landings\",\"Landings\",\"Landings\",\"Landings\",\"Landings\",\"Landings\",\"Mapletown\",\"Parliment\",\"Parliment\",\"University Heights\",\"Wolfville\",\"Yellowstone\",\"Yellowstone\",\"Yellowstone\",\"Yellowstone\",\"Yellowstone\",\"Yellowstone\"],\"yaxis\":\"y\",\"type\":\"scattergl\"}],                        {\"template\":{\"data\":{\"barpolar\":[{\"marker\":{\"line\":{\"color\":\"white\",\"width\":0.5},\"pattern\":{\"fillmode\":\"overlay\",\"size\":10,\"solidity\":0.2}},\"type\":\"barpolar\"}],\"bar\":[{\"error_x\":{\"color\":\"#2a3f5f\"},\"error_y\":{\"color\":\"#2a3f5f\"},\"marker\":{\"line\":{\"color\":\"white\",\"width\":0.5},\"pattern\":{\"fillmode\":\"overlay\",\"size\":10,\"solidity\":0.2}},\"type\":\"bar\"}],\"carpet\":[{\"aaxis\":{\"endlinecolor\":\"#2a3f5f\",\"gridcolor\":\"#C8D4E3\",\"linecolor\":\"#C8D4E3\",\"minorgridcolor\":\"#C8D4E3\",\"startlinecolor\":\"#2a3f5f\"},\"baxis\":{\"endlinecolor\":\"#2a3f5f\",\"gridcolor\":\"#C8D4E3\",\"linecolor\":\"#C8D4E3\",\"minorgridcolor\":\"#C8D4E3\",\"startlinecolor\":\"#2a3f5f\"},\"type\":\"carpet\"}],\"choropleth\":[{\"colorbar\":{\"outlinewidth\":0,\"ticks\":\"\"},\"type\":\"choropleth\"}],\"contourcarpet\":[{\"colorbar\":{\"outlinewidth\":0,\"ticks\":\"\"},\"type\":\"contourcarpet\"}],\"contour\":[{\"colorbar\":{\"outlinewidth\":0,\"ticks\":\"\"},\"colorscale\":[[0.0,\"#0d0887\"],[0.1111111111111111,\"#46039f\"],[0.2222222222222222,\"#7201a8\"],[0.3333333333333333,\"#9c179e\"],[0.4444444444444444,\"#bd3786\"],[0.5555555555555556,\"#d8576b\"],[0.6666666666666666,\"#ed7953\"],[0.7777777777777778,\"#fb9f3a\"],[0.8888888888888888,\"#fdca26\"],[1.0,\"#f0f921\"]],\"type\":\"contour\"}],\"heatmapgl\":[{\"colorbar\":{\"outlinewidth\":0,\"ticks\":\"\"},\"colorscale\":[[0.0,\"#0d0887\"],[0.1111111111111111,\"#46039f\"],[0.2222222222222222,\"#7201a8\"],[0.3333333333333333,\"#9c179e\"],[0.4444444444444444,\"#bd3786\"],[0.5555555555555556,\"#d8576b\"],[0.6666666666666666,\"#ed7953\"],[0.7777777777777778,\"#fb9f3a\"],[0.8888888888888888,\"#fdca26\"],[1.0,\"#f0f921\"]],\"type\":\"heatmapgl\"}],\"heatmap\":[{\"colorbar\":{\"outlinewidth\":0,\"ticks\":\"\"},\"colorscale\":[[0.0,\"#0d0887\"],[0.1111111111111111,\"#46039f\"],[0.2222222222222222,\"#7201a8\"],[0.3333333333333333,\"#9c179e\"],[0.4444444444444444,\"#bd3786\"],[0.5555555555555556,\"#d8576b\"],[0.6666666666666666,\"#ed7953\"],[0.7777777777777778,\"#fb9f3a\"],[0.8888888888888888,\"#fdca26\"],[1.0,\"#f0f921\"]],\"type\":\"heatmap\"}],\"histogram2dcontour\":[{\"colorbar\":{\"outlinewidth\":0,\"ticks\":\"\"},\"colorscale\":[[0.0,\"#0d0887\"],[0.1111111111111111,\"#46039f\"],[0.2222222222222222,\"#7201a8\"],[0.3333333333333333,\"#9c179e\"],[0.4444444444444444,\"#bd3786\"],[0.5555555555555556,\"#d8576b\"],[0.6666666666666666,\"#ed7953\"],[0.7777777777777778,\"#fb9f3a\"],[0.8888888888888888,\"#fdca26\"],[1.0,\"#f0f921\"]],\"type\":\"histogram2dcontour\"}],\"histogram2d\":[{\"colorbar\":{\"outlinewidth\":0,\"ticks\":\"\"},\"colorscale\":[[0.0,\"#0d0887\"],[0.1111111111111111,\"#46039f\"],[0.2222222222222222,\"#7201a8\"],[0.3333333333333333,\"#9c179e\"],[0.4444444444444444,\"#bd3786\"],[0.5555555555555556,\"#d8576b\"],[0.6666666666666666,\"#ed7953\"],[0.7777777777777778,\"#fb9f3a\"],[0.8888888888888888,\"#fdca26\"],[1.0,\"#f0f921\"]],\"type\":\"histogram2d\"}],\"histogram\":[{\"marker\":{\"pattern\":{\"fillmode\":\"overlay\",\"size\":10,\"solidity\":0.2}},\"type\":\"histogram\"}],\"mesh3d\":[{\"colorbar\":{\"outlinewidth\":0,\"ticks\":\"\"},\"type\":\"mesh3d\"}],\"parcoords\":[{\"line\":{\"colorbar\":{\"outlinewidth\":0,\"ticks\":\"\"}},\"type\":\"parcoords\"}],\"pie\":[{\"automargin\":true,\"type\":\"pie\"}],\"scatter3d\":[{\"line\":{\"colorbar\":{\"outlinewidth\":0,\"ticks\":\"\"}},\"marker\":{\"colorbar\":{\"outlinewidth\":0,\"ticks\":\"\"}},\"type\":\"scatter3d\"}],\"scattercarpet\":[{\"marker\":{\"colorbar\":{\"outlinewidth\":0,\"ticks\":\"\"}},\"type\":\"scattercarpet\"}],\"scattergeo\":[{\"marker\":{\"colorbar\":{\"outlinewidth\":0,\"ticks\":\"\"}},\"type\":\"scattergeo\"}],\"scattergl\":[{\"marker\":{\"colorbar\":{\"outlinewidth\":0,\"ticks\":\"\"}},\"type\":\"scattergl\"}],\"scattermapbox\":[{\"marker\":{\"colorbar\":{\"outlinewidth\":0,\"ticks\":\"\"}},\"type\":\"scattermapbox\"}],\"scatterpolargl\":[{\"marker\":{\"colorbar\":{\"outlinewidth\":0,\"ticks\":\"\"}},\"type\":\"scatterpolargl\"}],\"scatterpolar\":[{\"marker\":{\"colorbar\":{\"outlinewidth\":0,\"ticks\":\"\"}},\"type\":\"scatterpolar\"}],\"scatter\":[{\"fillpattern\":{\"fillmode\":\"overlay\",\"size\":10,\"solidity\":0.2},\"type\":\"scatter\"}],\"scatterternary\":[{\"marker\":{\"colorbar\":{\"outlinewidth\":0,\"ticks\":\"\"}},\"type\":\"scatterternary\"}],\"surface\":[{\"colorbar\":{\"outlinewidth\":0,\"ticks\":\"\"},\"colorscale\":[[0.0,\"#0d0887\"],[0.1111111111111111,\"#46039f\"],[0.2222222222222222,\"#7201a8\"],[0.3333333333333333,\"#9c179e\"],[0.4444444444444444,\"#bd3786\"],[0.5555555555555556,\"#d8576b\"],[0.6666666666666666,\"#ed7953\"],[0.7777777777777778,\"#fb9f3a\"],[0.8888888888888888,\"#fdca26\"],[1.0,\"#f0f921\"]],\"type\":\"surface\"}],\"table\":[{\"cells\":{\"fill\":{\"color\":\"#EBF0F8\"},\"line\":{\"color\":\"white\"}},\"header\":{\"fill\":{\"color\":\"#C8D4E3\"},\"line\":{\"color\":\"white\"}},\"type\":\"table\"}]},\"layout\":{\"annotationdefaults\":{\"arrowcolor\":\"#2a3f5f\",\"arrowhead\":0,\"arrowwidth\":1},\"autotypenumbers\":\"strict\",\"coloraxis\":{\"colorbar\":{\"outlinewidth\":0,\"ticks\":\"\"}},\"colorscale\":{\"diverging\":[[0,\"#8e0152\"],[0.1,\"#c51b7d\"],[0.2,\"#de77ae\"],[0.3,\"#f1b6da\"],[0.4,\"#fde0ef\"],[0.5,\"#f7f7f7\"],[0.6,\"#e6f5d0\"],[0.7,\"#b8e186\"],[0.8,\"#7fbc41\"],[0.9,\"#4d9221\"],[1,\"#276419\"]],\"sequential\":[[0.0,\"#0d0887\"],[0.1111111111111111,\"#46039f\"],[0.2222222222222222,\"#7201a8\"],[0.3333333333333333,\"#9c179e\"],[0.4444444444444444,\"#bd3786\"],[0.5555555555555556,\"#d8576b\"],[0.6666666666666666,\"#ed7953\"],[0.7777777777777778,\"#fb9f3a\"],[0.8888888888888888,\"#fdca26\"],[1.0,\"#f0f921\"]],\"sequentialminus\":[[0.0,\"#0d0887\"],[0.1111111111111111,\"#46039f\"],[0.2222222222222222,\"#7201a8\"],[0.3333333333333333,\"#9c179e\"],[0.4444444444444444,\"#bd3786\"],[0.5555555555555556,\"#d8576b\"],[0.6666666666666666,\"#ed7953\"],[0.7777777777777778,\"#fb9f3a\"],[0.8888888888888888,\"#fdca26\"],[1.0,\"#f0f921\"]]},\"colorway\":[\"#636efa\",\"#EF553B\",\"#00cc96\",\"#ab63fa\",\"#FFA15A\",\"#19d3f3\",\"#FF6692\",\"#B6E880\",\"#FF97FF\",\"#FECB52\"],\"font\":{\"color\":\"#2a3f5f\"},\"geo\":{\"bgcolor\":\"white\",\"lakecolor\":\"white\",\"landcolor\":\"white\",\"showlakes\":true,\"showland\":true,\"subunitcolor\":\"#C8D4E3\"},\"hoverlabel\":{\"align\":\"left\"},\"hovermode\":\"closest\",\"mapbox\":{\"style\":\"light\"},\"paper_bgcolor\":\"white\",\"plot_bgcolor\":\"white\",\"polar\":{\"angularaxis\":{\"gridcolor\":\"#EBF0F8\",\"linecolor\":\"#EBF0F8\",\"ticks\":\"\"},\"bgcolor\":\"white\",\"radialaxis\":{\"gridcolor\":\"#EBF0F8\",\"linecolor\":\"#EBF0F8\",\"ticks\":\"\"}},\"scene\":{\"xaxis\":{\"backgroundcolor\":\"white\",\"gridcolor\":\"#DFE8F3\",\"gridwidth\":2,\"linecolor\":\"#EBF0F8\",\"showbackground\":true,\"ticks\":\"\",\"zerolinecolor\":\"#EBF0F8\"},\"yaxis\":{\"backgroundcolor\":\"white\",\"gridcolor\":\"#DFE8F3\",\"gridwidth\":2,\"linecolor\":\"#EBF0F8\",\"showbackground\":true,\"ticks\":\"\",\"zerolinecolor\":\"#EBF0F8\"},\"zaxis\":{\"backgroundcolor\":\"white\",\"gridcolor\":\"#DFE8F3\",\"gridwidth\":2,\"linecolor\":\"#EBF0F8\",\"showbackground\":true,\"ticks\":\"\",\"zerolinecolor\":\"#EBF0F8\"}},\"shapedefaults\":{\"line\":{\"color\":\"#2a3f5f\"}},\"ternary\":{\"aaxis\":{\"gridcolor\":\"#DFE8F3\",\"linecolor\":\"#A2B1C6\",\"ticks\":\"\"},\"baxis\":{\"gridcolor\":\"#DFE8F3\",\"linecolor\":\"#A2B1C6\",\"ticks\":\"\"},\"bgcolor\":\"white\",\"caxis\":{\"gridcolor\":\"#DFE8F3\",\"linecolor\":\"#A2B1C6\",\"ticks\":\"\"}},\"title\":{\"x\":0.05},\"xaxis\":{\"automargin\":true,\"gridcolor\":\"#EBF0F8\",\"linecolor\":\"#EBF0F8\",\"ticks\":\"\",\"title\":{\"standoff\":15},\"zerolinecolor\":\"#EBF0F8\",\"zerolinewidth\":2},\"yaxis\":{\"automargin\":true,\"gridcolor\":\"#EBF0F8\",\"linecolor\":\"#EBF0F8\",\"ticks\":\"\",\"title\":{\"standoff\":15},\"zerolinecolor\":\"#EBF0F8\",\"zerolinewidth\":2}}},\"xaxis\":{\"anchor\":\"y\",\"domain\":[0.0,1.0],\"title\":{\"text\":\"Sold Price\"},\"tickangle\":90},\"yaxis\":{\"anchor\":\"x\",\"domain\":[0.0,1.0],\"title\":{\"text\":\"Development\"}},\"legend\":{\"title\":{\"text\":\"Bedrooms\"},\"tracegroupgap\":0},\"title\":{\"text\":\"Condo Sold Price vs. Development\"},\"width\":1000,\"height\":1400,\"plot_bgcolor\":\"lightblue\"},                        {\"responsive\": true}                    ).then(function(){\n",
              "                            \n",
              "var gd = document.getElementById('4494988b-317a-4f35-84a1-b8d132e4476d');\n",
              "var x = new MutationObserver(function (mutations, observer) {{\n",
              "        var display = window.getComputedStyle(gd).display;\n",
              "        if (!display || display === 'none') {{\n",
              "            console.log([gd, 'removed!']);\n",
              "            Plotly.purge(gd);\n",
              "            observer.disconnect();\n",
              "        }}\n",
              "}});\n",
              "\n",
              "// Listen for the removal of the full notebook cells\n",
              "var notebookContainer = gd.closest('#notebook-container');\n",
              "if (notebookContainer) {{\n",
              "    x.observe(notebookContainer, {childList: true});\n",
              "}}\n",
              "\n",
              "// Listen for the clearing of the current output cell\n",
              "var outputEl = gd.closest('.output');\n",
              "if (outputEl) {{\n",
              "    x.observe(outputEl, {childList: true});\n",
              "}}\n",
              "\n",
              "                        })                };                            </script>        </div>\n",
              "</body>\n",
              "</html>"
            ]
          },
          "metadata": {},
          "output_type": "display_data"
        }
      ],
      "source": [
        "import plotly.express as px\n",
        "\n",
        "# Create the scatter plot\n",
        "fig = px.scatter(data_frame=condo, x='Sold_Price', y='Development', color='Bedrooms',\n",
        "                 title='Condo Sold Price vs. Development',\n",
        "                 labels={'Development': 'Development', 'Sold_Price': 'Sold Price', 'Town': 'Town'},\n",
        "                 hover_data=['Development'])\n",
        "\n",
        "# Show the legend\n",
        "fig.update_traces(showlegend=True)\n",
        "\n",
        "# Update the x-axis labels to be rotated 90 degrees\n",
        "fig.update_layout(xaxis=dict(tickangle=90))\n",
        "\n",
        "# Show the figure\n",
        "#fig.show()\n",
        "\n",
        "fig.update_layout(template='plotly_white')\n",
        "fig.update_layout(width=1000)\n",
        "fig.update_layout(height= 1400)\n",
        "\n",
        "# Change the background color to black\n",
        "fig.update_layout(plot_bgcolor='lightblue')\n",
        "\n",
        "fig.show()\n"
      ]
    },
    {
      "cell_type": "code",
      "execution_count": null,
      "metadata": {
        "colab": {
          "base_uri": "https://localhost:8080/",
          "height": 637
        },
        "id": "K0sHIfDE7Sfl",
        "outputId": "c53a3294-6ab8-4e13-d581-6b7510422624"
      },
      "outputs": [
        {
          "data": {
            "text/html": [
              "<html>\n",
              "<head><meta charset=\"utf-8\" /></head>\n",
              "<body>\n",
              "    <div>            <script src=\"https://cdnjs.cloudflare.com/ajax/libs/mathjax/2.7.5/MathJax.js?config=TeX-AMS-MML_SVG\"></script><script type=\"text/javascript\">if (window.MathJax && window.MathJax.Hub && window.MathJax.Hub.Config) {window.MathJax.Hub.Config({SVG: {font: \"STIX-Web\"}});}</script>                <script type=\"text/javascript\">window.PlotlyConfig = {MathJaxConfig: 'local'};</script>\n",
              "        <script charset=\"utf-8\" src=\"https://cdn.plot.ly/plotly-2.24.1.min.js\"></script>                <div id=\"9e0314cd-b6ec-428a-933b-d2068d9a5e3d\" class=\"plotly-graph-div\" style=\"height:600px; width:1200px;\"></div>            <script type=\"text/javascript\">                                    window.PLOTLYENV=window.PLOTLYENV || {};                                    if (document.getElementById(\"9e0314cd-b6ec-428a-933b-d2068d9a5e3d\")) {                    Plotly.newPlot(                        \"9e0314cd-b6ec-428a-933b-d2068d9a5e3d\",                        [{\"hovertemplate\":\"Bedrooms=1\\u003cbr\\u003eDevelopment=%{x}\\u003cbr\\u003eSold Price=%{y}\\u003cextra\\u003e\\u003c\\u002fextra\\u003e\",\"legendgroup\":\"1\",\"marker\":{\"color\":\"#636efa\",\"symbol\":\"circle\"},\"mode\":\"markers\",\"name\":\"1\",\"showlegend\":true,\"x\":[\"123 Main St\",\"123 Main St\",\"123 Main St\",\"123 Main St\",\"123 Main St\",\"123 Main St\",\"Cambridge\",\"Cambridge\",\"Cambridge\",\"Cambridge\",\"Cambridge\",\"Cambridge\",\"Cambridge\",\"Cambridge\",\"Cambridge\",\"Cambridge\",\"Cambridge\",\"Cambridge\",\"Cambridge\",\"Cambridge\",\"Cambridge\",\"Cambridge\",\"Cambridge\",\"Cambridge\",\"Cambridge\",\"Cambridge\",\"Cambridge\",\"Cambridge\",\"Cambridge\",\"Cambridge\",\"Cambridge\",\"Cambridge\",\"Cambridge\",\"Cambridge\",\"Cambridge\",\"Cambridge\",\"Cambridge\",\"Cambridge\",\"Cambridge\",\"Cambridge\",\"Cambridge\",\"Cambridge\",\"Cambridge\",\"Cambridge\",\"Cambridge\",\"Cambridge\",\"Cambridge\",\"Cambridge\",\"Cambridge\",\"Cambridge\",\"Cambridge\",\"Cambridge\",\"Cambridge\",\"Cambridge\",\"Cambridge\",\"Cambridge\",\"Cambridge\",\"Cambridge\",\"Cambridge\",\"Cambridge\",\"Cambridge\",\"Cambridge\",\"Cambridge\",\"Cambridge\",\"Cambridge\",\"Cambridge\",\"Cambridge\",\"Cambridge\",\"Cambridge\",\"Cambridge\",\"Cambridge\",\"Cambridge\",\"Cambridge\",\"Cambridge\",\"Cambridge\",\"Cambridge\",\"Cambridge\",\"Cambridge\",\"Cambridge\",\"Cambridge\",\"Cambridge\",\"Cambridge\",\"Cambridge\",\"Cambridge\",\"Cambridge\",\"Cambridge\",\"Cambridge\",\"Cambridge\",\"Cambridge\",\"Cambridge\",\"Cambridge\",\"Cambridge\",\"Cambridge\",\"Clover\",\"Clover\",\"Clover\",\"Clover\",\"Clover\",\"Clover\",\"Clover\",\"Clover\",\"Clover\",\"Clover\",\"Clover\",\"Clover\",\"Clover\",\"Clover\",\"Clover\",\"Clover\",\"Clover\",\"Clover\",\"Clover\",\"Clover\",\"Clover\",\"Clover\",\"Clover\",\"Clover\",\"Clover\",\"Clover\",\"Clover\",\"Clover\",\"Clover\",\"Clover\",\"Clover\",\"Clover\",\"Clover\",\"Clover\",\"Clover\",\"Clover\",\"Clover\",\"Clover\",\"Clover\",\"Clover\",\"Clover\",\"Clover\",\"Clover\",\"Clover\",\"Clover\",\"Clover\",\"Clover\",\"Clover\",\"Clover\",\"Clover\",\"Clover\",\"Clover\",\"Clover\",\"Clover\",\"Clover\",\"Clover\",\"Clover\",\"Clover\",\"Clover\",\"Clover\",\"Clover\",\"Clover\",\"Clover\",\"Clover\",\"Clover\",\"Clover\",\"Clover\",\"Clover\",\"Clover\",\"Clover\",\"Clover\",\"Clover\",\"Clover\",\"Clover\",\"Clover\",\"Crewville\",\"Crewville\",\"Crewville\",\"Crewville\",\"Crewville\",\"Crewville\",\"Crewville\",\"Crewville\",\"Crewville\",\"Crewville\",\"Crewville\",\"Crewville\",\"Crewville\",\"Crewville\",\"Crewville\",\"Crewville\",\"Crewville\",\"Crewville\",\"Crewville\",\"Crewville\",\"Crewville\",\"Crewville\",\"Crewville\",\"Crewville\",\"Crewville\",\"Crewville\",\"Crewville\",\"Forestville\",\"Forestville\",\"Forestville\",\"Forestville\",\"Forestville\",\"Forestville\",\"Forestville\",\"Forestville\",\"Forestville\",\"Forestville\",\"Forestville\",\"Forestville\",\"Forestville\",\"Forestville\",\"Forestville\",\"Forestville\",\"Forestville\",\"Forestville\",\"Forestville\",\"Forestville\",\"Forestville\",\"Forestville\",\"Forestville\",\"Forestville\",\"Forestville\",\"Forestville\",\"Forestville\",\"Forestville\",\"Forestville\",\"Forestville\",\"Glentrees\",\"Glentrees\",\"Glentrees\",\"Glentrees\",\"Glentrees\",\"Glentrees\",\"Glentrees\",\"Glentrees\",\"Glentrees\",\"Glentrees\",\"Glentrees\",\"Glentrees\",\"Golddream\",\"Golddream\",\"Golddream\",\"Golddream\",\"Golddream\",\"Golddream\",\"Golddream\",\"Golddream\",\"Golddream\",\"Greentown\",\"Greentown\",\"Greentown\",\"Greentown\",\"Greentown\",\"Greentown\",\"Greentown\",\"Greentown\",\"Greentown\",\"Greentown\",\"Greentown\",\"Greentown\",\"Greentown\",\"Greentown\",\"Greentown\",\"Greentown\",\"Greentown\",\"Greentown\",\"Greentown\",\"Greentown\",\"Greentown\",\"Greentown\",\"Greentown\",\"Greentown\",\"Greentown\",\"Greentown\",\"Greentown\",\"Greentown\",\"Hershare\",\"Hershare\",\"Hershare\",\"Hershare\",\"Hershare\",\"Hershare\",\"Hershare\",\"Hershare\",\"Jaggedtown\",\"Jaggedtown\",\"Jaggedtown\",\"Jaggedtown\",\"Jaggedtown\",\"Jaggedtown\",\"Jaggedtown\",\"Jaggedtown\",\"Jaggedtown\",\"Jaggedtown\",\"Jaggedtown\",\"Jaggedtown\",\"Jaggedtown\",\"Jaggedtown\",\"Jaggedtown\",\"Jaggedtown\",\"Jaggedtown\",\"Jaggedtown\",\"Jaggedtown\",\"Jaggedtown\",\"Jaggedtown\",\"Jaggedtown\",\"Jaggedtown\",\"Jaggedtown\",\"Jaggedtown\",\"Jaggedtown\",\"Jaggedtown\",\"Jaggedtown\",\"Jaggedtown\",\"Jaggedtown\",\"Jaggedtown\",\"Jaggedtown\",\"Jaggedtown\",\"Jaggedtown\",\"Jaggedtown\",\"Jaggedtown\",\"Jaggedtown\",\"Jaggedtown\",\"Jaggedtown\",\"Landings\",\"Landings\",\"Landings\",\"Landings\",\"Landings\",\"Landings\",\"Landings\",\"Laurel Vista\",\"Laurel Vista\",\"Laurel Vista\",\"Laurel Vista\",\"Laurel Vista\",\"Laurell Vsta\",\"Makerstown\",\"Makerstown\",\"Makerstown\",\"Makerstown\",\"Makerstown\",\"Makerstown\",\"Makerstown\",\"Makerstown\",\"Makerstown\",\"Makerstown\",\"Makerstowne\",\"Makrstown\",\"Oxford\",\"Oxford\",\"Oxford\",\"Oxford\",\"Oxford\",\"Oxford\",\"Oxford\",\"Oxford\",\"Oxford\",\"Oxford\",\"Oxford\",\"Oxford\",\"Oxford\",\"Oxford\",\"Oxford\",\"Oxford\",\"Oxford\",\"Oxford\",\"Oxford\",\"Oxford\",\"Oxford\",\"Oxford\",\"Oxford\",\"Oxford\",\"Oxford\",\"Oxford\",\"Oxford\",\"Oxford\",\"Oxford\",\"Oxford\",\"Oxford\",\"Oxford\",\"Oxford\",\"Oxford\",\"Oxford\",\"Oxford\",\"Oxford\",\"Oxford\",\"Oxford\",\"Oxford\",\"Oxford\",\"Oxford\",\"Oxford\",\"Oxford\",\"Oxford\",\"Oxford\",\"Oxford\",\"Oxford\",\"Oxford\",\"Oxford\",\"Oxford\",\"Oxford\",\"Oxford\",\"Oxford\",\"Parliment\",\"Parliment\",\"Parliment\",\"Parliment\",\"Parliment\",\"Parliment\",\"Parliment\",\"Parliment\",\"Parliment\",\"Parliment\",\"Parliment\",\"Parliment\",\"Parliment\",\"Parliment\",\"Parliment\",\"Parliment\",\"Parliment\",\"Parliment\",\"Parliment\",\"Parliment\",\"Parliment\",\"Parliment\",\"Parliment\",\"Parliment\",\"Parliment\",\"Parliment\",\"Parliment\",\"Parliment\",\"Parliment\",\"Parliment\",\"Peninusula\",\"Peninusula\",\"Peninusula\",\"Peninusula\",\"Peninusula\",\"Peninusula\",\"Peninusula\",\"Peninusula\",\"Pilgramstate\",\"Pilgramstate\",\"Pilgramstate\",\"Pilgramstate\",\"Pilgramstate\",\"Pilgramstate\",\"Pilgramstate\",\"Pilgramstate\",\"Pilgramstate\",\"Pilgramstate\",\"Pilgramstate\",\"Pilgramstate\",\"Pilgramstate\",\"Pilgramstate\",\"Pilgramstate\",\"Pilgramstate\",\"Pilgramstate\",\"Pilgramstate\",\"Pilgramstate\",\"Pilgramstate\",\"Pilgramstate\",\"Pilgramstate\",\"Pilgramstate\",\"Pilgramstate\",\"Pilgramstate\",\"Pilgramstate\",\"Pilgramstate\",\"Pilgramstate\",\"Pilgramstate\",\"Pilgramstate\",\"Pilgramstate\",\"Pilgramstate\",\"Pilgramstate\",\"Pilgramstate\",\"Pilgramstate\",\"Pilgramstate\",\"Pilgramstate\",\"Provance\",\"Provance\",\"Provance\",\"Provance\",\"Provance\",\"Provance\",\"Provance\",\"Provance\",\"Provance\",\"Provance\",\"Provance\",\"Provance\",\"Provance\",\"Provance\",\"Provance\",\"Provance\",\"Provance\",\"Provance\",\"Provance\",\"Provance\",\"Provance\",\"Pursuit\",\"Pursuit\",\"Pursuit\",\"Pursuit\",\"Pursuit\",\"Pursuit\",\"Pursuit\",\"Pursuit\",\"Pursuit\",\"Pursuit\",\"Pursuit\",\"Southland\",\"Southland\",\"Southland\",\"Southland\",\"Southland\",\"Southland\",\"Southland\",\"Southland\",\"Southland\",\"Southland\",\"Southland\",\"Southland\",\"Southland\",\"Southland\",\"Southland\",\"Southland\",\"Southland\",\"Southland\",\"Southland\",\"Southland\",\"Southland\",\"Southland\",\"Southland\",\"Southland\",\"Southland\",\"Southland\",\"Southland\",\"Southland\",\"Southland\",\"Southland\",\"Southland\",\"Southland\",\"Southland\",\"Southland\",\"Southland\",\"Southland\",\"Southland\",\"Southland\",\"Southland\",\"Southland\",\"Southland\",\"Southland\",\"Southland\",\"Southland\",\"Southland\",\"Southland\",\"Southland\",\"Southland\",\"Southland\",\"Southland\",\"Southland\",\"Southland\",\"Southland\",\"Southland\",\"Southland\",\"Southland\",\"Southland\",\"Southland\",\"Southland\",\"Southland\",\"Southland\",\"Southland\",\"Southland\",\"Southland\",\"Southland\",\"Southland\",\"Southland\",\"Southland\",\"Southland\",\"Southland\",\"Southland\",\"Southland\",\"Southland\",\"Southland\",\"Southland\",\"Southland\",\"Southland\",\"Southland\",\"Southland\",\"Southland\",\"Southland\",\"Southland\",\"Southland\",\"Southland\",\"Southland\",\"Southland\",\"Southland\",\"Southland\",\"Southland\",\"Southland\",\"Southland\",\"Southland\",\"Southland\",\"Southland\",\"Southland\",\"Southland\",\"Southland\",\"Southland\",\"Southland\",\"Southland\",\"Southland\",\"Southland\",\"Southland\",\"Southland\",\"Southland\",\"Southland\",\"Southland\",\"Southland\",\"Southland\",\"Southland\",\"Southland\",\"Southland\",\"Southland\",\"Southland\",\"Southland\",\"Southland\",\"Southland\",\"Southland\",\"Southland\",\"Southland\",\"Southland\",\"Southland\",\"Southland\",\"Southland\",\"Southland\",\"Southland\",\"Southland\",\"Southland\",\"Southland\",\"Southland\",\"Southland\",\"Southland\",\"Southland\",\"Southland\",\"Southland\",\"Southland\",\"Southland\",\"Southland\",\"Southland\",\"Southland\",\"Southland\",\"Southland\",\"Southland\",\"Southland\",\"Southland\",\"Southland\",\"Southland\",\"Southland\",\"Southland\",\"Southland\",\"Southland\",\"Southland\",\"Southland\",\"Southland\",\"Southland\",\"Southland\",\"Southland\",\"Southland\",\"Southland\",\"Southland\",\"Southland\",\"Southland\",\"Southland\",\"Southland\",\"Southland\",\"Southland\",\"Southland\",\"Southland\",\"Southland\",\"Southland\",\"Southland\",\"Southland\",\"Southland\",\"Southland\",\"Southland\",\"Southland\",\"Southland\",\"Southland\",\"Southland\",\"Southland\",\"Southland\",\"Southland\",\"Southland\",\"Southland\",\"Southland\",\"Southland\",\"Southland\",\"Southland\",\"Southland\",\"Southland\",\"Streamville\",\"Streamville\",\"Streamville\",\"Streamville\",\"Streamville\",\"Streamville\",\"Streamville\",\"Streamville\",\"Streamville\",\"Streamville\",\"University Heights\",\"University Heights\",\"Windswept\",\"Windswept\",\"Windswept\",\"Windswept\",\"Windswept\",\"Windswept\",\"Windswept\",\"Windswept\",\"Windswept\",\"Windswept\",\"Windswept\",\"Windswept\",\"Windswept\",\"Windswept\",\"Windswept\",\"Windswept\",\"Windswept\",\"Windswept\",\"Windswept\",\"Windswept\",\"Windswept\",\"Windswept\",\"Windswept\",\"Windswept\",\"Windswept\",\"Windswept\",\"Windswept\",\"Windswept\",\"Windswept\",\"Windswept\",\"Windswept\",\"Windswept\",\"Windswept\",\"Windswept\",\"Windswept\",\"Windswept\",\"Windswept\",\"Windswept\",\"Windswept\",\"Windswept\",\"Windswept\",\"Windswept\",\"Windswept\",\"Windswept\",\"Windswept\",\"Windswept\",\"Windswept\",\"Windswept\",\"Windswept\",\"Windswept\",\"Windswept\"],\"xaxis\":\"x\",\"y\":[239000,224000,210000,230000,265000,220000,225000,360000,285000,310000,350000,265000,355000,291000,320000,370000,276000,330000,325000,316000,277000,360000,280000,329000,325000,242000,275000,350000,300000,370000,262000,285000,360000,347000,288000,360000,400000,389000,395000,355000,367500,292000,360000,325000,233700,305000,278950,281500,249000,315000,310000,265000,294000,315000,279000,312000,320000,297500,279000,288500,280000,297500,315000,320000,315000,305000,270000,300000,350000,270000,307961,325000,258700,288000,256750,300000,258000,305000,300000,375000,336000,230720,195000,270000,257000,270000,240000,285000,284250,284500,251000,325000,217000,170000,134000,180000,184000,182000,140000,160000,221000,180000,200000,185000,190000,190000,240000,170000,220000,195000,195000,220000,185000,200000,230000,275000,245000,235000,225000,210000,220000,180000,215000,235000,162500,145000,135000,155725,195000,168000,161000,162000,182000,144500,155000,144000,160000,155000,182000,190000,185000,190000,207500,185000,205000,220000,235000,200000,225000,200000,190000,220000,229900,245000,185000,226000,257500,235000,205000,225000,205000,205000,225000,250000,277500,118000,139900,225000,329000,335000,335000,324000,324500,350000,358000,360000,365000,369000,355000,375000,291000,387500,430000,404000,395000,410000,427500,414999,405000,420000,415000,325000,303000,390000,396000,275000,95000,265000,245000,265000,275000,115000,210000,225000,215000,225000,252000,292500,189000,187000,185000,205000,190000,199000,195000,210000,275000,215000,219000,245000,230000,130000,250000,243500,288000,255000,265000,90000,196000,240000,187000,175000,195000,196000,230000,215000,205000,350000,325000,340000,349000,335000,220000,355000,370500,355000,60000,84000,64900,90000,76000,49000,45000,126500,110000,118000,109000,130000,110000,60000,210000,145000,105000,114990,115000,80000,169000,111500,80750,150000,84900,90000,63000,61000,459999,335000,400000,400000,421000,467000,465000,455000,60000,68000,89000,85000,85000,118000,146000,117000,125000,118000,115000,135000,200000,175000,143000,125000,156000,166000,72000,75000,79000,92000,76000,84000,104900,130000,127700,140000,135000,145000,140000,135000,135000,122000,155000,127000,165000,117000,70000,329000,349000,340000,370000,380000,295000,349000,175000,240000,255000,250000,175000,190000,365000,286500,320000,335000,350000,359990,375000,389000,391000,320000,273000,345000,330000,219000,420000,239000,260000,319000,325000,300000,375000,389990,355000,415000,318000,250000,385000,352500,320000,422500,355000,305000,287000,274000,290000,315000,290000,160000,282000,270000,272000,289000,322500,285000,255000,317000,315000,299250,250000,290000,320000,300000,320000,330000,224900,365000,356000,235000,329000,264000,315000,390000,317000,315000,360000,370000,295000,305000,339000,350000,340000,334000,349000,364000,350000,385000,370000,380000,390000,369000,429000,415000,500000,446000,418000,400000,377000,590000,405000,415000,430000,329000,325000,309000,280000,318000,240000,250000,250000,280000,275000,255000,222500,240000,190000,140000,185000,182000,160000,150000,140000,235000,200000,189000,217500,160000,141000,170000,260000,190000,225000,220000,195000,267000,231000,309000,197000,220000,146000,235000,194000,220000,140000,195000,210000,220000,155000,200000,220000,295000,225000,185000,198000,180000,205000,192000,195000,105000,105000,187000,180000,163000,170000,121000,265000,205000,182500,199990,254000,117667,150000,171000,400000,415000,325000,375000,263000,287000,290000,250000,275000,280000,370000,225000,130000,170000,150000,199900,160000,110000,165000,145000,185000,225000,150000,139900,135000,163000,160000,172000,170000,185000,190000,178000,195000,165000,190000,175000,191000,163000,130000,205000,186500,212000,204000,160000,186000,194000,195000,235000,195000,95000,115000,115000,140000,70000,119000,95000,132200,101000,143000,110000,120000,130000,135000,116000,94000,107000,119300,115000,116500,136000,150000,121500,155000,125000,121000,140000,160000,130000,98000,114000,115000,135000,126000,125000,146000,145000,135000,149000,140000,115000,155000,175000,150000,140000,155000,152000,150000,140000,149000,135000,133000,135000,187900,190000,145000,135000,145000,170000,160000,168000,168000,135000,126990,122000,93000,134000,145000,183000,140000,189000,165000,130000,170000,165000,156000,176000,178429,165000,183000,140000,150000,141500,175000,155000,205000,189000,155000,220000,170000,193000,195000,190000,161000,196000,215000,230000,190000,240000,190000,215000,193000,205000,207000,190000,120000,115000,110000,115000,120000,110000,122000,132000,115000,109000,110000,106000,130000,117000,113000,140000,105000,112500,135000,105000,144000,150000,135000,148000,133000,130000,145000,125000,110000,135000,120000,150000,125000,150000,150000,120000,140000,125000,140000,175000,125000,165000,105000,113000,112500,135000,85000,220500,209000,215000,225000,196500,212000,220000,235000,225000,265000,385000,370000,190000,229000,230000,180000,194000,203500,200000,183000,237500,273000,235000,225000,205000,287000,250000,230000,250000,300500,335000,305000,310000,225000,221000,320000,267000,269000,225000,270000,270000,272950,365000,275000,270000,330000,310000,270000,330000,285000,355000,275000,267500,325000,254000,159000,270000,245000,189000,290000,255000,275000,335000],\"yaxis\":\"y\",\"type\":\"scattergl\"},{\"hovertemplate\":\"Bedrooms=2\\u003cbr\\u003eDevelopment=%{x}\\u003cbr\\u003eSold Price=%{y}\\u003cextra\\u003e\\u003c\\u002fextra\\u003e\",\"legendgroup\":\"2\",\"marker\":{\"color\":\"#EF553B\",\"symbol\":\"circle\"},\"mode\":\"markers\",\"name\":\"2\",\"showlegend\":true,\"x\":[\"Beach Manor\",\"Beach Manor\",\"Brookstown\",\"Bucolic\",\"Bucolic\",\"Bucolic\",\"Bucolic\",\"Bucolic\",\"Bucolic\",\"Bucolic\",\"Bucolic\",\"Bucolic\",\"Bucolic\",\"Bucolic\",\"Bucolic\",\"Bucolic\",\"Bucolic\",\"Bucolic\",\"Bucolic\",\"Bucolic\",\"Bucolic\",\"Bucolic\",\"Bucolic\",\"Bucolic\",\"Bucolic\",\"Bucolic\",\"Bucolic\",\"Bucolic\",\"Bucolic\",\"Bucolic\",\"Bucolic\",\"Bucolic\",\"Bucolic\",\"Bucolic\",\"Bucolic\",\"Bucolic\",\"Bucolic\",\"Bucolic\",\"Bucolic\",\"Bucolic\",\"Bucolic\",\"Bucolic\",\"Bucolic\",\"Bucolic\",\"Cambridge\",\"Cambridge\",\"Cambridge\",\"Cambridge\",\"Cambridge\",\"Cambridge\",\"Cambridge\",\"Cambridge\",\"Cambridge\",\"Cambridge\",\"Cambridge\",\"Cambridge\",\"Cambridge\",\"Cambridge\",\"Cambridge\",\"Cambridge\",\"Cambridge\",\"Cambridge\",\"Cambridge\",\"Cambridge\",\"Cambridge\",\"Cambridge\",\"Cambridge\",\"Cambridge\",\"Cambridge\",\"Cambridge\",\"Cambridge\",\"Cambridge\",\"Cambridge\",\"Cambridge\",\"Cambridge\",\"Cambridge\",\"Cambridge\",\"Cambridge\",\"Cambridge\",\"Cambridge\",\"Cambridge\",\"Cambridge\",\"Cambridge\",\"Cambridge\",\"Cambridge\",\"Cambridge\",\"Cambridge\",\"Cambridge\",\"Cambridge\",\"Cambridge\",\"Cambridge\",\"Cambridge\",\"Cambridge\",\"Cambridge\",\"Cambridge\",\"Cambridge\",\"Cambridge\",\"Cambridge\",\"Cambridge\",\"Cambridge\",\"Cambridge\",\"Cambridge\",\"Cambridge\",\"Cambridge\",\"Cambridge\",\"Cambridge\",\"Cambridge\",\"Cambridge\",\"Cambridge\",\"Cambridge\",\"Cambridge\",\"Cambridge\",\"Cambridge\",\"Cambridge\",\"Cambridge\",\"Cambridge\",\"Cambridge\",\"Cambridge\",\"Cambridge\",\"Cambridge\",\"Cambridge\",\"Cambridge\",\"Cambridge\",\"Cambridge\",\"Cambridge\",\"Cambridge\",\"Cambridge\",\"Cambridge\",\"Cambridge\",\"Cambridge\",\"Cambridge\",\"Cambridge\",\"Cambridge\",\"Cambridge\",\"Cambridge\",\"Cambridge\",\"Cambridge\",\"Cambridge\",\"Cambridge\",\"Cambridge\",\"Cambridge\",\"Cambridge\",\"Cambridge\",\"Cambridge\",\"Cambridge\",\"Cambridge\",\"Cambridge\",\"Cambridge\",\"Cambridge\",\"Cambridge\",\"Cambridge\",\"Cambridge\",\"Cambridge\",\"Cambridge\",\"Cambridge\",\"Cambridge\",\"Cambridge\",\"Cambridge\",\"Cambridge\",\"Cambridge\",\"Cambridge\",\"Cambridge\",\"Cambridge\",\"Cambridge\",\"Cambridge\",\"Cambridge\",\"Cambridge\",\"Capital Heights\",\"Capital Heights\",\"Capital Heights\",\"Capital Heights\",\"Capital Heights\",\"Capital Heights\",\"Capital Heights\",\"Capital Heights\",\"Capital Heights\",\"Cranberry\",\"Cranberry\",\"Cranberry\",\"Cranberry\",\"Cranberry\",\"Crewville\",\"Crewville\",\"Crewville\",\"Crewville\",\"Crewville\",\"Crewville\",\"Crewville\",\"Crewville\",\"Crewville\",\"Crewville\",\"Crewville\",\"Crewville\",\"Crewville\",\"Crewville\",\"Crewville\",\"Crewville\",\"Crewville\",\"Crewville\",\"Crewville\",\"Crewville\",\"Crewville\",\"Crewville\",\"Crewville\",\"Crewville\",\"Crewville\",\"Crewville\",\"Crewville\",\"Crewville\",\"Crewville\",\"Crewville\",\"Crewville\",\"Crewville\",\"Crewville\",\"Crewville\",\"Crewville\",\"Eastown\",\"Eastown\",\"Eastown\",\"Eastown\",\"Eastown\",\"Eastown\",\"Eastown\",\"Eastown\",\"Eastown\",\"Eastown\",\"Eastown\",\"Eastown\",\"Eastown\",\"Eastown\",\"Eastown\",\"Eastown\",\"Eastown\",\"Eastown\",\"Eastown\",\"Eastown\",\"Eastown\",\"Eastown\",\"Golddream\",\"Greentown\",\"Greentown\",\"Greentown\",\"Greentown\",\"Greentown\",\"Greentown\",\"Greentown\",\"Greentown\",\"Greentown\",\"Greentown\",\"Greentown\",\"Greentown\",\"Greentown\",\"Greentown\",\"Greentown\",\"Greentown\",\"Greentown\",\"Greentown\",\"Greentown\",\"Greentown\",\"Greentown\",\"Greentown\",\"Greentown\",\"Greentown\",\"Greentown\",\"Greentown\",\"Greentown\",\"Greentown\",\"Greentown\",\"Greentown\",\"Greentown\",\"Greentown\",\"Greentown\",\"Greentown\",\"Greentown\",\"Greentown\",\"Greentown\",\"Greentown\",\"Greentown\",\"Greentown\",\"Greentown\",\"Greentown\",\"Greentown\",\"Greentown\",\"Greentown\",\"Greentown\",\"Greentown\",\"Greentown\",\"Greentown\",\"Greentown\",\"Greentown\",\"Greentown\",\"Greentown\",\"Greentown\",\"Greentown\",\"Greentown\",\"Greentown\",\"Greentown\",\"Greentown\",\"Greentown\",\"Greentown\",\"Greentown\",\"Greentown\",\"Greentown\",\"Greentown\",\"Greentown\",\"Greentown\",\"Greentown\",\"Greentown\",\"Greentown\",\"Greentown\",\"Greentown\",\"Greentown\",\"Greentown\",\"Greentown\",\"Greentown\",\"Greentown\",\"Greentown\",\"Greentown\",\"Greentown\",\"Greentown\",\"Greentown\",\"Greentown\",\"Greentown\",\"Greentown\",\"Greentown\",\"Greentown\",\"Greentown\",\"Greentown\",\"Greentown\",\"Hamptown\",\"Hamptown\",\"Hamptown\",\"Hamptown\",\"Hamptown\",\"Hamptown\",\"Hamptown\",\"Hamptown\",\"Hamptown\",\"Hamptown\",\"Hamptown\",\"Hamptown\",\"Landings\",\"Landings\",\"Landings\",\"Landings\",\"Landings\",\"Landings\",\"Landings\",\"Landings\",\"Landings\",\"Landings\",\"Landings\",\"Landings\",\"Landings\",\"Landings\",\"Landings\",\"Landings\",\"Landings\",\"Landings\",\"Landings\",\"Landings\",\"Landings\",\"Landings\",\"Landings\",\"Landings\",\"Laurel Vista\",\"Laurel Vista\",\"Laurel Vista\",\"Laurel Vista\",\"Makerstsown\",\"Mapletown\",\"Mapletown\",\"Mapletown\",\"Mapletown\",\"Mapletown\",\"Mapletown\",\"Oxford\",\"Oxford\",\"Oxford\",\"Oxford\",\"Oxford\",\"Oxford\",\"Oxford\",\"Oxford\",\"Oxford\",\"Oxford\",\"Oxford\",\"Oxford\",\"Oxford\",\"Oxford\",\"Oxford\",\"Oxford\",\"Oxford\",\"Oxford\",\"Oxford\",\"Oxford\",\"Oxford\",\"Oxford\",\"Oxford\",\"Oxford\",\"Oxford\",\"Oxford\",\"Oxford\",\"Oxford\",\"Oxford\",\"Oxford\",\"Oxford\",\"Oxford\",\"Oxford\",\"Oxford\",\"Oxford\",\"Oxford\",\"Oxford\",\"Oxford\",\"Oxford\",\"Oxford\",\"Oxford\",\"Oxford\",\"Oxford\",\"Oxford\",\"Oxford\",\"Oxford\",\"Oxford\",\"Oxford\",\"Oxford\",\"Oxford\",\"Parliment\",\"Parliment\",\"Parliment\",\"Parliment\",\"Parliment\",\"Parliment\",\"Parliment\",\"Parliment\",\"Parliment\",\"Parliment\",\"Parliment\",\"Parliment\",\"Parliment\",\"Parliment\",\"Parliment\",\"Parliment\",\"Parliment\",\"Parliment\",\"Parliment\",\"Parliment\",\"Parliment\",\"Parliment\",\"Parliment\",\"Parliment\",\"Parliment\",\"Parliment\",\"Parliment\",\"Parliment\",\"Parliment\",\"Parliment\",\"Parliment\",\"Parliment\",\"Parliment\",\"Parliment\",\"Parliment\",\"Parliment\",\"Parliment\",\"Parliment\",\"Parliment\",\"Parliment\",\"Parliment\",\"Parliment\",\"Parliment\",\"Parliment\",\"Parliment\",\"Parliment\",\"Parliment\",\"Parliment\",\"Parliment\",\"Parliment\",\"Parliment\",\"Parliment\",\"Parliment\",\"Parliment\",\"Parliment\",\"Parliment\",\"Parliment\",\"Parliment\",\"Parliment\",\"Parliment\",\"Parliment\",\"Parliment\",\"Parliment\",\"Parliment\",\"Parliment\",\"Parliment\",\"Parliment\",\"Parliment\",\"Parliment\",\"Parliment\",\"Parliment\",\"Parliment\",\"Parliment\",\"Parliment\",\"Parliment\",\"Parliment\",\"Parliment\",\"Parliment\",\"Parliment\",\"Parliment\",\"Parliment\",\"Parliment\",\"Parliment\",\"Parliment\",\"Parliment\",\"Pilgramstate\",\"Pilgramstate\",\"Pilgramstate\",\"Pursuit\",\"Pursuit\",\"Pursuit\",\"Pursuit\",\"Pursuit\",\"Pursuit\",\"Pursuit\",\"Pursuit\",\"Pursuit\",\"Pursuit\",\"Pursuit\",\"Pursuit\",\"Pursuit\",\"Pursuit\",\"Pursuit\",\"Pursuit\",\"Pursuit\",\"Pursuit\",\"Pursuit\",\"Pursuit\",\"Pursuit\",\"Pursuit\",\"Pursuit\",\"Pursuit\",\"Pursuit\",\"Pursuit\",\"Pursuit\",\"Southland\",\"Southland\",\"Southland\",\"Southland\",\"University Heights\",\"Wolfville\",\"Wolfville\",\"Wolfville\",\"Wolfville\",\"Wolfville\",\"Wolfville\",\"Wolfville\",\"Wolfville\",\"Wolfville\",\"Wolfville\",\"Wolfville\",\"Wolfville\",\"Wolfville\",\"Wolfville\",\"Wolfville\",\"Wolfville\",\"Wolfville\",\"Wolfville\",\"Wolfville\",\"Wolfville\",\"Wolfville\",\"Wolfville\",\"Wolfville\",\"Wolfville\",\"Wolfville\",\"Wolfville\",\"Wolfville\",\"Wolfville\",\"Yellowstone\",\"Yellowstone\",\"Yellowstone\",\"Yellowstone\",\"Yellowstone\",\"Yellowstone\",\"Yellowstone\",\"Yellowstone\",\"Yellowstone\",\"Yellowstone\",\"Yellowstone\",\"Yellowstone\"],\"xaxis\":\"x\",\"y\":[450000,469000,394000,350000,400000,381000,398500,384990,350000,369000,372000,365000,356800,410000,389000,345000,320000,350000,390000,410000,370000,360000,419000,285000,328000,323999,298500,310000,360000,335000,329000,330000,330000,325000,349000,339000,350000,300000,350000,375000,360000,300000,300000,314000,277000,410000,380000,350000,300000,330000,360000,320000,371000,340000,369990,420000,220000,375000,407000,345000,365000,390000,380000,382500,375000,380000,370000,395000,317500,395000,345000,377500,344000,350000,349000,327000,373000,400000,255000,272000,240000,283000,260000,245000,255000,289900,290000,278000,322500,310000,269000,289900,280000,340000,280000,290000,315000,300000,320000,262000,285000,295000,300000,286000,255000,350000,349000,288000,275000,324900,335000,310000,315000,375000,395200,275000,275000,290000,357000,350000,315000,329000,345000,360000,305000,355000,310000,340000,275000,255000,267000,253800,385000,325000,337000,310000,365000,300000,310000,309000,285000,240000,295000,268000,284900,325000,365000,330000,325000,355000,360000,265000,389000,312000,339000,295000,370000,350000,265000,275000,285000,290000,275000,248000,340000,245000,312500,420000,415000,445000,340000,389000,380000,440000,385000,369000,415000,450000,489000,459000,275000,331000,385000,340000,401000,410000,337500,437000,405000,380000,405000,450000,450000,442000,450000,395000,425000,420000,400000,400000,475000,455000,435000,437000,480000,405000,441000,381000,420000,480000,435000,435000,470000,399000,400000,410000,463835,452900,459900,449900,452900,449900,457900,477900,449900,457900,457900,469900,457900,447900,485070,477900,441000,437900,453900,452900,469900,472900,347500,225000,55000,175000,165000,115500,155000,160000,174000,110000,100000,153000,147000,77500,169000,140000,119000,154000,160000,155000,172500,117500,90000,75000,95000,155000,157000,160000,164900,155000,130000,119000,169000,200000,155900,189000,91000,172000,196100,150000,172000,195000,180000,181000,175000,184550,115000,180000,175000,185000,195000,122500,190000,145000,197500,95000,189900,200000,200000,145000,230000,95000,193500,200000,183000,105000,218000,90000,218000,165000,175000,167500,90000,173000,190000,190000,210000,199000,235000,184500,185000,122500,190000,226000,85000,55000,80000,54000,172000,105000,225000,305000,325000,330500,331000,350000,315000,319000,327500,370000,350000,390000,396000,393000,310000,320000,400000,320000,415000,355000,455000,339000,465000,345000,355000,490000,370000,395000,393500,315000,355000,365000,375000,350000,395000,385000,355000,400000,363000,290000,315000,285000,479000,480000,439999,430000,415000,435000,445000,360000,417000,375000,410000,385000,390000,375000,352500,435000,367500,425000,385000,424300,380000,365000,395000,385000,370000,415000,440000,435000,377000,424000,310000,278000,329000,330000,324450,305000,280000,205000,402500,355000,338000,360000,412250,425000,289750,384000,369999,360000,335000,310000,365000,269000,255000,305114,357000,374999,535000,310000,335000,355000,364000,385000,400000,400000,425000,395000,315000,370000,335000,315000,454000,375000,320000,351500,479000,385000,485000,469000,415000,405000,475000,449000,445000,415000,384000,440000,475000,410000,545000,475000,488000,415000,450000,465000,429000,440000,300000,334990,367000,325000,320000,350000,310000,320000,303000,335000,329000,387500,355000,360000,389000,385000,390000,425000,420000,402500,406000,427500,320000,325000,399000,380000,370000,429000,370000,410000,380000,365000,380000,415000,420000,355000,305000,310000,345000,387000,350000,390000,412500,330000,351000,450000,470000,460000,436000,350000,395000,385000,475000,460000,472000,470000,442000,440000,405000,325000,329000,340000,345000,295000,330000,345000,350000,340000,370000,310000,339000,350000,304000,287000,265000,205000,141000,190000,189000,323500,350000,346000,318000,365000,395000,388000,385000,420000,426000,410000,435000,358000,330000,340000,360000,369990,385000,375000,401000,420000,430000,429000,365000,387000,380000,415000,410000,439000,354000,429000,393000,459000,405000,495000,410000,369000,362500,385000,355000,295500],\"yaxis\":\"y\",\"type\":\"scattergl\"},{\"hovertemplate\":\"Bedrooms=3\\u003cbr\\u003eDevelopment=%{x}\\u003cbr\\u003eSold Price=%{y}\\u003cextra\\u003e\\u003c\\u002fextra\\u003e\",\"legendgroup\":\"3\",\"marker\":{\"color\":\"#00cc96\",\"symbol\":\"circle\"},\"mode\":\"markers\",\"name\":\"3\",\"showlegend\":true,\"x\":[\"Crewville\",\"Crewville\",\"Landings\",\"Landings\",\"Landings\",\"Landings\",\"Landings\",\"Landings\",\"Landings\",\"Landings\",\"Mapletown\",\"Parliment\",\"Parliment\",\"University Heights\",\"Wolfville\",\"Yellowstone\",\"Yellowstone\",\"Yellowstone\",\"Yellowstone\",\"Yellowstone\",\"Yellowstone\"],\"xaxis\":\"x\",\"y\":[487000,350000,475000,488000,437000,415000,420000,430000,447000,470000,435000,470000,519000,399000,426000,399000,501000,545000,480000,495000,430000],\"yaxis\":\"y\",\"type\":\"scattergl\"}],                        {\"template\":{\"data\":{\"barpolar\":[{\"marker\":{\"line\":{\"color\":\"white\",\"width\":0.5},\"pattern\":{\"fillmode\":\"overlay\",\"size\":10,\"solidity\":0.2}},\"type\":\"barpolar\"}],\"bar\":[{\"error_x\":{\"color\":\"#2a3f5f\"},\"error_y\":{\"color\":\"#2a3f5f\"},\"marker\":{\"line\":{\"color\":\"white\",\"width\":0.5},\"pattern\":{\"fillmode\":\"overlay\",\"size\":10,\"solidity\":0.2}},\"type\":\"bar\"}],\"carpet\":[{\"aaxis\":{\"endlinecolor\":\"#2a3f5f\",\"gridcolor\":\"#C8D4E3\",\"linecolor\":\"#C8D4E3\",\"minorgridcolor\":\"#C8D4E3\",\"startlinecolor\":\"#2a3f5f\"},\"baxis\":{\"endlinecolor\":\"#2a3f5f\",\"gridcolor\":\"#C8D4E3\",\"linecolor\":\"#C8D4E3\",\"minorgridcolor\":\"#C8D4E3\",\"startlinecolor\":\"#2a3f5f\"},\"type\":\"carpet\"}],\"choropleth\":[{\"colorbar\":{\"outlinewidth\":0,\"ticks\":\"\"},\"type\":\"choropleth\"}],\"contourcarpet\":[{\"colorbar\":{\"outlinewidth\":0,\"ticks\":\"\"},\"type\":\"contourcarpet\"}],\"contour\":[{\"colorbar\":{\"outlinewidth\":0,\"ticks\":\"\"},\"colorscale\":[[0.0,\"#0d0887\"],[0.1111111111111111,\"#46039f\"],[0.2222222222222222,\"#7201a8\"],[0.3333333333333333,\"#9c179e\"],[0.4444444444444444,\"#bd3786\"],[0.5555555555555556,\"#d8576b\"],[0.6666666666666666,\"#ed7953\"],[0.7777777777777778,\"#fb9f3a\"],[0.8888888888888888,\"#fdca26\"],[1.0,\"#f0f921\"]],\"type\":\"contour\"}],\"heatmapgl\":[{\"colorbar\":{\"outlinewidth\":0,\"ticks\":\"\"},\"colorscale\":[[0.0,\"#0d0887\"],[0.1111111111111111,\"#46039f\"],[0.2222222222222222,\"#7201a8\"],[0.3333333333333333,\"#9c179e\"],[0.4444444444444444,\"#bd3786\"],[0.5555555555555556,\"#d8576b\"],[0.6666666666666666,\"#ed7953\"],[0.7777777777777778,\"#fb9f3a\"],[0.8888888888888888,\"#fdca26\"],[1.0,\"#f0f921\"]],\"type\":\"heatmapgl\"}],\"heatmap\":[{\"colorbar\":{\"outlinewidth\":0,\"ticks\":\"\"},\"colorscale\":[[0.0,\"#0d0887\"],[0.1111111111111111,\"#46039f\"],[0.2222222222222222,\"#7201a8\"],[0.3333333333333333,\"#9c179e\"],[0.4444444444444444,\"#bd3786\"],[0.5555555555555556,\"#d8576b\"],[0.6666666666666666,\"#ed7953\"],[0.7777777777777778,\"#fb9f3a\"],[0.8888888888888888,\"#fdca26\"],[1.0,\"#f0f921\"]],\"type\":\"heatmap\"}],\"histogram2dcontour\":[{\"colorbar\":{\"outlinewidth\":0,\"ticks\":\"\"},\"colorscale\":[[0.0,\"#0d0887\"],[0.1111111111111111,\"#46039f\"],[0.2222222222222222,\"#7201a8\"],[0.3333333333333333,\"#9c179e\"],[0.4444444444444444,\"#bd3786\"],[0.5555555555555556,\"#d8576b\"],[0.6666666666666666,\"#ed7953\"],[0.7777777777777778,\"#fb9f3a\"],[0.8888888888888888,\"#fdca26\"],[1.0,\"#f0f921\"]],\"type\":\"histogram2dcontour\"}],\"histogram2d\":[{\"colorbar\":{\"outlinewidth\":0,\"ticks\":\"\"},\"colorscale\":[[0.0,\"#0d0887\"],[0.1111111111111111,\"#46039f\"],[0.2222222222222222,\"#7201a8\"],[0.3333333333333333,\"#9c179e\"],[0.4444444444444444,\"#bd3786\"],[0.5555555555555556,\"#d8576b\"],[0.6666666666666666,\"#ed7953\"],[0.7777777777777778,\"#fb9f3a\"],[0.8888888888888888,\"#fdca26\"],[1.0,\"#f0f921\"]],\"type\":\"histogram2d\"}],\"histogram\":[{\"marker\":{\"pattern\":{\"fillmode\":\"overlay\",\"size\":10,\"solidity\":0.2}},\"type\":\"histogram\"}],\"mesh3d\":[{\"colorbar\":{\"outlinewidth\":0,\"ticks\":\"\"},\"type\":\"mesh3d\"}],\"parcoords\":[{\"line\":{\"colorbar\":{\"outlinewidth\":0,\"ticks\":\"\"}},\"type\":\"parcoords\"}],\"pie\":[{\"automargin\":true,\"type\":\"pie\"}],\"scatter3d\":[{\"line\":{\"colorbar\":{\"outlinewidth\":0,\"ticks\":\"\"}},\"marker\":{\"colorbar\":{\"outlinewidth\":0,\"ticks\":\"\"}},\"type\":\"scatter3d\"}],\"scattercarpet\":[{\"marker\":{\"colorbar\":{\"outlinewidth\":0,\"ticks\":\"\"}},\"type\":\"scattercarpet\"}],\"scattergeo\":[{\"marker\":{\"colorbar\":{\"outlinewidth\":0,\"ticks\":\"\"}},\"type\":\"scattergeo\"}],\"scattergl\":[{\"marker\":{\"colorbar\":{\"outlinewidth\":0,\"ticks\":\"\"}},\"type\":\"scattergl\"}],\"scattermapbox\":[{\"marker\":{\"colorbar\":{\"outlinewidth\":0,\"ticks\":\"\"}},\"type\":\"scattermapbox\"}],\"scatterpolargl\":[{\"marker\":{\"colorbar\":{\"outlinewidth\":0,\"ticks\":\"\"}},\"type\":\"scatterpolargl\"}],\"scatterpolar\":[{\"marker\":{\"colorbar\":{\"outlinewidth\":0,\"ticks\":\"\"}},\"type\":\"scatterpolar\"}],\"scatter\":[{\"fillpattern\":{\"fillmode\":\"overlay\",\"size\":10,\"solidity\":0.2},\"type\":\"scatter\"}],\"scatterternary\":[{\"marker\":{\"colorbar\":{\"outlinewidth\":0,\"ticks\":\"\"}},\"type\":\"scatterternary\"}],\"surface\":[{\"colorbar\":{\"outlinewidth\":0,\"ticks\":\"\"},\"colorscale\":[[0.0,\"#0d0887\"],[0.1111111111111111,\"#46039f\"],[0.2222222222222222,\"#7201a8\"],[0.3333333333333333,\"#9c179e\"],[0.4444444444444444,\"#bd3786\"],[0.5555555555555556,\"#d8576b\"],[0.6666666666666666,\"#ed7953\"],[0.7777777777777778,\"#fb9f3a\"],[0.8888888888888888,\"#fdca26\"],[1.0,\"#f0f921\"]],\"type\":\"surface\"}],\"table\":[{\"cells\":{\"fill\":{\"color\":\"#EBF0F8\"},\"line\":{\"color\":\"white\"}},\"header\":{\"fill\":{\"color\":\"#C8D4E3\"},\"line\":{\"color\":\"white\"}},\"type\":\"table\"}]},\"layout\":{\"annotationdefaults\":{\"arrowcolor\":\"#2a3f5f\",\"arrowhead\":0,\"arrowwidth\":1},\"autotypenumbers\":\"strict\",\"coloraxis\":{\"colorbar\":{\"outlinewidth\":0,\"ticks\":\"\"}},\"colorscale\":{\"diverging\":[[0,\"#8e0152\"],[0.1,\"#c51b7d\"],[0.2,\"#de77ae\"],[0.3,\"#f1b6da\"],[0.4,\"#fde0ef\"],[0.5,\"#f7f7f7\"],[0.6,\"#e6f5d0\"],[0.7,\"#b8e186\"],[0.8,\"#7fbc41\"],[0.9,\"#4d9221\"],[1,\"#276419\"]],\"sequential\":[[0.0,\"#0d0887\"],[0.1111111111111111,\"#46039f\"],[0.2222222222222222,\"#7201a8\"],[0.3333333333333333,\"#9c179e\"],[0.4444444444444444,\"#bd3786\"],[0.5555555555555556,\"#d8576b\"],[0.6666666666666666,\"#ed7953\"],[0.7777777777777778,\"#fb9f3a\"],[0.8888888888888888,\"#fdca26\"],[1.0,\"#f0f921\"]],\"sequentialminus\":[[0.0,\"#0d0887\"],[0.1111111111111111,\"#46039f\"],[0.2222222222222222,\"#7201a8\"],[0.3333333333333333,\"#9c179e\"],[0.4444444444444444,\"#bd3786\"],[0.5555555555555556,\"#d8576b\"],[0.6666666666666666,\"#ed7953\"],[0.7777777777777778,\"#fb9f3a\"],[0.8888888888888888,\"#fdca26\"],[1.0,\"#f0f921\"]]},\"colorway\":[\"#636efa\",\"#EF553B\",\"#00cc96\",\"#ab63fa\",\"#FFA15A\",\"#19d3f3\",\"#FF6692\",\"#B6E880\",\"#FF97FF\",\"#FECB52\"],\"font\":{\"color\":\"#2a3f5f\"},\"geo\":{\"bgcolor\":\"white\",\"lakecolor\":\"white\",\"landcolor\":\"white\",\"showlakes\":true,\"showland\":true,\"subunitcolor\":\"#C8D4E3\"},\"hoverlabel\":{\"align\":\"left\"},\"hovermode\":\"closest\",\"mapbox\":{\"style\":\"light\"},\"paper_bgcolor\":\"white\",\"plot_bgcolor\":\"white\",\"polar\":{\"angularaxis\":{\"gridcolor\":\"#EBF0F8\",\"linecolor\":\"#EBF0F8\",\"ticks\":\"\"},\"bgcolor\":\"white\",\"radialaxis\":{\"gridcolor\":\"#EBF0F8\",\"linecolor\":\"#EBF0F8\",\"ticks\":\"\"}},\"scene\":{\"xaxis\":{\"backgroundcolor\":\"white\",\"gridcolor\":\"#DFE8F3\",\"gridwidth\":2,\"linecolor\":\"#EBF0F8\",\"showbackground\":true,\"ticks\":\"\",\"zerolinecolor\":\"#EBF0F8\"},\"yaxis\":{\"backgroundcolor\":\"white\",\"gridcolor\":\"#DFE8F3\",\"gridwidth\":2,\"linecolor\":\"#EBF0F8\",\"showbackground\":true,\"ticks\":\"\",\"zerolinecolor\":\"#EBF0F8\"},\"zaxis\":{\"backgroundcolor\":\"white\",\"gridcolor\":\"#DFE8F3\",\"gridwidth\":2,\"linecolor\":\"#EBF0F8\",\"showbackground\":true,\"ticks\":\"\",\"zerolinecolor\":\"#EBF0F8\"}},\"shapedefaults\":{\"line\":{\"color\":\"#2a3f5f\"}},\"ternary\":{\"aaxis\":{\"gridcolor\":\"#DFE8F3\",\"linecolor\":\"#A2B1C6\",\"ticks\":\"\"},\"baxis\":{\"gridcolor\":\"#DFE8F3\",\"linecolor\":\"#A2B1C6\",\"ticks\":\"\"},\"bgcolor\":\"white\",\"caxis\":{\"gridcolor\":\"#DFE8F3\",\"linecolor\":\"#A2B1C6\",\"ticks\":\"\"}},\"title\":{\"x\":0.05},\"xaxis\":{\"automargin\":true,\"gridcolor\":\"#EBF0F8\",\"linecolor\":\"#EBF0F8\",\"ticks\":\"\",\"title\":{\"standoff\":15},\"zerolinecolor\":\"#EBF0F8\",\"zerolinewidth\":2},\"yaxis\":{\"automargin\":true,\"gridcolor\":\"#EBF0F8\",\"linecolor\":\"#EBF0F8\",\"ticks\":\"\",\"title\":{\"standoff\":15},\"zerolinecolor\":\"#EBF0F8\",\"zerolinewidth\":2}}},\"xaxis\":{\"anchor\":\"y\",\"domain\":[0.0,1.0],\"title\":{\"text\":\"Development\"},\"tickangle\":45},\"yaxis\":{\"anchor\":\"x\",\"domain\":[0.0,1.0],\"title\":{\"text\":\"Sold Price\"}},\"legend\":{\"title\":{\"text\":\"Bedrooms\"},\"tracegroupgap\":0},\"title\":{\"text\":\"Condo Sold Price vs. Development\"},\"width\":1200,\"height\":600,\"plot_bgcolor\":\"lightblue\"},                        {\"responsive\": true}                    ).then(function(){\n",
              "                            \n",
              "var gd = document.getElementById('9e0314cd-b6ec-428a-933b-d2068d9a5e3d');\n",
              "var x = new MutationObserver(function (mutations, observer) {{\n",
              "        var display = window.getComputedStyle(gd).display;\n",
              "        if (!display || display === 'none') {{\n",
              "            console.log([gd, 'removed!']);\n",
              "            Plotly.purge(gd);\n",
              "            observer.disconnect();\n",
              "        }}\n",
              "}});\n",
              "\n",
              "// Listen for the removal of the full notebook cells\n",
              "var notebookContainer = gd.closest('#notebook-container');\n",
              "if (notebookContainer) {{\n",
              "    x.observe(notebookContainer, {childList: true});\n",
              "}}\n",
              "\n",
              "// Listen for the clearing of the current output cell\n",
              "var outputEl = gd.closest('.output');\n",
              "if (outputEl) {{\n",
              "    x.observe(outputEl, {childList: true});\n",
              "}}\n",
              "\n",
              "                        })                };                            </script>        </div>\n",
              "</body>\n",
              "</html>"
            ]
          },
          "metadata": {},
          "output_type": "display_data"
        }
      ],
      "source": [
        "# Create the scatter plot\n",
        "fig = px.scatter(data_frame=condo, x='Development', y='Sold_Price', color='Bedrooms',\n",
        "                 title='Condo Sold Price vs. Development',\n",
        "                 labels={'Development': 'Development', 'Sold_Price': 'Sold Price', 'Town': 'Town'},\n",
        "                 hover_data=['Development'])\n",
        "\n",
        "# Show the legend\n",
        "fig.update_traces(showlegend=True)\n",
        "\n",
        "# Update the x-axis labels to be rotated 180 degrees\n",
        "fig.update_layout(xaxis=dict(tickangle=45))\n",
        "\n",
        "# Show the figure\n",
        "#fig.show()\n",
        "\n",
        "\n",
        "\n",
        "\n",
        "fig.update_layout(template='plotly_white')\n",
        "fig.update_layout(width=1200)\n",
        "fig.update_layout(height= 600)\n",
        "\n",
        "\n",
        "# Change the background color to black\n",
        "fig.update_layout(plot_bgcolor='lightblue')\n",
        "\n",
        "fig.show()"
      ]
    },
    {
      "cell_type": "markdown",
      "metadata": {
        "id": "f_5jHMJI-ZSv"
      },
      "source": [
        "## Let us just look at 1 bedroom units"
      ]
    },
    {
      "cell_type": "code",
      "execution_count": null,
      "metadata": {
        "id": "2cqCsays7TNe"
      },
      "outputs": [],
      "source": [
        "# prompt: filter condo to 1 Bedrooms\n",
        "# and color by Appearance\n",
        "\n"
      ]
    },
    {
      "cell_type": "code",
      "execution_count": null,
      "metadata": {
        "colab": {
          "base_uri": "https://localhost:8080/",
          "height": 637
        },
        "id": "q13eD3Ca-m6Y",
        "outputId": "83f50512-c03d-4fe3-9770-cb074c453796"
      },
      "outputs": [
        {
          "data": {
            "text/html": [
              "<html>\n",
              "<head><meta charset=\"utf-8\" /></head>\n",
              "<body>\n",
              "    <div>            <script src=\"https://cdnjs.cloudflare.com/ajax/libs/mathjax/2.7.5/MathJax.js?config=TeX-AMS-MML_SVG\"></script><script type=\"text/javascript\">if (window.MathJax && window.MathJax.Hub && window.MathJax.Hub.Config) {window.MathJax.Hub.Config({SVG: {font: \"STIX-Web\"}});}</script>                <script type=\"text/javascript\">window.PlotlyConfig = {MathJaxConfig: 'local'};</script>\n",
              "        <script charset=\"utf-8\" src=\"https://cdn.plot.ly/plotly-2.24.1.min.js\"></script>                <div id=\"08159695-3358-4341-8677-e0e1275229b7\" class=\"plotly-graph-div\" style=\"height:600px; width:1000px;\"></div>            <script type=\"text/javascript\">                                    window.PLOTLYENV=window.PLOTLYENV || {};                                    if (document.getElementById(\"08159695-3358-4341-8677-e0e1275229b7\")) {                    Plotly.newPlot(                        \"08159695-3358-4341-8677-e0e1275229b7\",                        [{\"hovertemplate\":\"Appearance_categorical=unknown\\u003cbr\\u003eDevelopment=%{x}\\u003cbr\\u003eSold Price=%{y}\\u003cextra\\u003e\\u003c\\u002fextra\\u003e\",\"legendgroup\":\"unknown\",\"marker\":{\"color\":\"#636efa\",\"symbol\":\"circle\"},\"mode\":\"markers\",\"name\":\"unknown\",\"orientation\":\"v\",\"showlegend\":true,\"x\":[\"123 Main St\",\"123 Main St\",\"123 Main St\",\"Cambridge\",\"Cambridge\",\"Cambridge\",\"Cambridge\",\"Cambridge\",\"Cambridge\",\"Cambridge\",\"Cambridge\",\"Cambridge\",\"Cambridge\",\"Cambridge\",\"Cambridge\",\"Cambridge\",\"Cambridge\",\"Cambridge\",\"Cambridge\",\"Cambridge\",\"Cambridge\",\"Cambridge\",\"Cambridge\",\"Cambridge\",\"Cambridge\",\"Cambridge\",\"Cambridge\",\"Cambridge\",\"Cambridge\",\"Cambridge\",\"Cambridge\",\"Cambridge\",\"Cambridge\",\"Cambridge\",\"Cambridge\",\"Clover\",\"Clover\",\"Clover\",\"Clover\",\"Clover\",\"Clover\",\"Clover\",\"Clover\",\"Clover\",\"Clover\",\"Clover\",\"Clover\",\"Clover\",\"Clover\",\"Clover\",\"Clover\",\"Clover\",\"Clover\",\"Clover\",\"Clover\",\"Clover\",\"Clover\",\"Clover\",\"Clover\",\"Clover\",\"Crewville\",\"Crewville\",\"Crewville\",\"Crewville\",\"Crewville\",\"Crewville\",\"Forestville\",\"Forestville\",\"Forestville\",\"Forestville\",\"Forestville\",\"Forestville\",\"Forestville\",\"Forestville\",\"Glentrees\",\"Glentrees\",\"Glentrees\",\"Golddream\",\"Golddream\",\"Golddream\",\"Greentown\",\"Greentown\",\"Greentown\",\"Greentown\",\"Greentown\",\"Greentown\",\"Greentown\",\"Greentown\",\"Greentown\",\"Hershare\",\"Hershare\",\"Hershare\",\"Jaggedtown\",\"Jaggedtown\",\"Jaggedtown\",\"Jaggedtown\",\"Jaggedtown\",\"Jaggedtown\",\"Jaggedtown\",\"Jaggedtown\",\"Jaggedtown\",\"Jaggedtown\",\"Jaggedtown\",\"Jaggedtown\",\"Jaggedtown\",\"Jaggedtown\",\"Jaggedtown\",\"Jaggedtown\",\"Jaggedtown\",\"Jaggedtown\",\"Jaggedtown\",\"Landings\",\"Landings\",\"Laurel Vista\",\"Laurel Vista\",\"Laurel Vista\",\"Makerstown\",\"Makerstown\",\"Oxford\",\"Oxford\",\"Oxford\",\"Oxford\",\"Oxford\",\"Oxford\",\"Oxford\",\"Oxford\",\"Oxford\",\"Oxford\",\"Oxford\",\"Oxford\",\"Oxford\",\"Oxford\",\"Oxford\",\"Parliment\",\"Parliment\",\"Parliment\",\"Parliment\",\"Parliment\",\"Parliment\",\"Parliment\",\"Parliment\",\"Peninusula\",\"Pilgramstate\",\"Pilgramstate\",\"Pilgramstate\",\"Pilgramstate\",\"Pilgramstate\",\"Pilgramstate\",\"Pilgramstate\",\"Pilgramstate\",\"Pilgramstate\",\"Pilgramstate\",\"Pilgramstate\",\"Pilgramstate\",\"Pilgramstate\",\"Pilgramstate\",\"Pilgramstate\",\"Pilgramstate\",\"Pilgramstate\",\"Pilgramstate\",\"Provance\",\"Provance\",\"Provance\",\"Provance\",\"Provance\",\"Provance\",\"Provance\",\"Provance\",\"Pursuit\",\"Pursuit\",\"Southland\",\"Southland\",\"Southland\",\"Southland\",\"Southland\",\"Southland\",\"Southland\",\"Southland\",\"Southland\",\"Southland\",\"Southland\",\"Southland\",\"Southland\",\"Southland\",\"Southland\",\"Southland\",\"Southland\",\"Southland\",\"Southland\",\"Southland\",\"Southland\",\"Southland\",\"Southland\",\"Southland\",\"Southland\",\"Southland\",\"Southland\",\"Southland\",\"Southland\",\"Southland\",\"Southland\",\"Southland\",\"Southland\",\"Southland\",\"Southland\",\"Southland\",\"Southland\",\"Southland\",\"Southland\",\"Southland\",\"Southland\",\"Southland\",\"Southland\",\"Southland\",\"Southland\",\"Southland\",\"Southland\",\"Southland\",\"Southland\",\"Southland\",\"Southland\",\"Southland\",\"Southland\",\"Southland\",\"Southland\",\"Southland\",\"Southland\",\"Southland\",\"Southland\",\"Southland\",\"Southland\",\"Streamville\",\"Streamville\",\"Windswept\",\"Windswept\",\"Windswept\",\"Windswept\",\"Windswept\",\"Windswept\",\"Windswept\",\"Windswept\",\"Windswept\",\"Windswept\",\"Windswept\",\"Windswept\",\"Windswept\",\"Windswept\",\"Windswept\",\"Windswept\"],\"xaxis\":\"x\",\"y\":[239000,210000,230000,350000,355000,291000,320000,330000,325000,316000,360000,329000,242000,275000,370000,285000,360000,347000,360000,389000,395000,355000,233700,310000,265000,297500,280000,315000,256750,258000,300000,375000,336000,325000,217000,180000,182000,180000,200000,195000,220000,230000,245000,235000,220000,235000,135000,155725,195000,161000,182000,185000,226000,235000,205000,205000,225000,250000,277500,225000,335000,350000,291000,427500,414999,420000,265000,115000,210000,215000,225000,190000,219000,130000,265000,90000,196000,350000,335000,370500,60000,76000,45000,109000,130000,60000,80000,111500,80750,335000,400000,400000,60000,68000,85000,146000,115000,125000,156000,166000,72000,75000,92000,104900,135000,135000,122000,127000,165000,117000,70000,329000,380000,175000,255000,250000,365000,320000,239000,260000,325000,300000,375000,415000,422500,160000,285000,255000,290000,390000,317000,315000,370000,295000,385000,429000,418000,405000,325000,280000,318000,250000,185000,150000,140000,200000,217500,160000,141000,260000,225000,309000,220000,146000,194000,140000,195000,210000,155000,295000,105000,105000,187000,180000,170000,182500,199990,117667,287000,250000,225000,170000,150000,185000,225000,160000,172000,170000,185000,178000,194000,195000,235000,195000,95000,70000,119000,143000,120000,119300,116500,155000,160000,145000,152000,140000,149000,135000,135000,187900,135000,145000,170000,160000,168000,168000,140000,165000,130000,170000,165000,183000,150000,155000,193000,195000,230000,240000,190000,120000,132000,115000,130000,135000,148000,125000,150000,140000,125000,165000,112500,235000,225000,180000,194000,203500,183000,225000,230000,305000,270000,365000,275000,270000,310000,270000,245000,189000,275000],\"yaxis\":\"y\",\"type\":\"scatter\"},{\"hovertemplate\":\"Appearance_categorical=Mint\\u003cbr\\u003eDevelopment=%{x}\\u003cbr\\u003eSold Price=%{y}\\u003cextra\\u003e\\u003c\\u002fextra\\u003e\",\"legendgroup\":\"Mint\",\"marker\":{\"color\":\"#EF553B\",\"symbol\":\"circle\"},\"mode\":\"markers\",\"name\":\"Mint\",\"orientation\":\"v\",\"showlegend\":true,\"x\":[\"123 Main St\",\"123 Main St\",\"Cambridge\",\"Cambridge\",\"Cambridge\",\"Cambridge\",\"Cambridge\",\"Cambridge\",\"Cambridge\",\"Cambridge\",\"Cambridge\",\"Cambridge\",\"Cambridge\",\"Cambridge\",\"Cambridge\",\"Cambridge\",\"Cambridge\",\"Cambridge\",\"Cambridge\",\"Cambridge\",\"Cambridge\",\"Cambridge\",\"Cambridge\",\"Cambridge\",\"Cambridge\",\"Cambridge\",\"Cambridge\",\"Cambridge\",\"Cambridge\",\"Cambridge\",\"Clover\",\"Clover\",\"Clover\",\"Clover\",\"Clover\",\"Clover\",\"Clover\",\"Clover\",\"Clover\",\"Clover\",\"Clover\",\"Clover\",\"Clover\",\"Clover\",\"Clover\",\"Clover\",\"Clover\",\"Clover\",\"Clover\",\"Clover\",\"Clover\",\"Clover\",\"Crewville\",\"Crewville\",\"Crewville\",\"Crewville\",\"Crewville\",\"Crewville\",\"Crewville\",\"Crewville\",\"Crewville\",\"Crewville\",\"Crewville\",\"Forestville\",\"Forestville\",\"Forestville\",\"Forestville\",\"Forestville\",\"Forestville\",\"Forestville\",\"Forestville\",\"Forestville\",\"Forestville\",\"Forestville\",\"Forestville\",\"Glentrees\",\"Glentrees\",\"Glentrees\",\"Golddream\",\"Golddream\",\"Golddream\",\"Golddream\",\"Greentown\",\"Greentown\",\"Greentown\",\"Greentown\",\"Greentown\",\"Greentown\",\"Greentown\",\"Hershare\",\"Hershare\",\"Hershare\",\"Jaggedtown\",\"Jaggedtown\",\"Jaggedtown\",\"Jaggedtown\",\"Jaggedtown\",\"Jaggedtown\",\"Jaggedtown\",\"Jaggedtown\",\"Jaggedtown\",\"Jaggedtown\",\"Jaggedtown\",\"Landings\",\"Landings\",\"Landings\",\"Landings\",\"Laurel Vista\",\"Makerstown\",\"Makerstown\",\"Makerstown\",\"Makerstown\",\"Makerstown\",\"Makerstown\",\"Makerstowne\",\"Oxford\",\"Oxford\",\"Oxford\",\"Oxford\",\"Oxford\",\"Oxford\",\"Oxford\",\"Oxford\",\"Oxford\",\"Oxford\",\"Oxford\",\"Oxford\",\"Oxford\",\"Oxford\",\"Oxford\",\"Oxford\",\"Oxford\",\"Oxford\",\"Parliment\",\"Parliment\",\"Parliment\",\"Parliment\",\"Parliment\",\"Parliment\",\"Parliment\",\"Parliment\",\"Parliment\",\"Parliment\",\"Parliment\",\"Parliment\",\"Parliment\",\"Parliment\",\"Parliment\",\"Peninusula\",\"Peninusula\",\"Peninusula\",\"Peninusula\",\"Pilgramstate\",\"Pilgramstate\",\"Pilgramstate\",\"Pilgramstate\",\"Pilgramstate\",\"Pilgramstate\",\"Pilgramstate\",\"Provance\",\"Provance\",\"Provance\",\"Provance\",\"Provance\",\"Pursuit\",\"Pursuit\",\"Pursuit\",\"Pursuit\",\"Pursuit\",\"Southland\",\"Southland\",\"Southland\",\"Southland\",\"Southland\",\"Southland\",\"Southland\",\"Southland\",\"Southland\",\"Southland\",\"Southland\",\"Southland\",\"Southland\",\"Southland\",\"Southland\",\"Southland\",\"Southland\",\"Southland\",\"Southland\",\"Southland\",\"Southland\",\"Southland\",\"Southland\",\"Southland\",\"Southland\",\"Southland\",\"Southland\",\"Southland\",\"Southland\",\"Southland\",\"Southland\",\"Southland\",\"Southland\",\"Southland\",\"Southland\",\"Southland\",\"Southland\",\"Southland\",\"Southland\",\"Southland\",\"Southland\",\"Southland\",\"Southland\",\"Southland\",\"Southland\",\"Southland\",\"Southland\",\"Southland\",\"Southland\",\"Southland\",\"Southland\",\"Southland\",\"Southland\",\"Southland\",\"Southland\",\"Southland\",\"Southland\",\"Southland\",\"Southland\",\"Streamville\",\"Streamville\",\"Streamville\",\"Streamville\",\"University Heights\",\"Windswept\",\"Windswept\",\"Windswept\",\"Windswept\",\"Windswept\",\"Windswept\",\"Windswept\",\"Windswept\",\"Windswept\",\"Windswept\",\"Windswept\",\"Windswept\",\"Windswept\"],\"xaxis\":\"x\",\"y\":[224000,265000,285000,310000,265000,370000,325000,350000,300000,400000,367500,360000,278950,249000,315000,279000,320000,288500,305000,270000,350000,270000,258700,300000,305000,230720,195000,270000,240000,285000,134000,140000,160000,190000,170000,220000,195000,185000,275000,225000,145000,168000,155000,190000,190000,207500,220000,200000,190000,245000,257500,225000,358000,360000,375000,430000,404000,395000,405000,325000,303000,390000,396000,95000,265000,252000,187000,185000,205000,210000,245000,230000,250000,243500,288000,255000,196000,187000,325000,349000,355000,355000,90000,126500,110000,145000,169000,90000,63000,459999,421000,467000,85000,117000,125000,118000,135000,200000,175000,79000,130000,140000,140000,340000,370000,295000,349000,240000,286500,350000,375000,389000,391000,320000,273000,219000,420000,389990,355000,352500,320000,355000,274000,290000,270000,272000,322500,250000,300000,320000,330000,224900,360000,339000,334000,349000,370000,380000,390000,369000,415000,500000,446000,400000,377000,415000,430000,309000,250000,255000,222500,240000,160000,235000,195000,197000,220000,220000,225000,198000,205000,192000,163000,265000,400000,375000,275000,280000,370000,199900,145000,150000,163000,195000,165000,190000,175000,191000,160000,186000,140000,95000,132200,101000,116000,130000,115000,135000,126000,125000,146000,135000,149000,155000,150000,140000,150000,190000,145000,135000,126990,93000,134000,145000,183000,175000,189000,220000,215000,215000,193000,207000,110000,115000,122000,106000,113000,105000,112500,135000,144000,145000,135000,150000,150000,140000,105000,113000,220500,209000,225000,265000,385000,237500,287000,250000,250000,300500,320000,330000,285000,275000,325000,254000,290000,335000],\"yaxis\":\"y\",\"type\":\"scatter\"},{\"hovertemplate\":\"Appearance_categorical=Excellent\\u003cbr\\u003eDevelopment=%{x}\\u003cbr\\u003eSold Price=%{y}\\u003cextra\\u003e\\u003c\\u002fextra\\u003e\",\"legendgroup\":\"Excellent\",\"marker\":{\"color\":\"#ab63fa\",\"symbol\":\"circle\"},\"mode\":\"markers\",\"name\":\"Excellent\",\"orientation\":\"v\",\"showlegend\":true,\"x\":[\"Cambridge\",\"Cambridge\",\"Cambridge\",\"Cambridge\",\"Cambridge\",\"Cambridge\",\"Cambridge\",\"Cambridge\",\"Cambridge\",\"Clover\",\"Clover\",\"Clover\",\"Clover\",\"Clover\",\"Clover\",\"Clover\",\"Clover\",\"Clover\",\"Clover\",\"Clover\",\"Clover\",\"Clover\",\"Clover\",\"Clover\",\"Clover\",\"Clover\",\"Crewville\",\"Crewville\",\"Crewville\",\"Crewville\",\"Crewville\",\"Crewville\",\"Crewville\",\"Forestville\",\"Forestville\",\"Glentrees\",\"Glentrees\",\"Golddream\",\"Greentown\",\"Greentown\",\"Greentown\",\"Greentown\",\"Greentown\",\"Greentown\",\"Greentown\",\"Greentown\",\"Hershare\",\"Hershare\",\"Jaggedtown\",\"Jaggedtown\",\"Jaggedtown\",\"Jaggedtown\",\"Jaggedtown\",\"Jaggedtown\",\"Jaggedtown\",\"Landings\",\"Laurel Vista\",\"Makrstown\",\"Oxford\",\"Oxford\",\"Oxford\",\"Oxford\",\"Oxford\",\"Oxford\",\"Oxford\",\"Oxford\",\"Oxford\",\"Parliment\",\"Peninusula\",\"Peninusula\",\"Peninusula\",\"Pilgramstate\",\"Pilgramstate\",\"Pilgramstate\",\"Pilgramstate\",\"Pilgramstate\",\"Pilgramstate\",\"Provance\",\"Provance\",\"Provance\",\"Provance\",\"Provance\",\"Pursuit\",\"Pursuit\",\"Pursuit\",\"Pursuit\",\"Southland\",\"Southland\",\"Southland\",\"Southland\",\"Southland\",\"Southland\",\"Southland\",\"Southland\",\"Southland\",\"Southland\",\"Southland\",\"Southland\",\"Southland\",\"Southland\",\"Southland\",\"Southland\",\"Southland\",\"Southland\",\"Southland\",\"Southland\",\"Southland\",\"Southland\",\"Southland\",\"Southland\",\"Southland\",\"Southland\",\"Southland\",\"Southland\",\"Southland\",\"Southland\",\"Southland\",\"Southland\",\"Southland\",\"Southland\",\"Streamville\",\"Streamville\",\"Streamville\",\"Windswept\",\"Windswept\",\"Windswept\",\"Windswept\",\"Windswept\",\"Windswept\",\"Windswept\",\"Windswept\"],\"xaxis\":\"x\",\"y\":[280000,262000,292000,281500,312000,279000,320000,315000,325000,170000,190000,240000,210000,162500,162000,182000,144500,155000,144000,205000,235000,225000,200000,229900,205000,118000,335000,324000,324500,365000,369000,387500,410000,189000,215000,195000,230000,340000,84000,64900,110000,210000,105000,115000,84900,61000,465000,455000,89000,143000,76000,84000,127700,145000,155000,349000,175000,345000,319000,318000,385000,290000,317000,320000,356000,264000,315000,350000,240000,280000,275000,182000,220000,267000,235000,200000,220000,180000,195000,121000,254000,171000,415000,325000,263000,290000,165000,139900,190000,163000,186500,107000,150000,121500,140000,98000,140000,115000,155000,133000,122000,156000,176000,178429,165000,155000,170000,196000,205000,110000,110000,117000,140000,105000,133000,110000,120000,120000,125000,85000,196500,212000,220000,190000,229000,273000,225000,267000,267500,159000,270000],\"yaxis\":\"y\",\"type\":\"scatter\"},{\"hovertemplate\":\"Appearance_categorical=Fair\\u003cbr\\u003eDevelopment=%{x}\\u003cbr\\u003eSold Price=%{y}\\u003cextra\\u003e\\u003c\\u002fextra\\u003e\",\"legendgroup\":\"Fair\",\"marker\":{\"color\":\"#FFA15A\",\"symbol\":\"circle\"},\"mode\":\"markers\",\"name\":\"Fair\",\"orientation\":\"v\",\"showlegend\":true,\"x\":[\"Clover\",\"Crewville\",\"Crewville\",\"Forestville\",\"Forestville\",\"Forestville\",\"Glentrees\",\"Golddream\",\"Greentown\",\"Greentown\",\"Jaggedtown\",\"Makerstown\",\"Pilgramstate\",\"Pilgramstate\",\"Southland\",\"Southland\",\"Southland\",\"Southland\",\"Streamville\",\"Windswept\",\"Windswept\",\"Windswept\",\"Windswept\"],\"xaxis\":\"x\",\"y\":[200000,355000,415000,245000,292500,275000,205000,220000,49000,150000,118000,335000,140000,231000,135000,205000,94000,161000,215000,335000,272950,330000,255000],\"yaxis\":\"y\",\"type\":\"scatter\"}],                        {\"template\":{\"data\":{\"histogram2dcontour\":[{\"type\":\"histogram2dcontour\",\"colorbar\":{\"outlinewidth\":0,\"ticks\":\"\"},\"colorscale\":[[0.0,\"#0d0887\"],[0.1111111111111111,\"#46039f\"],[0.2222222222222222,\"#7201a8\"],[0.3333333333333333,\"#9c179e\"],[0.4444444444444444,\"#bd3786\"],[0.5555555555555556,\"#d8576b\"],[0.6666666666666666,\"#ed7953\"],[0.7777777777777778,\"#fb9f3a\"],[0.8888888888888888,\"#fdca26\"],[1.0,\"#f0f921\"]]}],\"choropleth\":[{\"type\":\"choropleth\",\"colorbar\":{\"outlinewidth\":0,\"ticks\":\"\"}}],\"histogram2d\":[{\"type\":\"histogram2d\",\"colorbar\":{\"outlinewidth\":0,\"ticks\":\"\"},\"colorscale\":[[0.0,\"#0d0887\"],[0.1111111111111111,\"#46039f\"],[0.2222222222222222,\"#7201a8\"],[0.3333333333333333,\"#9c179e\"],[0.4444444444444444,\"#bd3786\"],[0.5555555555555556,\"#d8576b\"],[0.6666666666666666,\"#ed7953\"],[0.7777777777777778,\"#fb9f3a\"],[0.8888888888888888,\"#fdca26\"],[1.0,\"#f0f921\"]]}],\"heatmap\":[{\"type\":\"heatmap\",\"colorbar\":{\"outlinewidth\":0,\"ticks\":\"\"},\"colorscale\":[[0.0,\"#0d0887\"],[0.1111111111111111,\"#46039f\"],[0.2222222222222222,\"#7201a8\"],[0.3333333333333333,\"#9c179e\"],[0.4444444444444444,\"#bd3786\"],[0.5555555555555556,\"#d8576b\"],[0.6666666666666666,\"#ed7953\"],[0.7777777777777778,\"#fb9f3a\"],[0.8888888888888888,\"#fdca26\"],[1.0,\"#f0f921\"]]}],\"heatmapgl\":[{\"type\":\"heatmapgl\",\"colorbar\":{\"outlinewidth\":0,\"ticks\":\"\"},\"colorscale\":[[0.0,\"#0d0887\"],[0.1111111111111111,\"#46039f\"],[0.2222222222222222,\"#7201a8\"],[0.3333333333333333,\"#9c179e\"],[0.4444444444444444,\"#bd3786\"],[0.5555555555555556,\"#d8576b\"],[0.6666666666666666,\"#ed7953\"],[0.7777777777777778,\"#fb9f3a\"],[0.8888888888888888,\"#fdca26\"],[1.0,\"#f0f921\"]]}],\"contourcarpet\":[{\"type\":\"contourcarpet\",\"colorbar\":{\"outlinewidth\":0,\"ticks\":\"\"}}],\"contour\":[{\"type\":\"contour\",\"colorbar\":{\"outlinewidth\":0,\"ticks\":\"\"},\"colorscale\":[[0.0,\"#0d0887\"],[0.1111111111111111,\"#46039f\"],[0.2222222222222222,\"#7201a8\"],[0.3333333333333333,\"#9c179e\"],[0.4444444444444444,\"#bd3786\"],[0.5555555555555556,\"#d8576b\"],[0.6666666666666666,\"#ed7953\"],[0.7777777777777778,\"#fb9f3a\"],[0.8888888888888888,\"#fdca26\"],[1.0,\"#f0f921\"]]}],\"surface\":[{\"type\":\"surface\",\"colorbar\":{\"outlinewidth\":0,\"ticks\":\"\"},\"colorscale\":[[0.0,\"#0d0887\"],[0.1111111111111111,\"#46039f\"],[0.2222222222222222,\"#7201a8\"],[0.3333333333333333,\"#9c179e\"],[0.4444444444444444,\"#bd3786\"],[0.5555555555555556,\"#d8576b\"],[0.6666666666666666,\"#ed7953\"],[0.7777777777777778,\"#fb9f3a\"],[0.8888888888888888,\"#fdca26\"],[1.0,\"#f0f921\"]]}],\"mesh3d\":[{\"type\":\"mesh3d\",\"colorbar\":{\"outlinewidth\":0,\"ticks\":\"\"}}],\"scatter\":[{\"fillpattern\":{\"fillmode\":\"overlay\",\"size\":10,\"solidity\":0.2},\"type\":\"scatter\"}],\"parcoords\":[{\"type\":\"parcoords\",\"line\":{\"colorbar\":{\"outlinewidth\":0,\"ticks\":\"\"}}}],\"scatterpolargl\":[{\"type\":\"scatterpolargl\",\"marker\":{\"colorbar\":{\"outlinewidth\":0,\"ticks\":\"\"}}}],\"bar\":[{\"error_x\":{\"color\":\"#2a3f5f\"},\"error_y\":{\"color\":\"#2a3f5f\"},\"marker\":{\"line\":{\"color\":\"#E5ECF6\",\"width\":0.5},\"pattern\":{\"fillmode\":\"overlay\",\"size\":10,\"solidity\":0.2}},\"type\":\"bar\"}],\"scattergeo\":[{\"type\":\"scattergeo\",\"marker\":{\"colorbar\":{\"outlinewidth\":0,\"ticks\":\"\"}}}],\"scatterpolar\":[{\"type\":\"scatterpolar\",\"marker\":{\"colorbar\":{\"outlinewidth\":0,\"ticks\":\"\"}}}],\"histogram\":[{\"marker\":{\"pattern\":{\"fillmode\":\"overlay\",\"size\":10,\"solidity\":0.2}},\"type\":\"histogram\"}],\"scattergl\":[{\"type\":\"scattergl\",\"marker\":{\"colorbar\":{\"outlinewidth\":0,\"ticks\":\"\"}}}],\"scatter3d\":[{\"type\":\"scatter3d\",\"line\":{\"colorbar\":{\"outlinewidth\":0,\"ticks\":\"\"}},\"marker\":{\"colorbar\":{\"outlinewidth\":0,\"ticks\":\"\"}}}],\"scattermapbox\":[{\"type\":\"scattermapbox\",\"marker\":{\"colorbar\":{\"outlinewidth\":0,\"ticks\":\"\"}}}],\"scatterternary\":[{\"type\":\"scatterternary\",\"marker\":{\"colorbar\":{\"outlinewidth\":0,\"ticks\":\"\"}}}],\"scattercarpet\":[{\"type\":\"scattercarpet\",\"marker\":{\"colorbar\":{\"outlinewidth\":0,\"ticks\":\"\"}}}],\"carpet\":[{\"aaxis\":{\"endlinecolor\":\"#2a3f5f\",\"gridcolor\":\"white\",\"linecolor\":\"white\",\"minorgridcolor\":\"white\",\"startlinecolor\":\"#2a3f5f\"},\"baxis\":{\"endlinecolor\":\"#2a3f5f\",\"gridcolor\":\"white\",\"linecolor\":\"white\",\"minorgridcolor\":\"white\",\"startlinecolor\":\"#2a3f5f\"},\"type\":\"carpet\"}],\"table\":[{\"cells\":{\"fill\":{\"color\":\"#EBF0F8\"},\"line\":{\"color\":\"white\"}},\"header\":{\"fill\":{\"color\":\"#C8D4E3\"},\"line\":{\"color\":\"white\"}},\"type\":\"table\"}],\"barpolar\":[{\"marker\":{\"line\":{\"color\":\"#E5ECF6\",\"width\":0.5},\"pattern\":{\"fillmode\":\"overlay\",\"size\":10,\"solidity\":0.2}},\"type\":\"barpolar\"}],\"pie\":[{\"automargin\":true,\"type\":\"pie\"}]},\"layout\":{\"autotypenumbers\":\"strict\",\"colorway\":[\"#636efa\",\"#EF553B\",\"#00cc96\",\"#ab63fa\",\"#FFA15A\",\"#19d3f3\",\"#FF6692\",\"#B6E880\",\"#FF97FF\",\"#FECB52\"],\"font\":{\"color\":\"#2a3f5f\"},\"hovermode\":\"closest\",\"hoverlabel\":{\"align\":\"left\"},\"paper_bgcolor\":\"white\",\"plot_bgcolor\":\"#E5ECF6\",\"polar\":{\"bgcolor\":\"#E5ECF6\",\"angularaxis\":{\"gridcolor\":\"white\",\"linecolor\":\"white\",\"ticks\":\"\"},\"radialaxis\":{\"gridcolor\":\"white\",\"linecolor\":\"white\",\"ticks\":\"\"}},\"ternary\":{\"bgcolor\":\"#E5ECF6\",\"aaxis\":{\"gridcolor\":\"white\",\"linecolor\":\"white\",\"ticks\":\"\"},\"baxis\":{\"gridcolor\":\"white\",\"linecolor\":\"white\",\"ticks\":\"\"},\"caxis\":{\"gridcolor\":\"white\",\"linecolor\":\"white\",\"ticks\":\"\"}},\"coloraxis\":{\"colorbar\":{\"outlinewidth\":0,\"ticks\":\"\"}},\"colorscale\":{\"sequential\":[[0.0,\"#0d0887\"],[0.1111111111111111,\"#46039f\"],[0.2222222222222222,\"#7201a8\"],[0.3333333333333333,\"#9c179e\"],[0.4444444444444444,\"#bd3786\"],[0.5555555555555556,\"#d8576b\"],[0.6666666666666666,\"#ed7953\"],[0.7777777777777778,\"#fb9f3a\"],[0.8888888888888888,\"#fdca26\"],[1.0,\"#f0f921\"]],\"sequentialminus\":[[0.0,\"#0d0887\"],[0.1111111111111111,\"#46039f\"],[0.2222222222222222,\"#7201a8\"],[0.3333333333333333,\"#9c179e\"],[0.4444444444444444,\"#bd3786\"],[0.5555555555555556,\"#d8576b\"],[0.6666666666666666,\"#ed7953\"],[0.7777777777777778,\"#fb9f3a\"],[0.8888888888888888,\"#fdca26\"],[1.0,\"#f0f921\"]],\"diverging\":[[0,\"#8e0152\"],[0.1,\"#c51b7d\"],[0.2,\"#de77ae\"],[0.3,\"#f1b6da\"],[0.4,\"#fde0ef\"],[0.5,\"#f7f7f7\"],[0.6,\"#e6f5d0\"],[0.7,\"#b8e186\"],[0.8,\"#7fbc41\"],[0.9,\"#4d9221\"],[1,\"#276419\"]]},\"xaxis\":{\"gridcolor\":\"white\",\"linecolor\":\"white\",\"ticks\":\"\",\"title\":{\"standoff\":15},\"zerolinecolor\":\"white\",\"automargin\":true,\"zerolinewidth\":2},\"yaxis\":{\"gridcolor\":\"white\",\"linecolor\":\"white\",\"ticks\":\"\",\"title\":{\"standoff\":15},\"zerolinecolor\":\"white\",\"automargin\":true,\"zerolinewidth\":2},\"scene\":{\"xaxis\":{\"backgroundcolor\":\"#E5ECF6\",\"gridcolor\":\"white\",\"linecolor\":\"white\",\"showbackground\":true,\"ticks\":\"\",\"zerolinecolor\":\"white\",\"gridwidth\":2},\"yaxis\":{\"backgroundcolor\":\"#E5ECF6\",\"gridcolor\":\"white\",\"linecolor\":\"white\",\"showbackground\":true,\"ticks\":\"\",\"zerolinecolor\":\"white\",\"gridwidth\":2},\"zaxis\":{\"backgroundcolor\":\"#E5ECF6\",\"gridcolor\":\"white\",\"linecolor\":\"white\",\"showbackground\":true,\"ticks\":\"\",\"zerolinecolor\":\"white\",\"gridwidth\":2}},\"shapedefaults\":{\"line\":{\"color\":\"#2a3f5f\"}},\"annotationdefaults\":{\"arrowcolor\":\"#2a3f5f\",\"arrowhead\":0,\"arrowwidth\":1},\"geo\":{\"bgcolor\":\"white\",\"landcolor\":\"#E5ECF6\",\"subunitcolor\":\"white\",\"showland\":true,\"showlakes\":true,\"lakecolor\":\"white\"},\"title\":{\"x\":0.05},\"mapbox\":{\"style\":\"light\"}}},\"xaxis\":{\"anchor\":\"y\",\"domain\":[0.0,1.0],\"title\":{\"text\":\"Development\"},\"tickangle\":45},\"yaxis\":{\"anchor\":\"x\",\"domain\":[0.0,1.0],\"title\":{\"text\":\"Sold Price\"},\"tickvals\":[50000,100000,150000,200000,250000,300000,350000,400000,450000,500000,550000,600000],\"ticktext\":[\"$50,000\",\"$100,000\",\"$150,000\",\"$200,000\",\"$250,000\",\"$300,000\",\"$350,000\",\"$400,000\",\"$450,000\",\"$500,000\",\"$550,000\",\"$600,000\"]},\"legend\":{\"title\":{\"text\":\"Appearance_categorical\"},\"tracegroupgap\":0},\"title\":{\"text\":\"One Bedrooms Sold Price v Condition\"},\"width\":1000,\"height\":600,\"plot_bgcolor\":\"lightblue\"},                        {\"responsive\": true}                    ).then(function(){\n",
              "                            \n",
              "var gd = document.getElementById('08159695-3358-4341-8677-e0e1275229b7');\n",
              "var x = new MutationObserver(function (mutations, observer) {{\n",
              "        var display = window.getComputedStyle(gd).display;\n",
              "        if (!display || display === 'none') {{\n",
              "            console.log([gd, 'removed!']);\n",
              "            Plotly.purge(gd);\n",
              "            observer.disconnect();\n",
              "        }}\n",
              "}});\n",
              "\n",
              "// Listen for the removal of the full notebook cells\n",
              "var notebookContainer = gd.closest('#notebook-container');\n",
              "if (notebookContainer) {{\n",
              "    x.observe(notebookContainer, {childList: true});\n",
              "}}\n",
              "\n",
              "// Listen for the clearing of the current output cell\n",
              "var outputEl = gd.closest('.output');\n",
              "if (outputEl) {{\n",
              "    x.observe(outputEl, {childList: true});\n",
              "}}\n",
              "\n",
              "                        })                };                            </script>        </div>\n",
              "</body>\n",
              "</html>"
            ]
          },
          "metadata": {},
          "output_type": "display_data"
        }
      ],
      "source": [
        "One_Bedroom = condo[condo['Bedrooms'] == 1]\n",
        "\n",
        "# Calculate the y-axis tick values (starting at $50,000 and incrementing by $50,000)\n",
        "min_price = One_Bedroom['Sold_Price'].min()\n",
        "max_price = One_Bedroom['Sold_Price'].max()\n",
        "y_ticks = list(range(int(min_price) // 50000 * 50000 + 50000, int(max_price) + 50000, 50000))\n",
        "\n",
        "# Create the scatter plot first\n",
        "fig = px.scatter(data_frame=One_Bedroom, x='Development', y='Sold_Price', color='Appearance_categorical',\n",
        "                 title='One Bedrooms Sold Price v Condition',\n",
        "                 labels={'Development': 'Development', 'Sold_Price': 'Sold Price', 'Town': 'Town'},\n",
        "                 hover_data=['Development'])\n",
        "\n",
        "# Show the legend\n",
        "fig.update_traces(showlegend=True)\n",
        "\n",
        "# Update the x-axis labels to be rotated 180 degrees\n",
        "fig.update_layout(xaxis=dict(tickangle=45))\n",
        "\n",
        "# Set the y-axis tick values and labels\n",
        "fig.update_yaxes(\n",
        "    tickvals=y_ticks,\n",
        "    ticktext=[f\"${tick:,}\" for tick in y_ticks]\n",
        ")\n",
        "# fig.update_layout(template='plotly_white')\n",
        "fig.update_layout(width=1000)\n",
        "fig.update_layout(height= 600)\n",
        "\n",
        "\n",
        "# Change the background color to black\n",
        "fig.update_layout(plot_bgcolor='lightblue')"
      ]
    },
    {
      "cell_type": "markdown",
      "metadata": {
        "id": "wEXHshhWIFEQ"
      },
      "source": [
        "# Selling Price v Floor Level"
      ]
    },
    {
      "cell_type": "code",
      "execution_count": null,
      "metadata": {
        "colab": {
          "base_uri": "https://localhost:8080/"
        },
        "id": "Z6wlYzysIbxb",
        "outputId": "93a765a7-6c86-4c46-fd46-ca72752c1e9f"
      },
      "outputs": [
        {
          "name": "stdout",
          "output_type": "stream",
          "text": [
            "<class 'pandas.core.frame.DataFrame'>\n",
            "Int64Index: 1367 entries, 0 to 1366\n",
            "Data columns (total 18 columns):\n",
            " #   Column                  Non-Null Count  Dtype         \n",
            "---  ------                  --------------  -----         \n",
            " 0   ML#                     1367 non-null   int64         \n",
            " 1   Style                   1361 non-null   object        \n",
            " 2   Development             1367 non-null   object        \n",
            " 3   Sold_Price              1367 non-null   int64         \n",
            " 4   Baths_Half              1367 non-null   int64         \n",
            " 5   Bath                    1367 non-null   int64         \n",
            " 6   Bedrooms                1367 non-null   category      \n",
            " 7   Appearance              974 non-null    object        \n",
            " 8   Unit_on_Floor_#         1367 non-null   int64         \n",
            " 9   Days_On_Market          1367 non-null   int64         \n",
            " 10  Contract_Date           1367 non-null   datetime64[ns]\n",
            " 11  Listing_Price           1367 non-null   int64         \n",
            " 12  Town                    1367 non-null   object        \n",
            " 13  Appearance_Ordinal      1367 non-null   category      \n",
            " 14  Appearance_categorical  1147 non-null   category      \n",
            " 15  Year                    1367 non-null   datetime64[ns]\n",
            " 16  Month_Year              1367 non-null   datetime64[ns]\n",
            " 17  Month                   1367 non-null   object        \n",
            "dtypes: category(3), datetime64[ns](3), int64(7), object(5)\n",
            "memory usage: 175.4+ KB\n"
          ]
        }
      ],
      "source": [
        "condo.info()"
      ]
    },
    {
      "cell_type": "code",
      "execution_count": null,
      "metadata": {
        "colab": {
          "base_uri": "https://localhost:8080/",
          "height": 637
        },
        "id": "pk3iyHAxRkfX",
        "outputId": "bc10cf05-2a5e-4f86-f270-02c259d1bd1f"
      },
      "outputs": [
        {
          "data": {
            "text/html": [
              "<html>\n",
              "<head><meta charset=\"utf-8\" /></head>\n",
              "<body>\n",
              "    <div>            <script src=\"https://cdnjs.cloudflare.com/ajax/libs/mathjax/2.7.5/MathJax.js?config=TeX-AMS-MML_SVG\"></script><script type=\"text/javascript\">if (window.MathJax && window.MathJax.Hub && window.MathJax.Hub.Config) {window.MathJax.Hub.Config({SVG: {font: \"STIX-Web\"}});}</script>                <script type=\"text/javascript\">window.PlotlyConfig = {MathJaxConfig: 'local'};</script>\n",
              "        <script charset=\"utf-8\" src=\"https://cdn.plot.ly/plotly-2.24.1.min.js\"></script>                <div id=\"2a6fbce6-58d9-4646-8ef7-8a1ccd0e0a53\" class=\"plotly-graph-div\" style=\"height:600px; width:1000px;\"></div>            <script type=\"text/javascript\">                                    window.PLOTLYENV=window.PLOTLYENV || {};                                    if (document.getElementById(\"2a6fbce6-58d9-4646-8ef7-8a1ccd0e0a53\")) {                    Plotly.newPlot(                        \"2a6fbce6-58d9-4646-8ef7-8a1ccd0e0a53\",                        [{\"hovertemplate\":\"Development=%{x}\\u003cbr\\u003eSold Price=%{y}\\u003cbr\\u003eUnit_on_Floor_#=%{marker.color}\\u003cextra\\u003e\\u003c\\u002fextra\\u003e\",\"legendgroup\":\"\",\"marker\":{\"color\":[2,1,1,2,2,1,1,1,1,1,1,1,1,1,1,1,1,1,1,1,1,1,1,1,1,1,1,1,1,1,1,1,1,1,1,1,1,1,1,1,1,1,1,1,1,1,1,1,1,1,1,1,0,0,0,0,1,1,1,1,1,1,1,1,1,1,1,1,1,1,1,1,1,1,1,1,1,1,1,1,1,1,1,1,1,1,1,1,1,1,1,1,1,1,1,1,1,1,1,1,1,1,1,1,1,1,1,1,1,1,1,1,1,1,1,1,1,1,1,1,1,1,1,1,1,1,1,1,1,1,1,1,1,1,1,1,1,1,1,1,1,1,1,1,1,1,1,1,1,1,1,1,1,1,1,1,1,1,1,1,1,1,1,1,1,1,1,1,1,1,1,1,1,1,1,1,1,1,1,1,1,1,1,1,1,1,1,1,1,1,1,1,1,1,1,1,1,1,1,1,1,1,1,1,1,1,1,1,1,1,1,1,1,1,1,1,1,1,1,1,1,2,2,2,2,2,2,2,2,2,2,2,2,2,2,2,2,2,2,2,2,2,2,2,2,2,2,2,2,2,2,2,2,2,2,2,2,1,1,1,1,1,1,1,1,1,1,1,0,1,1,1,1,1,1,1,1,1,1,1,1,1,1,1,1,1,1,1,1,1,1,1,1,1,1,1,1,1,1,1,1,1,1,2,2,2,2,2,2,2,2,2,2,2,2,2,2,2,2,2,2,2,2,2,2,2,2,2,2,2,2,2,2,2,2,2,2,2,2,2,2,2,2,2,1,1,1,1,1,1,1,1,1,1,1,1,1,1,1,1,1,1,1,1,1,1,1,1,1,1,1,1,1,1,1,1,1,1,1,1,1,1,1,1,1,1,1,1,1,1,1,1,1,1,1,1,1,1,1,1,1,1,1,1,1,1,1,1,1,1,2,2,2,1,1,1,1,1,1,1,1,1,1,1,1,1,1,1,1,1,2,2,2,2,2,1,1,1,1,1,1,1,1,1,1,1,1,1,2,2,2,2,2,2,2,2,2,2,2,2,2,2,2,2,2,1,1,1,1,1,1,1,2,2,2,2,2,1,1,1,1,1,1,1,2,2,2,0,1,1,1,1,1,1,1,1,1,1,1,1,1,1,1,1,1,1,1,1,1,1,1,1,1,1,1,1,1,1,1,1,1,1,1,1,1,1,1,1,1,1,1,1,1,1,1,1,1,1,1,1,1,1,1,1,1,1,1,1,1,1,1,1,1,1,1,1,1,1,1,1,1,1,1,1,1,1,1,1,1,1,1,1,1,1,1,1,1,1,1,1,1,1,1,1,1,1,1,1,1,1,1,1,1,1,1,1,1,1,1,1,1,1,1,1,2,1,1,1,1,1,1,2,2,2,2,2,2,0,1,1,1,1,1,1,1,1,1,1,1,1,1,1,1,1,1,1,1,1,1,1,1,1,1,1,2,2,2,2,2,2,2,2,2,2,2,2,2,2,2,2,2,2,2,2,0,0,1,1,1,1,1,1,1,1,1,1,1,1,1,1,1,1,1,1,1,1,1,1,1,1,1,1,1,2,2,2,2,2,2,2,2,2,2,1,1,1,1,1,1,2,2,2,2,0,1,1,1,1,1,1,1,1,2,1,2,1,1,1,1,1,1,1,1,0,0,1,1,1,1,1,1,1,1,1,1,1,1,1,1,1,1,1,1,1,1,1,1,1,1,1,1,1,1,1,1,1,1,1,1,1,1,1,1,1,1,1,1,1,1,1,1,1,1,1,1,1,1,1,1,1,1,1,1,1,1,1,1,1,1,1,1,1,1,1,1,1,1,1,1,1,1,1,1,1,1,1,1,1,1,1,1,1,1,1,1,1,1,1,1,1,2,2,2,2,2,2,2,0,1,1,1,1,1,1,1,1,1,1,1,1,1,1,1,1,1,1,1,1,1,1,1,1,1,1,1,1,1,1,1,1,1,1,1,1,1,1,1,1,1,1,1,1,1,1,1,1,1,1,1,1,1,1,1,1,1,1,1,1,1,1,1,1,1,1,1,1,1,1,2,2,2,2,2,2,2,2,2,2,2,2,2,2,2,2,2,2,2,2,2,2,2,2,2,2,2,2,2,2,2,2,2,2,2,2,2,2,2,2,2,2,2,2,2,2,1,1,1,1,1,2,2,2,1,1,1,1,1,1,1,1,1,1,1,1,1,1,1,1,1,1,1,1,1,1,1,1,2,2,2,2,2,2,2,2,2,2,2,2,2,2,2,2,1,1,1,1,1,1,1,1,1,1,1,1,1,2,2,2,2,2,2,2,2,0,0,1,1,1,1,1,1,1,1,1,1,1,1,1,1,1,1,1,1,1,1,1,1,1,1,1,1,1,1,1,1,1,1,1,1,2,2,0,1,1,1,1,1,1,1,1,1,1,1,1,1,1,1,1,1,1,1,1,1,1,1,1,1,1,1,1,1,1,1,1,1,1,1,1,1,1,1,1,1,1,1,1,1,1,1,1,1,1,1,1,1,1,1,1,1,1,1,1,1,1,1,1,1,1,1,1,1,1,1,1,1,1,1,1,1,1,1,1,1,1,1,1,1,1,1,1,1,1,1,1,1,1,1,1,1,1,1,1,1,1,1,1,1,1,1,1,2,2,2,2,2,2,2,2,2,2,2,2,2,2,2,2,2,2,2,2,2,2,2,2,2,2,2,2,2,2,2,2,2,2,2,2,2,2,2,2,2,2,2,2,2,2,2,2,2,2,2,2,2,2,2,2,2,2,2,2,2,2,2,2,2,2,2,2,2,2,2,2,2,2,2,2,2,2,2,2,2,2,2,2,2,1,1,1,1,2,2,2,2,2,2,1,1,1,1,1,1,1,1,1,1,1,1,1,1,1,1,1,1,1,1,1,1,1,1,1,1,1,1,1,1,1,1,1,1,1,1,1,1,1,1,1,1,1,1,1,1,1,1,1,1,1,2,2,2,2,1,1,1,1,1,1,1,1,1,1,1,1,1,2,2,2,2,2,2,2,2,2,2,2,2,2,2,2,2,1,1,1,1,1,1,1,1,1,1,1,1,1,2,2,2,2,2],\"coloraxis\":\"coloraxis\",\"symbol\":\"circle\"},\"mode\":\"markers\",\"name\":\"\",\"showlegend\":true,\"x\":[\"123 Main St\",\"123 Main St\",\"123 Main St\",\"123 Main St\",\"123 Main St\",\"123 Main St\",\"Beach Manor\",\"Beach Manor\",\"Brookstown\",\"Bucolic\",\"Bucolic\",\"Bucolic\",\"Bucolic\",\"Bucolic\",\"Bucolic\",\"Bucolic\",\"Bucolic\",\"Bucolic\",\"Bucolic\",\"Bucolic\",\"Bucolic\",\"Bucolic\",\"Bucolic\",\"Bucolic\",\"Bucolic\",\"Bucolic\",\"Bucolic\",\"Bucolic\",\"Bucolic\",\"Bucolic\",\"Bucolic\",\"Bucolic\",\"Bucolic\",\"Bucolic\",\"Bucolic\",\"Bucolic\",\"Bucolic\",\"Bucolic\",\"Bucolic\",\"Bucolic\",\"Bucolic\",\"Bucolic\",\"Bucolic\",\"Bucolic\",\"Bucolic\",\"Bucolic\",\"Bucolic\",\"Bucolic\",\"Bucolic\",\"Bucolic\",\"Cambridge\",\"Cambridge\",\"Cambridge\",\"Cambridge\",\"Cambridge\",\"Cambridge\",\"Cambridge\",\"Cambridge\",\"Cambridge\",\"Cambridge\",\"Cambridge\",\"Cambridge\",\"Cambridge\",\"Cambridge\",\"Cambridge\",\"Cambridge\",\"Cambridge\",\"Cambridge\",\"Cambridge\",\"Cambridge\",\"Cambridge\",\"Cambridge\",\"Cambridge\",\"Cambridge\",\"Cambridge\",\"Cambridge\",\"Cambridge\",\"Cambridge\",\"Cambridge\",\"Cambridge\",\"Cambridge\",\"Cambridge\",\"Cambridge\",\"Cambridge\",\"Cambridge\",\"Cambridge\",\"Cambridge\",\"Cambridge\",\"Cambridge\",\"Cambridge\",\"Cambridge\",\"Cambridge\",\"Cambridge\",\"Cambridge\",\"Cambridge\",\"Cambridge\",\"Cambridge\",\"Cambridge\",\"Cambridge\",\"Cambridge\",\"Cambridge\",\"Cambridge\",\"Cambridge\",\"Cambridge\",\"Cambridge\",\"Cambridge\",\"Cambridge\",\"Cambridge\",\"Cambridge\",\"Cambridge\",\"Cambridge\",\"Cambridge\",\"Cambridge\",\"Cambridge\",\"Cambridge\",\"Cambridge\",\"Cambridge\",\"Cambridge\",\"Cambridge\",\"Cambridge\",\"Cambridge\",\"Cambridge\",\"Cambridge\",\"Cambridge\",\"Cambridge\",\"Cambridge\",\"Cambridge\",\"Cambridge\",\"Cambridge\",\"Cambridge\",\"Cambridge\",\"Cambridge\",\"Cambridge\",\"Cambridge\",\"Cambridge\",\"Cambridge\",\"Cambridge\",\"Cambridge\",\"Cambridge\",\"Cambridge\",\"Cambridge\",\"Cambridge\",\"Cambridge\",\"Cambridge\",\"Cambridge\",\"Cambridge\",\"Cambridge\",\"Cambridge\",\"Cambridge\",\"Cambridge\",\"Cambridge\",\"Cambridge\",\"Cambridge\",\"Cambridge\",\"Cambridge\",\"Cambridge\",\"Cambridge\",\"Cambridge\",\"Cambridge\",\"Cambridge\",\"Cambridge\",\"Cambridge\",\"Cambridge\",\"Cambridge\",\"Cambridge\",\"Cambridge\",\"Cambridge\",\"Cambridge\",\"Cambridge\",\"Cambridge\",\"Cambridge\",\"Cambridge\",\"Cambridge\",\"Cambridge\",\"Cambridge\",\"Cambridge\",\"Cambridge\",\"Cambridge\",\"Cambridge\",\"Cambridge\",\"Cambridge\",\"Cambridge\",\"Cambridge\",\"Cambridge\",\"Cambridge\",\"Cambridge\",\"Cambridge\",\"Cambridge\",\"Cambridge\",\"Cambridge\",\"Cambridge\",\"Cambridge\",\"Cambridge\",\"Cambridge\",\"Cambridge\",\"Cambridge\",\"Cambridge\",\"Cambridge\",\"Cambridge\",\"Cambridge\",\"Cambridge\",\"Cambridge\",\"Cambridge\",\"Cambridge\",\"Cambridge\",\"Cambridge\",\"Cambridge\",\"Cambridge\",\"Cambridge\",\"Cambridge\",\"Cambridge\",\"Cambridge\",\"Cambridge\",\"Cambridge\",\"Cambridge\",\"Cambridge\",\"Cambridge\",\"Cambridge\",\"Cambridge\",\"Cambridge\",\"Cambridge\",\"Cambridge\",\"Cambridge\",\"Cambridge\",\"Cambridge\",\"Cambridge\",\"Cambridge\",\"Cambridge\",\"Cambridge\",\"Cambridge\",\"Cambridge\",\"Cambridge\",\"Cambridge\",\"Cambridge\",\"Cambridge\",\"Cambridge\",\"Cambridge\",\"Cambridge\",\"Cambridge\",\"Cambridge\",\"Cambridge\",\"Cambridge\",\"Cambridge\",\"Cambridge\",\"Cambridge\",\"Cambridge\",\"Cambridge\",\"Cambridge\",\"Cambridge\",\"Cambridge\",\"Cambridge\",\"Cambridge\",\"Cambridge\",\"Cambridge\",\"Cambridge\",\"Cambridge\",\"Cambridge\",\"Cambridge\",\"Cambridge\",\"Cambridge\",\"Capital Heights\",\"Capital Heights\",\"Capital Heights\",\"Capital Heights\",\"Capital Heights\",\"Capital Heights\",\"Capital Heights\",\"Capital Heights\",\"Capital Heights\",\"Clover\",\"Clover\",\"Clover\",\"Clover\",\"Clover\",\"Clover\",\"Clover\",\"Clover\",\"Clover\",\"Clover\",\"Clover\",\"Clover\",\"Clover\",\"Clover\",\"Clover\",\"Clover\",\"Clover\",\"Clover\",\"Clover\",\"Clover\",\"Clover\",\"Clover\",\"Clover\",\"Clover\",\"Clover\",\"Clover\",\"Clover\",\"Clover\",\"Clover\",\"Clover\",\"Clover\",\"Clover\",\"Clover\",\"Clover\",\"Clover\",\"Clover\",\"Clover\",\"Clover\",\"Clover\",\"Clover\",\"Clover\",\"Clover\",\"Clover\",\"Clover\",\"Clover\",\"Clover\",\"Clover\",\"Clover\",\"Clover\",\"Clover\",\"Clover\",\"Clover\",\"Clover\",\"Clover\",\"Clover\",\"Clover\",\"Clover\",\"Clover\",\"Clover\",\"Clover\",\"Clover\",\"Clover\",\"Clover\",\"Clover\",\"Clover\",\"Clover\",\"Clover\",\"Clover\",\"Clover\",\"Clover\",\"Clover\",\"Clover\",\"Clover\",\"Clover\",\"Clover\",\"Cranberry\",\"Cranberry\",\"Cranberry\",\"Cranberry\",\"Cranberry\",\"Crewville\",\"Crewville\",\"Crewville\",\"Crewville\",\"Crewville\",\"Crewville\",\"Crewville\",\"Crewville\",\"Crewville\",\"Crewville\",\"Crewville\",\"Crewville\",\"Crewville\",\"Crewville\",\"Crewville\",\"Crewville\",\"Crewville\",\"Crewville\",\"Crewville\",\"Crewville\",\"Crewville\",\"Crewville\",\"Crewville\",\"Crewville\",\"Crewville\",\"Crewville\",\"Crewville\",\"Crewville\",\"Crewville\",\"Crewville\",\"Crewville\",\"Crewville\",\"Crewville\",\"Crewville\",\"Crewville\",\"Crewville\",\"Crewville\",\"Crewville\",\"Crewville\",\"Crewville\",\"Crewville\",\"Crewville\",\"Crewville\",\"Crewville\",\"Crewville\",\"Crewville\",\"Crewville\",\"Crewville\",\"Crewville\",\"Crewville\",\"Crewville\",\"Crewville\",\"Crewville\",\"Crewville\",\"Crewville\",\"Crewville\",\"Crewville\",\"Crewville\",\"Crewville\",\"Crewville\",\"Crewville\",\"Crewville\",\"Crewville\",\"Crewville\",\"Eastown\",\"Eastown\",\"Eastown\",\"Eastown\",\"Eastown\",\"Eastown\",\"Eastown\",\"Eastown\",\"Eastown\",\"Eastown\",\"Eastown\",\"Eastown\",\"Eastown\",\"Eastown\",\"Eastown\",\"Eastown\",\"Eastown\",\"Eastown\",\"Eastown\",\"Eastown\",\"Eastown\",\"Eastown\",\"Forestville\",\"Forestville\",\"Forestville\",\"Forestville\",\"Forestville\",\"Forestville\",\"Forestville\",\"Forestville\",\"Forestville\",\"Forestville\",\"Forestville\",\"Forestville\",\"Forestville\",\"Forestville\",\"Forestville\",\"Forestville\",\"Forestville\",\"Forestville\",\"Forestville\",\"Forestville\",\"Forestville\",\"Forestville\",\"Forestville\",\"Forestville\",\"Forestville\",\"Forestville\",\"Forestville\",\"Forestville\",\"Forestville\",\"Forestville\",\"Glentrees\",\"Glentrees\",\"Glentrees\",\"Glentrees\",\"Glentrees\",\"Glentrees\",\"Glentrees\",\"Glentrees\",\"Glentrees\",\"Glentrees\",\"Glentrees\",\"Glentrees\",\"Golddream\",\"Golddream\",\"Golddream\",\"Golddream\",\"Golddream\",\"Golddream\",\"Golddream\",\"Golddream\",\"Golddream\",\"Golddream\",\"Greentown\",\"Greentown\",\"Greentown\",\"Greentown\",\"Greentown\",\"Greentown\",\"Greentown\",\"Greentown\",\"Greentown\",\"Greentown\",\"Greentown\",\"Greentown\",\"Greentown\",\"Greentown\",\"Greentown\",\"Greentown\",\"Greentown\",\"Greentown\",\"Greentown\",\"Greentown\",\"Greentown\",\"Greentown\",\"Greentown\",\"Greentown\",\"Greentown\",\"Greentown\",\"Greentown\",\"Greentown\",\"Greentown\",\"Greentown\",\"Greentown\",\"Greentown\",\"Greentown\",\"Greentown\",\"Greentown\",\"Greentown\",\"Greentown\",\"Greentown\",\"Greentown\",\"Greentown\",\"Greentown\",\"Greentown\",\"Greentown\",\"Greentown\",\"Greentown\",\"Greentown\",\"Greentown\",\"Greentown\",\"Greentown\",\"Greentown\",\"Greentown\",\"Greentown\",\"Greentown\",\"Greentown\",\"Greentown\",\"Greentown\",\"Greentown\",\"Greentown\",\"Greentown\",\"Greentown\",\"Greentown\",\"Greentown\",\"Greentown\",\"Greentown\",\"Greentown\",\"Greentown\",\"Greentown\",\"Greentown\",\"Greentown\",\"Greentown\",\"Greentown\",\"Greentown\",\"Greentown\",\"Greentown\",\"Greentown\",\"Greentown\",\"Greentown\",\"Greentown\",\"Greentown\",\"Greentown\",\"Greentown\",\"Greentown\",\"Greentown\",\"Greentown\",\"Greentown\",\"Greentown\",\"Greentown\",\"Greentown\",\"Greentown\",\"Greentown\",\"Greentown\",\"Greentown\",\"Greentown\",\"Greentown\",\"Greentown\",\"Greentown\",\"Greentown\",\"Greentown\",\"Greentown\",\"Greentown\",\"Greentown\",\"Greentown\",\"Greentown\",\"Greentown\",\"Greentown\",\"Greentown\",\"Greentown\",\"Greentown\",\"Greentown\",\"Greentown\",\"Greentown\",\"Greentown\",\"Greentown\",\"Greentown\",\"Greentown\",\"Greentown\",\"Greentown\",\"Greentown\",\"Hamptown\",\"Hamptown\",\"Hamptown\",\"Hamptown\",\"Hamptown\",\"Hamptown\",\"Hamptown\",\"Hamptown\",\"Hamptown\",\"Hamptown\",\"Hamptown\",\"Hamptown\",\"Hershare\",\"Hershare\",\"Hershare\",\"Hershare\",\"Hershare\",\"Hershare\",\"Hershare\",\"Hershare\",\"Jaggedtown\",\"Jaggedtown\",\"Jaggedtown\",\"Jaggedtown\",\"Jaggedtown\",\"Jaggedtown\",\"Jaggedtown\",\"Jaggedtown\",\"Jaggedtown\",\"Jaggedtown\",\"Jaggedtown\",\"Jaggedtown\",\"Jaggedtown\",\"Jaggedtown\",\"Jaggedtown\",\"Jaggedtown\",\"Jaggedtown\",\"Jaggedtown\",\"Jaggedtown\",\"Jaggedtown\",\"Jaggedtown\",\"Jaggedtown\",\"Jaggedtown\",\"Jaggedtown\",\"Jaggedtown\",\"Jaggedtown\",\"Jaggedtown\",\"Jaggedtown\",\"Jaggedtown\",\"Jaggedtown\",\"Jaggedtown\",\"Jaggedtown\",\"Jaggedtown\",\"Jaggedtown\",\"Jaggedtown\",\"Jaggedtown\",\"Jaggedtown\",\"Jaggedtown\",\"Jaggedtown\",\"Landings\",\"Landings\",\"Landings\",\"Landings\",\"Landings\",\"Landings\",\"Landings\",\"Landings\",\"Landings\",\"Landings\",\"Landings\",\"Landings\",\"Landings\",\"Landings\",\"Landings\",\"Landings\",\"Landings\",\"Landings\",\"Landings\",\"Landings\",\"Landings\",\"Landings\",\"Landings\",\"Landings\",\"Landings\",\"Landings\",\"Landings\",\"Landings\",\"Landings\",\"Landings\",\"Landings\",\"Landings\",\"Landings\",\"Landings\",\"Landings\",\"Landings\",\"Landings\",\"Landings\",\"Landings\",\"Laurel Vista\",\"Laurel Vista\",\"Laurel Vista\",\"Laurel Vista\",\"Laurel Vista\",\"Laurel Vista\",\"Laurel Vista\",\"Laurel Vista\",\"Laurel Vista\",\"Laurell Vsta\",\"Makerstown\",\"Makerstown\",\"Makerstown\",\"Makerstown\",\"Makerstown\",\"Makerstown\",\"Makerstown\",\"Makerstown\",\"Makerstown\",\"Makerstown\",\"Makerstowne\",\"Makerstsown\",\"Makrstown\",\"Mapletown\",\"Mapletown\",\"Mapletown\",\"Mapletown\",\"Mapletown\",\"Mapletown\",\"Mapletown\",\"Oxford\",\"Oxford\",\"Oxford\",\"Oxford\",\"Oxford\",\"Oxford\",\"Oxford\",\"Oxford\",\"Oxford\",\"Oxford\",\"Oxford\",\"Oxford\",\"Oxford\",\"Oxford\",\"Oxford\",\"Oxford\",\"Oxford\",\"Oxford\",\"Oxford\",\"Oxford\",\"Oxford\",\"Oxford\",\"Oxford\",\"Oxford\",\"Oxford\",\"Oxford\",\"Oxford\",\"Oxford\",\"Oxford\",\"Oxford\",\"Oxford\",\"Oxford\",\"Oxford\",\"Oxford\",\"Oxford\",\"Oxford\",\"Oxford\",\"Oxford\",\"Oxford\",\"Oxford\",\"Oxford\",\"Oxford\",\"Oxford\",\"Oxford\",\"Oxford\",\"Oxford\",\"Oxford\",\"Oxford\",\"Oxford\",\"Oxford\",\"Oxford\",\"Oxford\",\"Oxford\",\"Oxford\",\"Oxford\",\"Oxford\",\"Oxford\",\"Oxford\",\"Oxford\",\"Oxford\",\"Oxford\",\"Oxford\",\"Oxford\",\"Oxford\",\"Oxford\",\"Oxford\",\"Oxford\",\"Oxford\",\"Oxford\",\"Oxford\",\"Oxford\",\"Oxford\",\"Oxford\",\"Oxford\",\"Oxford\",\"Oxford\",\"Oxford\",\"Oxford\",\"Oxford\",\"Oxford\",\"Oxford\",\"Oxford\",\"Oxford\",\"Oxford\",\"Oxford\",\"Oxford\",\"Oxford\",\"Oxford\",\"Oxford\",\"Oxford\",\"Oxford\",\"Oxford\",\"Oxford\",\"Oxford\",\"Oxford\",\"Oxford\",\"Oxford\",\"Oxford\",\"Oxford\",\"Oxford\",\"Oxford\",\"Oxford\",\"Oxford\",\"Oxford\",\"Parliment\",\"Parliment\",\"Parliment\",\"Parliment\",\"Parliment\",\"Parliment\",\"Parliment\",\"Parliment\",\"Parliment\",\"Parliment\",\"Parliment\",\"Parliment\",\"Parliment\",\"Parliment\",\"Parliment\",\"Parliment\",\"Parliment\",\"Parliment\",\"Parliment\",\"Parliment\",\"Parliment\",\"Parliment\",\"Parliment\",\"Parliment\",\"Parliment\",\"Parliment\",\"Parliment\",\"Parliment\",\"Parliment\",\"Parliment\",\"Parliment\",\"Parliment\",\"Parliment\",\"Parliment\",\"Parliment\",\"Parliment\",\"Parliment\",\"Parliment\",\"Parliment\",\"Parliment\",\"Parliment\",\"Parliment\",\"Parliment\",\"Parliment\",\"Parliment\",\"Parliment\",\"Parliment\",\"Parliment\",\"Parliment\",\"Parliment\",\"Parliment\",\"Parliment\",\"Parliment\",\"Parliment\",\"Parliment\",\"Parliment\",\"Parliment\",\"Parliment\",\"Parliment\",\"Parliment\",\"Parliment\",\"Parliment\",\"Parliment\",\"Parliment\",\"Parliment\",\"Parliment\",\"Parliment\",\"Parliment\",\"Parliment\",\"Parliment\",\"Parliment\",\"Parliment\",\"Parliment\",\"Parliment\",\"Parliment\",\"Parliment\",\"Parliment\",\"Parliment\",\"Parliment\",\"Parliment\",\"Parliment\",\"Parliment\",\"Parliment\",\"Parliment\",\"Parliment\",\"Parliment\",\"Parliment\",\"Parliment\",\"Parliment\",\"Parliment\",\"Parliment\",\"Parliment\",\"Parliment\",\"Parliment\",\"Parliment\",\"Parliment\",\"Parliment\",\"Parliment\",\"Parliment\",\"Parliment\",\"Parliment\",\"Parliment\",\"Parliment\",\"Parliment\",\"Parliment\",\"Parliment\",\"Parliment\",\"Parliment\",\"Parliment\",\"Parliment\",\"Parliment\",\"Parliment\",\"Parliment\",\"Parliment\",\"Parliment\",\"Parliment\",\"Parliment\",\"Peninusula\",\"Peninusula\",\"Peninusula\",\"Peninusula\",\"Peninusula\",\"Peninusula\",\"Peninusula\",\"Peninusula\",\"Pilgramstate\",\"Pilgramstate\",\"Pilgramstate\",\"Pilgramstate\",\"Pilgramstate\",\"Pilgramstate\",\"Pilgramstate\",\"Pilgramstate\",\"Pilgramstate\",\"Pilgramstate\",\"Pilgramstate\",\"Pilgramstate\",\"Pilgramstate\",\"Pilgramstate\",\"Pilgramstate\",\"Pilgramstate\",\"Pilgramstate\",\"Pilgramstate\",\"Pilgramstate\",\"Pilgramstate\",\"Pilgramstate\",\"Pilgramstate\",\"Pilgramstate\",\"Pilgramstate\",\"Pilgramstate\",\"Pilgramstate\",\"Pilgramstate\",\"Pilgramstate\",\"Pilgramstate\",\"Pilgramstate\",\"Pilgramstate\",\"Pilgramstate\",\"Pilgramstate\",\"Pilgramstate\",\"Pilgramstate\",\"Pilgramstate\",\"Pilgramstate\",\"Pilgramstate\",\"Pilgramstate\",\"Pilgramstate\",\"Provance\",\"Provance\",\"Provance\",\"Provance\",\"Provance\",\"Provance\",\"Provance\",\"Provance\",\"Provance\",\"Provance\",\"Provance\",\"Provance\",\"Provance\",\"Provance\",\"Provance\",\"Provance\",\"Provance\",\"Provance\",\"Provance\",\"Provance\",\"Provance\",\"Pursuit\",\"Pursuit\",\"Pursuit\",\"Pursuit\",\"Pursuit\",\"Pursuit\",\"Pursuit\",\"Pursuit\",\"Pursuit\",\"Pursuit\",\"Pursuit\",\"Pursuit\",\"Pursuit\",\"Pursuit\",\"Pursuit\",\"Pursuit\",\"Pursuit\",\"Pursuit\",\"Pursuit\",\"Pursuit\",\"Pursuit\",\"Pursuit\",\"Pursuit\",\"Pursuit\",\"Pursuit\",\"Pursuit\",\"Pursuit\",\"Pursuit\",\"Pursuit\",\"Pursuit\",\"Pursuit\",\"Pursuit\",\"Pursuit\",\"Pursuit\",\"Pursuit\",\"Pursuit\",\"Pursuit\",\"Pursuit\",\"Southland\",\"Southland\",\"Southland\",\"Southland\",\"Southland\",\"Southland\",\"Southland\",\"Southland\",\"Southland\",\"Southland\",\"Southland\",\"Southland\",\"Southland\",\"Southland\",\"Southland\",\"Southland\",\"Southland\",\"Southland\",\"Southland\",\"Southland\",\"Southland\",\"Southland\",\"Southland\",\"Southland\",\"Southland\",\"Southland\",\"Southland\",\"Southland\",\"Southland\",\"Southland\",\"Southland\",\"Southland\",\"Southland\",\"Southland\",\"Southland\",\"Southland\",\"Southland\",\"Southland\",\"Southland\",\"Southland\",\"Southland\",\"Southland\",\"Southland\",\"Southland\",\"Southland\",\"Southland\",\"Southland\",\"Southland\",\"Southland\",\"Southland\",\"Southland\",\"Southland\",\"Southland\",\"Southland\",\"Southland\",\"Southland\",\"Southland\",\"Southland\",\"Southland\",\"Southland\",\"Southland\",\"Southland\",\"Southland\",\"Southland\",\"Southland\",\"Southland\",\"Southland\",\"Southland\",\"Southland\",\"Southland\",\"Southland\",\"Southland\",\"Southland\",\"Southland\",\"Southland\",\"Southland\",\"Southland\",\"Southland\",\"Southland\",\"Southland\",\"Southland\",\"Southland\",\"Southland\",\"Southland\",\"Southland\",\"Southland\",\"Southland\",\"Southland\",\"Southland\",\"Southland\",\"Southland\",\"Southland\",\"Southland\",\"Southland\",\"Southland\",\"Southland\",\"Southland\",\"Southland\",\"Southland\",\"Southland\",\"Southland\",\"Southland\",\"Southland\",\"Southland\",\"Southland\",\"Southland\",\"Southland\",\"Southland\",\"Southland\",\"Southland\",\"Southland\",\"Southland\",\"Southland\",\"Southland\",\"Southland\",\"Southland\",\"Southland\",\"Southland\",\"Southland\",\"Southland\",\"Southland\",\"Southland\",\"Southland\",\"Southland\",\"Southland\",\"Southland\",\"Southland\",\"Southland\",\"Southland\",\"Southland\",\"Southland\",\"Southland\",\"Southland\",\"Southland\",\"Southland\",\"Southland\",\"Southland\",\"Southland\",\"Southland\",\"Southland\",\"Southland\",\"Southland\",\"Southland\",\"Southland\",\"Southland\",\"Southland\",\"Southland\",\"Southland\",\"Southland\",\"Southland\",\"Southland\",\"Southland\",\"Southland\",\"Southland\",\"Southland\",\"Southland\",\"Southland\",\"Southland\",\"Southland\",\"Southland\",\"Southland\",\"Southland\",\"Southland\",\"Southland\",\"Southland\",\"Southland\",\"Southland\",\"Southland\",\"Southland\",\"Southland\",\"Southland\",\"Southland\",\"Southland\",\"Southland\",\"Southland\",\"Southland\",\"Southland\",\"Southland\",\"Southland\",\"Southland\",\"Southland\",\"Southland\",\"Southland\",\"Southland\",\"Southland\",\"Southland\",\"Southland\",\"Southland\",\"Southland\",\"Southland\",\"Southland\",\"Southland\",\"Southland\",\"Southland\",\"Streamville\",\"Streamville\",\"Streamville\",\"Streamville\",\"Streamville\",\"Streamville\",\"Streamville\",\"Streamville\",\"Streamville\",\"Streamville\",\"University Heights\",\"University Heights\",\"University Heights\",\"University Heights\",\"Windswept\",\"Windswept\",\"Windswept\",\"Windswept\",\"Windswept\",\"Windswept\",\"Windswept\",\"Windswept\",\"Windswept\",\"Windswept\",\"Windswept\",\"Windswept\",\"Windswept\",\"Windswept\",\"Windswept\",\"Windswept\",\"Windswept\",\"Windswept\",\"Windswept\",\"Windswept\",\"Windswept\",\"Windswept\",\"Windswept\",\"Windswept\",\"Windswept\",\"Windswept\",\"Windswept\",\"Windswept\",\"Windswept\",\"Windswept\",\"Windswept\",\"Windswept\",\"Windswept\",\"Windswept\",\"Windswept\",\"Windswept\",\"Windswept\",\"Windswept\",\"Windswept\",\"Windswept\",\"Windswept\",\"Windswept\",\"Windswept\",\"Windswept\",\"Windswept\",\"Windswept\",\"Windswept\",\"Windswept\",\"Windswept\",\"Windswept\",\"Windswept\",\"Wolfville\",\"Wolfville\",\"Wolfville\",\"Wolfville\",\"Wolfville\",\"Wolfville\",\"Wolfville\",\"Wolfville\",\"Wolfville\",\"Wolfville\",\"Wolfville\",\"Wolfville\",\"Wolfville\",\"Wolfville\",\"Wolfville\",\"Wolfville\",\"Wolfville\",\"Wolfville\",\"Wolfville\",\"Wolfville\",\"Wolfville\",\"Wolfville\",\"Wolfville\",\"Wolfville\",\"Wolfville\",\"Wolfville\",\"Wolfville\",\"Wolfville\",\"Wolfville\",\"Yellowstone\",\"Yellowstone\",\"Yellowstone\",\"Yellowstone\",\"Yellowstone\",\"Yellowstone\",\"Yellowstone\",\"Yellowstone\",\"Yellowstone\",\"Yellowstone\",\"Yellowstone\",\"Yellowstone\",\"Yellowstone\",\"Yellowstone\",\"Yellowstone\",\"Yellowstone\",\"Yellowstone\",\"Yellowstone\"],\"xaxis\":\"x\",\"y\":[239000,224000,210000,230000,265000,220000,450000,469000,394000,350000,400000,381000,398500,384990,350000,369000,372000,365000,356800,410000,389000,345000,320000,350000,390000,410000,370000,360000,419000,285000,328000,323999,298500,310000,360000,335000,329000,330000,330000,325000,349000,339000,350000,300000,350000,375000,360000,300000,300000,314000,277000,225000,360000,410000,380000,350000,300000,285000,310000,330000,350000,265000,355000,360000,320000,291000,320000,370000,371000,340000,369990,420000,220000,276000,375000,407000,345000,365000,330000,390000,325000,316000,380000,277000,360000,382500,280000,375000,329000,380000,325000,242000,275000,350000,370000,300000,395000,370000,317500,262000,285000,395000,360000,347000,288000,360000,345000,377500,400000,344000,350000,389000,395000,355000,349000,327000,367500,292000,360000,373000,400000,325000,233700,255000,272000,305000,240000,278950,283000,260000,245000,281500,255000,289900,290000,278000,249000,322500,315000,310000,310000,265000,294000,269000,315000,289900,280000,340000,279000,280000,290000,315000,300000,312000,320000,262000,285000,295000,300000,320000,297500,279000,288500,286000,255000,280000,350000,297500,349000,288000,275000,324900,335000,310000,315000,375000,395200,275000,275000,290000,315000,320000,357000,315000,350000,315000,305000,329000,270000,300000,345000,360000,305000,350000,355000,310000,340000,275000,270000,255000,267000,253800,385000,325000,307961,325000,337000,310000,365000,300000,310000,309000,285000,258700,240000,295000,268000,288000,284900,256750,325000,365000,300000,330000,325000,355000,258000,360000,265000,389000,305000,312000,339000,295000,300000,370000,375000,350000,336000,230720,195000,270000,265000,257000,270000,275000,285000,290000,240000,275000,285000,284250,284500,248000,251000,340000,325000,217000,245000,312500,420000,415000,445000,340000,389000,380000,440000,385000,369000,170000,134000,180000,184000,182000,140000,160000,221000,180000,200000,185000,190000,190000,240000,170000,220000,195000,195000,220000,185000,200000,230000,275000,245000,235000,225000,210000,220000,180000,215000,235000,162500,145000,135000,155725,195000,168000,161000,162000,182000,144500,155000,144000,160000,155000,182000,190000,185000,190000,207500,185000,205000,220000,235000,200000,225000,200000,190000,220000,229900,245000,185000,226000,257500,235000,205000,225000,205000,205000,225000,250000,277500,118000,139900,225000,415000,450000,489000,459000,275000,331000,385000,329000,335000,335000,324000,324500,340000,401000,350000,358000,410000,337500,437000,405000,360000,380000,405000,450000,365000,450000,442000,369000,450000,487000,355000,395000,375000,425000,291000,420000,400000,400000,387500,475000,430000,455000,404000,395000,435000,437000,480000,405000,410000,441000,427500,381000,414999,405000,420000,420000,480000,435000,415000,435000,470000,399000,325000,350000,400000,303000,390000,410000,396000,463835,452900,459900,449900,452900,449900,457900,477900,449900,457900,457900,469900,457900,447900,485070,477900,441000,437900,453900,452900,469900,472900,275000,95000,265000,245000,265000,275000,115000,210000,225000,215000,225000,252000,292500,189000,187000,185000,205000,190000,199000,195000,210000,275000,215000,219000,245000,230000,130000,250000,243500,288000,255000,265000,90000,196000,240000,187000,175000,195000,196000,230000,215000,205000,350000,325000,340000,347500,349000,335000,220000,355000,370500,355000,225000,55000,175000,165000,115500,155000,60000,160000,84000,174000,64900,90000,110000,100000,76000,153000,147000,77500,169000,140000,119000,154000,49000,160000,155000,45000,172500,117500,90000,75000,95000,155000,157000,126500,110000,160000,164900,155000,130000,119000,169000,200000,155900,189000,118000,91000,172000,196100,150000,172000,195000,109000,130000,180000,181000,175000,184550,110000,115000,180000,175000,185000,195000,122500,190000,60000,210000,145000,197500,145000,95000,105000,189900,200000,200000,145000,114990,230000,95000,193500,115000,80000,200000,169000,111500,183000,105000,218000,90000,80750,218000,165000,175000,167500,90000,173000,190000,190000,210000,199000,235000,184500,185000,150000,122500,190000,226000,84900,85000,55000,90000,80000,54000,63000,172000,61000,105000,225000,305000,325000,330500,331000,350000,315000,319000,327500,370000,350000,390000,396000,459999,335000,400000,400000,421000,467000,465000,455000,60000,68000,89000,85000,85000,118000,146000,117000,125000,118000,115000,135000,200000,175000,143000,125000,156000,166000,72000,75000,79000,92000,76000,84000,104900,130000,127700,140000,135000,145000,140000,135000,135000,122000,155000,127000,165000,117000,70000,475000,488000,437000,393000,310000,415000,320000,400000,420000,329000,320000,415000,430000,349000,355000,455000,447000,339000,340000,470000,465000,345000,370000,355000,490000,370000,380000,395000,393500,315000,295000,349000,355000,365000,375000,350000,395000,385000,355000,175000,400000,240000,363000,255000,250000,290000,175000,315000,190000,365000,286500,320000,335000,350000,359990,375000,389000,391000,320000,273000,285000,345000,479000,480000,435000,439999,430000,415000,435000,445000,360000,417000,330000,375000,410000,219000,385000,390000,375000,352500,435000,367500,420000,425000,239000,260000,385000,319000,424300,325000,380000,365000,300000,375000,395000,389990,355000,385000,370000,415000,318000,415000,250000,385000,440000,352500,320000,435000,377000,422500,355000,424000,305000,310000,278000,287000,274000,290000,315000,290000,329000,330000,324450,305000,160000,282000,270000,280000,272000,289000,322500,285000,255000,317000,315000,299250,205000,250000,290000,320000,402500,355000,338000,300000,320000,360000,330000,224900,412250,425000,365000,356000,289750,235000,384000,369999,360000,335000,310000,365000,329000,264000,269000,315000,255000,305114,390000,317000,357000,315000,360000,374999,370000,535000,310000,335000,355000,364000,385000,400000,400000,425000,395000,315000,370000,295000,335000,315000,305000,339000,350000,454000,340000,334000,375000,320000,349000,364000,470000,351500,350000,479000,385000,385000,485000,469000,370000,380000,390000,369000,415000,519000,429000,415000,500000,405000,475000,446000,449000,445000,418000,400000,415000,384000,377000,440000,590000,475000,410000,405000,545000,475000,488000,415000,415000,450000,430000,465000,429000,440000,300000,329000,325000,309000,334990,367000,325000,320000,350000,310000,320000,303000,335000,329000,387500,355000,360000,389000,385000,390000,425000,420000,402500,406000,427500,320000,325000,280000,318000,399000,380000,370000,429000,370000,410000,380000,365000,380000,415000,420000,355000,305000,310000,345000,387000,350000,390000,412500,330000,351000,240000,250000,250000,280000,275000,255000,222500,240000,190000,140000,185000,182000,160000,150000,140000,235000,200000,189000,217500,160000,141000,170000,260000,190000,225000,220000,195000,267000,231000,309000,197000,450000,220000,146000,235000,194000,220000,140000,195000,210000,220000,155000,200000,220000,295000,225000,470000,460000,185000,198000,180000,205000,192000,195000,105000,105000,187000,180000,163000,170000,121000,265000,205000,182500,199990,254000,117667,150000,171000,436000,350000,400000,395000,415000,385000,325000,475000,460000,472000,470000,442000,440000,405000,375000,263000,325000,329000,287000,340000,290000,345000,295000,330000,345000,250000,350000,340000,370000,310000,339000,350000,304000,287000,275000,265000,280000,370000,225000,130000,170000,150000,199900,160000,110000,165000,145000,185000,225000,150000,139900,135000,163000,160000,172000,205000,170000,185000,190000,178000,195000,165000,190000,175000,191000,163000,130000,205000,186500,212000,204000,160000,186000,194000,195000,235000,195000,141000,95000,115000,115000,140000,70000,119000,95000,132200,101000,143000,110000,120000,130000,135000,116000,94000,107000,119300,115000,116500,136000,190000,150000,121500,155000,125000,121000,140000,160000,130000,98000,114000,189000,115000,135000,126000,125000,146000,145000,135000,149000,140000,115000,155000,175000,150000,140000,155000,152000,150000,140000,149000,135000,133000,135000,187900,190000,145000,135000,145000,170000,160000,168000,168000,135000,126990,122000,93000,134000,145000,183000,140000,189000,165000,130000,170000,165000,156000,176000,178429,165000,183000,140000,150000,141500,175000,155000,205000,189000,155000,220000,170000,193000,195000,190000,161000,196000,215000,230000,190000,240000,190000,215000,193000,205000,207000,190000,120000,115000,110000,115000,120000,110000,122000,132000,115000,109000,110000,106000,130000,117000,113000,140000,105000,112500,135000,105000,144000,150000,135000,148000,133000,130000,145000,125000,110000,135000,120000,150000,125000,150000,150000,120000,140000,125000,140000,175000,125000,165000,105000,113000,112500,135000,85000,220500,209000,215000,225000,196500,212000,220000,235000,225000,265000,323500,399000,385000,370000,190000,229000,230000,180000,194000,203500,200000,183000,237500,273000,235000,225000,205000,287000,250000,230000,250000,300500,335000,305000,310000,225000,221000,320000,267000,269000,225000,270000,270000,272950,365000,275000,270000,330000,310000,270000,330000,285000,355000,275000,267500,325000,254000,159000,270000,245000,189000,290000,255000,275000,335000,350000,346000,318000,365000,395000,388000,385000,426000,420000,426000,410000,435000,358000,330000,340000,360000,369990,385000,375000,401000,420000,430000,429000,365000,387000,380000,415000,410000,439000,399000,354000,501000,429000,545000,480000,393000,459000,405000,495000,495000,410000,369000,430000,362500,385000,355000,295500],\"yaxis\":\"y\",\"type\":\"scattergl\"}],                        {\"template\":{\"data\":{\"histogram2dcontour\":[{\"type\":\"histogram2dcontour\",\"colorbar\":{\"outlinewidth\":0,\"ticks\":\"\"},\"colorscale\":[[0.0,\"#0d0887\"],[0.1111111111111111,\"#46039f\"],[0.2222222222222222,\"#7201a8\"],[0.3333333333333333,\"#9c179e\"],[0.4444444444444444,\"#bd3786\"],[0.5555555555555556,\"#d8576b\"],[0.6666666666666666,\"#ed7953\"],[0.7777777777777778,\"#fb9f3a\"],[0.8888888888888888,\"#fdca26\"],[1.0,\"#f0f921\"]]}],\"choropleth\":[{\"type\":\"choropleth\",\"colorbar\":{\"outlinewidth\":0,\"ticks\":\"\"}}],\"histogram2d\":[{\"type\":\"histogram2d\",\"colorbar\":{\"outlinewidth\":0,\"ticks\":\"\"},\"colorscale\":[[0.0,\"#0d0887\"],[0.1111111111111111,\"#46039f\"],[0.2222222222222222,\"#7201a8\"],[0.3333333333333333,\"#9c179e\"],[0.4444444444444444,\"#bd3786\"],[0.5555555555555556,\"#d8576b\"],[0.6666666666666666,\"#ed7953\"],[0.7777777777777778,\"#fb9f3a\"],[0.8888888888888888,\"#fdca26\"],[1.0,\"#f0f921\"]]}],\"heatmap\":[{\"type\":\"heatmap\",\"colorbar\":{\"outlinewidth\":0,\"ticks\":\"\"},\"colorscale\":[[0.0,\"#0d0887\"],[0.1111111111111111,\"#46039f\"],[0.2222222222222222,\"#7201a8\"],[0.3333333333333333,\"#9c179e\"],[0.4444444444444444,\"#bd3786\"],[0.5555555555555556,\"#d8576b\"],[0.6666666666666666,\"#ed7953\"],[0.7777777777777778,\"#fb9f3a\"],[0.8888888888888888,\"#fdca26\"],[1.0,\"#f0f921\"]]}],\"heatmapgl\":[{\"type\":\"heatmapgl\",\"colorbar\":{\"outlinewidth\":0,\"ticks\":\"\"},\"colorscale\":[[0.0,\"#0d0887\"],[0.1111111111111111,\"#46039f\"],[0.2222222222222222,\"#7201a8\"],[0.3333333333333333,\"#9c179e\"],[0.4444444444444444,\"#bd3786\"],[0.5555555555555556,\"#d8576b\"],[0.6666666666666666,\"#ed7953\"],[0.7777777777777778,\"#fb9f3a\"],[0.8888888888888888,\"#fdca26\"],[1.0,\"#f0f921\"]]}],\"contourcarpet\":[{\"type\":\"contourcarpet\",\"colorbar\":{\"outlinewidth\":0,\"ticks\":\"\"}}],\"contour\":[{\"type\":\"contour\",\"colorbar\":{\"outlinewidth\":0,\"ticks\":\"\"},\"colorscale\":[[0.0,\"#0d0887\"],[0.1111111111111111,\"#46039f\"],[0.2222222222222222,\"#7201a8\"],[0.3333333333333333,\"#9c179e\"],[0.4444444444444444,\"#bd3786\"],[0.5555555555555556,\"#d8576b\"],[0.6666666666666666,\"#ed7953\"],[0.7777777777777778,\"#fb9f3a\"],[0.8888888888888888,\"#fdca26\"],[1.0,\"#f0f921\"]]}],\"surface\":[{\"type\":\"surface\",\"colorbar\":{\"outlinewidth\":0,\"ticks\":\"\"},\"colorscale\":[[0.0,\"#0d0887\"],[0.1111111111111111,\"#46039f\"],[0.2222222222222222,\"#7201a8\"],[0.3333333333333333,\"#9c179e\"],[0.4444444444444444,\"#bd3786\"],[0.5555555555555556,\"#d8576b\"],[0.6666666666666666,\"#ed7953\"],[0.7777777777777778,\"#fb9f3a\"],[0.8888888888888888,\"#fdca26\"],[1.0,\"#f0f921\"]]}],\"mesh3d\":[{\"type\":\"mesh3d\",\"colorbar\":{\"outlinewidth\":0,\"ticks\":\"\"}}],\"scatter\":[{\"fillpattern\":{\"fillmode\":\"overlay\",\"size\":10,\"solidity\":0.2},\"type\":\"scatter\"}],\"parcoords\":[{\"type\":\"parcoords\",\"line\":{\"colorbar\":{\"outlinewidth\":0,\"ticks\":\"\"}}}],\"scatterpolargl\":[{\"type\":\"scatterpolargl\",\"marker\":{\"colorbar\":{\"outlinewidth\":0,\"ticks\":\"\"}}}],\"bar\":[{\"error_x\":{\"color\":\"#2a3f5f\"},\"error_y\":{\"color\":\"#2a3f5f\"},\"marker\":{\"line\":{\"color\":\"#E5ECF6\",\"width\":0.5},\"pattern\":{\"fillmode\":\"overlay\",\"size\":10,\"solidity\":0.2}},\"type\":\"bar\"}],\"scattergeo\":[{\"type\":\"scattergeo\",\"marker\":{\"colorbar\":{\"outlinewidth\":0,\"ticks\":\"\"}}}],\"scatterpolar\":[{\"type\":\"scatterpolar\",\"marker\":{\"colorbar\":{\"outlinewidth\":0,\"ticks\":\"\"}}}],\"histogram\":[{\"marker\":{\"pattern\":{\"fillmode\":\"overlay\",\"size\":10,\"solidity\":0.2}},\"type\":\"histogram\"}],\"scattergl\":[{\"type\":\"scattergl\",\"marker\":{\"colorbar\":{\"outlinewidth\":0,\"ticks\":\"\"}}}],\"scatter3d\":[{\"type\":\"scatter3d\",\"line\":{\"colorbar\":{\"outlinewidth\":0,\"ticks\":\"\"}},\"marker\":{\"colorbar\":{\"outlinewidth\":0,\"ticks\":\"\"}}}],\"scattermapbox\":[{\"type\":\"scattermapbox\",\"marker\":{\"colorbar\":{\"outlinewidth\":0,\"ticks\":\"\"}}}],\"scatterternary\":[{\"type\":\"scatterternary\",\"marker\":{\"colorbar\":{\"outlinewidth\":0,\"ticks\":\"\"}}}],\"scattercarpet\":[{\"type\":\"scattercarpet\",\"marker\":{\"colorbar\":{\"outlinewidth\":0,\"ticks\":\"\"}}}],\"carpet\":[{\"aaxis\":{\"endlinecolor\":\"#2a3f5f\",\"gridcolor\":\"white\",\"linecolor\":\"white\",\"minorgridcolor\":\"white\",\"startlinecolor\":\"#2a3f5f\"},\"baxis\":{\"endlinecolor\":\"#2a3f5f\",\"gridcolor\":\"white\",\"linecolor\":\"white\",\"minorgridcolor\":\"white\",\"startlinecolor\":\"#2a3f5f\"},\"type\":\"carpet\"}],\"table\":[{\"cells\":{\"fill\":{\"color\":\"#EBF0F8\"},\"line\":{\"color\":\"white\"}},\"header\":{\"fill\":{\"color\":\"#C8D4E3\"},\"line\":{\"color\":\"white\"}},\"type\":\"table\"}],\"barpolar\":[{\"marker\":{\"line\":{\"color\":\"#E5ECF6\",\"width\":0.5},\"pattern\":{\"fillmode\":\"overlay\",\"size\":10,\"solidity\":0.2}},\"type\":\"barpolar\"}],\"pie\":[{\"automargin\":true,\"type\":\"pie\"}]},\"layout\":{\"autotypenumbers\":\"strict\",\"colorway\":[\"#636efa\",\"#EF553B\",\"#00cc96\",\"#ab63fa\",\"#FFA15A\",\"#19d3f3\",\"#FF6692\",\"#B6E880\",\"#FF97FF\",\"#FECB52\"],\"font\":{\"color\":\"#2a3f5f\"},\"hovermode\":\"closest\",\"hoverlabel\":{\"align\":\"left\"},\"paper_bgcolor\":\"white\",\"plot_bgcolor\":\"#E5ECF6\",\"polar\":{\"bgcolor\":\"#E5ECF6\",\"angularaxis\":{\"gridcolor\":\"white\",\"linecolor\":\"white\",\"ticks\":\"\"},\"radialaxis\":{\"gridcolor\":\"white\",\"linecolor\":\"white\",\"ticks\":\"\"}},\"ternary\":{\"bgcolor\":\"#E5ECF6\",\"aaxis\":{\"gridcolor\":\"white\",\"linecolor\":\"white\",\"ticks\":\"\"},\"baxis\":{\"gridcolor\":\"white\",\"linecolor\":\"white\",\"ticks\":\"\"},\"caxis\":{\"gridcolor\":\"white\",\"linecolor\":\"white\",\"ticks\":\"\"}},\"coloraxis\":{\"colorbar\":{\"outlinewidth\":0,\"ticks\":\"\"}},\"colorscale\":{\"sequential\":[[0.0,\"#0d0887\"],[0.1111111111111111,\"#46039f\"],[0.2222222222222222,\"#7201a8\"],[0.3333333333333333,\"#9c179e\"],[0.4444444444444444,\"#bd3786\"],[0.5555555555555556,\"#d8576b\"],[0.6666666666666666,\"#ed7953\"],[0.7777777777777778,\"#fb9f3a\"],[0.8888888888888888,\"#fdca26\"],[1.0,\"#f0f921\"]],\"sequentialminus\":[[0.0,\"#0d0887\"],[0.1111111111111111,\"#46039f\"],[0.2222222222222222,\"#7201a8\"],[0.3333333333333333,\"#9c179e\"],[0.4444444444444444,\"#bd3786\"],[0.5555555555555556,\"#d8576b\"],[0.6666666666666666,\"#ed7953\"],[0.7777777777777778,\"#fb9f3a\"],[0.8888888888888888,\"#fdca26\"],[1.0,\"#f0f921\"]],\"diverging\":[[0,\"#8e0152\"],[0.1,\"#c51b7d\"],[0.2,\"#de77ae\"],[0.3,\"#f1b6da\"],[0.4,\"#fde0ef\"],[0.5,\"#f7f7f7\"],[0.6,\"#e6f5d0\"],[0.7,\"#b8e186\"],[0.8,\"#7fbc41\"],[0.9,\"#4d9221\"],[1,\"#276419\"]]},\"xaxis\":{\"gridcolor\":\"white\",\"linecolor\":\"white\",\"ticks\":\"\",\"title\":{\"standoff\":15},\"zerolinecolor\":\"white\",\"automargin\":true,\"zerolinewidth\":2},\"yaxis\":{\"gridcolor\":\"white\",\"linecolor\":\"white\",\"ticks\":\"\",\"title\":{\"standoff\":15},\"zerolinecolor\":\"white\",\"automargin\":true,\"zerolinewidth\":2},\"scene\":{\"xaxis\":{\"backgroundcolor\":\"#E5ECF6\",\"gridcolor\":\"white\",\"linecolor\":\"white\",\"showbackground\":true,\"ticks\":\"\",\"zerolinecolor\":\"white\",\"gridwidth\":2},\"yaxis\":{\"backgroundcolor\":\"#E5ECF6\",\"gridcolor\":\"white\",\"linecolor\":\"white\",\"showbackground\":true,\"ticks\":\"\",\"zerolinecolor\":\"white\",\"gridwidth\":2},\"zaxis\":{\"backgroundcolor\":\"#E5ECF6\",\"gridcolor\":\"white\",\"linecolor\":\"white\",\"showbackground\":true,\"ticks\":\"\",\"zerolinecolor\":\"white\",\"gridwidth\":2}},\"shapedefaults\":{\"line\":{\"color\":\"#2a3f5f\"}},\"annotationdefaults\":{\"arrowcolor\":\"#2a3f5f\",\"arrowhead\":0,\"arrowwidth\":1},\"geo\":{\"bgcolor\":\"white\",\"landcolor\":\"#E5ECF6\",\"subunitcolor\":\"white\",\"showland\":true,\"showlakes\":true,\"lakecolor\":\"white\"},\"title\":{\"x\":0.05},\"mapbox\":{\"style\":\"light\"}}},\"xaxis\":{\"anchor\":\"y\",\"domain\":[0.0,1.0],\"title\":{\"text\":\"Development\"},\"tickangle\":45},\"yaxis\":{\"anchor\":\"x\",\"domain\":[0.0,1.0],\"title\":{\"text\":\"Sold Price\"},\"tickvals\":[50000,100000,150000,200000,250000,300000,350000,400000,450000,500000,550000,600000],\"ticktext\":[\"$50,000\",\"$100,000\",\"$150,000\",\"$200,000\",\"$250,000\",\"$300,000\",\"$350,000\",\"$400,000\",\"$450,000\",\"$500,000\",\"$550,000\",\"$600,000\"]},\"coloraxis\":{\"colorbar\":{\"title\":{\"text\":\"Unit_on_Floor_#\"}},\"colorscale\":[[0.0,\"#0d0887\"],[0.1111111111111111,\"#46039f\"],[0.2222222222222222,\"#7201a8\"],[0.3333333333333333,\"#9c179e\"],[0.4444444444444444,\"#bd3786\"],[0.5555555555555556,\"#d8576b\"],[0.6666666666666666,\"#ed7953\"],[0.7777777777777778,\"#fb9f3a\"],[0.8888888888888888,\"#fdca26\"],[1.0,\"#f0f921\"]]},\"legend\":{\"tracegroupgap\":0},\"title\":{\"text\":\"Second Floor Sold Price vs. Condition\"},\"width\":1000,\"height\":600,\"plot_bgcolor\":\"lightblue\"},                        {\"responsive\": true}                    ).then(function(){\n",
              "                            \n",
              "var gd = document.getElementById('2a6fbce6-58d9-4646-8ef7-8a1ccd0e0a53');\n",
              "var x = new MutationObserver(function (mutations, observer) {{\n",
              "        var display = window.getComputedStyle(gd).display;\n",
              "        if (!display || display === 'none') {{\n",
              "            console.log([gd, 'removed!']);\n",
              "            Plotly.purge(gd);\n",
              "            observer.disconnect();\n",
              "        }}\n",
              "}});\n",
              "\n",
              "// Listen for the removal of the full notebook cells\n",
              "var notebookContainer = gd.closest('#notebook-container');\n",
              "if (notebookContainer) {{\n",
              "    x.observe(notebookContainer, {childList: true});\n",
              "}}\n",
              "\n",
              "// Listen for the clearing of the current output cell\n",
              "var outputEl = gd.closest('.output');\n",
              "if (outputEl) {{\n",
              "    x.observe(outputEl, {childList: true});\n",
              "}}\n",
              "\n",
              "                        })                };                            </script>        </div>\n",
              "</body>\n",
              "</html>"
            ]
          },
          "metadata": {},
          "output_type": "display_data"
        }
      ],
      "source": [
        "#One_Bedroom = condo[condo['Bedrooms'] == 1]\n",
        "\n",
        "import plotly.express as px\n",
        "\n",
        "# Calculate the y-axis tick values (starting at $50,000 and incrementing by $50,000)\n",
        "min_price = condo['Sold_Price'].min()\n",
        "max_price = condo['Sold_Price'].max()\n",
        "y_ticks = list(range(int(min_price) // 50000 * 50000 + 50000, int(max_price) + 50000, 50000))\n",
        "\n",
        "# Create the scatter plot\n",
        "fig = px.scatter(data_frame=condo, x='Development', y='Sold_Price', color='Unit_on_Floor_#',\n",
        "                 title='Second Floor Sold Price vs. Condition',\n",
        "                 labels={'Development': 'Development', 'Sold_Price': 'Sold Price', 'Town': 'Town'},\n",
        "                 hover_data=['Development'])\n",
        "\n",
        "# Show the legend\n",
        "fig.update_traces(showlegend=True)\n",
        "\n",
        "# Update the x-axis labels to be rotated 45 degrees\n",
        "fig.update_layout(xaxis=dict(tickangle=45))\n",
        "\n",
        "# Set the y-axis tick values and labels\n",
        "fig.update_yaxes(\n",
        "    tickvals=y_ticks,\n",
        "    ticktext=[f\"${tick:,}\" for tick in y_ticks]\n",
        ")\n",
        "\n",
        "fig.update_layout(width=1000)\n",
        "fig.update_layout(height=600)\n",
        "\n",
        "# Change the background color to black\n",
        "fig.update_layout(plot_bgcolor='lightblue')\n",
        "\n",
        "fig.show()\n"
      ]
    },
    {
      "cell_type": "code",
      "execution_count": null,
      "metadata": {
        "colab": {
          "base_uri": "https://localhost:8080/",
          "height": 637
        },
        "id": "NvMtp4IlJVPU",
        "outputId": "a0846014-edb4-4ca0-eb8a-50f227c28f74"
      },
      "outputs": [
        {
          "data": {
            "text/html": [
              "<html>\n",
              "<head><meta charset=\"utf-8\" /></head>\n",
              "<body>\n",
              "    <div>            <script src=\"https://cdnjs.cloudflare.com/ajax/libs/mathjax/2.7.5/MathJax.js?config=TeX-AMS-MML_SVG\"></script><script type=\"text/javascript\">if (window.MathJax && window.MathJax.Hub && window.MathJax.Hub.Config) {window.MathJax.Hub.Config({SVG: {font: \"STIX-Web\"}});}</script>                <script type=\"text/javascript\">window.PlotlyConfig = {MathJaxConfig: 'local'};</script>\n",
              "        <script charset=\"utf-8\" src=\"https://cdn.plot.ly/plotly-2.24.1.min.js\"></script>                <div id=\"18fcaca7-e360-4826-9a9c-1323e46a329e\" class=\"plotly-graph-div\" style=\"height:600px; width:1000px;\"></div>            <script type=\"text/javascript\">                                    window.PLOTLYENV=window.PLOTLYENV || {};                                    if (document.getElementById(\"18fcaca7-e360-4826-9a9c-1323e46a329e\")) {                    Plotly.newPlot(                        \"18fcaca7-e360-4826-9a9c-1323e46a329e\",                        [{\"hovertemplate\":\"Appearance_categorical=unknown\\u003cbr\\u003eDevelopment=%{x}\\u003cbr\\u003eSold Price=%{y}\\u003cextra\\u003e\\u003c\\u002fextra\\u003e\",\"legendgroup\":\"unknown\",\"marker\":{\"color\":\"#636efa\",\"symbol\":\"circle\"},\"mode\":\"markers\",\"name\":\"unknown\",\"orientation\":\"v\",\"showlegend\":true,\"x\":[\"123 Main St\",\"123 Main St\",\"Cambridge\",\"Cambridge\",\"Cambridge\",\"Cambridge\",\"Cambridge\",\"Cambridge\",\"Cambridge\",\"Cambridge\",\"Cambridge\",\"Cambridge\",\"Cambridge\",\"Cambridge\",\"Cambridge\",\"Cambridge\",\"Clover\",\"Clover\",\"Clover\",\"Clover\",\"Clover\",\"Clover\",\"Clover\",\"Clover\",\"Clover\",\"Clover\",\"Clover\",\"Clover\",\"Clover\",\"Forestville\",\"Forestville\",\"Forestville\",\"Glentrees\",\"Golddream\",\"Hamptown\",\"Jaggedtown\",\"Jaggedtown\",\"Jaggedtown\",\"Jaggedtown\",\"Jaggedtown\",\"Jaggedtown\",\"Jaggedtown\",\"Jaggedtown\",\"Jaggedtown\",\"Jaggedtown\",\"Landings\",\"Landings\",\"Laurel Vista\",\"Makerstsown\",\"Oxford\",\"Oxford\",\"Oxford\",\"Oxford\",\"Oxford\",\"Parliment\",\"Parliment\",\"Parliment\",\"Parliment\",\"Parliment\",\"Parliment\",\"Parliment\",\"Parliment\",\"Parliment\",\"Parliment\",\"Parliment\",\"Parliment\",\"Parliment\",\"Parliment\",\"Pilgramstate\",\"Pilgramstate\",\"Pilgramstate\",\"Pilgramstate\",\"Pilgramstate\",\"Pilgramstate\",\"Pilgramstate\",\"Pilgramstate\",\"Provance\",\"Provance\",\"Provance\",\"Southland\",\"Southland\",\"Southland\",\"Southland\",\"Southland\",\"Southland\",\"Southland\",\"Southland\",\"Southland\",\"Southland\",\"Southland\",\"Southland\",\"Southland\",\"Southland\",\"Southland\",\"Southland\",\"Southland\",\"Southland\",\"Southland\",\"Southland\",\"Southland\",\"Southland\",\"Southland\",\"Southland\",\"Southland\",\"Streamville\",\"Streamville\",\"Windswept\",\"Wolfville\",\"Wolfville\",\"Yellowstone\",\"Yellowstone\"],\"xaxis\":\"x\",\"y\":[239000,230000,365000,330000,355000,258000,265000,389000,312000,295000,300000,375000,336000,285000,340000,325000,155725,195000,161000,182000,185000,226000,235000,205000,205000,225000,250000,277500,225000,190000,219000,130000,196000,370500,396000,75000,92000,104900,135000,135000,122000,127000,165000,117000,70000,395000,385000,290000,285000,390000,317000,315000,374999,370000,303000,360000,389000,390000,402500,406000,280000,318000,380000,370000,415000,420000,345000,387000,220000,146000,194000,140000,195000,210000,155000,295000,182500,199990,117667,140000,165000,130000,170000,165000,183000,150000,155000,193000,195000,230000,240000,190000,120000,132000,115000,130000,135000,148000,125000,150000,140000,125000,165000,112500,235000,225000,275000,360000,380000,362500,295500],\"yaxis\":\"y\",\"type\":\"scatter\"},{\"hovertemplate\":\"Appearance_categorical=Mint\\u003cbr\\u003eDevelopment=%{x}\\u003cbr\\u003eSold Price=%{y}\\u003cextra\\u003e\\u003c\\u002fextra\\u003e\",\"legendgroup\":\"Mint\",\"marker\":{\"color\":\"#EF553B\",\"symbol\":\"circle\"},\"mode\":\"markers\",\"name\":\"Mint\",\"orientation\":\"v\",\"showlegend\":true,\"x\":[\"123 Main St\",\"Cambridge\",\"Cambridge\",\"Cambridge\",\"Cambridge\",\"Cambridge\",\"Cambridge\",\"Cambridge\",\"Cambridge\",\"Cambridge\",\"Cambridge\",\"Cambridge\",\"Cambridge\",\"Cambridge\",\"Clover\",\"Clover\",\"Clover\",\"Clover\",\"Clover\",\"Clover\",\"Clover\",\"Clover\",\"Clover\",\"Clover\",\"Clover\",\"Crewville\",\"Crewville\",\"Crewville\",\"Forestville\",\"Forestville\",\"Forestville\",\"Forestville\",\"Forestville\",\"Forestville\",\"Forestville\",\"Forestville\",\"Forestville\",\"Golddream\",\"Golddream\",\"Greentown\",\"Hamptown\",\"Hamptown\",\"Jaggedtown\",\"Jaggedtown\",\"Jaggedtown\",\"Jaggedtown\",\"Landings\",\"Landings\",\"Landings\",\"Landings\",\"Landings\",\"Landings\",\"Makerstown\",\"Oxford\",\"Parliment\",\"Parliment\",\"Parliment\",\"Parliment\",\"Parliment\",\"Parliment\",\"Parliment\",\"Parliment\",\"Parliment\",\"Parliment\",\"Parliment\",\"Parliment\",\"Parliment\",\"Parliment\",\"Parliment\",\"Parliment\",\"Parliment\",\"Parliment\",\"Parliment\",\"Parliment\",\"Peninusula\",\"Peninusula\",\"Peninusula\",\"Pilgramstate\",\"Pilgramstate\",\"Pilgramstate\",\"Pilgramstate\",\"Provance\",\"Pursuit\",\"Pursuit\",\"Southland\",\"Southland\",\"Southland\",\"Southland\",\"Southland\",\"Southland\",\"Southland\",\"Southland\",\"Southland\",\"Southland\",\"Southland\",\"Southland\",\"Southland\",\"Southland\",\"Southland\",\"Southland\",\"Southland\",\"Southland\",\"Southland\",\"Southland\",\"Southland\",\"Southland\",\"Southland\",\"Southland\",\"Southland\",\"Streamville\",\"Windswept\",\"Windswept\",\"Wolfville\",\"Wolfville\",\"Wolfville\",\"Wolfville\",\"Wolfville\",\"Wolfville\",\"Wolfville\",\"Wolfville\",\"Yellowstone\"],\"xaxis\":\"x\",\"y\":[265000,300000,325000,305000,370000,350000,230720,195000,265000,270000,290000,240000,275000,285000,168000,155000,190000,190000,207500,220000,200000,190000,245000,257500,225000,390000,410000,396000,187000,185000,205000,210000,245000,230000,250000,243500,288000,355000,355000,225000,319000,350000,79000,130000,140000,140000,315000,295000,349000,355000,350000,355000,320000,360000,334990,367000,325000,320000,320000,335000,355000,385000,420000,320000,325000,399000,365000,355000,305000,310000,350000,390000,412500,330000,255000,222500,240000,220000,220000,225000,460000,265000,280000,370000,145000,183000,175000,189000,220000,215000,215000,193000,207000,110000,115000,122000,106000,113000,105000,112500,135000,144000,145000,135000,150000,150000,140000,105000,113000,265000,290000,335000,385000,375000,420000,430000,387000,415000,410000,439000,430000],\"yaxis\":\"y\",\"type\":\"scatter\"},{\"hovertemplate\":\"Appearance_categorical=Excellent\\u003cbr\\u003eDevelopment=%{x}\\u003cbr\\u003eSold Price=%{y}\\u003cextra\\u003e\\u003c\\u002fextra\\u003e\",\"legendgroup\":\"Excellent\",\"marker\":{\"color\":\"#ab63fa\",\"symbol\":\"circle\"},\"mode\":\"markers\",\"name\":\"Excellent\",\"orientation\":\"v\",\"showlegend\":true,\"x\":[\"Clover\",\"Clover\",\"Clover\",\"Clover\",\"Clover\",\"Clover\",\"Clover\",\"Clover\",\"Clover\",\"Clover\",\"Clover\",\"Clover\",\"Forestville\",\"Forestville\",\"Glentrees\",\"Glentrees\",\"Hamptown\",\"Jaggedtown\",\"Jaggedtown\",\"Jaggedtown\",\"Jaggedtown\",\"Jaggedtown\",\"Landings\",\"Laurel Vista\",\"Laurel Vista\",\"Parliment\",\"Parliment\",\"Parliment\",\"Parliment\",\"Pilgramstate\",\"Pilgramstate\",\"Pilgramstate\",\"Pilgramstate\",\"Provance\",\"Provance\",\"Southland\",\"Southland\",\"Southland\",\"Southland\",\"Southland\",\"Southland\",\"Southland\",\"Southland\",\"Southland\",\"Southland\",\"Southland\",\"Southland\",\"Southland\",\"Southland\",\"Southland\",\"Southland\",\"Southland\",\"Southland\",\"Southland\",\"Streamville\",\"Streamville\",\"Streamville\",\"Wolfville\",\"Wolfville\",\"Wolfville\",\"Yellowstone\"],\"xaxis\":\"x\",\"y\":[162000,182000,144500,155000,144000,205000,235000,225000,200000,229900,205000,118000,189000,215000,195000,230000,390000,76000,84000,127700,145000,155000,365000,175000,315000,310000,329000,427500,351000,235000,200000,220000,470000,254000,171000,156000,176000,178429,165000,155000,170000,196000,205000,110000,110000,117000,140000,105000,133000,110000,120000,120000,125000,85000,196500,212000,220000,401000,429000,365000,355000],\"yaxis\":\"y\",\"type\":\"scatter\"},{\"hovertemplate\":\"Appearance_categorical=Fair\\u003cbr\\u003eDevelopment=%{x}\\u003cbr\\u003eSold Price=%{y}\\u003cextra\\u003e\\u003c\\u002fextra\\u003e\",\"legendgroup\":\"Fair\",\"marker\":{\"color\":\"#FFA15A\",\"symbol\":\"circle\"},\"mode\":\"markers\",\"name\":\"Fair\",\"orientation\":\"v\",\"showlegend\":true,\"x\":[\"Forestville\",\"Glentrees\",\"Southland\",\"Windswept\"],\"xaxis\":\"x\",\"y\":[275000,205000,161000,255000],\"yaxis\":\"y\",\"type\":\"scatter\"}],                        {\"template\":{\"data\":{\"histogram2dcontour\":[{\"type\":\"histogram2dcontour\",\"colorbar\":{\"outlinewidth\":0,\"ticks\":\"\"},\"colorscale\":[[0.0,\"#0d0887\"],[0.1111111111111111,\"#46039f\"],[0.2222222222222222,\"#7201a8\"],[0.3333333333333333,\"#9c179e\"],[0.4444444444444444,\"#bd3786\"],[0.5555555555555556,\"#d8576b\"],[0.6666666666666666,\"#ed7953\"],[0.7777777777777778,\"#fb9f3a\"],[0.8888888888888888,\"#fdca26\"],[1.0,\"#f0f921\"]]}],\"choropleth\":[{\"type\":\"choropleth\",\"colorbar\":{\"outlinewidth\":0,\"ticks\":\"\"}}],\"histogram2d\":[{\"type\":\"histogram2d\",\"colorbar\":{\"outlinewidth\":0,\"ticks\":\"\"},\"colorscale\":[[0.0,\"#0d0887\"],[0.1111111111111111,\"#46039f\"],[0.2222222222222222,\"#7201a8\"],[0.3333333333333333,\"#9c179e\"],[0.4444444444444444,\"#bd3786\"],[0.5555555555555556,\"#d8576b\"],[0.6666666666666666,\"#ed7953\"],[0.7777777777777778,\"#fb9f3a\"],[0.8888888888888888,\"#fdca26\"],[1.0,\"#f0f921\"]]}],\"heatmap\":[{\"type\":\"heatmap\",\"colorbar\":{\"outlinewidth\":0,\"ticks\":\"\"},\"colorscale\":[[0.0,\"#0d0887\"],[0.1111111111111111,\"#46039f\"],[0.2222222222222222,\"#7201a8\"],[0.3333333333333333,\"#9c179e\"],[0.4444444444444444,\"#bd3786\"],[0.5555555555555556,\"#d8576b\"],[0.6666666666666666,\"#ed7953\"],[0.7777777777777778,\"#fb9f3a\"],[0.8888888888888888,\"#fdca26\"],[1.0,\"#f0f921\"]]}],\"heatmapgl\":[{\"type\":\"heatmapgl\",\"colorbar\":{\"outlinewidth\":0,\"ticks\":\"\"},\"colorscale\":[[0.0,\"#0d0887\"],[0.1111111111111111,\"#46039f\"],[0.2222222222222222,\"#7201a8\"],[0.3333333333333333,\"#9c179e\"],[0.4444444444444444,\"#bd3786\"],[0.5555555555555556,\"#d8576b\"],[0.6666666666666666,\"#ed7953\"],[0.7777777777777778,\"#fb9f3a\"],[0.8888888888888888,\"#fdca26\"],[1.0,\"#f0f921\"]]}],\"contourcarpet\":[{\"type\":\"contourcarpet\",\"colorbar\":{\"outlinewidth\":0,\"ticks\":\"\"}}],\"contour\":[{\"type\":\"contour\",\"colorbar\":{\"outlinewidth\":0,\"ticks\":\"\"},\"colorscale\":[[0.0,\"#0d0887\"],[0.1111111111111111,\"#46039f\"],[0.2222222222222222,\"#7201a8\"],[0.3333333333333333,\"#9c179e\"],[0.4444444444444444,\"#bd3786\"],[0.5555555555555556,\"#d8576b\"],[0.6666666666666666,\"#ed7953\"],[0.7777777777777778,\"#fb9f3a\"],[0.8888888888888888,\"#fdca26\"],[1.0,\"#f0f921\"]]}],\"surface\":[{\"type\":\"surface\",\"colorbar\":{\"outlinewidth\":0,\"ticks\":\"\"},\"colorscale\":[[0.0,\"#0d0887\"],[0.1111111111111111,\"#46039f\"],[0.2222222222222222,\"#7201a8\"],[0.3333333333333333,\"#9c179e\"],[0.4444444444444444,\"#bd3786\"],[0.5555555555555556,\"#d8576b\"],[0.6666666666666666,\"#ed7953\"],[0.7777777777777778,\"#fb9f3a\"],[0.8888888888888888,\"#fdca26\"],[1.0,\"#f0f921\"]]}],\"mesh3d\":[{\"type\":\"mesh3d\",\"colorbar\":{\"outlinewidth\":0,\"ticks\":\"\"}}],\"scatter\":[{\"fillpattern\":{\"fillmode\":\"overlay\",\"size\":10,\"solidity\":0.2},\"type\":\"scatter\"}],\"parcoords\":[{\"type\":\"parcoords\",\"line\":{\"colorbar\":{\"outlinewidth\":0,\"ticks\":\"\"}}}],\"scatterpolargl\":[{\"type\":\"scatterpolargl\",\"marker\":{\"colorbar\":{\"outlinewidth\":0,\"ticks\":\"\"}}}],\"bar\":[{\"error_x\":{\"color\":\"#2a3f5f\"},\"error_y\":{\"color\":\"#2a3f5f\"},\"marker\":{\"line\":{\"color\":\"#E5ECF6\",\"width\":0.5},\"pattern\":{\"fillmode\":\"overlay\",\"size\":10,\"solidity\":0.2}},\"type\":\"bar\"}],\"scattergeo\":[{\"type\":\"scattergeo\",\"marker\":{\"colorbar\":{\"outlinewidth\":0,\"ticks\":\"\"}}}],\"scatterpolar\":[{\"type\":\"scatterpolar\",\"marker\":{\"colorbar\":{\"outlinewidth\":0,\"ticks\":\"\"}}}],\"histogram\":[{\"marker\":{\"pattern\":{\"fillmode\":\"overlay\",\"size\":10,\"solidity\":0.2}},\"type\":\"histogram\"}],\"scattergl\":[{\"type\":\"scattergl\",\"marker\":{\"colorbar\":{\"outlinewidth\":0,\"ticks\":\"\"}}}],\"scatter3d\":[{\"type\":\"scatter3d\",\"line\":{\"colorbar\":{\"outlinewidth\":0,\"ticks\":\"\"}},\"marker\":{\"colorbar\":{\"outlinewidth\":0,\"ticks\":\"\"}}}],\"scattermapbox\":[{\"type\":\"scattermapbox\",\"marker\":{\"colorbar\":{\"outlinewidth\":0,\"ticks\":\"\"}}}],\"scatterternary\":[{\"type\":\"scatterternary\",\"marker\":{\"colorbar\":{\"outlinewidth\":0,\"ticks\":\"\"}}}],\"scattercarpet\":[{\"type\":\"scattercarpet\",\"marker\":{\"colorbar\":{\"outlinewidth\":0,\"ticks\":\"\"}}}],\"carpet\":[{\"aaxis\":{\"endlinecolor\":\"#2a3f5f\",\"gridcolor\":\"white\",\"linecolor\":\"white\",\"minorgridcolor\":\"white\",\"startlinecolor\":\"#2a3f5f\"},\"baxis\":{\"endlinecolor\":\"#2a3f5f\",\"gridcolor\":\"white\",\"linecolor\":\"white\",\"minorgridcolor\":\"white\",\"startlinecolor\":\"#2a3f5f\"},\"type\":\"carpet\"}],\"table\":[{\"cells\":{\"fill\":{\"color\":\"#EBF0F8\"},\"line\":{\"color\":\"white\"}},\"header\":{\"fill\":{\"color\":\"#C8D4E3\"},\"line\":{\"color\":\"white\"}},\"type\":\"table\"}],\"barpolar\":[{\"marker\":{\"line\":{\"color\":\"#E5ECF6\",\"width\":0.5},\"pattern\":{\"fillmode\":\"overlay\",\"size\":10,\"solidity\":0.2}},\"type\":\"barpolar\"}],\"pie\":[{\"automargin\":true,\"type\":\"pie\"}]},\"layout\":{\"autotypenumbers\":\"strict\",\"colorway\":[\"#636efa\",\"#EF553B\",\"#00cc96\",\"#ab63fa\",\"#FFA15A\",\"#19d3f3\",\"#FF6692\",\"#B6E880\",\"#FF97FF\",\"#FECB52\"],\"font\":{\"color\":\"#2a3f5f\"},\"hovermode\":\"closest\",\"hoverlabel\":{\"align\":\"left\"},\"paper_bgcolor\":\"white\",\"plot_bgcolor\":\"#E5ECF6\",\"polar\":{\"bgcolor\":\"#E5ECF6\",\"angularaxis\":{\"gridcolor\":\"white\",\"linecolor\":\"white\",\"ticks\":\"\"},\"radialaxis\":{\"gridcolor\":\"white\",\"linecolor\":\"white\",\"ticks\":\"\"}},\"ternary\":{\"bgcolor\":\"#E5ECF6\",\"aaxis\":{\"gridcolor\":\"white\",\"linecolor\":\"white\",\"ticks\":\"\"},\"baxis\":{\"gridcolor\":\"white\",\"linecolor\":\"white\",\"ticks\":\"\"},\"caxis\":{\"gridcolor\":\"white\",\"linecolor\":\"white\",\"ticks\":\"\"}},\"coloraxis\":{\"colorbar\":{\"outlinewidth\":0,\"ticks\":\"\"}},\"colorscale\":{\"sequential\":[[0.0,\"#0d0887\"],[0.1111111111111111,\"#46039f\"],[0.2222222222222222,\"#7201a8\"],[0.3333333333333333,\"#9c179e\"],[0.4444444444444444,\"#bd3786\"],[0.5555555555555556,\"#d8576b\"],[0.6666666666666666,\"#ed7953\"],[0.7777777777777778,\"#fb9f3a\"],[0.8888888888888888,\"#fdca26\"],[1.0,\"#f0f921\"]],\"sequentialminus\":[[0.0,\"#0d0887\"],[0.1111111111111111,\"#46039f\"],[0.2222222222222222,\"#7201a8\"],[0.3333333333333333,\"#9c179e\"],[0.4444444444444444,\"#bd3786\"],[0.5555555555555556,\"#d8576b\"],[0.6666666666666666,\"#ed7953\"],[0.7777777777777778,\"#fb9f3a\"],[0.8888888888888888,\"#fdca26\"],[1.0,\"#f0f921\"]],\"diverging\":[[0,\"#8e0152\"],[0.1,\"#c51b7d\"],[0.2,\"#de77ae\"],[0.3,\"#f1b6da\"],[0.4,\"#fde0ef\"],[0.5,\"#f7f7f7\"],[0.6,\"#e6f5d0\"],[0.7,\"#b8e186\"],[0.8,\"#7fbc41\"],[0.9,\"#4d9221\"],[1,\"#276419\"]]},\"xaxis\":{\"gridcolor\":\"white\",\"linecolor\":\"white\",\"ticks\":\"\",\"title\":{\"standoff\":15},\"zerolinecolor\":\"white\",\"automargin\":true,\"zerolinewidth\":2},\"yaxis\":{\"gridcolor\":\"white\",\"linecolor\":\"white\",\"ticks\":\"\",\"title\":{\"standoff\":15},\"zerolinecolor\":\"white\",\"automargin\":true,\"zerolinewidth\":2},\"scene\":{\"xaxis\":{\"backgroundcolor\":\"#E5ECF6\",\"gridcolor\":\"white\",\"linecolor\":\"white\",\"showbackground\":true,\"ticks\":\"\",\"zerolinecolor\":\"white\",\"gridwidth\":2},\"yaxis\":{\"backgroundcolor\":\"#E5ECF6\",\"gridcolor\":\"white\",\"linecolor\":\"white\",\"showbackground\":true,\"ticks\":\"\",\"zerolinecolor\":\"white\",\"gridwidth\":2},\"zaxis\":{\"backgroundcolor\":\"#E5ECF6\",\"gridcolor\":\"white\",\"linecolor\":\"white\",\"showbackground\":true,\"ticks\":\"\",\"zerolinecolor\":\"white\",\"gridwidth\":2}},\"shapedefaults\":{\"line\":{\"color\":\"#2a3f5f\"}},\"annotationdefaults\":{\"arrowcolor\":\"#2a3f5f\",\"arrowhead\":0,\"arrowwidth\":1},\"geo\":{\"bgcolor\":\"white\",\"landcolor\":\"#E5ECF6\",\"subunitcolor\":\"white\",\"showland\":true,\"showlakes\":true,\"lakecolor\":\"white\"},\"title\":{\"x\":0.05},\"mapbox\":{\"style\":\"light\"}}},\"xaxis\":{\"anchor\":\"y\",\"domain\":[0.0,1.0],\"title\":{\"text\":\"Development\"},\"tickangle\":45},\"yaxis\":{\"anchor\":\"x\",\"domain\":[0.0,1.0],\"title\":{\"text\":\"Sold Price\"},\"tickvals\":[50000,100000,150000,200000,250000,300000,350000,400000,450000,500000,550000,600000],\"ticktext\":[\"$50,000\",\"$100,000\",\"$150,000\",\"$200,000\",\"$250,000\",\"$300,000\",\"$350,000\",\"$400,000\",\"$450,000\",\"$500,000\",\"$550,000\",\"$600,000\"]},\"legend\":{\"title\":{\"text\":\"Appearance_categorical\"},\"tracegroupgap\":0},\"title\":{\"text\":\"Second Floor Sold Price vs. Condition\"},\"width\":1000,\"height\":600,\"plot_bgcolor\":\"lightblue\"},                        {\"responsive\": true}                    ).then(function(){\n",
              "                            \n",
              "var gd = document.getElementById('18fcaca7-e360-4826-9a9c-1323e46a329e');\n",
              "var x = new MutationObserver(function (mutations, observer) {{\n",
              "        var display = window.getComputedStyle(gd).display;\n",
              "        if (!display || display === 'none') {{\n",
              "            console.log([gd, 'removed!']);\n",
              "            Plotly.purge(gd);\n",
              "            observer.disconnect();\n",
              "        }}\n",
              "}});\n",
              "\n",
              "// Listen for the removal of the full notebook cells\n",
              "var notebookContainer = gd.closest('#notebook-container');\n",
              "if (notebookContainer) {{\n",
              "    x.observe(notebookContainer, {childList: true});\n",
              "}}\n",
              "\n",
              "// Listen for the clearing of the current output cell\n",
              "var outputEl = gd.closest('.output');\n",
              "if (outputEl) {{\n",
              "    x.observe(outputEl, {childList: true});\n",
              "}}\n",
              "\n",
              "                        })                };                            </script>        </div>\n",
              "</body>\n",
              "</html>"
            ]
          },
          "metadata": {},
          "output_type": "display_data"
        }
      ],
      "source": [
        "Second_floor = condo[condo['Unit_on_Floor_#'] == 2]\n",
        "\n",
        "\n",
        "import plotly.express as px\n",
        "\n",
        "# Calculate the y-axis tick values (starting at $50,000 and incrementing by $50,000)\n",
        "min_price = One_Bedroom['Sold_Price'].min()\n",
        "max_price = One_Bedroom['Sold_Price'].max()\n",
        "y_ticks = list(range(int(min_price) // 50000 * 50000 + 50000, int(max_price) + 50000, 50000))\n",
        "\n",
        "# Create the scatter plot\n",
        "fig = px.scatter(data_frame= Second_floor, x='Development', y='Sold_Price', color='Appearance_categorical',\n",
        "                 title='Second Floor Sold Price vs. Condition',\n",
        "                 labels={'Development': 'Development', 'Sold_Price': 'Sold Price', 'Town': 'Town'},\n",
        "                 hover_data=['Development'])\n",
        "\n",
        "# Show the legend\n",
        "fig.update_traces(showlegend=True)\n",
        "\n",
        "# Update the x-axis labels to be rotated 45 degrees\n",
        "fig.update_layout(xaxis=dict(tickangle=45))\n",
        "\n",
        "# Set the y-axis tick values and labels\n",
        "fig.update_yaxes(\n",
        "    tickvals=y_ticks,\n",
        "    ticktext=[f\"${tick:,}\" for tick in y_ticks]\n",
        ")\n",
        "\n",
        "fig.update_layout(width=1000)\n",
        "fig.update_layout(height=600)\n",
        "\n",
        "# Change the background color to black\n",
        "fig.update_layout(plot_bgcolor='lightblue')\n",
        "\n",
        "fig.show()\n"
      ]
    }
  ],
  "metadata": {
    "colab": {
      "toc_visible": true,
      "provenance": [],
      "authorship_tag": "ABX9TyOQ4vOgn5gCBSKDgN14uinm",
      "include_colab_link": true
    },
    "kernelspec": {
      "display_name": "Python 3",
      "name": "python3"
    },
    "language_info": {
      "name": "python"
    }
  },
  "nbformat": 4,
  "nbformat_minor": 0
}