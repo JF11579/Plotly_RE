{
  "nbformat": 4,
  "nbformat_minor": 0,
  "metadata": {
    "colab": {
      "provenance": [],
      "mount_file_id": "1AYx7kLJOlOTjwRJ_4ydxUhO6HQALT0Ps",
      "authorship_tag": "ABX9TyM+AmUd/JrCd3SzrRcWjLb/",
      "include_colab_link": true
    },
    "kernelspec": {
      "name": "python3",
      "display_name": "Python 3"
    },
    "language_info": {
      "name": "python"
    }
  },
  "cells": [
    {
      "cell_type": "markdown",
      "metadata": {
        "id": "view-in-github",
        "colab_type": "text"
      },
      "source": [
        "<a href=\"https://colab.research.google.com/github/JF11579/Plotly_RE/blob/main/Condos_BoxPlots.ipynb\" target=\"_parent\"><img src=\"https://colab.research.google.com/assets/colab-badge.svg\" alt=\"Open In Colab\"/></a>"
      ]
    },
    {
      "cell_type": "markdown",
      "source": [
        "# Notes"
      ],
      "metadata": {
        "id": "p8cSBH3F89hg"
      }
    },
    {
      "cell_type": "markdown",
      "source": [
        "# Libraries"
      ],
      "metadata": {
        "id": "_DzKjZIc9B8N"
      }
    },
    {
      "cell_type": "code",
      "source": [
        "#!pip install dash"
      ],
      "metadata": {
        "colab": {
          "base_uri": "https://localhost:8080/"
        },
        "id": "opYf9ES4UBVK",
        "outputId": "6374d72a-f305-4368-af0f-c63314663340"
      },
      "execution_count": null,
      "outputs": [
        {
          "output_type": "stream",
          "name": "stdout",
          "text": [
            "Requirement already satisfied: dash in /usr/local/lib/python3.10/dist-packages (2.12.1)\n",
            "Requirement already satisfied: Flask<2.3.0,>=1.0.4 in /usr/local/lib/python3.10/dist-packages (from dash) (2.2.5)\n",
            "Requirement already satisfied: Werkzeug<2.3.0 in /usr/local/lib/python3.10/dist-packages (from dash) (2.2.3)\n",
            "Requirement already satisfied: plotly>=5.0.0 in /usr/local/lib/python3.10/dist-packages (from dash) (5.15.0)\n",
            "Requirement already satisfied: dash-html-components==2.0.0 in /usr/local/lib/python3.10/dist-packages (from dash) (2.0.0)\n",
            "Requirement already satisfied: dash-core-components==2.0.0 in /usr/local/lib/python3.10/dist-packages (from dash) (2.0.0)\n",
            "Requirement already satisfied: dash-table==5.0.0 in /usr/local/lib/python3.10/dist-packages (from dash) (5.0.0)\n",
            "Requirement already satisfied: typing-extensions>=4.1.1 in /usr/local/lib/python3.10/dist-packages (from dash) (4.7.1)\n",
            "Requirement already satisfied: requests in /usr/local/lib/python3.10/dist-packages (from dash) (2.31.0)\n",
            "Requirement already satisfied: retrying in /usr/local/lib/python3.10/dist-packages (from dash) (1.3.4)\n",
            "Requirement already satisfied: ansi2html in /usr/local/lib/python3.10/dist-packages (from dash) (1.8.0)\n",
            "Requirement already satisfied: nest-asyncio in /usr/local/lib/python3.10/dist-packages (from dash) (1.5.7)\n",
            "Requirement already satisfied: setuptools in /usr/local/lib/python3.10/dist-packages (from dash) (67.7.2)\n",
            "Requirement already satisfied: Jinja2>=3.0 in /usr/local/lib/python3.10/dist-packages (from Flask<2.3.0,>=1.0.4->dash) (3.1.2)\n",
            "Requirement already satisfied: itsdangerous>=2.0 in /usr/local/lib/python3.10/dist-packages (from Flask<2.3.0,>=1.0.4->dash) (2.1.2)\n",
            "Requirement already satisfied: click>=8.0 in /usr/local/lib/python3.10/dist-packages (from Flask<2.3.0,>=1.0.4->dash) (8.1.6)\n",
            "Requirement already satisfied: tenacity>=6.2.0 in /usr/local/lib/python3.10/dist-packages (from plotly>=5.0.0->dash) (8.2.2)\n",
            "Requirement already satisfied: packaging in /usr/local/lib/python3.10/dist-packages (from plotly>=5.0.0->dash) (23.1)\n",
            "Requirement already satisfied: MarkupSafe>=2.1.1 in /usr/local/lib/python3.10/dist-packages (from Werkzeug<2.3.0->dash) (2.1.3)\n",
            "Requirement already satisfied: charset-normalizer<4,>=2 in /usr/local/lib/python3.10/dist-packages (from requests->dash) (3.2.0)\n",
            "Requirement already satisfied: idna<4,>=2.5 in /usr/local/lib/python3.10/dist-packages (from requests->dash) (3.4)\n",
            "Requirement already satisfied: urllib3<3,>=1.21.1 in /usr/local/lib/python3.10/dist-packages (from requests->dash) (2.0.4)\n",
            "Requirement already satisfied: certifi>=2017.4.17 in /usr/local/lib/python3.10/dist-packages (from requests->dash) (2023.7.22)\n",
            "Requirement already satisfied: six>=1.7.0 in /usr/local/lib/python3.10/dist-packages (from retrying->dash) (1.16.0)\n"
          ]
        }
      ]
    },
    {
      "cell_type": "code",
      "execution_count": null,
      "metadata": {
        "id": "SesBydhG82LV"
      },
      "outputs": [],
      "source": [
        "import pandas as pd\n",
        "import plotly.express as px\n",
        "import dash"
      ]
    },
    {
      "cell_type": "markdown",
      "source": [
        "# Options"
      ],
      "metadata": {
        "id": "08b2UKQp9EBn"
      }
    },
    {
      "cell_type": "code",
      "source": [
        "pd.set_option('display.max_columns', None)"
      ],
      "metadata": {
        "id": "gCN3H3YL9FL3"
      },
      "execution_count": null,
      "outputs": []
    },
    {
      "cell_type": "markdown",
      "source": [
        "# Data"
      ],
      "metadata": {
        "id": "YY6xmhQ99F3k"
      }
    },
    {
      "cell_type": "code",
      "source": [
        "# Mount Google Drive\n",
        "from google.colab import drive\n",
        "#drive.mount('/content/drive')\n",
        "#drive.mount('/content/drive', force_remount=True)\n",
        "#/content/drive/MyDrive/DATA/Real_Estate_Data\n",
        "\n",
        "# Change the working directory to the 'data' folder\n",
        "%cd /content/drive/MyDrive/DATA/Real_Estate_Data\n",
        "\n",
        "# Load the data from the 'iris.csv' file\n",
        "condos = pd.read_csv('Condos_2023_Geocoded - condos_2023.csv')\n",
        "#/content/drive/MyDrive/DATA/Real_Estate_Data/Condos_2023_Geocoded.gsheet\n",
        "\n",
        "# Print the data\n",
        "print(condos)"
      ],
      "metadata": {
        "colab": {
          "base_uri": "https://localhost:8080/"
        },
        "id": "h6UbIYg6-gD1",
        "outputId": "687542f7-2d3d-4ea2-cdd4-daa19eef2b28"
      },
      "execution_count": null,
      "outputs": [
        {
          "output_type": "stream",
          "name": "stdout",
          "text": [
            "/content/drive/MyDrive/DATA/Real_Estate_Data\n",
            "               Address       Town    Zip State             Style  \\\n",
            "0     1B Hemlock Drive  Bay Shore  11706    NY             Other   \n",
            "1    15A Hemlock Drive  Bay Shore  11706    NY             Other   \n",
            "2      6 Hemlock Court     Selden  11784    NY  Garden Apartment   \n",
            "3          306 Torquay      Ridge  11961    NY             Other   \n",
            "4      36F Trent Court      Ridge  11961    NY             Other   \n",
            "..                 ...        ...    ...   ...               ...   \n",
            "188   136 Mariner Lane  Bay Shore  11706    NY         Townhouse   \n",
            "189   17 Captains Walk  Bay Shore  11706    NY         Townhouse   \n",
            "190    156 Anchor Lane  Bay Shore  11706    NY         Townhouse   \n",
            "191   201 Captains Way  Bay Shore  11706    NY         Townhouse   \n",
            "192       4 Redwood Ct        NaN   1975     U               NaN   \n",
            "\n",
            "              Development      ML#                                 Sold_Price  \\\n",
            "0        Lexington Villag  3438743                                     116000   \n",
            "1       Lexington Village  3450794                                     143000   \n",
            "2    Village In The Woods  3441205                                     177000   \n",
            "3         Leisure Village  3442943                                     180000   \n",
            "4         Leisure Village  3452336                                     180000   \n",
            "..                    ...      ...                                        ...   \n",
            "188             Admiralty  3416494                                     770000   \n",
            "189         Captains Walk  3450820                                     875000   \n",
            "190             Admiralty  3416166                                     880000   \n",
            "191         The Admiralty  3436375                                     900000   \n",
            "192  Village In The Woods  3425610  Call/Text LA 631-921-1278 or 631-804-5648   \n",
            "\n",
            "                                full_address   Latitude  Longitude  \n",
            "0     1B Hemlock Drive, Bay Shore, NY  11706  40.756512 -73.270123  \n",
            "1    15A Hemlock Drive, Bay Shore, NY  11706  40.755435 -73.273350  \n",
            "2         6 Hemlock Court, Selden, NY  11784  40.858086 -73.017183  \n",
            "3              306 Torquay, Ridge, NY  11961  40.914306 -72.901068  \n",
            "4          36F Trent Court, Ridge, NY  11961  40.920276 -72.890916  \n",
            "..                                       ...        ...        ...  \n",
            "188   136 Mariner Lane, Bay Shore, NY  11706  40.704852 -73.260004  \n",
            "189   17 Captains Walk, Bay Shore, NY  11706  40.701587 -73.252907  \n",
            "190    156 Anchor Lane, Bay Shore, NY  11706  40.704789 -73.262287  \n",
            "191   201 Captains Way, Bay Shore, NY  11706  40.701913 -73.263796  \n",
            "192                                      NaN        NaN        NaN  \n",
            "\n",
            "[193 rows x 11 columns]\n"
          ]
        }
      ]
    },
    {
      "cell_type": "code",
      "source": [
        "condos.head(3)"
      ],
      "metadata": {
        "colab": {
          "base_uri": "https://localhost:8080/",
          "height": 346
        },
        "id": "AcGmPOqd-f_M",
        "outputId": "2662d6ed-c0bd-423d-e125-a9efbfea3f9f"
      },
      "execution_count": null,
      "outputs": [
        {
          "output_type": "execute_result",
          "data": {
            "text/plain": [
              "             Address       Town    Zip State             Style  \\\n",
              "0   1B Hemlock Drive  Bay Shore  11706    NY             Other   \n",
              "1  15A Hemlock Drive  Bay Shore  11706    NY             Other   \n",
              "2    6 Hemlock Court     Selden  11784    NY  Garden Apartment   \n",
              "\n",
              "            Development      ML#  Sold_Price  \\\n",
              "0      Lexington Villag  3438743      116000   \n",
              "1     Lexington Village  3450794      143000   \n",
              "2  Village In The Woods  3441205      177000   \n",
              "\n",
              "                              full_address   Latitude  Longitude  \n",
              "0   1B Hemlock Drive, Bay Shore, NY  11706  40.756512 -73.270123  \n",
              "1  15A Hemlock Drive, Bay Shore, NY  11706  40.755435 -73.273350  \n",
              "2       6 Hemlock Court, Selden, NY  11784  40.858086 -73.017183  "
            ],
            "text/html": [
              "\n",
              "\n",
              "  <div id=\"df-c3dccf15-4c55-4afc-be4f-d09063dd305e\">\n",
              "    <div class=\"colab-df-container\">\n",
              "      <div>\n",
              "<style scoped>\n",
              "    .dataframe tbody tr th:only-of-type {\n",
              "        vertical-align: middle;\n",
              "    }\n",
              "\n",
              "    .dataframe tbody tr th {\n",
              "        vertical-align: top;\n",
              "    }\n",
              "\n",
              "    .dataframe thead th {\n",
              "        text-align: right;\n",
              "    }\n",
              "</style>\n",
              "<table border=\"1\" class=\"dataframe\">\n",
              "  <thead>\n",
              "    <tr style=\"text-align: right;\">\n",
              "      <th></th>\n",
              "      <th>Address</th>\n",
              "      <th>Town</th>\n",
              "      <th>Zip</th>\n",
              "      <th>State</th>\n",
              "      <th>Style</th>\n",
              "      <th>Development</th>\n",
              "      <th>ML#</th>\n",
              "      <th>Sold_Price</th>\n",
              "      <th>full_address</th>\n",
              "      <th>Latitude</th>\n",
              "      <th>Longitude</th>\n",
              "    </tr>\n",
              "  </thead>\n",
              "  <tbody>\n",
              "    <tr>\n",
              "      <th>0</th>\n",
              "      <td>1B Hemlock Drive</td>\n",
              "      <td>Bay Shore</td>\n",
              "      <td>11706</td>\n",
              "      <td>NY</td>\n",
              "      <td>Other</td>\n",
              "      <td>Lexington Villag</td>\n",
              "      <td>3438743</td>\n",
              "      <td>116000</td>\n",
              "      <td>1B Hemlock Drive, Bay Shore, NY  11706</td>\n",
              "      <td>40.756512</td>\n",
              "      <td>-73.270123</td>\n",
              "    </tr>\n",
              "    <tr>\n",
              "      <th>1</th>\n",
              "      <td>15A Hemlock Drive</td>\n",
              "      <td>Bay Shore</td>\n",
              "      <td>11706</td>\n",
              "      <td>NY</td>\n",
              "      <td>Other</td>\n",
              "      <td>Lexington Village</td>\n",
              "      <td>3450794</td>\n",
              "      <td>143000</td>\n",
              "      <td>15A Hemlock Drive, Bay Shore, NY  11706</td>\n",
              "      <td>40.755435</td>\n",
              "      <td>-73.273350</td>\n",
              "    </tr>\n",
              "    <tr>\n",
              "      <th>2</th>\n",
              "      <td>6 Hemlock Court</td>\n",
              "      <td>Selden</td>\n",
              "      <td>11784</td>\n",
              "      <td>NY</td>\n",
              "      <td>Garden Apartment</td>\n",
              "      <td>Village In The Woods</td>\n",
              "      <td>3441205</td>\n",
              "      <td>177000</td>\n",
              "      <td>6 Hemlock Court, Selden, NY  11784</td>\n",
              "      <td>40.858086</td>\n",
              "      <td>-73.017183</td>\n",
              "    </tr>\n",
              "  </tbody>\n",
              "</table>\n",
              "</div>\n",
              "      <button class=\"colab-df-convert\" onclick=\"convertToInteractive('df-c3dccf15-4c55-4afc-be4f-d09063dd305e')\"\n",
              "              title=\"Convert this dataframe to an interactive table.\"\n",
              "              style=\"display:none;\">\n",
              "\n",
              "  <svg xmlns=\"http://www.w3.org/2000/svg\" height=\"24px\"viewBox=\"0 0 24 24\"\n",
              "       width=\"24px\">\n",
              "    <path d=\"M0 0h24v24H0V0z\" fill=\"none\"/>\n",
              "    <path d=\"M18.56 5.44l.94 2.06.94-2.06 2.06-.94-2.06-.94-.94-2.06-.94 2.06-2.06.94zm-11 1L8.5 8.5l.94-2.06 2.06-.94-2.06-.94L8.5 2.5l-.94 2.06-2.06.94zm10 10l.94 2.06.94-2.06 2.06-.94-2.06-.94-.94-2.06-.94 2.06-2.06.94z\"/><path d=\"M17.41 7.96l-1.37-1.37c-.4-.4-.92-.59-1.43-.59-.52 0-1.04.2-1.43.59L10.3 9.45l-7.72 7.72c-.78.78-.78 2.05 0 2.83L4 21.41c.39.39.9.59 1.41.59.51 0 1.02-.2 1.41-.59l7.78-7.78 2.81-2.81c.8-.78.8-2.07 0-2.86zM5.41 20L4 18.59l7.72-7.72 1.47 1.35L5.41 20z\"/>\n",
              "  </svg>\n",
              "      </button>\n",
              "\n",
              "\n",
              "\n",
              "    <div id=\"df-526032c3-1dbf-4ebb-8c36-6fd909c21e20\">\n",
              "      <button class=\"colab-df-quickchart\" onclick=\"quickchart('df-526032c3-1dbf-4ebb-8c36-6fd909c21e20')\"\n",
              "              title=\"Suggest charts.\"\n",
              "              style=\"display:none;\">\n",
              "\n",
              "<svg xmlns=\"http://www.w3.org/2000/svg\" height=\"24px\"viewBox=\"0 0 24 24\"\n",
              "     width=\"24px\">\n",
              "    <g>\n",
              "        <path d=\"M19 3H5c-1.1 0-2 .9-2 2v14c0 1.1.9 2 2 2h14c1.1 0 2-.9 2-2V5c0-1.1-.9-2-2-2zM9 17H7v-7h2v7zm4 0h-2V7h2v10zm4 0h-2v-4h2v4z\"/>\n",
              "    </g>\n",
              "</svg>\n",
              "      </button>\n",
              "    </div>\n",
              "\n",
              "<style>\n",
              "  .colab-df-quickchart {\n",
              "    background-color: #E8F0FE;\n",
              "    border: none;\n",
              "    border-radius: 50%;\n",
              "    cursor: pointer;\n",
              "    display: none;\n",
              "    fill: #1967D2;\n",
              "    height: 32px;\n",
              "    padding: 0 0 0 0;\n",
              "    width: 32px;\n",
              "  }\n",
              "\n",
              "  .colab-df-quickchart:hover {\n",
              "    background-color: #E2EBFA;\n",
              "    box-shadow: 0px 1px 2px rgba(60, 64, 67, 0.3), 0px 1px 3px 1px rgba(60, 64, 67, 0.15);\n",
              "    fill: #174EA6;\n",
              "  }\n",
              "\n",
              "  [theme=dark] .colab-df-quickchart {\n",
              "    background-color: #3B4455;\n",
              "    fill: #D2E3FC;\n",
              "  }\n",
              "\n",
              "  [theme=dark] .colab-df-quickchart:hover {\n",
              "    background-color: #434B5C;\n",
              "    box-shadow: 0px 1px 3px 1px rgba(0, 0, 0, 0.15);\n",
              "    filter: drop-shadow(0px 1px 2px rgba(0, 0, 0, 0.3));\n",
              "    fill: #FFFFFF;\n",
              "  }\n",
              "</style>\n",
              "\n",
              "    <script>\n",
              "      async function quickchart(key) {\n",
              "        const containerElement = document.querySelector('#' + key);\n",
              "        const charts = await google.colab.kernel.invokeFunction(\n",
              "            'suggestCharts', [key], {});\n",
              "      }\n",
              "    </script>\n",
              "\n",
              "\n",
              "      <script>\n",
              "\n",
              "function displayQuickchartButton(domScope) {\n",
              "  let quickchartButtonEl =\n",
              "    domScope.querySelector('#df-526032c3-1dbf-4ebb-8c36-6fd909c21e20 button.colab-df-quickchart');\n",
              "  quickchartButtonEl.style.display =\n",
              "    google.colab.kernel.accessAllowed ? 'block' : 'none';\n",
              "}\n",
              "\n",
              "        displayQuickchartButton(document);\n",
              "      </script>\n",
              "      <style>\n",
              "    .colab-df-container {\n",
              "      display:flex;\n",
              "      flex-wrap:wrap;\n",
              "      gap: 12px;\n",
              "    }\n",
              "\n",
              "    .colab-df-convert {\n",
              "      background-color: #E8F0FE;\n",
              "      border: none;\n",
              "      border-radius: 50%;\n",
              "      cursor: pointer;\n",
              "      display: none;\n",
              "      fill: #1967D2;\n",
              "      height: 32px;\n",
              "      padding: 0 0 0 0;\n",
              "      width: 32px;\n",
              "    }\n",
              "\n",
              "    .colab-df-convert:hover {\n",
              "      background-color: #E2EBFA;\n",
              "      box-shadow: 0px 1px 2px rgba(60, 64, 67, 0.3), 0px 1px 3px 1px rgba(60, 64, 67, 0.15);\n",
              "      fill: #174EA6;\n",
              "    }\n",
              "\n",
              "    [theme=dark] .colab-df-convert {\n",
              "      background-color: #3B4455;\n",
              "      fill: #D2E3FC;\n",
              "    }\n",
              "\n",
              "    [theme=dark] .colab-df-convert:hover {\n",
              "      background-color: #434B5C;\n",
              "      box-shadow: 0px 1px 3px 1px rgba(0, 0, 0, 0.15);\n",
              "      filter: drop-shadow(0px 1px 2px rgba(0, 0, 0, 0.3));\n",
              "      fill: #FFFFFF;\n",
              "    }\n",
              "  </style>\n",
              "\n",
              "      <script>\n",
              "        const buttonEl =\n",
              "          document.querySelector('#df-c3dccf15-4c55-4afc-be4f-d09063dd305e button.colab-df-convert');\n",
              "        buttonEl.style.display =\n",
              "          google.colab.kernel.accessAllowed ? 'block' : 'none';\n",
              "\n",
              "        async function convertToInteractive(key) {\n",
              "          const element = document.querySelector('#df-c3dccf15-4c55-4afc-be4f-d09063dd305e');\n",
              "          const dataTable =\n",
              "            await google.colab.kernel.invokeFunction('convertToInteractive',\n",
              "                                                     [key], {});\n",
              "          if (!dataTable) return;\n",
              "\n",
              "          const docLinkHtml = 'Like what you see? Visit the ' +\n",
              "            '<a target=\"_blank\" href=https://colab.research.google.com/notebooks/data_table.ipynb>data table notebook</a>'\n",
              "            + ' to learn more about interactive tables.';\n",
              "          element.innerHTML = '';\n",
              "          dataTable['output_type'] = 'display_data';\n",
              "          await google.colab.output.renderOutput(dataTable, element);\n",
              "          const docLink = document.createElement('div');\n",
              "          docLink.innerHTML = docLinkHtml;\n",
              "          element.appendChild(docLink);\n",
              "        }\n",
              "      </script>\n",
              "    </div>\n",
              "  </div>\n"
            ]
          },
          "metadata": {},
          "execution_count": 17
        }
      ]
    },
    {
      "cell_type": "code",
      "source": [
        "isinstance(condos, pd.DataFrame)"
      ],
      "metadata": {
        "colab": {
          "base_uri": "https://localhost:8080/"
        },
        "id": "l0gsl3egGYFg",
        "outputId": "5bb6f093-e61e-4937-f433-7d8b84fecf10"
      },
      "execution_count": null,
      "outputs": [
        {
          "output_type": "execute_result",
          "data": {
            "text/plain": [
              "True"
            ]
          },
          "metadata": {},
          "execution_count": 6
        }
      ]
    },
    {
      "cell_type": "code",
      "source": [
        "# Get list of Towns\n",
        "\n",
        "Towns = condos['Town'].unique()\n",
        "Towns"
      ],
      "metadata": {
        "colab": {
          "base_uri": "https://localhost:8080/"
        },
        "id": "8OIsjlMKZ1wt",
        "outputId": "7ec7ac99-f144-4bfd-9eba-75a5dd5c75a1"
      },
      "execution_count": null,
      "outputs": [
        {
          "output_type": "execute_result",
          "data": {
            "text/plain": [
              "array(['Bay Shore', 'Selden', 'Ridge'], dtype=object)"
            ]
          },
          "metadata": {},
          "execution_count": 18
        }
      ]
    },
    {
      "cell_type": "code",
      "source": [
        "#df = df.drop(192, axis=0)\n",
        "\n",
        "condos = condos.drop(192, axis = 0)\n"
      ],
      "metadata": {
        "id": "YMA1vNMrEPLo"
      },
      "execution_count": null,
      "outputs": []
    },
    {
      "cell_type": "code",
      "source": [
        "#df['price'] = pd.to_numeric(df['price'])\n",
        "condos['Sold_Price'] = pd.to_numeric(condos['Sold_Price'])"
      ],
      "metadata": {
        "id": "0sZX9wOTEWNP"
      },
      "execution_count": null,
      "outputs": []
    },
    {
      "cell_type": "code",
      "source": [
        "# prompt: how do i make interactive oplotly boxplots where Development is the X-axis and Sold price is the Y-axis and the tool tip pop up is the ML# and the address?\n",
        "\n",
        "#import plotly.express as px\n",
        "\n",
        "# Create a box plot\n",
        "# fig = px.box(\n",
        "#     condos,\n",
        "#     x='Development',\n",
        "#     y='Sold_Price',\n",
        "#     color='ML#',\n",
        "#     hover_data=['Address'],\n",
        "# )\n",
        "\n",
        "# # Display the plot\n",
        "# fig.show()\n"
      ],
      "metadata": {
        "id": "5obwq6ejCI4F"
      },
      "execution_count": null,
      "outputs": []
    },
    {
      "cell_type": "code",
      "source": [
        "# prompt: how do i filter a dataframe by town?\n",
        "\n",
        "condos_BayShore = condos.loc[condos['Town'] == 'Bay Shore']\n"
      ],
      "metadata": {
        "id": "seaNIK7KCtu9"
      },
      "execution_count": null,
      "outputs": []
    },
    {
      "cell_type": "code",
      "source": [
        "fig = px.box(\n",
        "    condos_BayShore,\n",
        "    x='Development',\n",
        "    y='Sold_Price',\n",
        "    color='Development',\n",
        "    hover_data=['Address'],\n",
        ")\n",
        "\n",
        "# Display the plot\n",
        "fig.show()"
      ],
      "metadata": {
        "colab": {
          "base_uri": "https://localhost:8080/",
          "height": 542
        },
        "id": "LGjTaisoDCzB",
        "outputId": "aa8c91c6-a795-45ed-f6e2-a95701be90c8"
      },
      "execution_count": null,
      "outputs": [
        {
          "output_type": "display_data",
          "data": {
            "text/html": [
              "<html>\n",
              "<head><meta charset=\"utf-8\" /></head>\n",
              "<body>\n",
              "    <div>            <script src=\"https://cdnjs.cloudflare.com/ajax/libs/mathjax/2.7.5/MathJax.js?config=TeX-AMS-MML_SVG\"></script><script type=\"text/javascript\">if (window.MathJax && window.MathJax.Hub && window.MathJax.Hub.Config) {window.MathJax.Hub.Config({SVG: {font: \"STIX-Web\"}});}</script>                <script type=\"text/javascript\">window.PlotlyConfig = {MathJaxConfig: 'local'};</script>\n",
              "        <script charset=\"utf-8\" src=\"https://cdn.plot.ly/plotly-2.24.1.min.js\"></script>                <div id=\"c133d021-c990-4add-92d6-e1c80aa92b84\" class=\"plotly-graph-div\" style=\"height:525px; width:100%;\"></div>            <script type=\"text/javascript\">                                    window.PLOTLYENV=window.PLOTLYENV || {};                                    if (document.getElementById(\"c133d021-c990-4add-92d6-e1c80aa92b84\")) {                    Plotly.newPlot(                        \"c133d021-c990-4add-92d6-e1c80aa92b84\",                        [{\"alignmentgroup\":\"True\",\"customdata\":[[\"1B Hemlock Drive\"]],\"hovertemplate\":\"Development=%{x}\\u003cbr\\u003eSold_Price=%{y}\\u003cbr\\u003eAddress=%{customdata[0]}\\u003cextra\\u003e\\u003c\\u002fextra\\u003e\",\"legendgroup\":\"Lexington Villag\",\"marker\":{\"color\":\"#636efa\"},\"name\":\"Lexington Villag\",\"notched\":false,\"offsetgroup\":\"Lexington Villag\",\"orientation\":\"v\",\"showlegend\":true,\"x\":[\"Lexington Villag\"],\"x0\":\" \",\"xaxis\":\"x\",\"y\":[116000],\"y0\":\" \",\"yaxis\":\"y\",\"type\":\"box\"},{\"alignmentgroup\":\"True\",\"customdata\":[[\"15A Hemlock Drive\"]],\"hovertemplate\":\"Development=%{x}\\u003cbr\\u003eSold_Price=%{y}\\u003cbr\\u003eAddress=%{customdata[0]}\\u003cextra\\u003e\\u003c\\u002fextra\\u003e\",\"legendgroup\":\"Lexington Village\",\"marker\":{\"color\":\"#EF553B\"},\"name\":\"Lexington Village\",\"notched\":false,\"offsetgroup\":\"Lexington Village\",\"orientation\":\"v\",\"showlegend\":true,\"x\":[\"Lexington Village\"],\"x0\":\" \",\"xaxis\":\"x\",\"y\":[143000],\"y0\":\" \",\"yaxis\":\"y\",\"type\":\"box\"},{\"alignmentgroup\":\"True\",\"customdata\":[[\"6 Cortland Place\"]],\"hovertemplate\":\"Development=%{x}\\u003cbr\\u003eSold_Price=%{y}\\u003cbr\\u003eAddress=%{customdata[0]}\\u003cextra\\u003e\\u003c\\u002fextra\\u003e\",\"legendgroup\":\"Cortland Square\",\"marker\":{\"color\":\"#00cc96\"},\"name\":\"Cortland Square\",\"notched\":false,\"offsetgroup\":\"Cortland Square\",\"orientation\":\"v\",\"showlegend\":true,\"x\":[\"Cortland Square\"],\"x0\":\" \",\"xaxis\":\"x\",\"y\":[207271],\"y0\":\" \",\"yaxis\":\"y\",\"type\":\"box\"},{\"alignmentgroup\":\"True\",\"customdata\":[[\"133 Newbrook Lane\"],[\"101 Newbrook Lane\"],[\"3 Newbrook Lane\"],[\"99 Newbrook Lane\"],[\"29 Pinebrook Place\"]],\"hovertemplate\":\"Development=%{x}\\u003cbr\\u003eSold_Price=%{y}\\u003cbr\\u003eAddress=%{customdata[0]}\\u003cextra\\u003e\\u003c\\u002fextra\\u003e\",\"legendgroup\":\"Newbrook Gardens\",\"marker\":{\"color\":\"#ab63fa\"},\"name\":\"Newbrook Gardens\",\"notched\":false,\"offsetgroup\":\"Newbrook Gardens\",\"orientation\":\"v\",\"showlegend\":true,\"x\":[\"Newbrook Gardens\",\"Newbrook Gardens\",\"Newbrook Gardens\",\"Newbrook Gardens\",\"Newbrook Gardens\"],\"x0\":\" \",\"xaxis\":\"x\",\"y\":[210000,240000,245000,250000,265000],\"y0\":\" \",\"yaxis\":\"y\",\"type\":\"box\"},{\"alignmentgroup\":\"True\",\"customdata\":[[\"104 Autumn Court\"]],\"hovertemplate\":\"Development=%{x}\\u003cbr\\u003eSold_Price=%{y}\\u003cbr\\u003eAddress=%{customdata[0]}\\u003cextra\\u003e\\u003c\\u002fextra\\u003e\",\"legendgroup\":\"Sunnybrook\",\"marker\":{\"color\":\"#FFA15A\"},\"name\":\"Sunnybrook\",\"notched\":false,\"offsetgroup\":\"Sunnybrook\",\"orientation\":\"v\",\"showlegend\":true,\"x\":[\"Sunnybrook\"],\"x0\":\" \",\"xaxis\":\"x\",\"y\":[290000],\"y0\":\" \",\"yaxis\":\"y\",\"type\":\"box\"},{\"alignmentgroup\":\"True\",\"customdata\":[[\"47 Lakeside Lane\"],[\"8 Cedar Ridge Lane\"],[\"22 Lakeside Lane\"],[\"38 Cedar Ridge Lane\"],[\"19 Pleasant Lane\"]],\"hovertemplate\":\"Development=%{x}\\u003cbr\\u003eSold_Price=%{y}\\u003cbr\\u003eAddress=%{customdata[0]}\\u003cextra\\u003e\\u003c\\u002fextra\\u003e\",\"legendgroup\":\"Windemere\",\"marker\":{\"color\":\"#19d3f3\"},\"name\":\"Windemere\",\"notched\":false,\"offsetgroup\":\"Windemere\",\"orientation\":\"v\",\"showlegend\":true,\"x\":[\"Windemere\",\"Windemere\",\"Windemere\",\"Windemere\",\"Windemere\"],\"x0\":\" \",\"xaxis\":\"x\",\"y\":[418000,460000,532500,557000,592500],\"y0\":\" \",\"yaxis\":\"y\",\"type\":\"box\"},{\"alignmentgroup\":\"True\",\"customdata\":[[\"71 Smith Avenue\"]],\"hovertemplate\":\"Development=%{x}\\u003cbr\\u003eSold_Price=%{y}\\u003cbr\\u003eAddress=%{customdata[0]}\\u003cextra\\u003e\\u003c\\u002fextra\\u003e\",\"legendgroup\":\"Southwind Village\",\"marker\":{\"color\":\"#FF6692\"},\"name\":\"Southwind Village\",\"notched\":false,\"offsetgroup\":\"Southwind Village\",\"orientation\":\"v\",\"showlegend\":true,\"x\":[\"Southwind Village\"],\"x0\":\" \",\"xaxis\":\"x\",\"y\":[428000],\"y0\":\" \",\"yaxis\":\"y\",\"type\":\"box\"},{\"alignmentgroup\":\"True\",\"customdata\":[[\"6 Pleasant Lane\"],[\"49 Lakeside Lane\"],[\"16 Pleasant Lane\"],[\"16 Pleasant Lane\"],[\"7  Pleasant Lane\"]],\"hovertemplate\":\"Development=%{x}\\u003cbr\\u003eSold_Price=%{y}\\u003cbr\\u003eAddress=%{customdata[0]}\\u003cextra\\u003e\\u003c\\u002fextra\\u003e\",\"legendgroup\":\"Windemere Pond\",\"marker\":{\"color\":\"#B6E880\"},\"name\":\"Windemere Pond\",\"notched\":false,\"offsetgroup\":\"Windemere Pond\",\"orientation\":\"v\",\"showlegend\":true,\"x\":[\"Windemere Pond\",\"Windemere Pond\",\"Windemere Pond\",\"Windemere Pond\",\"Windemere Pond\"],\"x0\":\" \",\"xaxis\":\"x\",\"y\":[499000,585000,590000,590000,663000],\"y0\":\" \",\"yaxis\":\"y\",\"type\":\"box\"},{\"alignmentgroup\":\"True\",\"customdata\":[[\"202 Pleasant Drive\"]],\"hovertemplate\":\"Development=%{x}\\u003cbr\\u003eSold_Price=%{y}\\u003cbr\\u003eAddress=%{customdata[0]}\\u003cextra\\u003e\\u003c\\u002fextra\\u003e\",\"legendgroup\":\"Mystic Oaks\",\"marker\":{\"color\":\"#FF97FF\"},\"name\":\"Mystic Oaks\",\"notched\":false,\"offsetgroup\":\"Mystic Oaks\",\"orientation\":\"v\",\"showlegend\":true,\"x\":[\"Mystic Oaks\"],\"x0\":\" \",\"xaxis\":\"x\",\"y\":[550000],\"y0\":\" \",\"yaxis\":\"y\",\"type\":\"box\"},{\"alignmentgroup\":\"True\",\"customdata\":[[\"35 Joyces Way\"]],\"hovertemplate\":\"Development=%{x}\\u003cbr\\u003eSold_Price=%{y}\\u003cbr\\u003eAddress=%{customdata[0]}\\u003cextra\\u003e\\u003c\\u002fextra\\u003e\",\"legendgroup\":\"Windcrest\",\"marker\":{\"color\":\"#FECB52\"},\"name\":\"Windcrest\",\"notched\":false,\"offsetgroup\":\"Windcrest\",\"orientation\":\"v\",\"showlegend\":true,\"x\":[\"Windcrest\"],\"x0\":\" \",\"xaxis\":\"x\",\"y\":[555000],\"y0\":\" \",\"yaxis\":\"y\",\"type\":\"box\"},{\"alignmentgroup\":\"True\",\"customdata\":[[\"25 Torrey Pine Lane\"],[\"41 Torrey Pine Lane\"],[\"38 Sugar Pine Lane\"]],\"hovertemplate\":\"Development=%{x}\\u003cbr\\u003eSold_Price=%{y}\\u003cbr\\u003eAddress=%{customdata[0]}\\u003cextra\\u003e\\u003c\\u002fextra\\u003e\",\"legendgroup\":\"Mystic Pines\",\"marker\":{\"color\":\"#636efa\"},\"name\":\"Mystic Pines\",\"notched\":false,\"offsetgroup\":\"Mystic Pines\",\"orientation\":\"v\",\"showlegend\":true,\"x\":[\"Mystic Pines\",\"Mystic Pines\",\"Mystic Pines\"],\"x0\":\" \",\"xaxis\":\"x\",\"y\":[555000,563000,595000],\"y0\":\" \",\"yaxis\":\"y\",\"type\":\"box\"},{\"alignmentgroup\":\"True\",\"customdata\":[[\"5 Villa Promenade\"]],\"hovertemplate\":\"Development=%{x}\\u003cbr\\u003eSold_Price=%{y}\\u003cbr\\u003eAddress=%{customdata[0]}\\u003cextra\\u003e\\u003c\\u002fextra\\u003e\",\"legendgroup\":\"Villa Promenade\",\"marker\":{\"color\":\"#EF553B\"},\"name\":\"Villa Promenade\",\"notched\":false,\"offsetgroup\":\"Villa Promenade\",\"orientation\":\"v\",\"showlegend\":true,\"x\":[\"Villa Promenade\"],\"x0\":\" \",\"xaxis\":\"x\",\"y\":[575000],\"y0\":\" \",\"yaxis\":\"y\",\"type\":\"box\"},{\"alignmentgroup\":\"True\",\"customdata\":[[\"122 Corral Lane\"],[\"211 Otis Lane\"],[\"163 Boathouse Lane\"]],\"hovertemplate\":\"Development=%{x}\\u003cbr\\u003eSold_Price=%{y}\\u003cbr\\u003eAddress=%{customdata[0]}\\u003cextra\\u003e\\u003c\\u002fextra\\u003e\",\"legendgroup\":\"Sunscape\",\"marker\":{\"color\":\"#00cc96\"},\"name\":\"Sunscape\",\"notched\":false,\"offsetgroup\":\"Sunscape\",\"orientation\":\"v\",\"showlegend\":true,\"x\":[\"Sunscape\",\"Sunscape\",\"Sunscape\"],\"x0\":\" \",\"xaxis\":\"x\",\"y\":[580000,632500,635000],\"y0\":\" \",\"yaxis\":\"y\",\"type\":\"box\"},{\"alignmentgroup\":\"True\",\"customdata\":[[\"11 Admirals Drive E\"],[\"201 Captains Way\"]],\"hovertemplate\":\"Development=%{x}\\u003cbr\\u003eSold_Price=%{y}\\u003cbr\\u003eAddress=%{customdata[0]}\\u003cextra\\u003e\\u003c\\u002fextra\\u003e\",\"legendgroup\":\"The Admiralty\",\"marker\":{\"color\":\"#ab63fa\"},\"name\":\"The Admiralty\",\"notched\":false,\"offsetgroup\":\"The Admiralty\",\"orientation\":\"v\",\"showlegend\":true,\"x\":[\"The Admiralty\",\"The Admiralty\"],\"x0\":\" \",\"xaxis\":\"x\",\"y\":[595000,900000],\"y0\":\" \",\"yaxis\":\"y\",\"type\":\"box\"},{\"alignmentgroup\":\"True\",\"customdata\":[[\"12 Mystic Circle\"],[\"30 Mystic Circle\"]],\"hovertemplate\":\"Development=%{x}\\u003cbr\\u003eSold_Price=%{y}\\u003cbr\\u003eAddress=%{customdata[0]}\\u003cextra\\u003e\\u003c\\u002fextra\\u003e\",\"legendgroup\":\"Mystic Woods\",\"marker\":{\"color\":\"#FFA15A\"},\"name\":\"Mystic Woods\",\"notched\":false,\"offsetgroup\":\"Mystic Woods\",\"orientation\":\"v\",\"showlegend\":true,\"x\":[\"Mystic Woods\",\"Mystic Woods\"],\"x0\":\" \",\"xaxis\":\"x\",\"y\":[600000,600000],\"y0\":\" \",\"yaxis\":\"y\",\"type\":\"box\"},{\"alignmentgroup\":\"True\",\"customdata\":[[\"134 Baywoods Lane\"],[\"157 Baywoods Lane\"]],\"hovertemplate\":\"Development=%{x}\\u003cbr\\u003eSold_Price=%{y}\\u003cbr\\u003eAddress=%{customdata[0]}\\u003cextra\\u003e\\u003c\\u002fextra\\u003e\",\"legendgroup\":\"Baywoods\",\"marker\":{\"color\":\"#19d3f3\"},\"name\":\"Baywoods\",\"notched\":false,\"offsetgroup\":\"Baywoods\",\"orientation\":\"v\",\"showlegend\":true,\"x\":[\"Baywoods\",\"Baywoods\"],\"x0\":\" \",\"xaxis\":\"x\",\"y\":[620134,685000],\"y0\":\" \",\"yaxis\":\"y\",\"type\":\"box\"},{\"alignmentgroup\":\"True\",\"customdata\":[[\"155 Anchor Lane\"],[\"241 Helm Lane\"],[\"64 Admirals Drive\"],[\"136 Mariner Lane\"],[\"156 Anchor Lane\"]],\"hovertemplate\":\"Development=%{x}\\u003cbr\\u003eSold_Price=%{y}\\u003cbr\\u003eAddress=%{customdata[0]}\\u003cextra\\u003e\\u003c\\u002fextra\\u003e\",\"legendgroup\":\"Admiralty\",\"marker\":{\"color\":\"#FF6692\"},\"name\":\"Admiralty\",\"notched\":false,\"offsetgroup\":\"Admiralty\",\"orientation\":\"v\",\"showlegend\":true,\"x\":[\"Admiralty\",\"Admiralty\",\"Admiralty\",\"Admiralty\",\"Admiralty\"],\"x0\":\" \",\"xaxis\":\"x\",\"y\":[711000,715000,715000,770000,880000],\"y0\":\" \",\"yaxis\":\"y\",\"type\":\"box\"},{\"alignmentgroup\":\"True\",\"customdata\":[[\"23 Daniels Way\"]],\"hovertemplate\":\"Development=%{x}\\u003cbr\\u003eSold_Price=%{y}\\u003cbr\\u003eAddress=%{customdata[0]}\\u003cextra\\u003e\\u003c\\u002fextra\\u003e\",\"legendgroup\":\"Daniel's Way\",\"marker\":{\"color\":\"#B6E880\"},\"name\":\"Daniel's Way\",\"notched\":false,\"offsetgroup\":\"Daniel's Way\",\"orientation\":\"v\",\"showlegend\":true,\"x\":[\"Daniel's Way\"],\"x0\":\" \",\"xaxis\":\"x\",\"y\":[750000],\"y0\":\" \",\"yaxis\":\"y\",\"type\":\"box\"},{\"alignmentgroup\":\"True\",\"customdata\":[[\"17 Captains Walk\"]],\"hovertemplate\":\"Development=%{x}\\u003cbr\\u003eSold_Price=%{y}\\u003cbr\\u003eAddress=%{customdata[0]}\\u003cextra\\u003e\\u003c\\u002fextra\\u003e\",\"legendgroup\":\"Captains Walk\",\"marker\":{\"color\":\"#FF97FF\"},\"name\":\"Captains Walk\",\"notched\":false,\"offsetgroup\":\"Captains Walk\",\"orientation\":\"v\",\"showlegend\":true,\"x\":[\"Captains Walk\"],\"x0\":\" \",\"xaxis\":\"x\",\"y\":[875000],\"y0\":\" \",\"yaxis\":\"y\",\"type\":\"box\"}],                        {\"template\":{\"data\":{\"histogram2dcontour\":[{\"type\":\"histogram2dcontour\",\"colorbar\":{\"outlinewidth\":0,\"ticks\":\"\"},\"colorscale\":[[0.0,\"#0d0887\"],[0.1111111111111111,\"#46039f\"],[0.2222222222222222,\"#7201a8\"],[0.3333333333333333,\"#9c179e\"],[0.4444444444444444,\"#bd3786\"],[0.5555555555555556,\"#d8576b\"],[0.6666666666666666,\"#ed7953\"],[0.7777777777777778,\"#fb9f3a\"],[0.8888888888888888,\"#fdca26\"],[1.0,\"#f0f921\"]]}],\"choropleth\":[{\"type\":\"choropleth\",\"colorbar\":{\"outlinewidth\":0,\"ticks\":\"\"}}],\"histogram2d\":[{\"type\":\"histogram2d\",\"colorbar\":{\"outlinewidth\":0,\"ticks\":\"\"},\"colorscale\":[[0.0,\"#0d0887\"],[0.1111111111111111,\"#46039f\"],[0.2222222222222222,\"#7201a8\"],[0.3333333333333333,\"#9c179e\"],[0.4444444444444444,\"#bd3786\"],[0.5555555555555556,\"#d8576b\"],[0.6666666666666666,\"#ed7953\"],[0.7777777777777778,\"#fb9f3a\"],[0.8888888888888888,\"#fdca26\"],[1.0,\"#f0f921\"]]}],\"heatmap\":[{\"type\":\"heatmap\",\"colorbar\":{\"outlinewidth\":0,\"ticks\":\"\"},\"colorscale\":[[0.0,\"#0d0887\"],[0.1111111111111111,\"#46039f\"],[0.2222222222222222,\"#7201a8\"],[0.3333333333333333,\"#9c179e\"],[0.4444444444444444,\"#bd3786\"],[0.5555555555555556,\"#d8576b\"],[0.6666666666666666,\"#ed7953\"],[0.7777777777777778,\"#fb9f3a\"],[0.8888888888888888,\"#fdca26\"],[1.0,\"#f0f921\"]]}],\"heatmapgl\":[{\"type\":\"heatmapgl\",\"colorbar\":{\"outlinewidth\":0,\"ticks\":\"\"},\"colorscale\":[[0.0,\"#0d0887\"],[0.1111111111111111,\"#46039f\"],[0.2222222222222222,\"#7201a8\"],[0.3333333333333333,\"#9c179e\"],[0.4444444444444444,\"#bd3786\"],[0.5555555555555556,\"#d8576b\"],[0.6666666666666666,\"#ed7953\"],[0.7777777777777778,\"#fb9f3a\"],[0.8888888888888888,\"#fdca26\"],[1.0,\"#f0f921\"]]}],\"contourcarpet\":[{\"type\":\"contourcarpet\",\"colorbar\":{\"outlinewidth\":0,\"ticks\":\"\"}}],\"contour\":[{\"type\":\"contour\",\"colorbar\":{\"outlinewidth\":0,\"ticks\":\"\"},\"colorscale\":[[0.0,\"#0d0887\"],[0.1111111111111111,\"#46039f\"],[0.2222222222222222,\"#7201a8\"],[0.3333333333333333,\"#9c179e\"],[0.4444444444444444,\"#bd3786\"],[0.5555555555555556,\"#d8576b\"],[0.6666666666666666,\"#ed7953\"],[0.7777777777777778,\"#fb9f3a\"],[0.8888888888888888,\"#fdca26\"],[1.0,\"#f0f921\"]]}],\"surface\":[{\"type\":\"surface\",\"colorbar\":{\"outlinewidth\":0,\"ticks\":\"\"},\"colorscale\":[[0.0,\"#0d0887\"],[0.1111111111111111,\"#46039f\"],[0.2222222222222222,\"#7201a8\"],[0.3333333333333333,\"#9c179e\"],[0.4444444444444444,\"#bd3786\"],[0.5555555555555556,\"#d8576b\"],[0.6666666666666666,\"#ed7953\"],[0.7777777777777778,\"#fb9f3a\"],[0.8888888888888888,\"#fdca26\"],[1.0,\"#f0f921\"]]}],\"mesh3d\":[{\"type\":\"mesh3d\",\"colorbar\":{\"outlinewidth\":0,\"ticks\":\"\"}}],\"scatter\":[{\"fillpattern\":{\"fillmode\":\"overlay\",\"size\":10,\"solidity\":0.2},\"type\":\"scatter\"}],\"parcoords\":[{\"type\":\"parcoords\",\"line\":{\"colorbar\":{\"outlinewidth\":0,\"ticks\":\"\"}}}],\"scatterpolargl\":[{\"type\":\"scatterpolargl\",\"marker\":{\"colorbar\":{\"outlinewidth\":0,\"ticks\":\"\"}}}],\"bar\":[{\"error_x\":{\"color\":\"#2a3f5f\"},\"error_y\":{\"color\":\"#2a3f5f\"},\"marker\":{\"line\":{\"color\":\"#E5ECF6\",\"width\":0.5},\"pattern\":{\"fillmode\":\"overlay\",\"size\":10,\"solidity\":0.2}},\"type\":\"bar\"}],\"scattergeo\":[{\"type\":\"scattergeo\",\"marker\":{\"colorbar\":{\"outlinewidth\":0,\"ticks\":\"\"}}}],\"scatterpolar\":[{\"type\":\"scatterpolar\",\"marker\":{\"colorbar\":{\"outlinewidth\":0,\"ticks\":\"\"}}}],\"histogram\":[{\"marker\":{\"pattern\":{\"fillmode\":\"overlay\",\"size\":10,\"solidity\":0.2}},\"type\":\"histogram\"}],\"scattergl\":[{\"type\":\"scattergl\",\"marker\":{\"colorbar\":{\"outlinewidth\":0,\"ticks\":\"\"}}}],\"scatter3d\":[{\"type\":\"scatter3d\",\"line\":{\"colorbar\":{\"outlinewidth\":0,\"ticks\":\"\"}},\"marker\":{\"colorbar\":{\"outlinewidth\":0,\"ticks\":\"\"}}}],\"scattermapbox\":[{\"type\":\"scattermapbox\",\"marker\":{\"colorbar\":{\"outlinewidth\":0,\"ticks\":\"\"}}}],\"scatterternary\":[{\"type\":\"scatterternary\",\"marker\":{\"colorbar\":{\"outlinewidth\":0,\"ticks\":\"\"}}}],\"scattercarpet\":[{\"type\":\"scattercarpet\",\"marker\":{\"colorbar\":{\"outlinewidth\":0,\"ticks\":\"\"}}}],\"carpet\":[{\"aaxis\":{\"endlinecolor\":\"#2a3f5f\",\"gridcolor\":\"white\",\"linecolor\":\"white\",\"minorgridcolor\":\"white\",\"startlinecolor\":\"#2a3f5f\"},\"baxis\":{\"endlinecolor\":\"#2a3f5f\",\"gridcolor\":\"white\",\"linecolor\":\"white\",\"minorgridcolor\":\"white\",\"startlinecolor\":\"#2a3f5f\"},\"type\":\"carpet\"}],\"table\":[{\"cells\":{\"fill\":{\"color\":\"#EBF0F8\"},\"line\":{\"color\":\"white\"}},\"header\":{\"fill\":{\"color\":\"#C8D4E3\"},\"line\":{\"color\":\"white\"}},\"type\":\"table\"}],\"barpolar\":[{\"marker\":{\"line\":{\"color\":\"#E5ECF6\",\"width\":0.5},\"pattern\":{\"fillmode\":\"overlay\",\"size\":10,\"solidity\":0.2}},\"type\":\"barpolar\"}],\"pie\":[{\"automargin\":true,\"type\":\"pie\"}]},\"layout\":{\"autotypenumbers\":\"strict\",\"colorway\":[\"#636efa\",\"#EF553B\",\"#00cc96\",\"#ab63fa\",\"#FFA15A\",\"#19d3f3\",\"#FF6692\",\"#B6E880\",\"#FF97FF\",\"#FECB52\"],\"font\":{\"color\":\"#2a3f5f\"},\"hovermode\":\"closest\",\"hoverlabel\":{\"align\":\"left\"},\"paper_bgcolor\":\"white\",\"plot_bgcolor\":\"#E5ECF6\",\"polar\":{\"bgcolor\":\"#E5ECF6\",\"angularaxis\":{\"gridcolor\":\"white\",\"linecolor\":\"white\",\"ticks\":\"\"},\"radialaxis\":{\"gridcolor\":\"white\",\"linecolor\":\"white\",\"ticks\":\"\"}},\"ternary\":{\"bgcolor\":\"#E5ECF6\",\"aaxis\":{\"gridcolor\":\"white\",\"linecolor\":\"white\",\"ticks\":\"\"},\"baxis\":{\"gridcolor\":\"white\",\"linecolor\":\"white\",\"ticks\":\"\"},\"caxis\":{\"gridcolor\":\"white\",\"linecolor\":\"white\",\"ticks\":\"\"}},\"coloraxis\":{\"colorbar\":{\"outlinewidth\":0,\"ticks\":\"\"}},\"colorscale\":{\"sequential\":[[0.0,\"#0d0887\"],[0.1111111111111111,\"#46039f\"],[0.2222222222222222,\"#7201a8\"],[0.3333333333333333,\"#9c179e\"],[0.4444444444444444,\"#bd3786\"],[0.5555555555555556,\"#d8576b\"],[0.6666666666666666,\"#ed7953\"],[0.7777777777777778,\"#fb9f3a\"],[0.8888888888888888,\"#fdca26\"],[1.0,\"#f0f921\"]],\"sequentialminus\":[[0.0,\"#0d0887\"],[0.1111111111111111,\"#46039f\"],[0.2222222222222222,\"#7201a8\"],[0.3333333333333333,\"#9c179e\"],[0.4444444444444444,\"#bd3786\"],[0.5555555555555556,\"#d8576b\"],[0.6666666666666666,\"#ed7953\"],[0.7777777777777778,\"#fb9f3a\"],[0.8888888888888888,\"#fdca26\"],[1.0,\"#f0f921\"]],\"diverging\":[[0,\"#8e0152\"],[0.1,\"#c51b7d\"],[0.2,\"#de77ae\"],[0.3,\"#f1b6da\"],[0.4,\"#fde0ef\"],[0.5,\"#f7f7f7\"],[0.6,\"#e6f5d0\"],[0.7,\"#b8e186\"],[0.8,\"#7fbc41\"],[0.9,\"#4d9221\"],[1,\"#276419\"]]},\"xaxis\":{\"gridcolor\":\"white\",\"linecolor\":\"white\",\"ticks\":\"\",\"title\":{\"standoff\":15},\"zerolinecolor\":\"white\",\"automargin\":true,\"zerolinewidth\":2},\"yaxis\":{\"gridcolor\":\"white\",\"linecolor\":\"white\",\"ticks\":\"\",\"title\":{\"standoff\":15},\"zerolinecolor\":\"white\",\"automargin\":true,\"zerolinewidth\":2},\"scene\":{\"xaxis\":{\"backgroundcolor\":\"#E5ECF6\",\"gridcolor\":\"white\",\"linecolor\":\"white\",\"showbackground\":true,\"ticks\":\"\",\"zerolinecolor\":\"white\",\"gridwidth\":2},\"yaxis\":{\"backgroundcolor\":\"#E5ECF6\",\"gridcolor\":\"white\",\"linecolor\":\"white\",\"showbackground\":true,\"ticks\":\"\",\"zerolinecolor\":\"white\",\"gridwidth\":2},\"zaxis\":{\"backgroundcolor\":\"#E5ECF6\",\"gridcolor\":\"white\",\"linecolor\":\"white\",\"showbackground\":true,\"ticks\":\"\",\"zerolinecolor\":\"white\",\"gridwidth\":2}},\"shapedefaults\":{\"line\":{\"color\":\"#2a3f5f\"}},\"annotationdefaults\":{\"arrowcolor\":\"#2a3f5f\",\"arrowhead\":0,\"arrowwidth\":1},\"geo\":{\"bgcolor\":\"white\",\"landcolor\":\"#E5ECF6\",\"subunitcolor\":\"white\",\"showland\":true,\"showlakes\":true,\"lakecolor\":\"white\"},\"title\":{\"x\":0.05},\"mapbox\":{\"style\":\"light\"}}},\"xaxis\":{\"anchor\":\"y\",\"domain\":[0.0,1.0],\"title\":{\"text\":\"Development\"},\"categoryorder\":\"array\",\"categoryarray\":[\"Lexington Villag\",\"Lexington Village\",\"Cortland Square\",\"Newbrook Gardens\",\"Sunnybrook\",\"Windemere\",\"Southwind Village\",\"Windemere Pond\",\"Mystic Oaks\",\"Windcrest\",\"Mystic Pines\",\"Villa Promenade\",\"Sunscape\",\"The Admiralty\",\"Mystic Woods\",\"Baywoods\",\"Admiralty\",\"Daniel's Way\",\"Captains Walk\"]},\"yaxis\":{\"anchor\":\"x\",\"domain\":[0.0,1.0],\"title\":{\"text\":\"Sold_Price\"}},\"legend\":{\"title\":{\"text\":\"Development\"},\"tracegroupgap\":0},\"margin\":{\"t\":60},\"boxmode\":\"overlay\"},                        {\"responsive\": true}                    ).then(function(){\n",
              "                            \n",
              "var gd = document.getElementById('c133d021-c990-4add-92d6-e1c80aa92b84');\n",
              "var x = new MutationObserver(function (mutations, observer) {{\n",
              "        var display = window.getComputedStyle(gd).display;\n",
              "        if (!display || display === 'none') {{\n",
              "            console.log([gd, 'removed!']);\n",
              "            Plotly.purge(gd);\n",
              "            observer.disconnect();\n",
              "        }}\n",
              "}});\n",
              "\n",
              "// Listen for the removal of the full notebook cells\n",
              "var notebookContainer = gd.closest('#notebook-container');\n",
              "if (notebookContainer) {{\n",
              "    x.observe(notebookContainer, {childList: true});\n",
              "}}\n",
              "\n",
              "// Listen for the clearing of the current output cell\n",
              "var outputEl = gd.closest('.output');\n",
              "if (outputEl) {{\n",
              "    x.observe(outputEl, {childList: true});\n",
              "}}\n",
              "\n",
              "                        })                };                            </script>        </div>\n",
              "</body>\n",
              "</html>"
            ]
          },
          "metadata": {}
        }
      ]
    },
    {
      "cell_type": "markdown",
      "source": [
        "## Now add a drop down filter for Towns\n"
      ],
      "metadata": {
        "id": "sxUUh9m0Sh1t"
      }
    },
    {
      "cell_type": "code",
      "source": [
        "import plotly.express as px\n",
        "import dash\n",
        "from dash import dcc, html\n",
        "from dash.dependencies import Input, Output\n",
        "\n",
        "# Define the list of towns and example DataFrame\n",
        "#Towns = [\"Town A\", \"Town B\", \"Town C\"]\n",
        "Towns = condos['Town'].unique()\n",
        "Towns\n",
        "\n",
        "# data = {\n",
        "#     \"Development\": [\"Dev1\", \"Dev2\", \"Dev3\"],\n",
        "#     \"Sold_Price\": [100000, 150000, 200000],\n",
        "#     \"Town\": [\"Town A\", \"Town B\", \"Town C\"],\n",
        "# }\n",
        "# df = pd.DataFrame(data)\n",
        "\n",
        "df = condos\n",
        "\n",
        "# Initialize the Dash app\n",
        "app = dash.Dash(__name__)\n",
        "\n",
        "# Create a dropdown menu with the towns that you want to select from.\n",
        "dropdown_menu = dcc.Dropdown(\n",
        "    id=\"town-dropdown\",\n",
        "    options=[\n",
        "        {\n",
        "            \"label\": town,\n",
        "            \"value\": town,\n",
        "        }\n",
        "        for town in Towns\n",
        "    ],\n",
        "    value=\"Town A\",\n",
        ")\n",
        "\n",
        "# Connect the dropdown menu to the update_plot function using a callback.\n",
        "@app.callback(\n",
        "    Output(\"box_plot\", \"figure\"),\n",
        "    Input(\"town-dropdown\", \"value\"),\n",
        ")\n",
        "def update_plot(selected_town):\n",
        "    # Filter data based on selected town\n",
        "    filtered_df = df[df[\"Town\"] == selected_town]\n",
        "\n",
        "    # Update the plotly boxplot when the dropdown menu is changed.\n",
        "    fig = px.box(\n",
        "        data_frame=filtered_df,\n",
        "        x=\"Development\",\n",
        "        y=\"Sold_Price\",\n",
        "        color=\"Town\",\n",
        "    )\n",
        "\n",
        "    fig.update_layout(\n",
        "        title={\"text\": f\"Box Plot for {selected_town}\"},\n",
        "    )\n",
        "\n",
        "    return fig\n",
        "\n",
        "# Create a layout for the app.\n",
        "app.layout = html.Div(\n",
        "    [\n",
        "        html.H1(\"Box Plot\"),\n",
        "        dropdown_menu,\n",
        "        dcc.Graph(id=\"box_plot\"),\n",
        "    ]\n",
        ")\n",
        "\n",
        "# Run the app\n",
        "if __name__ == \"__main__\":\n",
        "    app.run_server(debug=True)"
      ],
      "metadata": {
        "colab": {
          "base_uri": "https://localhost:8080/",
          "height": 671
        },
        "id": "4qZUDz7DZM0K",
        "outputId": "1ec79c93-4214-4179-e245-1a30dc175b15"
      },
      "execution_count": null,
      "outputs": [
        {
          "output_type": "display_data",
          "data": {
            "text/plain": [
              "<IPython.core.display.Javascript object>"
            ],
            "application/javascript": [
              "(async (port, path, width, height, cache, element) => {\n",
              "    if (!google.colab.kernel.accessAllowed && !cache) {\n",
              "      return;\n",
              "    }\n",
              "    element.appendChild(document.createTextNode(''));\n",
              "    const url = await google.colab.kernel.proxyPort(port, {cache});\n",
              "    const iframe = document.createElement('iframe');\n",
              "    iframe.src = new URL(path, url).toString();\n",
              "    iframe.height = height;\n",
              "    iframe.width = width;\n",
              "    iframe.style.border = 0;\n",
              "    iframe.allow = [\n",
              "        'accelerometer',\n",
              "        'autoplay',\n",
              "        'camera',\n",
              "        'clipboard-read',\n",
              "        'clipboard-write',\n",
              "        'gyroscope',\n",
              "        'magnetometer',\n",
              "        'microphone',\n",
              "        'serial',\n",
              "        'usb',\n",
              "        'xr-spatial-tracking',\n",
              "    ].join('; ');\n",
              "    element.appendChild(iframe);\n",
              "  })(8050, \"/\", \"100%\", 650, false, window.element)"
            ]
          },
          "metadata": {}
        }
      ]
    },
    {
      "cell_type": "markdown",
      "source": [
        "# Basement"
      ],
      "metadata": {
        "id": "897mscXuYAuu"
      }
    },
    {
      "cell_type": "code",
      "source": [
        "import plotly.express as px\n",
        "import dash\n",
        "from dash import dcc, html\n",
        "from dash.dependencies import Input, Output\n",
        "\n",
        "# Define the list of towns and example DataFrame\n",
        "Towns = [\"Town A\", \"Town B\", \"Town C\"]\n",
        "data = {\n",
        "    \"Development\": [\"Dev1\", \"Dev2\", \"Dev3\"],\n",
        "    \"Sold_Price\": [100000, 150000, 200000],\n",
        "    \"Town\": [\"Town A\", \"Town B\", \"Town C\"],\n",
        "}\n",
        "df = pd.DataFrame(data)\n",
        "\n",
        "# Initialize the Dash app\n",
        "app = dash.Dash(__name__)\n",
        "\n",
        "# Create a dropdown menu with the towns that you want to select from.\n",
        "dropdown_menu = dcc.Dropdown(\n",
        "    id=\"town-dropdown\",\n",
        "    options=[\n",
        "        {\n",
        "            \"label\": town,\n",
        "            \"value\": town,\n",
        "        }\n",
        "        for town in Towns\n",
        "    ],\n",
        "    value=\"Town A\",\n",
        ")\n",
        "\n",
        "# Connect the dropdown menu to the update_plot function using a callback.\n",
        "@app.callback(\n",
        "    Output(\"box_plot\", \"figure\"),\n",
        "    Input(\"town-dropdown\", \"value\"),\n",
        ")\n",
        "def update_plot(selected_town):\n",
        "    # Filter data based on selected town\n",
        "    filtered_df = df[df[\"Town\"] == selected_town]\n",
        "\n",
        "    # Update the plotly boxplot when the dropdown menu is changed.\n",
        "    fig = px.box(\n",
        "        data_frame=filtered_df,\n",
        "        x=\"Development\",\n",
        "        y=\"Sold_Price\",\n",
        "        color=\"Town\",\n",
        "    )\n",
        "\n",
        "    fig.update_layout(\n",
        "        title={\"text\": f\"Box Plot for {selected_town}\"},\n",
        "    )\n",
        "\n",
        "    return fig\n",
        "\n",
        "# Create a layout for the app.\n",
        "app.layout = html.Div(\n",
        "    [\n",
        "        html.H1(\"Box Plot\"),\n",
        "        dropdown_menu,\n",
        "        dcc.Graph(id=\"box_plot\"),\n",
        "    ]\n",
        ")\n",
        "\n",
        "# Run the app\n",
        "if __name__ == \"__main__\":\n",
        "    app.run_server(debug=True)\n"
      ],
      "metadata": {
        "colab": {
          "base_uri": "https://localhost:8080/",
          "height": 671
        },
        "id": "0ZLoC0IKYB3d",
        "outputId": "6b0104fb-7c76-4a96-8060-d17f1ce22af3"
      },
      "execution_count": null,
      "outputs": [
        {
          "output_type": "display_data",
          "data": {
            "text/plain": [
              "<IPython.core.display.Javascript object>"
            ],
            "application/javascript": [
              "(async (port, path, width, height, cache, element) => {\n",
              "    if (!google.colab.kernel.accessAllowed && !cache) {\n",
              "      return;\n",
              "    }\n",
              "    element.appendChild(document.createTextNode(''));\n",
              "    const url = await google.colab.kernel.proxyPort(port, {cache});\n",
              "    const iframe = document.createElement('iframe');\n",
              "    iframe.src = new URL(path, url).toString();\n",
              "    iframe.height = height;\n",
              "    iframe.width = width;\n",
              "    iframe.style.border = 0;\n",
              "    iframe.allow = [\n",
              "        'accelerometer',\n",
              "        'autoplay',\n",
              "        'camera',\n",
              "        'clipboard-read',\n",
              "        'clipboard-write',\n",
              "        'gyroscope',\n",
              "        'magnetometer',\n",
              "        'microphone',\n",
              "        'serial',\n",
              "        'usb',\n",
              "        'xr-spatial-tracking',\n",
              "    ].join('; ');\n",
              "    element.appendChild(iframe);\n",
              "  })(8050, \"/\", \"100%\", 650, false, window.element)"
            ]
          },
          "metadata": {}
        }
      ]
    },
    {
      "cell_type": "code",
      "source": [
        "df"
      ],
      "metadata": {
        "colab": {
          "base_uri": "https://localhost:8080/",
          "height": 143
        },
        "id": "iTorbcCMYTqe",
        "outputId": "3ee6bf76-9d63-46fd-9448-3f16d22ad9b2"
      },
      "execution_count": null,
      "outputs": [
        {
          "output_type": "execute_result",
          "data": {
            "text/plain": [
              "  Development  Sold_Price    Town\n",
              "0        Dev1      100000  Town A\n",
              "1        Dev2      150000  Town B\n",
              "2        Dev3      200000  Town C"
            ],
            "text/html": [
              "\n",
              "\n",
              "  <div id=\"df-15c1ae44-a79a-4ece-9014-47a6ae3c476e\">\n",
              "    <div class=\"colab-df-container\">\n",
              "      <div>\n",
              "<style scoped>\n",
              "    .dataframe tbody tr th:only-of-type {\n",
              "        vertical-align: middle;\n",
              "    }\n",
              "\n",
              "    .dataframe tbody tr th {\n",
              "        vertical-align: top;\n",
              "    }\n",
              "\n",
              "    .dataframe thead th {\n",
              "        text-align: right;\n",
              "    }\n",
              "</style>\n",
              "<table border=\"1\" class=\"dataframe\">\n",
              "  <thead>\n",
              "    <tr style=\"text-align: right;\">\n",
              "      <th></th>\n",
              "      <th>Development</th>\n",
              "      <th>Sold_Price</th>\n",
              "      <th>Town</th>\n",
              "    </tr>\n",
              "  </thead>\n",
              "  <tbody>\n",
              "    <tr>\n",
              "      <th>0</th>\n",
              "      <td>Dev1</td>\n",
              "      <td>100000</td>\n",
              "      <td>Town A</td>\n",
              "    </tr>\n",
              "    <tr>\n",
              "      <th>1</th>\n",
              "      <td>Dev2</td>\n",
              "      <td>150000</td>\n",
              "      <td>Town B</td>\n",
              "    </tr>\n",
              "    <tr>\n",
              "      <th>2</th>\n",
              "      <td>Dev3</td>\n",
              "      <td>200000</td>\n",
              "      <td>Town C</td>\n",
              "    </tr>\n",
              "  </tbody>\n",
              "</table>\n",
              "</div>\n",
              "      <button class=\"colab-df-convert\" onclick=\"convertToInteractive('df-15c1ae44-a79a-4ece-9014-47a6ae3c476e')\"\n",
              "              title=\"Convert this dataframe to an interactive table.\"\n",
              "              style=\"display:none;\">\n",
              "\n",
              "  <svg xmlns=\"http://www.w3.org/2000/svg\" height=\"24px\"viewBox=\"0 0 24 24\"\n",
              "       width=\"24px\">\n",
              "    <path d=\"M0 0h24v24H0V0z\" fill=\"none\"/>\n",
              "    <path d=\"M18.56 5.44l.94 2.06.94-2.06 2.06-.94-2.06-.94-.94-2.06-.94 2.06-2.06.94zm-11 1L8.5 8.5l.94-2.06 2.06-.94-2.06-.94L8.5 2.5l-.94 2.06-2.06.94zm10 10l.94 2.06.94-2.06 2.06-.94-2.06-.94-.94-2.06-.94 2.06-2.06.94z\"/><path d=\"M17.41 7.96l-1.37-1.37c-.4-.4-.92-.59-1.43-.59-.52 0-1.04.2-1.43.59L10.3 9.45l-7.72 7.72c-.78.78-.78 2.05 0 2.83L4 21.41c.39.39.9.59 1.41.59.51 0 1.02-.2 1.41-.59l7.78-7.78 2.81-2.81c.8-.78.8-2.07 0-2.86zM5.41 20L4 18.59l7.72-7.72 1.47 1.35L5.41 20z\"/>\n",
              "  </svg>\n",
              "      </button>\n",
              "\n",
              "\n",
              "\n",
              "    <div id=\"df-ba42353a-3b43-4b50-8a45-831889737f5f\">\n",
              "      <button class=\"colab-df-quickchart\" onclick=\"quickchart('df-ba42353a-3b43-4b50-8a45-831889737f5f')\"\n",
              "              title=\"Suggest charts.\"\n",
              "              style=\"display:none;\">\n",
              "\n",
              "<svg xmlns=\"http://www.w3.org/2000/svg\" height=\"24px\"viewBox=\"0 0 24 24\"\n",
              "     width=\"24px\">\n",
              "    <g>\n",
              "        <path d=\"M19 3H5c-1.1 0-2 .9-2 2v14c0 1.1.9 2 2 2h14c1.1 0 2-.9 2-2V5c0-1.1-.9-2-2-2zM9 17H7v-7h2v7zm4 0h-2V7h2v10zm4 0h-2v-4h2v4z\"/>\n",
              "    </g>\n",
              "</svg>\n",
              "      </button>\n",
              "    </div>\n",
              "\n",
              "<style>\n",
              "  .colab-df-quickchart {\n",
              "    background-color: #E8F0FE;\n",
              "    border: none;\n",
              "    border-radius: 50%;\n",
              "    cursor: pointer;\n",
              "    display: none;\n",
              "    fill: #1967D2;\n",
              "    height: 32px;\n",
              "    padding: 0 0 0 0;\n",
              "    width: 32px;\n",
              "  }\n",
              "\n",
              "  .colab-df-quickchart:hover {\n",
              "    background-color: #E2EBFA;\n",
              "    box-shadow: 0px 1px 2px rgba(60, 64, 67, 0.3), 0px 1px 3px 1px rgba(60, 64, 67, 0.15);\n",
              "    fill: #174EA6;\n",
              "  }\n",
              "\n",
              "  [theme=dark] .colab-df-quickchart {\n",
              "    background-color: #3B4455;\n",
              "    fill: #D2E3FC;\n",
              "  }\n",
              "\n",
              "  [theme=dark] .colab-df-quickchart:hover {\n",
              "    background-color: #434B5C;\n",
              "    box-shadow: 0px 1px 3px 1px rgba(0, 0, 0, 0.15);\n",
              "    filter: drop-shadow(0px 1px 2px rgba(0, 0, 0, 0.3));\n",
              "    fill: #FFFFFF;\n",
              "  }\n",
              "</style>\n",
              "\n",
              "    <script>\n",
              "      async function quickchart(key) {\n",
              "        const containerElement = document.querySelector('#' + key);\n",
              "        const charts = await google.colab.kernel.invokeFunction(\n",
              "            'suggestCharts', [key], {});\n",
              "      }\n",
              "    </script>\n",
              "\n",
              "\n",
              "      <script>\n",
              "\n",
              "function displayQuickchartButton(domScope) {\n",
              "  let quickchartButtonEl =\n",
              "    domScope.querySelector('#df-ba42353a-3b43-4b50-8a45-831889737f5f button.colab-df-quickchart');\n",
              "  quickchartButtonEl.style.display =\n",
              "    google.colab.kernel.accessAllowed ? 'block' : 'none';\n",
              "}\n",
              "\n",
              "        displayQuickchartButton(document);\n",
              "      </script>\n",
              "      <style>\n",
              "    .colab-df-container {\n",
              "      display:flex;\n",
              "      flex-wrap:wrap;\n",
              "      gap: 12px;\n",
              "    }\n",
              "\n",
              "    .colab-df-convert {\n",
              "      background-color: #E8F0FE;\n",
              "      border: none;\n",
              "      border-radius: 50%;\n",
              "      cursor: pointer;\n",
              "      display: none;\n",
              "      fill: #1967D2;\n",
              "      height: 32px;\n",
              "      padding: 0 0 0 0;\n",
              "      width: 32px;\n",
              "    }\n",
              "\n",
              "    .colab-df-convert:hover {\n",
              "      background-color: #E2EBFA;\n",
              "      box-shadow: 0px 1px 2px rgba(60, 64, 67, 0.3), 0px 1px 3px 1px rgba(60, 64, 67, 0.15);\n",
              "      fill: #174EA6;\n",
              "    }\n",
              "\n",
              "    [theme=dark] .colab-df-convert {\n",
              "      background-color: #3B4455;\n",
              "      fill: #D2E3FC;\n",
              "    }\n",
              "\n",
              "    [theme=dark] .colab-df-convert:hover {\n",
              "      background-color: #434B5C;\n",
              "      box-shadow: 0px 1px 3px 1px rgba(0, 0, 0, 0.15);\n",
              "      filter: drop-shadow(0px 1px 2px rgba(0, 0, 0, 0.3));\n",
              "      fill: #FFFFFF;\n",
              "    }\n",
              "  </style>\n",
              "\n",
              "      <script>\n",
              "        const buttonEl =\n",
              "          document.querySelector('#df-15c1ae44-a79a-4ece-9014-47a6ae3c476e button.colab-df-convert');\n",
              "        buttonEl.style.display =\n",
              "          google.colab.kernel.accessAllowed ? 'block' : 'none';\n",
              "\n",
              "        async function convertToInteractive(key) {\n",
              "          const element = document.querySelector('#df-15c1ae44-a79a-4ece-9014-47a6ae3c476e');\n",
              "          const dataTable =\n",
              "            await google.colab.kernel.invokeFunction('convertToInteractive',\n",
              "                                                     [key], {});\n",
              "          if (!dataTable) return;\n",
              "\n",
              "          const docLinkHtml = 'Like what you see? Visit the ' +\n",
              "            '<a target=\"_blank\" href=https://colab.research.google.com/notebooks/data_table.ipynb>data table notebook</a>'\n",
              "            + ' to learn more about interactive tables.';\n",
              "          element.innerHTML = '';\n",
              "          dataTable['output_type'] = 'display_data';\n",
              "          await google.colab.output.renderOutput(dataTable, element);\n",
              "          const docLink = document.createElement('div');\n",
              "          docLink.innerHTML = docLinkHtml;\n",
              "          element.appendChild(docLink);\n",
              "        }\n",
              "      </script>\n",
              "    </div>\n",
              "  </div>\n"
            ]
          },
          "metadata": {},
          "execution_count": 16
        }
      ]
    },
    {
      "cell_type": "code",
      "source": [],
      "metadata": {
        "id": "KhrfvcVDYUhK"
      },
      "execution_count": null,
      "outputs": []
    }
  ]
}