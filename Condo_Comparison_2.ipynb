{
  "nbformat": 4,
  "nbformat_minor": 0,
  "metadata": {
    "colab": {
      "provenance": [],
      "authorship_tag": "ABX9TyNT/4HuSPK839Mqjehkvvi2",
      "include_colab_link": true
    },
    "kernelspec": {
      "name": "python3",
      "display_name": "Python 3"
    },
    "language_info": {
      "name": "python"
    }
  },
  "cells": [
    {
      "cell_type": "markdown",
      "metadata": {
        "id": "view-in-github",
        "colab_type": "text"
      },
      "source": [
        "<a href=\"https://colab.research.google.com/github/JF11579/Plotly_RE/blob/main/Condo_Comparison_2.ipynb\" target=\"_parent\"><img src=\"https://colab.research.google.com/assets/colab-badge.svg\" alt=\"Open In Colab\"/></a>"
      ]
    },
    {
      "cell_type": "markdown",
      "source": [
        "# Libraries"
      ],
      "metadata": {
        "id": "FbLa0jukYFUM"
      }
    },
    {
      "cell_type": "code",
      "execution_count": 3,
      "metadata": {
        "colab": {
          "base_uri": "https://localhost:8080/"
        },
        "id": "-X1LmYBSX-X1",
        "outputId": "17859537-469e-46ac-a2c7-a5d29ab981c5"
      },
      "outputs": [
        {
          "output_type": "stream",
          "name": "stdout",
          "text": [
            "Requirement already satisfied: geopandas in /usr/local/lib/python3.10/dist-packages (0.13.2)\n",
            "Requirement already satisfied: fiona>=1.8.19 in /usr/local/lib/python3.10/dist-packages (from geopandas) (1.9.4.post1)\n",
            "Requirement already satisfied: packaging in /usr/local/lib/python3.10/dist-packages (from geopandas) (23.1)\n",
            "Requirement already satisfied: pandas>=1.1.0 in /usr/local/lib/python3.10/dist-packages (from geopandas) (1.5.3)\n",
            "Requirement already satisfied: pyproj>=3.0.1 in /usr/local/lib/python3.10/dist-packages (from geopandas) (3.6.0)\n",
            "Requirement already satisfied: shapely>=1.7.1 in /usr/local/lib/python3.10/dist-packages (from geopandas) (2.0.1)\n",
            "Requirement already satisfied: attrs>=19.2.0 in /usr/local/lib/python3.10/dist-packages (from fiona>=1.8.19->geopandas) (23.1.0)\n",
            "Requirement already satisfied: certifi in /usr/local/lib/python3.10/dist-packages (from fiona>=1.8.19->geopandas) (2023.7.22)\n",
            "Requirement already satisfied: click~=8.0 in /usr/local/lib/python3.10/dist-packages (from fiona>=1.8.19->geopandas) (8.1.7)\n",
            "Requirement already satisfied: click-plugins>=1.0 in /usr/local/lib/python3.10/dist-packages (from fiona>=1.8.19->geopandas) (1.1.1)\n",
            "Requirement already satisfied: cligj>=0.5 in /usr/local/lib/python3.10/dist-packages (from fiona>=1.8.19->geopandas) (0.7.2)\n",
            "Requirement already satisfied: six in /usr/local/lib/python3.10/dist-packages (from fiona>=1.8.19->geopandas) (1.16.0)\n",
            "Requirement already satisfied: python-dateutil>=2.8.1 in /usr/local/lib/python3.10/dist-packages (from pandas>=1.1.0->geopandas) (2.8.2)\n",
            "Requirement already satisfied: pytz>=2020.1 in /usr/local/lib/python3.10/dist-packages (from pandas>=1.1.0->geopandas) (2023.3)\n",
            "Requirement already satisfied: numpy>=1.21.0 in /usr/local/lib/python3.10/dist-packages (from pandas>=1.1.0->geopandas) (1.23.5)\n",
            "Requirement already satisfied: geopy in /usr/local/lib/python3.10/dist-packages (2.3.0)\n",
            "Requirement already satisfied: geographiclib<3,>=1.52 in /usr/local/lib/python3.10/dist-packages (from geopy) (2.0)\n"
          ]
        }
      ],
      "source": [
        "!pip install geopandas\n",
        "!pip install geopy"
      ]
    },
    {
      "cell_type": "code",
      "source": [
        "import pandas as pd\n",
        "from google.colab import drive\n",
        "from sklearn.linear_model import LinearRegression\n",
        "import matplotlib.pyplot as plt\n",
        "import plotly.express as px"
      ],
      "metadata": {
        "id": "1FzIbXCwYMPz"
      },
      "execution_count": 13,
      "outputs": []
    },
    {
      "cell_type": "markdown",
      "source": [
        "# Options"
      ],
      "metadata": {
        "id": "jQTaqrBFYRco"
      }
    },
    {
      "cell_type": "code",
      "source": [
        "# Set pandas display options to show more rows and columns\n",
        "pd.set_option('display.max_rows', None)\n",
        "pd.set_option('display.max_columns', None)\n",
        "pd.set_option('display.expand_frame_repr', False)"
      ],
      "metadata": {
        "id": "Fsd5JXAgYOC9"
      },
      "execution_count": 4,
      "outputs": []
    },
    {
      "cell_type": "markdown",
      "source": [
        "# Data"
      ],
      "metadata": {
        "id": "j2FJAiOEYY4m"
      }
    },
    {
      "cell_type": "code",
      "source": [
        "# Mount Google Drive\n",
        "from google.colab import drive\n",
        "drive.mount('/content/drive')\n",
        "\n",
        "# Change to the directory containing your CSV\n",
        "%cd /content/drive/MyDrive/DATA/Real_Estate_Data\n",
        "#"
      ],
      "metadata": {
        "colab": {
          "base_uri": "https://localhost:8080/"
        },
        "id": "18G3eE-sYWY5",
        "outputId": "c6f59fc9-63f6-461f-84fb-913be402bb7e"
      },
      "execution_count": 5,
      "outputs": [
        {
          "output_type": "stream",
          "name": "stdout",
          "text": [
            "Mounted at /content/drive\n",
            "/content/drive/MyDrive/DATA/Real_Estate_Data\n"
          ]
        }
      ]
    },
    {
      "cell_type": "code",
      "source": [
        "condo = pd.read_csv('Coram_North_Isle.csv')"
      ],
      "metadata": {
        "id": "vD9suYXWYch_"
      },
      "execution_count": 6,
      "outputs": []
    },
    {
      "cell_type": "markdown",
      "source": [
        "## Data cleaning"
      ],
      "metadata": {
        "id": "7igms6YZYmsf"
      }
    },
    {
      "cell_type": "code",
      "source": [
        "condo.rename(columns=lambda x: x.replace(' ', '_'), inplace=True)"
      ],
      "metadata": {
        "id": "KBsTnU44Yh_y"
      },
      "execution_count": 7,
      "outputs": []
    },
    {
      "cell_type": "code",
      "source": [
        "condo['Bedrooms'] = condo['Bedrooms'].astype(int)\n",
        "condo['Unit_on_Floor_#'] = condo['Unit_on_Floor_#'].astype(int)"
      ],
      "metadata": {
        "id": "4nUH2ugaYrRI"
      },
      "execution_count": 8,
      "outputs": []
    },
    {
      "cell_type": "code",
      "source": [
        "condo = condo[['Address', 'Town','Zip','State','Style','Street_Name',\n",
        "                     'Development','ML#','Sold_Price','Baths_Full', 'Baths_Half',\n",
        "                   'Room_Level','Bath','Bedrooms','Utilities_Included', 'Common_Charges',\n",
        "                     'Appearance','REO','Appearance','Approx_Int_Square_Footage','School_District_Name',\n",
        "               'Taxes' ,'Unit_on_Floor_#']]"
      ],
      "metadata": {
        "id": "dhueIKEIY08w"
      },
      "execution_count": 9,
      "outputs": []
    },
    {
      "cell_type": "code",
      "source": [
        "condo = condo.drop_duplicates(subset=['ML#'], keep='first')"
      ],
      "metadata": {
        "id": "JA58KxbrY7Ov"
      },
      "execution_count": 10,
      "outputs": []
    },
    {
      "cell_type": "code",
      "source": [
        "# convert SoldPRice to a number\n",
        "condo['Sold_Price'] = pd.to_numeric(condo['Sold_Price'], errors='coerce')"
      ],
      "metadata": {
        "id": "Uy86TweAZhD-"
      },
      "execution_count": 11,
      "outputs": []
    },
    {
      "cell_type": "markdown",
      "source": [
        "# Sales by Devlopments Plotted(color by bedroom count)"
      ],
      "metadata": {
        "id": "i28dYLetZqpQ"
      }
    },
    {
      "cell_type": "code",
      "source": [
        "fig = px.scatter(data_frame=condo, x='Development', y='Sold_Price', color='Bedrooms',\n",
        "                 title='Condo Sold Price vs. Development',\n",
        "                 labels={'Development': 'Development', 'sold Price': 'Sold Price', 'Town': 'Town'},\n",
        "                 hover_data=['Development'])\n",
        "\n",
        "fig.update_traces(hovertemplate='Development: %{x}<br>Sold Price: %{y}<br>Bedrooms: %{marker.color}')\n",
        "\n",
        "fig.show()"
      ],
      "metadata": {
        "colab": {
          "base_uri": "https://localhost:8080/",
          "height": 542
        },
        "id": "jvbsD8UPZj9H",
        "outputId": "ab101631-bf15-4ecf-db9f-7df30881f081"
      },
      "execution_count": 14,
      "outputs": [
        {
          "output_type": "display_data",
          "data": {
            "text/html": [
              "<html>\n",
              "<head><meta charset=\"utf-8\" /></head>\n",
              "<body>\n",
              "    <div>            <script src=\"https://cdnjs.cloudflare.com/ajax/libs/mathjax/2.7.5/MathJax.js?config=TeX-AMS-MML_SVG\"></script><script type=\"text/javascript\">if (window.MathJax && window.MathJax.Hub && window.MathJax.Hub.Config) {window.MathJax.Hub.Config({SVG: {font: \"STIX-Web\"}});}</script>                <script type=\"text/javascript\">window.PlotlyConfig = {MathJaxConfig: 'local'};</script>\n",
              "        <script charset=\"utf-8\" src=\"https://cdn.plot.ly/plotly-2.24.1.min.js\"></script>                <div id=\"4b505c2a-5161-4915-bba8-b1727bf29f2d\" class=\"plotly-graph-div\" style=\"height:525px; width:100%;\"></div>            <script type=\"text/javascript\">                                    window.PLOTLYENV=window.PLOTLYENV || {};                                    if (document.getElementById(\"4b505c2a-5161-4915-bba8-b1727bf29f2d\")) {                    Plotly.newPlot(                        \"4b505c2a-5161-4915-bba8-b1727bf29f2d\",                        [{\"hovertemplate\":\"Development: %{x}\\u003cbr\\u003eSold Price: %{y}\\u003cbr\\u003eBedrooms: %{marker.color}\",\"legendgroup\":\"\",\"marker\":{\"color\":[1,2,1,2,1,2,1,1,1,2,2,1,1,1,1,1,1,2,1,2,2,1,1,1,1,2,1,1,1,2,1,2,1,1,2,1,2,2,2,2,1,1,1,2,1,2,1,2,1,1,1,1,2,1,1,2,1,2,2,1,1,2,1,1,2,1,1,2,2,1,1,2,1,2,2,1,2,1,2,1,2,1,1,1,1,1,1,2,1,2,2,2],\"coloraxis\":\"coloraxis\",\"symbol\":\"circle\"},\"mode\":\"markers\",\"name\":\"\",\"orientation\":\"v\",\"showlegend\":false,\"x\":[\"North Isle\",\"North Isle Village\",\"North Isle\",\"North Isle Village\",\"North Isle Village\",\"North Isle Village\",\"North Isle Village\",\"North Isle Village\",\"North Isle Village\",\"North Isle Village\",\"North Isle Village\",\"North Isle\",\"North Isle Village\",\"North Isle Village\",\"North Isle Village\",\"North Isles\",\"North Isle\",\"North Isle\",\"North Isle Village\",\"North Isle Village\",\"North Isle\",\"North Isle Village\",\"North Isle Village\",\"North Isle Village\",\"North Isle Village\",\"North Isle Village\",\"North Isle Village\",\"North Isle\",\"North Isle Village\",\"North Isle Village\",\"North Isle Village\",\"North Isle\",\"North Isle Village\",\"North Isle Village\",\"North Isle Village\",\"North Isle\",\"North Isle Village\",\"North Isle Village\",\"North Isle Village\",\"North Isle Village\",\"North Isle\",\"North Isle Village\",\"North Isle\",\"North Isle Village\",\"North Isle Village\",\"North Isle\",\"North Isle Village\",\"North Isle Village\",\"North Isle Village\",\"North Isle\",\"North Isle Village\",\"North Isle Village\",\"North Isle Village\",\"North Isle\",\"North Isle\",\"North Isle\",\"North Isle Village\",\"North Isle\",\"North Isle Village\",\"North Isle\",\"North Isle Village\",\"North Isle Villa\",\"North Isle\",\"North Isle\",\"North Isle Village\",\"North Isle\",\"North Isle\",\"North Isle Village\",\"North Isle Village\",\"North Isle Village\",\"North Isle Village\",\"North Isle Village\",\"North Isle\",\"North Isle Village\",\"North Isle\",\"North Isle Village\",\"North Isle Village\",\"North Isle Village\",\"North Isle Village\",\"North Isle Village\",\"North Isle Village\",\"North Isle\",\"North Isle Village\",\"North Isle Village\",\"North Isle Village\",\"North Isle Village\",\"North Isle Village\",\"North Isle Village\",\"North Isle Village\",\"North Isle\",\"North Isle\",\"North Isle\"],\"xaxis\":\"x\",\"y\":[145000.0,183000.0,130000.0,170000.0,150000.0,199900.0,160000.0,140000.0,110000.0,189000.0,165000.0,165000.0,130000.0,145000.0,170000.0,165000.0,156000.0,176000.0,185000.0,225000.0,178429.0,150000.0,139900.0,135000.0,165000.0,183000.0,140000.0,163000.0,160000.0,172000.0,150000.0,205000.0,141500.0,175000.0,null,155000.0,205000.0,170000.0,189000.0,185000.0,190000.0,178000.0,155000.0,195000.0,165000.0,220000.0,190000.0,175000.0,191000.0,170000.0,163000.0,130000.0,205000.0,193000.0,186500.0,195000.0,190000.0,225000.0,212000.0,161000.0,204000.0,196000.0,null,160000.0,230000.0,186000.0,190000.0,null,null,null,null,null,null,null,null,null,null,null,null,null,null,null,null,null,190000.0,194000.0,195000.0,235000.0,195000.0,null,null,null],\"yaxis\":\"y\",\"type\":\"scatter\"}],                        {\"template\":{\"data\":{\"histogram2dcontour\":[{\"type\":\"histogram2dcontour\",\"colorbar\":{\"outlinewidth\":0,\"ticks\":\"\"},\"colorscale\":[[0.0,\"#0d0887\"],[0.1111111111111111,\"#46039f\"],[0.2222222222222222,\"#7201a8\"],[0.3333333333333333,\"#9c179e\"],[0.4444444444444444,\"#bd3786\"],[0.5555555555555556,\"#d8576b\"],[0.6666666666666666,\"#ed7953\"],[0.7777777777777778,\"#fb9f3a\"],[0.8888888888888888,\"#fdca26\"],[1.0,\"#f0f921\"]]}],\"choropleth\":[{\"type\":\"choropleth\",\"colorbar\":{\"outlinewidth\":0,\"ticks\":\"\"}}],\"histogram2d\":[{\"type\":\"histogram2d\",\"colorbar\":{\"outlinewidth\":0,\"ticks\":\"\"},\"colorscale\":[[0.0,\"#0d0887\"],[0.1111111111111111,\"#46039f\"],[0.2222222222222222,\"#7201a8\"],[0.3333333333333333,\"#9c179e\"],[0.4444444444444444,\"#bd3786\"],[0.5555555555555556,\"#d8576b\"],[0.6666666666666666,\"#ed7953\"],[0.7777777777777778,\"#fb9f3a\"],[0.8888888888888888,\"#fdca26\"],[1.0,\"#f0f921\"]]}],\"heatmap\":[{\"type\":\"heatmap\",\"colorbar\":{\"outlinewidth\":0,\"ticks\":\"\"},\"colorscale\":[[0.0,\"#0d0887\"],[0.1111111111111111,\"#46039f\"],[0.2222222222222222,\"#7201a8\"],[0.3333333333333333,\"#9c179e\"],[0.4444444444444444,\"#bd3786\"],[0.5555555555555556,\"#d8576b\"],[0.6666666666666666,\"#ed7953\"],[0.7777777777777778,\"#fb9f3a\"],[0.8888888888888888,\"#fdca26\"],[1.0,\"#f0f921\"]]}],\"heatmapgl\":[{\"type\":\"heatmapgl\",\"colorbar\":{\"outlinewidth\":0,\"ticks\":\"\"},\"colorscale\":[[0.0,\"#0d0887\"],[0.1111111111111111,\"#46039f\"],[0.2222222222222222,\"#7201a8\"],[0.3333333333333333,\"#9c179e\"],[0.4444444444444444,\"#bd3786\"],[0.5555555555555556,\"#d8576b\"],[0.6666666666666666,\"#ed7953\"],[0.7777777777777778,\"#fb9f3a\"],[0.8888888888888888,\"#fdca26\"],[1.0,\"#f0f921\"]]}],\"contourcarpet\":[{\"type\":\"contourcarpet\",\"colorbar\":{\"outlinewidth\":0,\"ticks\":\"\"}}],\"contour\":[{\"type\":\"contour\",\"colorbar\":{\"outlinewidth\":0,\"ticks\":\"\"},\"colorscale\":[[0.0,\"#0d0887\"],[0.1111111111111111,\"#46039f\"],[0.2222222222222222,\"#7201a8\"],[0.3333333333333333,\"#9c179e\"],[0.4444444444444444,\"#bd3786\"],[0.5555555555555556,\"#d8576b\"],[0.6666666666666666,\"#ed7953\"],[0.7777777777777778,\"#fb9f3a\"],[0.8888888888888888,\"#fdca26\"],[1.0,\"#f0f921\"]]}],\"surface\":[{\"type\":\"surface\",\"colorbar\":{\"outlinewidth\":0,\"ticks\":\"\"},\"colorscale\":[[0.0,\"#0d0887\"],[0.1111111111111111,\"#46039f\"],[0.2222222222222222,\"#7201a8\"],[0.3333333333333333,\"#9c179e\"],[0.4444444444444444,\"#bd3786\"],[0.5555555555555556,\"#d8576b\"],[0.6666666666666666,\"#ed7953\"],[0.7777777777777778,\"#fb9f3a\"],[0.8888888888888888,\"#fdca26\"],[1.0,\"#f0f921\"]]}],\"mesh3d\":[{\"type\":\"mesh3d\",\"colorbar\":{\"outlinewidth\":0,\"ticks\":\"\"}}],\"scatter\":[{\"fillpattern\":{\"fillmode\":\"overlay\",\"size\":10,\"solidity\":0.2},\"type\":\"scatter\"}],\"parcoords\":[{\"type\":\"parcoords\",\"line\":{\"colorbar\":{\"outlinewidth\":0,\"ticks\":\"\"}}}],\"scatterpolargl\":[{\"type\":\"scatterpolargl\",\"marker\":{\"colorbar\":{\"outlinewidth\":0,\"ticks\":\"\"}}}],\"bar\":[{\"error_x\":{\"color\":\"#2a3f5f\"},\"error_y\":{\"color\":\"#2a3f5f\"},\"marker\":{\"line\":{\"color\":\"#E5ECF6\",\"width\":0.5},\"pattern\":{\"fillmode\":\"overlay\",\"size\":10,\"solidity\":0.2}},\"type\":\"bar\"}],\"scattergeo\":[{\"type\":\"scattergeo\",\"marker\":{\"colorbar\":{\"outlinewidth\":0,\"ticks\":\"\"}}}],\"scatterpolar\":[{\"type\":\"scatterpolar\",\"marker\":{\"colorbar\":{\"outlinewidth\":0,\"ticks\":\"\"}}}],\"histogram\":[{\"marker\":{\"pattern\":{\"fillmode\":\"overlay\",\"size\":10,\"solidity\":0.2}},\"type\":\"histogram\"}],\"scattergl\":[{\"type\":\"scattergl\",\"marker\":{\"colorbar\":{\"outlinewidth\":0,\"ticks\":\"\"}}}],\"scatter3d\":[{\"type\":\"scatter3d\",\"line\":{\"colorbar\":{\"outlinewidth\":0,\"ticks\":\"\"}},\"marker\":{\"colorbar\":{\"outlinewidth\":0,\"ticks\":\"\"}}}],\"scattermapbox\":[{\"type\":\"scattermapbox\",\"marker\":{\"colorbar\":{\"outlinewidth\":0,\"ticks\":\"\"}}}],\"scatterternary\":[{\"type\":\"scatterternary\",\"marker\":{\"colorbar\":{\"outlinewidth\":0,\"ticks\":\"\"}}}],\"scattercarpet\":[{\"type\":\"scattercarpet\",\"marker\":{\"colorbar\":{\"outlinewidth\":0,\"ticks\":\"\"}}}],\"carpet\":[{\"aaxis\":{\"endlinecolor\":\"#2a3f5f\",\"gridcolor\":\"white\",\"linecolor\":\"white\",\"minorgridcolor\":\"white\",\"startlinecolor\":\"#2a3f5f\"},\"baxis\":{\"endlinecolor\":\"#2a3f5f\",\"gridcolor\":\"white\",\"linecolor\":\"white\",\"minorgridcolor\":\"white\",\"startlinecolor\":\"#2a3f5f\"},\"type\":\"carpet\"}],\"table\":[{\"cells\":{\"fill\":{\"color\":\"#EBF0F8\"},\"line\":{\"color\":\"white\"}},\"header\":{\"fill\":{\"color\":\"#C8D4E3\"},\"line\":{\"color\":\"white\"}},\"type\":\"table\"}],\"barpolar\":[{\"marker\":{\"line\":{\"color\":\"#E5ECF6\",\"width\":0.5},\"pattern\":{\"fillmode\":\"overlay\",\"size\":10,\"solidity\":0.2}},\"type\":\"barpolar\"}],\"pie\":[{\"automargin\":true,\"type\":\"pie\"}]},\"layout\":{\"autotypenumbers\":\"strict\",\"colorway\":[\"#636efa\",\"#EF553B\",\"#00cc96\",\"#ab63fa\",\"#FFA15A\",\"#19d3f3\",\"#FF6692\",\"#B6E880\",\"#FF97FF\",\"#FECB52\"],\"font\":{\"color\":\"#2a3f5f\"},\"hovermode\":\"closest\",\"hoverlabel\":{\"align\":\"left\"},\"paper_bgcolor\":\"white\",\"plot_bgcolor\":\"#E5ECF6\",\"polar\":{\"bgcolor\":\"#E5ECF6\",\"angularaxis\":{\"gridcolor\":\"white\",\"linecolor\":\"white\",\"ticks\":\"\"},\"radialaxis\":{\"gridcolor\":\"white\",\"linecolor\":\"white\",\"ticks\":\"\"}},\"ternary\":{\"bgcolor\":\"#E5ECF6\",\"aaxis\":{\"gridcolor\":\"white\",\"linecolor\":\"white\",\"ticks\":\"\"},\"baxis\":{\"gridcolor\":\"white\",\"linecolor\":\"white\",\"ticks\":\"\"},\"caxis\":{\"gridcolor\":\"white\",\"linecolor\":\"white\",\"ticks\":\"\"}},\"coloraxis\":{\"colorbar\":{\"outlinewidth\":0,\"ticks\":\"\"}},\"colorscale\":{\"sequential\":[[0.0,\"#0d0887\"],[0.1111111111111111,\"#46039f\"],[0.2222222222222222,\"#7201a8\"],[0.3333333333333333,\"#9c179e\"],[0.4444444444444444,\"#bd3786\"],[0.5555555555555556,\"#d8576b\"],[0.6666666666666666,\"#ed7953\"],[0.7777777777777778,\"#fb9f3a\"],[0.8888888888888888,\"#fdca26\"],[1.0,\"#f0f921\"]],\"sequentialminus\":[[0.0,\"#0d0887\"],[0.1111111111111111,\"#46039f\"],[0.2222222222222222,\"#7201a8\"],[0.3333333333333333,\"#9c179e\"],[0.4444444444444444,\"#bd3786\"],[0.5555555555555556,\"#d8576b\"],[0.6666666666666666,\"#ed7953\"],[0.7777777777777778,\"#fb9f3a\"],[0.8888888888888888,\"#fdca26\"],[1.0,\"#f0f921\"]],\"diverging\":[[0,\"#8e0152\"],[0.1,\"#c51b7d\"],[0.2,\"#de77ae\"],[0.3,\"#f1b6da\"],[0.4,\"#fde0ef\"],[0.5,\"#f7f7f7\"],[0.6,\"#e6f5d0\"],[0.7,\"#b8e186\"],[0.8,\"#7fbc41\"],[0.9,\"#4d9221\"],[1,\"#276419\"]]},\"xaxis\":{\"gridcolor\":\"white\",\"linecolor\":\"white\",\"ticks\":\"\",\"title\":{\"standoff\":15},\"zerolinecolor\":\"white\",\"automargin\":true,\"zerolinewidth\":2},\"yaxis\":{\"gridcolor\":\"white\",\"linecolor\":\"white\",\"ticks\":\"\",\"title\":{\"standoff\":15},\"zerolinecolor\":\"white\",\"automargin\":true,\"zerolinewidth\":2},\"scene\":{\"xaxis\":{\"backgroundcolor\":\"#E5ECF6\",\"gridcolor\":\"white\",\"linecolor\":\"white\",\"showbackground\":true,\"ticks\":\"\",\"zerolinecolor\":\"white\",\"gridwidth\":2},\"yaxis\":{\"backgroundcolor\":\"#E5ECF6\",\"gridcolor\":\"white\",\"linecolor\":\"white\",\"showbackground\":true,\"ticks\":\"\",\"zerolinecolor\":\"white\",\"gridwidth\":2},\"zaxis\":{\"backgroundcolor\":\"#E5ECF6\",\"gridcolor\":\"white\",\"linecolor\":\"white\",\"showbackground\":true,\"ticks\":\"\",\"zerolinecolor\":\"white\",\"gridwidth\":2}},\"shapedefaults\":{\"line\":{\"color\":\"#2a3f5f\"}},\"annotationdefaults\":{\"arrowcolor\":\"#2a3f5f\",\"arrowhead\":0,\"arrowwidth\":1},\"geo\":{\"bgcolor\":\"white\",\"landcolor\":\"#E5ECF6\",\"subunitcolor\":\"white\",\"showland\":true,\"showlakes\":true,\"lakecolor\":\"white\"},\"title\":{\"x\":0.05},\"mapbox\":{\"style\":\"light\"}}},\"xaxis\":{\"anchor\":\"y\",\"domain\":[0.0,1.0],\"title\":{\"text\":\"Development\"}},\"yaxis\":{\"anchor\":\"x\",\"domain\":[0.0,1.0],\"title\":{\"text\":\"Sold_Price\"}},\"coloraxis\":{\"colorbar\":{\"title\":{\"text\":\"Bedrooms\"}},\"colorscale\":[[0.0,\"#0d0887\"],[0.1111111111111111,\"#46039f\"],[0.2222222222222222,\"#7201a8\"],[0.3333333333333333,\"#9c179e\"],[0.4444444444444444,\"#bd3786\"],[0.5555555555555556,\"#d8576b\"],[0.6666666666666666,\"#ed7953\"],[0.7777777777777778,\"#fb9f3a\"],[0.8888888888888888,\"#fdca26\"],[1.0,\"#f0f921\"]]},\"legend\":{\"tracegroupgap\":0},\"title\":{\"text\":\"Condo Sold Price vs. Development\"}},                        {\"responsive\": true}                    ).then(function(){\n",
              "                            \n",
              "var gd = document.getElementById('4b505c2a-5161-4915-bba8-b1727bf29f2d');\n",
              "var x = new MutationObserver(function (mutations, observer) {{\n",
              "        var display = window.getComputedStyle(gd).display;\n",
              "        if (!display || display === 'none') {{\n",
              "            console.log([gd, 'removed!']);\n",
              "            Plotly.purge(gd);\n",
              "            observer.disconnect();\n",
              "        }}\n",
              "}});\n",
              "\n",
              "// Listen for the removal of the full notebook cells\n",
              "var notebookContainer = gd.closest('#notebook-container');\n",
              "if (notebookContainer) {{\n",
              "    x.observe(notebookContainer, {childList: true});\n",
              "}}\n",
              "\n",
              "// Listen for the clearing of the current output cell\n",
              "var outputEl = gd.closest('.output');\n",
              "if (outputEl) {{\n",
              "    x.observe(outputEl, {childList: true});\n",
              "}}\n",
              "\n",
              "                        })                };                            </script>        </div>\n",
              "</body>\n",
              "</html>"
            ]
          },
          "metadata": {}
        }
      ]
    },
    {
      "cell_type": "markdown",
      "source": [
        "# Plot Facet by Bedroom"
      ],
      "metadata": {
        "id": "AOnko9PXaHxe"
      }
    },
    {
      "cell_type": "code",
      "source": [
        "fig = px.scatter(data_frame=condo, x='Development', y='Sold_Price', color='Town',\n",
        "                 title='Condo Sold Price vs. Development',\n",
        "                 labels={'Development': 'Development', 'sold Price': 'Sold Price', 'Bedrooms': 'Number of Bedrooms'},\n",
        "                 facet_col='Bedrooms',  # Create subplots for each value of 'Bedrooms'\n",
        "                 height=400)  # Set the height of each subplot\n",
        "\n",
        "# Show the plot\n",
        "fig.show()"
      ],
      "metadata": {
        "colab": {
          "base_uri": "https://localhost:8080/",
          "height": 417
        },
        "id": "uTUwRhEmZtJ3",
        "outputId": "5fbbe543-af6d-4cf8-ac97-e70f60a36289"
      },
      "execution_count": 15,
      "outputs": [
        {
          "output_type": "display_data",
          "data": {
            "text/html": [
              "<html>\n",
              "<head><meta charset=\"utf-8\" /></head>\n",
              "<body>\n",
              "    <div>            <script src=\"https://cdnjs.cloudflare.com/ajax/libs/mathjax/2.7.5/MathJax.js?config=TeX-AMS-MML_SVG\"></script><script type=\"text/javascript\">if (window.MathJax && window.MathJax.Hub && window.MathJax.Hub.Config) {window.MathJax.Hub.Config({SVG: {font: \"STIX-Web\"}});}</script>                <script type=\"text/javascript\">window.PlotlyConfig = {MathJaxConfig: 'local'};</script>\n",
              "        <script charset=\"utf-8\" src=\"https://cdn.plot.ly/plotly-2.24.1.min.js\"></script>                <div id=\"2eadb568-39a0-4378-ab59-a4d02c9b5596\" class=\"plotly-graph-div\" style=\"height:400px; width:100%;\"></div>            <script type=\"text/javascript\">                                    window.PLOTLYENV=window.PLOTLYENV || {};                                    if (document.getElementById(\"2eadb568-39a0-4378-ab59-a4d02c9b5596\")) {                    Plotly.newPlot(                        \"2eadb568-39a0-4378-ab59-a4d02c9b5596\",                        [{\"hovertemplate\":\"Town=Coram\\u003cbr\\u003eNumber of Bedrooms=1\\u003cbr\\u003eDevelopment=%{x}\\u003cbr\\u003eSold_Price=%{y}\\u003cextra\\u003e\\u003c\\u002fextra\\u003e\",\"legendgroup\":\"Coram\",\"marker\":{\"color\":\"#636efa\",\"symbol\":\"circle\"},\"mode\":\"markers\",\"name\":\"Coram\",\"orientation\":\"v\",\"showlegend\":true,\"x\":[\"North Isle\",\"North Isle\",\"North Isle Village\",\"North Isle Village\",\"North Isle Village\",\"North Isle Village\",\"North Isle\",\"North Isle Village\",\"North Isle Village\",\"North Isle Village\",\"North Isles\",\"North Isle\",\"North Isle Village\",\"North Isle Village\",\"North Isle Village\",\"North Isle Village\",\"North Isle Village\",\"North Isle Village\",\"North Isle\",\"North Isle Village\",\"North Isle Village\",\"North Isle Village\",\"North Isle Village\",\"North Isle\",\"North Isle\",\"North Isle Village\",\"North Isle\",\"North Isle Village\",\"North Isle Village\",\"North Isle Village\",\"North Isle\",\"North Isle Village\",\"North Isle Village\",\"North Isle\",\"North Isle\",\"North Isle Village\",\"North Isle\",\"North Isle Village\",\"North Isle\",\"North Isle\",\"North Isle\",\"North Isle\",\"North Isle Village\",\"North Isle Village\",\"North Isle\",\"North Isle Village\",\"North Isle Village\",\"North Isle Village\",\"North Isle\",\"North Isle Village\",\"North Isle Village\",\"North Isle Village\",\"North Isle Village\",\"North Isle Village\",\"North Isle Village\"],\"xaxis\":\"x\",\"y\":[145000.0,130000.0,150000.0,160000.0,140000.0,110000.0,165000.0,130000.0,145000.0,170000.0,165000.0,156000.0,185000.0,150000.0,139900.0,135000.0,165000.0,140000.0,163000.0,160000.0,150000.0,141500.0,175000.0,155000.0,190000.0,178000.0,155000.0,165000.0,190000.0,191000.0,170000.0,163000.0,130000.0,193000.0,186500.0,190000.0,161000.0,204000.0,null,160000.0,186000.0,190000.0,null,null,null,null,null,null,null,null,null,190000.0,194000.0,195000.0,195000.0],\"yaxis\":\"y\",\"type\":\"scatter\"},{\"hovertemplate\":\"Town=Coram\\u003cbr\\u003eNumber of Bedrooms=2\\u003cbr\\u003eDevelopment=%{x}\\u003cbr\\u003eSold_Price=%{y}\\u003cextra\\u003e\\u003c\\u002fextra\\u003e\",\"legendgroup\":\"Coram\",\"marker\":{\"color\":\"#636efa\",\"symbol\":\"circle\"},\"mode\":\"markers\",\"name\":\"Coram\",\"orientation\":\"v\",\"showlegend\":false,\"x\":[\"North Isle Village\",\"North Isle Village\",\"North Isle Village\",\"North Isle Village\",\"North Isle Village\",\"North Isle\",\"North Isle Village\",\"North Isle\",\"North Isle Village\",\"North Isle Village\",\"North Isle\",\"North Isle Village\",\"North Isle Village\",\"North Isle Village\",\"North Isle Village\",\"North Isle Village\",\"North Isle Village\",\"North Isle\",\"North Isle Village\",\"North Isle Village\",\"North Isle\",\"North Isle\",\"North Isle Village\",\"North Isle Villa\",\"North Isle Village\",\"North Isle Village\",\"North Isle Village\",\"North Isle Village\",\"North Isle Village\",\"North Isle\",\"North Isle Village\",\"North Isle Village\",\"North Isle Village\",\"North Isle Village\",\"North Isle\",\"North Isle\",\"North Isle\"],\"xaxis\":\"x2\",\"y\":[183000.0,170000.0,199900.0,189000.0,165000.0,176000.0,225000.0,178429.0,183000.0,172000.0,205000.0,null,205000.0,170000.0,189000.0,185000.0,195000.0,220000.0,175000.0,205000.0,195000.0,225000.0,212000.0,196000.0,230000.0,null,null,null,null,null,null,null,null,235000.0,null,null,null],\"yaxis\":\"y2\",\"type\":\"scatter\"}],                        {\"template\":{\"data\":{\"histogram2dcontour\":[{\"type\":\"histogram2dcontour\",\"colorbar\":{\"outlinewidth\":0,\"ticks\":\"\"},\"colorscale\":[[0.0,\"#0d0887\"],[0.1111111111111111,\"#46039f\"],[0.2222222222222222,\"#7201a8\"],[0.3333333333333333,\"#9c179e\"],[0.4444444444444444,\"#bd3786\"],[0.5555555555555556,\"#d8576b\"],[0.6666666666666666,\"#ed7953\"],[0.7777777777777778,\"#fb9f3a\"],[0.8888888888888888,\"#fdca26\"],[1.0,\"#f0f921\"]]}],\"choropleth\":[{\"type\":\"choropleth\",\"colorbar\":{\"outlinewidth\":0,\"ticks\":\"\"}}],\"histogram2d\":[{\"type\":\"histogram2d\",\"colorbar\":{\"outlinewidth\":0,\"ticks\":\"\"},\"colorscale\":[[0.0,\"#0d0887\"],[0.1111111111111111,\"#46039f\"],[0.2222222222222222,\"#7201a8\"],[0.3333333333333333,\"#9c179e\"],[0.4444444444444444,\"#bd3786\"],[0.5555555555555556,\"#d8576b\"],[0.6666666666666666,\"#ed7953\"],[0.7777777777777778,\"#fb9f3a\"],[0.8888888888888888,\"#fdca26\"],[1.0,\"#f0f921\"]]}],\"heatmap\":[{\"type\":\"heatmap\",\"colorbar\":{\"outlinewidth\":0,\"ticks\":\"\"},\"colorscale\":[[0.0,\"#0d0887\"],[0.1111111111111111,\"#46039f\"],[0.2222222222222222,\"#7201a8\"],[0.3333333333333333,\"#9c179e\"],[0.4444444444444444,\"#bd3786\"],[0.5555555555555556,\"#d8576b\"],[0.6666666666666666,\"#ed7953\"],[0.7777777777777778,\"#fb9f3a\"],[0.8888888888888888,\"#fdca26\"],[1.0,\"#f0f921\"]]}],\"heatmapgl\":[{\"type\":\"heatmapgl\",\"colorbar\":{\"outlinewidth\":0,\"ticks\":\"\"},\"colorscale\":[[0.0,\"#0d0887\"],[0.1111111111111111,\"#46039f\"],[0.2222222222222222,\"#7201a8\"],[0.3333333333333333,\"#9c179e\"],[0.4444444444444444,\"#bd3786\"],[0.5555555555555556,\"#d8576b\"],[0.6666666666666666,\"#ed7953\"],[0.7777777777777778,\"#fb9f3a\"],[0.8888888888888888,\"#fdca26\"],[1.0,\"#f0f921\"]]}],\"contourcarpet\":[{\"type\":\"contourcarpet\",\"colorbar\":{\"outlinewidth\":0,\"ticks\":\"\"}}],\"contour\":[{\"type\":\"contour\",\"colorbar\":{\"outlinewidth\":0,\"ticks\":\"\"},\"colorscale\":[[0.0,\"#0d0887\"],[0.1111111111111111,\"#46039f\"],[0.2222222222222222,\"#7201a8\"],[0.3333333333333333,\"#9c179e\"],[0.4444444444444444,\"#bd3786\"],[0.5555555555555556,\"#d8576b\"],[0.6666666666666666,\"#ed7953\"],[0.7777777777777778,\"#fb9f3a\"],[0.8888888888888888,\"#fdca26\"],[1.0,\"#f0f921\"]]}],\"surface\":[{\"type\":\"surface\",\"colorbar\":{\"outlinewidth\":0,\"ticks\":\"\"},\"colorscale\":[[0.0,\"#0d0887\"],[0.1111111111111111,\"#46039f\"],[0.2222222222222222,\"#7201a8\"],[0.3333333333333333,\"#9c179e\"],[0.4444444444444444,\"#bd3786\"],[0.5555555555555556,\"#d8576b\"],[0.6666666666666666,\"#ed7953\"],[0.7777777777777778,\"#fb9f3a\"],[0.8888888888888888,\"#fdca26\"],[1.0,\"#f0f921\"]]}],\"mesh3d\":[{\"type\":\"mesh3d\",\"colorbar\":{\"outlinewidth\":0,\"ticks\":\"\"}}],\"scatter\":[{\"fillpattern\":{\"fillmode\":\"overlay\",\"size\":10,\"solidity\":0.2},\"type\":\"scatter\"}],\"parcoords\":[{\"type\":\"parcoords\",\"line\":{\"colorbar\":{\"outlinewidth\":0,\"ticks\":\"\"}}}],\"scatterpolargl\":[{\"type\":\"scatterpolargl\",\"marker\":{\"colorbar\":{\"outlinewidth\":0,\"ticks\":\"\"}}}],\"bar\":[{\"error_x\":{\"color\":\"#2a3f5f\"},\"error_y\":{\"color\":\"#2a3f5f\"},\"marker\":{\"line\":{\"color\":\"#E5ECF6\",\"width\":0.5},\"pattern\":{\"fillmode\":\"overlay\",\"size\":10,\"solidity\":0.2}},\"type\":\"bar\"}],\"scattergeo\":[{\"type\":\"scattergeo\",\"marker\":{\"colorbar\":{\"outlinewidth\":0,\"ticks\":\"\"}}}],\"scatterpolar\":[{\"type\":\"scatterpolar\",\"marker\":{\"colorbar\":{\"outlinewidth\":0,\"ticks\":\"\"}}}],\"histogram\":[{\"marker\":{\"pattern\":{\"fillmode\":\"overlay\",\"size\":10,\"solidity\":0.2}},\"type\":\"histogram\"}],\"scattergl\":[{\"type\":\"scattergl\",\"marker\":{\"colorbar\":{\"outlinewidth\":0,\"ticks\":\"\"}}}],\"scatter3d\":[{\"type\":\"scatter3d\",\"line\":{\"colorbar\":{\"outlinewidth\":0,\"ticks\":\"\"}},\"marker\":{\"colorbar\":{\"outlinewidth\":0,\"ticks\":\"\"}}}],\"scattermapbox\":[{\"type\":\"scattermapbox\",\"marker\":{\"colorbar\":{\"outlinewidth\":0,\"ticks\":\"\"}}}],\"scatterternary\":[{\"type\":\"scatterternary\",\"marker\":{\"colorbar\":{\"outlinewidth\":0,\"ticks\":\"\"}}}],\"scattercarpet\":[{\"type\":\"scattercarpet\",\"marker\":{\"colorbar\":{\"outlinewidth\":0,\"ticks\":\"\"}}}],\"carpet\":[{\"aaxis\":{\"endlinecolor\":\"#2a3f5f\",\"gridcolor\":\"white\",\"linecolor\":\"white\",\"minorgridcolor\":\"white\",\"startlinecolor\":\"#2a3f5f\"},\"baxis\":{\"endlinecolor\":\"#2a3f5f\",\"gridcolor\":\"white\",\"linecolor\":\"white\",\"minorgridcolor\":\"white\",\"startlinecolor\":\"#2a3f5f\"},\"type\":\"carpet\"}],\"table\":[{\"cells\":{\"fill\":{\"color\":\"#EBF0F8\"},\"line\":{\"color\":\"white\"}},\"header\":{\"fill\":{\"color\":\"#C8D4E3\"},\"line\":{\"color\":\"white\"}},\"type\":\"table\"}],\"barpolar\":[{\"marker\":{\"line\":{\"color\":\"#E5ECF6\",\"width\":0.5},\"pattern\":{\"fillmode\":\"overlay\",\"size\":10,\"solidity\":0.2}},\"type\":\"barpolar\"}],\"pie\":[{\"automargin\":true,\"type\":\"pie\"}]},\"layout\":{\"autotypenumbers\":\"strict\",\"colorway\":[\"#636efa\",\"#EF553B\",\"#00cc96\",\"#ab63fa\",\"#FFA15A\",\"#19d3f3\",\"#FF6692\",\"#B6E880\",\"#FF97FF\",\"#FECB52\"],\"font\":{\"color\":\"#2a3f5f\"},\"hovermode\":\"closest\",\"hoverlabel\":{\"align\":\"left\"},\"paper_bgcolor\":\"white\",\"plot_bgcolor\":\"#E5ECF6\",\"polar\":{\"bgcolor\":\"#E5ECF6\",\"angularaxis\":{\"gridcolor\":\"white\",\"linecolor\":\"white\",\"ticks\":\"\"},\"radialaxis\":{\"gridcolor\":\"white\",\"linecolor\":\"white\",\"ticks\":\"\"}},\"ternary\":{\"bgcolor\":\"#E5ECF6\",\"aaxis\":{\"gridcolor\":\"white\",\"linecolor\":\"white\",\"ticks\":\"\"},\"baxis\":{\"gridcolor\":\"white\",\"linecolor\":\"white\",\"ticks\":\"\"},\"caxis\":{\"gridcolor\":\"white\",\"linecolor\":\"white\",\"ticks\":\"\"}},\"coloraxis\":{\"colorbar\":{\"outlinewidth\":0,\"ticks\":\"\"}},\"colorscale\":{\"sequential\":[[0.0,\"#0d0887\"],[0.1111111111111111,\"#46039f\"],[0.2222222222222222,\"#7201a8\"],[0.3333333333333333,\"#9c179e\"],[0.4444444444444444,\"#bd3786\"],[0.5555555555555556,\"#d8576b\"],[0.6666666666666666,\"#ed7953\"],[0.7777777777777778,\"#fb9f3a\"],[0.8888888888888888,\"#fdca26\"],[1.0,\"#f0f921\"]],\"sequentialminus\":[[0.0,\"#0d0887\"],[0.1111111111111111,\"#46039f\"],[0.2222222222222222,\"#7201a8\"],[0.3333333333333333,\"#9c179e\"],[0.4444444444444444,\"#bd3786\"],[0.5555555555555556,\"#d8576b\"],[0.6666666666666666,\"#ed7953\"],[0.7777777777777778,\"#fb9f3a\"],[0.8888888888888888,\"#fdca26\"],[1.0,\"#f0f921\"]],\"diverging\":[[0,\"#8e0152\"],[0.1,\"#c51b7d\"],[0.2,\"#de77ae\"],[0.3,\"#f1b6da\"],[0.4,\"#fde0ef\"],[0.5,\"#f7f7f7\"],[0.6,\"#e6f5d0\"],[0.7,\"#b8e186\"],[0.8,\"#7fbc41\"],[0.9,\"#4d9221\"],[1,\"#276419\"]]},\"xaxis\":{\"gridcolor\":\"white\",\"linecolor\":\"white\",\"ticks\":\"\",\"title\":{\"standoff\":15},\"zerolinecolor\":\"white\",\"automargin\":true,\"zerolinewidth\":2},\"yaxis\":{\"gridcolor\":\"white\",\"linecolor\":\"white\",\"ticks\":\"\",\"title\":{\"standoff\":15},\"zerolinecolor\":\"white\",\"automargin\":true,\"zerolinewidth\":2},\"scene\":{\"xaxis\":{\"backgroundcolor\":\"#E5ECF6\",\"gridcolor\":\"white\",\"linecolor\":\"white\",\"showbackground\":true,\"ticks\":\"\",\"zerolinecolor\":\"white\",\"gridwidth\":2},\"yaxis\":{\"backgroundcolor\":\"#E5ECF6\",\"gridcolor\":\"white\",\"linecolor\":\"white\",\"showbackground\":true,\"ticks\":\"\",\"zerolinecolor\":\"white\",\"gridwidth\":2},\"zaxis\":{\"backgroundcolor\":\"#E5ECF6\",\"gridcolor\":\"white\",\"linecolor\":\"white\",\"showbackground\":true,\"ticks\":\"\",\"zerolinecolor\":\"white\",\"gridwidth\":2}},\"shapedefaults\":{\"line\":{\"color\":\"#2a3f5f\"}},\"annotationdefaults\":{\"arrowcolor\":\"#2a3f5f\",\"arrowhead\":0,\"arrowwidth\":1},\"geo\":{\"bgcolor\":\"white\",\"landcolor\":\"#E5ECF6\",\"subunitcolor\":\"white\",\"showland\":true,\"showlakes\":true,\"lakecolor\":\"white\"},\"title\":{\"x\":0.05},\"mapbox\":{\"style\":\"light\"}}},\"xaxis\":{\"anchor\":\"y\",\"domain\":[0.0,0.49],\"title\":{\"text\":\"Development\"}},\"yaxis\":{\"anchor\":\"x\",\"domain\":[0.0,1.0],\"title\":{\"text\":\"Sold_Price\"}},\"xaxis2\":{\"anchor\":\"y2\",\"domain\":[0.51,1.0],\"matches\":\"x\",\"title\":{\"text\":\"Development\"}},\"yaxis2\":{\"anchor\":\"x2\",\"domain\":[0.0,1.0],\"matches\":\"y\",\"showticklabels\":false},\"annotations\":[{\"font\":{},\"showarrow\":false,\"text\":\"Number of Bedrooms=1\",\"x\":0.245,\"xanchor\":\"center\",\"xref\":\"paper\",\"y\":1.0,\"yanchor\":\"bottom\",\"yref\":\"paper\"},{\"font\":{},\"showarrow\":false,\"text\":\"Number of Bedrooms=2\",\"x\":0.755,\"xanchor\":\"center\",\"xref\":\"paper\",\"y\":1.0,\"yanchor\":\"bottom\",\"yref\":\"paper\"}],\"legend\":{\"title\":{\"text\":\"Town\"},\"tracegroupgap\":0},\"title\":{\"text\":\"Condo Sold Price vs. Development\"},\"height\":400},                        {\"responsive\": true}                    ).then(function(){\n",
              "                            \n",
              "var gd = document.getElementById('2eadb568-39a0-4378-ab59-a4d02c9b5596');\n",
              "var x = new MutationObserver(function (mutations, observer) {{\n",
              "        var display = window.getComputedStyle(gd).display;\n",
              "        if (!display || display === 'none') {{\n",
              "            console.log([gd, 'removed!']);\n",
              "            Plotly.purge(gd);\n",
              "            observer.disconnect();\n",
              "        }}\n",
              "}});\n",
              "\n",
              "// Listen for the removal of the full notebook cells\n",
              "var notebookContainer = gd.closest('#notebook-container');\n",
              "if (notebookContainer) {{\n",
              "    x.observe(notebookContainer, {childList: true});\n",
              "}}\n",
              "\n",
              "// Listen for the clearing of the current output cell\n",
              "var outputEl = gd.closest('.output');\n",
              "if (outputEl) {{\n",
              "    x.observe(outputEl, {childList: true});\n",
              "}}\n",
              "\n",
              "                        })                };                            </script>        </div>\n",
              "</body>\n",
              "</html>"
            ]
          },
          "metadata": {}
        }
      ]
    },
    {
      "cell_type": "markdown",
      "source": [
        "# Plot Square footage v Selling Price"
      ],
      "metadata": {
        "id": "JlBxCmyFanhC"
      }
    },
    {
      "cell_type": "code",
      "source": [
        "# Create a scatter plot using Plotly Express\n",
        "fig = px.scatter(condo_area , x='Bedrooms', y='Approx_Int_Square_Footage',color='Sold_Price' ,title='Sold Price and Sq Footage')\n",
        "#\n",
        "# Set y-axis type to linear to ensure numeric order\n",
        "fig.update_yaxes(type='linear')\n",
        "\n",
        "# Update the x-axis to show only integer ticks\n",
        "fig.update_xaxes(\n",
        "    tickmode='linear',   # Use a linear tick mode\n",
        "    tick0=1,             # Start the ticks from 1 (an integer)\n",
        "    dtick=1              # Set the tick interval to 1 (integer increment)\n",
        ")\n",
        "# Show the plot\n",
        "fig.show()"
      ],
      "metadata": {
        "colab": {
          "base_uri": "https://localhost:8080/",
          "height": 542
        },
        "id": "5nY7j3hBauFz",
        "outputId": "e959a94f-37f3-4f7d-b3eb-a2358e580f68"
      },
      "execution_count": 19,
      "outputs": [
        {
          "output_type": "display_data",
          "data": {
            "text/html": [
              "<html>\n",
              "<head><meta charset=\"utf-8\" /></head>\n",
              "<body>\n",
              "    <div>            <script src=\"https://cdnjs.cloudflare.com/ajax/libs/mathjax/2.7.5/MathJax.js?config=TeX-AMS-MML_SVG\"></script><script type=\"text/javascript\">if (window.MathJax && window.MathJax.Hub && window.MathJax.Hub.Config) {window.MathJax.Hub.Config({SVG: {font: \"STIX-Web\"}});}</script>                <script type=\"text/javascript\">window.PlotlyConfig = {MathJaxConfig: 'local'};</script>\n",
              "        <script charset=\"utf-8\" src=\"https://cdn.plot.ly/plotly-2.24.1.min.js\"></script>                <div id=\"e58c223c-ad21-48a2-ad18-7bc444aad568\" class=\"plotly-graph-div\" style=\"height:525px; width:100%;\"></div>            <script type=\"text/javascript\">                                    window.PLOTLYENV=window.PLOTLYENV || {};                                    if (document.getElementById(\"e58c223c-ad21-48a2-ad18-7bc444aad568\")) {                    Plotly.newPlot(                        \"e58c223c-ad21-48a2-ad18-7bc444aad568\",                        [{\"hovertemplate\":\"Bedrooms=%{x}\\u003cbr\\u003eApprox_Int_Square_Footage=%{y}\\u003cbr\\u003eSold_Price=%{marker.color}\\u003cextra\\u003e\\u003c\\u002fextra\\u003e\",\"legendgroup\":\"\",\"marker\":{\"color\":[189000.0,170000.0,156000.0,225000.0,178429.0,183000.0,172000.0,191000.0,170000.0,205000.0,204000.0,230000.0,190000.0,null,null,null,null,190000.0,194000.0,195000.0,235000.0,195000.0,null],\"coloraxis\":\"coloraxis\",\"symbol\":\"circle\"},\"mode\":\"markers\",\"name\":\"\",\"orientation\":\"v\",\"showlegend\":false,\"x\":[2,1,1,2,2,2,2,1,1,2,1,2,1,1,1,1,1,1,1,1,2,1,2],\"xaxis\":\"x\",\"y\":[897.0,790.0,631.0,950.0,834.0,950.0,900.0,750.0,750.0,950.0,750.0,950.0,750.0,745.0,750.0,600.0,750.0,750.0,750.0,750.0,900.0,750.0,923.0],\"yaxis\":\"y\",\"type\":\"scatter\"}],                        {\"template\":{\"data\":{\"histogram2dcontour\":[{\"type\":\"histogram2dcontour\",\"colorbar\":{\"outlinewidth\":0,\"ticks\":\"\"},\"colorscale\":[[0.0,\"#0d0887\"],[0.1111111111111111,\"#46039f\"],[0.2222222222222222,\"#7201a8\"],[0.3333333333333333,\"#9c179e\"],[0.4444444444444444,\"#bd3786\"],[0.5555555555555556,\"#d8576b\"],[0.6666666666666666,\"#ed7953\"],[0.7777777777777778,\"#fb9f3a\"],[0.8888888888888888,\"#fdca26\"],[1.0,\"#f0f921\"]]}],\"choropleth\":[{\"type\":\"choropleth\",\"colorbar\":{\"outlinewidth\":0,\"ticks\":\"\"}}],\"histogram2d\":[{\"type\":\"histogram2d\",\"colorbar\":{\"outlinewidth\":0,\"ticks\":\"\"},\"colorscale\":[[0.0,\"#0d0887\"],[0.1111111111111111,\"#46039f\"],[0.2222222222222222,\"#7201a8\"],[0.3333333333333333,\"#9c179e\"],[0.4444444444444444,\"#bd3786\"],[0.5555555555555556,\"#d8576b\"],[0.6666666666666666,\"#ed7953\"],[0.7777777777777778,\"#fb9f3a\"],[0.8888888888888888,\"#fdca26\"],[1.0,\"#f0f921\"]]}],\"heatmap\":[{\"type\":\"heatmap\",\"colorbar\":{\"outlinewidth\":0,\"ticks\":\"\"},\"colorscale\":[[0.0,\"#0d0887\"],[0.1111111111111111,\"#46039f\"],[0.2222222222222222,\"#7201a8\"],[0.3333333333333333,\"#9c179e\"],[0.4444444444444444,\"#bd3786\"],[0.5555555555555556,\"#d8576b\"],[0.6666666666666666,\"#ed7953\"],[0.7777777777777778,\"#fb9f3a\"],[0.8888888888888888,\"#fdca26\"],[1.0,\"#f0f921\"]]}],\"heatmapgl\":[{\"type\":\"heatmapgl\",\"colorbar\":{\"outlinewidth\":0,\"ticks\":\"\"},\"colorscale\":[[0.0,\"#0d0887\"],[0.1111111111111111,\"#46039f\"],[0.2222222222222222,\"#7201a8\"],[0.3333333333333333,\"#9c179e\"],[0.4444444444444444,\"#bd3786\"],[0.5555555555555556,\"#d8576b\"],[0.6666666666666666,\"#ed7953\"],[0.7777777777777778,\"#fb9f3a\"],[0.8888888888888888,\"#fdca26\"],[1.0,\"#f0f921\"]]}],\"contourcarpet\":[{\"type\":\"contourcarpet\",\"colorbar\":{\"outlinewidth\":0,\"ticks\":\"\"}}],\"contour\":[{\"type\":\"contour\",\"colorbar\":{\"outlinewidth\":0,\"ticks\":\"\"},\"colorscale\":[[0.0,\"#0d0887\"],[0.1111111111111111,\"#46039f\"],[0.2222222222222222,\"#7201a8\"],[0.3333333333333333,\"#9c179e\"],[0.4444444444444444,\"#bd3786\"],[0.5555555555555556,\"#d8576b\"],[0.6666666666666666,\"#ed7953\"],[0.7777777777777778,\"#fb9f3a\"],[0.8888888888888888,\"#fdca26\"],[1.0,\"#f0f921\"]]}],\"surface\":[{\"type\":\"surface\",\"colorbar\":{\"outlinewidth\":0,\"ticks\":\"\"},\"colorscale\":[[0.0,\"#0d0887\"],[0.1111111111111111,\"#46039f\"],[0.2222222222222222,\"#7201a8\"],[0.3333333333333333,\"#9c179e\"],[0.4444444444444444,\"#bd3786\"],[0.5555555555555556,\"#d8576b\"],[0.6666666666666666,\"#ed7953\"],[0.7777777777777778,\"#fb9f3a\"],[0.8888888888888888,\"#fdca26\"],[1.0,\"#f0f921\"]]}],\"mesh3d\":[{\"type\":\"mesh3d\",\"colorbar\":{\"outlinewidth\":0,\"ticks\":\"\"}}],\"scatter\":[{\"fillpattern\":{\"fillmode\":\"overlay\",\"size\":10,\"solidity\":0.2},\"type\":\"scatter\"}],\"parcoords\":[{\"type\":\"parcoords\",\"line\":{\"colorbar\":{\"outlinewidth\":0,\"ticks\":\"\"}}}],\"scatterpolargl\":[{\"type\":\"scatterpolargl\",\"marker\":{\"colorbar\":{\"outlinewidth\":0,\"ticks\":\"\"}}}],\"bar\":[{\"error_x\":{\"color\":\"#2a3f5f\"},\"error_y\":{\"color\":\"#2a3f5f\"},\"marker\":{\"line\":{\"color\":\"#E5ECF6\",\"width\":0.5},\"pattern\":{\"fillmode\":\"overlay\",\"size\":10,\"solidity\":0.2}},\"type\":\"bar\"}],\"scattergeo\":[{\"type\":\"scattergeo\",\"marker\":{\"colorbar\":{\"outlinewidth\":0,\"ticks\":\"\"}}}],\"scatterpolar\":[{\"type\":\"scatterpolar\",\"marker\":{\"colorbar\":{\"outlinewidth\":0,\"ticks\":\"\"}}}],\"histogram\":[{\"marker\":{\"pattern\":{\"fillmode\":\"overlay\",\"size\":10,\"solidity\":0.2}},\"type\":\"histogram\"}],\"scattergl\":[{\"type\":\"scattergl\",\"marker\":{\"colorbar\":{\"outlinewidth\":0,\"ticks\":\"\"}}}],\"scatter3d\":[{\"type\":\"scatter3d\",\"line\":{\"colorbar\":{\"outlinewidth\":0,\"ticks\":\"\"}},\"marker\":{\"colorbar\":{\"outlinewidth\":0,\"ticks\":\"\"}}}],\"scattermapbox\":[{\"type\":\"scattermapbox\",\"marker\":{\"colorbar\":{\"outlinewidth\":0,\"ticks\":\"\"}}}],\"scatterternary\":[{\"type\":\"scatterternary\",\"marker\":{\"colorbar\":{\"outlinewidth\":0,\"ticks\":\"\"}}}],\"scattercarpet\":[{\"type\":\"scattercarpet\",\"marker\":{\"colorbar\":{\"outlinewidth\":0,\"ticks\":\"\"}}}],\"carpet\":[{\"aaxis\":{\"endlinecolor\":\"#2a3f5f\",\"gridcolor\":\"white\",\"linecolor\":\"white\",\"minorgridcolor\":\"white\",\"startlinecolor\":\"#2a3f5f\"},\"baxis\":{\"endlinecolor\":\"#2a3f5f\",\"gridcolor\":\"white\",\"linecolor\":\"white\",\"minorgridcolor\":\"white\",\"startlinecolor\":\"#2a3f5f\"},\"type\":\"carpet\"}],\"table\":[{\"cells\":{\"fill\":{\"color\":\"#EBF0F8\"},\"line\":{\"color\":\"white\"}},\"header\":{\"fill\":{\"color\":\"#C8D4E3\"},\"line\":{\"color\":\"white\"}},\"type\":\"table\"}],\"barpolar\":[{\"marker\":{\"line\":{\"color\":\"#E5ECF6\",\"width\":0.5},\"pattern\":{\"fillmode\":\"overlay\",\"size\":10,\"solidity\":0.2}},\"type\":\"barpolar\"}],\"pie\":[{\"automargin\":true,\"type\":\"pie\"}]},\"layout\":{\"autotypenumbers\":\"strict\",\"colorway\":[\"#636efa\",\"#EF553B\",\"#00cc96\",\"#ab63fa\",\"#FFA15A\",\"#19d3f3\",\"#FF6692\",\"#B6E880\",\"#FF97FF\",\"#FECB52\"],\"font\":{\"color\":\"#2a3f5f\"},\"hovermode\":\"closest\",\"hoverlabel\":{\"align\":\"left\"},\"paper_bgcolor\":\"white\",\"plot_bgcolor\":\"#E5ECF6\",\"polar\":{\"bgcolor\":\"#E5ECF6\",\"angularaxis\":{\"gridcolor\":\"white\",\"linecolor\":\"white\",\"ticks\":\"\"},\"radialaxis\":{\"gridcolor\":\"white\",\"linecolor\":\"white\",\"ticks\":\"\"}},\"ternary\":{\"bgcolor\":\"#E5ECF6\",\"aaxis\":{\"gridcolor\":\"white\",\"linecolor\":\"white\",\"ticks\":\"\"},\"baxis\":{\"gridcolor\":\"white\",\"linecolor\":\"white\",\"ticks\":\"\"},\"caxis\":{\"gridcolor\":\"white\",\"linecolor\":\"white\",\"ticks\":\"\"}},\"coloraxis\":{\"colorbar\":{\"outlinewidth\":0,\"ticks\":\"\"}},\"colorscale\":{\"sequential\":[[0.0,\"#0d0887\"],[0.1111111111111111,\"#46039f\"],[0.2222222222222222,\"#7201a8\"],[0.3333333333333333,\"#9c179e\"],[0.4444444444444444,\"#bd3786\"],[0.5555555555555556,\"#d8576b\"],[0.6666666666666666,\"#ed7953\"],[0.7777777777777778,\"#fb9f3a\"],[0.8888888888888888,\"#fdca26\"],[1.0,\"#f0f921\"]],\"sequentialminus\":[[0.0,\"#0d0887\"],[0.1111111111111111,\"#46039f\"],[0.2222222222222222,\"#7201a8\"],[0.3333333333333333,\"#9c179e\"],[0.4444444444444444,\"#bd3786\"],[0.5555555555555556,\"#d8576b\"],[0.6666666666666666,\"#ed7953\"],[0.7777777777777778,\"#fb9f3a\"],[0.8888888888888888,\"#fdca26\"],[1.0,\"#f0f921\"]],\"diverging\":[[0,\"#8e0152\"],[0.1,\"#c51b7d\"],[0.2,\"#de77ae\"],[0.3,\"#f1b6da\"],[0.4,\"#fde0ef\"],[0.5,\"#f7f7f7\"],[0.6,\"#e6f5d0\"],[0.7,\"#b8e186\"],[0.8,\"#7fbc41\"],[0.9,\"#4d9221\"],[1,\"#276419\"]]},\"xaxis\":{\"gridcolor\":\"white\",\"linecolor\":\"white\",\"ticks\":\"\",\"title\":{\"standoff\":15},\"zerolinecolor\":\"white\",\"automargin\":true,\"zerolinewidth\":2},\"yaxis\":{\"gridcolor\":\"white\",\"linecolor\":\"white\",\"ticks\":\"\",\"title\":{\"standoff\":15},\"zerolinecolor\":\"white\",\"automargin\":true,\"zerolinewidth\":2},\"scene\":{\"xaxis\":{\"backgroundcolor\":\"#E5ECF6\",\"gridcolor\":\"white\",\"linecolor\":\"white\",\"showbackground\":true,\"ticks\":\"\",\"zerolinecolor\":\"white\",\"gridwidth\":2},\"yaxis\":{\"backgroundcolor\":\"#E5ECF6\",\"gridcolor\":\"white\",\"linecolor\":\"white\",\"showbackground\":true,\"ticks\":\"\",\"zerolinecolor\":\"white\",\"gridwidth\":2},\"zaxis\":{\"backgroundcolor\":\"#E5ECF6\",\"gridcolor\":\"white\",\"linecolor\":\"white\",\"showbackground\":true,\"ticks\":\"\",\"zerolinecolor\":\"white\",\"gridwidth\":2}},\"shapedefaults\":{\"line\":{\"color\":\"#2a3f5f\"}},\"annotationdefaults\":{\"arrowcolor\":\"#2a3f5f\",\"arrowhead\":0,\"arrowwidth\":1},\"geo\":{\"bgcolor\":\"white\",\"landcolor\":\"#E5ECF6\",\"subunitcolor\":\"white\",\"showland\":true,\"showlakes\":true,\"lakecolor\":\"white\"},\"title\":{\"x\":0.05},\"mapbox\":{\"style\":\"light\"}}},\"xaxis\":{\"anchor\":\"y\",\"domain\":[0.0,1.0],\"title\":{\"text\":\"Bedrooms\"},\"tickmode\":\"linear\",\"tick0\":1,\"dtick\":1},\"yaxis\":{\"anchor\":\"x\",\"domain\":[0.0,1.0],\"title\":{\"text\":\"Approx_Int_Square_Footage\"},\"type\":\"linear\"},\"coloraxis\":{\"colorbar\":{\"title\":{\"text\":\"Sold_Price\"}},\"colorscale\":[[0.0,\"#0d0887\"],[0.1111111111111111,\"#46039f\"],[0.2222222222222222,\"#7201a8\"],[0.3333333333333333,\"#9c179e\"],[0.4444444444444444,\"#bd3786\"],[0.5555555555555556,\"#d8576b\"],[0.6666666666666666,\"#ed7953\"],[0.7777777777777778,\"#fb9f3a\"],[0.8888888888888888,\"#fdca26\"],[1.0,\"#f0f921\"]]},\"legend\":{\"tracegroupgap\":0},\"title\":{\"text\":\"Sold Price and Sq Footage\"}},                        {\"responsive\": true}                    ).then(function(){\n",
              "                            \n",
              "var gd = document.getElementById('e58c223c-ad21-48a2-ad18-7bc444aad568');\n",
              "var x = new MutationObserver(function (mutations, observer) {{\n",
              "        var display = window.getComputedStyle(gd).display;\n",
              "        if (!display || display === 'none') {{\n",
              "            console.log([gd, 'removed!']);\n",
              "            Plotly.purge(gd);\n",
              "            observer.disconnect();\n",
              "        }}\n",
              "}});\n",
              "\n",
              "// Listen for the removal of the full notebook cells\n",
              "var notebookContainer = gd.closest('#notebook-container');\n",
              "if (notebookContainer) {{\n",
              "    x.observe(notebookContainer, {childList: true});\n",
              "}}\n",
              "\n",
              "// Listen for the clearing of the current output cell\n",
              "var outputEl = gd.closest('.output');\n",
              "if (outputEl) {{\n",
              "    x.observe(outputEl, {childList: true});\n",
              "}}\n",
              "\n",
              "                        })                };                            </script>        </div>\n",
              "</body>\n",
              "</html>"
            ]
          },
          "metadata": {}
        }
      ]
    },
    {
      "cell_type": "markdown",
      "source": [
        "# School District and Selling Price"
      ],
      "metadata": {
        "id": "HWrEXmsha_5X"
      }
    },
    {
      "cell_type": "code",
      "source": [
        "School_dist_data = condo\n",
        "\n",
        "unique_school_district = School_dist_data['School_District_Name'].unique()\n",
        "unique_school_district\n",
        "\n",
        "fig = px.scatter(School_dist_data, x='School_District_Name', y='Sold_Price', title='Scatter Plot of Sold Price vs. School District')\n",
        "\n",
        "# Show the plot\n",
        "fig.show()"
      ],
      "metadata": {
        "colab": {
          "base_uri": "https://localhost:8080/",
          "height": 542
        },
        "id": "KSsZd7G8a6Ef",
        "outputId": "bfe60c69-b55f-4bd5-ea3c-4d2e4441ad6e"
      },
      "execution_count": 20,
      "outputs": [
        {
          "output_type": "display_data",
          "data": {
            "text/html": [
              "<html>\n",
              "<head><meta charset=\"utf-8\" /></head>\n",
              "<body>\n",
              "    <div>            <script src=\"https://cdnjs.cloudflare.com/ajax/libs/mathjax/2.7.5/MathJax.js?config=TeX-AMS-MML_SVG\"></script><script type=\"text/javascript\">if (window.MathJax && window.MathJax.Hub && window.MathJax.Hub.Config) {window.MathJax.Hub.Config({SVG: {font: \"STIX-Web\"}});}</script>                <script type=\"text/javascript\">window.PlotlyConfig = {MathJaxConfig: 'local'};</script>\n",
              "        <script charset=\"utf-8\" src=\"https://cdn.plot.ly/plotly-2.24.1.min.js\"></script>                <div id=\"2dd66b64-d13d-4083-b7a5-2390ddf97954\" class=\"plotly-graph-div\" style=\"height:525px; width:100%;\"></div>            <script type=\"text/javascript\">                                    window.PLOTLYENV=window.PLOTLYENV || {};                                    if (document.getElementById(\"2dd66b64-d13d-4083-b7a5-2390ddf97954\")) {                    Plotly.newPlot(                        \"2dd66b64-d13d-4083-b7a5-2390ddf97954\",                        [{\"hovertemplate\":\"School_District_Name=%{x}\\u003cbr\\u003eSold_Price=%{y}\\u003cextra\\u003e\\u003c\\u002fextra\\u003e\",\"legendgroup\":\"\",\"marker\":{\"color\":\"#636efa\",\"symbol\":\"circle\"},\"mode\":\"markers\",\"name\":\"\",\"orientation\":\"v\",\"showlegend\":false,\"x\":[\"Longwood\",\"Longwood\",\"Longwood\",\"Longwood\",\"Longwood\",\"Longwood\",\"Longwood\",\"Longwood\",\"Longwood\",\"Longwood\",\"Longwood\",\"Longwood\",\"Longwood\",\"Longwood\",\"Longwood\",\"Longwood\",\"Longwood\",\"Longwood\",\"Longwood\",\"Longwood\",\"Longwood\",\"Longwood\",\"Longwood\",\"Longwood\",\"Longwood\",\"Longwood\",\"Longwood\",\"Longwood\",\"Longwood\",\"Longwood\",\"Longwood\",\"Longwood\",\"Longwood\",\"Longwood\",\"Longwood\",\"Longwood\",\"Longwood\",\"Longwood\",\"Longwood\",\"Longwood\",\"Longwood\",\"Longwood\",\"Longwood\",\"Longwood\",\"Longwood\",\"Longwood\",\"Longwood\",\"Longwood\",\"Longwood\",\"Longwood\",\"Longwood\",\"Longwood\",\"Longwood\",\"Longwood\",\"Longwood\",\"Longwood\",\"Longwood\",\"Longwood\",\"Longwood\",\"Longwood\",\"Longwood\",\"Longwood\",\"Longwood\",\"Longwood\",\"Longwood\",\"Longwood\",\"Longwood\",\"Longwood\",\"Longwood\",\"Longwood\",\"Longwood\",\"Longwood\",\"Longwood\",\"Longwood\",\"Longwood\",\"Longwood\",\"Longwood\",\"Longwood\",\"Longwood\",\"Longwood\",\"Longwood\",\"Longwood\",\"Longwood\",\"Longwood\",\"Longwood\",\"Longwood\",\"Longwood\",\"Longwood\",\"Longwood\",\"Longwood\",\"Longwood\",\"Longwood\"],\"xaxis\":\"x\",\"y\":[145000.0,183000.0,130000.0,170000.0,150000.0,199900.0,160000.0,140000.0,110000.0,189000.0,165000.0,165000.0,130000.0,145000.0,170000.0,165000.0,156000.0,176000.0,185000.0,225000.0,178429.0,150000.0,139900.0,135000.0,165000.0,183000.0,140000.0,163000.0,160000.0,172000.0,150000.0,205000.0,141500.0,175000.0,null,155000.0,205000.0,170000.0,189000.0,185000.0,190000.0,178000.0,155000.0,195000.0,165000.0,220000.0,190000.0,175000.0,191000.0,170000.0,163000.0,130000.0,205000.0,193000.0,186500.0,195000.0,190000.0,225000.0,212000.0,161000.0,204000.0,196000.0,null,160000.0,230000.0,186000.0,190000.0,null,null,null,null,null,null,null,null,null,null,null,null,null,null,null,null,null,190000.0,194000.0,195000.0,235000.0,195000.0,null,null,null],\"yaxis\":\"y\",\"type\":\"scatter\"}],                        {\"template\":{\"data\":{\"histogram2dcontour\":[{\"type\":\"histogram2dcontour\",\"colorbar\":{\"outlinewidth\":0,\"ticks\":\"\"},\"colorscale\":[[0.0,\"#0d0887\"],[0.1111111111111111,\"#46039f\"],[0.2222222222222222,\"#7201a8\"],[0.3333333333333333,\"#9c179e\"],[0.4444444444444444,\"#bd3786\"],[0.5555555555555556,\"#d8576b\"],[0.6666666666666666,\"#ed7953\"],[0.7777777777777778,\"#fb9f3a\"],[0.8888888888888888,\"#fdca26\"],[1.0,\"#f0f921\"]]}],\"choropleth\":[{\"type\":\"choropleth\",\"colorbar\":{\"outlinewidth\":0,\"ticks\":\"\"}}],\"histogram2d\":[{\"type\":\"histogram2d\",\"colorbar\":{\"outlinewidth\":0,\"ticks\":\"\"},\"colorscale\":[[0.0,\"#0d0887\"],[0.1111111111111111,\"#46039f\"],[0.2222222222222222,\"#7201a8\"],[0.3333333333333333,\"#9c179e\"],[0.4444444444444444,\"#bd3786\"],[0.5555555555555556,\"#d8576b\"],[0.6666666666666666,\"#ed7953\"],[0.7777777777777778,\"#fb9f3a\"],[0.8888888888888888,\"#fdca26\"],[1.0,\"#f0f921\"]]}],\"heatmap\":[{\"type\":\"heatmap\",\"colorbar\":{\"outlinewidth\":0,\"ticks\":\"\"},\"colorscale\":[[0.0,\"#0d0887\"],[0.1111111111111111,\"#46039f\"],[0.2222222222222222,\"#7201a8\"],[0.3333333333333333,\"#9c179e\"],[0.4444444444444444,\"#bd3786\"],[0.5555555555555556,\"#d8576b\"],[0.6666666666666666,\"#ed7953\"],[0.7777777777777778,\"#fb9f3a\"],[0.8888888888888888,\"#fdca26\"],[1.0,\"#f0f921\"]]}],\"heatmapgl\":[{\"type\":\"heatmapgl\",\"colorbar\":{\"outlinewidth\":0,\"ticks\":\"\"},\"colorscale\":[[0.0,\"#0d0887\"],[0.1111111111111111,\"#46039f\"],[0.2222222222222222,\"#7201a8\"],[0.3333333333333333,\"#9c179e\"],[0.4444444444444444,\"#bd3786\"],[0.5555555555555556,\"#d8576b\"],[0.6666666666666666,\"#ed7953\"],[0.7777777777777778,\"#fb9f3a\"],[0.8888888888888888,\"#fdca26\"],[1.0,\"#f0f921\"]]}],\"contourcarpet\":[{\"type\":\"contourcarpet\",\"colorbar\":{\"outlinewidth\":0,\"ticks\":\"\"}}],\"contour\":[{\"type\":\"contour\",\"colorbar\":{\"outlinewidth\":0,\"ticks\":\"\"},\"colorscale\":[[0.0,\"#0d0887\"],[0.1111111111111111,\"#46039f\"],[0.2222222222222222,\"#7201a8\"],[0.3333333333333333,\"#9c179e\"],[0.4444444444444444,\"#bd3786\"],[0.5555555555555556,\"#d8576b\"],[0.6666666666666666,\"#ed7953\"],[0.7777777777777778,\"#fb9f3a\"],[0.8888888888888888,\"#fdca26\"],[1.0,\"#f0f921\"]]}],\"surface\":[{\"type\":\"surface\",\"colorbar\":{\"outlinewidth\":0,\"ticks\":\"\"},\"colorscale\":[[0.0,\"#0d0887\"],[0.1111111111111111,\"#46039f\"],[0.2222222222222222,\"#7201a8\"],[0.3333333333333333,\"#9c179e\"],[0.4444444444444444,\"#bd3786\"],[0.5555555555555556,\"#d8576b\"],[0.6666666666666666,\"#ed7953\"],[0.7777777777777778,\"#fb9f3a\"],[0.8888888888888888,\"#fdca26\"],[1.0,\"#f0f921\"]]}],\"mesh3d\":[{\"type\":\"mesh3d\",\"colorbar\":{\"outlinewidth\":0,\"ticks\":\"\"}}],\"scatter\":[{\"fillpattern\":{\"fillmode\":\"overlay\",\"size\":10,\"solidity\":0.2},\"type\":\"scatter\"}],\"parcoords\":[{\"type\":\"parcoords\",\"line\":{\"colorbar\":{\"outlinewidth\":0,\"ticks\":\"\"}}}],\"scatterpolargl\":[{\"type\":\"scatterpolargl\",\"marker\":{\"colorbar\":{\"outlinewidth\":0,\"ticks\":\"\"}}}],\"bar\":[{\"error_x\":{\"color\":\"#2a3f5f\"},\"error_y\":{\"color\":\"#2a3f5f\"},\"marker\":{\"line\":{\"color\":\"#E5ECF6\",\"width\":0.5},\"pattern\":{\"fillmode\":\"overlay\",\"size\":10,\"solidity\":0.2}},\"type\":\"bar\"}],\"scattergeo\":[{\"type\":\"scattergeo\",\"marker\":{\"colorbar\":{\"outlinewidth\":0,\"ticks\":\"\"}}}],\"scatterpolar\":[{\"type\":\"scatterpolar\",\"marker\":{\"colorbar\":{\"outlinewidth\":0,\"ticks\":\"\"}}}],\"histogram\":[{\"marker\":{\"pattern\":{\"fillmode\":\"overlay\",\"size\":10,\"solidity\":0.2}},\"type\":\"histogram\"}],\"scattergl\":[{\"type\":\"scattergl\",\"marker\":{\"colorbar\":{\"outlinewidth\":0,\"ticks\":\"\"}}}],\"scatter3d\":[{\"type\":\"scatter3d\",\"line\":{\"colorbar\":{\"outlinewidth\":0,\"ticks\":\"\"}},\"marker\":{\"colorbar\":{\"outlinewidth\":0,\"ticks\":\"\"}}}],\"scattermapbox\":[{\"type\":\"scattermapbox\",\"marker\":{\"colorbar\":{\"outlinewidth\":0,\"ticks\":\"\"}}}],\"scatterternary\":[{\"type\":\"scatterternary\",\"marker\":{\"colorbar\":{\"outlinewidth\":0,\"ticks\":\"\"}}}],\"scattercarpet\":[{\"type\":\"scattercarpet\",\"marker\":{\"colorbar\":{\"outlinewidth\":0,\"ticks\":\"\"}}}],\"carpet\":[{\"aaxis\":{\"endlinecolor\":\"#2a3f5f\",\"gridcolor\":\"white\",\"linecolor\":\"white\",\"minorgridcolor\":\"white\",\"startlinecolor\":\"#2a3f5f\"},\"baxis\":{\"endlinecolor\":\"#2a3f5f\",\"gridcolor\":\"white\",\"linecolor\":\"white\",\"minorgridcolor\":\"white\",\"startlinecolor\":\"#2a3f5f\"},\"type\":\"carpet\"}],\"table\":[{\"cells\":{\"fill\":{\"color\":\"#EBF0F8\"},\"line\":{\"color\":\"white\"}},\"header\":{\"fill\":{\"color\":\"#C8D4E3\"},\"line\":{\"color\":\"white\"}},\"type\":\"table\"}],\"barpolar\":[{\"marker\":{\"line\":{\"color\":\"#E5ECF6\",\"width\":0.5},\"pattern\":{\"fillmode\":\"overlay\",\"size\":10,\"solidity\":0.2}},\"type\":\"barpolar\"}],\"pie\":[{\"automargin\":true,\"type\":\"pie\"}]},\"layout\":{\"autotypenumbers\":\"strict\",\"colorway\":[\"#636efa\",\"#EF553B\",\"#00cc96\",\"#ab63fa\",\"#FFA15A\",\"#19d3f3\",\"#FF6692\",\"#B6E880\",\"#FF97FF\",\"#FECB52\"],\"font\":{\"color\":\"#2a3f5f\"},\"hovermode\":\"closest\",\"hoverlabel\":{\"align\":\"left\"},\"paper_bgcolor\":\"white\",\"plot_bgcolor\":\"#E5ECF6\",\"polar\":{\"bgcolor\":\"#E5ECF6\",\"angularaxis\":{\"gridcolor\":\"white\",\"linecolor\":\"white\",\"ticks\":\"\"},\"radialaxis\":{\"gridcolor\":\"white\",\"linecolor\":\"white\",\"ticks\":\"\"}},\"ternary\":{\"bgcolor\":\"#E5ECF6\",\"aaxis\":{\"gridcolor\":\"white\",\"linecolor\":\"white\",\"ticks\":\"\"},\"baxis\":{\"gridcolor\":\"white\",\"linecolor\":\"white\",\"ticks\":\"\"},\"caxis\":{\"gridcolor\":\"white\",\"linecolor\":\"white\",\"ticks\":\"\"}},\"coloraxis\":{\"colorbar\":{\"outlinewidth\":0,\"ticks\":\"\"}},\"colorscale\":{\"sequential\":[[0.0,\"#0d0887\"],[0.1111111111111111,\"#46039f\"],[0.2222222222222222,\"#7201a8\"],[0.3333333333333333,\"#9c179e\"],[0.4444444444444444,\"#bd3786\"],[0.5555555555555556,\"#d8576b\"],[0.6666666666666666,\"#ed7953\"],[0.7777777777777778,\"#fb9f3a\"],[0.8888888888888888,\"#fdca26\"],[1.0,\"#f0f921\"]],\"sequentialminus\":[[0.0,\"#0d0887\"],[0.1111111111111111,\"#46039f\"],[0.2222222222222222,\"#7201a8\"],[0.3333333333333333,\"#9c179e\"],[0.4444444444444444,\"#bd3786\"],[0.5555555555555556,\"#d8576b\"],[0.6666666666666666,\"#ed7953\"],[0.7777777777777778,\"#fb9f3a\"],[0.8888888888888888,\"#fdca26\"],[1.0,\"#f0f921\"]],\"diverging\":[[0,\"#8e0152\"],[0.1,\"#c51b7d\"],[0.2,\"#de77ae\"],[0.3,\"#f1b6da\"],[0.4,\"#fde0ef\"],[0.5,\"#f7f7f7\"],[0.6,\"#e6f5d0\"],[0.7,\"#b8e186\"],[0.8,\"#7fbc41\"],[0.9,\"#4d9221\"],[1,\"#276419\"]]},\"xaxis\":{\"gridcolor\":\"white\",\"linecolor\":\"white\",\"ticks\":\"\",\"title\":{\"standoff\":15},\"zerolinecolor\":\"white\",\"automargin\":true,\"zerolinewidth\":2},\"yaxis\":{\"gridcolor\":\"white\",\"linecolor\":\"white\",\"ticks\":\"\",\"title\":{\"standoff\":15},\"zerolinecolor\":\"white\",\"automargin\":true,\"zerolinewidth\":2},\"scene\":{\"xaxis\":{\"backgroundcolor\":\"#E5ECF6\",\"gridcolor\":\"white\",\"linecolor\":\"white\",\"showbackground\":true,\"ticks\":\"\",\"zerolinecolor\":\"white\",\"gridwidth\":2},\"yaxis\":{\"backgroundcolor\":\"#E5ECF6\",\"gridcolor\":\"white\",\"linecolor\":\"white\",\"showbackground\":true,\"ticks\":\"\",\"zerolinecolor\":\"white\",\"gridwidth\":2},\"zaxis\":{\"backgroundcolor\":\"#E5ECF6\",\"gridcolor\":\"white\",\"linecolor\":\"white\",\"showbackground\":true,\"ticks\":\"\",\"zerolinecolor\":\"white\",\"gridwidth\":2}},\"shapedefaults\":{\"line\":{\"color\":\"#2a3f5f\"}},\"annotationdefaults\":{\"arrowcolor\":\"#2a3f5f\",\"arrowhead\":0,\"arrowwidth\":1},\"geo\":{\"bgcolor\":\"white\",\"landcolor\":\"#E5ECF6\",\"subunitcolor\":\"white\",\"showland\":true,\"showlakes\":true,\"lakecolor\":\"white\"},\"title\":{\"x\":0.05},\"mapbox\":{\"style\":\"light\"}}},\"xaxis\":{\"anchor\":\"y\",\"domain\":[0.0,1.0],\"title\":{\"text\":\"School_District_Name\"}},\"yaxis\":{\"anchor\":\"x\",\"domain\":[0.0,1.0],\"title\":{\"text\":\"Sold_Price\"}},\"legend\":{\"tracegroupgap\":0},\"title\":{\"text\":\"Scatter Plot of Sold Price vs. School District\"}},                        {\"responsive\": true}                    ).then(function(){\n",
              "                            \n",
              "var gd = document.getElementById('2dd66b64-d13d-4083-b7a5-2390ddf97954');\n",
              "var x = new MutationObserver(function (mutations, observer) {{\n",
              "        var display = window.getComputedStyle(gd).display;\n",
              "        if (!display || display === 'none') {{\n",
              "            console.log([gd, 'removed!']);\n",
              "            Plotly.purge(gd);\n",
              "            observer.disconnect();\n",
              "        }}\n",
              "}});\n",
              "\n",
              "// Listen for the removal of the full notebook cells\n",
              "var notebookContainer = gd.closest('#notebook-container');\n",
              "if (notebookContainer) {{\n",
              "    x.observe(notebookContainer, {childList: true});\n",
              "}}\n",
              "\n",
              "// Listen for the clearing of the current output cell\n",
              "var outputEl = gd.closest('.output');\n",
              "if (outputEl) {{\n",
              "    x.observe(outputEl, {childList: true});\n",
              "}}\n",
              "\n",
              "                        })                };                            </script>        </div>\n",
              "</body>\n",
              "</html>"
            ]
          },
          "metadata": {}
        }
      ]
    },
    {
      "cell_type": "markdown",
      "source": [
        "# Plot: Unit Level and Selling Price"
      ],
      "metadata": {
        "id": "mHzXqRBobM54"
      }
    },
    {
      "cell_type": "code",
      "source": [
        "condo.head(3)"
      ],
      "metadata": {
        "colab": {
          "base_uri": "https://localhost:8080/",
          "height": 285
        },
        "id": "u1tcJdR7bmjF",
        "outputId": "19039035-e8e1-494b-e4b5-22c8ad4bda17"
      },
      "execution_count": 22,
      "outputs": [
        {
          "output_type": "execute_result",
          "data": {
            "text/plain": [
              "                Address   Town    Zip State             Style       Street_Name         Development      ML#  Sold_Price  Baths_Full  Baths_Half Room_Level  Bath  Bedrooms                                 Utilities_Included  Common_Charges Appearance REO Appearance  Approx_Int_Square_Footage School_District_Name  Taxes  Unit_on_Floor_#\n",
              "0       6 Redwood Court  Coram  11727    NY         Townhouse           Redwood          North Isle  3367901    145000.0           1           0          2   1.0         1    Garbage Removal,Hot Water,Pool Care,Sewer,Water           662.0       Mint   N       Mint                        NaN             Longwood    0.0                2\n",
              "1  182 Pointe Circle No  Coram  11727    NY             Other  Pointe Circle No  North Isle Village  3368100    183000.0           1           0  2,2,2,2,2   1.0         2  Air Conditioning,Garbage Removal,Gas,Ground Ca...             NaN    Diamond   N    Diamond                        NaN             Longwood    0.0                2\n",
              "2        12 Fargo Court  Coram  11727    NY  Garden Apartment             Fargo          North Isle  3370227    130000.0           1           0          2   1.0         1                                  Cable,Sewer,Water           641.0  very good   N  very good                        NaN             Longwood    0.0                1"
            ],
            "text/html": [
              "\n",
              "  <div id=\"df-b997c3f4-00df-4f3f-be01-c56d7e3ed230\" class=\"colab-df-container\">\n",
              "    <div>\n",
              "<style scoped>\n",
              "    .dataframe tbody tr th:only-of-type {\n",
              "        vertical-align: middle;\n",
              "    }\n",
              "\n",
              "    .dataframe tbody tr th {\n",
              "        vertical-align: top;\n",
              "    }\n",
              "\n",
              "    .dataframe thead th {\n",
              "        text-align: right;\n",
              "    }\n",
              "</style>\n",
              "<table border=\"1\" class=\"dataframe\">\n",
              "  <thead>\n",
              "    <tr style=\"text-align: right;\">\n",
              "      <th></th>\n",
              "      <th>Address</th>\n",
              "      <th>Town</th>\n",
              "      <th>Zip</th>\n",
              "      <th>State</th>\n",
              "      <th>Style</th>\n",
              "      <th>Street_Name</th>\n",
              "      <th>Development</th>\n",
              "      <th>ML#</th>\n",
              "      <th>Sold_Price</th>\n",
              "      <th>Baths_Full</th>\n",
              "      <th>Baths_Half</th>\n",
              "      <th>Room_Level</th>\n",
              "      <th>Bath</th>\n",
              "      <th>Bedrooms</th>\n",
              "      <th>Utilities_Included</th>\n",
              "      <th>Common_Charges</th>\n",
              "      <th>Appearance</th>\n",
              "      <th>REO</th>\n",
              "      <th>Appearance</th>\n",
              "      <th>Approx_Int_Square_Footage</th>\n",
              "      <th>School_District_Name</th>\n",
              "      <th>Taxes</th>\n",
              "      <th>Unit_on_Floor_#</th>\n",
              "    </tr>\n",
              "  </thead>\n",
              "  <tbody>\n",
              "    <tr>\n",
              "      <th>0</th>\n",
              "      <td>6 Redwood Court</td>\n",
              "      <td>Coram</td>\n",
              "      <td>11727</td>\n",
              "      <td>NY</td>\n",
              "      <td>Townhouse</td>\n",
              "      <td>Redwood</td>\n",
              "      <td>North Isle</td>\n",
              "      <td>3367901</td>\n",
              "      <td>145000.0</td>\n",
              "      <td>1</td>\n",
              "      <td>0</td>\n",
              "      <td>2</td>\n",
              "      <td>1.0</td>\n",
              "      <td>1</td>\n",
              "      <td>Garbage Removal,Hot Water,Pool Care,Sewer,Water</td>\n",
              "      <td>662.0</td>\n",
              "      <td>Mint</td>\n",
              "      <td>N</td>\n",
              "      <td>Mint</td>\n",
              "      <td>NaN</td>\n",
              "      <td>Longwood</td>\n",
              "      <td>0.0</td>\n",
              "      <td>2</td>\n",
              "    </tr>\n",
              "    <tr>\n",
              "      <th>1</th>\n",
              "      <td>182 Pointe Circle No</td>\n",
              "      <td>Coram</td>\n",
              "      <td>11727</td>\n",
              "      <td>NY</td>\n",
              "      <td>Other</td>\n",
              "      <td>Pointe Circle No</td>\n",
              "      <td>North Isle Village</td>\n",
              "      <td>3368100</td>\n",
              "      <td>183000.0</td>\n",
              "      <td>1</td>\n",
              "      <td>0</td>\n",
              "      <td>2,2,2,2,2</td>\n",
              "      <td>1.0</td>\n",
              "      <td>2</td>\n",
              "      <td>Air Conditioning,Garbage Removal,Gas,Ground Ca...</td>\n",
              "      <td>NaN</td>\n",
              "      <td>Diamond</td>\n",
              "      <td>N</td>\n",
              "      <td>Diamond</td>\n",
              "      <td>NaN</td>\n",
              "      <td>Longwood</td>\n",
              "      <td>0.0</td>\n",
              "      <td>2</td>\n",
              "    </tr>\n",
              "    <tr>\n",
              "      <th>2</th>\n",
              "      <td>12 Fargo Court</td>\n",
              "      <td>Coram</td>\n",
              "      <td>11727</td>\n",
              "      <td>NY</td>\n",
              "      <td>Garden Apartment</td>\n",
              "      <td>Fargo</td>\n",
              "      <td>North Isle</td>\n",
              "      <td>3370227</td>\n",
              "      <td>130000.0</td>\n",
              "      <td>1</td>\n",
              "      <td>0</td>\n",
              "      <td>2</td>\n",
              "      <td>1.0</td>\n",
              "      <td>1</td>\n",
              "      <td>Cable,Sewer,Water</td>\n",
              "      <td>641.0</td>\n",
              "      <td>very good</td>\n",
              "      <td>N</td>\n",
              "      <td>very good</td>\n",
              "      <td>NaN</td>\n",
              "      <td>Longwood</td>\n",
              "      <td>0.0</td>\n",
              "      <td>1</td>\n",
              "    </tr>\n",
              "  </tbody>\n",
              "</table>\n",
              "</div>\n",
              "    <div class=\"colab-df-buttons\">\n",
              "\n",
              "  <div class=\"colab-df-container\">\n",
              "    <button class=\"colab-df-convert\" onclick=\"convertToInteractive('df-b997c3f4-00df-4f3f-be01-c56d7e3ed230')\"\n",
              "            title=\"Convert this dataframe to an interactive table.\"\n",
              "            style=\"display:none;\">\n",
              "\n",
              "  <svg xmlns=\"http://www.w3.org/2000/svg\" height=\"24px\" viewBox=\"0 -960 960 960\">\n",
              "    <path d=\"M120-120v-720h720v720H120Zm60-500h600v-160H180v160Zm220 220h160v-160H400v160Zm0 220h160v-160H400v160ZM180-400h160v-160H180v160Zm440 0h160v-160H620v160ZM180-180h160v-160H180v160Zm440 0h160v-160H620v160Z\"/>\n",
              "  </svg>\n",
              "    </button>\n",
              "\n",
              "  <style>\n",
              "    .colab-df-container {\n",
              "      display:flex;\n",
              "      gap: 12px;\n",
              "    }\n",
              "\n",
              "    .colab-df-convert {\n",
              "      background-color: #E8F0FE;\n",
              "      border: none;\n",
              "      border-radius: 50%;\n",
              "      cursor: pointer;\n",
              "      display: none;\n",
              "      fill: #1967D2;\n",
              "      height: 32px;\n",
              "      padding: 0 0 0 0;\n",
              "      width: 32px;\n",
              "    }\n",
              "\n",
              "    .colab-df-convert:hover {\n",
              "      background-color: #E2EBFA;\n",
              "      box-shadow: 0px 1px 2px rgba(60, 64, 67, 0.3), 0px 1px 3px 1px rgba(60, 64, 67, 0.15);\n",
              "      fill: #174EA6;\n",
              "    }\n",
              "\n",
              "    .colab-df-buttons div {\n",
              "      margin-bottom: 4px;\n",
              "    }\n",
              "\n",
              "    [theme=dark] .colab-df-convert {\n",
              "      background-color: #3B4455;\n",
              "      fill: #D2E3FC;\n",
              "    }\n",
              "\n",
              "    [theme=dark] .colab-df-convert:hover {\n",
              "      background-color: #434B5C;\n",
              "      box-shadow: 0px 1px 3px 1px rgba(0, 0, 0, 0.15);\n",
              "      filter: drop-shadow(0px 1px 2px rgba(0, 0, 0, 0.3));\n",
              "      fill: #FFFFFF;\n",
              "    }\n",
              "  </style>\n",
              "\n",
              "    <script>\n",
              "      const buttonEl =\n",
              "        document.querySelector('#df-b997c3f4-00df-4f3f-be01-c56d7e3ed230 button.colab-df-convert');\n",
              "      buttonEl.style.display =\n",
              "        google.colab.kernel.accessAllowed ? 'block' : 'none';\n",
              "\n",
              "      async function convertToInteractive(key) {\n",
              "        const element = document.querySelector('#df-b997c3f4-00df-4f3f-be01-c56d7e3ed230');\n",
              "        const dataTable =\n",
              "          await google.colab.kernel.invokeFunction('convertToInteractive',\n",
              "                                                    [key], {});\n",
              "        if (!dataTable) return;\n",
              "\n",
              "        const docLinkHtml = 'Like what you see? Visit the ' +\n",
              "          '<a target=\"_blank\" href=https://colab.research.google.com/notebooks/data_table.ipynb>data table notebook</a>'\n",
              "          + ' to learn more about interactive tables.';\n",
              "        element.innerHTML = '';\n",
              "        dataTable['output_type'] = 'display_data';\n",
              "        await google.colab.output.renderOutput(dataTable, element);\n",
              "        const docLink = document.createElement('div');\n",
              "        docLink.innerHTML = docLinkHtml;\n",
              "        element.appendChild(docLink);\n",
              "      }\n",
              "    </script>\n",
              "  </div>\n",
              "\n",
              "\n",
              "    </div>\n",
              "  </div>\n"
            ]
          },
          "metadata": {},
          "execution_count": 22
        }
      ]
    },
    {
      "cell_type": "code",
      "source": [
        " FloorLevel = condo\n",
        "\n",
        " # Unit on Floor #\n",
        "fig = px.scatter(FloorLevel, x='Unit_on_Floor_#', y='Sold_Price', title='Sold Price vs. Floor Level')\n",
        "\n",
        "# Update the x-axis to show only integer ticks\n",
        "fig.update_xaxes(\n",
        "    tickmode='linear',   # Use a linear tick mode\n",
        "    tick0=1,             # Start the ticks from 1 (an integer)\n",
        "    dtick=1              # Set the tick interval to 1 (integer increment)\n",
        ")\n",
        "\n",
        "# Show the plot\n",
        "fig.show()"
      ],
      "metadata": {
        "colab": {
          "base_uri": "https://localhost:8080/",
          "height": 542
        },
        "id": "bpqBak1qbKR9",
        "outputId": "d734e72c-4650-4031-d85a-b254de4cfaeb"
      },
      "execution_count": 23,
      "outputs": [
        {
          "output_type": "display_data",
          "data": {
            "text/html": [
              "<html>\n",
              "<head><meta charset=\"utf-8\" /></head>\n",
              "<body>\n",
              "    <div>            <script src=\"https://cdnjs.cloudflare.com/ajax/libs/mathjax/2.7.5/MathJax.js?config=TeX-AMS-MML_SVG\"></script><script type=\"text/javascript\">if (window.MathJax && window.MathJax.Hub && window.MathJax.Hub.Config) {window.MathJax.Hub.Config({SVG: {font: \"STIX-Web\"}});}</script>                <script type=\"text/javascript\">window.PlotlyConfig = {MathJaxConfig: 'local'};</script>\n",
              "        <script charset=\"utf-8\" src=\"https://cdn.plot.ly/plotly-2.24.1.min.js\"></script>                <div id=\"6104ef45-350b-4d0c-af7b-720625569b23\" class=\"plotly-graph-div\" style=\"height:525px; width:100%;\"></div>            <script type=\"text/javascript\">                                    window.PLOTLYENV=window.PLOTLYENV || {};                                    if (document.getElementById(\"6104ef45-350b-4d0c-af7b-720625569b23\")) {                    Plotly.newPlot(                        \"6104ef45-350b-4d0c-af7b-720625569b23\",                        [{\"hovertemplate\":\"Unit_on_Floor_#=%{x}\\u003cbr\\u003eSold_Price=%{y}\\u003cextra\\u003e\\u003c\\u002fextra\\u003e\",\"legendgroup\":\"\",\"marker\":{\"color\":\"#636efa\",\"symbol\":\"circle\"},\"mode\":\"markers\",\"name\":\"\",\"orientation\":\"v\",\"showlegend\":false,\"x\":[2,2,1,1,1,1,1,2,1,2,2,1,2,1,2,2,2,2,1,1,2,1,1,1,2,2,2,1,1,1,2,1,2,2,1,2,2,1,2,1,1,1,2,1,1,2,1,1,1,2,1,1,1,2,1,2,2,0,1,2,1,2,2,1,2,1,2,2,1,2,2,1,2,2,2,2,2,11,2,1,1,1,1,2,2,1,1,1,1,1,2,2],\"xaxis\":\"x\",\"y\":[145000.0,183000.0,130000.0,170000.0,150000.0,199900.0,160000.0,140000.0,110000.0,189000.0,165000.0,165000.0,130000.0,145000.0,170000.0,165000.0,156000.0,176000.0,185000.0,225000.0,178429.0,150000.0,139900.0,135000.0,165000.0,183000.0,140000.0,163000.0,160000.0,172000.0,150000.0,205000.0,141500.0,175000.0,null,155000.0,205000.0,170000.0,189000.0,185000.0,190000.0,178000.0,155000.0,195000.0,165000.0,220000.0,190000.0,175000.0,191000.0,170000.0,163000.0,130000.0,205000.0,193000.0,186500.0,195000.0,190000.0,225000.0,212000.0,161000.0,204000.0,196000.0,null,160000.0,230000.0,186000.0,190000.0,null,null,null,null,null,null,null,null,null,null,null,null,null,null,null,null,null,190000.0,194000.0,195000.0,235000.0,195000.0,null,null,null],\"yaxis\":\"y\",\"type\":\"scatter\"}],                        {\"template\":{\"data\":{\"histogram2dcontour\":[{\"type\":\"histogram2dcontour\",\"colorbar\":{\"outlinewidth\":0,\"ticks\":\"\"},\"colorscale\":[[0.0,\"#0d0887\"],[0.1111111111111111,\"#46039f\"],[0.2222222222222222,\"#7201a8\"],[0.3333333333333333,\"#9c179e\"],[0.4444444444444444,\"#bd3786\"],[0.5555555555555556,\"#d8576b\"],[0.6666666666666666,\"#ed7953\"],[0.7777777777777778,\"#fb9f3a\"],[0.8888888888888888,\"#fdca26\"],[1.0,\"#f0f921\"]]}],\"choropleth\":[{\"type\":\"choropleth\",\"colorbar\":{\"outlinewidth\":0,\"ticks\":\"\"}}],\"histogram2d\":[{\"type\":\"histogram2d\",\"colorbar\":{\"outlinewidth\":0,\"ticks\":\"\"},\"colorscale\":[[0.0,\"#0d0887\"],[0.1111111111111111,\"#46039f\"],[0.2222222222222222,\"#7201a8\"],[0.3333333333333333,\"#9c179e\"],[0.4444444444444444,\"#bd3786\"],[0.5555555555555556,\"#d8576b\"],[0.6666666666666666,\"#ed7953\"],[0.7777777777777778,\"#fb9f3a\"],[0.8888888888888888,\"#fdca26\"],[1.0,\"#f0f921\"]]}],\"heatmap\":[{\"type\":\"heatmap\",\"colorbar\":{\"outlinewidth\":0,\"ticks\":\"\"},\"colorscale\":[[0.0,\"#0d0887\"],[0.1111111111111111,\"#46039f\"],[0.2222222222222222,\"#7201a8\"],[0.3333333333333333,\"#9c179e\"],[0.4444444444444444,\"#bd3786\"],[0.5555555555555556,\"#d8576b\"],[0.6666666666666666,\"#ed7953\"],[0.7777777777777778,\"#fb9f3a\"],[0.8888888888888888,\"#fdca26\"],[1.0,\"#f0f921\"]]}],\"heatmapgl\":[{\"type\":\"heatmapgl\",\"colorbar\":{\"outlinewidth\":0,\"ticks\":\"\"},\"colorscale\":[[0.0,\"#0d0887\"],[0.1111111111111111,\"#46039f\"],[0.2222222222222222,\"#7201a8\"],[0.3333333333333333,\"#9c179e\"],[0.4444444444444444,\"#bd3786\"],[0.5555555555555556,\"#d8576b\"],[0.6666666666666666,\"#ed7953\"],[0.7777777777777778,\"#fb9f3a\"],[0.8888888888888888,\"#fdca26\"],[1.0,\"#f0f921\"]]}],\"contourcarpet\":[{\"type\":\"contourcarpet\",\"colorbar\":{\"outlinewidth\":0,\"ticks\":\"\"}}],\"contour\":[{\"type\":\"contour\",\"colorbar\":{\"outlinewidth\":0,\"ticks\":\"\"},\"colorscale\":[[0.0,\"#0d0887\"],[0.1111111111111111,\"#46039f\"],[0.2222222222222222,\"#7201a8\"],[0.3333333333333333,\"#9c179e\"],[0.4444444444444444,\"#bd3786\"],[0.5555555555555556,\"#d8576b\"],[0.6666666666666666,\"#ed7953\"],[0.7777777777777778,\"#fb9f3a\"],[0.8888888888888888,\"#fdca26\"],[1.0,\"#f0f921\"]]}],\"surface\":[{\"type\":\"surface\",\"colorbar\":{\"outlinewidth\":0,\"ticks\":\"\"},\"colorscale\":[[0.0,\"#0d0887\"],[0.1111111111111111,\"#46039f\"],[0.2222222222222222,\"#7201a8\"],[0.3333333333333333,\"#9c179e\"],[0.4444444444444444,\"#bd3786\"],[0.5555555555555556,\"#d8576b\"],[0.6666666666666666,\"#ed7953\"],[0.7777777777777778,\"#fb9f3a\"],[0.8888888888888888,\"#fdca26\"],[1.0,\"#f0f921\"]]}],\"mesh3d\":[{\"type\":\"mesh3d\",\"colorbar\":{\"outlinewidth\":0,\"ticks\":\"\"}}],\"scatter\":[{\"fillpattern\":{\"fillmode\":\"overlay\",\"size\":10,\"solidity\":0.2},\"type\":\"scatter\"}],\"parcoords\":[{\"type\":\"parcoords\",\"line\":{\"colorbar\":{\"outlinewidth\":0,\"ticks\":\"\"}}}],\"scatterpolargl\":[{\"type\":\"scatterpolargl\",\"marker\":{\"colorbar\":{\"outlinewidth\":0,\"ticks\":\"\"}}}],\"bar\":[{\"error_x\":{\"color\":\"#2a3f5f\"},\"error_y\":{\"color\":\"#2a3f5f\"},\"marker\":{\"line\":{\"color\":\"#E5ECF6\",\"width\":0.5},\"pattern\":{\"fillmode\":\"overlay\",\"size\":10,\"solidity\":0.2}},\"type\":\"bar\"}],\"scattergeo\":[{\"type\":\"scattergeo\",\"marker\":{\"colorbar\":{\"outlinewidth\":0,\"ticks\":\"\"}}}],\"scatterpolar\":[{\"type\":\"scatterpolar\",\"marker\":{\"colorbar\":{\"outlinewidth\":0,\"ticks\":\"\"}}}],\"histogram\":[{\"marker\":{\"pattern\":{\"fillmode\":\"overlay\",\"size\":10,\"solidity\":0.2}},\"type\":\"histogram\"}],\"scattergl\":[{\"type\":\"scattergl\",\"marker\":{\"colorbar\":{\"outlinewidth\":0,\"ticks\":\"\"}}}],\"scatter3d\":[{\"type\":\"scatter3d\",\"line\":{\"colorbar\":{\"outlinewidth\":0,\"ticks\":\"\"}},\"marker\":{\"colorbar\":{\"outlinewidth\":0,\"ticks\":\"\"}}}],\"scattermapbox\":[{\"type\":\"scattermapbox\",\"marker\":{\"colorbar\":{\"outlinewidth\":0,\"ticks\":\"\"}}}],\"scatterternary\":[{\"type\":\"scatterternary\",\"marker\":{\"colorbar\":{\"outlinewidth\":0,\"ticks\":\"\"}}}],\"scattercarpet\":[{\"type\":\"scattercarpet\",\"marker\":{\"colorbar\":{\"outlinewidth\":0,\"ticks\":\"\"}}}],\"carpet\":[{\"aaxis\":{\"endlinecolor\":\"#2a3f5f\",\"gridcolor\":\"white\",\"linecolor\":\"white\",\"minorgridcolor\":\"white\",\"startlinecolor\":\"#2a3f5f\"},\"baxis\":{\"endlinecolor\":\"#2a3f5f\",\"gridcolor\":\"white\",\"linecolor\":\"white\",\"minorgridcolor\":\"white\",\"startlinecolor\":\"#2a3f5f\"},\"type\":\"carpet\"}],\"table\":[{\"cells\":{\"fill\":{\"color\":\"#EBF0F8\"},\"line\":{\"color\":\"white\"}},\"header\":{\"fill\":{\"color\":\"#C8D4E3\"},\"line\":{\"color\":\"white\"}},\"type\":\"table\"}],\"barpolar\":[{\"marker\":{\"line\":{\"color\":\"#E5ECF6\",\"width\":0.5},\"pattern\":{\"fillmode\":\"overlay\",\"size\":10,\"solidity\":0.2}},\"type\":\"barpolar\"}],\"pie\":[{\"automargin\":true,\"type\":\"pie\"}]},\"layout\":{\"autotypenumbers\":\"strict\",\"colorway\":[\"#636efa\",\"#EF553B\",\"#00cc96\",\"#ab63fa\",\"#FFA15A\",\"#19d3f3\",\"#FF6692\",\"#B6E880\",\"#FF97FF\",\"#FECB52\"],\"font\":{\"color\":\"#2a3f5f\"},\"hovermode\":\"closest\",\"hoverlabel\":{\"align\":\"left\"},\"paper_bgcolor\":\"white\",\"plot_bgcolor\":\"#E5ECF6\",\"polar\":{\"bgcolor\":\"#E5ECF6\",\"angularaxis\":{\"gridcolor\":\"white\",\"linecolor\":\"white\",\"ticks\":\"\"},\"radialaxis\":{\"gridcolor\":\"white\",\"linecolor\":\"white\",\"ticks\":\"\"}},\"ternary\":{\"bgcolor\":\"#E5ECF6\",\"aaxis\":{\"gridcolor\":\"white\",\"linecolor\":\"white\",\"ticks\":\"\"},\"baxis\":{\"gridcolor\":\"white\",\"linecolor\":\"white\",\"ticks\":\"\"},\"caxis\":{\"gridcolor\":\"white\",\"linecolor\":\"white\",\"ticks\":\"\"}},\"coloraxis\":{\"colorbar\":{\"outlinewidth\":0,\"ticks\":\"\"}},\"colorscale\":{\"sequential\":[[0.0,\"#0d0887\"],[0.1111111111111111,\"#46039f\"],[0.2222222222222222,\"#7201a8\"],[0.3333333333333333,\"#9c179e\"],[0.4444444444444444,\"#bd3786\"],[0.5555555555555556,\"#d8576b\"],[0.6666666666666666,\"#ed7953\"],[0.7777777777777778,\"#fb9f3a\"],[0.8888888888888888,\"#fdca26\"],[1.0,\"#f0f921\"]],\"sequentialminus\":[[0.0,\"#0d0887\"],[0.1111111111111111,\"#46039f\"],[0.2222222222222222,\"#7201a8\"],[0.3333333333333333,\"#9c179e\"],[0.4444444444444444,\"#bd3786\"],[0.5555555555555556,\"#d8576b\"],[0.6666666666666666,\"#ed7953\"],[0.7777777777777778,\"#fb9f3a\"],[0.8888888888888888,\"#fdca26\"],[1.0,\"#f0f921\"]],\"diverging\":[[0,\"#8e0152\"],[0.1,\"#c51b7d\"],[0.2,\"#de77ae\"],[0.3,\"#f1b6da\"],[0.4,\"#fde0ef\"],[0.5,\"#f7f7f7\"],[0.6,\"#e6f5d0\"],[0.7,\"#b8e186\"],[0.8,\"#7fbc41\"],[0.9,\"#4d9221\"],[1,\"#276419\"]]},\"xaxis\":{\"gridcolor\":\"white\",\"linecolor\":\"white\",\"ticks\":\"\",\"title\":{\"standoff\":15},\"zerolinecolor\":\"white\",\"automargin\":true,\"zerolinewidth\":2},\"yaxis\":{\"gridcolor\":\"white\",\"linecolor\":\"white\",\"ticks\":\"\",\"title\":{\"standoff\":15},\"zerolinecolor\":\"white\",\"automargin\":true,\"zerolinewidth\":2},\"scene\":{\"xaxis\":{\"backgroundcolor\":\"#E5ECF6\",\"gridcolor\":\"white\",\"linecolor\":\"white\",\"showbackground\":true,\"ticks\":\"\",\"zerolinecolor\":\"white\",\"gridwidth\":2},\"yaxis\":{\"backgroundcolor\":\"#E5ECF6\",\"gridcolor\":\"white\",\"linecolor\":\"white\",\"showbackground\":true,\"ticks\":\"\",\"zerolinecolor\":\"white\",\"gridwidth\":2},\"zaxis\":{\"backgroundcolor\":\"#E5ECF6\",\"gridcolor\":\"white\",\"linecolor\":\"white\",\"showbackground\":true,\"ticks\":\"\",\"zerolinecolor\":\"white\",\"gridwidth\":2}},\"shapedefaults\":{\"line\":{\"color\":\"#2a3f5f\"}},\"annotationdefaults\":{\"arrowcolor\":\"#2a3f5f\",\"arrowhead\":0,\"arrowwidth\":1},\"geo\":{\"bgcolor\":\"white\",\"landcolor\":\"#E5ECF6\",\"subunitcolor\":\"white\",\"showland\":true,\"showlakes\":true,\"lakecolor\":\"white\"},\"title\":{\"x\":0.05},\"mapbox\":{\"style\":\"light\"}}},\"xaxis\":{\"anchor\":\"y\",\"domain\":[0.0,1.0],\"title\":{\"text\":\"Unit_on_Floor_#\"},\"tickmode\":\"linear\",\"tick0\":1,\"dtick\":1},\"yaxis\":{\"anchor\":\"x\",\"domain\":[0.0,1.0],\"title\":{\"text\":\"Sold_Price\"}},\"legend\":{\"tracegroupgap\":0},\"title\":{\"text\":\"Sold Price vs. Floor Level\"}},                        {\"responsive\": true}                    ).then(function(){\n",
              "                            \n",
              "var gd = document.getElementById('6104ef45-350b-4d0c-af7b-720625569b23');\n",
              "var x = new MutationObserver(function (mutations, observer) {{\n",
              "        var display = window.getComputedStyle(gd).display;\n",
              "        if (!display || display === 'none') {{\n",
              "            console.log([gd, 'removed!']);\n",
              "            Plotly.purge(gd);\n",
              "            observer.disconnect();\n",
              "        }}\n",
              "}});\n",
              "\n",
              "// Listen for the removal of the full notebook cells\n",
              "var notebookContainer = gd.closest('#notebook-container');\n",
              "if (notebookContainer) {{\n",
              "    x.observe(notebookContainer, {childList: true});\n",
              "}}\n",
              "\n",
              "// Listen for the clearing of the current output cell\n",
              "var outputEl = gd.closest('.output');\n",
              "if (outputEl) {{\n",
              "    x.observe(outputEl, {childList: true});\n",
              "}}\n",
              "\n",
              "                        })                };                            </script>        </div>\n",
              "</body>\n",
              "</html>"
            ]
          },
          "metadata": {}
        }
      ]
    },
    {
      "cell_type": "markdown",
      "source": [
        "# Appearance"
      ],
      "metadata": {
        "id": "YraEbq8kb0Vn"
      }
    },
    {
      "cell_type": "code",
      "source": [
        "appearance_data = condo\n",
        "\n",
        "def map_existing_values(value):\n",
        "    if pd.isna(value):  # Handle NaN values explicitly\n",
        "        return 'unknown'\n",
        "    if value == \"Appearance\":\n",
        "        return 0\n",
        "    elif value in [\"AS IS\"]:\n",
        "        return 'As Is'\n",
        "    elif value in [\"Fair\", \"good\", \"Good\", \"Very Good\", \"Very good\"]:\n",
        "        return 'Fair'\n",
        "    elif value in [\"Excellent\", \"EXCELLENT\"]:\n",
        "        return 'Excellent'\n",
        "    elif value == \"Move in\":\n",
        "        return 'Move In'\n",
        "    elif value in [\"diamond\", \"Diamond\", \"Mint\", \"mint\", \"Mint+\", \"Mint++\", \"Mint+++\", \"Mint+++\"]:\n",
        "        return 'Diamond'\n",
        "    elif value == \"unknown\":\n",
        "        return 'unknown'\n",
        "    elif value == \"unknown\":\n",
        "        return 'unknown'\n",
        "    else:\n",
        "        return -1  # Return -1 for other cases or return None if you prefer\n",
        "\n",
        "\n",
        "df = pd.DataFrame({'condition': ['Appearance', 'AS IS', 'Good', 'Excellent', 'Move in', 'Mint']})\n",
        "\n",
        "condition_new = df['condition'].map(map_existing_values)\n",
        "\n",
        "appearance_data = appearance_data.assign(appearance_data_cat=condition_new)\n",
        "\n",
        "fig = px.scatter(appearance_data, x='appearance_data_cat', y='Sold_Price',facet_col='Bedrooms', title='Scatter Plot of Sold Price vs. Condition')\n",
        "\n",
        "# Show the plot\n",
        "fig.show()"
      ],
      "metadata": {
        "colab": {
          "base_uri": "https://localhost:8080/",
          "height": 542
        },
        "id": "6dM6eQDlb2WV",
        "outputId": "7c516953-07c6-47fe-a28f-9bfcaa2ac498"
      },
      "execution_count": 24,
      "outputs": [
        {
          "output_type": "display_data",
          "data": {
            "text/html": [
              "<html>\n",
              "<head><meta charset=\"utf-8\" /></head>\n",
              "<body>\n",
              "    <div>            <script src=\"https://cdnjs.cloudflare.com/ajax/libs/mathjax/2.7.5/MathJax.js?config=TeX-AMS-MML_SVG\"></script><script type=\"text/javascript\">if (window.MathJax && window.MathJax.Hub && window.MathJax.Hub.Config) {window.MathJax.Hub.Config({SVG: {font: \"STIX-Web\"}});}</script>                <script type=\"text/javascript\">window.PlotlyConfig = {MathJaxConfig: 'local'};</script>\n",
              "        <script charset=\"utf-8\" src=\"https://cdn.plot.ly/plotly-2.24.1.min.js\"></script>                <div id=\"9cd89161-e310-4011-a46d-c97edcf954ff\" class=\"plotly-graph-div\" style=\"height:525px; width:100%;\"></div>            <script type=\"text/javascript\">                                    window.PLOTLYENV=window.PLOTLYENV || {};                                    if (document.getElementById(\"9cd89161-e310-4011-a46d-c97edcf954ff\")) {                    Plotly.newPlot(                        \"9cd89161-e310-4011-a46d-c97edcf954ff\",                        [{\"hovertemplate\":\"Bedrooms=1\\u003cbr\\u003eappearance_data_cat=%{x}\\u003cbr\\u003eSold_Price=%{y}\\u003cextra\\u003e\\u003c\\u002fextra\\u003e\",\"legendgroup\":\"\",\"marker\":{\"color\":\"#636efa\",\"symbol\":\"circle\"},\"mode\":\"markers\",\"name\":\"\",\"orientation\":\"v\",\"showlegend\":false,\"x\":[0,\"Fair\",\"Move In\",null,null,null,null,null,null,null,null,null,null,null,null,null,null,null,null,null,null,null,null,null,null,null,null,null,null,null,null,null,null,null,null,null,null,null,null,null,null,null,null,null,null,null,null,null,null,null,null,null,null,null,null],\"xaxis\":\"x\",\"y\":[145000.0,130000.0,150000.0,160000.0,140000.0,110000.0,165000.0,130000.0,145000.0,170000.0,165000.0,156000.0,185000.0,150000.0,139900.0,135000.0,165000.0,140000.0,163000.0,160000.0,150000.0,141500.0,175000.0,155000.0,190000.0,178000.0,155000.0,165000.0,190000.0,191000.0,170000.0,163000.0,130000.0,193000.0,186500.0,190000.0,161000.0,204000.0,null,160000.0,186000.0,190000.0,null,null,null,null,null,null,null,null,null,190000.0,194000.0,195000.0,195000.0],\"yaxis\":\"y\",\"type\":\"scatter\"},{\"hovertemplate\":\"Bedrooms=2\\u003cbr\\u003eappearance_data_cat=%{x}\\u003cbr\\u003eSold_Price=%{y}\\u003cextra\\u003e\\u003c\\u002fextra\\u003e\",\"legendgroup\":\"\",\"marker\":{\"color\":\"#636efa\",\"symbol\":\"circle\"},\"mode\":\"markers\",\"name\":\"\",\"orientation\":\"v\",\"showlegend\":false,\"x\":[\"As Is\",\"Excellent\",\"Diamond\",null,null,null,null,null,null,null,null,null,null,null,null,null,null,null,null,null,null,null,null,null,null,null,null,null,null,null,null,null,null,null,null,null,null],\"xaxis\":\"x2\",\"y\":[183000.0,170000.0,199900.0,189000.0,165000.0,176000.0,225000.0,178429.0,183000.0,172000.0,205000.0,null,205000.0,170000.0,189000.0,185000.0,195000.0,220000.0,175000.0,205000.0,195000.0,225000.0,212000.0,196000.0,230000.0,null,null,null,null,null,null,null,null,235000.0,null,null,null],\"yaxis\":\"y2\",\"type\":\"scatter\"}],                        {\"template\":{\"data\":{\"histogram2dcontour\":[{\"type\":\"histogram2dcontour\",\"colorbar\":{\"outlinewidth\":0,\"ticks\":\"\"},\"colorscale\":[[0.0,\"#0d0887\"],[0.1111111111111111,\"#46039f\"],[0.2222222222222222,\"#7201a8\"],[0.3333333333333333,\"#9c179e\"],[0.4444444444444444,\"#bd3786\"],[0.5555555555555556,\"#d8576b\"],[0.6666666666666666,\"#ed7953\"],[0.7777777777777778,\"#fb9f3a\"],[0.8888888888888888,\"#fdca26\"],[1.0,\"#f0f921\"]]}],\"choropleth\":[{\"type\":\"choropleth\",\"colorbar\":{\"outlinewidth\":0,\"ticks\":\"\"}}],\"histogram2d\":[{\"type\":\"histogram2d\",\"colorbar\":{\"outlinewidth\":0,\"ticks\":\"\"},\"colorscale\":[[0.0,\"#0d0887\"],[0.1111111111111111,\"#46039f\"],[0.2222222222222222,\"#7201a8\"],[0.3333333333333333,\"#9c179e\"],[0.4444444444444444,\"#bd3786\"],[0.5555555555555556,\"#d8576b\"],[0.6666666666666666,\"#ed7953\"],[0.7777777777777778,\"#fb9f3a\"],[0.8888888888888888,\"#fdca26\"],[1.0,\"#f0f921\"]]}],\"heatmap\":[{\"type\":\"heatmap\",\"colorbar\":{\"outlinewidth\":0,\"ticks\":\"\"},\"colorscale\":[[0.0,\"#0d0887\"],[0.1111111111111111,\"#46039f\"],[0.2222222222222222,\"#7201a8\"],[0.3333333333333333,\"#9c179e\"],[0.4444444444444444,\"#bd3786\"],[0.5555555555555556,\"#d8576b\"],[0.6666666666666666,\"#ed7953\"],[0.7777777777777778,\"#fb9f3a\"],[0.8888888888888888,\"#fdca26\"],[1.0,\"#f0f921\"]]}],\"heatmapgl\":[{\"type\":\"heatmapgl\",\"colorbar\":{\"outlinewidth\":0,\"ticks\":\"\"},\"colorscale\":[[0.0,\"#0d0887\"],[0.1111111111111111,\"#46039f\"],[0.2222222222222222,\"#7201a8\"],[0.3333333333333333,\"#9c179e\"],[0.4444444444444444,\"#bd3786\"],[0.5555555555555556,\"#d8576b\"],[0.6666666666666666,\"#ed7953\"],[0.7777777777777778,\"#fb9f3a\"],[0.8888888888888888,\"#fdca26\"],[1.0,\"#f0f921\"]]}],\"contourcarpet\":[{\"type\":\"contourcarpet\",\"colorbar\":{\"outlinewidth\":0,\"ticks\":\"\"}}],\"contour\":[{\"type\":\"contour\",\"colorbar\":{\"outlinewidth\":0,\"ticks\":\"\"},\"colorscale\":[[0.0,\"#0d0887\"],[0.1111111111111111,\"#46039f\"],[0.2222222222222222,\"#7201a8\"],[0.3333333333333333,\"#9c179e\"],[0.4444444444444444,\"#bd3786\"],[0.5555555555555556,\"#d8576b\"],[0.6666666666666666,\"#ed7953\"],[0.7777777777777778,\"#fb9f3a\"],[0.8888888888888888,\"#fdca26\"],[1.0,\"#f0f921\"]]}],\"surface\":[{\"type\":\"surface\",\"colorbar\":{\"outlinewidth\":0,\"ticks\":\"\"},\"colorscale\":[[0.0,\"#0d0887\"],[0.1111111111111111,\"#46039f\"],[0.2222222222222222,\"#7201a8\"],[0.3333333333333333,\"#9c179e\"],[0.4444444444444444,\"#bd3786\"],[0.5555555555555556,\"#d8576b\"],[0.6666666666666666,\"#ed7953\"],[0.7777777777777778,\"#fb9f3a\"],[0.8888888888888888,\"#fdca26\"],[1.0,\"#f0f921\"]]}],\"mesh3d\":[{\"type\":\"mesh3d\",\"colorbar\":{\"outlinewidth\":0,\"ticks\":\"\"}}],\"scatter\":[{\"fillpattern\":{\"fillmode\":\"overlay\",\"size\":10,\"solidity\":0.2},\"type\":\"scatter\"}],\"parcoords\":[{\"type\":\"parcoords\",\"line\":{\"colorbar\":{\"outlinewidth\":0,\"ticks\":\"\"}}}],\"scatterpolargl\":[{\"type\":\"scatterpolargl\",\"marker\":{\"colorbar\":{\"outlinewidth\":0,\"ticks\":\"\"}}}],\"bar\":[{\"error_x\":{\"color\":\"#2a3f5f\"},\"error_y\":{\"color\":\"#2a3f5f\"},\"marker\":{\"line\":{\"color\":\"#E5ECF6\",\"width\":0.5},\"pattern\":{\"fillmode\":\"overlay\",\"size\":10,\"solidity\":0.2}},\"type\":\"bar\"}],\"scattergeo\":[{\"type\":\"scattergeo\",\"marker\":{\"colorbar\":{\"outlinewidth\":0,\"ticks\":\"\"}}}],\"scatterpolar\":[{\"type\":\"scatterpolar\",\"marker\":{\"colorbar\":{\"outlinewidth\":0,\"ticks\":\"\"}}}],\"histogram\":[{\"marker\":{\"pattern\":{\"fillmode\":\"overlay\",\"size\":10,\"solidity\":0.2}},\"type\":\"histogram\"}],\"scattergl\":[{\"type\":\"scattergl\",\"marker\":{\"colorbar\":{\"outlinewidth\":0,\"ticks\":\"\"}}}],\"scatter3d\":[{\"type\":\"scatter3d\",\"line\":{\"colorbar\":{\"outlinewidth\":0,\"ticks\":\"\"}},\"marker\":{\"colorbar\":{\"outlinewidth\":0,\"ticks\":\"\"}}}],\"scattermapbox\":[{\"type\":\"scattermapbox\",\"marker\":{\"colorbar\":{\"outlinewidth\":0,\"ticks\":\"\"}}}],\"scatterternary\":[{\"type\":\"scatterternary\",\"marker\":{\"colorbar\":{\"outlinewidth\":0,\"ticks\":\"\"}}}],\"scattercarpet\":[{\"type\":\"scattercarpet\",\"marker\":{\"colorbar\":{\"outlinewidth\":0,\"ticks\":\"\"}}}],\"carpet\":[{\"aaxis\":{\"endlinecolor\":\"#2a3f5f\",\"gridcolor\":\"white\",\"linecolor\":\"white\",\"minorgridcolor\":\"white\",\"startlinecolor\":\"#2a3f5f\"},\"baxis\":{\"endlinecolor\":\"#2a3f5f\",\"gridcolor\":\"white\",\"linecolor\":\"white\",\"minorgridcolor\":\"white\",\"startlinecolor\":\"#2a3f5f\"},\"type\":\"carpet\"}],\"table\":[{\"cells\":{\"fill\":{\"color\":\"#EBF0F8\"},\"line\":{\"color\":\"white\"}},\"header\":{\"fill\":{\"color\":\"#C8D4E3\"},\"line\":{\"color\":\"white\"}},\"type\":\"table\"}],\"barpolar\":[{\"marker\":{\"line\":{\"color\":\"#E5ECF6\",\"width\":0.5},\"pattern\":{\"fillmode\":\"overlay\",\"size\":10,\"solidity\":0.2}},\"type\":\"barpolar\"}],\"pie\":[{\"automargin\":true,\"type\":\"pie\"}]},\"layout\":{\"autotypenumbers\":\"strict\",\"colorway\":[\"#636efa\",\"#EF553B\",\"#00cc96\",\"#ab63fa\",\"#FFA15A\",\"#19d3f3\",\"#FF6692\",\"#B6E880\",\"#FF97FF\",\"#FECB52\"],\"font\":{\"color\":\"#2a3f5f\"},\"hovermode\":\"closest\",\"hoverlabel\":{\"align\":\"left\"},\"paper_bgcolor\":\"white\",\"plot_bgcolor\":\"#E5ECF6\",\"polar\":{\"bgcolor\":\"#E5ECF6\",\"angularaxis\":{\"gridcolor\":\"white\",\"linecolor\":\"white\",\"ticks\":\"\"},\"radialaxis\":{\"gridcolor\":\"white\",\"linecolor\":\"white\",\"ticks\":\"\"}},\"ternary\":{\"bgcolor\":\"#E5ECF6\",\"aaxis\":{\"gridcolor\":\"white\",\"linecolor\":\"white\",\"ticks\":\"\"},\"baxis\":{\"gridcolor\":\"white\",\"linecolor\":\"white\",\"ticks\":\"\"},\"caxis\":{\"gridcolor\":\"white\",\"linecolor\":\"white\",\"ticks\":\"\"}},\"coloraxis\":{\"colorbar\":{\"outlinewidth\":0,\"ticks\":\"\"}},\"colorscale\":{\"sequential\":[[0.0,\"#0d0887\"],[0.1111111111111111,\"#46039f\"],[0.2222222222222222,\"#7201a8\"],[0.3333333333333333,\"#9c179e\"],[0.4444444444444444,\"#bd3786\"],[0.5555555555555556,\"#d8576b\"],[0.6666666666666666,\"#ed7953\"],[0.7777777777777778,\"#fb9f3a\"],[0.8888888888888888,\"#fdca26\"],[1.0,\"#f0f921\"]],\"sequentialminus\":[[0.0,\"#0d0887\"],[0.1111111111111111,\"#46039f\"],[0.2222222222222222,\"#7201a8\"],[0.3333333333333333,\"#9c179e\"],[0.4444444444444444,\"#bd3786\"],[0.5555555555555556,\"#d8576b\"],[0.6666666666666666,\"#ed7953\"],[0.7777777777777778,\"#fb9f3a\"],[0.8888888888888888,\"#fdca26\"],[1.0,\"#f0f921\"]],\"diverging\":[[0,\"#8e0152\"],[0.1,\"#c51b7d\"],[0.2,\"#de77ae\"],[0.3,\"#f1b6da\"],[0.4,\"#fde0ef\"],[0.5,\"#f7f7f7\"],[0.6,\"#e6f5d0\"],[0.7,\"#b8e186\"],[0.8,\"#7fbc41\"],[0.9,\"#4d9221\"],[1,\"#276419\"]]},\"xaxis\":{\"gridcolor\":\"white\",\"linecolor\":\"white\",\"ticks\":\"\",\"title\":{\"standoff\":15},\"zerolinecolor\":\"white\",\"automargin\":true,\"zerolinewidth\":2},\"yaxis\":{\"gridcolor\":\"white\",\"linecolor\":\"white\",\"ticks\":\"\",\"title\":{\"standoff\":15},\"zerolinecolor\":\"white\",\"automargin\":true,\"zerolinewidth\":2},\"scene\":{\"xaxis\":{\"backgroundcolor\":\"#E5ECF6\",\"gridcolor\":\"white\",\"linecolor\":\"white\",\"showbackground\":true,\"ticks\":\"\",\"zerolinecolor\":\"white\",\"gridwidth\":2},\"yaxis\":{\"backgroundcolor\":\"#E5ECF6\",\"gridcolor\":\"white\",\"linecolor\":\"white\",\"showbackground\":true,\"ticks\":\"\",\"zerolinecolor\":\"white\",\"gridwidth\":2},\"zaxis\":{\"backgroundcolor\":\"#E5ECF6\",\"gridcolor\":\"white\",\"linecolor\":\"white\",\"showbackground\":true,\"ticks\":\"\",\"zerolinecolor\":\"white\",\"gridwidth\":2}},\"shapedefaults\":{\"line\":{\"color\":\"#2a3f5f\"}},\"annotationdefaults\":{\"arrowcolor\":\"#2a3f5f\",\"arrowhead\":0,\"arrowwidth\":1},\"geo\":{\"bgcolor\":\"white\",\"landcolor\":\"#E5ECF6\",\"subunitcolor\":\"white\",\"showland\":true,\"showlakes\":true,\"lakecolor\":\"white\"},\"title\":{\"x\":0.05},\"mapbox\":{\"style\":\"light\"}}},\"xaxis\":{\"anchor\":\"y\",\"domain\":[0.0,0.49],\"title\":{\"text\":\"appearance_data_cat\"}},\"yaxis\":{\"anchor\":\"x\",\"domain\":[0.0,1.0],\"title\":{\"text\":\"Sold_Price\"}},\"xaxis2\":{\"anchor\":\"y2\",\"domain\":[0.51,1.0],\"matches\":\"x\",\"title\":{\"text\":\"appearance_data_cat\"}},\"yaxis2\":{\"anchor\":\"x2\",\"domain\":[0.0,1.0],\"matches\":\"y\",\"showticklabels\":false},\"annotations\":[{\"font\":{},\"showarrow\":false,\"text\":\"Bedrooms=1\",\"x\":0.245,\"xanchor\":\"center\",\"xref\":\"paper\",\"y\":1.0,\"yanchor\":\"bottom\",\"yref\":\"paper\"},{\"font\":{},\"showarrow\":false,\"text\":\"Bedrooms=2\",\"x\":0.755,\"xanchor\":\"center\",\"xref\":\"paper\",\"y\":1.0,\"yanchor\":\"bottom\",\"yref\":\"paper\"}],\"legend\":{\"tracegroupgap\":0},\"title\":{\"text\":\"Scatter Plot of Sold Price vs. Condition\"}},                        {\"responsive\": true}                    ).then(function(){\n",
              "                            \n",
              "var gd = document.getElementById('9cd89161-e310-4011-a46d-c97edcf954ff');\n",
              "var x = new MutationObserver(function (mutations, observer) {{\n",
              "        var display = window.getComputedStyle(gd).display;\n",
              "        if (!display || display === 'none') {{\n",
              "            console.log([gd, 'removed!']);\n",
              "            Plotly.purge(gd);\n",
              "            observer.disconnect();\n",
              "        }}\n",
              "}});\n",
              "\n",
              "// Listen for the removal of the full notebook cells\n",
              "var notebookContainer = gd.closest('#notebook-container');\n",
              "if (notebookContainer) {{\n",
              "    x.observe(notebookContainer, {childList: true});\n",
              "}}\n",
              "\n",
              "// Listen for the clearing of the current output cell\n",
              "var outputEl = gd.closest('.output');\n",
              "if (outputEl) {{\n",
              "    x.observe(outputEl, {childList: true});\n",
              "}}\n",
              "\n",
              "                        })                };                            </script>        </div>\n",
              "</body>\n",
              "</html>"
            ]
          },
          "metadata": {}
        }
      ]
    },
    {
      "cell_type": "markdown",
      "source": [
        "# Common_Cahrge v Selling Price"
      ],
      "metadata": {
        "id": "76nuIqFBcG6u"
      }
    },
    {
      "cell_type": "code",
      "source": [
        "Taxes = condo\n",
        "\n",
        "fig = px.scatter(Taxes, x='Common_Charges', y='Sold_Price', title='Scatter Plot of Sold Price vs. Bedrooms')\n",
        "\n",
        "# Update the x-axis to show only integer ticks\n",
        "fig.update_xaxes(\n",
        "    tickmode='linear',   # Use a linear tick mode\n",
        "    tick0=1,             # Start the ticks from 1 (an integer)\n",
        "    dtick=1              # Set the tick interval to 1 (integer increment)\n",
        ")\n",
        "\n",
        "# Show the plot\n",
        "fig.show()"
      ],
      "metadata": {
        "colab": {
          "base_uri": "https://localhost:8080/",
          "height": 542
        },
        "id": "9vynlCwlb-MN",
        "outputId": "889480ee-aea3-4682-ca5b-a69f73f7a73b"
      },
      "execution_count": 25,
      "outputs": [
        {
          "output_type": "display_data",
          "data": {
            "text/html": [
              "<html>\n",
              "<head><meta charset=\"utf-8\" /></head>\n",
              "<body>\n",
              "    <div>            <script src=\"https://cdnjs.cloudflare.com/ajax/libs/mathjax/2.7.5/MathJax.js?config=TeX-AMS-MML_SVG\"></script><script type=\"text/javascript\">if (window.MathJax && window.MathJax.Hub && window.MathJax.Hub.Config) {window.MathJax.Hub.Config({SVG: {font: \"STIX-Web\"}});}</script>                <script type=\"text/javascript\">window.PlotlyConfig = {MathJaxConfig: 'local'};</script>\n",
              "        <script charset=\"utf-8\" src=\"https://cdn.plot.ly/plotly-2.24.1.min.js\"></script>                <div id=\"f858a630-859e-4e17-9092-780c9d9c53ef\" class=\"plotly-graph-div\" style=\"height:525px; width:100%;\"></div>            <script type=\"text/javascript\">                                    window.PLOTLYENV=window.PLOTLYENV || {};                                    if (document.getElementById(\"f858a630-859e-4e17-9092-780c9d9c53ef\")) {                    Plotly.newPlot(                        \"f858a630-859e-4e17-9092-780c9d9c53ef\",                        [{\"hovertemplate\":\"Common_Charges=%{x}\\u003cbr\\u003eSold_Price=%{y}\\u003cextra\\u003e\\u003c\\u002fextra\\u003e\",\"legendgroup\":\"\",\"marker\":{\"color\":\"#636efa\",\"symbol\":\"circle\"},\"mode\":\"markers\",\"name\":\"\",\"orientation\":\"v\",\"showlegend\":false,\"x\":[662.0,null,641.0,1085.0,null,1085.0,null,806.0,null,1142.15,1105.0,null,693.0,null,842.57,null,823.83,1104.69,null,null,954.9,823.83,null,null,null,1142.0,null,725.0,null,null,null,1050.0,null,843.0,1085.97,null,null,1085.0,null,1085.97,null,null,692.76,null,820.0,null,858.0,null,823.0,0.0,null,null,null,null,861.0,null,null,null,null,null,null,1056.0,700.0,704.39,null,null,880.49,null,null,null,null,1085.97,880.49,null,1193.55,880.49,997.0,860.91,null,860.91,null,860.91,null,null,null,null,null,null,null,1080.0,1104.69,null],\"xaxis\":\"x\",\"y\":[145000.0,183000.0,130000.0,170000.0,150000.0,199900.0,160000.0,140000.0,110000.0,189000.0,165000.0,165000.0,130000.0,145000.0,170000.0,165000.0,156000.0,176000.0,185000.0,225000.0,178429.0,150000.0,139900.0,135000.0,165000.0,183000.0,140000.0,163000.0,160000.0,172000.0,150000.0,205000.0,141500.0,175000.0,null,155000.0,205000.0,170000.0,189000.0,185000.0,190000.0,178000.0,155000.0,195000.0,165000.0,220000.0,190000.0,175000.0,191000.0,170000.0,163000.0,130000.0,205000.0,193000.0,186500.0,195000.0,190000.0,225000.0,212000.0,161000.0,204000.0,196000.0,null,160000.0,230000.0,186000.0,190000.0,null,null,null,null,null,null,null,null,null,null,null,null,null,null,null,null,null,190000.0,194000.0,195000.0,235000.0,195000.0,null,null,null],\"yaxis\":\"y\",\"type\":\"scatter\"}],                        {\"template\":{\"data\":{\"histogram2dcontour\":[{\"type\":\"histogram2dcontour\",\"colorbar\":{\"outlinewidth\":0,\"ticks\":\"\"},\"colorscale\":[[0.0,\"#0d0887\"],[0.1111111111111111,\"#46039f\"],[0.2222222222222222,\"#7201a8\"],[0.3333333333333333,\"#9c179e\"],[0.4444444444444444,\"#bd3786\"],[0.5555555555555556,\"#d8576b\"],[0.6666666666666666,\"#ed7953\"],[0.7777777777777778,\"#fb9f3a\"],[0.8888888888888888,\"#fdca26\"],[1.0,\"#f0f921\"]]}],\"choropleth\":[{\"type\":\"choropleth\",\"colorbar\":{\"outlinewidth\":0,\"ticks\":\"\"}}],\"histogram2d\":[{\"type\":\"histogram2d\",\"colorbar\":{\"outlinewidth\":0,\"ticks\":\"\"},\"colorscale\":[[0.0,\"#0d0887\"],[0.1111111111111111,\"#46039f\"],[0.2222222222222222,\"#7201a8\"],[0.3333333333333333,\"#9c179e\"],[0.4444444444444444,\"#bd3786\"],[0.5555555555555556,\"#d8576b\"],[0.6666666666666666,\"#ed7953\"],[0.7777777777777778,\"#fb9f3a\"],[0.8888888888888888,\"#fdca26\"],[1.0,\"#f0f921\"]]}],\"heatmap\":[{\"type\":\"heatmap\",\"colorbar\":{\"outlinewidth\":0,\"ticks\":\"\"},\"colorscale\":[[0.0,\"#0d0887\"],[0.1111111111111111,\"#46039f\"],[0.2222222222222222,\"#7201a8\"],[0.3333333333333333,\"#9c179e\"],[0.4444444444444444,\"#bd3786\"],[0.5555555555555556,\"#d8576b\"],[0.6666666666666666,\"#ed7953\"],[0.7777777777777778,\"#fb9f3a\"],[0.8888888888888888,\"#fdca26\"],[1.0,\"#f0f921\"]]}],\"heatmapgl\":[{\"type\":\"heatmapgl\",\"colorbar\":{\"outlinewidth\":0,\"ticks\":\"\"},\"colorscale\":[[0.0,\"#0d0887\"],[0.1111111111111111,\"#46039f\"],[0.2222222222222222,\"#7201a8\"],[0.3333333333333333,\"#9c179e\"],[0.4444444444444444,\"#bd3786\"],[0.5555555555555556,\"#d8576b\"],[0.6666666666666666,\"#ed7953\"],[0.7777777777777778,\"#fb9f3a\"],[0.8888888888888888,\"#fdca26\"],[1.0,\"#f0f921\"]]}],\"contourcarpet\":[{\"type\":\"contourcarpet\",\"colorbar\":{\"outlinewidth\":0,\"ticks\":\"\"}}],\"contour\":[{\"type\":\"contour\",\"colorbar\":{\"outlinewidth\":0,\"ticks\":\"\"},\"colorscale\":[[0.0,\"#0d0887\"],[0.1111111111111111,\"#46039f\"],[0.2222222222222222,\"#7201a8\"],[0.3333333333333333,\"#9c179e\"],[0.4444444444444444,\"#bd3786\"],[0.5555555555555556,\"#d8576b\"],[0.6666666666666666,\"#ed7953\"],[0.7777777777777778,\"#fb9f3a\"],[0.8888888888888888,\"#fdca26\"],[1.0,\"#f0f921\"]]}],\"surface\":[{\"type\":\"surface\",\"colorbar\":{\"outlinewidth\":0,\"ticks\":\"\"},\"colorscale\":[[0.0,\"#0d0887\"],[0.1111111111111111,\"#46039f\"],[0.2222222222222222,\"#7201a8\"],[0.3333333333333333,\"#9c179e\"],[0.4444444444444444,\"#bd3786\"],[0.5555555555555556,\"#d8576b\"],[0.6666666666666666,\"#ed7953\"],[0.7777777777777778,\"#fb9f3a\"],[0.8888888888888888,\"#fdca26\"],[1.0,\"#f0f921\"]]}],\"mesh3d\":[{\"type\":\"mesh3d\",\"colorbar\":{\"outlinewidth\":0,\"ticks\":\"\"}}],\"scatter\":[{\"fillpattern\":{\"fillmode\":\"overlay\",\"size\":10,\"solidity\":0.2},\"type\":\"scatter\"}],\"parcoords\":[{\"type\":\"parcoords\",\"line\":{\"colorbar\":{\"outlinewidth\":0,\"ticks\":\"\"}}}],\"scatterpolargl\":[{\"type\":\"scatterpolargl\",\"marker\":{\"colorbar\":{\"outlinewidth\":0,\"ticks\":\"\"}}}],\"bar\":[{\"error_x\":{\"color\":\"#2a3f5f\"},\"error_y\":{\"color\":\"#2a3f5f\"},\"marker\":{\"line\":{\"color\":\"#E5ECF6\",\"width\":0.5},\"pattern\":{\"fillmode\":\"overlay\",\"size\":10,\"solidity\":0.2}},\"type\":\"bar\"}],\"scattergeo\":[{\"type\":\"scattergeo\",\"marker\":{\"colorbar\":{\"outlinewidth\":0,\"ticks\":\"\"}}}],\"scatterpolar\":[{\"type\":\"scatterpolar\",\"marker\":{\"colorbar\":{\"outlinewidth\":0,\"ticks\":\"\"}}}],\"histogram\":[{\"marker\":{\"pattern\":{\"fillmode\":\"overlay\",\"size\":10,\"solidity\":0.2}},\"type\":\"histogram\"}],\"scattergl\":[{\"type\":\"scattergl\",\"marker\":{\"colorbar\":{\"outlinewidth\":0,\"ticks\":\"\"}}}],\"scatter3d\":[{\"type\":\"scatter3d\",\"line\":{\"colorbar\":{\"outlinewidth\":0,\"ticks\":\"\"}},\"marker\":{\"colorbar\":{\"outlinewidth\":0,\"ticks\":\"\"}}}],\"scattermapbox\":[{\"type\":\"scattermapbox\",\"marker\":{\"colorbar\":{\"outlinewidth\":0,\"ticks\":\"\"}}}],\"scatterternary\":[{\"type\":\"scatterternary\",\"marker\":{\"colorbar\":{\"outlinewidth\":0,\"ticks\":\"\"}}}],\"scattercarpet\":[{\"type\":\"scattercarpet\",\"marker\":{\"colorbar\":{\"outlinewidth\":0,\"ticks\":\"\"}}}],\"carpet\":[{\"aaxis\":{\"endlinecolor\":\"#2a3f5f\",\"gridcolor\":\"white\",\"linecolor\":\"white\",\"minorgridcolor\":\"white\",\"startlinecolor\":\"#2a3f5f\"},\"baxis\":{\"endlinecolor\":\"#2a3f5f\",\"gridcolor\":\"white\",\"linecolor\":\"white\",\"minorgridcolor\":\"white\",\"startlinecolor\":\"#2a3f5f\"},\"type\":\"carpet\"}],\"table\":[{\"cells\":{\"fill\":{\"color\":\"#EBF0F8\"},\"line\":{\"color\":\"white\"}},\"header\":{\"fill\":{\"color\":\"#C8D4E3\"},\"line\":{\"color\":\"white\"}},\"type\":\"table\"}],\"barpolar\":[{\"marker\":{\"line\":{\"color\":\"#E5ECF6\",\"width\":0.5},\"pattern\":{\"fillmode\":\"overlay\",\"size\":10,\"solidity\":0.2}},\"type\":\"barpolar\"}],\"pie\":[{\"automargin\":true,\"type\":\"pie\"}]},\"layout\":{\"autotypenumbers\":\"strict\",\"colorway\":[\"#636efa\",\"#EF553B\",\"#00cc96\",\"#ab63fa\",\"#FFA15A\",\"#19d3f3\",\"#FF6692\",\"#B6E880\",\"#FF97FF\",\"#FECB52\"],\"font\":{\"color\":\"#2a3f5f\"},\"hovermode\":\"closest\",\"hoverlabel\":{\"align\":\"left\"},\"paper_bgcolor\":\"white\",\"plot_bgcolor\":\"#E5ECF6\",\"polar\":{\"bgcolor\":\"#E5ECF6\",\"angularaxis\":{\"gridcolor\":\"white\",\"linecolor\":\"white\",\"ticks\":\"\"},\"radialaxis\":{\"gridcolor\":\"white\",\"linecolor\":\"white\",\"ticks\":\"\"}},\"ternary\":{\"bgcolor\":\"#E5ECF6\",\"aaxis\":{\"gridcolor\":\"white\",\"linecolor\":\"white\",\"ticks\":\"\"},\"baxis\":{\"gridcolor\":\"white\",\"linecolor\":\"white\",\"ticks\":\"\"},\"caxis\":{\"gridcolor\":\"white\",\"linecolor\":\"white\",\"ticks\":\"\"}},\"coloraxis\":{\"colorbar\":{\"outlinewidth\":0,\"ticks\":\"\"}},\"colorscale\":{\"sequential\":[[0.0,\"#0d0887\"],[0.1111111111111111,\"#46039f\"],[0.2222222222222222,\"#7201a8\"],[0.3333333333333333,\"#9c179e\"],[0.4444444444444444,\"#bd3786\"],[0.5555555555555556,\"#d8576b\"],[0.6666666666666666,\"#ed7953\"],[0.7777777777777778,\"#fb9f3a\"],[0.8888888888888888,\"#fdca26\"],[1.0,\"#f0f921\"]],\"sequentialminus\":[[0.0,\"#0d0887\"],[0.1111111111111111,\"#46039f\"],[0.2222222222222222,\"#7201a8\"],[0.3333333333333333,\"#9c179e\"],[0.4444444444444444,\"#bd3786\"],[0.5555555555555556,\"#d8576b\"],[0.6666666666666666,\"#ed7953\"],[0.7777777777777778,\"#fb9f3a\"],[0.8888888888888888,\"#fdca26\"],[1.0,\"#f0f921\"]],\"diverging\":[[0,\"#8e0152\"],[0.1,\"#c51b7d\"],[0.2,\"#de77ae\"],[0.3,\"#f1b6da\"],[0.4,\"#fde0ef\"],[0.5,\"#f7f7f7\"],[0.6,\"#e6f5d0\"],[0.7,\"#b8e186\"],[0.8,\"#7fbc41\"],[0.9,\"#4d9221\"],[1,\"#276419\"]]},\"xaxis\":{\"gridcolor\":\"white\",\"linecolor\":\"white\",\"ticks\":\"\",\"title\":{\"standoff\":15},\"zerolinecolor\":\"white\",\"automargin\":true,\"zerolinewidth\":2},\"yaxis\":{\"gridcolor\":\"white\",\"linecolor\":\"white\",\"ticks\":\"\",\"title\":{\"standoff\":15},\"zerolinecolor\":\"white\",\"automargin\":true,\"zerolinewidth\":2},\"scene\":{\"xaxis\":{\"backgroundcolor\":\"#E5ECF6\",\"gridcolor\":\"white\",\"linecolor\":\"white\",\"showbackground\":true,\"ticks\":\"\",\"zerolinecolor\":\"white\",\"gridwidth\":2},\"yaxis\":{\"backgroundcolor\":\"#E5ECF6\",\"gridcolor\":\"white\",\"linecolor\":\"white\",\"showbackground\":true,\"ticks\":\"\",\"zerolinecolor\":\"white\",\"gridwidth\":2},\"zaxis\":{\"backgroundcolor\":\"#E5ECF6\",\"gridcolor\":\"white\",\"linecolor\":\"white\",\"showbackground\":true,\"ticks\":\"\",\"zerolinecolor\":\"white\",\"gridwidth\":2}},\"shapedefaults\":{\"line\":{\"color\":\"#2a3f5f\"}},\"annotationdefaults\":{\"arrowcolor\":\"#2a3f5f\",\"arrowhead\":0,\"arrowwidth\":1},\"geo\":{\"bgcolor\":\"white\",\"landcolor\":\"#E5ECF6\",\"subunitcolor\":\"white\",\"showland\":true,\"showlakes\":true,\"lakecolor\":\"white\"},\"title\":{\"x\":0.05},\"mapbox\":{\"style\":\"light\"}}},\"xaxis\":{\"anchor\":\"y\",\"domain\":[0.0,1.0],\"title\":{\"text\":\"Common_Charges\"},\"tickmode\":\"linear\",\"tick0\":1,\"dtick\":1},\"yaxis\":{\"anchor\":\"x\",\"domain\":[0.0,1.0],\"title\":{\"text\":\"Sold_Price\"}},\"legend\":{\"tracegroupgap\":0},\"title\":{\"text\":\"Scatter Plot of Sold Price vs. Bedrooms\"}},                        {\"responsive\": true}                    ).then(function(){\n",
              "                            \n",
              "var gd = document.getElementById('f858a630-859e-4e17-9092-780c9d9c53ef');\n",
              "var x = new MutationObserver(function (mutations, observer) {{\n",
              "        var display = window.getComputedStyle(gd).display;\n",
              "        if (!display || display === 'none') {{\n",
              "            console.log([gd, 'removed!']);\n",
              "            Plotly.purge(gd);\n",
              "            observer.disconnect();\n",
              "        }}\n",
              "}});\n",
              "\n",
              "// Listen for the removal of the full notebook cells\n",
              "var notebookContainer = gd.closest('#notebook-container');\n",
              "if (notebookContainer) {{\n",
              "    x.observe(notebookContainer, {childList: true});\n",
              "}}\n",
              "\n",
              "// Listen for the clearing of the current output cell\n",
              "var outputEl = gd.closest('.output');\n",
              "if (outputEl) {{\n",
              "    x.observe(outputEl, {childList: true});\n",
              "}}\n",
              "\n",
              "                        })                };                            </script>        </div>\n",
              "</body>\n",
              "</html>"
            ]
          },
          "metadata": {}
        }
      ]
    },
    {
      "cell_type": "markdown",
      "source": [
        "# Common Charge v Sq Feet"
      ],
      "metadata": {
        "id": "VvNbEcaJctVA"
      }
    },
    {
      "cell_type": "code",
      "source": [
        "CommonCharge = condo\n",
        "\n",
        "fig = px.scatter(CommonCharge, x='Common_Charges', y='Approx_Int_Square_Footage', color='Bedrooms',\n",
        "                 color_discrete_map={'1': 'blue', '2': 'green', '3': 'red'})  # Add more colors if needed\n",
        "\n",
        "# Update layout to set background color to black\n",
        "fig.update_layout(\n",
        "    plot_bgcolor='grey',   # Background color of the plot area\n",
        "    paper_bgcolor='grey'   # Background color of the entire figure\n",
        ")\n",
        "\n",
        "#\n",
        "# Hide the color bar legend\n",
        "fig.update_layout(showlegend=False)\n",
        "#\n",
        "\n",
        "fig.show()"
      ],
      "metadata": {
        "colab": {
          "base_uri": "https://localhost:8080/",
          "height": 542
        },
        "id": "HZFHPnm3cweb",
        "outputId": "1d5e68b3-ae8e-44e2-f7bd-0fa21c0a5689"
      },
      "execution_count": 27,
      "outputs": [
        {
          "output_type": "display_data",
          "data": {
            "text/html": [
              "<html>\n",
              "<head><meta charset=\"utf-8\" /></head>\n",
              "<body>\n",
              "    <div>            <script src=\"https://cdnjs.cloudflare.com/ajax/libs/mathjax/2.7.5/MathJax.js?config=TeX-AMS-MML_SVG\"></script><script type=\"text/javascript\">if (window.MathJax && window.MathJax.Hub && window.MathJax.Hub.Config) {window.MathJax.Hub.Config({SVG: {font: \"STIX-Web\"}});}</script>                <script type=\"text/javascript\">window.PlotlyConfig = {MathJaxConfig: 'local'};</script>\n",
              "        <script charset=\"utf-8\" src=\"https://cdn.plot.ly/plotly-2.24.1.min.js\"></script>                <div id=\"a149083c-1f03-4280-9ece-cb3588d910ea\" class=\"plotly-graph-div\" style=\"height:525px; width:100%;\"></div>            <script type=\"text/javascript\">                                    window.PLOTLYENV=window.PLOTLYENV || {};                                    if (document.getElementById(\"a149083c-1f03-4280-9ece-cb3588d910ea\")) {                    Plotly.newPlot(                        \"a149083c-1f03-4280-9ece-cb3588d910ea\",                        [{\"hovertemplate\":\"Common_Charges=%{x}\\u003cbr\\u003eApprox_Int_Square_Footage=%{y}\\u003cbr\\u003eBedrooms=%{marker.color}\\u003cextra\\u003e\\u003c\\u002fextra\\u003e\",\"legendgroup\":\"\",\"marker\":{\"color\":[1,2,1,2,1,2,1,1,1,2,2,1,1,1,1,1,1,2,1,2,2,1,1,1,1,2,1,1,1,2,1,2,1,1,2,1,2,2,2,2,1,1,1,2,1,2,1,2,1,1,1,1,2,1,1,2,1,2,2,1,1,2,1,1,2,1,1,2,2,1,1,2,1,2,2,1,2,1,2,1,2,1,1,1,1,1,1,2,1,2,2,2],\"coloraxis\":\"coloraxis\",\"symbol\":\"circle\"},\"mode\":\"markers\",\"name\":\"\",\"orientation\":\"v\",\"showlegend\":false,\"x\":[662.0,null,641.0,1085.0,null,1085.0,null,806.0,null,1142.15,1105.0,null,693.0,null,842.57,null,823.83,1104.69,null,null,954.9,823.83,null,null,null,1142.0,null,725.0,null,null,null,1050.0,null,843.0,1085.97,null,null,1085.0,null,1085.97,null,null,692.76,null,820.0,null,858.0,null,823.0,0.0,null,null,null,null,861.0,null,null,null,null,null,null,1056.0,700.0,704.39,null,null,880.49,null,null,null,null,1085.97,880.49,null,1193.55,880.49,997.0,860.91,null,860.91,null,860.91,null,null,null,null,null,null,null,1080.0,1104.69,null],\"xaxis\":\"x\",\"y\":[null,null,null,null,null,null,null,null,null,897.0,null,null,null,null,790.0,null,631.0,null,null,950.0,834.0,null,null,null,null,950.0,null,null,null,900.0,null,null,null,null,null,null,null,null,null,null,null,null,null,null,null,null,null,null,750.0,750.0,null,null,950.0,null,null,null,null,null,null,null,750.0,null,null,null,950.0,null,750.0,null,null,null,null,null,745.0,null,null,null,null,null,null,null,null,750.0,600.0,750.0,750.0,750.0,750.0,900.0,750.0,null,923.0,null],\"yaxis\":\"y\",\"type\":\"scatter\"}],                        {\"template\":{\"data\":{\"histogram2dcontour\":[{\"type\":\"histogram2dcontour\",\"colorbar\":{\"outlinewidth\":0,\"ticks\":\"\"},\"colorscale\":[[0.0,\"#0d0887\"],[0.1111111111111111,\"#46039f\"],[0.2222222222222222,\"#7201a8\"],[0.3333333333333333,\"#9c179e\"],[0.4444444444444444,\"#bd3786\"],[0.5555555555555556,\"#d8576b\"],[0.6666666666666666,\"#ed7953\"],[0.7777777777777778,\"#fb9f3a\"],[0.8888888888888888,\"#fdca26\"],[1.0,\"#f0f921\"]]}],\"choropleth\":[{\"type\":\"choropleth\",\"colorbar\":{\"outlinewidth\":0,\"ticks\":\"\"}}],\"histogram2d\":[{\"type\":\"histogram2d\",\"colorbar\":{\"outlinewidth\":0,\"ticks\":\"\"},\"colorscale\":[[0.0,\"#0d0887\"],[0.1111111111111111,\"#46039f\"],[0.2222222222222222,\"#7201a8\"],[0.3333333333333333,\"#9c179e\"],[0.4444444444444444,\"#bd3786\"],[0.5555555555555556,\"#d8576b\"],[0.6666666666666666,\"#ed7953\"],[0.7777777777777778,\"#fb9f3a\"],[0.8888888888888888,\"#fdca26\"],[1.0,\"#f0f921\"]]}],\"heatmap\":[{\"type\":\"heatmap\",\"colorbar\":{\"outlinewidth\":0,\"ticks\":\"\"},\"colorscale\":[[0.0,\"#0d0887\"],[0.1111111111111111,\"#46039f\"],[0.2222222222222222,\"#7201a8\"],[0.3333333333333333,\"#9c179e\"],[0.4444444444444444,\"#bd3786\"],[0.5555555555555556,\"#d8576b\"],[0.6666666666666666,\"#ed7953\"],[0.7777777777777778,\"#fb9f3a\"],[0.8888888888888888,\"#fdca26\"],[1.0,\"#f0f921\"]]}],\"heatmapgl\":[{\"type\":\"heatmapgl\",\"colorbar\":{\"outlinewidth\":0,\"ticks\":\"\"},\"colorscale\":[[0.0,\"#0d0887\"],[0.1111111111111111,\"#46039f\"],[0.2222222222222222,\"#7201a8\"],[0.3333333333333333,\"#9c179e\"],[0.4444444444444444,\"#bd3786\"],[0.5555555555555556,\"#d8576b\"],[0.6666666666666666,\"#ed7953\"],[0.7777777777777778,\"#fb9f3a\"],[0.8888888888888888,\"#fdca26\"],[1.0,\"#f0f921\"]]}],\"contourcarpet\":[{\"type\":\"contourcarpet\",\"colorbar\":{\"outlinewidth\":0,\"ticks\":\"\"}}],\"contour\":[{\"type\":\"contour\",\"colorbar\":{\"outlinewidth\":0,\"ticks\":\"\"},\"colorscale\":[[0.0,\"#0d0887\"],[0.1111111111111111,\"#46039f\"],[0.2222222222222222,\"#7201a8\"],[0.3333333333333333,\"#9c179e\"],[0.4444444444444444,\"#bd3786\"],[0.5555555555555556,\"#d8576b\"],[0.6666666666666666,\"#ed7953\"],[0.7777777777777778,\"#fb9f3a\"],[0.8888888888888888,\"#fdca26\"],[1.0,\"#f0f921\"]]}],\"surface\":[{\"type\":\"surface\",\"colorbar\":{\"outlinewidth\":0,\"ticks\":\"\"},\"colorscale\":[[0.0,\"#0d0887\"],[0.1111111111111111,\"#46039f\"],[0.2222222222222222,\"#7201a8\"],[0.3333333333333333,\"#9c179e\"],[0.4444444444444444,\"#bd3786\"],[0.5555555555555556,\"#d8576b\"],[0.6666666666666666,\"#ed7953\"],[0.7777777777777778,\"#fb9f3a\"],[0.8888888888888888,\"#fdca26\"],[1.0,\"#f0f921\"]]}],\"mesh3d\":[{\"type\":\"mesh3d\",\"colorbar\":{\"outlinewidth\":0,\"ticks\":\"\"}}],\"scatter\":[{\"fillpattern\":{\"fillmode\":\"overlay\",\"size\":10,\"solidity\":0.2},\"type\":\"scatter\"}],\"parcoords\":[{\"type\":\"parcoords\",\"line\":{\"colorbar\":{\"outlinewidth\":0,\"ticks\":\"\"}}}],\"scatterpolargl\":[{\"type\":\"scatterpolargl\",\"marker\":{\"colorbar\":{\"outlinewidth\":0,\"ticks\":\"\"}}}],\"bar\":[{\"error_x\":{\"color\":\"#2a3f5f\"},\"error_y\":{\"color\":\"#2a3f5f\"},\"marker\":{\"line\":{\"color\":\"#E5ECF6\",\"width\":0.5},\"pattern\":{\"fillmode\":\"overlay\",\"size\":10,\"solidity\":0.2}},\"type\":\"bar\"}],\"scattergeo\":[{\"type\":\"scattergeo\",\"marker\":{\"colorbar\":{\"outlinewidth\":0,\"ticks\":\"\"}}}],\"scatterpolar\":[{\"type\":\"scatterpolar\",\"marker\":{\"colorbar\":{\"outlinewidth\":0,\"ticks\":\"\"}}}],\"histogram\":[{\"marker\":{\"pattern\":{\"fillmode\":\"overlay\",\"size\":10,\"solidity\":0.2}},\"type\":\"histogram\"}],\"scattergl\":[{\"type\":\"scattergl\",\"marker\":{\"colorbar\":{\"outlinewidth\":0,\"ticks\":\"\"}}}],\"scatter3d\":[{\"type\":\"scatter3d\",\"line\":{\"colorbar\":{\"outlinewidth\":0,\"ticks\":\"\"}},\"marker\":{\"colorbar\":{\"outlinewidth\":0,\"ticks\":\"\"}}}],\"scattermapbox\":[{\"type\":\"scattermapbox\",\"marker\":{\"colorbar\":{\"outlinewidth\":0,\"ticks\":\"\"}}}],\"scatterternary\":[{\"type\":\"scatterternary\",\"marker\":{\"colorbar\":{\"outlinewidth\":0,\"ticks\":\"\"}}}],\"scattercarpet\":[{\"type\":\"scattercarpet\",\"marker\":{\"colorbar\":{\"outlinewidth\":0,\"ticks\":\"\"}}}],\"carpet\":[{\"aaxis\":{\"endlinecolor\":\"#2a3f5f\",\"gridcolor\":\"white\",\"linecolor\":\"white\",\"minorgridcolor\":\"white\",\"startlinecolor\":\"#2a3f5f\"},\"baxis\":{\"endlinecolor\":\"#2a3f5f\",\"gridcolor\":\"white\",\"linecolor\":\"white\",\"minorgridcolor\":\"white\",\"startlinecolor\":\"#2a3f5f\"},\"type\":\"carpet\"}],\"table\":[{\"cells\":{\"fill\":{\"color\":\"#EBF0F8\"},\"line\":{\"color\":\"white\"}},\"header\":{\"fill\":{\"color\":\"#C8D4E3\"},\"line\":{\"color\":\"white\"}},\"type\":\"table\"}],\"barpolar\":[{\"marker\":{\"line\":{\"color\":\"#E5ECF6\",\"width\":0.5},\"pattern\":{\"fillmode\":\"overlay\",\"size\":10,\"solidity\":0.2}},\"type\":\"barpolar\"}],\"pie\":[{\"automargin\":true,\"type\":\"pie\"}]},\"layout\":{\"autotypenumbers\":\"strict\",\"colorway\":[\"#636efa\",\"#EF553B\",\"#00cc96\",\"#ab63fa\",\"#FFA15A\",\"#19d3f3\",\"#FF6692\",\"#B6E880\",\"#FF97FF\",\"#FECB52\"],\"font\":{\"color\":\"#2a3f5f\"},\"hovermode\":\"closest\",\"hoverlabel\":{\"align\":\"left\"},\"paper_bgcolor\":\"white\",\"plot_bgcolor\":\"#E5ECF6\",\"polar\":{\"bgcolor\":\"#E5ECF6\",\"angularaxis\":{\"gridcolor\":\"white\",\"linecolor\":\"white\",\"ticks\":\"\"},\"radialaxis\":{\"gridcolor\":\"white\",\"linecolor\":\"white\",\"ticks\":\"\"}},\"ternary\":{\"bgcolor\":\"#E5ECF6\",\"aaxis\":{\"gridcolor\":\"white\",\"linecolor\":\"white\",\"ticks\":\"\"},\"baxis\":{\"gridcolor\":\"white\",\"linecolor\":\"white\",\"ticks\":\"\"},\"caxis\":{\"gridcolor\":\"white\",\"linecolor\":\"white\",\"ticks\":\"\"}},\"coloraxis\":{\"colorbar\":{\"outlinewidth\":0,\"ticks\":\"\"}},\"colorscale\":{\"sequential\":[[0.0,\"#0d0887\"],[0.1111111111111111,\"#46039f\"],[0.2222222222222222,\"#7201a8\"],[0.3333333333333333,\"#9c179e\"],[0.4444444444444444,\"#bd3786\"],[0.5555555555555556,\"#d8576b\"],[0.6666666666666666,\"#ed7953\"],[0.7777777777777778,\"#fb9f3a\"],[0.8888888888888888,\"#fdca26\"],[1.0,\"#f0f921\"]],\"sequentialminus\":[[0.0,\"#0d0887\"],[0.1111111111111111,\"#46039f\"],[0.2222222222222222,\"#7201a8\"],[0.3333333333333333,\"#9c179e\"],[0.4444444444444444,\"#bd3786\"],[0.5555555555555556,\"#d8576b\"],[0.6666666666666666,\"#ed7953\"],[0.7777777777777778,\"#fb9f3a\"],[0.8888888888888888,\"#fdca26\"],[1.0,\"#f0f921\"]],\"diverging\":[[0,\"#8e0152\"],[0.1,\"#c51b7d\"],[0.2,\"#de77ae\"],[0.3,\"#f1b6da\"],[0.4,\"#fde0ef\"],[0.5,\"#f7f7f7\"],[0.6,\"#e6f5d0\"],[0.7,\"#b8e186\"],[0.8,\"#7fbc41\"],[0.9,\"#4d9221\"],[1,\"#276419\"]]},\"xaxis\":{\"gridcolor\":\"white\",\"linecolor\":\"white\",\"ticks\":\"\",\"title\":{\"standoff\":15},\"zerolinecolor\":\"white\",\"automargin\":true,\"zerolinewidth\":2},\"yaxis\":{\"gridcolor\":\"white\",\"linecolor\":\"white\",\"ticks\":\"\",\"title\":{\"standoff\":15},\"zerolinecolor\":\"white\",\"automargin\":true,\"zerolinewidth\":2},\"scene\":{\"xaxis\":{\"backgroundcolor\":\"#E5ECF6\",\"gridcolor\":\"white\",\"linecolor\":\"white\",\"showbackground\":true,\"ticks\":\"\",\"zerolinecolor\":\"white\",\"gridwidth\":2},\"yaxis\":{\"backgroundcolor\":\"#E5ECF6\",\"gridcolor\":\"white\",\"linecolor\":\"white\",\"showbackground\":true,\"ticks\":\"\",\"zerolinecolor\":\"white\",\"gridwidth\":2},\"zaxis\":{\"backgroundcolor\":\"#E5ECF6\",\"gridcolor\":\"white\",\"linecolor\":\"white\",\"showbackground\":true,\"ticks\":\"\",\"zerolinecolor\":\"white\",\"gridwidth\":2}},\"shapedefaults\":{\"line\":{\"color\":\"#2a3f5f\"}},\"annotationdefaults\":{\"arrowcolor\":\"#2a3f5f\",\"arrowhead\":0,\"arrowwidth\":1},\"geo\":{\"bgcolor\":\"white\",\"landcolor\":\"#E5ECF6\",\"subunitcolor\":\"white\",\"showland\":true,\"showlakes\":true,\"lakecolor\":\"white\"},\"title\":{\"x\":0.05},\"mapbox\":{\"style\":\"light\"}}},\"xaxis\":{\"anchor\":\"y\",\"domain\":[0.0,1.0],\"title\":{\"text\":\"Common_Charges\"}},\"yaxis\":{\"anchor\":\"x\",\"domain\":[0.0,1.0],\"title\":{\"text\":\"Approx_Int_Square_Footage\"}},\"coloraxis\":{\"colorbar\":{\"title\":{\"text\":\"Bedrooms\"}},\"colorscale\":[[0.0,\"#0d0887\"],[0.1111111111111111,\"#46039f\"],[0.2222222222222222,\"#7201a8\"],[0.3333333333333333,\"#9c179e\"],[0.4444444444444444,\"#bd3786\"],[0.5555555555555556,\"#d8576b\"],[0.6666666666666666,\"#ed7953\"],[0.7777777777777778,\"#fb9f3a\"],[0.8888888888888888,\"#fdca26\"],[1.0,\"#f0f921\"]]},\"legend\":{\"tracegroupgap\":0},\"margin\":{\"t\":60},\"plot_bgcolor\":\"grey\",\"paper_bgcolor\":\"grey\",\"showlegend\":false},                        {\"responsive\": true}                    ).then(function(){\n",
              "                            \n",
              "var gd = document.getElementById('a149083c-1f03-4280-9ece-cb3588d910ea');\n",
              "var x = new MutationObserver(function (mutations, observer) {{\n",
              "        var display = window.getComputedStyle(gd).display;\n",
              "        if (!display || display === 'none') {{\n",
              "            console.log([gd, 'removed!']);\n",
              "            Plotly.purge(gd);\n",
              "            observer.disconnect();\n",
              "        }}\n",
              "}});\n",
              "\n",
              "// Listen for the removal of the full notebook cells\n",
              "var notebookContainer = gd.closest('#notebook-container');\n",
              "if (notebookContainer) {{\n",
              "    x.observe(notebookContainer, {childList: true});\n",
              "}}\n",
              "\n",
              "// Listen for the clearing of the current output cell\n",
              "var outputEl = gd.closest('.output');\n",
              "if (outputEl) {{\n",
              "    x.observe(outputEl, {childList: true});\n",
              "}}\n",
              "\n",
              "                        })                };                            </script>        </div>\n",
              "</body>\n",
              "</html>"
            ]
          },
          "metadata": {}
        }
      ]
    },
    {
      "cell_type": "markdown",
      "source": [
        "# Mapped"
      ],
      "metadata": {
        "id": "fmMxnHVDKSv6"
      }
    },
    {
      "cell_type": "code",
      "source": [
        "# Add a new column 'country' and fill it with 'USA'\n",
        "condo['country'] = 'USA'"
      ],
      "metadata": {
        "id": "hRV4AFpNLB_k"
      },
      "execution_count": 28,
      "outputs": []
    },
    {
      "cell_type": "code",
      "source": [
        "# concatenate the cols\n",
        "\n",
        "condo['full_address'] = condo['Address'] + ', ' + condo['Town'] + '  '+ condo['country']  # + ', ' + condos['State']\n",
        "condo.head(3)"
      ],
      "metadata": {
        "colab": {
          "base_uri": "https://localhost:8080/",
          "height": 302
        },
        "id": "-rwgehjmLEH0",
        "outputId": "2360ebb5-31c3-424c-ad49-f16dffca1767"
      },
      "execution_count": 29,
      "outputs": [
        {
          "output_type": "execute_result",
          "data": {
            "text/plain": [
              "                Address   Town    Zip State             Style       Street_Name         Development      ML#  Sold_Price  Baths_Full  Baths_Half Room_Level  Bath  Bedrooms                                 Utilities_Included  Common_Charges Appearance REO Appearance  Approx_Int_Square_Footage School_District_Name  Taxes  Unit_on_Floor_# country                      full_address\n",
              "0       6 Redwood Court  Coram  11727    NY         Townhouse           Redwood          North Isle  3367901    145000.0           1           0          2   1.0         1    Garbage Removal,Hot Water,Pool Care,Sewer,Water           662.0       Mint   N       Mint                        NaN             Longwood    0.0                2     USA       6 Redwood Court, Coram  USA\n",
              "1  182 Pointe Circle No  Coram  11727    NY             Other  Pointe Circle No  North Isle Village  3368100    183000.0           1           0  2,2,2,2,2   1.0         2  Air Conditioning,Garbage Removal,Gas,Ground Ca...             NaN    Diamond   N    Diamond                        NaN             Longwood    0.0                2     USA  182 Pointe Circle No, Coram  USA\n",
              "2        12 Fargo Court  Coram  11727    NY  Garden Apartment             Fargo          North Isle  3370227    130000.0           1           0          2   1.0         1                                  Cable,Sewer,Water           641.0  very good   N  very good                        NaN             Longwood    0.0                1     USA        12 Fargo Court, Coram  USA"
            ],
            "text/html": [
              "\n",
              "  <div id=\"df-5621b868-ffe5-43f6-b228-627d0e6461fe\" class=\"colab-df-container\">\n",
              "    <div>\n",
              "<style scoped>\n",
              "    .dataframe tbody tr th:only-of-type {\n",
              "        vertical-align: middle;\n",
              "    }\n",
              "\n",
              "    .dataframe tbody tr th {\n",
              "        vertical-align: top;\n",
              "    }\n",
              "\n",
              "    .dataframe thead th {\n",
              "        text-align: right;\n",
              "    }\n",
              "</style>\n",
              "<table border=\"1\" class=\"dataframe\">\n",
              "  <thead>\n",
              "    <tr style=\"text-align: right;\">\n",
              "      <th></th>\n",
              "      <th>Address</th>\n",
              "      <th>Town</th>\n",
              "      <th>Zip</th>\n",
              "      <th>State</th>\n",
              "      <th>Style</th>\n",
              "      <th>Street_Name</th>\n",
              "      <th>Development</th>\n",
              "      <th>ML#</th>\n",
              "      <th>Sold_Price</th>\n",
              "      <th>Baths_Full</th>\n",
              "      <th>Baths_Half</th>\n",
              "      <th>Room_Level</th>\n",
              "      <th>Bath</th>\n",
              "      <th>Bedrooms</th>\n",
              "      <th>Utilities_Included</th>\n",
              "      <th>Common_Charges</th>\n",
              "      <th>Appearance</th>\n",
              "      <th>REO</th>\n",
              "      <th>Appearance</th>\n",
              "      <th>Approx_Int_Square_Footage</th>\n",
              "      <th>School_District_Name</th>\n",
              "      <th>Taxes</th>\n",
              "      <th>Unit_on_Floor_#</th>\n",
              "      <th>country</th>\n",
              "      <th>full_address</th>\n",
              "    </tr>\n",
              "  </thead>\n",
              "  <tbody>\n",
              "    <tr>\n",
              "      <th>0</th>\n",
              "      <td>6 Redwood Court</td>\n",
              "      <td>Coram</td>\n",
              "      <td>11727</td>\n",
              "      <td>NY</td>\n",
              "      <td>Townhouse</td>\n",
              "      <td>Redwood</td>\n",
              "      <td>North Isle</td>\n",
              "      <td>3367901</td>\n",
              "      <td>145000.0</td>\n",
              "      <td>1</td>\n",
              "      <td>0</td>\n",
              "      <td>2</td>\n",
              "      <td>1.0</td>\n",
              "      <td>1</td>\n",
              "      <td>Garbage Removal,Hot Water,Pool Care,Sewer,Water</td>\n",
              "      <td>662.0</td>\n",
              "      <td>Mint</td>\n",
              "      <td>N</td>\n",
              "      <td>Mint</td>\n",
              "      <td>NaN</td>\n",
              "      <td>Longwood</td>\n",
              "      <td>0.0</td>\n",
              "      <td>2</td>\n",
              "      <td>USA</td>\n",
              "      <td>6 Redwood Court, Coram  USA</td>\n",
              "    </tr>\n",
              "    <tr>\n",
              "      <th>1</th>\n",
              "      <td>182 Pointe Circle No</td>\n",
              "      <td>Coram</td>\n",
              "      <td>11727</td>\n",
              "      <td>NY</td>\n",
              "      <td>Other</td>\n",
              "      <td>Pointe Circle No</td>\n",
              "      <td>North Isle Village</td>\n",
              "      <td>3368100</td>\n",
              "      <td>183000.0</td>\n",
              "      <td>1</td>\n",
              "      <td>0</td>\n",
              "      <td>2,2,2,2,2</td>\n",
              "      <td>1.0</td>\n",
              "      <td>2</td>\n",
              "      <td>Air Conditioning,Garbage Removal,Gas,Ground Ca...</td>\n",
              "      <td>NaN</td>\n",
              "      <td>Diamond</td>\n",
              "      <td>N</td>\n",
              "      <td>Diamond</td>\n",
              "      <td>NaN</td>\n",
              "      <td>Longwood</td>\n",
              "      <td>0.0</td>\n",
              "      <td>2</td>\n",
              "      <td>USA</td>\n",
              "      <td>182 Pointe Circle No, Coram  USA</td>\n",
              "    </tr>\n",
              "    <tr>\n",
              "      <th>2</th>\n",
              "      <td>12 Fargo Court</td>\n",
              "      <td>Coram</td>\n",
              "      <td>11727</td>\n",
              "      <td>NY</td>\n",
              "      <td>Garden Apartment</td>\n",
              "      <td>Fargo</td>\n",
              "      <td>North Isle</td>\n",
              "      <td>3370227</td>\n",
              "      <td>130000.0</td>\n",
              "      <td>1</td>\n",
              "      <td>0</td>\n",
              "      <td>2</td>\n",
              "      <td>1.0</td>\n",
              "      <td>1</td>\n",
              "      <td>Cable,Sewer,Water</td>\n",
              "      <td>641.0</td>\n",
              "      <td>very good</td>\n",
              "      <td>N</td>\n",
              "      <td>very good</td>\n",
              "      <td>NaN</td>\n",
              "      <td>Longwood</td>\n",
              "      <td>0.0</td>\n",
              "      <td>1</td>\n",
              "      <td>USA</td>\n",
              "      <td>12 Fargo Court, Coram  USA</td>\n",
              "    </tr>\n",
              "  </tbody>\n",
              "</table>\n",
              "</div>\n",
              "    <div class=\"colab-df-buttons\">\n",
              "\n",
              "  <div class=\"colab-df-container\">\n",
              "    <button class=\"colab-df-convert\" onclick=\"convertToInteractive('df-5621b868-ffe5-43f6-b228-627d0e6461fe')\"\n",
              "            title=\"Convert this dataframe to an interactive table.\"\n",
              "            style=\"display:none;\">\n",
              "\n",
              "  <svg xmlns=\"http://www.w3.org/2000/svg\" height=\"24px\" viewBox=\"0 -960 960 960\">\n",
              "    <path d=\"M120-120v-720h720v720H120Zm60-500h600v-160H180v160Zm220 220h160v-160H400v160Zm0 220h160v-160H400v160ZM180-400h160v-160H180v160Zm440 0h160v-160H620v160ZM180-180h160v-160H180v160Zm440 0h160v-160H620v160Z\"/>\n",
              "  </svg>\n",
              "    </button>\n",
              "\n",
              "  <style>\n",
              "    .colab-df-container {\n",
              "      display:flex;\n",
              "      gap: 12px;\n",
              "    }\n",
              "\n",
              "    .colab-df-convert {\n",
              "      background-color: #E8F0FE;\n",
              "      border: none;\n",
              "      border-radius: 50%;\n",
              "      cursor: pointer;\n",
              "      display: none;\n",
              "      fill: #1967D2;\n",
              "      height: 32px;\n",
              "      padding: 0 0 0 0;\n",
              "      width: 32px;\n",
              "    }\n",
              "\n",
              "    .colab-df-convert:hover {\n",
              "      background-color: #E2EBFA;\n",
              "      box-shadow: 0px 1px 2px rgba(60, 64, 67, 0.3), 0px 1px 3px 1px rgba(60, 64, 67, 0.15);\n",
              "      fill: #174EA6;\n",
              "    }\n",
              "\n",
              "    .colab-df-buttons div {\n",
              "      margin-bottom: 4px;\n",
              "    }\n",
              "\n",
              "    [theme=dark] .colab-df-convert {\n",
              "      background-color: #3B4455;\n",
              "      fill: #D2E3FC;\n",
              "    }\n",
              "\n",
              "    [theme=dark] .colab-df-convert:hover {\n",
              "      background-color: #434B5C;\n",
              "      box-shadow: 0px 1px 3px 1px rgba(0, 0, 0, 0.15);\n",
              "      filter: drop-shadow(0px 1px 2px rgba(0, 0, 0, 0.3));\n",
              "      fill: #FFFFFF;\n",
              "    }\n",
              "  </style>\n",
              "\n",
              "    <script>\n",
              "      const buttonEl =\n",
              "        document.querySelector('#df-5621b868-ffe5-43f6-b228-627d0e6461fe button.colab-df-convert');\n",
              "      buttonEl.style.display =\n",
              "        google.colab.kernel.accessAllowed ? 'block' : 'none';\n",
              "\n",
              "      async function convertToInteractive(key) {\n",
              "        const element = document.querySelector('#df-5621b868-ffe5-43f6-b228-627d0e6461fe');\n",
              "        const dataTable =\n",
              "          await google.colab.kernel.invokeFunction('convertToInteractive',\n",
              "                                                    [key], {});\n",
              "        if (!dataTable) return;\n",
              "\n",
              "        const docLinkHtml = 'Like what you see? Visit the ' +\n",
              "          '<a target=\"_blank\" href=https://colab.research.google.com/notebooks/data_table.ipynb>data table notebook</a>'\n",
              "          + ' to learn more about interactive tables.';\n",
              "        element.innerHTML = '';\n",
              "        dataTable['output_type'] = 'display_data';\n",
              "        await google.colab.output.renderOutput(dataTable, element);\n",
              "        const docLink = document.createElement('div');\n",
              "        docLink.innerHTML = docLinkHtml;\n",
              "        element.appendChild(docLink);\n",
              "      }\n",
              "    </script>\n",
              "  </div>\n",
              "\n",
              "\n",
              "    </div>\n",
              "  </div>\n"
            ]
          },
          "metadata": {},
          "execution_count": 29
        }
      ]
    },
    {
      "cell_type": "markdown",
      "source": [
        "## the Geo Coding\n",
        "\n",
        "### It ususally looks like it failed but taht is only becasue it is incomplete: something is alwsy misst=ing a Lat or Long."
      ],
      "metadata": {
        "id": "d5x5XBSkLPDB"
      }
    },
    {
      "cell_type": "code",
      "source": [
        "from geopy.exc import GeocoderTimedOut\n",
        "\n",
        "# ... (previous code)\n",
        "from geopy.geocoders import Nominatim\n",
        "import pandas as pd\n",
        "\n",
        "# Create a GeoPy geocoder\n",
        "geolocator = Nominatim(user_agent=\"my_app\")\n",
        "\n",
        "\n",
        "\n",
        "df = condo\n",
        "\n",
        "# Add columns for longitude and latitude\n",
        "df[\"latitude\"] = \"\"\n",
        "df[\"longitude\"] = \"\"\n",
        "\n",
        "# Loop through the dataframe and get the long and lat for each address\n",
        "for index, row in df.iterrows():\n",
        "    try:\n",
        "        location = geolocator.geocode(row[\"full_address\"])\n",
        "        df.loc[index, \"latitude\"] = location.latitude\n",
        "        df.loc[index, \"longitude\"] = location.longitude\n",
        "    except:\n",
        "        df.loc[index, \"latitude\"] = None\n",
        "        df.loc[index, \"longitude\"] = None\n",
        "\n",
        "# Print the dataframe\n",
        "print(df)\n",
        "\n",
        "#\n",
        "\n",
        "# Loop through the dataframe and get the long and lat for each address\n",
        "for index, row in df.iterrows():\n",
        "    try:\n",
        "        location = geolocator.geocode(row[\"full_address\"])\n",
        "        df.loc[index, \"latitude\"] = location.latitude\n",
        "        df.loc[index, \"longitude\"] = location.longitude\n",
        "    except GeocoderTimedOut:\n",
        "        print(f\"Geocoding for address {row['full_address']} timed out.\")\n",
        "        df.loc[index, \"latitude\"] = None\n",
        "        df.loc[index, \"longitude\"] = None"
      ],
      "metadata": {
        "colab": {
          "base_uri": "https://localhost:8080/",
          "height": 1000
        },
        "id": "2-4Y0LbPLHI9",
        "outputId": "59c71dc0-aa28-4c3b-a620-70da3d086a9d"
      },
      "execution_count": 32,
      "outputs": [
        {
          "output_type": "stream",
          "name": "stderr",
          "text": [
            "WARNING:urllib3.connectionpool:Retrying (Retry(total=1, connect=None, read=None, redirect=None, status=None)) after connection broken by 'ReadTimeoutError(\"HTTPSConnectionPool(host='nominatim.openstreetmap.org', port=443): Read timed out. (read timeout=1)\")': /search?q=162+N+Pointe+Circle%2C+Coram++USA&format=json&limit=1\n",
            "WARNING:urllib3.connectionpool:Retrying (Retry(total=1, connect=None, read=None, redirect=None, status=None)) after connection broken by 'ReadTimeoutError(\"HTTPSConnectionPool(host='nominatim.openstreetmap.org', port=443): Read timed out. (read timeout=1)\")': /search?q=229+Pointe+Circle+N%2C+Coram++USA&format=json&limit=1\n",
            "WARNING:urllib3.connectionpool:Retrying (Retry(total=1, connect=None, read=None, redirect=None, status=None)) after connection broken by 'ReadTimeoutError(\"HTTPSConnectionPool(host='nominatim.openstreetmap.org', port=443): Read timed out. (read timeout=1)\")': /search?q=106+Pointe+Circle+So%2C+Coram++USA&format=json&limit=1\n",
            "WARNING:urllib3.connectionpool:Retrying (Retry(total=0, connect=None, read=None, redirect=None, status=None)) after connection broken by 'ReadTimeoutError(\"HTTPSConnectionPool(host='nominatim.openstreetmap.org', port=443): Read timed out. (read timeout=1)\")': /search?q=106+Pointe+Circle+So%2C+Coram++USA&format=json&limit=1\n",
            "WARNING:urllib3.connectionpool:Retrying (Retry(total=1, connect=None, read=None, redirect=None, status=None)) after connection broken by 'ReadTimeoutError(\"HTTPSConnectionPool(host='nominatim.openstreetmap.org', port=443): Read timed out. (read timeout=1)\")': /search?q=120+Pointe+Circle+S%2C+Coram++USA&format=json&limit=1\n",
            "WARNING:urllib3.connectionpool:Retrying (Retry(total=1, connect=None, read=None, redirect=None, status=None)) after connection broken by 'ReadTimeoutError(\"HTTPSConnectionPool(host='nominatim.openstreetmap.org', port=443): Read timed out. (read timeout=1)\")': /search?q=170+Pointe+Circle+N%2C+Coram++USA&format=json&limit=1\n"
          ]
        },
        {
          "output_type": "stream",
          "name": "stdout",
          "text": [
            "                     Address   Town    Zip State             Style       Street_Name         Development       ML#  Sold_Price  Baths_Full  Baths_Half     Room_Level  Bath  Bedrooms                                 Utilities_Included  Common_Charges  Appearance REO  Appearance  Approx_Int_Square_Footage School_District_Name   Taxes  Unit_on_Floor_# country                          full_address   latitude  longitude\n",
            "0            6 Redwood Court  Coram  11727    NY         Townhouse           Redwood          North Isle   3367901    145000.0           1           0              2   1.0         1    Garbage Removal,Hot Water,Pool Care,Sewer,Water          662.00        Mint   N        Mint                        NaN             Longwood     0.0                2     USA           6 Redwood Court, Coram  USA  40.859489 -73.006188\n",
            "1       182 Pointe Circle No  Coram  11727    NY             Other  Pointe Circle No  North Isle Village   3368100    183000.0           1           0      2,2,2,2,2   1.0         2  Air Conditioning,Garbage Removal,Gas,Ground Ca...             NaN     Diamond   N     Diamond                        NaN             Longwood     0.0                2     USA      182 Pointe Circle No, Coram  USA       None       None\n",
            "2             12 Fargo Court  Coram  11727    NY  Garden Apartment             Fargo          North Isle   3370227    130000.0           1           0              2   1.0         1                                  Cable,Sewer,Water          641.00   very good   N   very good                        NaN             Longwood     0.0                1     USA            12 Fargo Court, Coram  USA  40.895386 -73.007873\n",
            "3         85 Pointe Circle S  Coram  11727    NY             Other   Pointe Circle S  North Isle Village   3371733    170000.0           1           0      1,1,1,1,1   1.0         2                                                NaN         1085.00         NaN   N         NaN                        NaN             Longwood     0.0                1     USA        85 Pointe Circle S, Coram  USA       None       None\n",
            "4             5 Navajo Court  Coram  11727    NY             Other            Navajo  North Isle Village   3372978    150000.0           1           0          1,1,1   1.0         1                                                NaN             NaN         NaN   N         NaN                        NaN             Longwood     0.0                1     USA            5 Navajo Court, Coram  USA  40.901509 -73.009035\n",
            "5         53 Pointe Circle S  Coram  11727    NY  Garden Apartment     Pointe Circle  North Isle Village   3377013    199900.0           1           0      1,1,1,1,1   1.0         2   Air Conditioning,Garbage Removal,Gas,Sewer,Water         1085.00     Diamond   N     Diamond                        NaN             Longwood     0.0                1     USA        53 Pointe Circle S, Coram  USA       None       None\n",
            "6          31 Cheyenne Court  Coram  11727    NY  Garden Apartment          Cheyenne  North Isle Village   3379056    160000.0           1           0              1   1.0         1               Garbage Removal,Gas,Ground Care,Heat             NaN  Diamond ++   N  Diamond ++                        NaN             Longwood     0.0                1     USA         31 Cheyenne Court, Coram  USA       None       None\n",
            "7                26 Idaho Ct  Coram  11727    NY  Garden Apartment          Idaho Ct  North Isle Village   3385829    140000.0           1           0              1   1.0         1                                                NaN          806.00         NaN   N         NaN                        NaN             Longwood     0.0                2     USA               26 Idaho Ct, Coram  USA       None       None\n",
            "8             23 Fargo Court  Coram  11727    NY  Garden Apartment             Fargo  North Isle Village   3386196    110000.0           1           0              1   1.0         1  Garbage Removal,Gas,Ground Care,Heat,Pool Care...             NaN       As-Is   N       As-Is                        NaN             Longwood     0.0                1     USA            23 Fargo Court, Coram  USA  40.895485 -73.007998\n",
            "9        188 Pointe Circle N  Coram  11727    NY  Garden Apartment            Pointe  North Isle Village   3386918    189000.0           1           1  1,2,2,2,2,2,2   1.5         2  Garbage Removal,Gas,Ground Care,Heat,Hot Water...         1142.15      Mint +   N      Mint +                      897.0             Longwood     0.0                2     USA       188 Pointe Circle N, Coram  USA       None       None\n",
            "10       214 Pointe Circle N  Coram  11727    NY  Garden Apartment   Pointe Circle N  North Isle Village   3388486    165000.0           1           0            1,2   1.0         2  Garbage Removal,Gas,Ground Care,Heat,Hot Water...         1105.00         NaN   N         NaN                        NaN             Longwood     0.0                2     USA       214 Pointe Circle N, Coram  USA       None       None\n",
            "11            17 Kiowa Court  Coram  11727    NY  Garden Apartment             Kiowa          North Isle   3388728    165000.0           1           0      1,1,1,1,1   1.0         1  Air Conditioning,Garbage Removal,Gas,Ground Ca...             NaN   Excellent   N   Excellent                        NaN             Longwood     0.0                1     USA            17 Kiowa Court, Coram  USA  40.900809 -73.008918\n",
            "12            2 Sierra Court  Coram  11727    NY  Garden Apartment            Sierra  North Isle Village   3390005    130000.0           1           0              2   1.0         1                                        Ground Care          693.00         NaN   N         NaN                        NaN             Longwood     0.0                2     USA            2 Sierra Court, Coram  USA  40.898391 -73.006851\n",
            "13            35 Fargo Court  Coram  11727    NY  Garden Apartment             Fargo  North Isle Village   3391088    145000.0           1           0              1   1.0         1  Garbage Removal,Gas,Ground Care,Heat,Hot Water...             NaN        Mint   N        Mint                        NaN             Longwood     0.0                1     USA            35 Fargo Court, Coram  USA  40.895475 -73.008107\n",
            "14            6 Navajo Court  Coram  11727    NY             Other      Navajo Court  North Isle Village   3394195    170000.0           1           0          1,1,1   1.0         1                                                NaN          842.57         NaN   N         NaN                      790.0             Longwood     0.0                2     USA            6 Navajo Court, Coram  USA  40.900637 -73.008808\n",
            "15            26 Fargo Court  Coram  11727    NY  Garden Apartment             Fargo         North Isles   3396179    165000.0           1           0              2   1.0         1  Garbage Removal,Gas,Heat,Hot Water,Pool Care,S...             NaN         NaN   N         NaN                        NaN             Longwood     0.0                2     USA            26 Fargo Court, Coram  USA  40.895374 -73.008003\n",
            "16            23 Osage Court  Coram  11727    NY  Garden Apartment             Osage          North Isle   3396702    156000.0           1           0        1,1,1,1   1.0         1  Garbage Removal,Gas,Ground Care,Heat,Hot Water...          823.83   Excellent   N   Excellent                      631.0             Longwood     0.0                2     USA            23 Osage Court, Coram  USA       None       None\n",
            "17       218 Pointe Circle N  Coram  11727    NY          Mid Rise            Pointe          North Isle   3398609    176000.0           1           0      2,2,2,2,2   1.0         2  Garbage Removal,Gas,Ground Care,Heat,Hot Water...         1104.69   Excellent   N   Excellent                        NaN             Longwood     0.0                2     USA       218 Pointe Circle N, Coram  USA       None       None\n",
            "18        23 El Camino Court  Coram  11727    NY         High Rise         El Camino  North Isle Village   3399680    185000.0           1           0              1   1.0         1  Garbage Removal,Gas,Ground Care,Heat,Hot Water...             NaN         NaN   N         NaN                        NaN             Longwood     0.0                1     USA        23 El Camino Court, Coram  USA  40.894205 -73.006981\n",
            "19        227 Point Circle N  Coram  11727    NY  Garden Apartment             Point  North Isle Village   3400354    225000.0           1           0              1   1.0         2                                                NaN             NaN         NaN   N         NaN                      950.0             Longwood     0.0                1     USA        227 Point Circle N, Coram  USA       None       None\n",
            "20             2 Aspen Court  Coram  11727    NY          Mid Rise             Aspen          North Isle   3403268    178429.0           1           0      2,2,2,2,2   1.0         2  Garbage Removal,Gas,Ground Care,Heat,Hot Water...          954.90   Excellent   N   Excellent                      834.0             Longwood     0.0                2     USA             2 Aspen Court, Coram  USA  40.916921  -73.01928\n",
            "21           27 Pueblo Court  Coram  11727    NY  Garden Apartment            Pueblo  North Isle Village   3403384    150000.0           1           0      1,1,1,1,1   1.0         1  Air Conditioning,Garbage Removal,Gas,Ground Ca...          823.83     Diamond   N     Diamond                        NaN             Longwood     0.0                1     USA           27 Pueblo Court, Coram  USA  40.899715 -73.008135\n",
            "22            21 Idaho Court  Coram  11727    NY  Garden Apartment             Idaho  North Isle Village   3403481    139900.0           1           0      1,1,1,1,1   1.0         1  Garbage Removal,Gas,Ground Care,Heat,Hot Water...             NaN   Excellent   N   Excellent                        NaN             Longwood     0.0                1     USA            21 Idaho Court, Coram  USA       None       None\n",
            "23          23 Redwood Court  Coram  11727    NY  Garden Apartment           Redwood  North Isle Village   3404363    135000.0           1           0        1,1,1,1   1.0         1  Garbage Removal,Gas,Ground Care,Heat,Hot Water...             NaN        Good   N        Good                        NaN             Longwood     0.0                1     USA          23 Redwood Court, Coram  USA  40.856249 -73.017856\n",
            "24            24 Idaho Court  Coram  11727    NY  Garden Apartment             Idaho  North Isle Village   3407711    165000.0           1           0              1   1.0         1  Garbage Removal,Gas,Ground Care,Heat,Hot Water...             NaN   Excellent   N   Excellent                        NaN             Longwood     0.0                2     USA            24 Idaho Court, Coram  USA       None       None\n",
            "25       162 N Pointe Circle  Coram  11727    NY             Other            Pointe  North Isle Village   3408602    183000.0           1           1            1,2   1.5         2                                                NaN         1142.00         NaN   N         NaN                      950.0             Longwood     0.0                2     USA       162 N Pointe Circle, Coram  USA       None       None\n",
            "26           20 Sierra Court  Coram  11727    NY  Garden Apartment            Sierra  North Isle Village   3408646    140000.0           1           0              2   1.0         1  Garbage Removal,Gas,Ground Care,Heat,Pool Care...             NaN       Great   N       Great                        NaN             Longwood     0.0                2     USA           20 Sierra Court, Coram  USA  40.898387  -73.00691\n",
            "27           5 Montana Court  Coram  11727    NY             Other           Montana          North Isle   3409159    163000.0           1           0        1,1,1,1   1.0         1  Air Conditioning,Garbage Removal,Gas,Ground Ca...          725.00        Mint   N        Mint                        NaN             Longwood     0.0                1     USA           5 Montana Court, Coram  USA       None       None\n",
            "28          31 Houston Court  Coram  11727    NY             Other           Houston  North Isle Village   3411381    160000.0           1           0        1,1,1,1   1.0         1                                                NaN             NaN         NaN   N         NaN                        NaN             Longwood     0.0                1     USA          31 Houston Court, Coram  USA  40.898422 -73.008534\n",
            "29       237 Pointe Circle N  Coram  11727    NY  Garden Apartment            Pointe  North Isle Village   3414186    172000.0           1           0      1,1,1,1,1   1.0         2  Air Conditioning,Garbage Removal,Gas,Ground Ca...             NaN         NaN   N         NaN                      900.0             Longwood     0.0                1     USA       237 Pointe Circle N, Coram  USA       None       None\n",
            "30            34 Osage Court  Coram  11727    NY  Garden Apartment             Osage  North Isle Village   3414491    150000.0           1           0        2,2,2,2   1.0         1  Garbage Removal,Gas,Ground Care,Heat,Hot Water...             NaN         NaN   N         NaN                        NaN             Longwood     0.0                2     USA            34 Osage Court, Coram  USA       None       None\n",
            "31         69 S Point Circle  Coram  11727    NY  Garden Apartment             Point          North Isle   3415501    205000.0           2           0    1,1,1,1,1,1   2.0         2                                                NaN         1050.00         NaN   N         NaN                        NaN             Longwood     0.0                1     USA         69 S Point Circle, Coram  USA       None       None\n",
            "32           4 Redwood Court  Coram  11727    NY  Garden Apartment           Redwood  North Isle Village   3418243    141500.0           1           0      2,2,2,2,2   1.0         1                                   Heat,Sewer,Water             NaN     Mint ++   N     Mint ++                        NaN             Longwood     0.0                2     USA           4 Redwood Court, Coram  USA  40.859489 -73.006188\n",
            "33            4 Navajo Court  Coram  11727    NY  Garden Apartment            Navajo  North Isle Village   3418575    175000.0           1           0  1,2,2,2,2,2,2   1.0         1        Garbage Removal,Gas,Ground Care,Sewer,Water          843.00     Diamond   N     Diamond                        NaN             Longwood     0.0                2     USA            4 Navajo Court, Coram  USA  40.900528 -73.008685\n",
            "34        37 Pointe Circle S  Coram  11727    NY             Other            Pointe  North Isle Village   3420584         NaN           1           0    1,1,1,1,1,1   1.0         2                                                NaN         1085.97         NaN   Y         NaN                        NaN             Longwood     0.0                1     USA        37 Pointe Circle S, Coram  USA       None       None\n",
            "35             6 Kiowa Court  Coram  11727    NY  Garden Apartment             Kiowa          North Isle   3420756    155000.0           1           0            2,1   1.0         1  Air Conditioning,Garbage Removal,Gas,Ground Ca...             NaN         NaN   N         NaN                        NaN             Longwood     0.0                2     USA             6 Kiowa Court, Coram  USA  40.900707 -73.008835\n",
            "36       154 Pointe Circle N  Coram  11727    NY  Garden Apartment     Pointe Circle  North Isle Village   3425500    205000.0           1           1              2   1.5         2  Garbage Removal,Gas,Ground Care,Heat,Pool Care...             NaN   Diamond +   N   Diamond +                        NaN             Longwood     0.0                2     USA       154 Pointe Circle N, Coram  USA       None       None\n",
            "37        27 Pointe Circle S  Coram  11727    NY  Garden Apartment   Pointe Circle S  North Isle Village   3425608    170000.0           1           0              1   1.0         2                                                NaN         1085.00         NaN   N         NaN                        NaN             Longwood     0.0                1     USA        27 Pointe Circle S, Coram  USA       None       None\n",
            "38        94 Pointe Circle S  Coram  11727    NY             Other     Pointe Circle  North Isle Village   3425933    189000.0           1           0              2   1.0         2   Garbage Removal,Gas,Ground Care,Heat,Sewer,Water             NaN     Mint+++   N     Mint+++                        NaN             Longwood     0.0                2     USA        94 Pointe Circle S, Coram  USA       None       None\n",
            "39  99 S Pointe Circle Drive  Coram  11727    NY  Garden Apartment     Pointe Circle  North Isle Village   3427813    185000.0           1           0              1   1.0         2  Garbage Removal,Gas,Ground Care,Heat,Pool Care...         1085.97         NaN   N         NaN                        NaN             Longwood     0.0                1     USA  99 S Pointe Circle Drive, Coram  USA       None       None\n",
            "40             5 Kiowa Court  Coram  11727    NY  Garden Apartment             Kiowa          North Isle   3428167    190000.0           1           0              1   1.0         1                                                Gas             NaN   Excellent   N   Excellent                        NaN             Longwood     0.0                1     USA             5 Kiowa Court, Coram  USA  40.900816 -73.008856\n",
            "41            1 Grande Court  Coram  11727    NY             Other      Grande Court  North Isle Village   3428470    178000.0           1           0          1,1,1   1.0         1               Air Conditioning,Gas,Hot Water,Water             NaN         NaN   N         NaN                        NaN             Longwood     0.0                1     USA            1 Grande Court, Coram  USA       None       None\n",
            "42            16 Fargo Court  Coram  11727    NY          Mid Rise             Fargo          North Isle   3429159    155000.0           1           0        2,2,2,2   1.0         1  Garbage Removal,Gas,Ground Care,Hot Water,Pool...          692.76   Excellent   N   Excellent                        NaN             Longwood     0.0                2     USA            16 Fargo Court, Coram  USA  40.895383  -73.00791\n",
            "43       229 Pointe Circle N  Coram  11727    NY  Garden Apartment   Pointe Circle N  North Isle Village   3429938    195000.0           1           0              1   1.0         2  Garbage Removal,Gas,Ground Care,Heat,Pool Care...             NaN      Mint++   N      Mint++                        NaN             Longwood     0.0                1     USA       229 Pointe Circle N, Coram  USA       None       None\n",
            "44                 11 Denver  Coram  11727    NY             Other            Denver  North Isle Village   3432763    165000.0           1           0      1,1,1,1,1   1.0         1               Garbage Removal,Gas,Heat,Sewer,Water          820.00        Mint   N        Mint                        NaN             Longwood     0.0                1     USA                 11 Denver, Coram  USA  40.895357 -73.006562\n",
            "45       172 Pointe Circle N  Coram  11727    NY  Garden Apartment   Pointe Circle N          North Isle   3434360    220000.0           1           1              2   1.5         2  Garbage Removal,Gas,Ground Care,Heat,Hot Water...             NaN     Diamond   N     Diamond                        NaN             Longwood     0.0                2     USA       172 Pointe Circle N, Coram  USA       None       None\n",
            "46           7 Laramie Court  Coram  11727    NY             Other           Laramie  North Isle Village   3435944    190000.0           1           0        1,1,1,1   1.0         1                                              Cable          858.00        Mint   N        Mint                        NaN             Longwood  2450.0                1     USA           7 Laramie Court, Coram  USA       None       None\n",
            "47        89 Pointe Circle S  Coram  11727    NY  Garden Apartment            Pointe  North Isle Village   3437522    175000.0           1           0              1   1.0         2  Garbage Removal,Gas,Ground Care,Heat,Pool Care...             NaN        Mint   N        Mint                        NaN             Longwood     0.0                1     USA        89 Pointe Circle S, Coram  USA       None       None\n",
            "48            29 Osage Court  Coram  11727    NY  Garden Apartment       Osage Court  North Isle Village   3440621    191000.0           1           0              1   1.0         1                   Garbage Removal,Heat,Sewer,Water          823.00        Mint   N        Mint                      750.0             Longwood     0.0                1     USA            29 Osage Court, Coram  USA       None       None\n",
            "49            26 Cheyenne Ct  Coram  11727    NY             Co-Op       Cheyenne Ct          North Isle   3449516    170000.0           1           0            1,2   1.0         1                                                NaN            0.00   EXCELLENT   N   EXCELLENT                      750.0             Longwood     0.0                2     USA            26 Cheyenne Ct, Coram  USA       None       None\n",
            "50                9 Fargo Ct  Coram  11727    NY  Garden Apartment          Fargo Ct  North Isle Village   3452136    163000.0           1           0        1,1,1,1   1.0         1  Garbage Removal,Gas,Ground Care,Heat,Hot Water...             NaN   Excellent   N   Excellent                        NaN             Longwood     0.0                1     USA                9 Fargo Ct, Coram  USA  40.895497  -73.00787\n",
            "51          33 Juniper Court  Coram  11727    NY  Garden Apartment           Juniper  North Isle Village   3452642    130000.0           1           0              1   1.0         1  Garbage Removal,Gas,Ground Care,Heat,Hot Water...             NaN   excellent   N   excellent                        NaN             Longwood     0.0                1     USA          33 Juniper Court, Coram  USA  40.899618 -73.008724\n",
            "52       177 Pointe Circle N  Coram  11727    NY  Garden Apartment            Pointe  North Isle Village   3453670    205000.0           1           0        1,1,1,1   1.0         2  Garbage Removal,Gas,Ground Care,Heat,Hot Water...             NaN        Fair   N        Fair                      950.0             Longwood     0.0                1     USA       177 Pointe Circle N, Coram  USA       None       None\n",
            "53           26 Denver Court  Coram  11727    NY  Garden Apartment            Denver          North Isle   3454572    193000.0           1           0        2,2,2,2   1.0         1               Gas,Ground Care,Heat,Hot Water,Water             NaN         NaN   N         NaN                        NaN             Longwood     0.0                2     USA           26 Denver Court, Coram  USA   40.89523 -73.006731\n",
            "54            21 Kiowa Court  Coram  11727    NY  Garden Apartment       Kiowa Court          North Isle   3455267    186500.0           1           0        1,1,1,1   1.0         1  Garbage Removal,Gas,Ground Care,Heat,Hot Water...          861.00   EXCELLENT   N   EXCELLENT                        NaN             Longwood     0.0                1     USA            21 Kiowa Court, Coram  USA  40.900802 -73.008979\n",
            "55          12 Boulder Court  Coram  11727    NY             Other           Boulder          North Isle   3457262    195000.0           1           0    2,2,2,2,2,2   1.0         2  Garbage Removal,Gas,Ground Care,Heat,Hot Water...             NaN         NaN   N         NaN                        NaN             Longwood     0.0                2     USA          12 Boulder Court, Coram  USA  40.894274  -73.00685\n",
            "56          18 Laramie Court  Coram  11727    NY  Garden Apartment           Laramie  North Isle Village   3458052    190000.0           1           0              2   1.0         1  Garbage Removal,Gas,Ground Care,Heat,Pool Care...             NaN   Diamond +   N   Diamond +                        NaN             Longwood     0.0                2     USA          18 Laramie Court, Coram  USA       None       None\n",
            "57          16 Boulder Court  Coram  11727    NY             Other           Boulder          North Isle   3462262    225000.0           1           0              1   1.0         2                                                NaN             NaN         NaN   N         NaN                        NaN             Longwood     0.0                0     USA          16 Boulder Court, Coram  USA  40.894266 -73.007063\n",
            "58        225 Point Circle N  Coram  11727    NY  Garden Apartment             Point  North Isle Village   3462405    212000.0           1           0    1,1,1,1,1,1   1.0         2  Cable,Garbage Removal,Gas,Ground Care,Heat,Poo...             NaN      Mint +   N      Mint +                        NaN             Longwood     0.0                1     USA        225 Point Circle N, Coram  USA       None       None\n",
            "59           10 Pueblo Court  Coram  11727    NY  Garden Apartment            Pueblo          North Isle   3462725    161000.0           1           0        2,2,2,2   1.0         1  Garbage Removal,Gas,Ground Care,Heat,Hot Water...             NaN        Good   N        Good                        NaN             Longwood     0.0                2     USA           10 Pueblo Court, Coram  USA  40.899485 -73.007849\n",
            "60           49 Navajo Court  Coram  11727    NY  Garden Apartment            Navajo  North Isle Village   3467231    204000.0           1           0              1   1.0         1                                                NaN             NaN   Diamond++   N   Diamond++                      750.0             Longwood     0.0                1     USA           49 Navajo Court, Coram  USA  40.899443 -73.007637\n",
            "61      106 Pointe Circle So  Coram  11727    NY             Other  Pointe Circle So    North Isle Villa   3468995    196000.0           1           0              2   1.0         2                                              Cable         1056.00   Excellent   N   Excellent                        NaN             Longwood     0.0                2     USA      106 Pointe Circle So, Coram  USA       None       None\n",
            "62            2 Sierra Court  Coram  11727    NY  Garden Apartment            Sierra          North Isle   3471664         NaN           1           0            1,2   1.0         1  Air Conditioning,Cable,Garbage Removal,Gas,Gro...          700.00     Diamond   N     Diamond                        NaN             Longwood     0.0                2     USA            2 Sierra Court, Coram  USA  40.898391 -73.006851\n",
            "63               17 Fargo Ct  Coram  11727    NY  Garden Apartment          Fargo Ct          North Isle   3472104    160000.0           1           0              1   1.0         1  Garbage Removal,Gas,Ground Care,Hot Water,Pool...          704.39     Diamond   N     Diamond                        NaN             Longwood     0.0                1     USA               17 Fargo Ct, Coram  USA   40.89549 -73.007943\n",
            "64       120 Pointe Circle S  Coram  11727    NY             Other            Pointe  North Isle Village   3472737    230000.0           1           0          2,2,2   1.0         2                               Gas,Heat,Sewer,Water             NaN         NaN   N         NaN                      950.0             Longwood     0.0                2     USA       120 Pointe Circle S, Coram  USA       None       None\n",
            "65             3 Fargo Court  Coram  11727    NY  Garden Apartment             Fargo          North Isle   3473529    186000.0           1           0              1   1.0         1     Garbage Removal,Gas,Heat,Pool Care,Sewer,Water             NaN        Mint   N        Mint                        NaN             Longwood     0.0                1     USA             3 Fargo Court, Coram  USA  40.895502 -73.007816\n",
            "66             2 Idaho Court  Coram  11727    NY  Garden Apartment             Idaho          North Isle   3477637    190000.0           1           0              2   1.0         1  Garbage Removal,Ground Care,Hot Water,Sewer,Water          880.49        Exc+   N        Exc+                      750.0             Longwood     0.0                2     USA             2 Idaho Court, Coram  USA       None       None\n",
            "67      136 Pointe Circle No  Coram  11727    NY  Garden Apartment  Pointe Circle No  North Isle Village   3482625         NaN           1           0      1,1,1,1,1   1.0         2           Garbage Removal,Gas,Heat,Hot Water,Water             NaN         NaN   N         NaN                        NaN             Longwood  1057.0                2     USA      136 Pointe Circle No, Coram  USA       None       None\n",
            "68         59 Point Circle S  Coram  11727    NY  Garden Apartment             Point  North Isle Village   3484653         NaN           1           0              1   1.0         2  Air Conditioning,Garbage Removal,Gas,Ground Ca...             NaN     Diamond   N     Diamond                        NaN             Longwood  1135.0                1     USA         59 Point Circle S, Coram  USA       None       None\n",
            "69         6 El Camino Court  Coram  11727    NY  Garden Apartment         El Camino  North Isle Village   3484966         NaN           1           0              2   1.0         1  Garbage Removal,Gas,Ground Care,Heat,Hot Water...             NaN      Mint +   N      Mint +                        NaN             Longwood     0.0                2     USA         6 El Camino Court, Coram  USA  40.894216 -73.006608\n",
            "70             4 Kiowa Court  Coram  11727    NY  Garden Apartment             Kiowa  North Isle Village   3484991         NaN           1           0        2,2,2,2   1.0         1                                              Water             NaN     Diamond   N     Diamond                        NaN             Longwood     0.0                2     USA             4 Kiowa Court, Coram  USA  40.900713 -73.008787\n",
            "71          37 Pointe Circle  Coram  11727    NY             Other            Pointe  North Isle Village   3486684         NaN           1           0    1,1,1,1,1,1   1.0         2                                                NaN         1085.97         NaN   Y         NaN                        NaN             Longwood     0.0                1     USA          37 Pointe Circle, Coram  USA       None       None\n",
            "72          16 Laramie Court  Coram  11727    NY          Mid Rise           Laramie          North Isle   3488155         NaN           1           0        2,2,2,2   1.0         1  Gas,Ground Care,Heat,Hot Water,Pool Care,Sewer...          880.49     Diamond   N     Diamond                      745.0             Longwood     0.0                2     USA          16 Laramie Court, Coram  USA       None       None\n",
            "73        156 N Point Circle  Coram  11727    NY  Garden Apartment      Point Circle  North Isle Village   3488283         NaN           1           1  2,2,2,2,2,2,2   1.5         2                                          Gas,Water             NaN         NaN   N         NaN                        NaN             Longwood     0.0                2     USA        156 N Point Circle, Coram  USA       None       None\n",
            "74       170 Pointe Circle N  Coram  11727    NY          Mid Rise            Pointe          North Isle   3490701         NaN           1           1        2,2,2,2   1.5         2  Garbage Removal,Gas,Ground Care,Heat,Hot Water...         1193.55   Excellent   N   Excellent                        NaN             Longwood     0.0                2     USA       170 Pointe Circle N, Coram  USA       None       None\n",
            "75           18 Pueblo Court  Coram  11727    NY  Garden Apartment            Pueblo  North Isle Village   3491020         NaN           1           0    1,2,2,2,2,2   1.0         1                     Gas,Heat,Hot Water,Sewer,Water          880.49        Mint   N        Mint                        NaN             Longwood     0.0                2     USA           18 Pueblo Court, Coram  USA  40.899594 -73.007859\n",
            "76            18 Aspen Court  Coram  11727    NY  Garden Apartment             Aspen  North Isle Village   3491293         NaN           1           0              2   1.0         2  Air Conditioning,Garbage Removal,Gas,Ground Ca...          997.00         NaN   N         NaN                        NaN             Longwood     0.0                2     USA            18 Aspen Court, Coram  USA  40.916905 -73.019283\n",
            "77            11 Osage Court  Coram  11727    NY             Other             Osage  North Isle Village   3494994         NaN           1           0              1   1.0         1    Garbage Removal,Gas,Ground Care,Pool Care,Water          860.91     Diamond   N     Diamond                        NaN             Longwood     0.0               11     USA            11 Osage Court, Coram  USA       None       None\n",
            "78         2 S Pointe Circle  Coram  11727    NY  Garden Apartment     Pointe Circle  North Isle Village   3495603         NaN           2           0        2,2,2,2   2.0         2         Gas,Ground Care,Heat,Hot Water,Sewer,Water             NaN    Mint++++   N    Mint++++                        NaN             Longwood     0.0                2     USA         2 S Pointe Circle, Coram  USA       None       None\n",
            "79            15 Idaho Court  Coram  11727    NY  Garden Apartment             Idaho  North Isle Village   3497792         NaN           1           0      1,1,1,1,1   1.0         1  Garbage Removal,Gas,Ground Care,Heat,Hot Water...          860.91        mint   N        mint                        NaN             Longwood     0.0                1     USA            15 Idaho Court, Coram  USA       None       None\n",
            "80          205 Point Circle  Coram  11727    NY  Garden Apartment      Point Circle  North Isle Village   3498035         NaN           1           1              1   1.5         2     Garbage Removal,Gas,Heat,Pool Care,Sewer,Water             NaN        mint   N        mint                        NaN             Longwood     0.0                1     USA          205 Point Circle, Coram  USA       None       None\n",
            "81           19 Navajo Court  Coram  11727    NY             Other            Navajo          North Isle   3499436         NaN           1           0      1,1,1,1,1   1.0         1  Garbage Removal,Gas,Ground Care,Heat,Hot Water...          860.91        Mint   N        Mint                      750.0             Longwood     0.0                1     USA           19 Navajo Court, Coram  USA  40.899479 -73.007249\n",
            "82           7 Juniper Court  Coram  11727    NY  Garden Apartment           Juniper  North Isle Village   3499603         NaN           1           0              1   1.0         1         Gas,Ground Care,Heat,Hot Water,Sewer,Water             NaN       Mint+   N       Mint+                      600.0             Longwood     0.0                1     USA           7 Juniper Court, Coram  USA  40.899644 -73.008463\n",
            "83           48 Navajo Court  Coram  11727    NY             Other            Navajo  North Isle Village   3501114         NaN           1           0              1   1.0         1     Garbage Removal,Gas,Heat,Hot Water,Sewer,Water             NaN         NaN   N         NaN                      750.0             Longwood     0.0                2     USA           48 Navajo Court, Coram  USA  40.899336 -73.007606\n",
            "84          24  Denver Court  Coram  11727    NY  Garden Apartment            Denver  North Isle Village  H6176606    190000.0           1           0            NaN   1.0         1                     Gas,Heat,Hot Water,Sewer,Water             NaN         NaN   N         NaN                      750.0             Longwood     NaN                2     USA          24  Denver Court, Coram  USA  40.895233 -73.006704\n",
            "85          1  Houston Court  Coram  11727    NY  Garden Apartment           Houston  North Isle Village  H6216106    194000.0           1           0            NaN   1.0         1                           Gas,Heat,Hot Water,Sewer             NaN         NaN   N         NaN                      750.0             Longwood     NaN                1     USA          1  Houston Court, Coram  USA   40.89844  -73.00822\n",
            "86           1  Denver Court  Coram  11727    NY  Garden Apartment            Denver  North Isle Village  H6223835    195000.0           1           0            NaN   1.0         1                           Gas,Heat,Hot Water,Sewer             NaN         NaN   N         NaN                      750.0             Longwood     NaN                1     USA           1  Denver Court, Coram  USA  40.895369 -73.006433\n",
            "87  117  Pointe Circle Court  Coram  11727    NY  Garden Apartment     Pointe Circle  North Isle Village  H6223838    235000.0           1           0            NaN   1.0         2                               Gas,Heat,Sewer,Water             NaN         NaN   N         NaN                      900.0             Longwood     NaN                1     USA  117  Pointe Circle Court, Coram  USA       None       None\n",
            "88         11  Montana Court  Coram  11727    NY  Garden Apartment           Montana  North Isle Village  H6235100    195000.0           1           0            NaN   1.0         1                           Gas,Heat,Hot Water,Sewer             NaN         NaN   N         NaN                      750.0             Longwood     NaN                1     USA         11  Montana Court, Coram  USA       None       None\n",
            "89       147 N. Point Circle  Coram  11727    NY  Garden Apartment   N. Point Circle          North Isle   3367801         NaN           2           0              1   2.0         2       Garbage Removal,Ground Care,Heat,Sewer,Water         1080.00     diamond   N     diamond                        NaN             Longwood     0.0                1     USA       147 N. Point Circle, Coram  USA       None       None\n",
            "90       108 Pointe Circle S  Coram  11727    NY          Mid Rise            Pointe          North Isle   3410822         NaN           1           0      1,2,2,2,2   1.0         2  Gas,Ground Care,Heat,Hot Water,Pool Care,Sewer...         1104.69   Excellent   N   Excellent                      923.0             Longwood     0.0                2     USA       108 Pointe Circle S, Coram  USA       None       None\n",
            "91             6 Aspen Court  Coram  11727    NY  Garden Apartment             Aspen          North Isle   3431872         NaN           1           0              2   1.0         2         Garbage Removal,Gas,Ground Care,Heat,Water             NaN     Diamond   N     Diamond                        NaN             Longwood     0.0                2     USA             6 Aspen Court, Coram  USA  40.916917 -73.019281\n"
          ]
        },
        {
          "output_type": "error",
          "ename": "AttributeError",
          "evalue": "ignored",
          "traceback": [
            "\u001b[0;31m---------------------------------------------------------------------------\u001b[0m",
            "\u001b[0;31mAttributeError\u001b[0m                            Traceback (most recent call last)",
            "\u001b[0;32m<ipython-input-32-fc12b6c273ce>\u001b[0m in \u001b[0;36m<cell line: 34>\u001b[0;34m()\u001b[0m\n\u001b[1;32m     35\u001b[0m     \u001b[0;32mtry\u001b[0m\u001b[0;34m:\u001b[0m\u001b[0;34m\u001b[0m\u001b[0;34m\u001b[0m\u001b[0m\n\u001b[1;32m     36\u001b[0m         \u001b[0mlocation\u001b[0m \u001b[0;34m=\u001b[0m \u001b[0mgeolocator\u001b[0m\u001b[0;34m.\u001b[0m\u001b[0mgeocode\u001b[0m\u001b[0;34m(\u001b[0m\u001b[0mrow\u001b[0m\u001b[0;34m[\u001b[0m\u001b[0;34m\"full_address\"\u001b[0m\u001b[0;34m]\u001b[0m\u001b[0;34m)\u001b[0m\u001b[0;34m\u001b[0m\u001b[0;34m\u001b[0m\u001b[0m\n\u001b[0;32m---> 37\u001b[0;31m         \u001b[0mdf\u001b[0m\u001b[0;34m.\u001b[0m\u001b[0mloc\u001b[0m\u001b[0;34m[\u001b[0m\u001b[0mindex\u001b[0m\u001b[0;34m,\u001b[0m \u001b[0;34m\"latitude\"\u001b[0m\u001b[0;34m]\u001b[0m \u001b[0;34m=\u001b[0m \u001b[0mlocation\u001b[0m\u001b[0;34m.\u001b[0m\u001b[0mlatitude\u001b[0m\u001b[0;34m\u001b[0m\u001b[0;34m\u001b[0m\u001b[0m\n\u001b[0m\u001b[1;32m     38\u001b[0m         \u001b[0mdf\u001b[0m\u001b[0;34m.\u001b[0m\u001b[0mloc\u001b[0m\u001b[0;34m[\u001b[0m\u001b[0mindex\u001b[0m\u001b[0;34m,\u001b[0m \u001b[0;34m\"longitude\"\u001b[0m\u001b[0;34m]\u001b[0m \u001b[0;34m=\u001b[0m \u001b[0mlocation\u001b[0m\u001b[0;34m.\u001b[0m\u001b[0mlongitude\u001b[0m\u001b[0;34m\u001b[0m\u001b[0;34m\u001b[0m\u001b[0m\n\u001b[1;32m     39\u001b[0m     \u001b[0;32mexcept\u001b[0m \u001b[0mGeocoderTimedOut\u001b[0m\u001b[0;34m:\u001b[0m\u001b[0;34m\u001b[0m\u001b[0;34m\u001b[0m\u001b[0m\n",
            "\u001b[0;31mAttributeError\u001b[0m: 'NoneType' object has no attribute 'latitude'"
          ]
        }
      ]
    },
    {
      "cell_type": "markdown",
      "source": [
        "### How many rows cambe back m missing either Lat or Long?"
      ],
      "metadata": {
        "id": "AqczIkbFLaWS"
      }
    },
    {
      "cell_type": "code",
      "source": [
        "missing_coordinates_count = condo[condo['latitude'].isna() | df['longitude'].isna()].shape[0]\n",
        "\n",
        "print(f\"Number of rows with missing coordinates: {missing_coordinates_count}\")"
      ],
      "metadata": {
        "colab": {
          "base_uri": "https://localhost:8080/"
        },
        "id": "dG_-n9BVLfms",
        "outputId": "84ab3cda-daa8-443d-9199-3432e5d9c583"
      },
      "execution_count": 37,
      "outputs": [
        {
          "output_type": "stream",
          "name": "stdout",
          "text": [
            "Number of rows with missing coordinates: 49\n"
          ]
        }
      ]
    },
    {
      "cell_type": "markdown",
      "source": [
        "### Drop Rows Missing Eitehr"
      ],
      "metadata": {
        "id": "5ow1Np64Lky0"
      }
    },
    {
      "cell_type": "code",
      "source": [
        "# Create a boolean mask for rows with None or NaN in the 'latitude' column\n",
        "mask = condo['latitude'].isnull()\n",
        "\n",
        "# Use the boolean mask to filter the DataFrame and get the rows with None or NaN in 'latitude'\n",
        "rows_with_missing_latitude = condo[mask]\n",
        "\n",
        "rows_with_missing_latitude.head(3)"
      ],
      "metadata": {
        "colab": {
          "base_uri": "https://localhost:8080/",
          "height": 285
        },
        "id": "OguDu81tLiPl",
        "outputId": "5437ac30-4854-41d6-92c9-ebdc6bd35736"
      },
      "execution_count": 38,
      "outputs": [
        {
          "output_type": "execute_result",
          "data": {
            "text/plain": [
              "                Address   Town    Zip State             Style       Street_Name         Development      ML#  Sold_Price  Baths_Full  Baths_Half Room_Level  Bath  Bedrooms                                 Utilities_Included  Common_Charges Appearance REO Appearance  Approx_Int_Square_Footage School_District_Name  Taxes  Unit_on_Floor_# country                      full_address latitude longitude\n",
              "1  182 Pointe Circle No  Coram  11727    NY             Other  Pointe Circle No  North Isle Village  3368100    183000.0           1           0  2,2,2,2,2   1.0         2  Air Conditioning,Garbage Removal,Gas,Ground Ca...             NaN    Diamond   N    Diamond                        NaN             Longwood    0.0                2     USA  182 Pointe Circle No, Coram  USA     None      None\n",
              "3    85 Pointe Circle S  Coram  11727    NY             Other   Pointe Circle S  North Isle Village  3371733    170000.0           1           0  1,1,1,1,1   1.0         2                                                NaN          1085.0        NaN   N        NaN                        NaN             Longwood    0.0                1     USA    85 Pointe Circle S, Coram  USA     None      None\n",
              "5    53 Pointe Circle S  Coram  11727    NY  Garden Apartment     Pointe Circle  North Isle Village  3377013    199900.0           1           0  1,1,1,1,1   1.0         2   Air Conditioning,Garbage Removal,Gas,Sewer,Water          1085.0    Diamond   N    Diamond                        NaN             Longwood    0.0                1     USA    53 Pointe Circle S, Coram  USA     None      None"
            ],
            "text/html": [
              "\n",
              "  <div id=\"df-1a4184aa-67d8-4793-98ad-cbc1a365562f\" class=\"colab-df-container\">\n",
              "    <div>\n",
              "<style scoped>\n",
              "    .dataframe tbody tr th:only-of-type {\n",
              "        vertical-align: middle;\n",
              "    }\n",
              "\n",
              "    .dataframe tbody tr th {\n",
              "        vertical-align: top;\n",
              "    }\n",
              "\n",
              "    .dataframe thead th {\n",
              "        text-align: right;\n",
              "    }\n",
              "</style>\n",
              "<table border=\"1\" class=\"dataframe\">\n",
              "  <thead>\n",
              "    <tr style=\"text-align: right;\">\n",
              "      <th></th>\n",
              "      <th>Address</th>\n",
              "      <th>Town</th>\n",
              "      <th>Zip</th>\n",
              "      <th>State</th>\n",
              "      <th>Style</th>\n",
              "      <th>Street_Name</th>\n",
              "      <th>Development</th>\n",
              "      <th>ML#</th>\n",
              "      <th>Sold_Price</th>\n",
              "      <th>Baths_Full</th>\n",
              "      <th>Baths_Half</th>\n",
              "      <th>Room_Level</th>\n",
              "      <th>Bath</th>\n",
              "      <th>Bedrooms</th>\n",
              "      <th>Utilities_Included</th>\n",
              "      <th>Common_Charges</th>\n",
              "      <th>Appearance</th>\n",
              "      <th>REO</th>\n",
              "      <th>Appearance</th>\n",
              "      <th>Approx_Int_Square_Footage</th>\n",
              "      <th>School_District_Name</th>\n",
              "      <th>Taxes</th>\n",
              "      <th>Unit_on_Floor_#</th>\n",
              "      <th>country</th>\n",
              "      <th>full_address</th>\n",
              "      <th>latitude</th>\n",
              "      <th>longitude</th>\n",
              "    </tr>\n",
              "  </thead>\n",
              "  <tbody>\n",
              "    <tr>\n",
              "      <th>1</th>\n",
              "      <td>182 Pointe Circle No</td>\n",
              "      <td>Coram</td>\n",
              "      <td>11727</td>\n",
              "      <td>NY</td>\n",
              "      <td>Other</td>\n",
              "      <td>Pointe Circle No</td>\n",
              "      <td>North Isle Village</td>\n",
              "      <td>3368100</td>\n",
              "      <td>183000.0</td>\n",
              "      <td>1</td>\n",
              "      <td>0</td>\n",
              "      <td>2,2,2,2,2</td>\n",
              "      <td>1.0</td>\n",
              "      <td>2</td>\n",
              "      <td>Air Conditioning,Garbage Removal,Gas,Ground Ca...</td>\n",
              "      <td>NaN</td>\n",
              "      <td>Diamond</td>\n",
              "      <td>N</td>\n",
              "      <td>Diamond</td>\n",
              "      <td>NaN</td>\n",
              "      <td>Longwood</td>\n",
              "      <td>0.0</td>\n",
              "      <td>2</td>\n",
              "      <td>USA</td>\n",
              "      <td>182 Pointe Circle No, Coram  USA</td>\n",
              "      <td>None</td>\n",
              "      <td>None</td>\n",
              "    </tr>\n",
              "    <tr>\n",
              "      <th>3</th>\n",
              "      <td>85 Pointe Circle S</td>\n",
              "      <td>Coram</td>\n",
              "      <td>11727</td>\n",
              "      <td>NY</td>\n",
              "      <td>Other</td>\n",
              "      <td>Pointe Circle S</td>\n",
              "      <td>North Isle Village</td>\n",
              "      <td>3371733</td>\n",
              "      <td>170000.0</td>\n",
              "      <td>1</td>\n",
              "      <td>0</td>\n",
              "      <td>1,1,1,1,1</td>\n",
              "      <td>1.0</td>\n",
              "      <td>2</td>\n",
              "      <td>NaN</td>\n",
              "      <td>1085.0</td>\n",
              "      <td>NaN</td>\n",
              "      <td>N</td>\n",
              "      <td>NaN</td>\n",
              "      <td>NaN</td>\n",
              "      <td>Longwood</td>\n",
              "      <td>0.0</td>\n",
              "      <td>1</td>\n",
              "      <td>USA</td>\n",
              "      <td>85 Pointe Circle S, Coram  USA</td>\n",
              "      <td>None</td>\n",
              "      <td>None</td>\n",
              "    </tr>\n",
              "    <tr>\n",
              "      <th>5</th>\n",
              "      <td>53 Pointe Circle S</td>\n",
              "      <td>Coram</td>\n",
              "      <td>11727</td>\n",
              "      <td>NY</td>\n",
              "      <td>Garden Apartment</td>\n",
              "      <td>Pointe Circle</td>\n",
              "      <td>North Isle Village</td>\n",
              "      <td>3377013</td>\n",
              "      <td>199900.0</td>\n",
              "      <td>1</td>\n",
              "      <td>0</td>\n",
              "      <td>1,1,1,1,1</td>\n",
              "      <td>1.0</td>\n",
              "      <td>2</td>\n",
              "      <td>Air Conditioning,Garbage Removal,Gas,Sewer,Water</td>\n",
              "      <td>1085.0</td>\n",
              "      <td>Diamond</td>\n",
              "      <td>N</td>\n",
              "      <td>Diamond</td>\n",
              "      <td>NaN</td>\n",
              "      <td>Longwood</td>\n",
              "      <td>0.0</td>\n",
              "      <td>1</td>\n",
              "      <td>USA</td>\n",
              "      <td>53 Pointe Circle S, Coram  USA</td>\n",
              "      <td>None</td>\n",
              "      <td>None</td>\n",
              "    </tr>\n",
              "  </tbody>\n",
              "</table>\n",
              "</div>\n",
              "    <div class=\"colab-df-buttons\">\n",
              "\n",
              "  <div class=\"colab-df-container\">\n",
              "    <button class=\"colab-df-convert\" onclick=\"convertToInteractive('df-1a4184aa-67d8-4793-98ad-cbc1a365562f')\"\n",
              "            title=\"Convert this dataframe to an interactive table.\"\n",
              "            style=\"display:none;\">\n",
              "\n",
              "  <svg xmlns=\"http://www.w3.org/2000/svg\" height=\"24px\" viewBox=\"0 -960 960 960\">\n",
              "    <path d=\"M120-120v-720h720v720H120Zm60-500h600v-160H180v160Zm220 220h160v-160H400v160Zm0 220h160v-160H400v160ZM180-400h160v-160H180v160Zm440 0h160v-160H620v160ZM180-180h160v-160H180v160Zm440 0h160v-160H620v160Z\"/>\n",
              "  </svg>\n",
              "    </button>\n",
              "\n",
              "  <style>\n",
              "    .colab-df-container {\n",
              "      display:flex;\n",
              "      gap: 12px;\n",
              "    }\n",
              "\n",
              "    .colab-df-convert {\n",
              "      background-color: #E8F0FE;\n",
              "      border: none;\n",
              "      border-radius: 50%;\n",
              "      cursor: pointer;\n",
              "      display: none;\n",
              "      fill: #1967D2;\n",
              "      height: 32px;\n",
              "      padding: 0 0 0 0;\n",
              "      width: 32px;\n",
              "    }\n",
              "\n",
              "    .colab-df-convert:hover {\n",
              "      background-color: #E2EBFA;\n",
              "      box-shadow: 0px 1px 2px rgba(60, 64, 67, 0.3), 0px 1px 3px 1px rgba(60, 64, 67, 0.15);\n",
              "      fill: #174EA6;\n",
              "    }\n",
              "\n",
              "    .colab-df-buttons div {\n",
              "      margin-bottom: 4px;\n",
              "    }\n",
              "\n",
              "    [theme=dark] .colab-df-convert {\n",
              "      background-color: #3B4455;\n",
              "      fill: #D2E3FC;\n",
              "    }\n",
              "\n",
              "    [theme=dark] .colab-df-convert:hover {\n",
              "      background-color: #434B5C;\n",
              "      box-shadow: 0px 1px 3px 1px rgba(0, 0, 0, 0.15);\n",
              "      filter: drop-shadow(0px 1px 2px rgba(0, 0, 0, 0.3));\n",
              "      fill: #FFFFFF;\n",
              "    }\n",
              "  </style>\n",
              "\n",
              "    <script>\n",
              "      const buttonEl =\n",
              "        document.querySelector('#df-1a4184aa-67d8-4793-98ad-cbc1a365562f button.colab-df-convert');\n",
              "      buttonEl.style.display =\n",
              "        google.colab.kernel.accessAllowed ? 'block' : 'none';\n",
              "\n",
              "      async function convertToInteractive(key) {\n",
              "        const element = document.querySelector('#df-1a4184aa-67d8-4793-98ad-cbc1a365562f');\n",
              "        const dataTable =\n",
              "          await google.colab.kernel.invokeFunction('convertToInteractive',\n",
              "                                                    [key], {});\n",
              "        if (!dataTable) return;\n",
              "\n",
              "        const docLinkHtml = 'Like what you see? Visit the ' +\n",
              "          '<a target=\"_blank\" href=https://colab.research.google.com/notebooks/data_table.ipynb>data table notebook</a>'\n",
              "          + ' to learn more about interactive tables.';\n",
              "        element.innerHTML = '';\n",
              "        dataTable['output_type'] = 'display_data';\n",
              "        await google.colab.output.renderOutput(dataTable, element);\n",
              "        const docLink = document.createElement('div');\n",
              "        docLink.innerHTML = docLinkHtml;\n",
              "        element.appendChild(docLink);\n",
              "      }\n",
              "    </script>\n",
              "  </div>\n",
              "\n",
              "\n",
              "    </div>\n",
              "  </div>\n"
            ]
          },
          "metadata": {},
          "execution_count": 38
        }
      ]
    },
    {
      "cell_type": "markdown",
      "source": [
        "### Which Rows Are Missing LAt or Long?\n"
      ],
      "metadata": {
        "id": "SmvAps0rL8XA"
      }
    },
    {
      "cell_type": "code",
      "source": [
        "### Drop Incomplete Rows"
      ],
      "metadata": {
        "id": "uZti2a-zMEeF"
      },
      "execution_count": null,
      "outputs": []
    },
    {
      "cell_type": "code",
      "source": [
        "condo.shape"
      ],
      "metadata": {
        "colab": {
          "base_uri": "https://localhost:8080/"
        },
        "id": "XTJ6hUWhMEaX",
        "outputId": "3bcface5-e3e3-424b-ad56-adc0cbfc04ed"
      },
      "execution_count": 33,
      "outputs": [
        {
          "output_type": "execute_result",
          "data": {
            "text/plain": [
              "(92, 27)"
            ]
          },
          "metadata": {},
          "execution_count": 33
        }
      ]
    },
    {
      "cell_type": "code",
      "source": [
        "condo_cleaned =  condo.dropna(subset=['latitude', 'longitude'])"
      ],
      "metadata": {
        "id": "VEJw8-cUMEW6"
      },
      "execution_count": 34,
      "outputs": []
    },
    {
      "cell_type": "code",
      "source": [
        "condo.shape"
      ],
      "metadata": {
        "id": "n_Yk9P1XMNBT"
      },
      "execution_count": null,
      "outputs": []
    },
    {
      "cell_type": "code",
      "source": [
        "import pandas as pd\n",
        "import plotly.graph_objects as go\n",
        "\n",
        "# Assuming you have a DataFrame named 'condo_cleaned'\n",
        "data = condo_cleaned\n",
        "\n",
        "# Define a color scale for the Sold_Price values\n",
        "color_scale = [\n",
        "    [0, 'blue'],    # Lowest Sold_Price, represented as blue\n",
        "    [1, 'red']      # Highest Sold_Price, represented as red\n",
        "]\n",
        "\n",
        "fig = go.Figure()\n",
        "\n",
        "# Customize the text to display multiple columns on hover\n",
        "hover_text = data[[\"Development\", \"Sold_Price\", \"Town\"]]  # Add more columns as needed\n",
        "\n",
        "# Add the scatter plot layer using scattermapbox\n",
        "fig.add_trace(\n",
        "    go.Scattermapbox(\n",
        "        lon=data[\"longitude\"],\n",
        "        lat=data[\"latitude\"],\n",
        "        text=hover_text.apply(lambda row: f\"Development: {row[0]}<br>Sold Price: ${row[1]:,.2f}<br>Town: {row[2]}\", axis=1),\n",
        "        mode=\"markers\",\n",
        "        marker=dict(\n",
        "            size=5,\n",
        "            color=data[\"Sold_Price\"],  # Assign Sold_Price values to color\n",
        "            colorscale=color_scale,\n",
        "            cmin=data[\"Sold_Price\"].min(),\n",
        "            cmax=data[\"Sold_Price\"].max(),\n",
        "            colorbar=dict(title=\"Sold Price\")\n",
        "        ),\n",
        "    )\n",
        ")\n",
        "\n",
        "# Set the map's layout using Mapbox\n",
        "fig.update_layout(\n",
        "    mapbox=dict(\n",
        "        style=\"stamen-terrain\",  # You can choose a different map style\n",
        "        center=dict(lon=-73.2640, lat=40.7891),  # Coordinates for Long Island, NY\n",
        "        zoom=9,  # Adjust the zoom level as needed\n",
        "    )\n",
        ")\n",
        "\n",
        "fig.show()"
      ],
      "metadata": {
        "colab": {
          "base_uri": "https://localhost:8080/",
          "height": 542
        },
        "id": "7V51UDwDMQ-7",
        "outputId": "a5757d56-ea5e-4f6d-a5f1-d1641ae1a7aa"
      },
      "execution_count": 35,
      "outputs": [
        {
          "output_type": "display_data",
          "data": {
            "text/html": [
              "<html>\n",
              "<head><meta charset=\"utf-8\" /></head>\n",
              "<body>\n",
              "    <div>            <script src=\"https://cdnjs.cloudflare.com/ajax/libs/mathjax/2.7.5/MathJax.js?config=TeX-AMS-MML_SVG\"></script><script type=\"text/javascript\">if (window.MathJax && window.MathJax.Hub && window.MathJax.Hub.Config) {window.MathJax.Hub.Config({SVG: {font: \"STIX-Web\"}});}</script>                <script type=\"text/javascript\">window.PlotlyConfig = {MathJaxConfig: 'local'};</script>\n",
              "        <script charset=\"utf-8\" src=\"https://cdn.plot.ly/plotly-2.24.1.min.js\"></script>                <div id=\"eef78beb-2e3b-4115-8586-d1bb66eaabee\" class=\"plotly-graph-div\" style=\"height:525px; width:100%;\"></div>            <script type=\"text/javascript\">                                    window.PLOTLYENV=window.PLOTLYENV || {};                                    if (document.getElementById(\"eef78beb-2e3b-4115-8586-d1bb66eaabee\")) {                    Plotly.newPlot(                        \"eef78beb-2e3b-4115-8586-d1bb66eaabee\",                        [{\"lat\":[40.859489,40.8953861,40.9015092,40.8954852,40.9008087,40.8983913,40.895475,40.9006372,40.8953741,40.894205295876255,40.916921,40.8997146,40.85624904545454,40.8983868,40.8984216,40.859489,40.900528,40.9007072,40.9008159,40.8953827,40.8953572,40.895497,40.8996183,40.8952304,40.9008018,40.8942742,40.8942662,40.8994853,40.8994434,40.8983913,40.8954902,40.895502,40.8942162357994,40.9007127,40.8995937,40.91690466666667,40.8994791,40.8996442,40.8993356,40.8952329,40.8984396,40.8953694,40.91691691666667],\"lon\":[-73.006188,-73.0078728,-73.0090355,-73.0079977,-73.0089185,-73.0068515,-73.008107,-73.0088078,-73.0080029,-73.00698094020733,-73.01928,-73.0081351,-73.01785590909091,-73.0069096,-73.0085345,-73.006188,-73.0086847,-73.008835,-73.0088557,-73.00791,-73.0065617,-73.0078703,-73.0087238,-73.0067307,-73.0089794,-73.0068505,-73.0070627,-73.0078492,-73.0076371,-73.0068515,-73.0079431,-73.0078157,-73.00660777805395,-73.008787,-73.0078595,-73.0192825,-73.0072485,-73.0084632,-73.0076061,-73.0067044,-73.0082196,-73.0064327,-73.019280625],\"marker\":{\"cmax\":225000.0,\"cmin\":110000.0,\"color\":[145000.0,130000.0,150000.0,110000.0,165000.0,130000.0,145000.0,170000.0,165000.0,185000.0,178429.0,150000.0,135000.0,140000.0,160000.0,141500.0,175000.0,155000.0,190000.0,155000.0,165000.0,163000.0,130000.0,193000.0,186500.0,195000.0,225000.0,161000.0,204000.0,null,160000.0,186000.0,null,null,null,null,null,null,null,190000.0,194000.0,195000.0,null],\"colorbar\":{\"title\":{\"text\":\"Sold Price\"}},\"colorscale\":[[0,\"blue\"],[1,\"red\"]],\"size\":5},\"mode\":\"markers\",\"text\":[\"Development: North Isle\\u003cbr\\u003eSold Price: $145,000.00\\u003cbr\\u003eTown: Coram\",\"Development: North Isle\\u003cbr\\u003eSold Price: $130,000.00\\u003cbr\\u003eTown: Coram\",\"Development: North Isle Village\\u003cbr\\u003eSold Price: $150,000.00\\u003cbr\\u003eTown: Coram\",\"Development: North Isle Village\\u003cbr\\u003eSold Price: $110,000.00\\u003cbr\\u003eTown: Coram\",\"Development: North Isle\\u003cbr\\u003eSold Price: $165,000.00\\u003cbr\\u003eTown: Coram\",\"Development: North Isle Village\\u003cbr\\u003eSold Price: $130,000.00\\u003cbr\\u003eTown: Coram\",\"Development: North Isle Village\\u003cbr\\u003eSold Price: $145,000.00\\u003cbr\\u003eTown: Coram\",\"Development: North Isle Village\\u003cbr\\u003eSold Price: $170,000.00\\u003cbr\\u003eTown: Coram\",\"Development: North Isles\\u003cbr\\u003eSold Price: $165,000.00\\u003cbr\\u003eTown: Coram\",\"Development: North Isle Village\\u003cbr\\u003eSold Price: $185,000.00\\u003cbr\\u003eTown: Coram\",\"Development: North Isle\\u003cbr\\u003eSold Price: $178,429.00\\u003cbr\\u003eTown: Coram\",\"Development: North Isle Village\\u003cbr\\u003eSold Price: $150,000.00\\u003cbr\\u003eTown: Coram\",\"Development: North Isle Village\\u003cbr\\u003eSold Price: $135,000.00\\u003cbr\\u003eTown: Coram\",\"Development: North Isle Village\\u003cbr\\u003eSold Price: $140,000.00\\u003cbr\\u003eTown: Coram\",\"Development: North Isle Village\\u003cbr\\u003eSold Price: $160,000.00\\u003cbr\\u003eTown: Coram\",\"Development: North Isle Village\\u003cbr\\u003eSold Price: $141,500.00\\u003cbr\\u003eTown: Coram\",\"Development: North Isle Village\\u003cbr\\u003eSold Price: $175,000.00\\u003cbr\\u003eTown: Coram\",\"Development: North Isle\\u003cbr\\u003eSold Price: $155,000.00\\u003cbr\\u003eTown: Coram\",\"Development: North Isle\\u003cbr\\u003eSold Price: $190,000.00\\u003cbr\\u003eTown: Coram\",\"Development: North Isle\\u003cbr\\u003eSold Price: $155,000.00\\u003cbr\\u003eTown: Coram\",\"Development: North Isle Village\\u003cbr\\u003eSold Price: $165,000.00\\u003cbr\\u003eTown: Coram\",\"Development: North Isle Village\\u003cbr\\u003eSold Price: $163,000.00\\u003cbr\\u003eTown: Coram\",\"Development: North Isle Village\\u003cbr\\u003eSold Price: $130,000.00\\u003cbr\\u003eTown: Coram\",\"Development: North Isle\\u003cbr\\u003eSold Price: $193,000.00\\u003cbr\\u003eTown: Coram\",\"Development: North Isle\\u003cbr\\u003eSold Price: $186,500.00\\u003cbr\\u003eTown: Coram\",\"Development: North Isle\\u003cbr\\u003eSold Price: $195,000.00\\u003cbr\\u003eTown: Coram\",\"Development: North Isle\\u003cbr\\u003eSold Price: $225,000.00\\u003cbr\\u003eTown: Coram\",\"Development: North Isle\\u003cbr\\u003eSold Price: $161,000.00\\u003cbr\\u003eTown: Coram\",\"Development: North Isle Village\\u003cbr\\u003eSold Price: $204,000.00\\u003cbr\\u003eTown: Coram\",\"Development: North Isle\\u003cbr\\u003eSold Price: $nan\\u003cbr\\u003eTown: Coram\",\"Development: North Isle\\u003cbr\\u003eSold Price: $160,000.00\\u003cbr\\u003eTown: Coram\",\"Development: North Isle\\u003cbr\\u003eSold Price: $186,000.00\\u003cbr\\u003eTown: Coram\",\"Development: North Isle Village\\u003cbr\\u003eSold Price: $nan\\u003cbr\\u003eTown: Coram\",\"Development: North Isle Village\\u003cbr\\u003eSold Price: $nan\\u003cbr\\u003eTown: Coram\",\"Development: North Isle Village\\u003cbr\\u003eSold Price: $nan\\u003cbr\\u003eTown: Coram\",\"Development: North Isle Village\\u003cbr\\u003eSold Price: $nan\\u003cbr\\u003eTown: Coram\",\"Development: North Isle\\u003cbr\\u003eSold Price: $nan\\u003cbr\\u003eTown: Coram\",\"Development: North Isle Village\\u003cbr\\u003eSold Price: $nan\\u003cbr\\u003eTown: Coram\",\"Development: North Isle Village\\u003cbr\\u003eSold Price: $nan\\u003cbr\\u003eTown: Coram\",\"Development: North Isle Village\\u003cbr\\u003eSold Price: $190,000.00\\u003cbr\\u003eTown: Coram\",\"Development: North Isle Village\\u003cbr\\u003eSold Price: $194,000.00\\u003cbr\\u003eTown: Coram\",\"Development: North Isle Village\\u003cbr\\u003eSold Price: $195,000.00\\u003cbr\\u003eTown: Coram\",\"Development: North Isle\\u003cbr\\u003eSold Price: $nan\\u003cbr\\u003eTown: Coram\"],\"type\":\"scattermapbox\"}],                        {\"template\":{\"data\":{\"histogram2dcontour\":[{\"type\":\"histogram2dcontour\",\"colorbar\":{\"outlinewidth\":0,\"ticks\":\"\"},\"colorscale\":[[0.0,\"#0d0887\"],[0.1111111111111111,\"#46039f\"],[0.2222222222222222,\"#7201a8\"],[0.3333333333333333,\"#9c179e\"],[0.4444444444444444,\"#bd3786\"],[0.5555555555555556,\"#d8576b\"],[0.6666666666666666,\"#ed7953\"],[0.7777777777777778,\"#fb9f3a\"],[0.8888888888888888,\"#fdca26\"],[1.0,\"#f0f921\"]]}],\"choropleth\":[{\"type\":\"choropleth\",\"colorbar\":{\"outlinewidth\":0,\"ticks\":\"\"}}],\"histogram2d\":[{\"type\":\"histogram2d\",\"colorbar\":{\"outlinewidth\":0,\"ticks\":\"\"},\"colorscale\":[[0.0,\"#0d0887\"],[0.1111111111111111,\"#46039f\"],[0.2222222222222222,\"#7201a8\"],[0.3333333333333333,\"#9c179e\"],[0.4444444444444444,\"#bd3786\"],[0.5555555555555556,\"#d8576b\"],[0.6666666666666666,\"#ed7953\"],[0.7777777777777778,\"#fb9f3a\"],[0.8888888888888888,\"#fdca26\"],[1.0,\"#f0f921\"]]}],\"heatmap\":[{\"type\":\"heatmap\",\"colorbar\":{\"outlinewidth\":0,\"ticks\":\"\"},\"colorscale\":[[0.0,\"#0d0887\"],[0.1111111111111111,\"#46039f\"],[0.2222222222222222,\"#7201a8\"],[0.3333333333333333,\"#9c179e\"],[0.4444444444444444,\"#bd3786\"],[0.5555555555555556,\"#d8576b\"],[0.6666666666666666,\"#ed7953\"],[0.7777777777777778,\"#fb9f3a\"],[0.8888888888888888,\"#fdca26\"],[1.0,\"#f0f921\"]]}],\"heatmapgl\":[{\"type\":\"heatmapgl\",\"colorbar\":{\"outlinewidth\":0,\"ticks\":\"\"},\"colorscale\":[[0.0,\"#0d0887\"],[0.1111111111111111,\"#46039f\"],[0.2222222222222222,\"#7201a8\"],[0.3333333333333333,\"#9c179e\"],[0.4444444444444444,\"#bd3786\"],[0.5555555555555556,\"#d8576b\"],[0.6666666666666666,\"#ed7953\"],[0.7777777777777778,\"#fb9f3a\"],[0.8888888888888888,\"#fdca26\"],[1.0,\"#f0f921\"]]}],\"contourcarpet\":[{\"type\":\"contourcarpet\",\"colorbar\":{\"outlinewidth\":0,\"ticks\":\"\"}}],\"contour\":[{\"type\":\"contour\",\"colorbar\":{\"outlinewidth\":0,\"ticks\":\"\"},\"colorscale\":[[0.0,\"#0d0887\"],[0.1111111111111111,\"#46039f\"],[0.2222222222222222,\"#7201a8\"],[0.3333333333333333,\"#9c179e\"],[0.4444444444444444,\"#bd3786\"],[0.5555555555555556,\"#d8576b\"],[0.6666666666666666,\"#ed7953\"],[0.7777777777777778,\"#fb9f3a\"],[0.8888888888888888,\"#fdca26\"],[1.0,\"#f0f921\"]]}],\"surface\":[{\"type\":\"surface\",\"colorbar\":{\"outlinewidth\":0,\"ticks\":\"\"},\"colorscale\":[[0.0,\"#0d0887\"],[0.1111111111111111,\"#46039f\"],[0.2222222222222222,\"#7201a8\"],[0.3333333333333333,\"#9c179e\"],[0.4444444444444444,\"#bd3786\"],[0.5555555555555556,\"#d8576b\"],[0.6666666666666666,\"#ed7953\"],[0.7777777777777778,\"#fb9f3a\"],[0.8888888888888888,\"#fdca26\"],[1.0,\"#f0f921\"]]}],\"mesh3d\":[{\"type\":\"mesh3d\",\"colorbar\":{\"outlinewidth\":0,\"ticks\":\"\"}}],\"scatter\":[{\"fillpattern\":{\"fillmode\":\"overlay\",\"size\":10,\"solidity\":0.2},\"type\":\"scatter\"}],\"parcoords\":[{\"type\":\"parcoords\",\"line\":{\"colorbar\":{\"outlinewidth\":0,\"ticks\":\"\"}}}],\"scatterpolargl\":[{\"type\":\"scatterpolargl\",\"marker\":{\"colorbar\":{\"outlinewidth\":0,\"ticks\":\"\"}}}],\"bar\":[{\"error_x\":{\"color\":\"#2a3f5f\"},\"error_y\":{\"color\":\"#2a3f5f\"},\"marker\":{\"line\":{\"color\":\"#E5ECF6\",\"width\":0.5},\"pattern\":{\"fillmode\":\"overlay\",\"size\":10,\"solidity\":0.2}},\"type\":\"bar\"}],\"scattergeo\":[{\"type\":\"scattergeo\",\"marker\":{\"colorbar\":{\"outlinewidth\":0,\"ticks\":\"\"}}}],\"scatterpolar\":[{\"type\":\"scatterpolar\",\"marker\":{\"colorbar\":{\"outlinewidth\":0,\"ticks\":\"\"}}}],\"histogram\":[{\"marker\":{\"pattern\":{\"fillmode\":\"overlay\",\"size\":10,\"solidity\":0.2}},\"type\":\"histogram\"}],\"scattergl\":[{\"type\":\"scattergl\",\"marker\":{\"colorbar\":{\"outlinewidth\":0,\"ticks\":\"\"}}}],\"scatter3d\":[{\"type\":\"scatter3d\",\"line\":{\"colorbar\":{\"outlinewidth\":0,\"ticks\":\"\"}},\"marker\":{\"colorbar\":{\"outlinewidth\":0,\"ticks\":\"\"}}}],\"scattermapbox\":[{\"type\":\"scattermapbox\",\"marker\":{\"colorbar\":{\"outlinewidth\":0,\"ticks\":\"\"}}}],\"scatterternary\":[{\"type\":\"scatterternary\",\"marker\":{\"colorbar\":{\"outlinewidth\":0,\"ticks\":\"\"}}}],\"scattercarpet\":[{\"type\":\"scattercarpet\",\"marker\":{\"colorbar\":{\"outlinewidth\":0,\"ticks\":\"\"}}}],\"carpet\":[{\"aaxis\":{\"endlinecolor\":\"#2a3f5f\",\"gridcolor\":\"white\",\"linecolor\":\"white\",\"minorgridcolor\":\"white\",\"startlinecolor\":\"#2a3f5f\"},\"baxis\":{\"endlinecolor\":\"#2a3f5f\",\"gridcolor\":\"white\",\"linecolor\":\"white\",\"minorgridcolor\":\"white\",\"startlinecolor\":\"#2a3f5f\"},\"type\":\"carpet\"}],\"table\":[{\"cells\":{\"fill\":{\"color\":\"#EBF0F8\"},\"line\":{\"color\":\"white\"}},\"header\":{\"fill\":{\"color\":\"#C8D4E3\"},\"line\":{\"color\":\"white\"}},\"type\":\"table\"}],\"barpolar\":[{\"marker\":{\"line\":{\"color\":\"#E5ECF6\",\"width\":0.5},\"pattern\":{\"fillmode\":\"overlay\",\"size\":10,\"solidity\":0.2}},\"type\":\"barpolar\"}],\"pie\":[{\"automargin\":true,\"type\":\"pie\"}]},\"layout\":{\"autotypenumbers\":\"strict\",\"colorway\":[\"#636efa\",\"#EF553B\",\"#00cc96\",\"#ab63fa\",\"#FFA15A\",\"#19d3f3\",\"#FF6692\",\"#B6E880\",\"#FF97FF\",\"#FECB52\"],\"font\":{\"color\":\"#2a3f5f\"},\"hovermode\":\"closest\",\"hoverlabel\":{\"align\":\"left\"},\"paper_bgcolor\":\"white\",\"plot_bgcolor\":\"#E5ECF6\",\"polar\":{\"bgcolor\":\"#E5ECF6\",\"angularaxis\":{\"gridcolor\":\"white\",\"linecolor\":\"white\",\"ticks\":\"\"},\"radialaxis\":{\"gridcolor\":\"white\",\"linecolor\":\"white\",\"ticks\":\"\"}},\"ternary\":{\"bgcolor\":\"#E5ECF6\",\"aaxis\":{\"gridcolor\":\"white\",\"linecolor\":\"white\",\"ticks\":\"\"},\"baxis\":{\"gridcolor\":\"white\",\"linecolor\":\"white\",\"ticks\":\"\"},\"caxis\":{\"gridcolor\":\"white\",\"linecolor\":\"white\",\"ticks\":\"\"}},\"coloraxis\":{\"colorbar\":{\"outlinewidth\":0,\"ticks\":\"\"}},\"colorscale\":{\"sequential\":[[0.0,\"#0d0887\"],[0.1111111111111111,\"#46039f\"],[0.2222222222222222,\"#7201a8\"],[0.3333333333333333,\"#9c179e\"],[0.4444444444444444,\"#bd3786\"],[0.5555555555555556,\"#d8576b\"],[0.6666666666666666,\"#ed7953\"],[0.7777777777777778,\"#fb9f3a\"],[0.8888888888888888,\"#fdca26\"],[1.0,\"#f0f921\"]],\"sequentialminus\":[[0.0,\"#0d0887\"],[0.1111111111111111,\"#46039f\"],[0.2222222222222222,\"#7201a8\"],[0.3333333333333333,\"#9c179e\"],[0.4444444444444444,\"#bd3786\"],[0.5555555555555556,\"#d8576b\"],[0.6666666666666666,\"#ed7953\"],[0.7777777777777778,\"#fb9f3a\"],[0.8888888888888888,\"#fdca26\"],[1.0,\"#f0f921\"]],\"diverging\":[[0,\"#8e0152\"],[0.1,\"#c51b7d\"],[0.2,\"#de77ae\"],[0.3,\"#f1b6da\"],[0.4,\"#fde0ef\"],[0.5,\"#f7f7f7\"],[0.6,\"#e6f5d0\"],[0.7,\"#b8e186\"],[0.8,\"#7fbc41\"],[0.9,\"#4d9221\"],[1,\"#276419\"]]},\"xaxis\":{\"gridcolor\":\"white\",\"linecolor\":\"white\",\"ticks\":\"\",\"title\":{\"standoff\":15},\"zerolinecolor\":\"white\",\"automargin\":true,\"zerolinewidth\":2},\"yaxis\":{\"gridcolor\":\"white\",\"linecolor\":\"white\",\"ticks\":\"\",\"title\":{\"standoff\":15},\"zerolinecolor\":\"white\",\"automargin\":true,\"zerolinewidth\":2},\"scene\":{\"xaxis\":{\"backgroundcolor\":\"#E5ECF6\",\"gridcolor\":\"white\",\"linecolor\":\"white\",\"showbackground\":true,\"ticks\":\"\",\"zerolinecolor\":\"white\",\"gridwidth\":2},\"yaxis\":{\"backgroundcolor\":\"#E5ECF6\",\"gridcolor\":\"white\",\"linecolor\":\"white\",\"showbackground\":true,\"ticks\":\"\",\"zerolinecolor\":\"white\",\"gridwidth\":2},\"zaxis\":{\"backgroundcolor\":\"#E5ECF6\",\"gridcolor\":\"white\",\"linecolor\":\"white\",\"showbackground\":true,\"ticks\":\"\",\"zerolinecolor\":\"white\",\"gridwidth\":2}},\"shapedefaults\":{\"line\":{\"color\":\"#2a3f5f\"}},\"annotationdefaults\":{\"arrowcolor\":\"#2a3f5f\",\"arrowhead\":0,\"arrowwidth\":1},\"geo\":{\"bgcolor\":\"white\",\"landcolor\":\"#E5ECF6\",\"subunitcolor\":\"white\",\"showland\":true,\"showlakes\":true,\"lakecolor\":\"white\"},\"title\":{\"x\":0.05},\"mapbox\":{\"style\":\"light\"}}},\"mapbox\":{\"center\":{\"lon\":-73.264,\"lat\":40.7891},\"style\":\"stamen-terrain\",\"zoom\":9}},                        {\"responsive\": true}                    ).then(function(){\n",
              "                            \n",
              "var gd = document.getElementById('eef78beb-2e3b-4115-8586-d1bb66eaabee');\n",
              "var x = new MutationObserver(function (mutations, observer) {{\n",
              "        var display = window.getComputedStyle(gd).display;\n",
              "        if (!display || display === 'none') {{\n",
              "            console.log([gd, 'removed!']);\n",
              "            Plotly.purge(gd);\n",
              "            observer.disconnect();\n",
              "        }}\n",
              "}});\n",
              "\n",
              "// Listen for the removal of the full notebook cells\n",
              "var notebookContainer = gd.closest('#notebook-container');\n",
              "if (notebookContainer) {{\n",
              "    x.observe(notebookContainer, {childList: true});\n",
              "}}\n",
              "\n",
              "// Listen for the clearing of the current output cell\n",
              "var outputEl = gd.closest('.output');\n",
              "if (outputEl) {{\n",
              "    x.observe(outputEl, {childList: true});\n",
              "}}\n",
              "\n",
              "                        })                };                            </script>        </div>\n",
              "</body>\n",
              "</html>"
            ]
          },
          "metadata": {}
        }
      ]
    },
    {
      "cell_type": "code",
      "source": [],
      "metadata": {
        "id": "mqfUv8iZMT86"
      },
      "execution_count": null,
      "outputs": []
    }
  ]
}